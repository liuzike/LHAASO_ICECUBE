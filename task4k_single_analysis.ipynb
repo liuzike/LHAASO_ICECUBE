{
 "cells": [
  {
   "cell_type": "code",
   "execution_count": 1,
   "metadata": {
    "ExecuteTime": {
     "end_time": "2024-03-31T09:45:30.255647Z",
     "start_time": "2024-03-31T09:44:52.414860Z"
    }
   },
   "outputs": [
    {
     "name": "stdout",
     "output_type": "stream",
     "text": [
      "read icdata\n",
      "read uptdata\n",
      "read eadata\n",
      "read mspdata\n"
     ]
    }
   ],
   "source": [
    "# from core import readfiles\n",
    "import numpy as np\n",
    "import os\n",
    "import multiprocessing as mul\n",
    "import matplotlib.pyplot as plt\n",
    "from numba import jit, njit, prange, set_num_threads, vectorize, guvectorize, cuda\n",
    "from tqdm import tqdm\n",
    "from core.signal_bag import *\n",
    "from core.stacking_analysis import *\n",
    "from core.req_vectors import *\n",
    "import pickle\n",
    "import scipy.stats as st\n",
    "import scipy.interpolate as interp\n",
    "# import torch\n",
    "# from core import weights"
   ]
  },
  {
   "cell_type": "code",
   "execution_count": 24,
   "metadata": {},
   "outputs": [
    {
     "name": "stdout",
     "output_type": "stream",
     "text": [
      "['1LHAASOJ0007+5659u  ', '1LHAASOJ0007+7303u', '1LHAASOJ0056+6346u', '1LHAASOJ0206+4302u', '1LHAASOJ0212+4254u', '1LHAASOJ0216+4237u', '1LHAASOJ0249+6022', '1LHAASOJ0339+5307', '1LHAASOJ0343+5254u*', '1LHAASOJ0359+5406', '1LHAASOJ0428+5531*', '1LHAASOJ0534+3533', '1LHAASOJ0534+2200u', '1LHAASOJ0542+2311u', '1LHAASOJ0622+3754', '1LHAASOJ0631+1040', '1LHAASOJ0634+1741u', '1LHAASOJ0635+0619', '1LHAASOJ0703+1405 ', '1LHASSOJ1809-1918u', '1LHAASOJ1740+0948u ', '1LHASSOJ1813-1245', '1LHAASSOJ1814-1719u*', '1LHAASOJ1814-1636u', '1LHAASOJ1825-1418', ' 1LHAASO J1825-1256u ', '1LHAASOJ1825-1337u', '1LHAASOJ1831-1007u*', '1LHAASOJ1831-1028', '1LHAASOJ1834-0831', '1LHAASOJ1837-0654u', '1LHAASOJ1839-0548u', '1LHAASOJ1841-0519', '1LHAASOJ1843-0335u', '1LHAASOJ1848-0153u', '1LHAASOJ1848-0001u', '1LHAASOJ1850-0004u*', '1LHAASOJ1852+0050u*', '1LHAASOJ1857+0203u', '1LHAASOJ1858+0330', '1LHAASOJ1908+0615u ', '1LHAASOJ1910+0516*', '1LHAASOJ1912+1014u', '1LHAASOJ1913+0501', ' 1LHAASO J1914+1150u ', '1LHAASOJ1919+1556', '1LHAASOJ1922+1403', '1LHAASOJ1924+1609', '1LHAASOJ1928+1813u', '1LHAASOJ1928+1746u', '1LHAASOJ1929+1846u*', '1LHAASOJ1931+1653', '1LHAASOJ1937+2128', '1LHAASOJ1945+2424*', '1LHAASOJ1951+2608', '1LHAASOJ1954+2836u', '1LHAASOJ1956+2921', '1LHAASOJ1959+2846u', '1LHAASOJ1959+1129u', '1LHAASOJ2002+3244u', '1LHAASOJ2005+3415*', '1LHAASOJ2005+3050', '1LHAASOJ2018+3643u', '1LHAASOJ2020+4034', '1LHAASOJ2020+3649u', '1LHAASOJ2027+3657', '1LHAASOJ2028+3352', '1LHAASOJ2031+4052u*', '1LHAASOJ2031+4127u', '1LHAASOJ2047+4434', '1LHAASOJ2108+5153u', '1LHAASOJ2200+5643u', '1LHAASOJ2228+6100u', '1LHAASOJ2229+5927u', '1LHAASOJ2238+5900']\n"
     ]
    }
   ],
   "source": [
    "print(lhsaao1name)"
   ]
  },
  {
   "cell_type": "code",
   "execution_count": 2,
   "metadata": {},
   "outputs": [],
   "source": [
    "from numba import jit, njit, prange, set_num_threads, vectorize\n",
    "from numba.experimental import jitclass"
   ]
  },
  {
   "cell_type": "code",
   "execution_count": 93,
   "metadata": {},
   "outputs": [],
   "source": [
    "from matplotlib.ticker import MaxNLocator, NullLocator,AutoMinorLocator\n",
    "from matplotlib.colors import LinearSegmentedColormap\n",
    "from matplotlib.ticker import ScalarFormatter"
   ]
  },
  {
   "cell_type": "code",
   "execution_count": 3,
   "metadata": {},
   "outputs": [],
   "source": [
    "from scipy.optimize import curve_fit\n",
    "from lmfit.models import GaussianModel\n"
   ]
  },
  {
   "cell_type": "code",
   "execution_count": 95,
   "metadata": {},
   "outputs": [
    {
     "name": "stdout",
     "output_type": "stream",
     "text": [
      "(1134450,)\n",
      "(95,)\n",
      "(1134450,)\n",
      "(275,)\n",
      "275\n"
     ]
    }
   ],
   "source": [
    "print(icra.shape)\n",
    "print(hess_ra.shape)\n",
    "print(icdec.shape)\n",
    "print(icetrackdec.shape)\n",
    "print(len(icetrackdeng))"
   ]
  },
  {
   "cell_type": "code",
   "execution_count": 6,
   "metadata": {},
   "outputs": [
    {
     "name": "stdout",
     "output_type": "stream",
     "text": [
      "(1134450,) (1134450,) (1134450,) (170,)\n"
     ]
    }
   ],
   "source": [
    "gammaraysrc1ra=np.concatenate([lhsaao1ra, hess_ra], 0)\n",
    "gammaraysrc1dec=np.concatenate([lhsaao1dec, hess_dec], 0)\n",
    "gammaraysrc1name=lhsaao1name+hess_name\n",
    "gammaraysrc2ra=np.concatenate([lhsaao2ra, hess_ra], 0)\n",
    "gammaraysrc2name=lhsaao2name+hess_name\n",
    "gammaraysrc2dec=np.concatenate([lhsaao2dec, hess_dec], 0)\n",
    "# icra=np.hstack([icra,icetrackra])\n",
    "\n",
    "# icdec=np.hstack([icdec,icetrackdec])\n",
    "# icang=np.hstack([icang,icetrackdeng])\n",
    "\n",
    "print(icdec.shape,icang.shape,icra.shape,gammaraysrc1ra.shape)"
   ]
  },
  {
   "cell_type": "code",
   "execution_count": 5,
   "metadata": {},
   "outputs": [
    {
     "ename": "NameError",
     "evalue": "name 'Ts_max' is not defined",
     "output_type": "error",
     "traceback": [
      "\u001b[0;31m---------------------------------------------------------------------------\u001b[0m",
      "\u001b[0;31mNameError\u001b[0m                                 Traceback (most recent call last)",
      "Cell \u001b[0;32mIn[5], line 1\u001b[0m\n\u001b[0;32m----> 1\u001b[0m \u001b[38;5;28mprint\u001b[39m(np\u001b[38;5;241m.\u001b[39mwhere(\u001b[43mTs_max\u001b[49m \u001b[38;5;241m==\u001b[39m \u001b[38;5;241m1.7101911937971834\u001b[39m))\n",
      "\u001b[0;31mNameError\u001b[0m: name 'Ts_max' is not defined"
     ]
    }
   ],
   "source": [
    "print(np.where(Ts_max == 1.7101911937971834))"
   ]
  },
  {
   "cell_type": "code",
   "execution_count": 8,
   "metadata": {},
   "outputs": [
    {
     "name": "stdout",
     "output_type": "stream",
     "text": [
      " HESS J1912+101\n"
     ]
    }
   ],
   "source": [
    "print(gammaraysrc1name[118])"
   ]
  },
  {
   "cell_type": "code",
   "execution_count": 9,
   "metadata": {},
   "outputs": [],
   "source": [
    "num_threads = int(mul.cpu_count()*0.9)\n",
    "set_num_threads(num_threads)"
   ]
  },
  {
   "cell_type": "code",
   "execution_count": 10,
   "metadata": {},
   "outputs": [],
   "source": [
    "#Compute the signal PDF for all neutrinos as per eqns 6, 7 and weights as per eqn 8 of 2205.15963\n",
    "\n",
    "@njit(nogil=True)\n",
    "def S_ijk(i,nu): \n",
    "\n",
    "    '''\n",
    "    Calculates S_ij as in EQN 7 of 2205.15963\n",
    "    ----------\n",
    "\n",
    "    Parameters\n",
    "    ----------\n",
    "    nu : int\n",
    "        Index of the neutrino in the sample\n",
    "        \n",
    "    \n",
    "    Returns\n",
    "    -------\n",
    "        Returns the signal PDF for the {psrno}th pulsar and nuind_inp neutrino\n",
    "    '''\n",
    "    ang2 = hvovec(gammaraysrc1ra[i], gammaraysrc1dec[i], icra[nu], icdec[nu], rad=True) ** 2      #rad**2\n",
    "    sg = np.deg2rad(icang[nu]) ** 2                                     #rad**2\n",
    "    return np.divide(np.exp(-1 * np.divide(ang2, 2*sg)), (2 * np.pi * sg))      #1/rad**2\n",
    "\n",
    "# @jit(nopython=True)\n",
    "@vectorize(['float64(int64)'], nopython=True,target='parallel')\n",
    "def Bi_single_compute(i):\n",
    "\n",
    "    '''\n",
    "    Calculates B_i as in EQN 9 of 2205.15963\n",
    "    ----------\n",
    "\n",
    "    Parameters\n",
    "    ----------\n",
    "    nu : int\n",
    "        Index of the neutrino from IceCube sample\n",
    "    cone : float\n",
    "        Cone angle in degrees.\n",
    "    \n",
    "\n",
    "    Returns\n",
    "    -------\n",
    "    float\n",
    "        Returns the background PDF for the {nu}th neutrino\n",
    "    '''\n",
    "\n",
    "    # count = np.sum(np.abs(np.subtract(icdec, icdec[nu])) <= cone)\n",
    "    # count=0\n",
    "    # for n in prange(len(icdec)):\n",
    "    #     if abs(icdec[n] - lhsaao1dec[i]) <= 5:\n",
    "    #         count+=1\n",
    "    binwidth = (np.sin(np.deg2rad(gammaraysrc1dec[i] + 5)) - np.sin(np.deg2rad(gammaraysrc1dec[i] - 5)))*2*np.pi\n",
    "    return 1/binwidth           #No units or sr**-1"
   ]
  },
  {
   "cell_type": "code",
   "execution_count": 99,
   "metadata": {},
   "outputs": [],
   "source": [
    "@jit(nopython=True)\n",
    "def Pr(x, Ns, S, B):\n",
    "    nsN = x/Ns\n",
    "    return np.add(np.multiply(nsN , S), np.multiply(np.subtract(1, nsN), B))\n",
    "\n",
    "\n",
    "\n",
    "@njit(nogil=True)\n",
    "# d@njit(nogil=True)\n",
    "def TS_st_vec(x, S, B, Ns):\n",
    "    nsN = x/Ns\n",
    "    pr = np.add(np.multiply(nsN , S), np.multiply(np.subtract(1, nsN), B))\n",
    "    return np.sum(np.asfarray(2*np.log10(pr/B)))\n",
    "\n",
    "lnu = 1134450\n",
    "Ns = lnu#np.count_nonzero(nuind+1)"
   ]
  },
  {
   "cell_type": "code",
   "execution_count": 100,
   "metadata": {},
   "outputs": [],
   "source": [
    "def calc_chisquare(meas, sigma, fit): \n",
    "    diff = pow(meas-fit, 2.)\n",
    "    test_statistic = (diff / pow(sigma,2.)).sum()\n",
    "    return  test_statistic"
   ]
  },
  {
   "cell_type": "code",
   "execution_count": 101,
   "metadata": {},
   "outputs": [
    {
     "ename": "KeyboardInterrupt",
     "evalue": "",
     "output_type": "error",
     "traceback": [
      "\u001b[0;31m---------------------------------------------------------------------------\u001b[0m",
      "\u001b[0;31mKeyboardInterrupt\u001b[0m                         Traceback (most recent call last)",
      "Cell \u001b[0;32mIn[101], line 36\u001b[0m\n\u001b[1;32m     19\u001b[0m     \u001b[38;5;66;03m#print(B_i)\u001b[39;00m\n\u001b[1;32m     20\u001b[0m     \u001b[38;5;66;03m# P_i=Pr(count,Ns,S_i,B_i)\u001b[39;00m\n\u001b[1;32m     21\u001b[0m \u001b[38;5;66;03m#     ns=np.zeros(count)\u001b[39;00m\n\u001b[1;32m     23\u001b[0m     \u001b[38;5;28;01mfor\u001b[39;00m c \u001b[38;5;129;01min\u001b[39;00m prange(\u001b[38;5;28mlen\u001b[39m(count_arr)):\n\u001b[1;32m     24\u001b[0m \n\u001b[1;32m     25\u001b[0m         \u001b[38;5;66;03m# P_i=[]\u001b[39;00m\n\u001b[0;32m   (...)\u001b[0m\n\u001b[1;32m     34\u001b[0m         \u001b[38;5;66;03m# Lns[c]=np.prod(P_i)\u001b[39;00m\n\u001b[1;32m     35\u001b[0m         \u001b[38;5;66;03m# Ts_vec=TS_st_vec()\u001b[39;00m\n\u001b[0;32m---> 36\u001b[0m         Ts\u001b[38;5;241m=\u001b[39m\u001b[43mTS_st_vec\u001b[49m\u001b[43m(\u001b[49m\u001b[43mc\u001b[49m\u001b[38;5;241;43m+\u001b[39;49m\u001b[38;5;241;43m1\u001b[39;49m\u001b[43m,\u001b[49m\u001b[43mS_i\u001b[49m\u001b[43m,\u001b[49m\u001b[43mB_i\u001b[49m\u001b[43m,\u001b[49m\u001b[43mNs\u001b[49m\u001b[43m)\u001b[49m\n\u001b[1;32m     37\u001b[0m         Ts_vec\u001b[38;5;241m.\u001b[39mappend(Ts)\n\u001b[1;32m     38\u001b[0m     Ts_vec\u001b[38;5;241m=\u001b[39m [a_ \u001b[38;5;28;01mfor\u001b[39;00m a_ \u001b[38;5;129;01min\u001b[39;00m Ts_vec \u001b[38;5;28;01mif\u001b[39;00m a_ \u001b[38;5;241m==\u001b[39m a_]\n",
      "\u001b[0;31mKeyboardInterrupt\u001b[0m: "
     ]
    }
   ],
   "source": [
    "#lenic=1134450\n",
    "Ts_max=[]\n",
    "C=[]\n",
    "for i in prange(len(gammaraysrc1ra)):\n",
    "    Ts_vec=[]\n",
    "    S_i=[]\n",
    "\n",
    "    count_in_decl=0\n",
    "    for n in prange(len(icdec)):\n",
    "        if abs(icdec[n] - gammaraysrc1dec[i]) <= 5:\n",
    "            count_in_decl+=1\n",
    "            S_i.append(S_ijk(i,n))\n",
    "    S_i=np.array(S_i)\n",
    "    #solid_angle=(np.sin(np.deg2rad(lhsaao1dec[i] + 5)) - np.sin(np.deg2rad(lhsaao1dec[i] - 5)))*2*np.pi\n",
    "    #B_i=count/(solid_angle * lenic)\n",
    "    count_arr=[i for i in range(count_in_decl)]\n",
    "    print\n",
    "    B_i=Bi_single_compute(i)\n",
    "    #print(B_i)\n",
    "    # P_i=Pr(count,Ns,S_i,B_i)\n",
    "#     ns=np.zeros(count)\n",
    "   \n",
    "    for c in prange(len(count_arr)):\n",
    "\n",
    "        # P_i=[]\n",
    "        # for j in range(len(S_i)):\n",
    "        #     Pi=Pr(count_arr[c],Ns,S_i[j],B_i)\n",
    "        #     Pi=2*np.log10(Pi/B_i)\n",
    "        #     P_i.append(Pi)\n",
    "        #Ts=np.sum(P_i)\n",
    "        # print(count_arr[c],S_i[1],B_i,Ns)\n",
    "        # ns[c]= c\n",
    "        # P_i=(c/count)*S_i+(1-c/count)*B_i\n",
    "        # Lns[c]=np.prod(P_i)\n",
    "        # Ts_vec=TS_st_vec()\n",
    "        Ts=TS_st_vec(c+1,S_i,B_i,Ns)\n",
    "        Ts_vec.append(Ts)\n",
    "    Ts_vec= [a_ for a_ in Ts_vec if a_ == a_]\n",
    "\n",
    "    C.append(count_arr[np.argmax(Ts_vec)])\n",
    "    Ts_max.append(Ts_vec[np.argmax(Ts_vec)])\n",
    "if os.path.exists('Ts_max.txt'):\n",
    "    os.remove('Ts_max.txt')\n",
    "    \n",
    "with open ('Ts_max.txt','a+') as f:\n",
    "     #Ts.append\n",
    "    for i in range(len(Ts_max)):\n",
    "        f.write(str(C[i]))\n",
    "        f.write('   ')\n",
    "        f.write(str(Ts_max[i]))\n",
    "        f.write('\\n')\n",
    "    f.close()"
   ]
  },
  {
   "cell_type": "code",
   "execution_count": null,
   "metadata": {},
   "outputs": [
    {
     "name": "stdout",
     "output_type": "stream",
     "text": [
      "[1.0, 2.0, 3.0, -3.0, 4.0, 5.0, 6.0, 7.0, 8.0, 9.0]\n"
     ]
    }
   ],
   "source": [
    "mylist=[ 1., 2.,  3., -3.0, np.nan,  4.,  5.,  6., np.nan,  7.,  8.,  9., np.nan]\n",
    "mylist= [a_ for a_ in mylist if a_ == a_]\n",
    "print(mylist)"
   ]
  },
  {
   "cell_type": "code",
   "execution_count": 74,
   "metadata": {},
   "outputs": [
    {
     "name": "stdout",
     "output_type": "stream",
     "text": [
      "[-1.18729967e-03  1.93154841e-02  5.24200152e-02 -3.46506734e-03\n",
      " -3.48099871e-04 -8.33482603e-03  3.51303548e-02 -1.29023138e-03\n",
      "  1.67328226e-01 -7.30851134e-04  2.84492983e-01 -4.89934066e-03\n",
      " -1.30306600e-03 -8.77589368e-03 -8.75925856e-03  2.78437765e-03\n",
      " -5.20084848e-03  3.38669944e-01  9.50891598e-02  2.32369207e-01\n",
      " -3.14164198e-03  5.92379816e-01  5.07056542e-01  6.35775977e-01\n",
      " -3.73108273e-03 -1.48333608e-02 -1.42618036e-02 -1.35700301e-02\n",
      " -2.29635594e-02  2.24570836e-03  8.11030376e-02 -8.08266345e-03\n",
      " -1.62909822e-02 -1.58464788e-02 -3.95242930e-03  5.69000831e-01\n",
      "  4.26627363e-01  7.25608872e-01  4.28903950e-01  2.05751496e-01\n",
      " -6.01977178e-03  7.02248117e-01  6.04893934e-01  5.96297864e-01\n",
      " -2.83336494e-03  5.33171620e-04 -1.63841642e-02 -3.10904039e-03\n",
      "  1.88258263e-01  8.77526335e-02  2.02557428e-02  1.42448728e+00\n",
      "  2.10644386e-01  2.87574143e-03 -1.95204156e-03  4.25917572e-01\n",
      "  3.70469876e-01 -3.64021551e-03 -3.24614896e-03  4.28745968e-01\n",
      " -8.16812665e-03 -3.37163796e-03  2.63499209e-02 -1.31625053e-03\n",
      " -4.09620307e-03  7.45619539e-02 -1.94734295e-03  8.91151341e-01\n",
      "  8.46583433e-01 -3.39536183e-03  1.05681177e-01 -9.72083204e-04\n",
      " -3.98156068e-03  6.67386799e-03 -2.20306162e-03 -8.54656914e-03\n",
      "  3.13031896e-01 -9.73814000e-03 -1.87139498e-02 -7.01482616e-03\n",
      "  1.92044977e-01 -3.30571952e-03  3.65649479e-01 -1.38305379e-02\n",
      "  3.86788731e-02 -5.45563823e-03 -6.27617644e-04 -1.73862069e-03\n",
      " -1.39692005e-02  1.04524150e-03 -1.48961767e-03 -4.44658526e-03\n",
      "  2.44098162e+00 -8.11328858e-03 -7.80196366e-04  1.09105632e-03\n",
      "  1.25357668e+00 -5.12323240e-03  3.02835724e-03 -1.99723498e-02\n",
      "  7.17070201e-01  4.01425011e-02 -1.11127748e-02 -5.77312756e-03\n",
      " -1.83853774e-03 -8.86690518e-03 -4.19749029e-03 -1.71043547e-03\n",
      " -4.08952803e-03 -1.45058855e-02  1.07273727e+00  3.36049516e-02\n",
      "  9.59035412e-02 -9.40045467e-03 -2.26015452e-03  1.51737164e-01\n",
      "  2.38227713e-01 -4.01937651e-03  1.71019119e+00 -2.48230117e-03\n",
      " -1.07809995e-02 -3.02113187e-03  1.19870932e+00 -4.10528476e-03\n",
      "  6.89978730e-01  1.83041454e+00  7.15679567e-01  1.42540132e-02\n",
      "  3.18487019e-04 -6.46013352e-03 -4.80243249e-03 -7.44273848e-03\n",
      "  9.43918258e-02  1.20274807e-01  5.13430514e-01  1.63601344e-01\n",
      " -1.08996657e-02 -1.04276797e-03  4.59706496e+00 -2.31975400e-03\n",
      " -6.81153156e-03 -1.27335143e-02  2.01849287e-01 -5.42014092e-03\n",
      " -1.68510300e-02 -5.94698944e-03 -1.25949450e-02  7.30509912e-01\n",
      "  5.35413364e-01 -3.90433234e-03 -8.26278554e-03  1.66657239e-02\n",
      " -1.24987640e-02 -1.08174446e-02  3.53796606e-01 -1.65857152e-03\n",
      " -1.86698960e-03 -4.96541392e-03 -7.99924150e-03  1.38727884e-01\n",
      " -7.40561260e-04 -8.95179849e-04  2.69339468e-01  1.11664507e-01\n",
      " -1.31523305e-02 -3.67705513e-03 -6.22333533e-03  1.05641503e-01\n",
      "  1.06486850e-01 -9.39934013e-04]\n"
     ]
    }
   ],
   "source": [
    "import numpy as  np\n",
    "Ts_max=np.loadtxt('Ts_max.txt',usecols=(1),dtype=float)\n",
    "print(Ts_max)"
   ]
  },
  {
   "cell_type": "code",
   "execution_count": null,
   "metadata": {},
   "outputs": [],
   "source": [
    "Ts_max_plus=Ts_max()"
   ]
  },
  {
   "cell_type": "code",
   "execution_count": 22,
   "metadata": {},
   "outputs": [
    {
     "name": "stdout",
     "output_type": "stream",
     "text": [
      "[-2.29635594e-02 -1.99723498e-02 -1.87139498e-02 -1.68510300e-02\n",
      " -1.63841642e-02 -1.62909822e-02 -1.58464788e-02 -1.48333608e-02\n",
      " -1.45058855e-02 -1.42618036e-02 -1.39692005e-02 -1.38305379e-02\n",
      " -1.35700301e-02 -1.31523305e-02 -1.27335143e-02 -1.25949450e-02\n",
      " -1.24987640e-02 -1.11127748e-02 -1.08996657e-02 -1.08174446e-02\n",
      " -1.07809995e-02 -9.73814000e-03 -9.40045467e-03 -8.86690518e-03\n",
      " -8.77589368e-03 -8.75925856e-03 -8.54656914e-03 -8.33482603e-03\n",
      " -8.26278554e-03 -8.16812665e-03 -8.11328858e-03 -8.08266345e-03\n",
      " -7.99924150e-03 -7.44273848e-03 -7.01482616e-03 -6.81153156e-03\n",
      " -6.46013352e-03 -6.22333533e-03 -6.01977178e-03 -5.94698944e-03\n",
      " -5.77312756e-03 -5.45563823e-03 -5.42014092e-03 -5.20084848e-03\n",
      " -5.12323240e-03 -4.96541392e-03 -4.89934066e-03 -4.80243249e-03\n",
      " -4.44658526e-03 -4.19749029e-03 -4.10528476e-03 -4.09620307e-03\n",
      " -4.08952803e-03 -4.01937651e-03 -3.98156068e-03 -3.95242930e-03\n",
      " -3.90433234e-03 -3.73108273e-03 -3.67705513e-03 -3.64021551e-03\n",
      " -3.46506734e-03 -3.39536183e-03 -3.37163796e-03 -3.30571952e-03\n",
      " -3.24614896e-03 -3.14164198e-03 -3.10904039e-03 -3.02113187e-03\n",
      " -2.83336494e-03 -2.48230117e-03 -2.31975400e-03 -2.26015452e-03\n",
      " -2.20306162e-03 -1.95204156e-03 -1.94734295e-03 -1.86698960e-03\n",
      " -1.83853774e-03 -1.73862069e-03 -1.71043547e-03 -1.65857152e-03\n",
      " -1.48961767e-03 -1.31625053e-03 -1.30306600e-03 -1.29023138e-03\n",
      " -1.18729967e-03 -1.04276797e-03 -9.72083204e-04 -9.39934013e-04\n",
      " -8.95179849e-04 -7.80196366e-04 -7.40561260e-04 -7.30851134e-04\n",
      " -6.27617644e-04 -3.48099871e-04  3.18487019e-04  5.33171620e-04\n",
      "  1.04524150e-03  1.09105632e-03  2.24570836e-03  2.78437765e-03\n",
      "  2.87574143e-03  3.02835724e-03  6.67386799e-03  1.42540132e-02\n",
      "  1.66657239e-02  1.93154841e-02  2.02557428e-02  2.63499209e-02\n",
      "  3.36049516e-02  3.51303548e-02  3.86788731e-02  4.01425011e-02\n",
      "  5.24200152e-02  7.45619539e-02  8.11030376e-02  8.77526335e-02\n",
      "  9.43918258e-02  9.50891598e-02  9.59035412e-02  1.05641503e-01\n",
      "  1.05681177e-01  1.06486850e-01  1.11664507e-01  1.20274807e-01\n",
      "  1.38727884e-01  1.51737164e-01  1.63601344e-01  1.67328226e-01\n",
      "  1.88258263e-01  1.92044977e-01  2.01849287e-01  2.05751496e-01\n",
      "  2.10644386e-01  2.32369207e-01  2.38227713e-01  2.69339468e-01\n",
      "  2.84492983e-01  3.13031896e-01  3.38669944e-01  3.53796606e-01\n",
      "  3.65649479e-01  3.70469876e-01  4.25917572e-01  4.26627363e-01\n",
      "  4.28745968e-01  4.28903950e-01  5.07056542e-01  5.13430514e-01\n",
      "  5.35413364e-01  5.69000831e-01  5.92379816e-01  5.96297864e-01\n",
      "  6.04893934e-01  6.35775977e-01  6.89978730e-01  7.02248117e-01\n",
      "  7.15679567e-01  7.17070201e-01  7.25608872e-01  7.30509912e-01\n",
      "  8.46583433e-01  8.91151341e-01  1.07273727e+00  1.19870932e+00\n",
      "  1.25357668e+00  1.42448728e+00  1.71019119e+00  1.83041454e+00\n",
      "  2.44098162e+00  4.59706496e+00]\n"
     ]
    }
   ],
   "source": [
    "print(np.sort(Ts_max))\n",
    "np.percentail"
   ]
  },
  {
   "cell_type": "code",
   "execution_count": 50,
   "metadata": {},
   "outputs": [
    {
     "name": "stdout",
     "output_type": "stream",
     "text": [
      "10.0\n",
      "-0.022963559374714577\n"
     ]
    }
   ],
   "source": [
    "import math\n",
    "\n",
    "def percentile(data, perc: int):\n",
    "    size = len(data)\n",
    "    return sorted(data)[int(math.ceil((size * perc) / 100)) - 1]\n",
    "\n",
    "print(percentile([10.0, 1.0], 80))\n",
    "print(np.percentile(Ts_max,0.000000000000002))\n",
    "# 9.0\n",
    "# percentile([142, 232, 290, 120, 274, 123, 146, 113, 272, 119, 124, 277, 207], 2)\n",
    "# 146"
   ]
  },
  {
   "cell_type": "code",
   "execution_count": 22,
   "metadata": {},
   "outputs": [
    {
     "name": "stdout",
     "output_type": "stream",
     "text": [
      "170\n"
     ]
    }
   ],
   "source": [
    "Ts_max= [a_ for a_ in Ts_max if a_ == a_]\n",
    "print(len(Ts_max))"
   ]
  },
  {
   "cell_type": "code",
   "execution_count": 29,
   "metadata": {},
   "outputs": [
    {
     "name": "stdout",
     "output_type": "stream",
     "text": [
      "-0.001187299670599866\n"
     ]
    }
   ],
   "source": [
    "Ts_max=np.array(Ts_max)\n",
    "print(Ts_max[0])\n"
   ]
  },
  {
   "cell_type": "code",
   "execution_count": 32,
   "metadata": {},
   "outputs": [
    {
     "ename": "AttributeError",
     "evalue": "'numpy.ndarray' object has no attribute 'value'",
     "output_type": "error",
     "traceback": [
      "\u001b[0;31m---------------------------------------------------------------------------\u001b[0m",
      "\u001b[0;31mAttributeError\u001b[0m                            Traceback (most recent call last)",
      "Cell \u001b[0;32mIn[32], line 1\u001b[0m\n\u001b[0;32m----> 1\u001b[0m \u001b[43mnp\u001b[49m\u001b[38;5;241;43m.\u001b[39;49m\u001b[43mwhere\u001b[49m\u001b[43m(\u001b[49m\u001b[43mTs_max\u001b[49m\u001b[43m \u001b[49m\u001b[38;5;241;43m==\u001b[39;49m\u001b[43m \u001b[49m\u001b[38;5;241;43m4.597064963983218\u001b[39;49m\u001b[43m)\u001b[49m\u001b[43m[\u001b[49m\u001b[38;5;241;43m0\u001b[39;49m\u001b[43m]\u001b[49m\u001b[38;5;241;43m.\u001b[39;49m\u001b[43mvalue\u001b[49m()\n",
      "\u001b[0;31mAttributeError\u001b[0m: 'numpy.ndarray' object has no attribute 'value'"
     ]
    }
   ],
   "source": [
    "np.where(Ts_max == 4.597064963983218)[0]"
   ]
  },
  {
   "cell_type": "code",
   "execution_count": 18,
   "metadata": {},
   "outputs": [
    {
     "name": "stdout",
     "output_type": "stream",
     "text": [
      "[]\n"
     ]
    }
   ],
   "source": [
    "gamma1st=Ts_max[np.where(Ts_max==4.59706496e+00)]\n",
    "print(gamma1st)"
   ]
  },
  {
   "cell_type": "code",
   "execution_count": null,
   "metadata": {},
   "outputs": [],
   "source": []
  },
  {
   "cell_type": "markdown",
   "metadata": {},
   "source": [
    "\n"
   ]
  },
  {
   "cell_type": "code",
   "execution_count": 147,
   "metadata": {},
   "outputs": [
    {
     "name": "stdout",
     "output_type": "stream",
     "text": [
      "[-1.18729967e-03  1.93154841e-02  5.24200152e-02 -3.46506734e-03\n",
      " -3.48099871e-04 -8.33482603e-03  3.51303548e-02 -1.29023138e-03\n",
      "  1.67328226e-01 -7.30851134e-04  2.84492983e-01 -4.89934066e-03\n",
      " -1.30306600e-03 -8.77589368e-03 -8.75925856e-03  2.78437765e-03\n",
      " -5.20084848e-03  3.38669944e-01  9.50891598e-02  2.32369207e-01\n",
      " -3.14164198e-03  5.92379816e-01  5.07056542e-01  6.35775977e-01\n",
      " -3.73108273e-03 -1.48333608e-02 -1.42618036e-02 -1.35700301e-02\n",
      " -2.29635594e-02  2.24570836e-03  8.11030376e-02 -8.08266345e-03\n",
      " -1.62909822e-02 -1.58464788e-02 -3.95242930e-03  5.69000831e-01\n",
      "  4.26627363e-01  7.25608872e-01  4.28903950e-01  2.05751496e-01\n",
      " -6.01977178e-03  7.02248117e-01  6.04893934e-01  5.96297864e-01\n",
      " -2.83336494e-03  5.33171620e-04 -1.63841642e-02 -3.10904039e-03\n",
      "  1.88258263e-01  8.77526335e-02  2.02557428e-02  1.42448728e+00\n",
      "  2.10644386e-01  2.87574143e-03 -1.95204156e-03  4.25917572e-01\n",
      "  3.70469876e-01 -3.64021551e-03 -3.24614896e-03  4.28745968e-01\n",
      " -8.16812665e-03 -3.37163796e-03  2.63499209e-02 -1.31625053e-03\n",
      " -4.09620307e-03  7.45619539e-02 -1.94734295e-03  8.91151341e-01\n",
      "  8.46583433e-01 -3.39536183e-03  1.05681177e-01 -9.72083204e-04\n",
      " -3.98156068e-03  6.67386799e-03 -2.20306162e-03 -8.54656914e-03\n",
      "  3.13031896e-01 -9.73814000e-03 -1.87139498e-02 -7.01482616e-03\n",
      "  1.92044977e-01 -3.30571952e-03  3.65649479e-01 -1.38305379e-02\n",
      "  3.86788731e-02 -5.45563823e-03 -6.27617644e-04 -1.73862069e-03\n",
      " -1.39692005e-02  1.04524150e-03 -1.48961767e-03 -4.44658526e-03\n",
      "  2.44098162e+00 -8.11328858e-03 -7.80196366e-04  1.09105632e-03\n",
      "  1.25357668e+00 -5.12323240e-03  3.02835724e-03 -1.99723498e-02\n",
      "  7.17070201e-01  4.01425011e-02 -1.11127748e-02 -5.77312756e-03\n",
      " -1.83853774e-03 -8.86690518e-03 -4.19749029e-03 -1.71043547e-03\n",
      " -4.08952803e-03 -1.45058855e-02  1.07273727e+00  3.36049516e-02\n",
      "  9.59035412e-02 -9.40045467e-03 -2.26015452e-03  1.51737164e-01\n",
      "  2.38227713e-01 -4.01937651e-03  1.71019119e+00 -2.48230117e-03\n",
      " -1.07809995e-02 -3.02113187e-03  1.19870932e+00 -4.10528476e-03\n",
      "  6.89978730e-01  1.83041454e+00  7.15679567e-01  1.42540132e-02\n",
      "  3.18487019e-04 -6.46013352e-03 -4.80243249e-03 -7.44273848e-03\n",
      "  9.43918258e-02  1.20274807e-01  5.13430514e-01  1.63601344e-01\n",
      " -1.08996657e-02 -1.04276797e-03  4.59706496e+00 -2.31975400e-03\n",
      " -6.81153156e-03 -1.27335143e-02  2.01849287e-01 -5.42014092e-03\n",
      " -1.68510300e-02 -5.94698944e-03 -1.25949450e-02  7.30509912e-01\n",
      "  5.35413364e-01 -3.90433234e-03 -8.26278554e-03  1.66657239e-02\n",
      " -1.24987640e-02 -1.08174446e-02  3.53796606e-01 -1.65857152e-03\n",
      " -1.86698960e-03 -4.96541392e-03 -7.99924150e-03  1.38727884e-01\n",
      " -7.40561260e-04 -8.95179849e-04  2.69339468e-01  1.11664507e-01\n",
      " -1.31523305e-02 -3.67705513e-03 -6.22333533e-03  1.05641503e-01\n",
      "  1.06486850e-01 -9.39934013e-04]\n"
     ]
    }
   ],
   "source": [
    "Ts_max=np.array(Ts_max)\n",
    "# Ts_max=Ts_max.pop('nan')\n",
    "Ts_max = Ts_max[~np.isnan(Ts_max)]\n",
    "print(Ts_max)"
   ]
  },
  {
   "cell_type": "code",
   "execution_count": 52,
   "metadata": {},
   "outputs": [
    {
     "name": "stdout",
     "output_type": "stream",
     "text": [
      "[0.0178462  0.02309051 0.03233019 0.03303114 0.04738891 0.0527672\n",
      " 0.05362594 0.05503051 0.08169375 0.11939017 0.12909579 0.13898016\n",
      " 0.14232267 0.16232659 0.18331653 0.18743093 0.19666945 0.20035594\n",
      " 0.22895418 0.27306035 0.28478595 0.29623071 0.30723253 0.3083653\n",
      " 0.30968297 0.32502539 0.32508642 0.32632323 0.3341624  0.34680658\n",
      " 0.37246192 0.38953455 0.40447663 0.40905773 0.43388739 0.43822937\n",
      " 0.4492764  0.45359839 0.45896011 0.48204689 0.48808576 0.51897926\n",
      " 0.53337884 0.55949253 0.58195356 0.59480804 0.60468957 0.60866237\n",
      " 0.65262361 0.65316718 0.65478696 0.65490759 0.71207903 0.71654066\n",
      " 0.73171946 0.75432144 0.76966214 0.77220325 0.77774927 0.79735562\n",
      " 0.83064958 0.83800246 0.84597847 0.84679998 0.85182678 0.85469873\n",
      " 0.92009969 0.94400813 1.03573031 1.09485585 1.11963239 1.19351886\n",
      " 1.30774279 1.35292813 1.56236411 2.14407672]\n"
     ]
    },
    {
     "name": "stderr",
     "output_type": "stream",
     "text": [
      "/var/folders/2c/m969qfc90tv80w3gmnb7x8r80000gn/T/ipykernel_32387/3489200325.py:1: RuntimeWarning: invalid value encountered in sqrt\n",
      "  Ts_max=np.sqrt(Ts_max)\n"
     ]
    }
   ],
   "source": [
    "Ts_max=np.sqrt(Ts_max)\n",
    "Ts_max = Ts_max[~np.isnan(Ts_max)]\n",
    "print(np.sort(Ts_max))"
   ]
  },
  {
   "cell_type": "code",
   "execution_count": 172,
   "metadata": {},
   "outputs": [
    {
     "name": "stdout",
     "output_type": "stream",
     "text": [
      "-0.5882352941176379\n"
     ]
    }
   ],
   "source": [
    "import numpy as np\n",
    "from scipy import stats\n",
    "\n",
    "# Array and the value for which we want to find the percentile\n",
    "# array = np.array([0.0178462, 0.02309051, 0.03233019, 0.03303114, 0.04738891, 0.0527672,\n",
    "#                   0.05362594, 0.05503051, 0.08169375, 0.11939017, 0.12909579, 0.13898016,\n",
    "#                   0.14232267, 0.16232659, 0.18331653, 0.18743093, 0.19666945, 0.20035594,\n",
    "#                   0.22895418, 0.27306035, 0.28478595, 0.29623071, 0.30723253, 0.3083653,\n",
    "#                   0.30968297, 0.32502539, 0.32508642, 0.32632323, 0.3341624, 0.34680658,\n",
    "#                   0.37246192, 0.38953455, 0.40447663, 0.40905773, 0.43388739, 0.43822937,\n",
    "#                   0.4492764, 0.45359839, 0.45896011, 0.48204689, 0.48808576, 0.51897926,\n",
    "#                   0.53337884, 0.55949253, 0.58195356, 0.59480804, 0.60468957, 0.60866237,\n",
    "#                   0.65262361, 0.65316718, 0.65478696, 0.65490759, 0.71207903, 0.71654066,\n",
    "#                   0.73171946, 0.75432144, 0.76966214, 0.77220325, 0.77774927, 0.79735562,\n",
    "#                   0.83064958, 0.83800246, 0.84597847, 0.84679998, 0.85182678, 0.85469873,\n",
    "#                   0.92009969, 0.94400813, 1.03573031, 1.09485585, 1.11963239, 1.19351886,\n",
    "#                   1.30774279, 1.35292813, 1.56236411, 2.14407672])\n",
    "\n",
    "# value = 2.14407672\n",
    "\n",
    "# Calculate the percentile\n",
    "percentile = stats.percentileofscore(Ts_max, 4.59706496e+00, kind='weak')\n",
    "print(percentile-100)"
   ]
  },
  {
   "cell_type": "code",
   "execution_count": 226,
   "metadata": {},
   "outputs": [
    {
     "name": "stdout",
     "output_type": "stream",
     "text": [
      "37.16141308786967\n"
     ]
    }
   ],
   "source": [
    "from scipy.integrate import quad\n",
    "coff=1/np.sqrt(2*np.pi)\n",
    "def integrand(z):\n",
    "\t# return(x+1)/x**2\n",
    "    f=lambda z: np.exp((z**2)*0.5*-1)\n",
    "    I=quad(f, -1*z, z)[0]\n",
    "    return I*coff*100\n",
    "# confidence_level=integrand(99.41176470588236)\n",
    "# print(confidence_level)\n",
    "pro=integrand(0.484)\n",
    "print(pro)"
   ]
  },
  {
   "cell_type": "code",
   "execution_count": 218,
   "metadata": {},
   "outputs": [
    {
     "name": "stdout",
     "output_type": "stream",
     "text": [
      "0.37199662227131813\n"
     ]
    }
   ],
   "source": [
    "p_post=1-(1-0.0058)**170\n",
    "print(1-p_post)"
   ]
  },
  {
   "cell_type": "code",
   "execution_count": 233,
   "metadata": {},
   "outputs": [
    {
     "name": "stdout",
     "output_type": "stream",
     "text": [
      "-1.17647058823529\n",
      "98.75806693484479\n",
      "0.8662600184071927\n",
      "-13.373998159280731\n",
      "13.498986335007684\n"
     ]
    }
   ],
   "source": [
    "import numpy as np\n",
    "from scipy import stats\n",
    "\n",
    "# Array and the value for which we want to find the percentile\n",
    "# array = np.array([0.0178462, 0.02309051, 0.03233019, 0.03303114, 0.04738891, 0.0527672,\n",
    "#                   0.05362594, 0.05503051, 0.08169375, 0.11939017, 0.12909579, 0.13898016,\n",
    "#                   0.14232267, 0.16232659, 0.18331653, 0.18743093, 0.19666945, 0.20035594,\n",
    "#                   0.22895418, 0.27306035, 0.28478595, 0.29623071, 0.30723253, 0.3083653,\n",
    "#                   0.30968297, 0.32502539, 0.32508642, 0.32632323, 0.3341624, 0.34680658,\n",
    "#                   0.37246192, 0.38953455, 0.40447663, 0.40905773, 0.43388739, 0.43822937,\n",
    "#                   0.4492764, 0.45359839, 0.45896011, 0.48204689, 0.48808576, 0.51897926,\n",
    "#                   0.53337884, 0.55949253, 0.58195356, 0.59480804, 0.60468957, 0.60866237,\n",
    "#                   0.65262361, 0.65316718, 0.65478696, 0.65490759, 0.71207903, 0.71654066,\n",
    "#                   0.73171946, 0.75432144, 0.76966214, 0.77220325, 0.77774927, 0.79735562,\n",
    "#                   0.83064958, 0.83800246, 0.84597847, 0.84679998, 0.85182678, 0.85469873,\n",
    "#                   0.92009969, 0.94400813, 1.03573031, 1.09485585, 1.11963239, 1.19351886,\n",
    "#                   1.30774279, 1.35292813, 1.56236411, 2.14407672])\n",
    "\n",
    "# value = 2.14407672\n",
    "\n",
    "# Calculate the percentile\n",
    "percentile = stats.percentileofscore(Ts_max, 1.83041454e+00, kind='weak')\n",
    "print(percentile-100)\n",
    "\n",
    "from scipy.integrate import quad\n",
    "coff=1/np.sqrt(2*np.pi)\n",
    "def integrand(z):\n",
    "\t# return(x+1)/x**2\n",
    "    f=lambda z: np.exp((z**2)*0.5*-1)\n",
    "    I=quad(f, -1*z, z)[0]\n",
    "    return I*coff*100\n",
    "# confidence_level=integrand(99.41176470588236)\n",
    "# print(confidence_level)\n",
    "pro=integrand(2.5)\n",
    "print(pro)\n",
    "\n",
    "p_post=1-(1-0.0117647058823529)**170\n",
    "print(p_post)\n",
    "print(p_post*100-100)\n",
    "pro_post=integrand(0.17)\n",
    "print(pro_post)"
   ]
  },
  {
   "cell_type": "code",
   "execution_count": 237,
   "metadata": {},
   "outputs": [
    {
     "name": "stdout",
     "output_type": "stream",
     "text": [
      "-1.17647058823529\n",
      "98.75806693484479\n",
      "0.8662600184071927\n",
      "-13.373998159280731\n",
      "13.498986335007684\n"
     ]
    }
   ],
   "source": [
    "import numpy as np\n",
    "from scipy import stats\n",
    "\n",
    "# Array and the value for which we want to find the percentile\n",
    "# array = np.array([0.0178462, 0.02309051, 0.03233019, 0.03303114, 0.04738891, 0.0527672,\n",
    "#                   0.05362594, 0.05503051, 0.08169375, 0.11939017, 0.12909579, 0.13898016,\n",
    "#                   0.14232267, 0.16232659, 0.18331653, 0.18743093, 0.19666945, 0.20035594,\n",
    "#                   0.22895418, 0.27306035, 0.28478595, 0.29623071, 0.30723253, 0.3083653,\n",
    "#                   0.30968297, 0.32502539, 0.32508642, 0.32632323, 0.3341624, 0.34680658,\n",
    "#                   0.37246192, 0.38953455, 0.40447663, 0.40905773, 0.43388739, 0.43822937,\n",
    "#                   0.4492764, 0.45359839, 0.45896011, 0.48204689, 0.48808576, 0.51897926,\n",
    "#                   0.53337884, 0.55949253, 0.58195356, 0.59480804, 0.60468957, 0.60866237,\n",
    "#                   0.65262361, 0.65316718, 0.65478696, 0.65490759, 0.71207903, 0.71654066,\n",
    "#                   0.73171946, 0.75432144, 0.76966214, 0.77220325, 0.77774927, 0.79735562,\n",
    "#                   0.83064958, 0.83800246, 0.84597847, 0.84679998, 0.85182678, 0.85469873,\n",
    "#                   0.92009969, 0.94400813, 1.03573031, 1.09485585, 1.11963239, 1.19351886,\n",
    "#                   1.30774279, 1.35292813, 1.56236411, 2.14407672])\n",
    "\n",
    "# value = 2.14407672\n",
    "\n",
    "# Calculate the percentile\n",
    "percentile = stats.percentileofscore(Ts_max, 1.83041454e+00, kind='weak')\n",
    "print(percentile-100)\n",
    "\n",
    "from scipy.integrate import quad\n",
    "coff=1/np.sqrt(2*np.pi)\n",
    "def integrand(z):\n",
    "\t# return(x+1)/x**2\n",
    "    f=lambda z: np.exp((z**2)*0.5*-1)\n",
    "    I=quad(f, -1*z, z)[0]\n",
    "    return I*coff*100\n",
    "# confidence_level=integrand(99.41176470588236)\n",
    "# print(confidence_level)\n",
    "pro=integrand(2.5)\n",
    "print(pro)\n",
    "\n",
    "p_post=1-(1-0.0117647058823529)**170\n",
    "print(p_post)\n",
    "print(p_post*100-100)\n",
    "pro_post=integrand(0.17)\n",
    "print(pro_post)"
   ]
  },
  {
   "cell_type": "code",
   "execution_count": 259,
   "metadata": {},
   "outputs": [
    {
     "name": "stdout",
     "output_type": "stream",
     "text": [
      "-2.35294117647058\n",
      "97.64689045114773\n",
      "0.9825394334026578\n",
      "-1.7460566597342222\n",
      "1.7472275224100022\n"
     ]
    }
   ],
   "source": [
    "import numpy as np\n",
    "from scipy import stats\n",
    "\n",
    "# Array and the value for which we want to find the percentile\n",
    "# array = np.array([0.0178462, 0.02309051, 0.03233019, 0.03303114, 0.04738891, 0.0527672,\n",
    "#                   0.05362594, 0.05503051, 0.08169375, 0.11939017, 0.12909579, 0.13898016,\n",
    "#                   0.14232267, 0.16232659, 0.18331653, 0.18743093, 0.19666945, 0.20035594,\n",
    "#                   0.22895418, 0.27306035, 0.28478595, 0.29623071, 0.30723253, 0.3083653,\n",
    "#                   0.30968297, 0.32502539, 0.32508642, 0.32632323, 0.3341624, 0.34680658,\n",
    "#                   0.37246192, 0.38953455, 0.40447663, 0.40905773, 0.43388739, 0.43822937,\n",
    "#                   0.4492764, 0.45359839, 0.45896011, 0.48204689, 0.48808576, 0.51897926,\n",
    "#                   0.53337884, 0.55949253, 0.58195356, 0.59480804, 0.60468957, 0.60866237,\n",
    "#                   0.65262361, 0.65316718, 0.65478696, 0.65490759, 0.71207903, 0.71654066,\n",
    "#                   0.73171946, 0.75432144, 0.76966214, 0.77220325, 0.77774927, 0.79735562,\n",
    "#                   0.83064958, 0.83800246, 0.84597847, 0.84679998, 0.85182678, 0.85469873,\n",
    "#                   0.92009969, 0.94400813, 1.03573031, 1.09485585, 1.11963239, 1.19351886,\n",
    "#                   1.30774279, 1.35292813, 1.56236411, 2.14407672])\n",
    "\n",
    "# value = 2.14407672\n",
    "\n",
    "# Calculate the percentile\n",
    "percentile = stats.percentileofscore(Ts_max, 1.71019119e+00, kind='weak')\n",
    "print(percentile-100)\n",
    "\n",
    "from scipy.integrate import quad\n",
    "coff=1/np.sqrt(2*np.pi)\n",
    "def integrand(z):\n",
    "\t# return(x+1)/x**2\n",
    "    f=lambda z: np.exp((z**2)*0.5*-1)\n",
    "    I=quad(f, -1*z, z)[0]\n",
    "    return I*coff*100\n",
    "# confidence_level=integrand(99.41176470588236)\n",
    "# print(confidence_level)\n",
    "pro=integrand(2.2647)\n",
    "print(pro)\n",
    "\n",
    "p_post=1-(1-2.35294117647058e-2)**170\n",
    "print(p_post)\n",
    "print(p_post*100-100)\n",
    "pro_post=integrand(0.0219)\n",
    "print(pro_post)"
   ]
  },
  {
   "cell_type": "code",
   "execution_count": 60,
   "metadata": {},
   "outputs": [
    {
     "name": "stdout",
     "output_type": "stream",
     "text": [
      "0.02177943313994143\n"
     ]
    }
   ],
   "source": [
    "print(np.percentile(Ts_max,1))\n"
   ]
  },
  {
   "cell_type": "code",
   "execution_count": 71,
   "metadata": {},
   "outputs": [],
   "source": [
    "def gauss1(x, H,A, x0, sigma):\n",
    "    return  H +A * np.exp(-(x - x0) ** 2 / (2 * sigma ** 2))\n",
    "def gauss(x,A,x0, sigma):\n",
    "    return   A* np.exp(-(x-x0) ** 2 / (2 * sigma ** 2))"
   ]
  },
  {
   "cell_type": "code",
   "execution_count": 82,
   "metadata": {},
   "outputs": [
    {
     "name": "stdout",
     "output_type": "stream",
     "text": [
      "[-2.29635594e-02  4.21307900e-03  3.13897174e-02  5.85663557e-02\n",
      "  8.57429941e-02  1.12919632e-01  1.40096271e-01  1.67272909e-01\n",
      "  1.94449548e-01  2.21626186e-01  2.48802824e-01  2.75979463e-01\n",
      "  3.03156101e-01  3.30332739e-01  3.57509378e-01  3.84686016e-01\n",
      "  4.11862655e-01  4.39039293e-01  4.66215931e-01  4.93392570e-01\n",
      "  5.20569208e-01  5.47745846e-01  5.74922485e-01  6.02099123e-01\n",
      "  6.29275762e-01  6.56452400e-01  6.83629038e-01  7.10805677e-01\n",
      "  7.37982315e-01  7.65158953e-01  7.92335592e-01  8.19512230e-01\n",
      "  8.46688869e-01  8.73865507e-01  9.01042145e-01  9.28218784e-01\n",
      "  9.55395422e-01  9.82572060e-01  1.00974870e+00  1.03692534e+00\n",
      "  1.06410198e+00  1.09127861e+00  1.11845525e+00  1.14563189e+00\n",
      "  1.17280853e+00  1.19998517e+00  1.22716181e+00  1.25433844e+00\n",
      "  1.28151508e+00  1.30869172e+00  1.33586836e+00  1.36304500e+00\n",
      "  1.39022164e+00  1.41739827e+00  1.44457491e+00  1.47175155e+00\n",
      "  1.49892819e+00  1.52610483e+00  1.55328147e+00  1.58045810e+00\n",
      "  1.60763474e+00  1.63481138e+00  1.66198802e+00  1.68916466e+00\n",
      "  1.71634130e+00  1.74351793e+00  1.77069457e+00  1.79787121e+00\n",
      "  1.82504785e+00  1.85222449e+00  1.87940113e+00  1.90657777e+00\n",
      "  1.93375440e+00  1.96093104e+00  1.98810768e+00  2.01528432e+00\n",
      "  2.04246096e+00  2.06963760e+00  2.09681423e+00  2.12399087e+00\n",
      "  2.15116751e+00  2.17834415e+00  2.20552079e+00  2.23269743e+00\n",
      "  2.25987406e+00  2.28705070e+00  2.31422734e+00  2.34140398e+00\n",
      "  2.36858062e+00  2.39575726e+00  2.42293389e+00  2.45011053e+00\n",
      "  2.47728717e+00  2.50446381e+00  2.53164045e+00  2.55881709e+00\n",
      "  2.58599372e+00  2.61317036e+00  2.64034700e+00  2.66752364e+00\n",
      "  2.69470028e+00  2.72187692e+00  2.74905355e+00  2.77623019e+00\n",
      "  2.80340683e+00  2.83058347e+00  2.85776011e+00  2.88493675e+00\n",
      "  2.91211338e+00  2.93929002e+00  2.96646666e+00  2.99364330e+00\n",
      "  3.02081994e+00  3.04799658e+00  3.07517322e+00  3.10234985e+00\n",
      "  3.12952649e+00  3.15670313e+00  3.18387977e+00  3.21105641e+00\n",
      "  3.23823305e+00  3.26540968e+00  3.29258632e+00  3.31976296e+00\n",
      "  3.34693960e+00  3.37411624e+00  3.40129288e+00  3.42846951e+00\n",
      "  3.45564615e+00  3.48282279e+00  3.50999943e+00  3.53717607e+00\n",
      "  3.56435271e+00  3.59152934e+00  3.61870598e+00  3.64588262e+00\n",
      "  3.67305926e+00  3.70023590e+00  3.72741254e+00  3.75458917e+00\n",
      "  3.78176581e+00  3.80894245e+00  3.83611909e+00  3.86329573e+00\n",
      "  3.89047237e+00  3.91764900e+00  3.94482564e+00  3.97200228e+00\n",
      "  3.99917892e+00  4.02635556e+00  4.05353220e+00  4.08070883e+00\n",
      "  4.10788547e+00  4.13506211e+00  4.16223875e+00  4.18941539e+00\n",
      "  4.21659203e+00  4.24376867e+00  4.27094530e+00  4.29812194e+00\n",
      "  4.32529858e+00  4.35247522e+00  4.37965186e+00  4.40682850e+00\n",
      "  4.43400513e+00  4.46118177e+00  4.48835841e+00  4.51553505e+00\n",
      "  4.54271169e+00  4.56988833e+00  4.59706496e+00] \n",
      " [<matplotlib.patches.Polygon object at 0x13a207310>]\n",
      "[-0.00937524  0.0178014   0.04497804  0.07215467  0.09933131  0.12650795\n",
      "  0.15368459  0.18086123  0.20803787  0.23521451  0.26239114  0.28956778\n",
      "  0.31674442  0.34392106  0.3710977   0.39827434  0.42545097  0.45262761\n",
      "  0.47980425  0.50698089  0.53415753  0.56133417  0.5885108   0.61568744\n",
      "  0.64286408  0.67004072  0.69721736  0.724394    0.75157063  0.77874727\n",
      "  0.80592391  0.83310055  0.86027719  0.88745383  0.91463046  0.9418071\n",
      "  0.96898374  0.99616038  1.02333702  1.05051366  1.07769029  1.10486693\n",
      "  1.13204357  1.15922021  1.18639685  1.21357349  1.24075012  1.26792676\n",
      "  1.2951034   1.32228004  1.34945668  1.37663332  1.40380996  1.43098659\n",
      "  1.45816323  1.48533987  1.51251651  1.53969315  1.56686979  1.59404642\n",
      "  1.62122306  1.6483997   1.67557634  1.70275298  1.72992962  1.75710625\n",
      "  1.78428289  1.81145953  1.83863617  1.86581281  1.89298945  1.92016608\n",
      "  1.94734272  1.97451936  2.001696    2.02887264  2.05604928  2.08322591\n",
      "  2.11040255  2.13757919  2.16475583  2.19193247  2.21910911  2.24628574\n",
      "  2.27346238  2.30063902  2.32781566  2.3549923   2.38216894  2.40934557\n",
      "  2.43652221  2.46369885  2.49087549  2.51805213  2.54522877  2.57240541\n",
      "  2.59958204  2.62675868  2.65393532  2.68111196  2.7082886   2.73546524\n",
      "  2.76264187  2.78981851  2.81699515  2.84417179  2.87134843  2.89852507\n",
      "  2.9257017   2.95287834  2.98005498  3.00723162  3.03440826  3.0615849\n",
      "  3.08876153  3.11593817  3.14311481  3.17029145  3.19746809  3.22464473\n",
      "  3.25182136  3.278998    3.30617464  3.33335128  3.36052792  3.38770456\n",
      "  3.41488119  3.44205783  3.46923447  3.49641111  3.52358775  3.55076439\n",
      "  3.57794103  3.60511766  3.6322943   3.65947094  3.68664758  3.71382422\n",
      "  3.74100086  3.76817749  3.79535413  3.82253077  3.84970741  3.87688405\n",
      "  3.90406069  3.93123732  3.95841396  3.9855906   4.01276724  4.03994388\n",
      "  4.06712052  4.09429715  4.12147379  4.14865043  4.17582707  4.20300371\n",
      "  4.23018035  4.25735698  4.28453362  4.31171026  4.3388869   4.36606354\n",
      "  4.39324018  4.42041681  4.44759345  4.47477009  4.50194673  4.52912337\n",
      "  4.55630001  4.58347664] \n",
      " [102.   6.   5.   2.   8.   2.   2.   3.   3.   2.   1.   1.   1.   2.\n",
      "   2.   0.   4.   0.   0.   2.   1.   1.   2.   1.   1.   0.   2.   4.\n",
      "   0.   0.   0.   1.   0.   1.   0.   0.   0.   0.   0.   0.   1.   0.\n",
      "   0.   0.   1.   0.   1.   0.   0.   0.   0.   0.   0.   1.   0.   0.\n",
      "   0.   0.   0.   0.   0.   0.   0.   1.   0.   0.   0.   0.   1.   0.\n",
      "   0.   0.   0.   0.   0.   0.   0.   0.   0.   0.   0.   0.   0.   0.\n",
      "   0.   0.   0.   0.   0.   0.   1.   0.   0.   0.   0.   0.   0.   0.\n",
      "   0.   0.   0.   0.   0.   0.   0.   0.   0.   0.   0.   0.   0.   0.\n",
      "   0.   0.   0.   0.   0.   0.   0.   0.   0.   0.   0.   0.   0.   0.\n",
      "   0.   0.   0.   0.   0.   0.   0.   0.   0.   0.   0.   0.   0.   0.\n",
      "   0.   0.   0.   0.   0.   0.   0.   0.   0.   0.   0.   0.   0.   0.\n",
      "   0.   0.   0.   0.   0.   0.   0.   0.   0.   0.   0.   0.   0.   0.\n",
      "   0.   1.]\n"
     ]
    },
    {
     "data": {
      "image/png": "[encoded data removed]",
      "text/plain": [
       "<Figure size 500x500 with 1 Axes>"
      ]
     },
     "metadata": {},
     "output_type": "display_data"
    }
   ],
   "source": [
    "from matplotlib.lines import Line2D\n",
    "font = {'family': 'serif',\n",
    "        'weight': 'bold',\n",
    "        'size': 22,\n",
    "        'color':  'black',\n",
    "        }\n",
    "smallerfont = {'family': 'serif',\n",
    "        'color':  'black',\n",
    "        'weight': 'bold',\n",
    "        'size': 15,\n",
    "        }\n",
    "\n",
    "axesfont = {'family': 'serif',\n",
    "        'color':  'black',\n",
    "        'weight': 'normal',\n",
    "        'size': 17,\n",
    "        }\n",
    "custom_lines = [Line2D([0], [0], color='#1f77b4', lw=4),\n",
    "                Line2D([0], [2],linestyle='--', color='k', lw=2)]\n",
    "n_bins = 11\n",
    "fig, axs = plt.subplots(1, 1, tight_layout=True,figsize=(5, 5))\n",
    "axs.set_ylabel('Counts',axesfont)\n",
    "axs.set_xlabel(r'$\\sqrt{{\\rm TS_{max}}}$',axesfont)\n",
    "# axs[1][0].set_ylabel('Counts',axesfont)\n",
    "# axs[1][0].set_xlabel(r'$\\sqrt{TS_{\\rm max}}$',axesfont)\n",
    "\n",
    "# N is the count in each bin, bins is the lower-limit of the bin\n",
    "N, bins, patches = axs.hist(Ts_max, bins=170  ,linewidth=3,histtype='step',stacked=True,alpha=0.8)\n",
    "\n",
    "print(bins,'\\n',patches)\n",
    "xdata=(bins[:-1]+bins[1:])*0.5\n",
    "ydata=N\n",
    "xplot=np.arange(min(xdata)-0.1,max(xdata),0.1)\n",
    "axs.set_xlim(min(xdata)-0.12,max(xdata))\n",
    "print(xdata,'\\n',ydata)\n",
    "# We'll color code by height, but you could use any scalar\n",
    "parameters, covariance = curve_fit(gauss, xdata, ydata,maxfev=5000000)\n",
    "# parameters1,covariance1=curve_fit(gauss,xdata, ydata,maxfev=500000)\n",
    "# fit_A = parameters[0]\n",
    "# fit_B = parameters[1]\n",
    "\n",
    "fit_y = gauss(xplot, *parameters)\n",
    "\n",
    "# axs[0].plot(xplot, fit_y, '--', label='fit',c='green')\n",
    "axs.plot(xplot, fit_y,linestyle='--',c='k',linewidth=2)\n",
    "# axs[1][0].errorbar(xdata, ydata, xerr=np.sqrt(xdata), yerr=np.sqrt(ydata), fmt='o', elinewidth=2,capsize=2)\n",
    "# axs[1][0].plot(xplot, fit_y, '--', label='Guassian Fit',c='k',linewidth=1)\n",
    "# fracs = N / N.max()\n",
    "\n",
    "# we need to normalize the data to 0..1 for the full range of the colormap\n",
    "# norm = colors.Normalize(fracs.min(), fracs.max())\n",
    "\n",
    "# Now, we'll loop through our objects and set the color of each accordingly\n",
    "# for thisfrac, thispatch in zip(fracs, patches):\n",
    "#     color = plt.cm.viridis(norm(thisfrac))\n",
    "#     thispatch.set_facecolor(color)\n",
    "\n",
    "# We can also normalize our inputs by the total number of counts\n",
    "# N1, bins1, patches1 = axs[0][1].hist(Ts_max, bins=n_bins, density=True)\n",
    "# axs[0][1].set_ylabel('Counts density',axesfont)\n",
    "# axs[0][1].set_xlabel(r'$\\sqrt{TS_{\\rm max}}$',axesfont)\n",
    "# axs[1][1].set_ylabel('Counts density',axesfont)\n",
    "# axs[1][1].set_xlabel(r'$\\sqrt{TS_{\\rm max}}$',axesfont)\n",
    "# xdata1=(bins[:-1]+bins[1:])*0.5\n",
    "# ydata1=N1\n",
    "# xplot1=np.arange(min(xdata1)-0.00001,max(xdata1),0.1)\n",
    "# parameters1,covariance1=curve_fit(gauss1,xdata1, ydata1,maxfev=500000)\n",
    "# fit_y1=gauss1(xplot1, *parameters1)\n",
    "\n",
    "# axs[0][1].plot(xplot1, fit_y1, '--', label='Guassian Fit',c='k',linewidth=2)\n",
    "# axs[1][1].errorbar(xdata1, ydata1, xerr=np.sqrt(xdata1), yerr=np.sqrt(ydata1), fmt='o', elinewidth=2,capsize=2)\n",
    "# axs[1][1].plot(xplot1, fit_y1, '--', label='Guassian Fit',c='k',linewidth=1)\n",
    "# Now we format the y-axis to display percentage\n",
    "#axs[1].yaxis.set_major_formatter(PercentFormatter(xmax=1))\n",
    "axs.tick_params(which='major', width=1.5, length=6,direction='in')\n",
    "axs.tick_params(which='minor', width=1.5, length=3,direction='in')\n",
    "# axs[0][1].tick_params(which='major', width=1.5, length=6,direction='in')\n",
    "# axs[0][1].tick_params(which='minor', width=1.5, length=3,direction='in')\n",
    "# axs[1][0].tick_params(which='major', width=1.5, length=6,direction='in')\n",
    "# axs[1][0].tick_params(which='minor', width=1.5, length=3,direction='in')\n",
    "# axs[1][1].tick_params(which='major', width=1.5, length=6,direction='in')\n",
    "# axs[1][1].tick_params(which='minor', width=1.5, length=3,direction='in')\n",
    "# #axs[1].xaxis.set_minor_locator(MultipleLocator(5))\n",
    "# axs[0][0].legend()\n",
    "# # axs[1].xaxis.set_minor_locator(MultipleLocator(5))\n",
    "# axs[0][1].legend()\n",
    "axs.xaxis.set_minor_locator(AutoMinorLocator())\n",
    "axs.yaxis.set_minor_locator(AutoMinorLocator())\n",
    "axs.tick_params(which='minor', length=2,width=1, color='k')\n",
    "axs.tick_params(which='major', length=4,width=1, color='k')\n",
    "axs.tick_params(axis='x', which='minor', bottom=True,top=True)\n",
    "axs.tick_params(axis='x', which='major', bottom=True,top=True)\n",
    "axs.tick_params(axis='y', which='minor', bottom=True,top=True,right=True)\n",
    "axs.tick_params(axis='y', which='major', bottom=True,top=True,right=True)\n",
    "# For the minor ticks, use no labels; default NullFormatter.\n",
    "# axs[0][1].xaxis.set_minor_locator(AutoMinorLocator())\n",
    "# axs[0][1].yaxis.set_minor_locator(AutoMinorLocator())\n",
    "# axs[0][1].tick_params(which='minor', length=2, color='k')\n",
    "# axs[1][0].xaxis.set_minor_locator(AutoMinorLocator())\n",
    "# axs[1][0].yaxis.set_minor_locator(AutoMinorLocator())\n",
    "# axs[1][0].tick_params(which='minor', length=2, color='k')\n",
    "# axs[1][1].xaxis.set_minor_locator(AutoMinorLocator())\n",
    "# axs[1][1].yaxis.set_minor_locator(AutoMinorLocator())\n",
    "# axs[1][1].tick_params(which='minor', length=2, color='k')\n",
    "# axs[1][0].set_xscale('log')\n",
    "# axs[1][1].set_xscale('log')\n",
    "# axs[1][0].set_yscale('log')\n",
    "# axs[1][1].set_yscale('log')\n",
    "# axs[0][0].set_yscale('log')\n",
    "# axs[0][1].set_yscale('log')\n",
    "# axs[0][0].set_xscale('log')\n",
    "# axs[0][1].set_xscale('log')\n",
    "plt.legend(custom_lines,[r'$\\sqrt{{\\rm TS_{max}}} \\cdot{\\rm bin^{-1}}$','Guassian Fit'],fancybox=False,edgecolor=None,frameon=False,fontsize='large')\n",
    "fig.savefig('fig2a.pdf')"
   ]
  },
  {
   "cell_type": "code",
   "execution_count": 163,
   "metadata": {},
   "outputs": [
    {
     "name": "stdout",
     "output_type": "stream",
     "text": [
      "[0.0178462  0.23046926 0.44309231 0.65571536 0.86833841 1.08096146\n",
      " 1.29358451 1.50620756 1.71883061 1.93145366 2.14407672] \n",
      " <BarContainer object of 10 artists>\n",
      "[0.12415773 0.33678078 0.54940383 0.76202688 0.97464993 1.18727299\n",
      " 1.39989604 1.61251909 1.82514214 2.03776519] \n",
      " [19. 17. 16. 14.  3.  3.  2.  1.  0.  1.]\n"
     ]
    },
    {
     "data": {
      "image/png": "[encoded data removed]",
      "text/plain": [
       "<Figure size 1000x1000 with 4 Axes>"
      ]
     },
     "metadata": {},
     "output_type": "display_data"
    }
   ],
   "source": [
    "from matplotlib import colors\n",
    "from matplotlib.ticker import PercentFormatter\n",
    "from matplotlib.ticker import MaxNLocator, NullLocator\n",
    "import matplotlib.pyplot as plt\n",
    "from matplotlib.ticker import (MultipleLocator, AutoMinorLocator)\n",
    "font = {'family': 'serif',\n",
    "        'weight': 'bold',\n",
    "        'size': 22,\n",
    "        'color':  'black',\n",
    "        }\n",
    "smallerfont = {'family': 'serif',\n",
    "        'color':  'black',\n",
    "        'weight': 'bold',\n",
    "        'size': 15,\n",
    "        }\n",
    "\n",
    "axesfont = {'family': 'serif',\n",
    "        'color':  'black',\n",
    "        'weight': 'normal',\n",
    "        'size': 17,\n",
    "        }\n",
    "n_bins = 10\n",
    "fig, axs = plt.subplots(2, 2, tight_layout=True,figsize=(10, 10))\n",
    "axs[0][0].set_ylabel('Counts',axesfont)\n",
    "axs[0][0].set_xlabel(r'$\\sqrt{TS_{\\rm max}}$',axesfont)\n",
    "axs[1][0].set_ylabel('Counts',axesfont)\n",
    "axs[1][0].set_xlabel(r'$\\sqrt{TS_{\\rm max}}$',axesfont)\n",
    "\n",
    "# N is the count in each bin, bins is the lower-limit of the bin\n",
    "N, bins, patches = axs[0][0].hist(Ts_max, bins=n_bins,linewidth=3)\n",
    "print(bins,'\\n',patches)\n",
    "xdata=(bins[:-1]+bins[1:])*0.5\n",
    "ydata=N\n",
    "xplot=np.arange(min(xdata)-0.00001,max(xdata),0.1)\n",
    "\n",
    "print(xdata,'\\n',ydata)\n",
    "# We'll color code by height, but you could use any scalar\n",
    "parameters, covariance = curve_fit(gauss1, xdata, ydata,maxfev=5000000)\n",
    "# parameters1,covariance1=curve_fit(gauss,xdata, ydata,maxfev=500000)\n",
    "# fit_A = parameters[0]\n",
    "# fit_B = parameters[1]\n",
    "\n",
    "fit_y = gauss1(xplot, *parameters)\n",
    "\n",
    "# axs[0].plot(xplot, fit_y, '--', label='fit',c='green')\n",
    "axs[0][0].plot(xplot, fit_y, '--', label='Guassian Fit',c='k',linewidth=2)\n",
    "axs[1][0].errorbar(xdata, ydata, xerr=np.sqrt(xdata), yerr=np.sqrt(ydata), fmt='o', elinewidth=2,capsize=2)\n",
    "axs[1][0].plot(xplot, fit_y, '--', label='Guassian Fit',c='k',linewidth=1)\n",
    "fracs = N / N.max()\n",
    "\n",
    "# we need to normalize the data to 0..1 for the full range of the colormap\n",
    "norm = colors.Normalize(fracs.min(), fracs.max())\n",
    "\n",
    "# Now, we'll loop through our objects and set the color of each accordingly\n",
    "# for thisfrac, thispatch in zip(fracs, patches):\n",
    "#     color = plt.cm.viridis(norm(thisfrac))\n",
    "#     thispatch.set_facecolor(color)\n",
    "\n",
    "# We can also normalize our inputs by the total number of counts\n",
    "N1, bins1, patches1 = axs[0][1].hist(Ts_max, bins=n_bins, density=True)\n",
    "axs[0][1].set_ylabel('Counts density',axesfont)\n",
    "axs[0][1].set_xlabel(r'$\\sqrt{TS_{\\rm max}}$',axesfont)\n",
    "axs[1][1].set_ylabel('Counts density',axesfont)\n",
    "axs[1][1].set_xlabel(r'$\\sqrt{TS_{\\rm max}}$',axesfont)\n",
    "xdata1=(bins[:-1]+bins[1:])*0.5\n",
    "ydata1=N1\n",
    "xplot1=np.arange(min(xdata1)-0.00001,max(xdata1),0.1)\n",
    "parameters1,covariance1=curve_fit(gauss,xdata1, ydata1,maxfev=500000)\n",
    "fit_y1=gauss1(xplot1, *parameters1)\n",
    "\n",
    "axs[0][1].plot(xplot1, fit_y1, '--', label='Guassian Fit',c='k',linewidth=2)\n",
    "axs[1][1].errorbar(xdata1, ydata1, xerr=np.sqrt(xdata1), yerr=np.sqrt(ydata1), fmt='o', elinewidth=2,capsize=2)\n",
    "axs[1][1].plot(xplot1, fit_y1, '--', label='Guassian Fit',c='k',linewidth=1)\n",
    "# Now we format the y-axis to display percentage\n",
    "#axs[1].yaxis.set_major_formatter(PercentFormatter(xmax=1))\n",
    "axs[0][0].tick_params(which='major', width=1.5, length=6,direction='in')\n",
    "axs[0][0].tick_params(which='minor', width=1.5, length=3,direction='in')\n",
    "axs[0][1].tick_params(which='major', width=1.5, length=6,direction='in')\n",
    "axs[0][1].tick_params(which='minor', width=1.5, length=3,direction='in')\n",
    "axs[1][0].tick_params(which='major', width=1.5, length=6,direction='in')\n",
    "axs[1][0].tick_params(which='minor', width=1.5, length=3,direction='in')\n",
    "axs[1][1].tick_params(which='major', width=1.5, length=6,direction='in')\n",
    "axs[1][1].tick_params(which='minor', width=1.5, length=3,direction='in')\n",
    "#axs[1].xaxis.set_minor_locator(MultipleLocator(5))\n",
    "axs[0][0].legend()\n",
    "# axs[1].xaxis.set_minor_locator(MultipleLocator(5))\n",
    "axs[0][1].legend()\n",
    "axs[0][0].xaxis.set_minor_locator(AutoMinorLocator())\n",
    "axs[0][0].yaxis.set_minor_locator(AutoMinorLocator())\n",
    "axs[0][0].tick_params(which='minor', length=2, color='k')\n",
    "# For the minor ticks, use no labels; default NullFormatter.\n",
    "axs[0][1].xaxis.set_minor_locator(AutoMinorLocator())\n",
    "axs[0][1].yaxis.set_minor_locator(AutoMinorLocator())\n",
    "axs[0][1].tick_params(which='minor', length=2, color='k')\n",
    "axs[1][0].xaxis.set_minor_locator(AutoMinorLocator())\n",
    "axs[1][0].yaxis.set_minor_locator(AutoMinorLocator())\n",
    "axs[1][0].tick_params(which='minor', length=2, color='k')\n",
    "axs[1][1].xaxis.set_minor_locator(AutoMinorLocator())\n",
    "axs[1][1].yaxis.set_minor_locator(AutoMinorLocator())\n",
    "axs[1][1].tick_params(which='minor', length=2, color='k')\n",
    "# axs[1][0].set_xscale('log')\n",
    "# axs[1][1].set_xscale('log')\n",
    "# axs[1][0].set_yscale('log')\n",
    "# axs[1][1].set_yscale('log')\n",
    "# axs[0][0].set_yscale('log')\n",
    "# axs[0][1].set_yscale('log')\n",
    "# axs[0][0].set_xscale('log')\n",
    "# axs[0][1].set_xscale('log')\n",
    "fig.savefig('Ts_max_distr.pdf')"
   ]
  },
  {
   "cell_type": "code",
   "execution_count": 220,
   "metadata": {},
   "outputs": [
    {
     "name": "stdout",
     "output_type": "stream",
     "text": [
      "[0.0178462  0.21113989 0.40443357 0.59772725 0.79102094 0.98431462\n",
      " 1.1776083  1.37090198 1.56419567 2.14407672] \n",
      " [<matplotlib.patches.Polygon object at 0x12a210190>]\n",
      "[0.11449305 0.30778673 0.50108041 0.6943741  0.88766778 1.08096146\n",
      " 1.27425514 1.46754882 1.8541362 ] \n",
      " [18. 14. 14. 13.  9.  3.  3.  1.  1.]\n"
     ]
    },
    {
     "data": {
      "image/png": "[encoded data removed]",
      "text/plain": [
       "<Figure size 500x500 with 1 Axes>"
      ]
     },
     "metadata": {},
     "output_type": "display_data"
    }
   ],
   "source": [
    "from matplotlib.lines import Line2D\n",
    "font = {'family': 'serif',\n",
    "        'weight': 'bold',\n",
    "        'size': 22,\n",
    "        'color':  'black',\n",
    "        }\n",
    "smallerfont = {'family': 'serif',\n",
    "        'color':  'black',\n",
    "        'weight': 'bold',\n",
    "        'size': 15,\n",
    "        }\n",
    "\n",
    "axesfont = {'family': 'serif',\n",
    "        'color':  'black',\n",
    "        'weight': 'normal',\n",
    "        'size': 17,\n",
    "        }\n",
    "custom_lines = [Line2D([0], [0], color='#1f77b4', lw=4),\n",
    "                Line2D([0], [2],linestyle='--', color='k', lw=2)]\n",
    "n_bins = 11\n",
    "fig, axs = plt.subplots(1, 1, tight_layout=True,figsize=(5, 5))\n",
    "axs.set_ylabel('Counts',axesfont)\n",
    "axs.set_xlabel(r'$\\sqrt{{\\rm TS_{max}}}$',axesfont)\n",
    "# axs[1][0].set_ylabel('Counts',axesfont)\n",
    "# axs[1][0].set_xlabel(r'$\\sqrt{TS_{\\rm max}}$',axesfont)\n",
    "\n",
    "# N is the count in each bin, bins is the lower-limit of the bin\n",
    "N, bins, patches = axs.hist(Ts_max, bins=[0.0178462 ,0.21113989, 0.40443357, 0.59772725, 0.79102094, 0.98431462,\n",
    " 1.1776083, 1.37090198, 1.56419567, 2.14407672]  ,linewidth=3,histtype='step',stacked=True,alpha=0.8)\n",
    "\n",
    "print(bins,'\\n',patches)\n",
    "xdata=(bins[:-1]+bins[1:])*0.5\n",
    "ydata=N\n",
    "xplot=np.arange(min(xdata)-0.1,max(xdata),0.1)\n",
    "axs.set_xlim(min(xdata)-0.12,max(xdata))\n",
    "print(xdata,'\\n',ydata)\n",
    "# We'll color code by height, but you could use any scalar\n",
    "parameters, covariance = curve_fit(gauss, xdata, ydata,maxfev=5000000)\n",
    "# parameters1,covariance1=curve_fit(gauss,xdata, ydata,maxfev=500000)\n",
    "# fit_A = parameters[0]\n",
    "# fit_B = parameters[1]\n",
    "\n",
    "fit_y = gauss(xplot, *parameters)\n",
    "\n",
    "# axs[0].plot(xplot, fit_y, '--', label='fit',c='green')\n",
    "axs.plot(xplot, fit_y,linestyle='--',c='k',linewidth=2)\n",
    "# axs[1][0].errorbar(xdata, ydata, xerr=np.sqrt(xdata), yerr=np.sqrt(ydata), fmt='o', elinewidth=2,capsize=2)\n",
    "# axs[1][0].plot(xplot, fit_y, '--', label='Guassian Fit',c='k',linewidth=1)\n",
    "# fracs = N / N.max()\n",
    "\n",
    "# we need to normalize the data to 0..1 for the full range of the colormap\n",
    "# norm = colors.Normalize(fracs.min(), fracs.max())\n",
    "\n",
    "# Now, we'll loop through our objects and set the color of each accordingly\n",
    "# for thisfrac, thispatch in zip(fracs, patches):\n",
    "#     color = plt.cm.viridis(norm(thisfrac))\n",
    "#     thispatch.set_facecolor(color)\n",
    "\n",
    "# We can also normalize our inputs by the total number of counts\n",
    "# N1, bins1, patches1 = axs[0][1].hist(Ts_max, bins=n_bins, density=True)\n",
    "# axs[0][1].set_ylabel('Counts density',axesfont)\n",
    "# axs[0][1].set_xlabel(r'$\\sqrt{TS_{\\rm max}}$',axesfont)\n",
    "# axs[1][1].set_ylabel('Counts density',axesfont)\n",
    "# axs[1][1].set_xlabel(r'$\\sqrt{TS_{\\rm max}}$',axesfont)\n",
    "# xdata1=(bins[:-1]+bins[1:])*0.5\n",
    "# ydata1=N1\n",
    "# xplot1=np.arange(min(xdata1)-0.00001,max(xdata1),0.1)\n",
    "# parameters1,covariance1=curve_fit(gauss1,xdata1, ydata1,maxfev=500000)\n",
    "# fit_y1=gauss1(xplot1, *parameters1)\n",
    "\n",
    "# axs[0][1].plot(xplot1, fit_y1, '--', label='Guassian Fit',c='k',linewidth=2)\n",
    "# axs[1][1].errorbar(xdata1, ydata1, xerr=np.sqrt(xdata1), yerr=np.sqrt(ydata1), fmt='o', elinewidth=2,capsize=2)\n",
    "# axs[1][1].plot(xplot1, fit_y1, '--', label='Guassian Fit',c='k',linewidth=1)\n",
    "# Now we format the y-axis to display percentage\n",
    "#axs[1].yaxis.set_major_formatter(PercentFormatter(xmax=1))\n",
    "axs.tick_params(which='major', width=1.5, length=6,direction='in')\n",
    "axs.tick_params(which='minor', width=1.5, length=3,direction='in')\n",
    "# axs[0][1].tick_params(which='major', width=1.5, length=6,direction='in')\n",
    "# axs[0][1].tick_params(which='minor', width=1.5, length=3,direction='in')\n",
    "# axs[1][0].tick_params(which='major', width=1.5, length=6,direction='in')\n",
    "# axs[1][0].tick_params(which='minor', width=1.5, length=3,direction='in')\n",
    "# axs[1][1].tick_params(which='major', width=1.5, length=6,direction='in')\n",
    "# axs[1][1].tick_params(which='minor', width=1.5, length=3,direction='in')\n",
    "# #axs[1].xaxis.set_minor_locator(MultipleLocator(5))\n",
    "# axs[0][0].legend()\n",
    "# # axs[1].xaxis.set_minor_locator(MultipleLocator(5))\n",
    "# axs[0][1].legend()\n",
    "axs.xaxis.set_minor_locator(AutoMinorLocator())\n",
    "axs.yaxis.set_minor_locator(AutoMinorLocator())\n",
    "axs.tick_params(which='minor', length=2,width=1, color='k')\n",
    "axs.tick_params(which='major', length=4,width=1, color='k')\n",
    "axs.tick_params(axis='x', which='minor', bottom=True,top=True)\n",
    "axs.tick_params(axis='x', which='major', bottom=True,top=True)\n",
    "axs.tick_params(axis='y', which='minor', bottom=True,top=True,right=True)\n",
    "axs.tick_params(axis='y', which='major', bottom=True,top=True,right=True)\n",
    "# For the minor ticks, use no labels; default NullFormatter.\n",
    "# axs[0][1].xaxis.set_minor_locator(AutoMinorLocator())\n",
    "# axs[0][1].yaxis.set_minor_locator(AutoMinorLocator())\n",
    "# axs[0][1].tick_params(which='minor', length=2, color='k')\n",
    "# axs[1][0].xaxis.set_minor_locator(AutoMinorLocator())\n",
    "# axs[1][0].yaxis.set_minor_locator(AutoMinorLocator())\n",
    "# axs[1][0].tick_params(which='minor', length=2, color='k')\n",
    "# axs[1][1].xaxis.set_minor_locator(AutoMinorLocator())\n",
    "# axs[1][1].yaxis.set_minor_locator(AutoMinorLocator())\n",
    "# axs[1][1].tick_params(which='minor', length=2, color='k')\n",
    "# axs[1][0].set_xscale('log')\n",
    "# axs[1][1].set_xscale('log')\n",
    "# axs[1][0].set_yscale('log')\n",
    "# axs[1][1].set_yscale('log')\n",
    "# axs[0][0].set_yscale('log')\n",
    "# axs[0][1].set_yscale('log')\n",
    "# axs[0][0].set_xscale('log')\n",
    "# axs[0][1].set_xscale('log')\n",
    "plt.legend(custom_lines,[r'$\\sqrt{{\\rm TS_{max}}} \\cdot{\\rm bin^{-1}}$','Guassian Fit'],fancybox=False,edgecolor=None,frameon=False,fontsize='large')\n",
    "fig.savefig('fig2a.pdf')"
   ]
  },
  {
   "cell_type": "code",
   "execution_count": 152,
   "metadata": {},
   "outputs": [
    {
     "name": "stdout",
     "output_type": "stream",
     "text": [
      "[19. 17. 16. 14.  3.  3.  2.  1.  1.]\n"
     ]
    }
   ],
   "source": [
    "N, bins, patches = axs.hist(Ts_max, bins=[0.0178462,0.23046926,0.44309231,0.65571536,0.86833841,1.08096146,\n",
    " 1.29358451,1.50620756,1.71883061,2.14407672],linewidth=3,histtype='step',stacked=True,alpha=0.8)\n",
    "print(N)"
   ]
  },
  {
   "cell_type": "code",
   "execution_count": null,
   "metadata": {},
   "outputs": [],
   "source": [
    "[0.0178462 ,0.21113989, 0.40443357, 0.59772725, 0.79102094, 0.98431462,\n",
    " 1.1776083, 1.37090198, 1.56419567, 1.75748935, 1.95078303, 2.14407672] "
   ]
  },
  {
   "cell_type": "code",
   "execution_count": 222,
   "metadata": {},
   "outputs": [
    {
     "name": "stdout",
     "output_type": "stream",
     "text": [
      "[1.49099988 5.00992932 0.02967113 3.40489125 1.17114509 4.27833614\n",
      " 0.00548811 0.27380506 0.48607449]\n",
      "[18. 14. 14. 13.  9.  3.  3.  1.  1.]\n",
      "chisquare/NDF = 3.02 / 6 = 0.50\n"
     ]
    }
   ],
   "source": [
    "def calc_chisquare(meas, sigma, fit): \n",
    "    diff = pow(meas-fit, 2.)\n",
    "    print(diff)\n",
    "    print(pow(sigma,2.))\n",
    "    test_statistic = (diff/pow(sigma,2.)).sum()\n",
    "    return test_statistic\n",
    "chis = calc_chisquare(ydata, np.sqrt(ydata), gauss(xdata , *parameters))\n",
    "NDF = len(ydata) - 3\n",
    "print(\"chisquare/NDF = {0:.2f} / {1:d} = {2:.2f}\".format(chis, NDF, chis / float(NDF)))"
   ]
  },
  {
   "cell_type": "code",
   "execution_count": 190,
   "metadata": {},
   "outputs": [],
   "source": [
    "#Compute the signal PDF for all neutrinos as per eqns 6, 7 and weights as per eqn 8 of 2205.15963\n",
    "\n",
    "@njit(nogil=True)\n",
    "def S_ijk(i,nu): \n",
    "\n",
    "    '''\n",
    "    Calculates S_ij as in EQN 7 of 2205.15963\n",
    "    ----------\n",
    "\n",
    "    Parameters\n",
    "    ----------\n",
    "    nu : int\n",
    "        Index of the neutrino in the sample\n",
    "        \n",
    "    \n",
    "    Returns\n",
    "    -------\n",
    "        Returns the signal PDF for the {psrno}th pulsar and nuind_inp neutrino\n",
    "    '''\n",
    "    ang2 = hvovec(gammaraysrc2ra[i], gammaraysrc2dec[i], icra[nu], icdec[nu], rad=True) ** 2      #rad**2\n",
    "    sg = np.deg2rad(icang[nu]) ** 2                                     #rad**2\n",
    "    return np.divide(np.exp(-1 * np.divide(ang2, 2*sg)), (2 * np.pi * sg))      #1/rad**2\n",
    "\n",
    "# @jit(nopython=True)\n",
    "@vectorize(['float64(int64)'], nopython=True,target='parallel')\n",
    "def Bi_single_compute(i):\n",
    "\n",
    "    '''\n",
    "    Calculates B_i as in EQN 9 of 2205.15963\n",
    "    ----------\n",
    "\n",
    "    Parameters\n",
    "    ----------\n",
    "    nu : int\n",
    "        Index of the neutrino from IceCube sample\n",
    "    cone : float\n",
    "        Cone angle in degrees.\n",
    "    \n",
    "\n",
    "    Returns\n",
    "    -------\n",
    "    float\n",
    "        Returns the background PDF for the {nu}th neutrino\n",
    "    '''\n",
    "\n",
    "    # count = np.sum(np.abs(np.subtract(icdec, icdec[nu])) <= cone)\n",
    "    # count=0\n",
    "    # for n in prange(len(icdec)):\n",
    "    #     if abs(icdec[n] - lhsaao1dec[i]) <= 5:\n",
    "    #         count+=1\n",
    "    binwidth = (np.sin(np.deg2rad(gammaraysrc2dec[i] + 5)) - np.sin(np.deg2rad(gammaraysrc2dec[i] - 5)))*2*np.pi\n",
    "    return 1/binwidth           #No units or sr**-1"
   ]
  },
  {
   "cell_type": "code",
   "execution_count": 191,
   "metadata": {},
   "outputs": [],
   "source": [
    "@jit(nopython=True)\n",
    "def Pr(x, Ns, S, B):\n",
    "    nsN = x/Ns\n",
    "    return np.add(np.multiply(nsN , S), np.multiply(np.subtract(1, nsN), B))\n",
    "\n",
    "\n",
    "\n",
    "@njit(nogil=True)\n",
    "# d@njit(nogil=True)\n",
    "def TS_st_vec(x, S, B, Ns):\n",
    "    nsN = x/Ns\n",
    "    pr = np.add(np.multiply(nsN , S), np.multiply(np.subtract(1, nsN), B))\n",
    "    return np.sum(np.asfarray(2*np.log10(pr/B)))\n",
    "\n",
    "lnu = 1134450\n",
    "Ns = lnu#np.count_nonzero(nuind+1)"
   ]
  },
  {
   "cell_type": "code",
   "execution_count": null,
   "metadata": {},
   "outputs": [],
   "source": [
    "Ts_max_1=[]\n",
    "C_1=[]\n",
    "for i in range(len(gammaraysrc2ra)):\n",
    "    Ts_vec=[]\n",
    "    S_i=[]\n",
    "\n",
    "    count=0\n",
    "    for n in prange(len(icdec)):\n",
    "        if abs(icdec[n] - gammaraysrc2dec[i]) <= 5:\n",
    "            count+=1\n",
    "            S_i.append(S_ijk(i,n))\n",
    "    S_i=np.array(S_i)\n",
    "    #solid_angle=(np.sin(np.deg2rad(lhsaao1dec[i] + 5)) - np.sin(np.deg2rad(lhsaao1dec[i] - 5)))*2*np.pi\n",
    "    #B_i=count/(solid_angle * lenic)\n",
    "    count_arr=[i for i in range(count)]\n",
    "    B_i=Bi_single_compute(i)\n",
    "    #print(B_i)\n",
    "    # P_i=Pr(count,Ns,S_i,B_i)\n",
    "#     ns=np.zeros(count)\n",
    "   \n",
    "    for c in prange(len(count_arr)):\n",
    "\n",
    "        # P_i=[]\n",
    "        # for j in range(len(S_i)):\n",
    "        #     Pi=Pr(count_arr[c],Ns,S_i[j],B_i)\n",
    "        #     Pi=2*np.log10(Pi/B_i)\n",
    "        #     P_i.append(Pi)\n",
    "        #Ts=np.sum(P_i)\n",
    "        # print(count_arr[c],S_i[1],B_i,Ns)\n",
    "        # ns[c]= c\n",
    "        # P_i=(c/count)*S_i+(1-c/count)*B_i\n",
    "        # Lns[c]=np.prod(P_i)\n",
    "        # Ts_vec=TS_st_vec()\n",
    "        Ts=TS_st_vec(c+1,S_i,B_i,Ns)\n",
    "        Ts_vec.append(Ts)\n",
    "    Ts_vec= [a_ for a_ in Ts_vec if a_ == a_]\n",
    "\n",
    "    C_1.append(count_arr[np.argmax(Ts_vec)])\n",
    "    Ts_max_1.append(Ts_vec[np.argmax(Ts_vec)])\n",
    "if os.path.exists('Ts_max_1.txt'):\n",
    "    os.remove('Ts_max_1.txt')\n",
    "    \n",
    "with open ('Ts_max_1.txt','a+') as f:\n",
    "     #Ts.append\n",
    "    for i in range(len(Ts_max_1)):\n",
    "        f.write(str(C_1[i]))\n",
    "        f.write('   ')\n",
    "        f.write(str(Ts_max_1[i]))\n",
    "        f.write('\\n')\n",
    "    f.close()"
   ]
  },
  {
   "cell_type": "code",
   "execution_count": null,
   "metadata": {},
   "outputs": [],
   "source": [
    "a=[i for i in range(7)]\n",
    "for i in range(len(a)):\n",
    "    print(i)"
   ]
  },
  {
   "cell_type": "code",
   "execution_count": 337,
   "metadata": {},
   "outputs": [
    {
     "name": "stdout",
     "output_type": "stream",
     "text": [
      "1LHAASOJ2002+3244u\n",
      "(array([52]),)\n"
     ]
    }
   ],
   "source": [
    "print(gammaraysrc2name[53])\n",
    "print(np.where(Ts_max_1 == 2.33966878760389))"
   ]
  },
  {
   "cell_type": "code",
   "execution_count": 262,
   "metadata": {},
   "outputs": [
    {
     "name": "stdout",
     "output_type": "stream",
     "text": [
      "[-1.99723498e-02 -1.98834048e-02 -1.87139498e-02 -1.68510300e-02\n",
      " -1.55987223e-02 -1.50381926e-02 -1.45058855e-02 -1.43353513e-02\n",
      " -1.39692005e-02 -1.38305379e-02 -1.31523305e-02 -1.27335143e-02\n",
      " -1.25949450e-02 -1.24987640e-02 -1.24235336e-02 -1.23118952e-02\n",
      " -1.11127748e-02 -1.08996657e-02 -1.08174446e-02 -1.07809995e-02\n",
      " -1.05332221e-02 -9.73814000e-03 -9.40045467e-03 -8.86690518e-03\n",
      " -8.54656914e-03 -8.26278554e-03 -8.11328858e-03 -7.99924150e-03\n",
      " -7.58495985e-03 -7.44273848e-03 -7.01482616e-03 -6.86327628e-03\n",
      " -6.81153156e-03 -6.46013352e-03 -6.30268940e-03 -6.22333533e-03\n",
      " -6.01977178e-03 -5.94698944e-03 -5.77312756e-03 -5.76113962e-03\n",
      " -5.61804862e-03 -5.61600500e-03 -5.45563823e-03 -5.42014092e-03\n",
      " -5.12962052e-03 -5.12323240e-03 -4.96541392e-03 -4.80243249e-03\n",
      " -4.69009562e-03 -4.57142242e-03 -4.44658526e-03 -4.19749029e-03\n",
      " -4.10528476e-03 -4.08952803e-03 -4.01937651e-03 -3.90433234e-03\n",
      " -3.67705513e-03 -3.30571952e-03 -3.20189445e-03 -3.18274282e-03\n",
      " -3.04300475e-03 -3.02113187e-03 -2.66661548e-03 -2.53716316e-03\n",
      " -2.48230117e-03 -2.38878428e-03 -2.31975400e-03 -2.26015452e-03\n",
      " -2.19933295e-03 -2.17596563e-03 -2.08310362e-03 -1.87523579e-03\n",
      " -1.86698960e-03 -1.85781911e-03 -1.83853774e-03 -1.77822985e-03\n",
      " -1.73862069e-03 -1.72202482e-03 -1.71043547e-03 -1.65857152e-03\n",
      " -1.54210704e-03 -1.48961767e-03 -1.14542756e-03 -1.04276797e-03\n",
      " -9.44044927e-04 -9.39934013e-04 -8.95179849e-04 -7.80196366e-04\n",
      " -7.40561260e-04 -6.76055674e-04 -6.27617644e-04 -5.49480148e-04\n",
      " -9.59739255e-05 -4.51910984e-05  3.05516173e-04  3.18487019e-04\n",
      "  1.04524150e-03  1.09105632e-03  1.25500869e-03  3.02835724e-03\n",
      "  7.48724960e-03  1.42540132e-02  1.66657239e-02  2.37495333e-02\n",
      "  2.39510064e-02  3.36049516e-02  3.52533741e-02  3.86788731e-02\n",
      "  4.01425011e-02  4.11833684e-02  4.24277223e-02  5.08983036e-02\n",
      "  5.85160311e-02  6.02024022e-02  6.03863334e-02  7.05848574e-02\n",
      "  8.14233774e-02  9.43918258e-02  9.59035412e-02  9.70914952e-02\n",
      "  9.82532155e-02  1.05641503e-01  1.06486850e-01  1.11664507e-01\n",
      "  1.17756542e-01  1.20274807e-01  1.38727884e-01  1.49897941e-01\n",
      "  1.51737164e-01  1.63601344e-01  1.92044977e-01  2.01849287e-01\n",
      "  2.38227713e-01  2.54116574e-01  2.59049391e-01  2.69339468e-01\n",
      "  3.13031896e-01  3.34900937e-01  3.45467953e-01  3.53796606e-01\n",
      "  3.65649479e-01  3.71766203e-01  5.13430514e-01  5.14867991e-01\n",
      "  5.27758931e-01  5.35413364e-01  6.89978730e-01  7.15679567e-01\n",
      "  7.17070201e-01  7.30509912e-01  8.26315764e-01  1.07273727e+00\n",
      "  1.17963573e+00  1.19870932e+00  1.20174168e+00  1.25357668e+00\n",
      "  1.39664259e+00  1.71019119e+00  1.76992233e+00  1.83041454e+00\n",
      "  2.33966879e+00  2.44098162e+00  2.51614465e+00  4.59706496e+00]\n"
     ]
    }
   ],
   "source": [
    "Ts_max_1=np.loadtxt('Ts_max_1.txt',usecols=(1))\n",
    "\n",
    "print(np.sort(Ts_max_1))"
   ]
  },
  {
   "cell_type": "code",
   "execution_count": 372,
   "metadata": {},
   "outputs": [
    {
     "name": "stdout",
     "output_type": "stream",
     "text": [
      "-1.8292682926829258\n",
      "98.17053506202407\n",
      "0.9515768999673596\n",
      "-4.842310003264032\n",
      "4.864079094285733\n"
     ]
    }
   ],
   "source": [
    "percentile = stats.percentileofscore(Ts_max_1, 2.33966879e+00, kind='weak')\n",
    "print(percentile-100)\n",
    "\n",
    "from scipy.integrate import quad\n",
    "coff=1/np.sqrt(2*np.pi)\n",
    "def integrand(z):\n",
    "\t# return(x+1)/x**2\n",
    "    f=lambda z: np.exp((z**2)*0.5*-1)\n",
    "    I=quad(f, -1*z, z)[0]\n",
    "    return I*coff*100\n",
    "# confidence_level=integrand(99.41176470588236)\n",
    "# print(confidence_level)\n",
    "pro=integrand(2.3596)\n",
    "print(pro)\n",
    "\n",
    "p_post=1-(1-0.018292682926829258)**164\n",
    "print(p_post)\n",
    "print(p_post*100-100)\n",
    "pro_post=integrand(0.061)\n",
    "print(pro_post)"
   ]
  },
  {
   "cell_type": "code",
   "execution_count": 335,
   "metadata": {},
   "outputs": [
    {
     "name": "stdout",
     "output_type": "stream",
     "text": [
      "-1.2195121951219505\n",
      "98.7799794340441\n",
      "0.8663185014872676\n",
      "-13.36814985127323\n",
      "11.923538474048504\n"
     ]
    }
   ],
   "source": [
    "percentile = stats.percentileofscore(Ts_max_1, 2.44098162e+00 , kind='weak')\n",
    "\n",
    "print(percentile-100)\n",
    "\n",
    "from scipy.integrate import quad\n",
    "coff=1/np.sqrt(2*np.pi)\n",
    "def integrand(z):\n",
    "\t# return(x+1)/x**2\n",
    "    f=lambda z: np.exp((z**2)*0.5*-1)\n",
    "    I=quad(f, -1*z, z)[0]\n",
    "    return I*coff*100\n",
    "# confidence_level=integrand(99.41176470588236)\n",
    "# print(confidence_level)\n",
    "pro=integrand(2.5063)\n",
    "print(pro)\n",
    "\n",
    "p_post=1-(1-0.012195121951219505)**164\n",
    "print(p_post)\n",
    "print(p_post*100-100)\n",
    "pro_post=integrand(0.15)\n",
    "print(pro_post)"
   ]
  },
  {
   "cell_type": "code",
   "execution_count": 211,
   "metadata": {},
   "outputs": [
    {
     "name": "stdout",
     "output_type": "stream",
     "text": [
      "[0.13220825 0.13358969 0.17980599 0.18174472 0.18821823 0.23458583\n",
      " 0.29415794 0.34552883 0.35929903 0.39256698 0.39339691 0.4281548\n",
      " 0.43331146 0.4434743  0.44761137 0.45048514 0.45385009 0.47498055\n",
      " 0.49183419 0.49534006 0.49571797 0.51543972 0.53417957 0.5542856\n",
      " 0.55649166 0.55820702 0.55986935 0.57010998 0.57124708 0.57806781\n",
      " 0.58579581 0.58890286 0.61029659 0.62222709 0.62412703 0.63598477\n",
      " 0.66198895 0.67028084 0.69863135 0.70999983 0.7134206  0.72040215\n",
      " 0.74799234 0.76072746 0.76665848 0.77123799 0.77761788 0.78084975\n",
      " 0.84648725 0.84707911 0.8523322  0.85540602 0.91139979 0.91977088\n",
      " 0.92021735 0.92449918 0.95342494 1.01770836 1.04216619 1.04635359\n",
      " 1.0470147  1.05812683 1.08710457 1.14356582 1.15342285 1.16315439\n",
      " 1.23676901 1.24994564 1.25945861 1.46426661]\n"
     ]
    }
   ],
   "source": [
    "Ts_max_1=np.sqrt(Ts_max_1)\n",
    "Ts_max_1 = Ts_max_1[~np.isnan(Ts_max_1)]\n",
    "\n",
    "print(np.sort(Ts_max_1))"
   ]
  },
  {
   "cell_type": "code",
   "execution_count": null,
   "metadata": {},
   "outputs": [
    {
     "name": "stdout",
     "output_type": "stream",
     "text": [
      "[0.12380891 0.33646868 0.54912844 0.76178821 0.97444798 1.18710775\n",
      " 1.39976752 1.61242729 1.82508706 2.03774683] \n",
      " [18. 19. 11.  8.  2.  5.  3.  3.  0.  1.]\n"
     ]
    },
    {
     "data": {
      "image/png": "[encoded data removed]",
      "text/plain": [
       "<Figure size 1000x1000 with 4 Axes>"
      ]
     },
     "metadata": {},
     "output_type": "display_data"
    }
   ],
   "source": [
    "from matplotlib import colors\n",
    "from matplotlib.ticker import PercentFormatter\n",
    "from matplotlib.ticker import MaxNLocator, NullLocator\n",
    "import matplotlib.pyplot as plt\n",
    "from matplotlib.ticker import (MultipleLocator, AutoMinorLocator)\n",
    "font = {'family': 'serif',\n",
    "        'weight': 'bold',\n",
    "        'size': 22,\n",
    "        'color':  'black',\n",
    "        }\n",
    "smallerfont = {'family': 'serif',\n",
    "        'color':  'black',\n",
    "        'weight': 'bold',\n",
    "        'size': 15,\n",
    "        }\n",
    "\n",
    "axesfont = {'family': 'serif',\n",
    "        'color':  'black',\n",
    "        'weight': 'normal',\n",
    "        'size': 17,\n",
    "        }\n",
    "n_bins = 10\n",
    "fig, axs = plt.subplots(2, 2, tight_layout=True,figsize=(10, 10))\n",
    "axs[0][0].set_ylabel('Counts',axesfont)\n",
    "axs[0][0].set_xlabel(r'$\\sqrt{TS_{\\rm max}}$',axesfont)\n",
    "axs[1][0].set_ylabel('Counts',axesfont)\n",
    "axs[1][0].set_xlabel(r'$\\sqrt{TS_{\\rm max}}$',axesfont)\n",
    "\n",
    "# N is the count in each bin, bins is the lower-limit of the bin\n",
    "N, bins, patches = axs[0][0].hist(Ts_max_1, bins=n_bins,linewidth=3)\n",
    "#print(bins,'\\n',patches)\n",
    "xdata=(bins[:-1]+bins[1:])*0.5\n",
    "ydata=N\n",
    "xplot=np.arange(min(xdata)-0.00001,max(xdata),0.1)\n",
    "\n",
    "print(xdata,'\\n',ydata)\n",
    "# We'll color code by height, but you could use any scalar\n",
    "parameters, covariance = curve_fit(gauss1, xdata, ydata,maxfev=5000000)\n",
    "# parameters1,covariance1=curve_fit(gauss,xdata, ydata,maxfev=500000)\n",
    "# fit_A = parameters[0]\n",
    "# fit_B = parameters[1]\n",
    "\n",
    "fit_y = gauss1(xplot, *parameters)\n",
    "\n",
    "# axs[0].plot(xplot, fit_y, '--', label='fit',c='green')\n",
    "axs[0][0].plot(xplot, fit_y, '--', label='Guassian Fit',c='k',linewidth=2)\n",
    "axs[1][0].errorbar(xdata, ydata, xerr=np.sqrt(xdata), yerr=np.sqrt(ydata), fmt='o', elinewidth=2,capsize=2)\n",
    "axs[1][0].plot(xplot, fit_y, '--', label='Guassian Fit',c='k',linewidth=1)\n",
    "fracs = N / N.max()\n",
    "\n",
    "# we need to normalize the data to 0..1 for the full range of the colormap\n",
    "norm = colors.Normalize(fracs.min(), fracs.max())\n",
    "\n",
    "# Now, we'll loop through our objects and set the color of each accordingly\n",
    "# for thisfrac, thispatch in zip(fracs, patches):\n",
    "#     color = plt.cm.viridis(norm(thisfrac))\n",
    "#     thispatch.set_facecolor(color)\n",
    "\n",
    "# We can also normalize our inputs by the total number of counts\n",
    "N1, bins1, patches1 = axs[0][1].hist(Ts_max_1, bins=n_bins, density=True)\n",
    "axs[0][1].set_ylabel('Counts density',axesfont)\n",
    "axs[0][1].set_xlabel(r'$\\sqrt{TS_{\\rm max}}$',axesfont)\n",
    "axs[1][1].set_ylabel('Counts density',axesfont)\n",
    "axs[1][1].set_xlabel(r'$\\sqrt{TS_{\\rm max}}$',axesfont)\n",
    "xdata1=(bins[:-1]+bins[1:])*0.5\n",
    "ydata1=N1\n",
    "xplot1=np.arange(min(xdata1)-0.00001,max(xdata1),0.1)\n",
    "parameters1,covariance1=curve_fit(gauss1,xdata1, ydata1,maxfev=500000)\n",
    "fit_y1=gauss1(xplot1, *parameters1)\n",
    "\n",
    "axs[0][1].plot(xplot1, fit_y1, '--', label='Guassian Fit',c='k',linewidth=2)\n",
    "axs[1][1].errorbar(xdata1, ydata1, xerr=np.sqrt(xdata1), yerr=np.sqrt(ydata1), fmt='o', elinewidth=2,capsize=2)\n",
    "axs[1][1].plot(xplot1, fit_y1, '--', label='Guassian Fit',c='k',linewidth=1)\n",
    "# Now we format the y-axis to display percentage\n",
    "#axs[1].yaxis.set_major_formatter(PercentFormatter(xmax=1))\n",
    "axs[0][0].tick_params(which='major', width=1.5, length=6,direction='in')\n",
    "axs[0][0].tick_params(which='minor', width=1.5, length=3,direction='in')\n",
    "axs[0][1].tick_params(which='major', width=1.5, length=6,direction='in')\n",
    "axs[0][1].tick_params(which='minor', width=1.5, length=3,direction='in')\n",
    "axs[1][0].tick_params(which='major', width=1.5, length=6,direction='in')\n",
    "axs[1][0].tick_params(which='minor', width=1.5, length=3,direction='in')\n",
    "axs[1][1].tick_params(which='major', width=1.5, length=6,direction='in')\n",
    "axs[1][1].tick_params(which='minor', width=1.5, length=3,direction='in')\n",
    "#axs[1].xaxis.set_minor_locator(MultipleLocator(5))\n",
    "axs[0][0].legend()\n",
    "# axs[1].xaxis.set_minor_locator(MultipleLocator(5))\n",
    "axs[0][1].legend()\n",
    "axs[0][0].xaxis.set_minor_locator(AutoMinorLocator())\n",
    "axs[0][0].yaxis.set_minor_locator(AutoMinorLocator())\n",
    "axs[0][0].tick_params(which='minor', length=2, color='k')\n",
    "# For the minor ticks, use no labels; default NullFormatter.\n",
    "axs[0][1].xaxis.set_minor_locator(AutoMinorLocator())\n",
    "axs[0][1].yaxis.set_minor_locator(AutoMinorLocator())\n",
    "axs[0][1].tick_params(which='minor', length=2, color='k')\n",
    "axs[1][0].xaxis.set_minor_locator(AutoMinorLocator())\n",
    "axs[1][0].yaxis.set_minor_locator(AutoMinorLocator())\n",
    "axs[1][0].tick_params(which='minor', length=2, color='k')\n",
    "axs[1][1].xaxis.set_minor_locator(AutoMinorLocator())\n",
    "axs[1][1].yaxis.set_minor_locator(AutoMinorLocator())\n",
    "axs[1][1].tick_params(which='minor', length=2, color='k')\n",
    "# axs[1][0].set_xscale('log')\n",
    "# axs[1][1].set_xscale('log')\n",
    "# axs[1][0].set_yscale('log')\n",
    "# axs[1][1].set_yscale('log')\n",
    "# axs[0][0].set_yscale('log')\n",
    "# axs[0][1].set_yscale('log')\n",
    "# axs[0][0].set_xscale('log')\n",
    "# axs[0][1].set_xscale('log')\n",
    "fig.savefig('Ts_max_1distr.pdf')"
   ]
  },
  {
   "cell_type": "code",
   "execution_count": 218,
   "metadata": {},
   "outputs": [
    {
     "name": "stdout",
     "output_type": "stream",
     "text": [
      "[0.30746961 0.59746021 0.79078728 0.98411434 1.1574414  1.31705246\n",
      " 1.72370659] \n",
      " [21. 17. 14. 10.  4.  3.  1.]\n"
     ]
    },
    {
     "data": {
      "image/png": "[encoded data removed]",
      "text/plain": [
       "<Figure size 500x500 with 1 Axes>"
      ]
     },
     "metadata": {},
     "output_type": "display_data"
    }
   ],
   "source": [
    "from matplotlib.lines import Line2D\n",
    "font = {'family': 'serif',\n",
    "        'weight': 'bold',\n",
    "        'size': 22,\n",
    "        'color':  'black',\n",
    "        }\n",
    "smallerfont = {'family': 'serif',\n",
    "        'color':  'black',\n",
    "        'weight': 'bold',\n",
    "        'size': 15,\n",
    "        }\n",
    "\n",
    "axesfont = {'family': 'serif',\n",
    "        'color':  'black',\n",
    "        'weight': 'normal',\n",
    "        'size': 17,\n",
    "        }\n",
    "custom_lines = [Line2D([0], [0], color='#1f77b4', lw=4),\n",
    "                Line2D([0], [2],linestyle='--', color='k', lw=2)]\n",
    "n_bins =11\n",
    "fig, axs = plt.subplots(1, 1, tight_layout=True,figsize=(5, 5))\n",
    "axs.set_ylabel('Counts',axesfont)\n",
    "axs.set_xlabel(r'$\\sqrt{{\\rm TS_{max}}}$',axesfont)\n",
    "# axs[1][0].set_ylabel('Counts',axesfont)\n",
    "# axs[1][0].set_xlabel(r'$\\sqrt{TS_{\\rm max}}$',axesfont)\n",
    "\n",
    "# N is the count in each bin, bins is the lower-limit of the bin\n",
    "N, bins, patches = axs.hist(Ts_max_1, bins=[0.11414255, 0.50079668, 0.69412374, 0.88745081, 1.08077787,\n",
    " 1.23410493, 1.4,2.04741318]   ,linewidth=3,histtype='step',stacked=True,alpha=0.8)\n",
    "#print(bins,'\\n',patches)\n",
    "xdata=(bins[:-1]+bins[1:])*0.5\n",
    "ydata=N\n",
    "xplot=np.arange(min(xdata)-0.1,max(xdata),0.01)\n",
    "axs.set_xlim(min(xdata)-0.12,max(xdata))\n",
    "print(xdata,'\\n',ydata)\n",
    "# We'll color code by height, but you could use any scalar\n",
    "parameters, covariance = curve_fit(gauss, xdata, ydata,maxfev=5000000)\n",
    "# parameters1,covariance1=curve_fit(gauss,xdata, ydata,maxfev=500000)\n",
    "# fit_A = parameters[0]\n",
    "# fit_B = parameters[1]\n",
    "\n",
    "fit_y = gauss(xplot, *parameters)\n",
    "\n",
    "# axs[0].plot(xplot, fit_y, '--', label='fit',c='green')\n",
    "axs.plot(xplot, fit_y,linestyle='--',c='k',linewidth=2)\n",
    "# axs[1][0].errorbar(xdata, ydata, xerr=np.sqrt(xdata), yerr=np.sqrt(ydata), fmt='o', elinewidth=2,capsize=2)\n",
    "# axs[1][0].plot(xplot, fit_y, '--', label='Guassian Fit',c='k',linewidth=1)\n",
    "# fracs = N / N.max()\n",
    "\n",
    "# we need to normalize the data to 0..1 for the full range of the colormap\n",
    "# norm = colors.Normalize(fracs.min(), fracs.max())\n",
    "\n",
    "# Now, we'll loop through our objects and set the color of each accordingly\n",
    "# for thisfrac, thispatch in zip(fracs, patches):\n",
    "#     color = plt.cm.viridis(norm(thisfrac))\n",
    "#     thispatch.set_facecolor(color)\n",
    "\n",
    "# We can also normalize our inputs by the total number of counts\n",
    "# N1, bins1, patches1 = axs[0][1].hist(Ts_max, bins=n_bins, density=True)\n",
    "# axs[0][1].set_ylabel('Counts density',axesfont)\n",
    "# axs[0][1].set_xlabel(r'$\\sqrt{TS_{\\rm max}}$',axesfont)\n",
    "# axs[1][1].set_ylabel('Counts density',axesfont)\n",
    "# axs[1][1].set_xlabel(r'$\\sqrt{TS_{\\rm max}}$',axesfont)\n",
    "# xdata1=(bins[:-1]+bins[1:])*0.5\n",
    "# ydata1=N1\n",
    "# xplot1=np.arange(min(xdata1)-0.00001,max(xdata1),0.1)\n",
    "# parameters1,covariance1=curve_fit(gauss1,xdata1, ydata1,maxfev=500000)\n",
    "# fit_y1=gauss1(xplot1, *parameters1)\n",
    "\n",
    "# axs[0][1].plot(xplot1, fit_y1, '--', label='Guassian Fit',c='k',linewidth=2)\n",
    "# axs[1][1].errorbar(xdata1, ydata1, xerr=np.sqrt(xdata1), yerr=np.sqrt(ydata1), fmt='o', elinewidth=2,capsize=2)\n",
    "# axs[1][1].plot(xplot1, fit_y1, '--', label='Guassian Fit',c='k',linewidth=1)\n",
    "# Now we format the y-axis to display percentage\n",
    "#axs[1].yaxis.set_major_formatter(PercentFormatter(xmax=1))\n",
    "axs.tick_params(which='major', width=1.5, length=6,direction='in')\n",
    "axs.tick_params(which='minor', width=1.5, length=3,direction='in')\n",
    "# axs[0][1].tick_params(which='major', width=1.5, length=6,direction='in')\n",
    "# axs[0][1].tick_params(which='minor', width=1.5, length=3,direction='in')\n",
    "# axs[1][0].tick_params(which='major', width=1.5, length=6,direction='in')\n",
    "# axs[1][0].tick_params(which='minor', width=1.5, length=3,direction='in')\n",
    "# axs[1][1].tick_params(which='major', width=1.5, length=6,direction='in')\n",
    "# axs[1][1].tick_params(which='minor', width=1.5, length=3,direction='in')\n",
    "# #axs[1].xaxis.set_minor_locator(MultipleLocator(5))\n",
    "# axs[0][0].legend()\n",
    "# # axs[1].xaxis.set_minor_locator(MultipleLocator(5))\n",
    "# axs[0][1].legend()\n",
    "axs.xaxis.set_minor_locator(AutoMinorLocator())\n",
    "axs.yaxis.set_minor_locator(AutoMinorLocator())\n",
    "axs.tick_params(which='minor', length=2,width=1, color='k')\n",
    "axs.tick_params(which='major', length=4,width=1, color='k')\n",
    "axs.tick_params(axis='x', which='minor', bottom=True,top=True)\n",
    "axs.tick_params(axis='x', which='major', bottom=True,top=True)\n",
    "axs.tick_params(axis='y', which='minor', bottom=True,top=True,right=True)\n",
    "axs.tick_params(axis='y', which='major', bottom=True,top=True,right=True)\n",
    "# For the minor ticks, use no labels; default NullFormatter.\n",
    "# axs[0][1].xaxis.set_minor_locator(AutoMinorLocator())\n",
    "# axs[0][1].yaxis.set_minor_locator(AutoMinorLocator())\n",
    "# axs[0][1].tick_params(which='minor', length=2, color='k')\n",
    "# axs[1][0].xaxis.set_minor_locator(AutoMinorLocator())\n",
    "# axs[1][0].yaxis.set_minor_locator(AutoMinorLocator())\n",
    "# axs[1][0].tick_params(which='minor', length=2, color='k')\n",
    "# axs[1][1].xaxis.set_minor_locator(AutoMinorLocator())\n",
    "# axs[1][1].yaxis.set_minor_locator(AutoMinorLocator())\n",
    "# axs[1][1].tick_params(which='minor', length=2, color='k')\n",
    "# axs[1][0].set_xscale('log')\n",
    "# axs[1][1].set_xscale('log')\n",
    "# axs[1][0].set_yscale('log')\n",
    "# axs[1][1].set_yscale('log')\n",
    "# axs[0][0].set_yscale('log')\n",
    "# axs[0][1].set_yscale('log')\n",
    "# axs[0][0].set_xscale('log')\n",
    "# axs[0][1].set_xscale('log')\n",
    "plt.legend(custom_lines,[r'$\\sqrt{{\\rm TS_{max}}} \\cdot{\\rm bin^{-1}}$','Guassian Fit'],fancybox=False,edgecolor=None,frameon=False,fontsize='large')\n",
    "fig.savefig('fig2b.pdf')"
   ]
  },
  {
   "cell_type": "code",
   "execution_count": 219,
   "metadata": {},
   "outputs": [
    {
     "name": "stdout",
     "output_type": "stream",
     "text": [
      "[0.04337348 0.64384145 0.28778396 1.3321205  1.92014747 0.00735255\n",
      " 0.26622653]\n",
      "[21. 17. 14. 10.  4.  3.  1.]\n",
      "chisquare/NDF = 0.94 / 4 = 0.24\n"
     ]
    }
   ],
   "source": [
    "def calc_chisquare(meas, sigma, fit): \n",
    "    diff = pow(meas-fit, 2.)\n",
    "    print(diff)\n",
    "    print(pow(sigma,2.))\n",
    "    test_statistic = (diff/pow(sigma,2.)).sum()\n",
    "    return test_statistic\n",
    "chis = calc_chisquare(ydata, np.sqrt(ydata), gauss(xdata , *parameters))\n",
    "NDF = len(ydata) - 3\n",
    "print(\"chisquare/NDF = {0:.2f} / {1:d} = {2:.2f}\".format(chis, NDF, chis / float(NDF)))"
   ]
  },
  {
   "cell_type": "code",
   "execution_count": null,
   "metadata": {},
   "outputs": [
    {
     "name": "stdout",
     "output_type": "stream",
     "text": [
      "[1.00000000e+11 1.58489319e+11 2.51188643e+11 3.98107171e+11\n",
      " 6.30957344e+11 1.00000000e+12 1.58489319e+12 2.51188643e+12\n",
      " 3.98107171e+12 6.30957344e+12 1.00000000e+13 1.58489319e+13\n",
      " 2.51188643e+13 3.98107171e+13 6.30957344e+13 1.00000000e+14\n",
      " 1.58489319e+14 2.51188643e+14 3.98107171e+14 6.30957344e+14\n",
      " 1.00000000e+15 1.58489319e+15 2.51188643e+15 3.98107171e+15\n",
      " 6.30957344e+15 1.00000000e+16 1.58489319e+16 2.51188643e+16\n",
      " 3.98107171e+16 6.30957344e+16 1.00000000e+17 1.58489319e+17\n",
      " 2.51188643e+17 3.98107171e+17 6.30957344e+17 1.00000000e+18\n",
      " 1.58489319e+18 2.51188643e+18 3.98107171e+18 6.30957344e+18\n",
      " 1.00000000e+19]\n",
      "1000000\n"
     ]
    }
   ],
   "source": [
    "# UNCOMMENT FOR LINEAR BINS\n",
    "# all_enu = np.linspace(10**11.001, 10**18.999, 1000)\n",
    "all_enu = e_nu_wall\n",
    "\n",
    "# enus = 0.5*(all_enu[1:]+all_enu[:-1])\n",
    "# UNCOMMENT FOR DENSER LOGARITHMIC BINS, optimal nbins is 1e6\n",
    "enus = np.logspace(11.001, 18.999, int(1e6))\n",
    "print(all_enu)\n",
    "print (len(enus))\n"
   ]
  },
  {
   "cell_type": "code",
   "execution_count": null,
   "metadata": {},
   "outputs": [
    {
     "name": "stdout",
     "output_type": "stream",
     "text": [
      "41\n"
     ]
    }
   ],
   "source": [
    "enus_bin_indices = np.zeros(len(enus), dtype=np.int64)\n",
    "\n",
    "for i in prange(len(enus)):\n",
    "    enus_bin_indices[i] = np.digitize(enus[i], e_nu_wall) -1\n",
    "print (len(e_nu_wall))"
   ]
  },
  {
   "cell_type": "code",
   "execution_count": null,
   "metadata": {},
   "outputs": [
    {
     "name": "stdout",
     "output_type": "stream",
     "text": [
      "[-90.   -73.74 -66.93 -61.64 -57.14 -53.13 -49.46 -46.05 -42.84 -39.79\n",
      " -36.87 -34.06 -31.33 -28.69 -26.1  -23.58 -21.1  -18.66 -16.26 -13.89\n",
      " -11.54  -9.21  -6.89  -4.59  -2.29   0.     2.29   4.59   6.89   9.21\n",
      "  11.54  13.89  16.26  18.66  21.1   23.58  26.1   28.69  31.33  34.06\n",
      "  36.87  39.79  42.84  46.05  49.46  53.13  57.14  61.64  66.93  73.74\n",
      "  90.  ]\n"
     ]
    }
   ],
   "source": [
    "msdec\n",
    "print(dec_nu)"
   ]
  },
  {
   "cell_type": "code",
   "execution_count": null,
   "metadata": {},
   "outputs": [
    {
     "name": "stdout",
     "output_type": "stream",
     "text": [
      "51\n"
     ]
    }
   ],
   "source": [
    "msdec_bin_indices = np.zeros(p, dtype=np.int64)\n",
    "for i in prange(p):\n",
    "    msdec_bin_indices[i] = np.digitize(msdec[i], dec_nu) - 1\n",
    "print(len(dec_nu))"
   ]
  },
  {
   "cell_type": "code",
   "execution_count": null,
   "metadata": {},
   "outputs": [
    {
     "name": "stdout",
     "output_type": "stream",
     "text": [
      "\n",
      "Number of energy bins:  1000000\n",
      "\n",
      "Number of phi bins:  1000\n",
      "\n",
      "Calculating weights...\n",
      "\n"
     ]
    }
   ],
   "source": [
    "gamma_arr = [-2, -2.2, -2.53, -3]\n",
    "phio = np.logspace(-38, -26, 1000) #CHANGING TO LINEAR BINS RESULTS IN STRAIGHT LINES\n",
    "\n",
    "# print(\"\\nNumber of threads: \", num_threads)\n",
    "print(\"\\nNumber of energy bins: \", len(enus))\n",
    "print(\"\\nNumber of phi bins: \", len(phio))\n",
    "print(\"\\nCalculating weights...\\n\\n\")"
   ]
  },
  {
   "cell_type": "code",
   "execution_count": null,
   "metadata": {},
   "outputs": [
    {
     "data": {
      "text/plain": [
       "array([1.00230524e+11, 1.00232370e+11, 1.00234216e+11, ...,\n",
       "       9.97663317e+18, 9.97681690e+18, 9.97700064e+18])"
      ]
     },
     "execution_count": 105,
     "metadata": {},
     "output_type": "execute_result"
    }
   ],
   "source": [
    "enus"
   ]
  },
  {
   "cell_type": "code",
   "execution_count": null,
   "metadata": {},
   "outputs": [],
   "source": [
    "eareaa = [i.astype(np.float64) for i in earea]\n",
    "eareaa = np.asfarray(eareaa, dtype=np.float64)\n",
    "eareaa[0][0]\n",
    "earea2 = np.asfortranarray(earea)\n",
    "earea2 = earea2[0].astype(np.float64)"
   ]
  },
  {
   "cell_type": "code",
   "execution_count": null,
   "metadata": {},
   "outputs": [
    {
     "name": "stdout",
     "output_type": "stream",
     "text": [
      "[47 32 48 ... 25 31 34]\n"
     ]
    }
   ],
   "source": [
    "print(msdec_bin_indices)"
   ]
  },
  {
   "cell_type": "code",
   "execution_count": null,
   "metadata": {},
   "outputs": [],
   "source": [
    "@vectorize(['float64(int64, float64, int64)'], nopython=True, target='parallel')\n",
    "def psr_wt_sing_gamma(psrno,gamma, season):\n",
    "\n",
    "    tt_upt = t_upt[season]\n",
    "    l = msdec_bin_indices[psrno]\n",
    "    wt_ac_temp = np.zeros(len(enus), dtype=np.float64)\n",
    "    for i in prange(len(enus)):\n",
    "        wt_ac_temp[i] = np.float64(tt_upt * earea[ea_season(season)][l*40 + enus_bin_indices[i]] * enus[i]**gamma)   \n",
    "\n",
    "\n",
    "    return np.trapz(wt_ac_temp, enus)\n"
   ]
  },
  {
   "cell_type": "code",
   "execution_count": null,
   "metadata": {},
   "outputs": [
    {
     "name": "stdout",
     "output_type": "stream",
     "text": [
      "[2.83650278e+13 5.86577806e+14 2.04760708e+13 ... 1.90869204e+16\n",
      " 8.12870622e+14 3.75424443e+14]\n"
     ]
    }
   ],
   "source": [
    "wt_vec = psr_wt_sing_gamma(range(p), -1, 0)\n",
    "print(wt_vec)"
   ]
  },
  {
   "cell_type": "code",
   "execution_count": null,
   "metadata": {},
   "outputs": [
    {
     "name": "stdout",
     "output_type": "stream",
     "text": [
      "(3, 3389)\n",
      "[1, inf, 5058.129999999999]\n"
     ]
    },
    {
     "name": "stderr",
     "output_type": "stream",
     "text": [
      "/tmp/ipykernel_2155/851389087.py:1: RuntimeWarning: divide by zero encountered in divide\n",
      "  w_models = np.column_stack([np.ones(p), 1/(msdist**2), mss1400]).T.astype(np.float64)\n",
      "/tmp/ipykernel_2155/851389087.py:2: RuntimeWarning: divide by zero encountered in divide\n",
      "  sum_wt_model = [1, np.sum(1/(msdist**2)), np.sum(mss1400)]\n"
     ]
    }
   ],
   "source": [
    "w_models = np.column_stack([np.ones(p), 1/(msdist**2), mss1400]).T.astype(np.float64)\n",
    "sum_wt_model = [1, np.sum(1/(msdist**2)), np.sum(mss1400)]\n",
    "print(w_models.shape)\n",
    "print(sum_wt_model)"
   ]
  },
  {
   "cell_type": "code",
   "execution_count": null,
   "metadata": {},
   "outputs": [
    {
     "name": "stdout",
     "output_type": "stream",
     "text": [
      "(3, 3389)\n",
      "['all_TSS_100000_bins_C_wt_all_psr_wmod1.pkl1', 'ns_hat_wt_wt_gamma_-1.txt', 'ns_hat_wt_wt_gamma_-2.2.txt', 'ns_all_ws_100000_bins_C_wt_all_psr_wmod1.pkl1', 'all_Si_ws_g_s_100000_bins_C_wt_all_psr_wmod1.pkl1', 'ns_hat_wt_wt_gamma_-2.5.txt', 'wt_acc_100000_bins_C_wt_all_psr_wmod1.pkl1', 'ns_hat_wt_wt_gamma_-3.txt', 'all_Bi.pkl']\n"
     ]
    }
   ],
   "source": [
    "\n",
    "\n",
    "print(w_models.shape)\n",
    "altier_path = [os.getcwd() + '/pickle/', os.getcwd() + '/../pickle/']\n",
    "print(os.listdir(altier_path[0]))"
   ]
  },
  {
   "cell_type": "code",
   "execution_count": null,
   "metadata": {},
   "outputs": [
    {
     "name": "stdout",
     "output_type": "stream",
     "text": [
      "Loading wt_acc from pickle\n",
      "Loaded wt_acc from pickle with nbins=  1000000\n"
     ]
    }
   ],
   "source": [
    "altier_path = [os.getcwd() + '/pickle/', os.getcwd() + '/../pickle/']\n",
    "if f'wt_acc_{len(enus)}_bins.pkl' in os.listdir(altier_path[0]):# or f'wt_acc.pkl_{len(enus)}' in os.listdir(altier_path[1]):\n",
    "    print(\"Loading wt_acc from pickle\")\n",
    "    # try:\n",
    "    #     wt_acc = pickle.load(altier_path[1] + f'wt_acc.pkl_{len(enus)//2}_bins')\n",
    "    # except:\n",
    "    with open(altier_path[0] + f'wt_acc_{len(enus)}_bins.pkl', 'rb') as f:\n",
    "        wt_acc = pickle.load(f)\n",
    "    \n",
    "    \n",
    "    print(\"Loaded wt_acc from pickle with nbins= \", len(enus))\n",
    "\n",
    "else:\n",
    "    print(\"Calculating wt_acc for all pulsars and seasons and gamma\")\n",
    "    wt_acc = []\n",
    "    for gamma in prange(len(gamma_arr)):\n",
    "        wt_allpsr = []\n",
    "        for season in tqdm(prange(10)):\n",
    "            # tmp = []\n",
    "            # for psrno in prange(p):\n",
    "                # w_model = w_models[psrno]\n",
    "                # tmp.append(psr_wt_sing_gamma(psrno, gamma_arr[gamma], season))\n",
    "                # tmp.append(trapz_numba(psr_wt_sing_e_gamma(psrno, enus, gamma_arr[gamma], season), enus))\n",
    "\n",
    "            wt_allpsr.append(np.array(psr_wt_sing_gamma(prange(p), gamma_arr[gamma], season), dtype=np.float64))\n",
    "            # tmp = []\n",
    "        wt_acc.append(wt_allpsr)\n",
    "        wt_allpsr = []\n",
    "        \n",
    "    wt_acc = np.asfarray(wt_acc, dtype=np.float64)\n",
    "    with open(altier_path[0] + f'wt_acc_{len(enus)}_bins.pkl', 'wb') as f:\n",
    "        pickle.dump(wt_acc, f)\n",
    "    print(\"Calculated wt_acc for all gamma-ray sources and seasons and gamma\")"
   ]
  },
  {
   "cell_type": "code",
   "execution_count": null,
   "metadata": {},
   "outputs": [
    {
     "name": "stdout",
     "output_type": "stream",
     "text": [
      "(4, 10, 3389)\n"
     ]
    }
   ],
   "source": [
    "print(wt_acc.shape)"
   ]
  },
  {
   "cell_type": "code",
   "execution_count": null,
   "metadata": {},
   "outputs": [
    {
     "name": "stdout",
     "output_type": "stream",
     "text": [
      "[ 36900 107011  93133 136244 112858 122541 127045 129311 123657 145750]\n"
     ]
    }
   ],
   "source": [
    "season_walls = np.asarray([0, 36900, 143911, 237044, 373288, 486146, 608687, 735732, 865043, 988700, 1134450])\n",
    "season_widts= np.diff(season_walls)\n",
    "print (season_widts)"
   ]
  },
  {
   "cell_type": "code",
   "execution_count": null,
   "metadata": {},
   "outputs": [],
   "source": [
    "#Compute the signal PDF for all neutrinos as per eqns 6, 7 and weights as per eqn 8 of 2205.15963\n",
    "\n",
    "@njit(nogil=True)\n",
    "def S_ijk(nu): \n",
    "\n",
    "    '''\n",
    "    Calculates S_ij as in EQN 7 of 2205.15963\n",
    "    ----------\n",
    "\n",
    "    Parameters\n",
    "    ----------\n",
    "    nu : int\n",
    "        Index of the neutrino in the sample\n",
    "        \n",
    "    \n",
    "    Returns\n",
    "    -------\n",
    "        Returns the signal PDF for the {psrno}th pulsar and nuind_inp neutrino\n",
    "    '''\n",
    "    ang2 = hvovec(msra, msdec, icra[nu], icdec[nu], rad=True) ** 2      #rad**2\n",
    "    sg = np.deg2rad(icang[nu]) ** 2                                     #rad**2\n",
    "    return np.divide(np.exp(-1 * np.divide(ang2, 2*sg)), (2 * np.pi * sg))      #1/rad**2\n",
    "\n",
    "\n",
    "@njit(nogil=True)\n",
    "def S_ik(nu, weight, w_models, gamma_index, ws):\n",
    "\n",
    "    '''\n",
    "    \n",
    "    Calculates S_i as in EQN 8 of 2205.15963\n",
    "    ----------\n",
    "\n",
    "    Parameters\n",
    "    ----------\n",
    "    nu : int\n",
    "        Index of the neutrino in the sample\n",
    "\n",
    "    normalized_wt : array\n",
    "        Normalized weights of the pulsars\n",
    "\n",
    "\n",
    "    gamma_index : int\n",
    "        Index of the gamma value in the gamma array\n",
    "\n",
    "    ws : int\n",
    "        Index of the weight model\n",
    "\n",
    "    Returns\n",
    "    -------\n",
    "        Returns the signal PDF for the {psrno}th pulsar and nuind_inp neutrino\n",
    "\n",
    "    '''\n",
    "\n",
    "    # si_sing_season_g =\n",
    "    # for i in prange(p):\n",
    "        # sij = S_ijk(nu)\n",
    "        # np.sum(np.multiply(sij, normalized_wt[i][gamma_index][season]))      #1/rad**2\n",
    "\n",
    "\n",
    "\n",
    "    sij = S_ijk(nu)\n",
    "    season = 0\n",
    "    for i in range(10):\n",
    "        if season_walls[i] <= nu and nu < season_walls[i+1]:\n",
    "            season = i\n",
    "            break\n",
    "\n",
    "    return np.sum(np.multiply(sij, np.multiply(w_models[ws], weight[gamma_index][season])/np.sum(np.multiply(w_models[ws], weight[gamma_index][season]))))      #1/rad**2\n"
   ]
  },
  {
   "cell_type": "code",
   "execution_count": null,
   "metadata": {},
   "outputs": [],
   "source": [
    "@njit(parallel=True, nogil=True)\n",
    "def Sik_sing_s_g(gamma_index, ws):#, wt_acc=wt_acc, w_models=w_models):\n",
    "    '''\n",
    "    Calculates S_i as in EQN 8 of 2205.15963\n",
    "    ----------\n",
    "\n",
    "    Parameters\n",
    "    ----------\n",
    "    weight : array\n",
    "         weights of the pulsars\n",
    "\n",
    "    season : int\n",
    "        Season of the neutrino\n",
    "\n",
    "    gamma_index : int\n",
    "        Index of the gamma value in the gamma array\n",
    "\n",
    "    ws : int\n",
    "        Index of the weight model\n",
    "\n",
    "    Returns\n",
    "    -------\n",
    "        Returns the signal PDF for the {psrno}th pulsar and nuind_inp neutrino\n",
    "    '''\n",
    "\n",
    "\n",
    "\n",
    "    tmp = []\n",
    "    if ws == -1: #No weights\n",
    "        for nu in prange(len(icra)):\n",
    "            tmp.append(np.sum(S_ijk(nu)))\n",
    "        return np.array(tmp, dtype=np.float64)\n",
    "\n",
    "    for nu in prange(len(icra)):\n",
    "        tmp.append(S_ik(nu, wt_acc, w_models, gamma_index, ws))\n",
    "    return np.array(tmp, dtype=np.float64)"
   ]
  },
  {
   "cell_type": "code",
   "execution_count": null,
   "metadata": {},
   "outputs": [
    {
     "name": "stdout",
     "output_type": "stream",
     "text": [
      "\n",
      "Calculating S_i for all neutrinos and gammas and weighting schemes...\n"
     ]
    },
    {
     "name": "stderr",
     "output_type": "stream",
     "text": [
      "100%|██████████| 4/4 [05:33<00:00, 83.37s/it]"
     ]
    },
    {
     "name": "stdout",
     "output_type": "stream",
     "text": [
      "Calculated S_i for all neutrinos and gammas and weighting schemes\n"
     ]
    },
    {
     "name": "stderr",
     "output_type": "stream",
     "text": [
      "\n"
     ]
    }
   ],
   "source": [
    "#Pickle\n",
    "if os.path.isfile(altier_path[0] + f'all_Si_ws_g_s_{len(enus)}_bins.pkl'):\n",
    "    print(\"Loading all_Si_ws_g_s from pickle\")\n",
    "    with open(altier_path[0] + f'all_Si_ws_g_s_{len(enus)}_bins.pkl', 'rb') as f:\n",
    "        all_Si_ws_g_s = pickle.load(f)\n",
    "    print(\"Loaded all_Si_ws_g_s from pickle with nbins =\", len(enus))\n",
    "else:\n",
    "\n",
    "\n",
    "    print(\"\\nCalculating S_i for all neutrinos and gammas and weighting schemes...\\n\")\n",
    "\n",
    "    all_Si_ws_g_s = []\n",
    "    tmp = []\n",
    "    tmp_wt_acc = []\n",
    "    tmp_wt_acc_w_dist = []\n",
    "    tmp_wt_acc_w_s1400 = []\n",
    "\n",
    "    for gamma_index in tqdm(prange(4)):\n",
    "        # for season in tqdm(prange(10)):\n",
    "        tmp.append(Sik_sing_s_g(gamma_index, -1))\n",
    "        tmp_wt_acc.append(Sik_sing_s_g(gamma_index, 0))\n",
    "        tmp_wt_acc_w_dist.append(Sik_sing_s_g(gamma_index, 1))\n",
    "        tmp_wt_acc_w_s1400.append(Sik_sing_s_g(gamma_index, 2))\n",
    "\n",
    "\n",
    "    all_Si_ws_g_s.append([tmp, tmp_wt_acc, tmp_wt_acc_w_dist, tmp_wt_acc_w_s1400])\n",
    "    tmp = []\n",
    "    tmp_wt_acc = []\n",
    "    tmp_wt_acc_w_dist = []\n",
    "    tmp_wt_acc_w_s1400 = []\n",
    "    all_Si_ws_g_s = np.asfarray(all_Si_ws_g_s[0])\n",
    "\n",
    "    print(\"Calculated S_i for all neutrinos and gammas and weighting schemes\")\n",
    "    #Save to pickle\n",
    "    with open(altier_path[0] + f'all_Si_ws_g_s_{len(enus)}_bins.pkl', 'wb') as f:\n",
    "        pickle.dump(all_Si_ws_g_s, f)\n",
    "\n"
   ]
  },
  {
   "cell_type": "code",
   "execution_count": null,
   "metadata": {},
   "outputs": [],
   "source": [
    "# @jit(nopython=True)\n",
    "@vectorize(['float64(int64, int64)'], nopython=True,target='parallel')\n",
    "def Bi_single_compute(nu,i,cone=5):\n",
    "\n",
    "    '''\n",
    "    Calculates B_i as in EQN 9 of 2205.15963\n",
    "    ----------\n",
    "\n",
    "    Parameters\n",
    "    ----------\n",
    "    nu : int\n",
    "        Index of the neutrino from IceCube sample\n",
    "    cone : float\n",
    "        Cone angle in degrees.\n",
    "    \n",
    "\n",
    "    Returns\n",
    "    -------\n",
    "    float\n",
    "        Returns the background PDF for the {nu}th neutrino\n",
    "    '''\n",
    "\n",
    "    # count = np.sum(np.abs(np.subtract(icdec, icdec[nu])) <= cone)\n",
    "    count=0\n",
    "    for i in prange(len(icdec)):\n",
    "        if abs(icdec[i] - icdec[nu]) <= cone:\n",
    "            count+=1\n",
    "    binwidth = (np.sin(np.deg2rad(icdec[nu] + cone)) - np.sin(np.deg2rad(icdec[nu] - cone)))*2*np.pi\n",
    "    return count/(binwidth * N_ic)           #No units or sr**-1"
   ]
  },
  {
   "cell_type": "code",
   "execution_count": null,
   "metadata": {},
   "outputs": [
    {
     "name": "stdout",
     "output_type": "stream",
     "text": [
      "Loading all_Bi from pickle...\n",
      "Loaded all_Bi from pickle\n"
     ]
    }
   ],
   "source": [
    "#Pickle\n",
    "if os.path.isfile(altier_path[0] + f'all_Bi.pkl'):\n",
    "    print(\"Loading all_Bi from pickle...\")\n",
    "    with open(altier_path[0] + f'all_Bi.pkl', 'rb') as f:\n",
    "        all_Bi = pickle.load(f)\n",
    "    print(\"Loaded all_Bi from pickle\")\n",
    "else:\n",
    "    print(\"\\nCalculating Bi for all neutrinos\\n\")\n",
    "    all_Bi = Bi_stacked_compute(np.arange(lnu), 5)\n",
    "    # all_Bi+=1e-90\n",
    "    print(\"\\nCalculated Bi for all neutrinos\")\n",
    "    #Save to pickle\n",
    "    with open(altier_path[0] + f'all_Bi.pkl', 'wb') as f:\n",
    "        pickle.dump(all_Bi, f)"
   ]
  },
  {
   "attachments": {},
   "cell_type": "markdown",
   "metadata": {},
   "source": [
    " '''\n",
    "    This function returns the number of signal events for a single pulsar as in EQN3 of 2205.15963\n",
    "    -------------------\n",
    "\n",
    "    Parameters\n",
    "    ----------\n",
    "    dec : float\n",
    "        The declination of the pulsar in radians\n",
    "    \n",
    "    enu : float\n",
    "        The neutrino energy in eV\n",
    "\n",
    "    gamma : float\n",
    "        The spectral index of the neutrino flux\n",
    "\n",
    "    phi0 : float (optional)\n",
    "        The normalization constant of the neutrino flux\n",
    "\n",
    "    season : int (optional)\n",
    "        The IceCube season number\n",
    "    \n",
    "    Returns\n",
    "    -------\n",
    "    float\n",
    "        The number of signal events for the given parameters\n",
    "    '''\n"
   ]
  },
  {
   "cell_type": "code",
   "execution_count": null,
   "metadata": {},
   "outputs": [
    {
     "data": {
      "text/plain": [
       "numpy.int64"
      ]
     },
     "execution_count": 31,
     "metadata": {},
     "output_type": "execute_result"
    }
   ],
   "source": [
    "type(msdec_bin_indices[0])"
   ]
  },
  {
   "cell_type": "code",
   "execution_count": null,
   "metadata": {},
   "outputs": [],
   "source": [
    "arr = np.zeros(10, dtype=np.float64)"
   ]
  },
  {
   "cell_type": "code",
   "execution_count": null,
   "metadata": {},
   "outputs": [
    {
     "data": {
      "text/plain": [
       "array([35318439.34329611, 32497618.3151043 , 29902901.99932829,\n",
       "       31745765.00015999, 32053797.00057632, 33098838.99984006,\n",
       "       34788962.99980783, 33936928.00012794, 31302372.99945645,\n",
       "       36107635.00003202])"
      ]
     },
     "execution_count": 71,
     "metadata": {},
     "output_type": "execute_result"
    }
   ],
   "source": [
    "t_upt"
   ]
  },
  {
   "cell_type": "code",
   "execution_count": null,
   "metadata": {},
   "outputs": [],
   "source": [
    "#generates ns^ for a single pulsar a single season and a single energy\n",
    "\n",
    "\n",
    "# @vectorize(['float64(int64, float64, int64)'], nopython=True, target='parallel')\n",
    "# def psr_wt_sing_gamma(psrno,gamma, season):\n",
    "\n",
    "#     tt_upt = t_upt[season]\n",
    "#     l = msdec_bin_indices[psrno]\n",
    "#     wt_ac_temp = np.zeros(len(enus), dtype=np.float64)\n",
    "#     for i in prange(len(enus)):\n",
    "#         wt_ac_temp[i] = np.float64(tt_upt * earea[ea_season(season)][l*40 + enus_bin_indices[i]] * enus[i]**gamma)\n",
    "\n",
    "\n",
    "#     return np.trapz(wt_ac_temp, enus)\n",
    "# @njit\n",
    "# @vectorize(['float64(float64, float64, float64, int64)'], target='parallel')\n",
    "@vectorize(['float64(int64, float64, float64, int64)'], nopython=True, target='parallel')\n",
    "def ns_singleseason_sing_psr_HAT(psrno,gamma, phi0, season):\n",
    "   \n",
    "\n",
    "    tt_upt = t_upt[season]\n",
    "    # if enu <= 1e11 or enu >= 1e19:\n",
    "    #     return 0.0\n",
    "    # else:\n",
    "        # k=0\n",
    "    l = msdec_bin_indices[psrno]\n",
    "        # for i in range(0, len(e_nu_wall)):\n",
    "        #     if e_nu_wall[i] <= enu and e_nu_wall[i+1] > enu:\n",
    "        #         k=i\n",
    "        #         break\n",
    "\n",
    "        # for j in range(0, len(dec_nu)):\n",
    "        #     if dec_nu[j] <= dec and dec_nu[j+1] > dec:\n",
    "        #         l=j\n",
    "        #         break\n",
    "    ns_temp = np.zeros(len(enus), dtype=np.float64)\n",
    "    for i in prange(len(enus)):\n",
    "        ns_temp[i] += np.float64(tt_upt * earea[ea_season(season)][l*40 + enus_bin_indices[i]] * phi0 * (enus[i]/(10**14))**gamma)\n",
    "    # temp_ea = np.asarray(earea[ea_season(season)])[l*40 + k]\n",
    "    # return tt_upt * temp_ea * phi0 * ((enu/(10**14))**gamma)     #in s cm2 eV\n",
    "\n",
    "    return np.trapz(ns_temp, enus)     #in s cm2 eV\n"
   ]
  },
  {
   "cell_type": "code",
   "execution_count": null,
   "metadata": {},
   "outputs": [
    {
     "data": {
      "text/plain": [
       "array([62.26927778, 47.77594444, -9.16630556, ..., -6.16663861,\n",
       "       61.92967917,  0.85265833])"
      ]
     },
     "execution_count": 34,
     "metadata": {},
     "output_type": "execute_result"
    }
   ],
   "source": [
    "msdec"
   ]
  },
  {
   "cell_type": "code",
   "execution_count": null,
   "metadata": {},
   "outputs": [],
   "source": [
    "def ns_HAT_all_season_all_psr_sing_gamma_wt_wtht_weights(gamma, e_nus=enus, phi0=1):\n",
    "    ns_hat = 0\n",
    "    ns_hat_wt = 0\n",
    "    ns_hat_wt_dist = 0\n",
    "    ns_hat_wt_s1400 = 0\n",
    "    for season in tqdm(prange(10)):\n",
    "        # for psr in prange(p):\n",
    "            # wt = all_weights[0][gamma_arr.index(gamma)][psr][ea_season(season)]\n",
    "        wt_sum = np.sum(wt_acc[gamma_arr.index(gamma)][season])\n",
    "\n",
    "        wt = wt_acc[gamma_arr.index(gamma)][season]\n",
    "        ns_hat = ns_singleseason_sing_psr_HAT(prange(p), gamma, phi0, season)\n",
    "        # ns_hat_wt += np.dot(wt, nsop)\n",
    "        # ns_hat_wt_dist += np.dot(wt/msdist[prange(p)]**2, nsop)\n",
    "            # nsop = ns_singleseason_sing_psr_HAT(msdec[psr], e_nus, gamma, phi0, season)\n",
    "            \n",
    "            # ns_hat += np.trapz(nsop, x=e_nus)\n",
    "        \n",
    "    #         ns_hat_wt += wt * np.trapz(nsop, x=e_nus)\n",
    "    #         ns_hat_wt_dist += wt * np.trapz(nsop, x=e_nus) / (msdist[psr]**2)\n",
    "    #         ns_hat_wt_s1400 += wt * np.trapz(nsop, x=e_nus) * mss1400[psr]\n",
    "    # return np.array([ns_hat, ns_hat_wt, ns_hat_wt_dist, ns_hat_wt_s1400], dtype=np.float64)\n",
    "\n",
    "        ns_hat_wt += np.dot((wt/wt_sum),  ns_hat)\n",
    "        ns_hat_wt_dist += np.dot(wt * w_models[1]/ np.sum(np.multiply(wt_acc[gamma_arr.index(gamma)][season], w_models[1])) , ns_hat)\n",
    "        ns_hat_wt_s1400 += np.dot(wt * w_models[2]/ np.sum(np.multiply(wt_acc[gamma_arr.index(gamma)][season], w_models[2])), ns_hat)\n",
    "    return np.array([np.sum(ns_hat), ns_hat_wt, ns_hat_wt_dist, ns_hat_wt_s1400], dtype=np.float64)"
   ]
  },
  {
   "cell_type": "code",
   "execution_count": null,
   "metadata": {},
   "outputs": [
    {
     "name": "stdout",
     "output_type": "stream",
     "text": [
      "\n",
      "Calculating ns_HAT for all gamma and weighting schemes...\n"
     ]
    },
    {
     "name": "stderr",
     "output_type": "stream",
     "text": [
      "  0%|          | 0/10 [00:00<?, ?it/s]/tmp/ipykernel_2155/2468739112.py:25: RuntimeWarning: invalid value encountered in divide\n",
      "  ns_hat_wt_dist += np.dot(wt * w_models[1]/ np.sum(np.multiply(wt_acc[gamma_arr.index(gamma)][season], w_models[1])) , ns_hat)\n",
      "100%|██████████| 10/10 [03:43<00:00, 22.31s/it]\n",
      "100%|██████████| 10/10 [03:42<00:00, 22.22s/it]\n",
      "100%|██████████| 10/10 [03:42<00:00, 22.24s/it]\n",
      "100%|██████████| 10/10 [03:43<00:00, 22.34s/it]"
     ]
    },
    {
     "name": "stdout",
     "output_type": "stream",
     "text": [
      "\n",
      "Calculationed ns_HAT for all gamma and weighting schemes\n"
     ]
    },
    {
     "name": "stderr",
     "output_type": "stream",
     "text": [
      "\n"
     ]
    }
   ],
   "source": [
    "#Pickle\n",
    "arr = []\n",
    "if os.path.isfile(altier_path[0] + f'ns_all_ws_{len(enus)}_bins.pkl'):\n",
    "    print(\"Loading ns_hat from pickle...\")\n",
    "    with open(altier_path[0] + f'ns_all_ws_{len(enus)}_bins.pkl', 'rb') as f:\n",
    "        arr = pickle.load(f)\n",
    "    print(\"Loaded ns_hat from pickle with nbins =\", len(enus))\n",
    "else:\n",
    "    print(\"\\nCalculating ns_HAT for all gamma and weighting schemes...\\n\")\n",
    "\n",
    "    arr=[]\n",
    "    for gamma in prange(len(gamma_arr)):\n",
    "        tmp = ns_HAT_all_season_all_psr_sing_gamma_wt_wtht_weights(gamma_arr[gamma])\n",
    "        np.savetxt('outputs/ns_hat_wt_wt_gamma_{}.txt'.format(gamma_arr[gamma]), tmp)\n",
    "        arr.append(tmp)\n",
    "        tmp = []\n",
    "\n",
    "    arr = np.array(arr, dtype=np.float64)\n",
    "    with open(altier_path[0] + f'ns_all_ws_{len(enus)}_bins.pkl', 'wb') as f:\n",
    "        pickle.dump(arr, f)\n",
    "    print(\"\\nCalculationed ns_HAT for all gamma and weighting schemes\")"
   ]
  },
  {
   "cell_type": "code",
   "execution_count": null,
   "metadata": {},
   "outputs": [
    {
     "data": {
      "text/plain": [
       "array([[3.52864701e+31, 1.64348155e+29,            nan, 1.43286227e+29],\n",
       "       [4.29254469e+31, 2.12101932e+29,            nan, 1.97836837e+29],\n",
       "       [9.09734829e+31, 4.71885376e+29,            nan, 4.68667418e+29],\n",
       "       [4.99686265e+32, 2.64971787e+30,            nan, 2.73604535e+30]])"
      ]
     },
     "execution_count": 35,
     "metadata": {},
     "output_type": "execute_result"
    }
   ],
   "source": [
    "arr"
   ]
  },
  {
   "cell_type": "code",
   "execution_count": null,
   "metadata": {},
   "outputs": [],
   "source": [
    "@njit(parallel=True, nogil=True)\n",
    "def season_nu(nu):\n",
    "    for i in prange(10):\n",
    "        if nu >= season_walls[i] and nu < season_walls[i+1]:\n",
    "            return i"
   ]
  },
  {
   "attachments": {},
   "cell_type": "markdown",
   "metadata": {},
   "source": [
    "t2mp = all_Si_ws_g_s[0][0]\n",
    "nsa = 50\n",
    "@njit(nogil=True)\n",
    "def TS_for_all_psrs2(nsa):  \n",
    "    return Ts_arr2(nsa, t2mp, all_Bi, Ns) "
   ]
  },
  {
   "attachments": {},
   "cell_type": "markdown",
   "metadata": {},
   "source": [
    "TS_for_all_psrs2(nsa)"
   ]
  },
  {
   "cell_type": "code",
   "execution_count": null,
   "metadata": {},
   "outputs": [],
   "source": [
    "@jit(nopython=True)\n",
    "def Pr(x, Ns, S, B):\n",
    "    nsN = x/Ns\n",
    "    return np.add(np.multiply(nsN , S), np.multiply(np.subtract(1, nsN), B))\n",
    "\n",
    "\n",
    "\n",
    "@njit(nogil=True)\n",
    "def TS_st_vec(x, S, B, Ns):\n",
    "    nsN = x/Ns\n",
    "    pr = np.add(np.multiply(nsN , S), np.multiply(np.subtract(1, nsN), B))\n",
    "    return np.sum(np.asfarray(2*np.log(pr/B)))\n",
    "\n",
    "lnu = 1134450\n",
    "Ns = lnu#np.count_nonzero(nuind+1)\n"
   ]
  },
  {
   "attachments": {},
   "cell_type": "markdown",
   "metadata": {},
   "source": [
    "TS_st_vec(0.5e6, all_Si_ws_g_s[0][0], all_Bi, Ns)"
   ]
  },
  {
   "cell_type": "code",
   "execution_count": null,
   "metadata": {},
   "outputs": [
    {
     "name": "stdout",
     "output_type": "stream",
     "text": [
      "[1.00000000e-38 1.04236067e-38 1.08651577e-38 1.13254132e-38\n",
      " 1.18051653e-38 1.23052400e-38 1.28264983e-38 1.33698374e-38\n",
      " 1.39361927e-38 1.45265393e-38 1.51418933e-38 1.57833141e-38\n",
      " 1.64519059e-38 1.71488197e-38 1.78752553e-38 1.86324631e-38\n",
      " 1.94217468e-38 2.02444651e-38 2.11020343e-38 2.19959307e-38\n",
      " 2.29276931e-38 2.38989257e-38 2.49113003e-38 2.59665597e-38\n",
      " 2.70665207e-38 2.82130768e-38 2.94082017e-38 3.06539530e-38\n",
      " 3.19524751e-38 3.33060034e-38 3.47168682e-38 3.61874981e-38\n",
      " 3.77204249e-38 3.93182876e-38 4.09838367e-38 4.27199397e-38\n",
      " 4.45295851e-38 4.64158883e-38 4.83820966e-38 5.04315949e-38\n",
      " 5.25679112e-38 5.47947234e-38 5.71158648e-38 5.95353313e-38\n",
      " 6.20572881e-38 6.46860766e-38 6.74262224e-38 7.02824426e-38\n",
      " 7.32596543e-38 7.63629826e-38 7.95977700e-38 8.29695852e-38\n",
      " 8.64842328e-38 9.01477631e-38 9.39664831e-38 9.79469667e-38\n",
      " 1.02096066e-37 1.06420924e-37 1.10928986e-37 1.15628013e-37\n",
      " 1.20526094e-37 1.25631660e-37 1.30953502e-37 1.36500781e-37\n",
      " 1.42283046e-37 1.48310251e-37 1.54592774e-37 1.61141428e-37\n",
      " 1.67967487e-37 1.75082703e-37 1.82499324e-37 1.90230119e-37\n",
      " 1.98288395e-37 2.06688025e-37 2.15443469e-37 2.24569800e-37\n",
      " 2.34082728e-37 2.43998630e-37 2.54334576e-37 2.65108360e-37\n",
      " 2.76338529e-37 2.88044415e-37 3.00246171e-37 3.12964801e-37\n",
      " 3.26222201e-37 3.40041193e-37 3.54445567e-37 3.69460121e-37\n",
      " 3.85110700e-37 4.01424249e-37 4.18428851e-37 4.36153779e-37\n",
      " 4.54629547e-37 4.73887961e-37 4.93962174e-37 5.14886745e-37\n",
      " 5.36697695e-37 5.59432571e-37 5.83130511e-37 6.07832313e-37\n",
      " 6.33580499e-37 6.60419396e-37 6.88395207e-37 7.17556092e-37\n",
      " 7.47952252e-37 7.79636013e-37 8.12661920e-37 8.47086827e-37\n",
      " 8.82969996e-37 9.20373200e-37 9.59360829e-37 1.00000000e-36\n",
      " 1.04236067e-36 1.08651577e-36 1.13254132e-36 1.18051653e-36\n",
      " 1.23052400e-36 1.28264983e-36 1.33698374e-36 1.39361927e-36\n",
      " 1.45265393e-36 1.51418933e-36 1.57833141e-36 1.64519059e-36\n",
      " 1.71488197e-36 1.78752553e-36 1.86324631e-36 1.94217468e-36\n",
      " 2.02444651e-36 2.11020343e-36 2.19959307e-36 2.29276931e-36\n",
      " 2.38989257e-36 2.49113003e-36 2.59665597e-36 2.70665207e-36\n",
      " 2.82130768e-36 2.94082017e-36 3.06539530e-36 3.19524751e-36\n",
      " 3.33060034e-36 3.47168682e-36 3.61874981e-36 3.77204249e-36\n",
      " 3.93182876e-36 4.09838367e-36 4.27199397e-36 4.45295851e-36\n",
      " 4.64158883e-36 4.83820966e-36 5.04315949e-36 5.25679112e-36\n",
      " 5.47947234e-36 5.71158648e-36 5.95353313e-36 6.20572881e-36\n",
      " 6.46860766e-36 6.74262224e-36 7.02824426e-36 7.32596543e-36\n",
      " 7.63629826e-36 7.95977700e-36 8.29695852e-36 8.64842328e-36\n",
      " 9.01477631e-36 9.39664831e-36 9.79469667e-36 1.02096066e-35\n",
      " 1.06420924e-35 1.10928986e-35 1.15628013e-35 1.20526094e-35\n",
      " 1.25631660e-35 1.30953502e-35 1.36500781e-35 1.42283046e-35\n",
      " 1.48310251e-35 1.54592774e-35 1.61141428e-35 1.67967487e-35\n",
      " 1.75082703e-35 1.82499324e-35 1.90230119e-35 1.98288395e-35\n",
      " 2.06688025e-35 2.15443469e-35 2.24569800e-35 2.34082728e-35\n",
      " 2.43998630e-35 2.54334576e-35 2.65108360e-35 2.76338529e-35\n",
      " 2.88044415e-35 3.00246171e-35 3.12964801e-35 3.26222201e-35\n",
      " 3.40041193e-35 3.54445567e-35 3.69460121e-35 3.85110700e-35\n",
      " 4.01424249e-35 4.18428851e-35 4.36153779e-35 4.54629547e-35\n",
      " 4.73887961e-35 4.93962174e-35 5.14886745e-35 5.36697695e-35\n",
      " 5.59432571e-35 5.83130511e-35 6.07832313e-35 6.33580499e-35\n",
      " 6.60419396e-35 6.88395207e-35 7.17556092e-35 7.47952252e-35\n",
      " 7.79636013e-35 8.12661920e-35 8.47086827e-35 8.82969996e-35\n",
      " 9.20373200e-35 9.59360829e-35 1.00000000e-34 1.04236067e-34\n",
      " 1.08651577e-34 1.13254132e-34 1.18051653e-34 1.23052400e-34\n",
      " 1.28264983e-34 1.33698374e-34 1.39361927e-34 1.45265393e-34\n",
      " 1.51418933e-34 1.57833141e-34 1.64519059e-34 1.71488197e-34\n",
      " 1.78752553e-34 1.86324631e-34 1.94217468e-34 2.02444651e-34\n",
      " 2.11020343e-34 2.19959307e-34 2.29276931e-34 2.38989257e-34\n",
      " 2.49113003e-34 2.59665597e-34 2.70665207e-34 2.82130768e-34\n",
      " 2.94082017e-34 3.06539530e-34 3.19524751e-34 3.33060034e-34\n",
      " 3.47168682e-34 3.61874981e-34 3.77204249e-34 3.93182876e-34\n",
      " 4.09838367e-34 4.27199397e-34 4.45295851e-34 4.64158883e-34\n",
      " 4.83820966e-34 5.04315949e-34 5.25679112e-34 5.47947234e-34\n",
      " 5.71158648e-34 5.95353313e-34 6.20572881e-34 6.46860766e-34\n",
      " 6.74262224e-34 7.02824426e-34 7.32596543e-34 7.63629826e-34\n",
      " 7.95977700e-34 8.29695852e-34 8.64842328e-34 9.01477631e-34\n",
      " 9.39664831e-34 9.79469667e-34 1.02096066e-33 1.06420924e-33\n",
      " 1.10928986e-33 1.15628013e-33 1.20526094e-33 1.25631660e-33\n",
      " 1.30953502e-33 1.36500781e-33 1.42283046e-33 1.48310251e-33\n",
      " 1.54592774e-33 1.61141428e-33 1.67967487e-33 1.75082703e-33\n",
      " 1.82499324e-33 1.90230119e-33 1.98288395e-33 2.06688025e-33\n",
      " 2.15443469e-33 2.24569800e-33 2.34082728e-33 2.43998630e-33\n",
      " 2.54334576e-33 2.65108360e-33 2.76338529e-33 2.88044415e-33\n",
      " 3.00246171e-33 3.12964801e-33 3.26222201e-33 3.40041193e-33\n",
      " 3.54445567e-33 3.69460121e-33 3.85110700e-33 4.01424249e-33\n",
      " 4.18428851e-33 4.36153779e-33 4.54629547e-33 4.73887961e-33\n",
      " 4.93962174e-33 5.14886745e-33 5.36697695e-33 5.59432571e-33\n",
      " 5.83130511e-33 6.07832313e-33 6.33580499e-33 6.60419396e-33\n",
      " 6.88395207e-33 7.17556092e-33 7.47952252e-33 7.79636013e-33\n",
      " 8.12661920e-33 8.47086827e-33 8.82969996e-33 9.20373200e-33\n",
      " 9.59360829e-33 1.00000000e-32 1.04236067e-32 1.08651577e-32\n",
      " 1.13254132e-32 1.18051653e-32 1.23052400e-32 1.28264983e-32\n",
      " 1.33698374e-32 1.39361927e-32 1.45265393e-32 1.51418933e-32\n",
      " 1.57833141e-32 1.64519059e-32 1.71488197e-32 1.78752553e-32\n",
      " 1.86324631e-32 1.94217468e-32 2.02444651e-32 2.11020343e-32\n",
      " 2.19959307e-32 2.29276931e-32 2.38989257e-32 2.49113003e-32\n",
      " 2.59665597e-32 2.70665207e-32 2.82130768e-32 2.94082017e-32\n",
      " 3.06539530e-32 3.19524751e-32 3.33060034e-32 3.47168682e-32\n",
      " 3.61874981e-32 3.77204249e-32 3.93182876e-32 4.09838367e-32\n",
      " 4.27199397e-32 4.45295851e-32 4.64158883e-32 4.83820966e-32\n",
      " 5.04315949e-32 5.25679112e-32 5.47947234e-32 5.71158648e-32\n",
      " 5.95353313e-32 6.20572881e-32 6.46860766e-32 6.74262224e-32\n",
      " 7.02824426e-32 7.32596543e-32 7.63629826e-32 7.95977700e-32\n",
      " 8.29695852e-32 8.64842328e-32 9.01477631e-32 9.39664831e-32\n",
      " 9.79469667e-32 1.02096066e-31 1.06420924e-31 1.10928986e-31\n",
      " 1.15628013e-31 1.20526094e-31 1.25631660e-31 1.30953502e-31\n",
      " 1.36500781e-31 1.42283046e-31 1.48310251e-31 1.54592774e-31\n",
      " 1.61141428e-31 1.67967487e-31 1.75082703e-31 1.82499324e-31\n",
      " 1.90230119e-31 1.98288395e-31 2.06688025e-31 2.15443469e-31\n",
      " 2.24569800e-31 2.34082728e-31 2.43998630e-31 2.54334576e-31\n",
      " 2.65108360e-31 2.76338529e-31 2.88044415e-31 3.00246171e-31\n",
      " 3.12964801e-31 3.26222201e-31 3.40041193e-31 3.54445567e-31\n",
      " 3.69460121e-31 3.85110700e-31 4.01424249e-31 4.18428851e-31\n",
      " 4.36153779e-31 4.54629547e-31 4.73887961e-31 4.93962174e-31\n",
      " 5.14886745e-31 5.36697695e-31 5.59432571e-31 5.83130511e-31\n",
      " 6.07832313e-31 6.33580499e-31 6.60419396e-31 6.88395207e-31\n",
      " 7.17556092e-31 7.47952252e-31 7.79636013e-31 8.12661920e-31\n",
      " 8.47086827e-31 8.82969996e-31 9.20373200e-31 9.59360829e-31\n",
      " 1.00000000e-30 1.04236067e-30 1.08651577e-30 1.13254132e-30\n",
      " 1.18051653e-30 1.23052400e-30 1.28264983e-30 1.33698374e-30\n",
      " 1.39361927e-30 1.45265393e-30 1.51418933e-30 1.57833141e-30\n",
      " 1.64519059e-30 1.71488197e-30 1.78752553e-30 1.86324631e-30\n",
      " 1.94217468e-30 2.02444651e-30 2.11020343e-30 2.19959307e-30\n",
      " 2.29276931e-30 2.38989257e-30 2.49113003e-30 2.59665597e-30\n",
      " 2.70665207e-30 2.82130768e-30 2.94082017e-30 3.06539530e-30\n",
      " 3.19524751e-30 3.33060034e-30 3.47168682e-30 3.61874981e-30\n",
      " 3.77204249e-30 3.93182876e-30 4.09838367e-30 4.27199397e-30\n",
      " 4.45295851e-30 4.64158883e-30 4.83820966e-30 5.04315949e-30\n",
      " 5.25679112e-30 5.47947234e-30 5.71158648e-30 5.95353313e-30\n",
      " 6.20572881e-30 6.46860766e-30 6.74262224e-30 7.02824426e-30\n",
      " 7.32596543e-30 7.63629826e-30 7.95977700e-30 8.29695852e-30\n",
      " 8.64842328e-30 9.01477631e-30 9.39664831e-30 9.79469667e-30\n",
      " 1.02096066e-29 1.06420924e-29 1.10928986e-29 1.15628013e-29\n",
      " 1.20526094e-29 1.25631660e-29 1.30953502e-29 1.36500781e-29\n",
      " 1.42283046e-29 1.48310251e-29 1.54592774e-29 1.61141428e-29\n",
      " 1.67967487e-29 1.75082703e-29 1.82499324e-29 1.90230119e-29\n",
      " 1.98288395e-29 2.06688025e-29 2.15443469e-29 2.24569800e-29\n",
      " 2.34082728e-29 2.43998630e-29 2.54334576e-29 2.65108360e-29\n",
      " 2.76338529e-29 2.88044415e-29 3.00246171e-29 3.12964801e-29\n",
      " 3.26222201e-29 3.40041193e-29 3.54445567e-29 3.69460121e-29\n",
      " 3.85110700e-29 4.01424249e-29 4.18428851e-29 4.36153779e-29\n",
      " 4.54629547e-29 4.73887961e-29 4.93962174e-29 5.14886745e-29\n",
      " 5.36697695e-29 5.59432571e-29 5.83130511e-29 6.07832313e-29\n",
      " 6.33580499e-29 6.60419396e-29 6.88395207e-29 7.17556092e-29\n",
      " 7.47952252e-29 7.79636013e-29 8.12661920e-29 8.47086827e-29\n",
      " 8.82969996e-29 9.20373200e-29 9.59360829e-29 1.00000000e-28\n",
      " 1.04236067e-28 1.08651577e-28 1.13254132e-28 1.18051653e-28\n",
      " 1.23052400e-28 1.28264983e-28 1.33698374e-28 1.39361927e-28\n",
      " 1.45265393e-28 1.51418933e-28 1.57833141e-28 1.64519059e-28\n",
      " 1.71488197e-28 1.78752553e-28 1.86324631e-28 1.94217468e-28\n",
      " 2.02444651e-28 2.11020343e-28 2.19959307e-28 2.29276931e-28\n",
      " 2.38989257e-28 2.49113003e-28 2.59665597e-28 2.70665207e-28\n",
      " 2.82130768e-28 2.94082017e-28 3.06539530e-28 3.19524751e-28\n",
      " 3.33060034e-28 3.47168682e-28 3.61874981e-28 3.77204249e-28\n",
      " 3.93182876e-28 4.09838367e-28 4.27199397e-28 4.45295851e-28\n",
      " 4.64158883e-28 4.83820966e-28 5.04315949e-28 5.25679112e-28\n",
      " 5.47947234e-28 5.71158648e-28 5.95353313e-28 6.20572881e-28\n",
      " 6.46860766e-28 6.74262224e-28 7.02824426e-28 7.32596543e-28\n",
      " 7.63629826e-28 7.95977700e-28 8.29695852e-28 8.64842328e-28\n",
      " 9.01477631e-28 9.39664831e-28 9.79469667e-28 1.02096066e-27\n",
      " 1.06420924e-27 1.10928986e-27 1.15628013e-27 1.20526094e-27\n",
      " 1.25631660e-27 1.30953502e-27 1.36500781e-27 1.42283046e-27\n",
      " 1.48310251e-27 1.54592774e-27 1.61141428e-27 1.67967487e-27\n",
      " 1.75082703e-27 1.82499324e-27 1.90230119e-27 1.98288395e-27\n",
      " 2.06688025e-27 2.15443469e-27 2.24569800e-27 2.34082728e-27\n",
      " 2.43998630e-27 2.54334576e-27 2.65108360e-27 2.76338529e-27\n",
      " 2.88044415e-27 3.00246171e-27 3.12964801e-27 3.26222201e-27\n",
      " 3.40041193e-27 3.54445567e-27 3.69460121e-27 3.85110700e-27\n",
      " 4.01424249e-27 4.18428851e-27 4.36153779e-27 4.54629547e-27\n",
      " 4.73887961e-27 4.93962174e-27 5.14886745e-27 5.36697695e-27\n",
      " 5.59432571e-27 5.83130511e-27 6.07832313e-27 6.33580499e-27\n",
      " 6.60419396e-27 6.88395207e-27 7.17556092e-27 7.47952252e-27\n",
      " 7.79636013e-27 8.12661920e-27 8.47086827e-27 8.82969996e-27\n",
      " 9.20373200e-27 9.59360829e-27 1.00000000e-26 1.04236067e-26\n",
      " 1.08651577e-26 1.13254132e-26 1.18051653e-26 1.23052400e-26\n",
      " 1.28264983e-26 1.33698374e-26 1.39361927e-26 1.45265393e-26\n",
      " 1.51418933e-26 1.57833141e-26 1.64519059e-26 1.71488197e-26\n",
      " 1.78752553e-26 1.86324631e-26 1.94217468e-26 2.02444651e-26\n",
      " 2.11020343e-26 2.19959307e-26 2.29276931e-26 2.38989257e-26\n",
      " 2.49113003e-26 2.59665597e-26 2.70665207e-26 2.82130768e-26\n",
      " 2.94082017e-26 3.06539530e-26 3.19524751e-26 3.33060034e-26\n",
      " 3.47168682e-26 3.61874981e-26 3.77204249e-26 3.93182876e-26\n",
      " 4.09838367e-26 4.27199397e-26 4.45295851e-26 4.64158883e-26\n",
      " 4.83820966e-26 5.04315949e-26 5.25679112e-26 5.47947234e-26\n",
      " 5.71158648e-26 5.95353313e-26 6.20572881e-26 6.46860766e-26\n",
      " 6.74262224e-26 7.02824426e-26 7.32596543e-26 7.63629826e-26\n",
      " 7.95977700e-26 8.29695852e-26 8.64842328e-26 9.01477631e-26\n",
      " 9.39664831e-26 9.79469667e-26 1.02096066e-25 1.06420924e-25\n",
      " 1.10928986e-25 1.15628013e-25 1.20526094e-25 1.25631660e-25\n",
      " 1.30953502e-25 1.36500781e-25 1.42283046e-25 1.48310251e-25\n",
      " 1.54592774e-25 1.61141428e-25 1.67967487e-25 1.75082703e-25\n",
      " 1.82499324e-25 1.90230119e-25 1.98288395e-25 2.06688025e-25\n",
      " 2.15443469e-25 2.24569800e-25 2.34082728e-25 2.43998630e-25\n",
      " 2.54334576e-25 2.65108360e-25 2.76338529e-25 2.88044415e-25\n",
      " 3.00246171e-25 3.12964801e-25 3.26222201e-25 3.40041193e-25\n",
      " 3.54445567e-25 3.69460121e-25 3.85110700e-25 4.01424249e-25\n",
      " 4.18428851e-25 4.36153779e-25 4.54629547e-25 4.73887961e-25\n",
      " 4.93962174e-25 5.14886745e-25 5.36697695e-25 5.59432571e-25\n",
      " 5.83130511e-25 6.07832313e-25 6.33580499e-25 6.60419396e-25\n",
      " 6.88395207e-25 7.17556092e-25 7.47952252e-25 7.79636013e-25\n",
      " 8.12661920e-25 8.47086827e-25 8.82969996e-25 9.20373200e-25\n",
      " 9.59360829e-25 1.00000000e-24 1.04236067e-24 1.08651577e-24\n",
      " 1.13254132e-24 1.18051653e-24 1.23052400e-24 1.28264983e-24\n",
      " 1.33698374e-24 1.39361927e-24 1.45265393e-24 1.51418933e-24\n",
      " 1.57833141e-24 1.64519059e-24 1.71488197e-24 1.78752553e-24\n",
      " 1.86324631e-24 1.94217468e-24 2.02444651e-24 2.11020343e-24\n",
      " 2.19959307e-24 2.29276931e-24 2.38989257e-24 2.49113003e-24\n",
      " 2.59665597e-24 2.70665207e-24 2.82130768e-24 2.94082017e-24\n",
      " 3.06539530e-24 3.19524751e-24 3.33060034e-24 3.47168682e-24\n",
      " 3.61874981e-24 3.77204249e-24 3.93182876e-24 4.09838367e-24\n",
      " 4.27199397e-24 4.45295851e-24 4.64158883e-24 4.83820966e-24\n",
      " 5.04315949e-24 5.25679112e-24 5.47947234e-24 5.71158648e-24\n",
      " 5.95353313e-24 6.20572881e-24 6.46860766e-24 6.74262224e-24\n",
      " 7.02824426e-24 7.32596543e-24 7.63629826e-24 7.95977700e-24\n",
      " 8.29695852e-24 8.64842328e-24 9.01477631e-24 9.39664831e-24\n",
      " 9.79469667e-24 1.02096066e-23 1.06420924e-23 1.10928986e-23\n",
      " 1.15628013e-23 1.20526094e-23 1.25631660e-23 1.30953502e-23\n",
      " 1.36500781e-23 1.42283046e-23 1.48310251e-23 1.54592774e-23\n",
      " 1.61141428e-23 1.67967487e-23 1.75082703e-23 1.82499324e-23\n",
      " 1.90230119e-23 1.98288395e-23 2.06688025e-23 2.15443469e-23\n",
      " 2.24569800e-23 2.34082728e-23 2.43998630e-23 2.54334576e-23\n",
      " 2.65108360e-23 2.76338529e-23 2.88044415e-23 3.00246171e-23\n",
      " 3.12964801e-23 3.26222201e-23 3.40041193e-23 3.54445567e-23\n",
      " 3.69460121e-23 3.85110700e-23 4.01424249e-23 4.18428851e-23\n",
      " 4.36153779e-23 4.54629547e-23 4.73887961e-23 4.93962174e-23\n",
      " 5.14886745e-23 5.36697695e-23 5.59432571e-23 5.83130511e-23\n",
      " 6.07832313e-23 6.33580499e-23 6.60419396e-23 6.88395207e-23\n",
      " 7.17556092e-23 7.47952252e-23 7.79636013e-23 8.12661920e-23\n",
      " 8.47086827e-23 8.82969996e-23 9.20373200e-23 9.59360829e-23\n",
      " 1.00000000e-22 1.04236067e-22 1.08651577e-22 1.13254132e-22\n",
      " 1.18051653e-22 1.23052400e-22 1.28264983e-22 1.33698374e-22\n",
      " 1.39361927e-22 1.45265393e-22 1.51418933e-22 1.57833141e-22\n",
      " 1.64519059e-22 1.71488197e-22 1.78752553e-22 1.86324631e-22\n",
      " 1.94217468e-22 2.02444651e-22 2.11020343e-22 2.19959307e-22\n",
      " 2.29276931e-22 2.38989257e-22 2.49113003e-22 2.59665597e-22\n",
      " 2.70665207e-22 2.82130768e-22 2.94082017e-22 3.06539530e-22\n",
      " 3.19524751e-22 3.33060034e-22 3.47168682e-22 3.61874981e-22\n",
      " 3.77204249e-22 3.93182876e-22 4.09838367e-22 4.27199397e-22\n",
      " 4.45295851e-22 4.64158883e-22 4.83820966e-22 5.04315949e-22\n",
      " 5.25679112e-22 5.47947234e-22 5.71158648e-22 5.95353313e-22\n",
      " 6.20572881e-22 6.46860766e-22 6.74262224e-22 7.02824426e-22\n",
      " 7.32596543e-22 7.63629826e-22 7.95977700e-22 8.29695852e-22\n",
      " 8.64842328e-22 9.01477631e-22 9.39664831e-22 9.79469667e-22\n",
      " 1.02096066e-21 1.06420924e-21 1.10928986e-21 1.15628013e-21\n",
      " 1.20526094e-21 1.25631660e-21 1.30953502e-21 1.36500781e-21\n",
      " 1.42283046e-21 1.48310251e-21 1.54592774e-21 1.61141428e-21\n",
      " 1.67967487e-21 1.75082703e-21 1.82499324e-21 1.90230119e-21\n",
      " 1.98288395e-21 2.06688025e-21 2.15443469e-21 2.24569800e-21\n",
      " 2.34082728e-21 2.43998630e-21 2.54334576e-21 2.65108360e-21\n",
      " 2.76338529e-21 2.88044415e-21 3.00246171e-21 3.12964801e-21\n",
      " 3.26222201e-21 3.40041193e-21 3.54445567e-21 3.69460121e-21\n",
      " 3.85110700e-21 4.01424249e-21 4.18428851e-21 4.36153779e-21\n",
      " 4.54629547e-21 4.73887961e-21 4.93962174e-21 5.14886745e-21\n",
      " 5.36697695e-21 5.59432571e-21 5.83130511e-21 6.07832313e-21\n",
      " 6.33580499e-21 6.60419396e-21 6.88395207e-21 7.17556092e-21\n",
      " 7.47952252e-21 7.79636013e-21 8.12661920e-21 8.47086827e-21\n",
      " 8.82969996e-21 9.20373200e-21 9.59360829e-21 1.00000000e-20]\n"
     ]
    }
   ],
   "source": [
    "phio = np.logspace(-38, -20, 1000)\n",
    "print(phio)"
   ]
  },
  {
   "cell_type": "code",
   "execution_count": null,
   "metadata": {},
   "outputs": [
    {
     "name": "stdout",
     "output_type": "stream",
     "text": [
      "\n",
      "CALCULATING TS FOR ALL PSRS FOR ALL GAMMAS FOR ALL WEIGHTS\n",
      "\n",
      "ws = 0\n",
      "gamma = 0\n"
     ]
    },
    {
     "name": "stderr",
     "output_type": "stream",
     "text": [
      "100%|██████████| 1000/1000 [00:10<00:00, 96.73it/s]\n"
     ]
    },
    {
     "name": "stdout",
     "output_type": "stream",
     "text": [
      "gamma = 1\n"
     ]
    },
    {
     "name": "stderr",
     "output_type": "stream",
     "text": [
      "100%|██████████| 1000/1000 [00:10<00:00, 99.60it/s]\n"
     ]
    },
    {
     "name": "stdout",
     "output_type": "stream",
     "text": [
      "gamma = 2\n"
     ]
    },
    {
     "name": "stderr",
     "output_type": "stream",
     "text": [
      "100%|██████████| 1000/1000 [00:10<00:00, 98.68it/s]\n"
     ]
    },
    {
     "name": "stdout",
     "output_type": "stream",
     "text": [
      "gamma = 3\n"
     ]
    },
    {
     "name": "stderr",
     "output_type": "stream",
     "text": [
      "100%|██████████| 1000/1000 [00:10<00:00, 96.38it/s]\n"
     ]
    },
    {
     "name": "stdout",
     "output_type": "stream",
     "text": [
      "ws = 1\n",
      "gamma = 0\n"
     ]
    },
    {
     "name": "stderr",
     "output_type": "stream",
     "text": [
      "100%|██████████| 1000/1000 [00:08<00:00, 122.85it/s]\n"
     ]
    },
    {
     "name": "stdout",
     "output_type": "stream",
     "text": [
      "gamma = 1\n"
     ]
    },
    {
     "name": "stderr",
     "output_type": "stream",
     "text": [
      "100%|██████████| 1000/1000 [00:08<00:00, 121.74it/s]\n"
     ]
    },
    {
     "name": "stdout",
     "output_type": "stream",
     "text": [
      "gamma = 2\n"
     ]
    },
    {
     "name": "stderr",
     "output_type": "stream",
     "text": [
      "100%|██████████| 1000/1000 [00:08<00:00, 117.96it/s]\n"
     ]
    },
    {
     "name": "stdout",
     "output_type": "stream",
     "text": [
      "gamma = 3\n"
     ]
    },
    {
     "name": "stderr",
     "output_type": "stream",
     "text": [
      "100%|██████████| 1000/1000 [00:08<00:00, 122.59it/s]\n"
     ]
    },
    {
     "name": "stdout",
     "output_type": "stream",
     "text": [
      "ws = 2\n",
      "gamma = 0\n"
     ]
    },
    {
     "name": "stderr",
     "output_type": "stream",
     "text": [
      "100%|██████████| 1000/1000 [00:07<00:00, 141.61it/s]\n"
     ]
    },
    {
     "name": "stdout",
     "output_type": "stream",
     "text": [
      "gamma = 1\n"
     ]
    },
    {
     "name": "stderr",
     "output_type": "stream",
     "text": [
      "100%|██████████| 1000/1000 [00:07<00:00, 140.27it/s]\n"
     ]
    },
    {
     "name": "stdout",
     "output_type": "stream",
     "text": [
      "gamma = 2\n"
     ]
    },
    {
     "name": "stderr",
     "output_type": "stream",
     "text": [
      "100%|██████████| 1000/1000 [00:07<00:00, 140.22it/s]\n"
     ]
    },
    {
     "name": "stdout",
     "output_type": "stream",
     "text": [
      "gamma = 3\n"
     ]
    },
    {
     "name": "stderr",
     "output_type": "stream",
     "text": [
      "100%|██████████| 1000/1000 [00:07<00:00, 141.59it/s]\n"
     ]
    },
    {
     "name": "stdout",
     "output_type": "stream",
     "text": [
      "ws = 3\n",
      "gamma = 0\n"
     ]
    },
    {
     "name": "stderr",
     "output_type": "stream",
     "text": [
      "100%|██████████| 1000/1000 [00:07<00:00, 126.48it/s]\n"
     ]
    },
    {
     "name": "stdout",
     "output_type": "stream",
     "text": [
      "gamma = 1\n"
     ]
    },
    {
     "name": "stderr",
     "output_type": "stream",
     "text": [
      "100%|██████████| 1000/1000 [00:07<00:00, 125.19it/s]\n"
     ]
    },
    {
     "name": "stdout",
     "output_type": "stream",
     "text": [
      "gamma = 2\n"
     ]
    },
    {
     "name": "stderr",
     "output_type": "stream",
     "text": [
      "100%|██████████| 1000/1000 [00:08<00:00, 124.97it/s]\n"
     ]
    },
    {
     "name": "stdout",
     "output_type": "stream",
     "text": [
      "gamma = 3\n"
     ]
    },
    {
     "name": "stderr",
     "output_type": "stream",
     "text": [
      "100%|██████████| 1000/1000 [00:07<00:00, 125.55it/s]"
     ]
    },
    {
     "name": "stdout",
     "output_type": "stream",
     "text": [
      "\n",
      "CALCULATED TS FOR ALL PSRS FOR ALL GAMMAS FOR ALL WEIGHTS\n"
     ]
    },
    {
     "name": "stderr",
     "output_type": "stream",
     "text": [
      "\n"
     ]
    }
   ],
   "source": [
    "print('\\nCALCULATING TS FOR ALL PSRS FOR ALL GAMMAS FOR ALL WEIGHTS\\n')\n",
    "\n",
    "all_TSS = []\n",
    "for ws in prange(4):\n",
    "    tmpp = []\n",
    "    print(\"ws = {}\".format(ws))\n",
    "    for gamma in prange(len(gamma_arr)):\n",
    "        print(\"gamma = {}\".format(gamma))\n",
    "        # tmp = np.zeros(len(phio))\n",
    "        # for season in tqdm(range(10)):\n",
    "        t2mp = np.asfarray(all_Si_ws_g_s[ws][gamma])\n",
    "        @njit(nogil=True)\n",
    "        def TS_for_all_psrs2(nsa):  \n",
    "            return TS_st_vec(nsa, t2mp, all_Bi, Ns)      #No units\n",
    "        temp = []\n",
    "        for phi in tqdm(prange(len(phio))):\n",
    "            temp.append(TS_for_all_psrs2(arr[gamma][ws]*phio[phi]))\n",
    "        tmpp.append(temp)\n",
    "        temp = []\n",
    "    all_TSS.append(tmpp)\n",
    "    tmpp = []\n",
    "\n",
    "print('\\nCALCULATED TS FOR ALL PSRS FOR ALL GAMMAS FOR ALL WEIGHTS')"
   ]
  },
  {
   "attachments": {},
   "cell_type": "markdown",
   "metadata": {},
   "source": [
    "### $N \\approx 10^6$"
   ]
  },
  {
   "cell_type": "code",
   "execution_count": null,
   "metadata": {},
   "outputs": [
    {
     "data": {
      "text/plain": [
       "(4, 4, 1000)"
      ]
     },
     "execution_count": 42,
     "metadata": {},
     "output_type": "execute_result"
    }
   ],
   "source": [
    "all_TSS = np.array(all_TSS, dtype=np.float64)\n",
    "all_TSS.shape"
   ]
  },
  {
   "cell_type": "code",
   "execution_count": null,
   "metadata": {},
   "outputs": [
    {
     "data": {
      "image/png": "[encoded data removed]",
      "text/plain": [
       "<Figure size 640x480 with 1 Axes>"
      ]
     },
     "metadata": {},
     "output_type": "display_data"
    }
   ],
   "source": [
    "# for i in range(1, len(all_TSS)):\n",
    "plt.figure()\n",
    "histdetails = plt.hist(np.ravel(all_TSS[1:]), bins=10, density=False, histtype='step')\n",
    "# plt.ylim(0, 1000)\n",
    "plt.yscale('log')\n",
    "plt.xlabel('TS')\n",
    "plt.ylabel('Counts')\n",
    "plt.title('TS distribution')\n",
    "plt.show()"
   ]
  },
  {
   "attachments": {},
   "cell_type": "markdown",
   "metadata": {},
   "source": [
    "histdetails = np.histogram(np.ravel(all_TSS[1:]), bins=10)"
   ]
  },
  {
   "cell_type": "code",
   "execution_count": null,
   "metadata": {},
   "outputs": [
    {
     "data": {
      "text/plain": [
       "(array([1.000e+00, 1.000e+00, 1.000e+00, 3.000e+00, 5.000e+00, 9.000e+00,\n",
       "        1.800e+01, 3.000e+01, 7.500e+01, 6.257e+03]),\n",
       " array([-9.98903755e+06, -8.99013251e+06, -7.99122746e+06, -6.99232241e+06,\n",
       "        -5.99341737e+06, -4.99451232e+06, -3.99560728e+06, -2.99670223e+06,\n",
       "        -1.99779719e+06, -9.98892142e+05,  1.29038750e+01]),\n",
       " [<matplotlib.patches.Polygon at 0x7f88cbc02af0>])"
      ]
     },
     "execution_count": 49,
     "metadata": {},
     "output_type": "execute_result"
    }
   ],
   "source": [
    "histdetails"
   ]
  },
  {
   "cell_type": "code",
   "execution_count": null,
   "metadata": {},
   "outputs": [
    {
     "data": {
      "text/plain": [
       "12000"
      ]
     },
     "execution_count": 45,
     "metadata": {},
     "output_type": "execute_result"
    }
   ],
   "source": [
    "len(np.ravel(all_TSS[1:]))"
   ]
  },
  {
   "attachments": {},
   "cell_type": "markdown",
   "metadata": {},
   "source": [
    "np.count_nonzero(np.ravel(all_TSS[1:])> )"
   ]
  },
  {
   "cell_type": "code",
   "execution_count": null,
   "metadata": {},
   "outputs": [],
   "source": [
    "all_TSS = np.array(all_TSS, dtype=np.float64)"
   ]
  },
  {
   "cell_type": "code",
   "execution_count": null,
   "metadata": {},
   "outputs": [
    {
     "data": {
      "text/plain": [
       "(4, 4, 1000)"
      ]
     },
     "execution_count": 47,
     "metadata": {},
     "output_type": "execute_result"
    }
   ],
   "source": [
    "all_TSS.shape"
   ]
  },
  {
   "cell_type": "code",
   "execution_count": null,
   "metadata": {},
   "outputs": [
    {
     "name": "stdout",
     "output_type": "stream",
     "text": [
      "-6057251.366320607 12.156029323378263\n",
      "-5804441.418755395 14.844657652002391\n",
      "-5992055.274334782 16.10839920845393\n",
      "-5962949.590941089 15.982653949210043\n",
      "wt\n",
      "\n",
      "-8611100.99949178 1.2955535383705152\n",
      "-6125012.599336783 3.1780334067582507\n",
      "-9060415.976970289 4.667547026372957\n",
      "-7217284.656668596 4.901525793335741\n",
      "wt\n",
      "\n",
      "-8380247.223308682 4.653394559824417\n",
      "-7127537.311617021 6.824156252534279\n",
      "-10052884.960864566 7.381386412963184\n",
      "-7110119.631885988 7.272296852698757\n",
      "wt\n"
     ]
    }
   ],
   "source": [
    "for w in range(1,4):\n",
    "    for g in range(len(gamma_arr)):\n",
    "        print(min(all_TSS[w][g]), max(all_TSS[w][g]))\n",
    "        # np.savetxt(f'TS_w{w}_g{g}.txt', all_TSS[w][g])\n",
    "        \n",
    "    print('wt\\n')\n",
    "\n",
    "with open(altier_path[0] + f'all_TSS_{len(enus)}_bins.pkl', 'wb') as f:\n",
    "    pickle.dump(all_TSS, f)"
   ]
  },
  {
   "cell_type": "code",
   "execution_count": null,
   "metadata": {},
   "outputs": [],
   "source": [
    "#Plotting\n",
    "\n",
    "all_TSS = np.asarray(all_TSS)\n",
    "gamma_arr = np.asarray(gamma_arr)\n",
    "\n",
    "all_e_UL = []\n",
    "e_decade = [1e13, 1e14, 1e15, 1e16, 1e17]\n",
    "for e_UL in e_decade:\n",
    "    e2dfde = []\n",
    "\n",
    "    for gamma in prange(len(gamma_arr)):\n",
    "        temp = []\n",
    "        for phi in range(len(phio)):\n",
    "            temp.append( e_UL**2 * dfde(e_UL, gamma_arr[gamma], phio[phi]))        #in eV\n",
    "        e2dfde.append(temp)\n",
    "    e2dfde = np.asarray(e2dfde)\n",
    "\n",
    "    all_e_UL.append(e2dfde)\n",
    "mark = ['^', 'o', 's', 'd']"
   ]
  },
  {
   "cell_type": "code",
   "execution_count": null,
   "metadata": {},
   "outputs": [
    {
     "name": "stdout",
     "output_type": "stream",
     "text": [
      "[[1.00000000e-10 1.04236067e-10 1.08651577e-10 ... 9.20373200e+07\n",
      "  9.59360829e+07 1.00000000e+08]\n",
      " [1.58489319e-10 1.65203034e-10 1.72201145e-10 ... 1.45869322e+08\n",
      "  1.52048445e+08 1.58489319e+08]\n",
      " [3.38844156e-10 3.53197823e-10 3.68159521e-10 ... 3.11863080e+08\n",
      "  3.25073810e+08 3.38844156e+08]\n",
      " [1.00000000e-09 1.04236067e-09 1.08651577e-09 ... 9.20373200e+08\n",
      "  9.59360829e+08 1.00000000e+09]]\n",
      "next energy bin\n",
      "[[1.00000000e-10 1.04236067e-10 1.08651577e-10 ... 9.20373200e+07\n",
      "  9.59360829e+07 1.00000000e+08]\n",
      " [1.00000000e-10 1.04236067e-10 1.08651577e-10 ... 9.20373200e+07\n",
      "  9.59360829e+07 1.00000000e+08]\n",
      " [1.00000000e-10 1.04236067e-10 1.08651577e-10 ... 9.20373200e+07\n",
      "  9.59360829e+07 1.00000000e+08]\n",
      " [1.00000000e-10 1.04236067e-10 1.08651577e-10 ... 9.20373200e+07\n",
      "  9.59360829e+07 1.00000000e+08]]\n",
      "next energy bin\n",
      "[[1.00000000e-10 1.04236067e-10 1.08651577e-10 ... 9.20373200e+07\n",
      "  9.59360829e+07 1.00000000e+08]\n",
      " [6.30957344e-11 6.57685123e-11 6.85545108e-11 ... 5.80716230e+07\n",
      "  6.05315761e+07 6.30957344e+07]\n",
      " [2.95120923e-11 3.07622444e-11 3.20653538e-11 ... 2.71621388e+07\n",
      "  2.83127453e+07 2.95120923e+07]\n",
      " [1.00000000e-11 1.04236067e-11 1.08651577e-11 ... 9.20373200e+06\n",
      "  9.59360829e+06 1.00000000e+07]]\n",
      "next energy bin\n",
      "[[1.00000000e-10 1.04236067e-10 1.08651577e-10 ... 9.20373200e+07\n",
      "  9.59360829e+07 1.00000000e+08]\n",
      " [3.98107171e-11 4.14971259e-11 4.32549721e-11 ... 3.66407170e+07\n",
      "  3.81928425e+07 3.98107171e+07]\n",
      " [8.70963590e-12 9.07858195e-12 9.46315680e-12 ... 8.01611546e+06\n",
      "  8.35568351e+06 8.70963590e+06]\n",
      " [1.00000000e-12 1.04236067e-12 1.08651577e-12 ... 9.20373200e+05\n",
      "  9.59360829e+05 1.00000000e+06]]\n",
      "next energy bin\n",
      "[[1.00000000e-10 1.04236067e-10 1.08651577e-10 ... 9.20373200e+07\n",
      "  9.59360829e+07 1.00000000e+08]\n",
      " [2.51188643e-11 2.61829163e-11 2.72920423e-11 ... 2.31187295e+07\n",
      "  2.40980545e+07 2.51188643e+07]\n",
      " [2.57039578e-12 2.67927948e-12 2.79277557e-12 ... 2.36572339e+06\n",
      "  2.46593703e+06 2.57039578e+06]\n",
      " [1.00000000e-13 1.04236067e-13 1.08651577e-13 ... 9.20373200e+04\n",
      "  9.59360829e+04 1.00000000e+05]]\n",
      "next energy bin\n"
     ]
    }
   ],
   "source": [
    "for i in all_e_UL:\n",
    "    print(i)\n",
    "    print('next energy bin')"
   ]
  },
  {
   "cell_type": "code",
   "execution_count": null,
   "metadata": {},
   "outputs": [],
   "source": [
    "\n",
    "all_e_UL=np.asarray(all_e_UL)"
   ]
  },
  {
   "cell_type": "code",
   "execution_count": null,
   "metadata": {},
   "outputs": [
    {
     "name": "stdout",
     "output_type": "stream",
     "text": [
      "(5, 4, 1000)\n"
     ]
    }
   ],
   "source": [
    "print(all_e_UL.shape)"
   ]
  },
  {
   "cell_type": "code",
   "execution_count": null,
   "metadata": {},
   "outputs": [
    {
     "data": {
      "text/plain": [
       "(4, 4, 1000)"
      ]
     },
     "execution_count": 51,
     "metadata": {},
     "output_type": "execute_result"
    }
   ],
   "source": [
    "all_TSS.shape"
   ]
  },
  {
   "cell_type": "code",
   "execution_count": null,
   "metadata": {},
   "outputs": [
    {
     "name": "stdout",
     "output_type": "stream",
     "text": [
      "2.543345761304638e-23\n",
      "9.396648314954749e-24\n",
      "1.4526539259467783e-24\n",
      "2.3408272761782943e-23\n",
      "8.296958520834915e-24\n",
      "1.2305240043592616e-24\n",
      "1.61141427725301e-23\n",
      "5.711586478126447e-24\n",
      "8.470868266557419e-25\n"
     ]
    }
   ],
   "source": [
    "for w in range(1, 4):\n",
    "    for g in range(1, 4):\n",
    "        print(phio[np.argmax(all_TSS[w][g])])"
   ]
  },
  {
   "cell_type": "code",
   "execution_count": null,
   "metadata": {},
   "outputs": [
    {
     "data": {
      "text/plain": [
       "16.10839920845393"
      ]
     },
     "execution_count": 53,
     "metadata": {},
     "output_type": "execute_result"
    }
   ],
   "source": [
    "max(all_TSS[1][2])"
   ]
  },
  {
   "attachments": {},
   "cell_type": "markdown",
   "metadata": {},
   "source": []
  },
  {
   "cell_type": "code",
   "execution_count": null,
   "metadata": {},
   "outputs": [],
   "source": [
    "tete = np.float64('2.543345761304638e-23 9.396648314954749e-24 1.4526539259467783e-24 2.3408272761782943e-23 8.296958520834915e-24 1.2305240043592616e-24 1.61141427725301e-23 5.711586478126447e-24 8.470868266557419e-25'.split(' '))"
   ]
  },
  {
   "cell_type": "code",
   "execution_count": null,
   "metadata": {},
   "outputs": [
    {
     "data": {
      "text/plain": [
       "1.1767549189872607e-24"
      ]
     },
     "execution_count": 55,
     "metadata": {},
     "output_type": "execute_result"
    }
   ],
   "source": [
    "tete[2::3].mean()"
   ]
  },
  {
   "cell_type": "code",
   "execution_count": null,
   "metadata": {},
   "outputs": [
    {
     "name": "stdout",
     "output_type": "stream",
     "text": [
      "1000\n",
      "1000\n",
      "1000\n",
      "1000\n",
      "1000\n",
      "1000\n",
      "1000\n",
      "1000\n",
      "1000\n",
      "1000\n",
      "1000\n",
      "1000\n",
      "1000\n",
      "1000\n",
      "1000\n",
      "1000\n",
      "1000\n",
      "1000\n",
      "1000\n",
      "1000\n",
      "1000\n",
      "1000\n",
      "1000\n",
      "1000\n",
      "1000\n",
      "1000\n",
      "1000\n",
      "1000\n",
      "1000\n",
      "1000\n",
      "1000\n",
      "1000\n",
      "1000\n",
      "1000\n",
      "1000\n",
      "1000\n",
      "1000\n",
      "1000\n",
      "1000\n",
      "1000\n",
      "1000\n",
      "1000\n",
      "1000\n",
      "1000\n",
      "1000\n",
      "1000\n",
      "1000\n",
      "1000\n",
      "1000\n",
      "1000\n",
      "1000\n",
      "1000\n",
      "1000\n",
      "1000\n",
      "1000\n",
      "1000\n",
      "1000\n",
      "1000\n",
      "1000\n",
      "1000\n"
     ]
    }
   ],
   "source": [
    "# e2dfde = all_e_UL[1][2]\n",
    "# dist_g25 = interp.interp1d(all_TSS[1][2], e2dfde/1e9)\n",
    "\n",
    "# print(dist_g25(-3.84))\n",
    "\n",
    "all_UL = []\n",
    "for ws in range(1,4):\n",
    "    ul_all_gamma = []\n",
    "    for gamma in prange(len(gamma_arr)):\n",
    "        temp = []\n",
    "        for i in all_e_UL:\n",
    "            #print(len(all_TSS[ws][gamma]))\n",
    "            print(len(i[gamma]/1e9))\n",
    "            dist_g = interp.interp1d(all_TSS[ws][gamma], i[gamma]/1e9)\n",
    "            temp.append(dist_g(-3.84))\n",
    "\n",
    "        ul_all_gamma.append(temp)\n",
    "    all_UL.append(ul_all_gamma)"
   ]
  },
  {
   "cell_type": "code",
   "execution_count": null,
   "metadata": {},
   "outputs": [],
   "source": [
    "# plt.style.use('default')\n",
    "font = {'family': 'serif',\n",
    "        'weight': 'bold',\n",
    "        'size': 22,\n",
    "        'color':  'black',\n",
    "        }\n",
    "smallerfont = {'family': 'serif',\n",
    "        'color':  'black',\n",
    "        'weight': 'bold',\n",
    "        'size': 15,\n",
    "        }\n",
    "\n",
    "axesfont = {'family': 'serif',\n",
    "        'color':  'black',\n",
    "        'weight': 'normal',\n",
    "        'size': 17,\n",
    "        }"
   ]
  },
  {
   "cell_type": "code",
   "execution_count": null,
   "metadata": {},
   "outputs": [
    {
     "ename": "NameError",
     "evalue": "name 'all_e_UL' is not defined",
     "output_type": "error",
     "traceback": [
      "\u001b[0;31m---------------------------------------------------------------------------\u001b[0m",
      "\u001b[0;31mNameError\u001b[0m                                 Traceback (most recent call last)",
      "Cell \u001b[0;32mIn[59], line 1\u001b[0m\n\u001b[0;32m----> 1\u001b[0m e2dfde \u001b[39m=\u001b[39m all_e_UL[\u001b[39m1\u001b[39m]\n\u001b[1;32m      2\u001b[0m \u001b[39m# plt.style.use('default')\u001b[39;00m\n\u001b[1;32m      3\u001b[0m font \u001b[39m=\u001b[39m {\u001b[39m'\u001b[39m\u001b[39mfamily\u001b[39m\u001b[39m'\u001b[39m: \u001b[39m'\u001b[39m\u001b[39mserif\u001b[39m\u001b[39m'\u001b[39m,\n\u001b[1;32m      4\u001b[0m         \u001b[39m'\u001b[39m\u001b[39mweight\u001b[39m\u001b[39m'\u001b[39m: \u001b[39m'\u001b[39m\u001b[39mbold\u001b[39m\u001b[39m'\u001b[39m,\n\u001b[1;32m      5\u001b[0m         \u001b[39m'\u001b[39m\u001b[39msize\u001b[39m\u001b[39m'\u001b[39m: \u001b[39m22\u001b[39m,\n\u001b[1;32m      6\u001b[0m         \u001b[39m'\u001b[39m\u001b[39mcolor\u001b[39m\u001b[39m'\u001b[39m:  \u001b[39m'\u001b[39m\u001b[39mblack\u001b[39m\u001b[39m'\u001b[39m,\n\u001b[1;32m      7\u001b[0m         }\n",
      "\u001b[0;31mNameError\u001b[0m: name 'all_e_UL' is not defined"
     ]
    }
   ],
   "source": [
    "e2dfde = all_e_UL[1]\n",
    "\n",
    "\n",
    "fig, axs = plt.subplots(1,3, figsize=(18, 6))\n",
    "\n",
    "for gamma in [ 1, 2, 3]:#range(4):\n",
    "    \n",
    "    for i in range(3):\n",
    "        axs[i].plot(e2dfde[gamma]/1e9, all_TSS[i+1][gamma], label='$\\Gamma$ = ' + str(gamma_arr[gamma]), lw=2.2)# + ' with wt')    #in GeV\n",
    "\n",
    "    \n",
    "\n",
    "axs[0].set_title('Weighting scheme: $\\mathsf{\\mathbf{w_{acc}}}$; $\\mathsf{\\mathbf{w_{model} = 1}}$', fontdict=smallerfont)\n",
    "axs[1].set_title('Weighting scheme: $\\mathsf{\\mathbf{w_{acc}}}$; $\\mathsf{\\mathbf{w_{model} = \\dfrac{1}{d_{DM}^2}}}$' , fontdict=smallerfont)\n",
    "axs[2].set_title('Weighting scheme: $\\mathsf{\\mathbf{w_{acc}}}$; $\\mathsf{\\mathbf{w_{model} = s_{1400}}}$', fontdict=smallerfont)\n",
    "\n",
    "\n",
    "for i in range(3):\n",
    "    \n",
    "    axs[i].legend(prop={'size':14}, framealpha=0, loc='lower left')\n",
    "    axs[i].hlines(-3.84, 1e-20, 1e-5, linestyles='dashed', lw=2.2, ls='-.', label='95 % UPPER LIMIT $TS = -3.84$', color='lightcoral')\n",
    "    axs[i].set_xscale('log')\n",
    "    axs[i].set_xlabel('$\\mathsf{\\mathbf{E^2_{\\u03BD} \\dfrac{dF}{dE_{\\u03BD}}}}$ at 100 TeV ($\\mathsf{\\mathbf{GeV}}$ $\\mathsf{\\mathbf{s^{-1}}}$ $\\mathsf{\\mathbf{cm^{-2}}}$ $\\mathsf{\\mathbf{sr^{-1}}}$)', fontdict=axesfont)\n",
    "    axs[i].set_ylabel('TS', fontdict=axesfont, fontsize=20)\n",
    "    axs[i].xaxis.set_tick_params(labelsize=15)\n",
    "    axs[i].yaxis.set_tick_params(labelsize=15)\n",
    "    \n",
    "    axs[i].set_ylim(-220, 90)\n",
    "    axs[i].set_xlim(0.95e-19, 1e-6)\n",
    "\n",
    "plt.suptitle('TS vs Total Neutrino Flux at 100 TeV', fontweight='bold', fontsize=20, fontfamily='serif')\n",
    "\n",
    "plt.tight_layout()\n",
    "plt.savefig(f'outputs/TS_vs_E2dfde_all_w_model_bins={len(enus)}.png')\n",
    "# plt.show()\n",
    "print(f'\\nTS_vs_E2dfde_all_w_model_bins={len(enus)}.png\\nDONE')"
   ]
  },
  {
   "cell_type": "code",
   "execution_count": null,
   "metadata": {},
   "outputs": [
    {
     "data": {
      "image/png": "[encoded data removed]",
      "text/plain": [
       "<Figure size 1800x600 with 3 Axes>"
      ]
     },
     "metadata": {},
     "output_type": "display_data"
    }
   ],
   "source": [
    "#SIMILAR PLOTS FOR 95% UPPER LIMIT \n",
    "fig, axs = plt.subplots(1,3, figsize=(18, 6))\n",
    "\n",
    "\n",
    "\n",
    "for i in range(3):\n",
    "    for gamma in range(1, len(gamma_arr)):\n",
    "\n",
    "        axs[i].plot(np.divide(e_decade, 1e9), np.multiply(all_UL[i][gamma], 3), label='$\\Gamma$ = ' + str(gamma_arr[gamma]), lw=2.2, ls='-')# + ' with wt')    #in GeV\n",
    "\n",
    "    \n",
    "    axs[i].set_xscale('log')\n",
    "    axs[i].set_yscale('log')\n",
    "    axs[i].set_xlabel('E$_{\\u03BD}$ (GeV)', fontdict=axesfont)\n",
    "    axs[i].set_ylabel('$\\mathsf{\\mathbf{E^2_{\\u03BD} \\dfrac{dF}{dE_{\\u03BD}}}}$ at 100 TeV ($\\mathsf{\\mathbf{GeV}}$ $\\mathsf{\\mathbf{s^{-1}}}$ $\\mathsf{\\mathbf{cm^{-2}}}$ $\\mathsf{\\mathbf{sr^{-1}}}$)', fontdict=axesfont)\n",
    "    axs[i].xaxis.set_tick_params(labelsize=15)\n",
    "    axs[i].yaxis.set_tick_params(labelsize=15)\n",
    "    \n",
    "    axs[i].legend(prop={'size':14}, framealpha=0, loc='lower left')\n",
    "\n",
    "\n",
    "axs[0].set_title('Weighting scheme: $\\mathsf{\\mathbf{w_{acc}}}$; $\\mathsf{\\mathbf{w_{model} = 1}}$', fontdict=smallerfont)\n",
    "axs[1].set_title('Weighting scheme: $\\mathsf{\\mathbf{w_{acc}}}$; $\\mathsf{\\mathbf{w_{model} = \\dfrac{1}{d_{DM}^2}}}$' , fontdict=smallerfont)\n",
    "axs[2].set_title('Weighting scheme: $\\mathsf{\\mathbf{w_{acc}}}$; $\\mathsf{\\mathbf{w_{model} = s_{1400}}}$', fontdict=smallerfont)\n",
    "\n",
    "\n",
    "plt.suptitle('95% UL of Total Energy Flux vs Neutrino Energy', fontweight='bold', fontsize=20, fontfamily='serif')\n",
    "plt.tight_layout()\n",
    "plt.savefig(f'outputs/UL_all_w_model_bins={len(enus)}.png')\n",
    "plt.show()\n"
   ]
  },
  {
   "cell_type": "code",
   "execution_count": null,
   "metadata": {},
   "outputs": [],
   "source": [
    "# e2dfde = all_e_UL[1]\n",
    "# plttitles = ['$w_{acc}$ and $w_{model} = 1$', '$w_{acc}$ and $w_{model} = \\dfrac{1}{d_{DM}^2}$', '$w_{acc}$ and $w_{model} =  w_{s1400}$']\n",
    "\n",
    "#         # print(st.t.interval(0.95, len(all_TSS[i][j])-1, loc=np.mean(all_TSS[i][j]), scale=st.sem(all_TSS[i][j])))\n",
    "# for i in range(1, 4):\n",
    "#     plt.figure(figsize=(8, 6))\n",
    "#     for j in range(1, len(gamma_arr)):\n",
    "#         plt.plot(e2dfde[j]/1e9, all_TSS[i][j], label='$\\Gamma$ = ' + str(gamma_arr[j]), lw=0.8)\n",
    "#         # ci = st.t.interval(0.95, len(all_TSS[i][j])-1, loc=np.mean(all_TSS[i][j]), scale=st.sem(all_TSS[i][j]))\n",
    "#         # plt.hlines(ci, 1e-19, 1e-6, colors='k', linestyles='dashed', lw=0.5, ls='-.', label=\"95% CI \"+ '$\\Gamma$ = ' + str(gamma_arr[j]))\n",
    "\n",
    "#     plt.hlines(-3.84, 1e-19, 1e-6, linestyles='dashed', lw=0.7, ls='-.', label='95 % UPPER LIMIT $TS = -3.84$')\n",
    "#     # plt.vlines(dist_g25(-3.84), -120, 50, linestyles='dashed', lw=0.5, ls='-.')\n",
    "#     plt.legend()\n",
    "#     plt.xscale('log')\n",
    "#     # plt.yscale('log')\n",
    "#     plt.xlabel(\"$E^2_{\\u03BD} \\dfrac{dF}{dE_{\\u03BD}}$ (GeV)\")\n",
    "#     plt.ylabel(r'$TS$')\n",
    "#     plt.ylim(-200, 50)\n",
    "#     plt.title(\"TS vs Total Neutrino Flux at 100 TeV\\nWeighting scheme: \" + plttitles[i-1])\n",
    "#     plt.savefig(os.getcwd() + f'/outputs/TSvsE2dFdE_ws_{i}.png', facecolor='w')\n",
    "#     plt.show()"
   ]
  },
  {
   "cell_type": "code",
   "execution_count": null,
   "metadata": {},
   "outputs": [],
   "source": [
    "# def dfde_ul(enu, gamma, phi, flux=1e14):\n",
    "#     return phi * (enu/flux)**gamma"
   ]
  }
 ],
 "metadata": {
  "kernelspec": {
   "display_name": "Python 3",
   "language": "python",
   "name": "python3"
  },
  "language_info": {
   "codemirror_mode": {
    "name": "ipython",
    "version": 3
   },
   "file_extension": ".py",
   "mimetype": "text/x-python",
   "name": "python",
   "nbconvert_exporter": "python",
   "pygments_lexer": "ipython3",
   "version": "3.8.2"
  }
 },
 "nbformat": 4,
 "nbformat_minor": 2
}

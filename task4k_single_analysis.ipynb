{
 "cells": [
  {
   "cell_type": "markdown",
   "metadata": {},
   "source": [
    "# Import needed packages and vectors"
   ]
  },
  {
   "cell_type": "code",
   "execution_count": 6,
   "metadata": {
    "ExecuteTime": {
     "end_time": "2024-03-31T09:45:30.255647Z",
     "start_time": "2024-03-31T09:44:52.414860Z"
    }
   },
   "outputs": [],
   "source": [
    "# from core import readfiles\n",
    "import numpy as np\n",
    "import os\n",
    "import multiprocessing as mul\n",
    "import matplotlib.pyplot as plt\n",
    "from numba import jit, njit, prange, set_num_threads, vectorize, guvectorize, cuda\n",
    "from tqdm import tqdm\n",
    "from core.signal_bag import *\n",
    "from core.stacking_analysis import *\n",
    "from core.req_vectors import *\n",
    "import pickle\n",
    "import scipy.stats as st\n",
    "import scipy.interpolate as interp\n",
    "# import torch\n",
    "# from core import weights"
   ]
  },
  {
   "cell_type": "code",
   "execution_count": 24,
   "metadata": {},
   "outputs": [
    {
     "name": "stdout",
     "output_type": "stream",
     "text": [
      "['1LHAASOJ0007+5659u  ', '1LHAASOJ0007+7303u', '1LHAASOJ0056+6346u', '1LHAASOJ0206+4302u', '1LHAASOJ0212+4254u', '1LHAASOJ0216+4237u', '1LHAASOJ0249+6022', '1LHAASOJ0339+5307', '1LHAASOJ0343+5254u*', '1LHAASOJ0359+5406', '1LHAASOJ0428+5531*', '1LHAASOJ0534+3533', '1LHAASOJ0534+2200u', '1LHAASOJ0542+2311u', '1LHAASOJ0622+3754', '1LHAASOJ0631+1040', '1LHAASOJ0634+1741u', '1LHAASOJ0635+0619', '1LHAASOJ0703+1405 ', '1LHASSOJ1809-1918u', '1LHAASOJ1740+0948u ', '1LHASSOJ1813-1245', '1LHAASSOJ1814-1719u*', '1LHAASOJ1814-1636u', '1LHAASOJ1825-1418', ' 1LHAASO J1825-1256u ', '1LHAASOJ1825-1337u', '1LHAASOJ1831-1007u*', '1LHAASOJ1831-1028', '1LHAASOJ1834-0831', '1LHAASOJ1837-0654u', '1LHAASOJ1839-0548u', '1LHAASOJ1841-0519', '1LHAASOJ1843-0335u', '1LHAASOJ1848-0153u', '1LHAASOJ1848-0001u', '1LHAASOJ1850-0004u*', '1LHAASOJ1852+0050u*', '1LHAASOJ1857+0203u', '1LHAASOJ1858+0330', '1LHAASOJ1908+0615u ', '1LHAASOJ1910+0516*', '1LHAASOJ1912+1014u', '1LHAASOJ1913+0501', ' 1LHAASO J1914+1150u ', '1LHAASOJ1919+1556', '1LHAASOJ1922+1403', '1LHAASOJ1924+1609', '1LHAASOJ1928+1813u', '1LHAASOJ1928+1746u', '1LHAASOJ1929+1846u*', '1LHAASOJ1931+1653', '1LHAASOJ1937+2128', '1LHAASOJ1945+2424*', '1LHAASOJ1951+2608', '1LHAASOJ1954+2836u', '1LHAASOJ1956+2921', '1LHAASOJ1959+2846u', '1LHAASOJ1959+1129u', '1LHAASOJ2002+3244u', '1LHAASOJ2005+3415*', '1LHAASOJ2005+3050', '1LHAASOJ2018+3643u', '1LHAASOJ2020+4034', '1LHAASOJ2020+3649u', '1LHAASOJ2027+3657', '1LHAASOJ2028+3352', '1LHAASOJ2031+4052u*', '1LHAASOJ2031+4127u', '1LHAASOJ2047+4434', '1LHAASOJ2108+5153u', '1LHAASOJ2200+5643u', '1LHAASOJ2228+6100u', '1LHAASOJ2229+5927u', '1LHAASOJ2238+5900']\n"
     ]
    }
   ],
   "source": [
    "print(lhsaao1name)"
   ]
  },
  {
   "cell_type": "code",
   "execution_count": 7,
   "metadata": {},
   "outputs": [],
   "source": [
    "from numba import jit, njit, prange, set_num_threads, vectorize\n",
    "from numba.experimental import jitclass"
   ]
  },
  {
   "cell_type": "code",
   "execution_count": 8,
   "metadata": {},
   "outputs": [],
   "source": [
    "from matplotlib.ticker import MaxNLocator, NullLocator,AutoMinorLocator\n",
    "from matplotlib.colors import LinearSegmentedColormap\n",
    "from matplotlib.ticker import ScalarFormatter"
   ]
  },
  {
   "cell_type": "code",
   "execution_count": 10,
   "metadata": {},
   "outputs": [],
   "source": [
    "from scipy.optimize import curve_fit\n",
    "from lmfit.models import GaussianModel\n"
   ]
  },
  {
   "cell_type": "markdown",
   "metadata": {},
   "source": [
    "# check the shape of the source list"
   ]
  },
  {
   "cell_type": "code",
   "execution_count": 95,
   "metadata": {},
   "outputs": [
    {
     "name": "stdout",
     "output_type": "stream",
     "text": [
      "(1134450,)\n",
      "(95,)\n",
      "(1134450,)\n",
      "(275,)\n",
      "275\n"
     ]
    }
   ],
   "source": [
    "print(icra.shape)\n",
    "print(hess_ra.shape)\n",
    "print(icdec.shape)\n",
    "print(icetrackdec.shape)\n",
    "print(len(icetrackdeng))"
   ]
  },
  {
   "cell_type": "markdown",
   "metadata": {},
   "source": [
    "# concatenate the  LHAASO and HESS  vectors"
   ]
  },
  {
   "cell_type": "code",
   "execution_count": 6,
   "metadata": {},
   "outputs": [
    {
     "name": "stdout",
     "output_type": "stream",
     "text": [
      "(1134450,) (1134450,) (1134450,) (170,)\n"
     ]
    }
   ],
   "source": [
    "gammaraysrc1ra=np.concatenate([lhsaao1ra, hess_ra], 0)\n",
    "gammaraysrc1dec=np.concatenate([lhsaao1dec, hess_dec], 0)\n",
    "gammaraysrc1name=lhsaao1name+hess_name\n",
    "gammaraysrc2ra=np.concatenate([lhsaao2ra, hess_ra], 0)\n",
    "gammaraysrc2name=lhsaao2name+hess_name\n",
    "gammaraysrc2dec=np.concatenate([lhsaao2dec, hess_dec], 0)\n",
    "# icra=np.hstack([icra,icetrackra])\n",
    "\n",
    "# icdec=np.hstack([icdec,icetrackdec])\n",
    "# icang=np.hstack([icang,icetrackdeng])\n",
    "\n",
    "print(icdec.shape,icang.shape,icra.shape,gammaraysrc1ra.shape)"
   ]
  },
  {
   "cell_type": "code",
   "execution_count": 8,
   "metadata": {},
   "outputs": [
    {
     "name": "stdout",
     "output_type": "stream",
     "text": [
      " HESS J1912+101\n"
     ]
    }
   ],
   "source": [
    "print(gammaraysrc1name[118])"
   ]
  },
  {
   "cell_type": "markdown",
   "metadata": {},
   "source": [
    "# see the  machine configurations"
   ]
  },
  {
   "cell_type": "code",
   "execution_count": 9,
   "metadata": {},
   "outputs": [],
   "source": [
    "num_threads = int(mul.cpu_count()*0.9)\n",
    "set_num_threads(num_threads)"
   ]
  },
  {
   "cell_type": "markdown",
   "metadata": {},
   "source": [
    "# Compute the signal PDF for all neutrinos as per eqns 6, 7 and weights as per eqn 8 of 2205.15963"
   ]
  },
  {
   "cell_type": "code",
   "execution_count": 10,
   "metadata": {},
   "outputs": [],
   "source": [
    "\n",
    "\n",
    "@njit(nogil=True)\n",
    "def S_ijk(i,nu): \n",
    "\n",
    "    '''\n",
    "    Calculates S_ij as in EQN 7 of 2205.15963\n",
    "    ----------\n",
    "\n",
    "    Parameters\n",
    "    ----------\n",
    "    nu : int\n",
    "        Index of the neutrino in the sample\n",
    "        \n",
    "    \n",
    "    Returns\n",
    "    -------\n",
    "        Returns the signal PDF for the {psrno}th pulsar and nuind_inp neutrino\n",
    "    '''\n",
    "    ang2 = hvovec(gammaraysrc1ra[i], gammaraysrc1dec[i], icra[nu], icdec[nu], rad=True) ** 2      #rad**2\n",
    "    sg = np.deg2rad(icang[nu]) ** 2                                     #rad**2\n",
    "    return np.divide(np.exp(-1 * np.divide(ang2, 2*sg)), (2 * np.pi * sg))      #1/rad**2\n",
    "\n",
    "# @jit(nopython=True)\n",
    "@vectorize(['float64(int64)'], nopython=True,target='parallel')\n",
    "def Bi_single_compute(i):\n",
    "\n",
    "    '''\n",
    "    Calculates B_i as in EQN 9 of 2205.15963\n",
    "    ----------\n",
    "\n",
    "    Parameters\n",
    "    ----------\n",
    "    nu : int\n",
    "        Index of the neutrino from IceCube sample\n",
    "    cone : float\n",
    "        Cone angle in degrees.\n",
    "    \n",
    "\n",
    "    Returns\n",
    "    -------\n",
    "    float\n",
    "        Returns the background PDF for the {nu}th neutrino\n",
    "    '''\n",
    "\n",
    "    # count = np.sum(np.abs(np.subtract(icdec, icdec[nu])) <= cone)\n",
    "    # count=0\n",
    "    # for n in prange(len(icdec)):\n",
    "    #     if abs(icdec[n] - lhsaao1dec[i]) <= 5:\n",
    "    #         count+=1\n",
    "    binwidth = (np.sin(np.deg2rad(gammaraysrc1dec[i] + 5)) - np.sin(np.deg2rad(gammaraysrc1dec[i] - 5)))*2*np.pi\n",
    "    return 1/binwidth           #No units or sr**-1"
   ]
  },
  {
   "cell_type": "markdown",
   "metadata": {},
   "source": [
    "###  define the  founction of  likelihood function and TS function"
   ]
  },
  {
   "cell_type": "code",
   "execution_count": 99,
   "metadata": {},
   "outputs": [],
   "source": [
    "@jit(nopython=True)\n",
    "def Pr(x, Ns, S, B):\n",
    "    nsN = x/Ns\n",
    "    return np.add(np.multiply(nsN , S), np.multiply(np.subtract(1, nsN), B))\n",
    "\n",
    "\n",
    "\n",
    "@njit(nogil=True)\n",
    "# d@njit(nogil=True)\n",
    "def TS_st_vec(x, S, B, Ns):\n",
    "    nsN = x/Ns\n",
    "    pr = np.add(np.multiply(nsN , S), np.multiply(np.subtract(1, nsN), B))\n",
    "    return np.sum(np.asfarray(2*np.log10(pr/B)))\n",
    "\n",
    "lnu = 1134450\n",
    "Ns = lnu#np.count_nonzero(nuind+1)"
   ]
  },
  {
   "cell_type": "markdown",
   "metadata": {},
   "source": [
    "#### define the function of the $\\chi^{2}$ for fitness"
   ]
  },
  {
   "cell_type": "code",
   "execution_count": 100,
   "metadata": {},
   "outputs": [],
   "source": [
    "def calc_chisquare(meas, sigma, fit): \n",
    "    diff = pow(meas-fit, 2.)\n",
    "    test_statistic = (diff / pow(sigma,2.)).sum()\n",
    "    return  test_statistic"
   ]
  },
  {
   "cell_type": "markdown",
   "metadata": {},
   "source": [
    "### Calculation of the TS values for all  gamma-ray sources"
   ]
  },
  {
   "cell_type": "code",
   "execution_count": 101,
   "metadata": {},
   "outputs": [
    {
     "ename": "KeyboardInterrupt",
     "evalue": "",
     "output_type": "error",
     "traceback": [
      "\u001b[0;31m---------------------------------------------------------------------------\u001b[0m",
      "\u001b[0;31mKeyboardInterrupt\u001b[0m                         Traceback (most recent call last)",
      "Cell \u001b[0;32mIn[101], line 36\u001b[0m\n\u001b[1;32m     19\u001b[0m     \u001b[38;5;66;03m#print(B_i)\u001b[39;00m\n\u001b[1;32m     20\u001b[0m     \u001b[38;5;66;03m# P_i=Pr(count,Ns,S_i,B_i)\u001b[39;00m\n\u001b[1;32m     21\u001b[0m \u001b[38;5;66;03m#     ns=np.zeros(count)\u001b[39;00m\n\u001b[1;32m     23\u001b[0m     \u001b[38;5;28;01mfor\u001b[39;00m c \u001b[38;5;129;01min\u001b[39;00m prange(\u001b[38;5;28mlen\u001b[39m(count_arr)):\n\u001b[1;32m     24\u001b[0m \n\u001b[1;32m     25\u001b[0m         \u001b[38;5;66;03m# P_i=[]\u001b[39;00m\n\u001b[0;32m   (...)\u001b[0m\n\u001b[1;32m     34\u001b[0m         \u001b[38;5;66;03m# Lns[c]=np.prod(P_i)\u001b[39;00m\n\u001b[1;32m     35\u001b[0m         \u001b[38;5;66;03m# Ts_vec=TS_st_vec()\u001b[39;00m\n\u001b[0;32m---> 36\u001b[0m         Ts\u001b[38;5;241m=\u001b[39m\u001b[43mTS_st_vec\u001b[49m\u001b[43m(\u001b[49m\u001b[43mc\u001b[49m\u001b[38;5;241;43m+\u001b[39;49m\u001b[38;5;241;43m1\u001b[39;49m\u001b[43m,\u001b[49m\u001b[43mS_i\u001b[49m\u001b[43m,\u001b[49m\u001b[43mB_i\u001b[49m\u001b[43m,\u001b[49m\u001b[43mNs\u001b[49m\u001b[43m)\u001b[49m\n\u001b[1;32m     37\u001b[0m         Ts_vec\u001b[38;5;241m.\u001b[39mappend(Ts)\n\u001b[1;32m     38\u001b[0m     Ts_vec\u001b[38;5;241m=\u001b[39m [a_ \u001b[38;5;28;01mfor\u001b[39;00m a_ \u001b[38;5;129;01min\u001b[39;00m Ts_vec \u001b[38;5;28;01mif\u001b[39;00m a_ \u001b[38;5;241m==\u001b[39m a_]\n",
      "\u001b[0;31mKeyboardInterrupt\u001b[0m: "
     ]
    }
   ],
   "source": [
    "#lenic=1134450\n",
    "Ts_max=[]\n",
    "C=[]\n",
    "for i in prange(len(gammaraysrc1ra)):\n",
    "    Ts_vec=[]\n",
    "    S_i=[]\n",
    "\n",
    "    count_in_decl=0\n",
    "    for n in prange(len(icdec)):\n",
    "        if abs(icdec[n] - gammaraysrc1dec[i]) <= 5:\n",
    "            count_in_decl+=1\n",
    "            S_i.append(S_ijk(i,n))\n",
    "    S_i=np.array(S_i)\n",
    "    #solid_angle=(np.sin(np.deg2rad(lhsaao1dec[i] + 5)) - np.sin(np.deg2rad(lhsaao1dec[i] - 5)))*2*np.pi\n",
    "    #B_i=count/(solid_angle * lenic)\n",
    "    count_arr=[i for i in range(count_in_decl)]\n",
    "    print\n",
    "    B_i=Bi_single_compute(i)\n",
    "    #print(B_i)\n",
    "    # P_i=Pr(count,Ns,S_i,B_i)\n",
    "#     ns=np.zeros(count)\n",
    "   \n",
    "    for c in prange(len(count_arr)):\n",
    "\n",
    "        # P_i=[]\n",
    "        # for j in range(len(S_i)):\n",
    "        #     Pi=Pr(count_arr[c],Ns,S_i[j],B_i)\n",
    "        #     Pi=2*np.log10(Pi/B_i)\n",
    "        #     P_i.append(Pi)\n",
    "        #Ts=np.sum(P_i)\n",
    "        # print(count_arr[c],S_i[1],B_i,Ns)\n",
    "        # ns[c]= c\n",
    "        # P_i=(c/count)*S_i+(1-c/count)*B_i\n",
    "        # Lns[c]=np.prod(P_i)\n",
    "        # Ts_vec=TS_st_vec()\n",
    "        Ts=TS_st_vec(c+1,S_i,B_i,Ns)\n",
    "        Ts_vec.append(Ts)\n",
    "    Ts_vec= [a_ for a_ in Ts_vec if a_ == a_]\n",
    "\n",
    "    C.append(count_arr[np.argmax(Ts_vec)])\n",
    "    Ts_max.append(Ts_vec[np.argmax(Ts_vec)])\n",
    "if os.path.exists('Ts_max.txt'):\n",
    "    os.remove('Ts_max.txt')\n",
    "    \n",
    "with open ('Ts_max.txt','a+') as f:\n",
    "     #Ts.append\n",
    "    for i in range(len(Ts_max)):\n",
    "        f.write(str(C[i]))\n",
    "        f.write('   ')\n",
    "        f.write(str(Ts_max[i]))\n",
    "        f.write('\\n')\n",
    "    f.close()"
   ]
  },
  {
   "cell_type": "markdown",
   "metadata": {},
   "source": [
    "### Load the  calculated TS values"
   ]
  },
  {
   "cell_type": "code",
   "execution_count": 4,
   "metadata": {},
   "outputs": [
    {
     "name": "stdout",
     "output_type": "stream",
     "text": [
      "[-1.18729967e-03  1.93154841e-02  5.24200152e-02 -3.46506734e-03\n",
      " -3.48099871e-04 -8.33482603e-03  3.51303548e-02 -1.29023138e-03\n",
      "  1.67328226e-01 -7.30851134e-04  2.84492983e-01 -4.89934066e-03\n",
      " -1.30306600e-03 -8.77589368e-03 -8.75925856e-03  2.78437765e-03\n",
      " -5.20084848e-03  3.38669944e-01  9.50891598e-02  2.32369207e-01\n",
      " -3.14164198e-03  5.92379816e-01  5.07056542e-01  6.35775977e-01\n",
      " -3.73108273e-03 -1.48333608e-02 -1.42618036e-02 -1.35700301e-02\n",
      " -2.29635594e-02  2.24570836e-03  8.11030376e-02 -8.08266345e-03\n",
      " -1.62909822e-02 -1.58464788e-02 -3.95242930e-03  5.69000831e-01\n",
      "  4.26627363e-01  7.25608872e-01  4.28903950e-01  2.05751496e-01\n",
      " -6.01977178e-03  7.02248117e-01  6.04893934e-01  5.96297864e-01\n",
      " -2.83336494e-03  5.33171620e-04 -1.63841642e-02 -3.10904039e-03\n",
      "  1.88258263e-01  8.77526335e-02  2.02557428e-02  1.42448728e+00\n",
      "  2.10644386e-01  2.87574143e-03 -1.95204156e-03  4.25917572e-01\n",
      "  3.70469876e-01 -3.64021551e-03 -3.24614896e-03  4.28745968e-01\n",
      " -8.16812665e-03 -3.37163796e-03  2.63499209e-02 -1.31625053e-03\n",
      " -4.09620307e-03  7.45619539e-02 -1.94734295e-03  8.91151341e-01\n",
      "  8.46583433e-01 -3.39536183e-03  1.05681177e-01 -9.72083204e-04\n",
      " -3.98156068e-03  6.67386799e-03 -2.20306162e-03 -8.54656914e-03\n",
      "  3.13031896e-01 -9.73814000e-03 -1.87139498e-02 -7.01482616e-03\n",
      "  1.92044977e-01 -3.30571952e-03  3.65649479e-01 -1.38305379e-02\n",
      "  3.86788731e-02 -5.45563823e-03 -6.27617644e-04 -1.73862069e-03\n",
      " -1.39692005e-02  1.04524150e-03 -1.48961767e-03 -4.44658526e-03\n",
      "  2.44098162e+00 -8.11328858e-03 -7.80196366e-04  1.09105632e-03\n",
      "  1.25357668e+00 -5.12323240e-03  3.02835724e-03 -1.99723498e-02\n",
      "  7.17070201e-01  4.01425011e-02 -1.11127748e-02 -5.77312756e-03\n",
      " -1.83853774e-03 -8.86690518e-03 -4.19749029e-03 -1.71043547e-03\n",
      " -4.08952803e-03 -1.45058855e-02  1.07273727e+00  3.36049516e-02\n",
      "  9.59035412e-02 -9.40045467e-03 -2.26015452e-03  1.51737164e-01\n",
      "  2.38227713e-01 -4.01937651e-03  1.71019119e+00 -2.48230117e-03\n",
      " -1.07809995e-02 -3.02113187e-03  1.19870932e+00 -4.10528476e-03\n",
      "  6.89978730e-01  1.83041454e+00  7.15679567e-01  1.42540132e-02\n",
      "  3.18487019e-04 -6.46013352e-03 -4.80243249e-03 -7.44273848e-03\n",
      "  9.43918258e-02  1.20274807e-01  5.13430514e-01  1.63601344e-01\n",
      " -1.08996657e-02 -1.04276797e-03  4.59706496e+00 -2.31975400e-03\n",
      " -6.81153156e-03 -1.27335143e-02  2.01849287e-01 -5.42014092e-03\n",
      " -1.68510300e-02 -5.94698944e-03 -1.25949450e-02  7.30509912e-01\n",
      "  5.35413364e-01 -3.90433234e-03 -8.26278554e-03  1.66657239e-02\n",
      " -1.24987640e-02 -1.08174446e-02  3.53796606e-01 -1.65857152e-03\n",
      " -1.86698960e-03 -4.96541392e-03 -7.99924150e-03  1.38727884e-01\n",
      " -7.40561260e-04 -8.95179849e-04  2.69339468e-01  1.11664507e-01\n",
      " -1.31523305e-02 -3.67705513e-03 -6.22333533e-03  1.05641503e-01\n",
      "  1.06486850e-01 -9.39934013e-04]\n"
     ]
    }
   ],
   "source": [
    "import numpy as  np\n",
    "Ts_max=np.loadtxt('Ts_max.txt',usecols=(1),dtype=float)\n",
    "print(Ts_max)"
   ]
  },
  {
   "cell_type": "markdown",
   "metadata": {},
   "source": [
    "#### check the ordered TS values"
   ]
  },
  {
   "cell_type": "code",
   "execution_count": 11,
   "metadata": {},
   "outputs": [
    {
     "name": "stdout",
     "output_type": "stream",
     "text": [
      "[-2.29635594e-02 -1.99723498e-02 -1.87139498e-02 -1.68510300e-02\n",
      " -1.63841642e-02 -1.62909822e-02 -1.58464788e-02 -1.48333608e-02\n",
      " -1.45058855e-02 -1.42618036e-02 -1.39692005e-02 -1.38305379e-02\n",
      " -1.35700301e-02 -1.31523305e-02 -1.27335143e-02 -1.25949450e-02\n",
      " -1.24987640e-02 -1.11127748e-02 -1.08996657e-02 -1.08174446e-02\n",
      " -1.07809995e-02 -9.73814000e-03 -9.40045467e-03 -8.86690518e-03\n",
      " -8.77589368e-03 -8.75925856e-03 -8.54656914e-03 -8.33482603e-03\n",
      " -8.26278554e-03 -8.16812665e-03 -8.11328858e-03 -8.08266345e-03\n",
      " -7.99924150e-03 -7.44273848e-03 -7.01482616e-03 -6.81153156e-03\n",
      " -6.46013352e-03 -6.22333533e-03 -6.01977178e-03 -5.94698944e-03\n",
      " -5.77312756e-03 -5.45563823e-03 -5.42014092e-03 -5.20084848e-03\n",
      " -5.12323240e-03 -4.96541392e-03 -4.89934066e-03 -4.80243249e-03\n",
      " -4.44658526e-03 -4.19749029e-03 -4.10528476e-03 -4.09620307e-03\n",
      " -4.08952803e-03 -4.01937651e-03 -3.98156068e-03 -3.95242930e-03\n",
      " -3.90433234e-03 -3.73108273e-03 -3.67705513e-03 -3.64021551e-03\n",
      " -3.46506734e-03 -3.39536183e-03 -3.37163796e-03 -3.30571952e-03\n",
      " -3.24614896e-03 -3.14164198e-03 -3.10904039e-03 -3.02113187e-03\n",
      " -2.83336494e-03 -2.48230117e-03 -2.31975400e-03 -2.26015452e-03\n",
      " -2.20306162e-03 -1.95204156e-03 -1.94734295e-03 -1.86698960e-03\n",
      " -1.83853774e-03 -1.73862069e-03 -1.71043547e-03 -1.65857152e-03\n",
      " -1.48961767e-03 -1.31625053e-03 -1.30306600e-03 -1.29023138e-03\n",
      " -1.18729967e-03 -1.04276797e-03 -9.72083204e-04 -9.39934013e-04\n",
      " -8.95179849e-04 -7.80196366e-04 -7.40561260e-04 -7.30851134e-04\n",
      " -6.27617644e-04 -3.48099871e-04  3.18487019e-04  5.33171620e-04\n",
      "  1.04524150e-03  1.09105632e-03  2.24570836e-03  2.78437765e-03\n",
      "  2.87574143e-03  3.02835724e-03  6.67386799e-03  1.42540132e-02\n",
      "  1.66657239e-02  1.93154841e-02  2.02557428e-02  2.63499209e-02\n",
      "  3.36049516e-02  3.51303548e-02  3.86788731e-02  4.01425011e-02\n",
      "  5.24200152e-02  7.45619539e-02  8.11030376e-02  8.77526335e-02\n",
      "  9.43918258e-02  9.50891598e-02  9.59035412e-02  1.05641503e-01\n",
      "  1.05681177e-01  1.06486850e-01  1.11664507e-01  1.20274807e-01\n",
      "  1.38727884e-01  1.51737164e-01  1.63601344e-01  1.67328226e-01\n",
      "  1.88258263e-01  1.92044977e-01  2.01849287e-01  2.05751496e-01\n",
      "  2.10644386e-01  2.32369207e-01  2.38227713e-01  2.69339468e-01\n",
      "  2.84492983e-01  3.13031896e-01  3.38669944e-01  3.53796606e-01\n",
      "  3.65649479e-01  3.70469876e-01  4.25917572e-01  4.26627363e-01\n",
      "  4.28745968e-01  4.28903950e-01  5.07056542e-01  5.13430514e-01\n",
      "  5.35413364e-01  5.69000831e-01  5.92379816e-01  5.96297864e-01\n",
      "  6.04893934e-01  6.35775977e-01  6.89978730e-01  7.02248117e-01\n",
      "  7.15679567e-01  7.17070201e-01  7.25608872e-01  7.30509912e-01\n",
      "  8.46583433e-01  8.91151341e-01  1.07273727e+00  1.19870932e+00\n",
      "  1.25357668e+00  1.42448728e+00  1.71019119e+00  1.83041454e+00\n",
      "  2.44098162e+00  4.59706496e+00]\n"
     ]
    }
   ],
   "source": [
    "print(np.sort(Ts_max))"
   ]
  },
  {
   "cell_type": "code",
   "execution_count": 12,
   "metadata": {},
   "outputs": [
    {
     "name": "stdout",
     "output_type": "stream",
     "text": [
      "10.0\n",
      "-0.022963559374714577\n"
     ]
    }
   ],
   "source": [
    "import math\n",
    "\n",
    "def percentile(data, perc: int):\n",
    "    size = len(data)\n",
    "    return sorted(data)[int(math.ceil((size * perc) / 100)) - 1]\n",
    "\n",
    "print(percentile([10.0, 1.0], 80))\n",
    "print(np.percentile(Ts_max,0.000000000000002))\n",
    "# 9.0\n",
    "# percentile([142, 232, 290, 120, 274, 123, 146, 113, 272, 119, 124, 277, 207], 2)\n",
    "# 146"
   ]
  },
  {
   "cell_type": "markdown",
   "metadata": {},
   "source": [
    "#### remove the nan values from the TS vector and show its length"
   ]
  },
  {
   "cell_type": "code",
   "execution_count": 13,
   "metadata": {},
   "outputs": [
    {
     "name": "stdout",
     "output_type": "stream",
     "text": [
      "170\n"
     ]
    }
   ],
   "source": [
    "Ts_max= [a_ for a_ in Ts_max if a_ == a_]\n",
    "print(len(Ts_max))"
   ]
  },
  {
   "cell_type": "markdown",
   "metadata": {},
   "source": [
    "### convert TS vector to numpy array"
   ]
  },
  {
   "cell_type": "code",
   "execution_count": 14,
   "metadata": {},
   "outputs": [
    {
     "name": "stdout",
     "output_type": "stream",
     "text": [
      "-0.001187299670599866\n"
     ]
    }
   ],
   "source": [
    "Ts_max=np.array(Ts_max)\n",
    "print(Ts_max[0])\n"
   ]
  },
  {
   "cell_type": "code",
   "execution_count": 15,
   "metadata": {},
   "outputs": [
    {
     "data": {
      "text/plain": [
       "array([138])"
      ]
     },
     "execution_count": 15,
     "metadata": {},
     "output_type": "execute_result"
    }
   ],
   "source": [
    "np.where(Ts_max == 4.597064963983218)[0]"
   ]
  },
  {
   "cell_type": "code",
   "execution_count": 18,
   "metadata": {},
   "outputs": [
    {
     "name": "stdout",
     "output_type": "stream",
     "text": [
      "[]\n"
     ]
    }
   ],
   "source": [
    "gamma1st=Ts_max[np.where(Ts_max==4.59706496e+00)]\n",
    "print(gamma1st)"
   ]
  },
  {
   "cell_type": "markdown",
   "metadata": {},
   "source": [
    "### check the nan value in the Tsmax array and remove them "
   ]
  },
  {
   "cell_type": "code",
   "execution_count": 16,
   "metadata": {},
   "outputs": [
    {
     "name": "stdout",
     "output_type": "stream",
     "text": [
      "170\n"
     ]
    }
   ],
   "source": [
    "Ts_max=np.array(Ts_max)\n",
    "# Ts_max=Ts_max.pop('nan')\n",
    "Ts_max = Ts_max[~np.isnan(Ts_max)]\n",
    "print(len(Ts_max))"
   ]
  },
  {
   "cell_type": "markdown",
   "metadata": {},
   "source": [
    "### calculate the sqrt of Ts_mac and remove nan in it"
   ]
  },
  {
   "cell_type": "code",
   "execution_count": 17,
   "metadata": {},
   "outputs": [
    {
     "name": "stdout",
     "output_type": "stream",
     "text": [
      "[0.0178462  0.02309051 0.03233019 0.03303114 0.04738891 0.0527672\n",
      " 0.05362594 0.05503051 0.08169375 0.11939017 0.12909579 0.13898016\n",
      " 0.14232267 0.16232659 0.18331653 0.18743093 0.19666945 0.20035594\n",
      " 0.22895418 0.27306035 0.28478595 0.29623071 0.30723253 0.3083653\n",
      " 0.30968297 0.32502539 0.32508642 0.32632323 0.3341624  0.34680658\n",
      " 0.37246192 0.38953455 0.40447663 0.40905773 0.43388739 0.43822937\n",
      " 0.4492764  0.45359839 0.45896011 0.48204689 0.48808576 0.51897926\n",
      " 0.53337884 0.55949253 0.58195356 0.59480804 0.60468957 0.60866237\n",
      " 0.65262361 0.65316718 0.65478696 0.65490759 0.71207903 0.71654066\n",
      " 0.73171946 0.75432144 0.76966214 0.77220325 0.77774927 0.79735562\n",
      " 0.83064958 0.83800246 0.84597847 0.84679998 0.85182678 0.85469873\n",
      " 0.92009969 0.94400813 1.03573031 1.09485585 1.11963239 1.19351886\n",
      " 1.30774279 1.35292813 1.56236411 2.14407672]\n"
     ]
    },
    {
     "name": "stderr",
     "output_type": "stream",
     "text": [
      "/var/folders/2c/m969qfc90tv80w3gmnb7x8r80000gn/T/ipykernel_71296/3489200325.py:1: RuntimeWarning: invalid value encountered in sqrt\n",
      "  Ts_max=np.sqrt(Ts_max)\n"
     ]
    }
   ],
   "source": [
    "Ts_max=np.sqrt(Ts_max)\n",
    "Ts_max = Ts_max[~np.isnan(Ts_max)]\n",
    "print(np.sort(Ts_max))"
   ]
  },
  {
   "cell_type": "markdown",
   "metadata": {},
   "source": [
    "# Calulate the pretrial and post-trial values and their corresponding confidence levels for the  four with maximum p values"
   ]
  },
  {
   "cell_type": "markdown",
   "metadata": {},
   "source": [
    "## calculate the percentiles of max values in TS_max vector(pre-trail values)"
   ]
  },
  {
   "cell_type": "code",
   "execution_count": 172,
   "metadata": {},
   "outputs": [
    {
     "name": "stdout",
     "output_type": "stream",
     "text": [
      "-0.5882352941176379\n"
     ]
    }
   ],
   "source": [
    "import numpy as np\n",
    "from scipy import stats\n",
    "\n",
    "# Array and the value for which we want to find the percentile\n",
    "# array = np.array([0.0178462, 0.02309051, 0.03233019, 0.03303114, 0.04738891, 0.0527672,\n",
    "#                   0.05362594, 0.05503051, 0.08169375, 0.11939017, 0.12909579, 0.13898016,\n",
    "#                   0.14232267, 0.16232659, 0.18331653, 0.18743093, 0.19666945, 0.20035594,\n",
    "#                   0.22895418, 0.27306035, 0.28478595, 0.29623071, 0.30723253, 0.3083653,\n",
    "#                   0.30968297, 0.32502539, 0.32508642, 0.32632323, 0.3341624, 0.34680658,\n",
    "#                   0.37246192, 0.38953455, 0.40447663, 0.40905773, 0.43388739, 0.43822937,\n",
    "#                   0.4492764, 0.45359839, 0.45896011, 0.48204689, 0.48808576, 0.51897926,\n",
    "#                   0.53337884, 0.55949253, 0.58195356, 0.59480804, 0.60468957, 0.60866237,\n",
    "#                   0.65262361, 0.65316718, 0.65478696, 0.65490759, 0.71207903, 0.71654066,\n",
    "#                   0.73171946, 0.75432144, 0.76966214, 0.77220325, 0.77774927, 0.79735562,\n",
    "#                   0.83064958, 0.83800246, 0.84597847, 0.84679998, 0.85182678, 0.85469873,\n",
    "#                   0.92009969, 0.94400813, 1.03573031, 1.09485585, 1.11963239, 1.19351886,\n",
    "#                   1.30774279, 1.35292813, 1.56236411, 2.14407672])\n",
    "\n",
    "# value = 2.14407672\n",
    "\n",
    "# Calculate the percentile\n",
    "percentile = stats.percentileofscore(Ts_max, 4.59706496e+00, kind='weak')\n",
    "print(percentile-100)"
   ]
  },
  {
   "cell_type": "markdown",
   "metadata": {},
   "source": [
    "### define the  CDF for confidence level of  pre-trial values"
   ]
  },
  {
   "cell_type": "code",
   "execution_count": 18,
   "metadata": {},
   "outputs": [
    {
     "name": "stdout",
     "output_type": "stream",
     "text": [
      "37.16141308786967\n"
     ]
    }
   ],
   "source": [
    "from scipy.integrate import quad\n",
    "coff=1/np.sqrt(2*np.pi)\n",
    "def integrand(z):\n",
    "\t# return(x+1)/x**2\n",
    "    f=lambda z: np.exp((z**2)*0.5*-1)\n",
    "    I=quad(f, -1*z, z)[0]\n",
    "    return I*coff*100\n",
    "# confidence_level=integrand(99.41176470588236)\n",
    "# print(confidence_level)\n",
    "pro=integrand(0.484)\n",
    "print(pro)"
   ]
  },
  {
   "cell_type": "markdown",
   "metadata": {},
   "source": [
    "### calculate the post-trail values"
   ]
  },
  {
   "cell_type": "code",
   "execution_count": 218,
   "metadata": {},
   "outputs": [
    {
     "name": "stdout",
     "output_type": "stream",
     "text": [
      "0.37199662227131813\n"
     ]
    }
   ],
   "source": [
    "p_post=1-(1-0.0058)**170\n",
    "print(1-p_post)"
   ]
  },
  {
   "cell_type": "markdown",
   "metadata": {},
   "source": [
    "### calculate the confidence level of the post-trial values for the max Ts values in TS_max vector"
   ]
  },
  {
   "cell_type": "code",
   "execution_count": 233,
   "metadata": {},
   "outputs": [
    {
     "name": "stdout",
     "output_type": "stream",
     "text": [
      "-1.17647058823529\n",
      "98.75806693484479\n",
      "0.8662600184071927\n",
      "-13.373998159280731\n",
      "13.498986335007684\n"
     ]
    }
   ],
   "source": [
    "import numpy as np\n",
    "from scipy import stats\n",
    "\n",
    "# Array and the value for which we want to find the percentile\n",
    "# array = np.array([0.0178462, 0.02309051, 0.03233019, 0.03303114, 0.04738891, 0.0527672,\n",
    "#                   0.05362594, 0.05503051, 0.08169375, 0.11939017, 0.12909579, 0.13898016,\n",
    "#                   0.14232267, 0.16232659, 0.18331653, 0.18743093, 0.19666945, 0.20035594,\n",
    "#                   0.22895418, 0.27306035, 0.28478595, 0.29623071, 0.30723253, 0.3083653,\n",
    "#                   0.30968297, 0.32502539, 0.32508642, 0.32632323, 0.3341624, 0.34680658,\n",
    "#                   0.37246192, 0.38953455, 0.40447663, 0.40905773, 0.43388739, 0.43822937,\n",
    "#                   0.4492764, 0.45359839, 0.45896011, 0.48204689, 0.48808576, 0.51897926,\n",
    "#                   0.53337884, 0.55949253, 0.58195356, 0.59480804, 0.60468957, 0.60866237,\n",
    "#                   0.65262361, 0.65316718, 0.65478696, 0.65490759, 0.71207903, 0.71654066,\n",
    "#                   0.73171946, 0.75432144, 0.76966214, 0.77220325, 0.77774927, 0.79735562,\n",
    "#                   0.83064958, 0.83800246, 0.84597847, 0.84679998, 0.85182678, 0.85469873,\n",
    "#                   0.92009969, 0.94400813, 1.03573031, 1.09485585, 1.11963239, 1.19351886,\n",
    "#                   1.30774279, 1.35292813, 1.56236411, 2.14407672])\n",
    "\n",
    "# value = 2.14407672\n",
    "\n",
    "# Calculate the percentile\n",
    "percentile = stats.percentileofscore(Ts_max, 1.83041454e+00, kind='weak')\n",
    "print(percentile-100)\n",
    "\n",
    "from scipy.integrate import quad\n",
    "coff=1/np.sqrt(2*np.pi)\n",
    "def integrand(z):\n",
    "\t# return(x+1)/x**2\n",
    "    f=lambda z: np.exp((z**2)*0.5*-1)\n",
    "    I=quad(f, -1*z, z)[0]\n",
    "    return I*coff*100\n",
    "# confidence_level=integrand(99.41176470588236)\n",
    "# print(confidence_level)\n",
    "pro=integrand(2.5)\n",
    "print(pro)\n",
    "\n",
    "p_post=1-(1-0.0117647058823529)**170\n",
    "print(p_post)\n",
    "print(p_post*100-100)\n",
    "pro_post=integrand(0.17)\n",
    "print(pro_post)"
   ]
  },
  {
   "cell_type": "markdown",
   "metadata": {},
   "source": [
    "### calculation of the second highest pre and post -trial values and their confidence levels"
   ]
  },
  {
   "cell_type": "code",
   "execution_count": 237,
   "metadata": {},
   "outputs": [
    {
     "name": "stdout",
     "output_type": "stream",
     "text": [
      "-1.17647058823529\n",
      "98.75806693484479\n",
      "0.8662600184071927\n",
      "-13.373998159280731\n",
      "13.498986335007684\n"
     ]
    }
   ],
   "source": [
    "import numpy as np\n",
    "from scipy import stats\n",
    "\n",
    "# Array and the value for which we want to find the percentile\n",
    "# array = np.array([0.0178462, 0.02309051, 0.03233019, 0.03303114, 0.04738891, 0.0527672,\n",
    "#                   0.05362594, 0.05503051, 0.08169375, 0.11939017, 0.12909579, 0.13898016,\n",
    "#                   0.14232267, 0.16232659, 0.18331653, 0.18743093, 0.19666945, 0.20035594,\n",
    "#                   0.22895418, 0.27306035, 0.28478595, 0.29623071, 0.30723253, 0.3083653,\n",
    "#                   0.30968297, 0.32502539, 0.32508642, 0.32632323, 0.3341624, 0.34680658,\n",
    "#                   0.37246192, 0.38953455, 0.40447663, 0.40905773, 0.43388739, 0.43822937,\n",
    "#                   0.4492764, 0.45359839, 0.45896011, 0.48204689, 0.48808576, 0.51897926,\n",
    "#                   0.53337884, 0.55949253, 0.58195356, 0.59480804, 0.60468957, 0.60866237,\n",
    "#                   0.65262361, 0.65316718, 0.65478696, 0.65490759, 0.71207903, 0.71654066,\n",
    "#                   0.73171946, 0.75432144, 0.76966214, 0.77220325, 0.77774927, 0.79735562,\n",
    "#                   0.83064958, 0.83800246, 0.84597847, 0.84679998, 0.85182678, 0.85469873,\n",
    "#                   0.92009969, 0.94400813, 1.03573031, 1.09485585, 1.11963239, 1.19351886,\n",
    "#                   1.30774279, 1.35292813, 1.56236411, 2.14407672])\n",
    "\n",
    "# value = 2.14407672\n",
    "\n",
    "# Calculate the percentile\n",
    "percentile = stats.percentileofscore(Ts_max, 1.83041454e+00, kind='weak')\n",
    "print(percentile-100)\n",
    "\n",
    "from scipy.integrate import quad\n",
    "coff=1/np.sqrt(2*np.pi)\n",
    "def integrand(z):\n",
    "\t# return(x+1)/x**2\n",
    "    f=lambda z: np.exp((z**2)*0.5*-1)\n",
    "    I=quad(f, -1*z, z)[0]\n",
    "    return I*coff*100\n",
    "# confidence_level=integrand(99.41176470588236)\n",
    "# print(confidence_level)\n",
    "pro=integrand(2.5)\n",
    "print(pro)\n",
    "\n",
    "p_post=1-(1-0.0117647058823529)**170\n",
    "print(p_post)\n",
    "print(p_post*100-100)\n",
    "pro_post=integrand(0.17)\n",
    "print(pro_post)"
   ]
  },
  {
   "cell_type": "markdown",
   "metadata": {},
   "source": [
    "### calculation of the third highest pre and post -trial values and their confidence levels"
   ]
  },
  {
   "cell_type": "code",
   "execution_count": 40,
   "metadata": {},
   "outputs": [
    {
     "name": "stdout",
     "output_type": "stream",
     "text": [
      "-1.3157894736842053\n",
      "97.64689045114773\n",
      "0.9825394334026578\n",
      "-1.7460566597342222\n",
      "1.7472275224100022\n"
     ]
    }
   ],
   "source": [
    "import numpy as np\n",
    "from scipy import stats\n",
    "\n",
    "# Array and the value for which we want to find the percentile\n",
    "# array = np/\n",
    "# .array([0.0178462, 0.02309051, 0.03233019, 0.03303114, 0.04738891, 0.0527672,\n",
    "#                   0.05362594, 0.05503051, 0.08169375, 0.11939017, 0.12909579, 0.13898016,\n",
    "#                   0.14232267, 0.16232659, 0.18331653, 0.18743093, 0.19666945, 0.20035594,\n",
    "#                   0.22895418, 0.27306035, 0.28478595, 0.29623071, 0.30723253, 0.3083653,\n",
    "#                   0.30968297, 0.32502539, 0.32508642, 0.32632323, 0.3341624, 0.34680658,\n",
    "#                   0.37246192, 0.38953455, 0.40447663, 0.40905773, 0.43388739, 0.43822937,\n",
    "#                   0.4492764, 0.45359839, 0.45896011, 0.48204689, 0.48808576, 0.51897926,\n",
    "#                   0.53337884, 0.55949253, 0.58195356, 0.59480804, 0.60468957, 0.60866237,\n",
    "#                   0.65262361, 0.65316718, 0.65478696, 0.65490759, 0.71207903, 0.71654066,\n",
    "#                   0.73171946, 0.75432144, 0.76966214, 0.77220325, 0.77774927, 0.79735562,\n",
    "#                   0.83064958, 0.83800246, 0.84597847, 0.84679998, 0.85182678, 0.85469873,\n",
    "#                   0.92009969, 0.94400813, 1.03573031, 1.09485585, 1.11963239, 1.19351886,\n",
    "#                   1.30774279, 1.35292813, 1.56236411, 2.14407672])\n",
    "\n",
    "# value = 2.14407672\n",
    "\n",
    "# Calculate the percentile\n",
    "percentile = stats.percentileofscore(Ts_max, 1.71019119e+00, kind='weak')\n",
    "print(percentile-100)\n",
    "\n",
    "from scipy.integrate import quad\n",
    "coff=1/np.sqrt(2*np.pi)\n",
    "def integrand(z):\n",
    "\t# return(x+1)/x**2\n",
    "    f=lambda z: np.exp((z**2)*0.5*-1)\n",
    "    I=quad(f, -1*z, z)[0]\n",
    "    return I*coff*100\n",
    "# confidence_level=integrand(99.41176470588236)\n",
    "# print(confidence_level)\n",
    "pro=integrand(2.2647)\n",
    "print(pro)\n",
    "\n",
    "p_post=1-(1-2.35294117647058e-2)**170\n",
    "print(p_post)\n",
    "print(p_post*100-100)\n",
    "pro_post=integrand(0.0219)\n",
    "print(pro_post)"
   ]
  },
  {
   "cell_type": "markdown",
   "metadata": {},
   "source": [
    "## define guassian function"
   ]
  },
  {
   "cell_type": "code",
   "execution_count": 20,
   "metadata": {},
   "outputs": [],
   "source": [
    "def gauss1(x, H,A, x0, sigma):\n",
    "    return  H +A * np.exp(-(x - x0) ** 2 / (2 * sigma ** 2))\n",
    "def gauss(x,A,x0, sigma):\n",
    "    return   A* np.exp(-(x-x0) ** 2 / (2 * sigma ** 2))"
   ]
  },
  {
   "cell_type": "markdown",
   "metadata": {},
   "source": [
    "## plot the TS_max distribution with Guassian fit"
   ]
  },
  {
   "cell_type": "code",
   "execution_count": 23,
   "metadata": {},
   "outputs": [
    {
     "name": "stdout",
     "output_type": "stream",
     "text": [
      "[0.0178462  0.23046926 0.44309231 0.65571536 0.86833841 1.08096146\n",
      " 1.29358451 1.50620756 1.71883061 1.93145366 2.14407672] \n",
      " <BarContainer object of 10 artists>\n",
      "[0.12415773 0.33678078 0.54940383 0.76202688 0.97464993 1.18727299\n",
      " 1.39989604 1.61251909 1.82514214 2.03776519] \n",
      " [19. 17. 16. 14.  3.  3.  2.  1.  0.  1.]\n"
     ]
    },
    {
     "data": {
      "image/png": "[encoded data removed]",
      "text/plain": [
       "<Figure size 1000x1000 with 4 Axes>"
      ]
     },
     "metadata": {},
     "output_type": "display_data"
    }
   ],
   "source": [
    "from matplotlib import colors\n",
    "from matplotlib.ticker import PercentFormatter\n",
    "from matplotlib.ticker import MaxNLocator, NullLocator\n",
    "import matplotlib.pyplot as plt\n",
    "from matplotlib.ticker import (MultipleLocator, AutoMinorLocator)\n",
    "font = {'family': 'serif',\n",
    "        'weight': 'bold',\n",
    "        'size': 22,\n",
    "        'color':  'black',\n",
    "        }\n",
    "smallerfont = {'family': 'serif',\n",
    "        'color':  'black',\n",
    "        'weight': 'bold',\n",
    "        'size': 15,\n",
    "        }\n",
    "\n",
    "axesfont = {'family': 'serif',\n",
    "        'color':  'black',\n",
    "        'weight': 'normal',\n",
    "        'size': 17,\n",
    "        }\n",
    "n_bins = 10\n",
    "fig, axs = plt.subplots(2, 2, tight_layout=True,figsize=(10, 10))\n",
    "axs[0][0].set_ylabel('Counts',axesfont)\n",
    "axs[0][0].set_xlabel(r'$\\sqrt{TS_{\\rm max}}$',axesfont)\n",
    "axs[1][0].set_ylabel('Counts',axesfont)\n",
    "axs[1][0].set_xlabel(r'$\\sqrt{TS_{\\rm max}}$',axesfont)\n",
    "\n",
    "# N is the count in each bin, bins is the lower-limit of the bin\n",
    "N, bins, patches = axs[0][0].hist(Ts_max, bins=n_bins,linewidth=3)\n",
    "print(bins,'\\n',patches)\n",
    "xdata=(bins[:-1]+bins[1:])*0.5\n",
    "ydata=N\n",
    "xplot=np.arange(min(xdata)-0.00001,max(xdata),0.1)\n",
    "\n",
    "print(xdata,'\\n',ydata)\n",
    "# We'll color code by height, but you could use any scalar\n",
    "parameters, covariance = curve_fit(gauss1, xdata, ydata,maxfev=5000000)\n",
    "# parameters1,covariance1=curve_fit(gauss,xdata, ydata,maxfev=500000)\n",
    "# fit_A = parameters[0]\n",
    "# fit_B = parameters[1]\n",
    "\n",
    "fit_y = gauss1(xplot, *parameters)\n",
    "\n",
    "# axs[0].plot(xplot, fit_y, '--', label='fit',c='green')\n",
    "axs[0][0].plot(xplot, fit_y, '--', label='Guassian Fit',c='k',linewidth=2)\n",
    "axs[1][0].errorbar(xdata, ydata, xerr=np.sqrt(xdata), yerr=np.sqrt(ydata), fmt='o', elinewidth=2,capsize=2)\n",
    "axs[1][0].plot(xplot, fit_y, '--', label='Guassian Fit',c='k',linewidth=1)\n",
    "fracs = N / N.max()\n",
    "\n",
    "# we need to normalize the data to 0..1 for the full range of the colormap\n",
    "norm = colors.Normalize(fracs.min(), fracs.max())\n",
    "\n",
    "# Now, we'll loop through our objects and set the color of each accordingly\n",
    "# for thisfrac, thispatch in zip(fracs, patches):\n",
    "#     color = plt.cm.viridis(norm(thisfrac))\n",
    "#     thispatch.set_facecolor(color)\n",
    "\n",
    "# We can also normalize our inputs by the total number of counts\n",
    "N1, bins1, patches1 = axs[0][1].hist(Ts_max, bins=n_bins, density=True)\n",
    "axs[0][1].set_ylabel('Counts density',axesfont)\n",
    "axs[0][1].set_xlabel(r'$\\sqrt{TS_{\\rm max}}$',axesfont)\n",
    "axs[1][1].set_ylabel('Counts density',axesfont)\n",
    "axs[1][1].set_xlabel(r'$\\sqrt{TS_{\\rm max}}$',axesfont)\n",
    "xdata1=(bins[:-1]+bins[1:])*0.5\n",
    "ydata1=N1\n",
    "xplot1=np.arange(min(xdata1)-0.00001,max(xdata1),0.1)\n",
    "parameters1,covariance1=curve_fit(gauss1,xdata1, ydata1,maxfev=500000)\n",
    "fit_y1=gauss1(xplot1, *parameters1)\n",
    "\n",
    "axs[0][1].plot(xplot1, fit_y1, '--', label='Guassian Fit',c='k',linewidth=2)\n",
    "axs[1][1].errorbar(xdata1, ydata1, xerr=np.sqrt(xdata1), yerr=np.sqrt(ydata1), fmt='o', elinewidth=2,capsize=2)\n",
    "axs[1][1].plot(xplot1, fit_y1, '--', label='Guassian Fit',c='k',linewidth=1)\n",
    "# Now we format the y-axis to display percentage\n",
    "#axs[1].yaxis.set_major_formatter(PercentFormatter(xmax=1))\n",
    "axs[0][0].tick_params(which='major', width=1.5, length=6,direction='in')\n",
    "axs[0][0].tick_params(which='minor', width=1.5, length=3,direction='in')\n",
    "axs[0][1].tick_params(which='major', width=1.5, length=6,direction='in')\n",
    "axs[0][1].tick_params(which='minor', width=1.5, length=3,direction='in')\n",
    "axs[1][0].tick_params(which='major', width=1.5, length=6,direction='in')\n",
    "axs[1][0].tick_params(which='minor', width=1.5, length=3,direction='in')\n",
    "axs[1][1].tick_params(which='major', width=1.5, length=6,direction='in')\n",
    "axs[1][1].tick_params(which='minor', width=1.5, length=3,direction='in')\n",
    "#axs[1].xaxis.set_minor_locator(MultipleLocator(5))\n",
    "axs[0][0].legend()\n",
    "# axs[1].xaxis.set_minor_locator(MultipleLocator(5))\n",
    "axs[0][1].legend()\n",
    "axs[0][0].xaxis.set_minor_locator(AutoMinorLocator())\n",
    "axs[0][0].yaxis.set_minor_locator(AutoMinorLocator())\n",
    "axs[0][0].tick_params(which='minor', length=2, color='k')\n",
    "# For the minor ticks, use no labels; default NullFormatter.\n",
    "axs[0][1].xaxis.set_minor_locator(AutoMinorLocator())\n",
    "axs[0][1].yaxis.set_minor_locator(AutoMinorLocator())\n",
    "axs[0][1].tick_params(which='minor', length=2, color='k')\n",
    "axs[1][0].xaxis.set_minor_locator(AutoMinorLocator())\n",
    "axs[1][0].yaxis.set_minor_locator(AutoMinorLocator())\n",
    "axs[1][0].tick_params(which='minor', length=2, color='k')\n",
    "axs[1][1].xaxis.set_minor_locator(AutoMinorLocator())\n",
    "axs[1][1].yaxis.set_minor_locator(AutoMinorLocator())\n",
    "axs[1][1].tick_params(which='minor', length=2, color='k')\n",
    "# axs[1][0].set_xscale('log')\n",
    "# axs[1][1].set_xscale('log')\n",
    "# axs[1][0].set_yscale('log')\n",
    "# axs[1][1].set_yscale('log')\n",
    "# axs[0][0].set_yscale('log')\n",
    "# axs[0][1].set_yscale('log')\n",
    "# axs[0][0].set_xscale('log')\n",
    "# axs[0][1].set_xscale('log')\n",
    "fig.savefig('Ts_max_distr.pdf')"
   ]
  },
  {
   "cell_type": "markdown",
   "metadata": {},
   "source": [
    "## refined plot TS+max distribution for LHAASOWCDA-HESS"
   ]
  },
  {
   "cell_type": "code",
   "execution_count": 36,
   "metadata": {},
   "outputs": [
    {
     "name": "stdout",
     "output_type": "stream",
     "text": [
      "[0.0178462  0.21113989 0.40443357 0.59772725 0.79102094 0.98431462\n",
      " 1.1776083  1.37090198 1.56419567 2.14407672] \n",
      " [<matplotlib.patches.Polygon object at 0x1358fbdf0>]\n",
      "[0.11449305 0.30778673 0.50108041 0.6943741  0.88766778 1.08096146\n",
      " 1.27425514 1.46754882 1.8541362 ] \n",
      " [18. 14. 14. 13.  9.  3.  3.  1.  1.]\n",
      "X-axis tick labels: ['', '', '', '', '', '1.00', '', '', '1.75']\n",
      "Y-axis tick labels: ['', '', '5.0', '', '10.0', '', '15.0', '', '20.0']\n"
     ]
    },
    {
     "name": "stderr",
     "output_type": "stream",
     "text": [
      "/var/folders/2c/m969qfc90tv80w3gmnb7x8r80000gn/T/ipykernel_71296/990866740.py:96: UserWarning: FixedFormatter should only be used together with FixedLocator\n",
      "  axs.set_xticklabels(['', '', '', '', '', '1.00', '', '', '1.75', ''], fontsize=14)  # Set size for x-axis\n",
      "/var/folders/2c/m969qfc90tv80w3gmnb7x8r80000gn/T/ipykernel_71296/990866740.py:97: UserWarning: FixedFormatter should only be used together with FixedLocator\n",
      "  axs.set_yticklabels(['', '', '5.0', '', '10.0', '', '15.0', '', '20.0'], fontsize=14)\n"
     ]
    },
    {
     "data": {
      "image/png": "[encoded data removed]",
      "text/plain": [
       "<Figure size 500x500 with 1 Axes>"
      ]
     },
     "metadata": {},
     "output_type": "display_data"
    }
   ],
   "source": [
    "from matplotlib.lines import Line2D\n",
    "font = {'family': 'serif',\n",
    "        'weight': 'bold',\n",
    "        'size': 22,\n",
    "        'color':  'black',\n",
    "        }\n",
    "smallerfont = {'family': 'serif',\n",
    "        'color':  'black',\n",
    "        'weight': 'bold',\n",
    "        'size': 15,\n",
    "        }\n",
    "\n",
    "axesfont = {'family': 'serif',\n",
    "        'color':  'black',\n",
    "        'weight': 'normal',\n",
    "        'size': 17,\n",
    "        }\n",
    "custom_lines = [Line2D([0], [0], color='#1f77b4', lw=4),\n",
    "                Line2D([0], [2],linestyle='--', color='k', lw=2)]\n",
    "n_bins = 11\n",
    "fig, axs = plt.subplots(1, 1, tight_layout=True,figsize=(5, 5))\n",
    "axs.set_ylabel('Counts',axesfont)\n",
    "axs.set_xlabel(r'$\\sqrt{{\\rm TS_{max}}}$',axesfont)\n",
    "# axs[1][0].set_ylabel('Counts',axesfont)\n",
    "# axs[1][0].set_xlabel(r'$\\sqrt{TS_{\\rm max}}$',axesfont)\n",
    "\n",
    "# N is the count in each bin, bins is the lower-limit of the bin\n",
    "N, bins, patches = axs.hist(Ts_max, bins=[0.0178462 ,0.21113989, 0.40443357, 0.59772725, 0.79102094, 0.98431462,\n",
    " 1.1776083, 1.37090198, 1.56419567, 2.14407672]  ,linewidth=3,histtype='step',stacked=True,alpha=0.8)\n",
    "\n",
    "print(bins,'\\n',patches)\n",
    "xdata=(bins[:-1]+bins[1:])*0.5\n",
    "ydata=N\n",
    "xplot=np.arange(min(xdata)-0.1,max(xdata),0.1)\n",
    "axs.set_xlim(min(xdata)-0.09,max(xdata))\n",
    "print(xdata,'\\n',ydata)\n",
    "# We'll color code by height, but you could use any scalar\n",
    "parameters, covariance = curve_fit(gauss, xdata, ydata,maxfev=5000000)\n",
    "# parameters1,covariance1=curve_fit(gauss,xdata, ydata,maxfev=500000)\n",
    "# fit_A = parameters[0]\n",
    "# fit_B = parameters[1]\n",
    "\n",
    "fit_y = gauss(xplot, *parameters)\n",
    "\n",
    "# axs[0].plot(xplot, fit_y, '--', label='fit',c='green')\n",
    "axs.plot(xplot, fit_y,linestyle='--',c='k',linewidth=2)\n",
    "# axs[1][0].errorbar(xdata, ydata, xerr=np.sqrt(xdata), yerr=np.sqrt(ydata), fmt='o', elinewidth=2,capsize=2)\n",
    "# axs[1][0].plot(xplot, fit_y, '--', label='Guassian Fit',c='k',linewidth=1)\n",
    "# fracs = N / N.max()\n",
    "\n",
    "# we need to normalize the data to 0..1 for the full range of the colormap\n",
    "# norm = colors.Normalize(fracs.min(), fracs.max())\n",
    "\n",
    "# Now, we'll loop through our objects and set the color of each accordingly\n",
    "# for thisfrac, thispatch in zip(fracs, patches):\n",
    "#     color = plt.cm.viridis(norm(thisfrac))\n",
    "#     thispatch.set_facecolor(color)\n",
    "\n",
    "# We can also normalize our inputs by the total number of counts\n",
    "# N1, bins1, patches1 = axs[0][1].hist(Ts_max, bins=n_bins, density=True)\n",
    "# axs[0][1].set_ylabel('Counts density',axesfont)\n",
    "# axs[0][1].set_xlabel(r'$\\sqrt{TS_{\\rm max}}$',axesfont)\n",
    "# axs[1][1].set_ylabel('Counts density',axesfont)\n",
    "# axs[1][1].set_xlabel(r'$\\sqrt{TS_{\\rm max}}$',axesfont)\n",
    "# xdata1=(bins[:-1]+bins[1:])*0.5\n",
    "# ydata1=N1\n",
    "# xplot1=np.arange(min(xdata1)-0.00001,max(xdata1),0.1)\n",
    "# parameters1,covariance1=curve_fit(gauss1,xdata1, ydata1,maxfev=500000)\n",
    "# fit_y1=gauss1(xplot1, *parameters1)\n",
    "\n",
    "# axs[0][1].plot(xplot1, fit_y1, '--', label='Guassian Fit',c='k',linewidth=2)\n",
    "# axs[1][1].errorbar(xdata1, ydata1, xerr=np.sqrt(xdata1), yerr=np.sqrt(ydata1), fmt='o', elinewidth=2,capsize=2)\n",
    "# axs[1][1].plot(xplot1, fit_y1, '--', label='Guassian Fit',c='k',linewidth=1)\n",
    "# Now we format the y-axis to display percentage\n",
    "#axs[1].yaxis.set_major_formatter(PercentFormatter(xmax=1))\n",
    "axs.tick_params(which='major', width=1.5, length=6,direction='in')\n",
    "axs.tick_params(which='minor', width=1.5, length=3,direction='in')\n",
    "# axs[0][1].tick_params(which='major', width=1.5, length=6,direction='in')\n",
    "# axs[0][1].tick_params(which='minor', width=1.5, length=3,direction='in')\n",
    "# axs[1][0].tick_params(which='major', width=1.5, length=6,direction='in')\n",
    "# axs[1][0].tick_params(which='minor', width=1.5, length=3,direction='in')\n",
    "# axs[1][1].tick_params(which='major', width=1.5, length=6,direction='in')\n",
    "# axs[1][1].tick_params(which='minor', width=1.5, length=3,direction='in')\n",
    "# #axs[1].xaxis.set_minor_locator(MultipleLocator(5))\n",
    "# axs[0][0].legend()\n",
    "# # axs[1].xaxis.set_minor_locator(MultipleLocator(5))\n",
    "# axs[0][1].legend()\n",
    "axs.xaxis.set_minor_locator(AutoMinorLocator())\n",
    "axs.yaxis.set_minor_locator(AutoMinorLocator())\n",
    "axs.tick_params(which='minor', length=2,width=1, color='k')\n",
    "axs.tick_params(which='major', length=4,width=1, color='k')\n",
    "axs.tick_params(axis='x', which='minor', bottom=True,top=True)\n",
    "axs.tick_params(axis='x', which='major', bottom=True,top=True)\n",
    "axs.tick_params(axis='y', which='minor', bottom=True,top=True,right=True)\n",
    "axs.tick_params(axis='y', which='major', bottom=True,top=True,right=True)\n",
    "axs.set_xticklabels(['', '', '', '', '', '1.00', '', '', '1.75', ''], fontsize=14)  # Set size for x-axis\n",
    "axs.set_yticklabels(['', '', '5.0', '', '10.0', '', '15.0', '', '20.0'], fontsize=14) \n",
    "# For the minor ticks, use no labels; default NullFormatter.\n",
    "# axs[0][1].xaxis.set_minor_locator(AutoMinorLocator())\n",
    "# axs[0][1].yaxis.set_minor_locator(AutoMinorLocator())\n",
    "# axs[0][1].tick_params(which='minor', length=2, color='k')\n",
    "# axs[1][0].xaxis.set_minor_locator(AutoMinorLocator())\n",
    "# axs[1][0].yaxis.set_minor_locator(AutoMinorLocator())\n",
    "# axs[1][0].tick_params(which='minor', length=2, color='k')\n",
    "# axs[1][1].xaxis.set_minor_locator(AutoMinorLocator())\n",
    "# axs[1][1].yaxis.set_minor_locator(AutoMinorLocator())\n",
    "# axs[1][1].tick_params(which='minor', length=2, color='k')\n",
    "# axs[1][0].set_xscale('log')\n",
    "# axs[1][1].set_xscale('log')\n",
    "# axs[1][0].set_yscale('log')\n",
    "# axs[1][1].set_yscale('log')\n",
    "# axs[0][0].set_yscale('log')\n",
    "# axs[0][1].set_yscale('log')\n",
    "# axs[0][0].set_xscale('log')\n",
    "# axs[0][1].set_xscale('log')\n",
    "x_labels = [tick.get_text() for tick in axs.get_xticklabels()]\n",
    "y_labels = [tick.get_text() for tick in axs.get_yticklabels()]\n",
    "print(\"X-axis tick labels:\", x_labels)\n",
    "print(\"Y-axis tick labels:\", y_labels)\n",
    "plt.legend(custom_lines,[r'$\\sqrt{{\\rm TS_{max}}} \\cdot{\\rm bin^{-1}}$','Guassian Fit'],fancybox=False,edgecolor=None,frameon=False,fontsize='large')\n",
    "fig.savefig('fig2a.pdf')"
   ]
  },
  {
   "cell_type": "markdown",
   "metadata": {},
   "source": [
    " # Compute the signal PDF for all neutrinos"
   ]
  },
  {
   "cell_type": "code",
   "execution_count": 190,
   "metadata": {},
   "outputs": [],
   "source": [
    "\n",
    "@njit(nogil=True)\n",
    "def S_ijk(i,nu): \n",
    "\n",
    "    '''\n",
    "    Calculates S_ij as in EQN 7 of 2205.15963\n",
    "    ----------\n",
    "\n",
    "    Parameters\n",
    "    ----------\n",
    "    nu : int\n",
    "        Index of the neutrino in the sample\n",
    "        \n",
    "    \n",
    "    Returns\n",
    "    -------\n",
    "        Returns the signal PDF for the {psrno}th pulsar and nuind_inp neutrino\n",
    "    '''\n",
    "    ang2 = hvovec(gammaraysrc2ra[i], gammaraysrc2dec[i], icra[nu], icdec[nu], rad=True) ** 2      #rad**2\n",
    "    sg = np.deg2rad(icang[nu]) ** 2                                     #rad**2\n",
    "    return np.divide(np.exp(-1 * np.divide(ang2, 2*sg)), (2 * np.pi * sg))      #1/rad**2\n",
    "\n",
    "# @jit(nopython=True)\n",
    "@vectorize(['float64(int64)'], nopython=True,target='parallel')\n",
    "def Bi_single_compute(i):\n",
    "\n",
    "    '''\n",
    "    Calculates B_i as in EQN 9 of 2205.15963\n",
    "    ----------\n",
    "\n",
    "    Parameters\n",
    "    ----------\n",
    "    nu : int\n",
    "        Index of the neutrino from IceCube sample\n",
    "    cone : float\n",
    "        Cone angle in degrees.\n",
    "    \n",
    "\n",
    "    Returns\n",
    "    -------\n",
    "    float\n",
    "        Returns the background PDF for the {nu}th neutrino\n",
    "    '''\n",
    "\n",
    "    # count = np.sum(np.abs(np.subtract(icdec, icdec[nu])) <= cone)\n",
    "    # count=0\n",
    "    # for n in prange(len(icdec)):\n",
    "    #     if abs(icdec[n] - lhsaao1dec[i]) <= 5:\n",
    "    #         count+=1\n",
    "    binwidth = (np.sin(np.deg2rad(gammaraysrc2dec[i] + 5)) - np.sin(np.deg2rad(gammaraysrc2dec[i] - 5)))*2*np.pi\n",
    "    return 1/binwidth           #No units or sr**-1"
   ]
  },
  {
   "cell_type": "markdown",
   "metadata": {},
   "source": [
    "## define the likelihood and   TS_vec"
   ]
  },
  {
   "cell_type": "code",
   "execution_count": 191,
   "metadata": {},
   "outputs": [],
   "source": [
    "@jit(nopython=True)\n",
    "def Pr(x, Ns, S, B):\n",
    "    nsN = x/Ns\n",
    "    return np.add(np.multiply(nsN , S), np.multiply(np.subtract(1, nsN), B))\n",
    "\n",
    "\n",
    "\n",
    "@njit(nogil=True)\n",
    "# d@njit(nogil=True)\n",
    "def TS_st_vec(x, S, B, Ns):\n",
    "    nsN = x/Ns\n",
    "    pr = np.add(np.multiply(nsN , S), np.multiply(np.subtract(1, nsN), B))\n",
    "    return np.sum(np.asfarray(2*np.log10(pr/B)))\n",
    "\n",
    "lnu = 1134450\n",
    "Ns = lnu#np.count_nonzero(nuind+1)"
   ]
  },
  {
   "cell_type": "markdown",
   "metadata": {},
   "source": [
    "## calculation of TS_vec and save it in txt"
   ]
  },
  {
   "cell_type": "code",
   "execution_count": null,
   "metadata": {},
   "outputs": [],
   "source": [
    "Ts_max_1=[]\n",
    "C_1=[]\n",
    "for i in range(len(gammaraysrc2ra)):\n",
    "    Ts_vec=[]\n",
    "    S_i=[]\n",
    "\n",
    "    count=0\n",
    "    for n in prange(len(icdec)):\n",
    "        if abs(icdec[n] - gammaraysrc2dec[i]) <= 5:\n",
    "            count+=1\n",
    "            S_i.append(S_ijk(i,n))\n",
    "    S_i=np.array(S_i)\n",
    "    #solid_angle=(np.sin(np.deg2rad(lhsaao1dec[i] + 5)) - np.sin(np.deg2rad(lhsaao1dec[i] - 5)))*2*np.pi\n",
    "    #B_i=count/(solid_angle * lenic)\n",
    "    count_arr=[i for i in range(count)]\n",
    "    B_i=Bi_single_compute(i)\n",
    "    #print(B_i)\n",
    "    # P_i=Pr(count,Ns,S_i,B_i)\n",
    "#     ns=np.zeros(count)\n",
    "   \n",
    "    for c in prange(len(count_arr)):\n",
    "\n",
    "        # P_i=[]\n",
    "        # for j in range(len(S_i)):\n",
    "        #     Pi=Pr(count_arr[c],Ns,S_i[j],B_i)\n",
    "        #     Pi=2*np.log10(Pi/B_i)\n",
    "        #     P_i.append(Pi)\n",
    "        #Ts=np.sum(P_i)\n",
    "        # print(count_arr[c],S_i[1],B_i,Ns)\n",
    "        # ns[c]= c\n",
    "        # P_i=(c/count)*S_i+(1-c/count)*B_i\n",
    "        # Lns[c]=np.prod(P_i)\n",
    "        # Ts_vec=TS_st_vec()\n",
    "        Ts=TS_st_vec(c+1,S_i,B_i,Ns)\n",
    "        Ts_vec.append(Ts)\n",
    "    Ts_vec= [a_ for a_ in Ts_vec if a_ == a_]\n",
    "\n",
    "    C_1.append(count_arr[np.argmax(Ts_vec)])\n",
    "    Ts_max_1.append(Ts_vec[np.argmax(Ts_vec)])\n",
    "if os.path.exists('Ts_max_1.txt'):\n",
    "    os.remove('Ts_max_1.txt')\n",
    "    \n",
    "with open ('Ts_max_1.txt','a+') as f:\n",
    "     #Ts.append\n",
    "    for i in range(len(Ts_max_1)):\n",
    "        f.write(str(C_1[i]))\n",
    "        f.write('   ')\n",
    "        f.write(str(Ts_max_1[i]))\n",
    "        f.write('\\n')\n",
    "    f.close()"
   ]
  },
  {
   "cell_type": "code",
   "execution_count": null,
   "metadata": {},
   "outputs": [],
   "source": [
    "a=[i for i in range(7)]\n",
    "for i in range(len(a)):\n",
    "    print(i)"
   ]
  },
  {
   "cell_type": "code",
   "execution_count": 337,
   "metadata": {},
   "outputs": [
    {
     "name": "stdout",
     "output_type": "stream",
     "text": [
      "1LHAASOJ2002+3244u\n",
      "(array([52]),)\n"
     ]
    }
   ],
   "source": [
    "print(gammaraysrc2name[53])\n",
    "print(np.where(Ts_max_1 == 2.33966878760389))"
   ]
  },
  {
   "cell_type": "markdown",
   "metadata": {},
   "source": [
    "## load the TS_max_1 from txt"
   ]
  },
  {
   "cell_type": "code",
   "execution_count": 39,
   "metadata": {},
   "outputs": [
    {
     "name": "stdout",
     "output_type": "stream",
     "text": [
      "[-1.99723498e-02 -1.98834048e-02 -1.87139498e-02 -1.68510300e-02\n",
      " -1.55987223e-02 -1.50381926e-02 -1.45058855e-02 -1.43353513e-02\n",
      " -1.39692005e-02 -1.38305379e-02 -1.31523305e-02 -1.27335143e-02\n",
      " -1.25949450e-02 -1.24987640e-02 -1.24235336e-02 -1.23118952e-02\n",
      " -1.11127748e-02 -1.08996657e-02 -1.08174446e-02 -1.07809995e-02\n",
      " -1.05332221e-02 -9.73814000e-03 -9.40045467e-03 -8.86690518e-03\n",
      " -8.54656914e-03 -8.26278554e-03 -8.11328858e-03 -7.99924150e-03\n",
      " -7.58495985e-03 -7.44273848e-03 -7.01482616e-03 -6.86327628e-03\n",
      " -6.81153156e-03 -6.46013352e-03 -6.30268940e-03 -6.22333533e-03\n",
      " -6.01977178e-03 -5.94698944e-03 -5.77312756e-03 -5.76113962e-03\n",
      " -5.61804862e-03 -5.61600500e-03 -5.45563823e-03 -5.42014092e-03\n",
      " -5.12962052e-03 -5.12323240e-03 -4.96541392e-03 -4.80243249e-03\n",
      " -4.69009562e-03 -4.57142242e-03 -4.44658526e-03 -4.19749029e-03\n",
      " -4.10528476e-03 -4.08952803e-03 -4.01937651e-03 -3.90433234e-03\n",
      " -3.67705513e-03 -3.30571952e-03 -3.20189445e-03 -3.18274282e-03\n",
      " -3.04300475e-03 -3.02113187e-03 -2.66661548e-03 -2.53716316e-03\n",
      " -2.48230117e-03 -2.38878428e-03 -2.31975400e-03 -2.26015452e-03\n",
      " -2.19933295e-03 -2.17596563e-03 -2.08310362e-03 -1.87523579e-03\n",
      " -1.86698960e-03 -1.85781911e-03 -1.83853774e-03 -1.77822985e-03\n",
      " -1.73862069e-03 -1.72202482e-03 -1.71043547e-03 -1.65857152e-03\n",
      " -1.54210704e-03 -1.48961767e-03 -1.14542756e-03 -1.04276797e-03\n",
      " -9.44044927e-04 -9.39934013e-04 -8.95179849e-04 -7.80196366e-04\n",
      " -7.40561260e-04 -6.76055674e-04 -6.27617644e-04 -5.49480148e-04\n",
      " -9.59739255e-05 -4.51910984e-05  3.05516173e-04  3.18487019e-04\n",
      "  1.04524150e-03  1.09105632e-03  1.25500869e-03  3.02835724e-03\n",
      "  7.48724960e-03  1.42540132e-02  1.66657239e-02  2.37495333e-02\n",
      "  2.39510064e-02  3.36049516e-02  3.52533741e-02  3.86788731e-02\n",
      "  4.01425011e-02  4.11833684e-02  4.24277223e-02  5.08983036e-02\n",
      "  5.85160311e-02  6.02024022e-02  6.03863334e-02  7.05848574e-02\n",
      "  8.14233774e-02  9.43918258e-02  9.59035412e-02  9.70914952e-02\n",
      "  9.82532155e-02  1.05641503e-01  1.06486850e-01  1.11664507e-01\n",
      "  1.17756542e-01  1.20274807e-01  1.38727884e-01  1.49897941e-01\n",
      "  1.51737164e-01  1.63601344e-01  1.92044977e-01  2.01849287e-01\n",
      "  2.38227713e-01  2.54116574e-01  2.59049391e-01  2.69339468e-01\n",
      "  3.13031896e-01  3.34900937e-01  3.45467953e-01  3.53796606e-01\n",
      "  3.65649479e-01  3.71766203e-01  5.13430514e-01  5.14867991e-01\n",
      "  5.27758931e-01  5.35413364e-01  6.89978730e-01  7.15679567e-01\n",
      "  7.17070201e-01  7.30509912e-01  8.26315764e-01  1.07273727e+00\n",
      "  1.17963573e+00  1.19870932e+00  1.20174168e+00  1.25357668e+00\n",
      "  1.39664259e+00  1.71019119e+00  1.76992233e+00  1.83041454e+00\n",
      "  2.33966879e+00  2.44098162e+00  2.51614465e+00  4.59706496e+00]\n"
     ]
    }
   ],
   "source": [
    "Ts_max_1=np.loadtxt('Ts_max_1.txt',usecols=(1))\n",
    "\n",
    "print(np.sort(Ts_max_1))"
   ]
  },
  {
   "cell_type": "markdown",
   "metadata": {},
   "source": [
    "## calculate the pre-trail and post trial and their confidence levels for the first four highest TS_max"
   ]
  },
  {
   "cell_type": "code",
   "execution_count": 41,
   "metadata": {},
   "outputs": [
    {
     "name": "stdout",
     "output_type": "stream",
     "text": [
      "-1.8292682926829258\n",
      "98.17053506202407\n",
      "0.9515768999673596\n",
      "-4.842310003264032\n",
      "4.864079094285733\n"
     ]
    }
   ],
   "source": [
    "percentile = stats.percentileofscore(Ts_max_1, 2.33966879e+00, kind='weak')\n",
    "print(percentile-100)\n",
    "\n",
    "from scipy.integrate import quad\n",
    "coff=1/np.sqrt(2*np.pi)\n",
    "def integrand(z):\n",
    "\t# return(x+1)/x**2\n",
    "    f=lambda z: np.exp((z**2)*0.5*-1)\n",
    "    I=quad(f, -1*z, z)[0]\n",
    "    return I*coff*100\n",
    "# confidence_level=integrand(99.41176470588236)\n",
    "# print(confidence_level)\n",
    "pro=integrand(2.3596)\n",
    "print(pro)\n",
    "\n",
    "p_post=1-(1-0.018292682926829258)**164\n",
    "print(p_post)\n",
    "print(p_post*100-100)\n",
    "pro_post=integrand(0.061)\n",
    "print(pro_post)"
   ]
  },
  {
   "cell_type": "code",
   "execution_count": 335,
   "metadata": {},
   "outputs": [
    {
     "name": "stdout",
     "output_type": "stream",
     "text": [
      "-1.2195121951219505\n",
      "98.7799794340441\n",
      "0.8663185014872676\n",
      "-13.36814985127323\n",
      "11.923538474048504\n"
     ]
    }
   ],
   "source": [
    "percentile = stats.percentileofscore(Ts_max_1, 2.44098162e+00 , kind='weak')\n",
    "\n",
    "print(percentile-100)\n",
    "\n",
    "from scipy.integrate import quad\n",
    "coff=1/np.sqrt(2*np.pi)\n",
    "def integrand(z):\n",
    "\t# return(x+1)/x**2\n",
    "    f=lambda z: np.exp((z**2)*0.5*-1)\n",
    "    I=quad(f, -1*z, z)[0]\n",
    "    return I*coff*100\n",
    "# confidence_level=integrand(99.41176470588236)\n",
    "# print(confidence_level)\n",
    "pro=integrand(2.5063)\n",
    "print(pro)\n",
    "\n",
    "p_post=1-(1-0.012195121951219505)**164\n",
    "print(p_post)\n",
    "print(p_post*100-100)\n",
    "pro_post=integrand(0.15)\n",
    "print(pro_post)"
   ]
  },
  {
   "cell_type": "markdown",
   "metadata": {},
   "source": [
    "## remove the nan values in TS_max_1 vectors"
   ]
  },
  {
   "cell_type": "code",
   "execution_count": 42,
   "metadata": {},
   "outputs": [
    {
     "name": "stdout",
     "output_type": "stream",
     "text": [
      "[0.01747902 0.0178462  0.03233019 0.03303114 0.0354261  0.05503051\n",
      " 0.08652889 0.11939017 0.12909579 0.15410884 0.15476113 0.18331653\n",
      " 0.18775882 0.19666945 0.20035594 0.20293686 0.20597991 0.22560652\n",
      " 0.24190087 0.24536178 0.24573631 0.26567811 0.28534782 0.30723253\n",
      " 0.30968297 0.31159508 0.31345369 0.32502539 0.32632323 0.3341624\n",
      " 0.34315673 0.34680658 0.37246192 0.38716655 0.38953455 0.40447663\n",
      " 0.43822937 0.4492764  0.48808576 0.50409977 0.50896895 0.51897926\n",
      " 0.55949253 0.57870626 0.58776522 0.59480804 0.60468957 0.60972633\n",
      " 0.71654066 0.71754302 0.72647019 0.73171946 0.83064958 0.84597847\n",
      " 0.84679998 0.85469873 0.90901912 1.03573031 1.08611037 1.09485585\n",
      " 1.09623979 1.11963239 1.18179634 1.30774279 1.33038428 1.35292813\n",
      " 1.52959759 1.56236411 1.586236   2.14407672]\n"
     ]
    },
    {
     "name": "stderr",
     "output_type": "stream",
     "text": [
      "/var/folders/2c/m969qfc90tv80w3gmnb7x8r80000gn/T/ipykernel_71296/4226464898.py:1: RuntimeWarning: invalid value encountered in sqrt\n",
      "  Ts_max_1=np.sqrt(Ts_max_1)\n"
     ]
    }
   ],
   "source": [
    "Ts_max_1=np.sqrt(Ts_max_1)\n",
    "Ts_max_1 = Ts_max_1[~np.isnan(Ts_max_1)]\n",
    "\n",
    "print(np.sort(Ts_max_1))"
   ]
  },
  {
   "cell_type": "markdown",
   "metadata": {},
   "source": [
    "## plot the TS_max_1 distribution with Guassian fit"
   ]
  },
  {
   "cell_type": "code",
   "execution_count": 43,
   "metadata": {},
   "outputs": [
    {
     "name": "stdout",
     "output_type": "stream",
     "text": [
      "[0.12380891 0.33646868 0.54912844 0.76178821 0.97444798 1.18710775\n",
      " 1.39976752 1.61242729 1.82508706 2.03774683] \n",
      " [18. 19. 11.  8.  2.  5.  3.  3.  0.  1.]\n"
     ]
    },
    {
     "data": {
      "image/png": "[encoded data removed]",
      "text/plain": [
       "<Figure size 1000x1000 with 4 Axes>"
      ]
     },
     "metadata": {},
     "output_type": "display_data"
    }
   ],
   "source": [
    "from matplotlib import colors\n",
    "from matplotlib.ticker import PercentFormatter\n",
    "from matplotlib.ticker import MaxNLocator, NullLocator\n",
    "import matplotlib.pyplot as plt\n",
    "from matplotlib.ticker import (MultipleLocator, AutoMinorLocator)\n",
    "font = {'family': 'serif',\n",
    "        'weight': 'bold',\n",
    "        'size': 22,\n",
    "        'color':  'black',\n",
    "        }\n",
    "smallerfont = {'family': 'serif',\n",
    "        'color':  'black',\n",
    "        'weight': 'bold',\n",
    "        'size': 15,\n",
    "        }\n",
    "\n",
    "axesfont = {'family': 'serif',\n",
    "        'color':  'black',\n",
    "        'weight': 'normal',\n",
    "        'size': 17,\n",
    "        }\n",
    "n_bins = 10\n",
    "fig, axs = plt.subplots(2, 2, tight_layout=True,figsize=(10, 10))\n",
    "axs[0][0].set_ylabel('Counts',axesfont)\n",
    "axs[0][0].set_xlabel(r'$\\sqrt{TS_{\\rm max}}$',axesfont)\n",
    "axs[1][0].set_ylabel('Counts',axesfont)\n",
    "axs[1][0].set_xlabel(r'$\\sqrt{TS_{\\rm max}}$',axesfont)\n",
    "\n",
    "# N is the count in each bin, bins is the lower-limit of the bin\n",
    "N, bins, patches = axs[0][0].hist(Ts_max_1, bins=n_bins,linewidth=3)\n",
    "#print(bins,'\\n',patches)\n",
    "xdata=(bins[:-1]+bins[1:])*0.5\n",
    "ydata=N\n",
    "xplot=np.arange(min(xdata)-0.00001,max(xdata),0.1)\n",
    "\n",
    "print(xdata,'\\n',ydata)\n",
    "# We'll color code by height, but you could use any scalar\n",
    "parameters, covariance = curve_fit(gauss1, xdata, ydata,maxfev=5000000)\n",
    "# parameters1,covariance1=curve_fit(gauss,xdata, ydata,maxfev=500000)\n",
    "# fit_A = parameters[0]\n",
    "# fit_B = parameters[1]\n",
    "\n",
    "fit_y = gauss1(xplot, *parameters)\n",
    "\n",
    "# axs[0].plot(xplot, fit_y, '--', label='fit',c='green')\n",
    "axs[0][0].plot(xplot, fit_y, '--', label='Guassian Fit',c='k',linewidth=2)\n",
    "axs[1][0].errorbar(xdata, ydata, xerr=np.sqrt(xdata), yerr=np.sqrt(ydata), fmt='o', elinewidth=2,capsize=2)\n",
    "axs[1][0].plot(xplot, fit_y, '--', label='Guassian Fit',c='k',linewidth=1)\n",
    "fracs = N / N.max()\n",
    "\n",
    "# we need to normalize the data to 0..1 for the full range of the colormap\n",
    "norm = colors.Normalize(fracs.min(), fracs.max())\n",
    "\n",
    "# Now, we'll loop through our objects and set the color of each accordingly\n",
    "# for thisfrac, thispatch in zip(fracs, patches):\n",
    "#     color = plt.cm.viridis(norm(thisfrac))\n",
    "#     thispatch.set_facecolor(color)\n",
    "\n",
    "# We can also normalize our inputs by the total number of counts\n",
    "N1, bins1, patches1 = axs[0][1].hist(Ts_max_1, bins=n_bins, density=True)\n",
    "axs[0][1].set_ylabel('Counts density',axesfont)\n",
    "axs[0][1].set_xlabel(r'$\\sqrt{TS_{\\rm max}}$',axesfont)\n",
    "axs[1][1].set_ylabel('Counts density',axesfont)\n",
    "axs[1][1].set_xlabel(r'$\\sqrt{TS_{\\rm max}}$',axesfont)\n",
    "xdata1=(bins[:-1]+bins[1:])*0.5\n",
    "ydata1=N1\n",
    "xplot1=np.arange(min(xdata1)-0.00001,max(xdata1),0.1)\n",
    "parameters1,covariance1=curve_fit(gauss1,xdata1, ydata1,maxfev=500000)\n",
    "fit_y1=gauss1(xplot1, *parameters1)\n",
    "\n",
    "axs[0][1].plot(xplot1, fit_y1, '--', label='Guassian Fit',c='k',linewidth=2)\n",
    "axs[1][1].errorbar(xdata1, ydata1, xerr=np.sqrt(xdata1), yerr=np.sqrt(ydata1), fmt='o', elinewidth=2,capsize=2)\n",
    "axs[1][1].plot(xplot1, fit_y1, '--', label='Guassian Fit',c='k',linewidth=1)\n",
    "# Now we format the y-axis to display percentage\n",
    "#axs[1].yaxis.set_major_formatter(PercentFormatter(xmax=1))\n",
    "axs[0][0].tick_params(which='major', width=1.5, length=6,direction='in')\n",
    "axs[0][0].tick_params(which='minor', width=1.5, length=3,direction='in')\n",
    "axs[0][1].tick_params(which='major', width=1.5, length=6,direction='in')\n",
    "axs[0][1].tick_params(which='minor', width=1.5, length=3,direction='in')\n",
    "axs[1][0].tick_params(which='major', width=1.5, length=6,direction='in')\n",
    "axs[1][0].tick_params(which='minor', width=1.5, length=3,direction='in')\n",
    "axs[1][1].tick_params(which='major', width=1.5, length=6,direction='in')\n",
    "axs[1][1].tick_params(which='minor', width=1.5, length=3,direction='in')\n",
    "#axs[1].xaxis.set_minor_locator(MultipleLocator(5))\n",
    "axs[0][0].legend()\n",
    "# axs[1].xaxis.set_minor_locator(MultipleLocator(5))\n",
    "axs[0][1].legend()\n",
    "axs[0][0].xaxis.set_minor_locator(AutoMinorLocator())\n",
    "axs[0][0].yaxis.set_minor_locator(AutoMinorLocator())\n",
    "axs[0][0].tick_params(which='minor', length=2, color='k')\n",
    "# For the minor ticks, use no labels; default NullFormatter.\n",
    "axs[0][1].xaxis.set_minor_locator(AutoMinorLocator())\n",
    "axs[0][1].yaxis.set_minor_locator(AutoMinorLocator())\n",
    "axs[0][1].tick_params(which='minor', length=2, color='k')\n",
    "axs[1][0].xaxis.set_minor_locator(AutoMinorLocator())\n",
    "axs[1][0].yaxis.set_minor_locator(AutoMinorLocator())\n",
    "axs[1][0].tick_params(which='minor', length=2, color='k')\n",
    "axs[1][1].xaxis.set_minor_locator(AutoMinorLocator())\n",
    "axs[1][1].yaxis.set_minor_locator(AutoMinorLocator())\n",
    "axs[1][1].tick_params(which='minor', length=2, color='k')\n",
    "# axs[1][0].set_xscale('log')\n",
    "# axs[1][1].set_xscale('log')\n",
    "# axs[1][0].set_yscale('log')\n",
    "# axs[1][1].set_yscale('log')\n",
    "# axs[0][0].set_yscale('log')\n",
    "# axs[0][1].set_yscale('log')\n",
    "# axs[0][0].set_xscale('log')\n",
    "# axs[0][1].set_xscale('log')\n",
    "fig.savefig('Ts_max_1distr.pdf')"
   ]
  },
  {
   "cell_type": "markdown",
   "metadata": {},
   "source": [
    "## refined plot the TS_max_1 distribution with Guassian fit"
   ]
  },
  {
   "cell_type": "code",
   "execution_count": 57,
   "metadata": {},
   "outputs": [
    {
     "name": "stdout",
     "output_type": "stream",
     "text": [
      "[0.1205 0.3035 0.484  0.719  0.975  1.25   1.5    1.8725] \n",
      " [18. 15. 12. 10.  6.  5.  3.  1.]\n"
     ]
    },
    {
     "name": "stderr",
     "output_type": "stream",
     "text": [
      "/var/folders/2c/m969qfc90tv80w3gmnb7x8r80000gn/T/ipykernel_71296/419670305.py:106: UserWarning: FixedFormatter should only be used together with FixedLocator\n",
      "  axs.set_xticklabels(['', '', '', '', '1.00', '', '', '1.75', ''], fontsize=14)  # Set size for x-axis\n",
      "/var/folders/2c/m969qfc90tv80w3gmnb7x8r80000gn/T/ipykernel_71296/419670305.py:107: UserWarning: FixedFormatter should only be used together with FixedLocator\n",
      "  axs.set_yticklabels(['', '', '5.0', '', '10.0', '', '15.0', '', '20.0', ''], fontsize=14)\n"
     ]
    },
    {
     "name": "stdout",
     "output_type": "stream",
     "text": [
      "X-axis tick labels: ['', '', '', '', '1.00', '', '', '1.75', '']\n",
      "Y-axis tick labels: ['', '', '5.0', '', '10.0', '', '15.0', '', '20.0', '']\n"
     ]
    },
    {
     "data": {
      "image/png": "[encoded data removed]",
      "text/plain": [
       "<Figure size 500x500 with 1 Axes>"
      ]
     },
     "metadata": {},
     "output_type": "display_data"
    }
   ],
   "source": [
    "from matplotlib.lines import Line2D\n",
    "font = {'family': 'serif',\n",
    "        'weight': 'bold',\n",
    "        'size': 22,\n",
    "        'color':  'black',\n",
    "        }\n",
    "smallerfont = {'family': 'serif',\n",
    "        'color':  'black',\n",
    "        'weight': 'bold',\n",
    "        'size': 15,\n",
    "        }\n",
    "\n",
    "axesfont = {'family': 'serif',\n",
    "        'color':  'black',\n",
    "        'weight': 'normal',\n",
    "        'size': 17,\n",
    "        }\n",
    "custom_lines = [Line2D([0], [0], color='#1f77b4', lw=4),\n",
    "                Line2D([0], [2],linestyle='--', color='k', lw=2)]\n",
    "n_bins =11\n",
    "# \"[0.01747902 0.0178462  0.03233019 0.03303114 0.0354261  0.05503051\n",
    "#  0.08652889 0.11939017 0.12909579 0.15410884 0.15476113 0.18331653\n",
    "#  0.18775882 0.19666945 0.20035594 0.20293686 0.20597991 0.22560652\n",
    "#  0.24190087 0.24536178 0.24573631 0.26567811 0.28534782 0.30723253\n",
    "#  0.30968297 0.31159508 0.31345369 0.32502539 0.32632323 0.3341624\n",
    "#  0.34315673 0.34680658 0.37246192 0.38716655 0.38953455 0.40447663\n",
    "#  0.43822937 0.4492764  0.48808576 0.50409977 0.50896895 0.51897926\n",
    "#  0.55949253 0.57870626 0.58776522 0.59480804 0.60468957 0.60972633\n",
    "#  0.71654066 0.71754302 0.72647019 0.73171946 0.83064958 0.84597847\n",
    "#  0.84679998 0.85469873 0.90901912 1.03573031 1.08611037 1.09485585\n",
    "#  1.09623979 1.11963239 1.18179634 1.30774279 1.33038428 1.35292813\n",
    "#  1.52959759 1.56236411 1.586236   2.14407672]\"\n",
    "fig, axs = plt.subplots(1, 1, tight_layout=True,figsize=(5, 5))\n",
    "axs.set_ylabel('Counts',axesfont)\n",
    "axs.set_xlabel(r'$\\sqrt{{\\rm TS_{max}}}$',axesfont)\n",
    "# axs[1][0].set_ylabel('Counts',axesfont)\n",
    "# axs[1][0].set_xlabel(r'$\\sqrt{TS_{\\rm max}}$',axesfont)\n",
    "\n",
    "# N is the count in each bin, bins is the lower-limit of the bin\n",
    "N, bins, patches = axs.hist(Ts_max_1, bins=[0.014,0.227, 0.38, 0.588, 0.85, 1.1, 1.4, 1.6, 2.145]   ,linewidth=3,histtype='step',stacked=True,alpha=0.8)\n",
    "#print(bins,'\\n',patches)\n",
    "xdata=(bins[:-1]+bins[1:])*0.5\n",
    "ydata=N\n",
    "xplot=np.arange(min(xdata)-0.1,max(xdata),0.01)\n",
    "axs.set_xlim(min(xdata)-0.1,max(xdata))\n",
    "print(xdata,'\\n',ydata)\n",
    "# We'll color code by height, but you could use any scalar\n",
    "parameters, covariance = curve_fit(gauss1, xdata, ydata,maxfev=5000000)\n",
    "# parameters1,covariance1=curve_fit(gauss,xdata, ydata,maxfev=500000)\n",
    "# fit_A = parameters[0]\n",
    "# fit_B = parameters[1]\n",
    "\n",
    "fit_y = gauss1(xplot, *parameters)\n",
    "\n",
    "# axs[0].plot(xplot, fit_y, '--', label='fit',c='green')\n",
    "axs.plot(xplot, fit_y,linestyle='--',c='k',linewidth=2)\n",
    "# axs[1][0].errorbar(xdata, ydata, xerr=np.sqrt(xdata), yerr=np.sqrt(ydata), fmt='o', elinewidth=2,capsize=2)\n",
    "# axs[1][0].plot(xplot, fit_y, '--', label='Guassian Fit',c='k',linewidth=1)\n",
    "# fracs = N / N.max()\n",
    "\n",
    "# we need to normalize the data to 0..1 for the full range of the colormap\n",
    "# norm = colors.Normalize(fracs.min(), fracs.max())\n",
    "\n",
    "# Now, we'll loop through our objects and set the color of each accordingly\n",
    "# for thisfrac, thispatch in zip(fracs, patches):\n",
    "#     color = plt.cm.viridis(norm(thisfrac))\n",
    "#     thispatch.set_facecolor(color)\n",
    "\n",
    "# We can also normalize our inputs by the total number of counts\n",
    "# N1, bins1, patches1 = axs[0][1].hist(Ts_max, bins=n_bins, density=True)\n",
    "# axs[0][1].set_ylabel('Counts density',axesfont)\n",
    "# axs[0][1].set_xlabel(r'$\\sqrt{TS_{\\rm max}}$',axesfont)\n",
    "# axs[1][1].set_ylabel('Counts density',axesfont)\n",
    "# axs[1][1].set_xlabel(r'$\\sqrt{TS_{\\rm max}}$',axesfont)\n",
    "# xdata1=(bins[:-1]+bins[1:])*0.5\n",
    "# ydata1=N1\n",
    "# xplot1=np.arange(min(xdata1)-0.00001,max(xdata1),0.1)\n",
    "# parameters1,covariance1=curve_fit(gauss1,xdata1, ydata1,maxfev=500000)\n",
    "# fit_y1=gauss1(xplot1, *parameters1)\n",
    "\n",
    "# axs[0][1].plot(xplot1, fit_y1, '--', label='Guassian Fit',c='k',linewidth=2)\n",
    "# axs[1][1].errorbar(xdata1, ydata1, xerr=np.sqrt(xdata1), yerr=np.sqrt(ydata1), fmt='o', elinewidth=2,capsize=2)\n",
    "# axs[1][1].plot(xplot1, fit_y1, '--', label='Guassian Fit',c='k',linewidth=1)\n",
    "# Now we format the y-axis to display percentage\n",
    "#axs[1].yaxis.set_major_formatter(PercentFormatter(xmax=1))\n",
    "axs.tick_params(which='major', width=1.5, length=6,direction='in')\n",
    "axs.tick_params(which='minor', width=1.5, length=3,direction='in')\n",
    "# axs[0][1].tick_params(which='major', width=1.5, length=6,direction='in')\n",
    "# axs[0][1].tick_params(which='minor', width=1.5, length=3,direction='in')\n",
    "# axs[1][0].tick_params(which='major', width=1.5, length=6,direction='in')\n",
    "# axs[1][0].tick_params(which='minor', width=1.5, length=3,direction='in')\n",
    "# axs[1][1].tick_params(which='major', width=1.5, length=6,direction='in')\n",
    "# axs[1][1].tick_params(which='minor', width=1.5, length=3,direction='in')\n",
    "# #axs[1].xaxis.set_minor_locator(MultipleLocator(5))\n",
    "# axs[0][0].legend()\n",
    "# # axs[1].xaxis.set_minor_locator(MultipleLocator(5))\n",
    "# axs[0][1].legend()\n",
    "axs.xaxis.set_minor_locator(AutoMinorLocator())\n",
    "axs.yaxis.set_minor_locator(AutoMinorLocator())\n",
    "axs.tick_params(which='minor', length=2,width=1, color='k')\n",
    "axs.tick_params(which='major', length=8,width=1, color='k')\n",
    "axs.tick_params(axis='x', which='minor', bottom=True,top=True)\n",
    "axs.tick_params(axis='x', which='major', bottom=True,top=True)\n",
    "axs.tick_params(axis='y', which='minor', bottom=True,top=True,right=True)\n",
    "axs.tick_params(axis='y', which='major', bottom=True,top=True,right=True)\n",
    "axs.set_xticklabels(['', '', '', '', '1.00', '', '', '1.75', ''], fontsize=14)  # Set size for x-axis\n",
    "axs.set_yticklabels(['', '', '5.0', '', '10.0', '', '15.0', '', '20.0', ''], fontsize=14) \n",
    "# For the minor ticks, use no labels; default NullFormatter.\n",
    "# axs[0][1].xaxis.set_minor_locator(AutoMinorLocator())\n",
    "# axs[0][1].yaxis.set_minor_locator(AutoMinorLocator())\n",
    "# axs[0][1].tick_params(which='minor', length=2, color='k')\n",
    "# axs[1][0].xaxis.set_minor_locator(AutoMinorLocator())\n",
    "# axs[1][0].yaxis.set_minor_locator(AutoMinorLocator())\n",
    "# axs[1][0].tick_params(which='minor', length=2, color='k')\n",
    "# axs[1][1].xaxis.set_minor_locator(AutoMinorLocator())\n",
    "# axs[1][1].yaxis.set_minor_locator(AutoMinorLocator())\n",
    "# axs[1][1].tick_params(which='minor', length=2, color='k')\n",
    "# axs[1][0].set_xscale('log')\n",
    "# axs[1][1].set_xscale('log')\n",
    "# axs[1][0].set_yscale('log')\n",
    "# axs[1][1].set_yscale('log')\n",
    "# axs[0][0].set_yscale('log')\n",
    "# axs[0][1].set_yscale('log')\n",
    "# axs[0][0].set_xscale('log')\n",
    "# axs[0][1].set_xscale('log')\n",
    "x_labels = [tick.get_text() for tick in axs.get_xticklabels()]\n",
    "y_labels = [tick.get_text() for tick in axs.get_yticklabels()]\n",
    "print(\"X-axis tick labels:\", x_labels)\n",
    "print(\"Y-axis tick labels:\", y_labels)\n",
    "plt.legend(custom_lines,[r'$\\sqrt{{\\rm TS_{max}}} \\cdot{\\rm bin^{-1}}$','Guassian Fit'],fancybox=False,edgecolor=None,frameon=False,fontsize='large')\n",
    "fig.savefig('fig2b.pdf')"
   ]
  },
  {
   "cell_type": "code",
   "execution_count": 219,
   "metadata": {},
   "outputs": [
    {
     "name": "stdout",
     "output_type": "stream",
     "text": [
      "[0.04337348 0.64384145 0.28778396 1.3321205  1.92014747 0.00735255\n",
      " 0.26622653]\n",
      "[21. 17. 14. 10.  4.  3.  1.]\n",
      "chisquare/NDF = 0.94 / 4 = 0.24\n"
     ]
    }
   ],
   "source": [
    "def calc_chisquare(meas, sigma, fit): \n",
    "    diff = pow(meas-fit, 2.)\n",
    "    print(diff)\n",
    "    print(pow(sigma,2.))\n",
    "    test_statistic = (diff/pow(sigma,2.)).sum()\n",
    "    return test_statistic\n",
    "chis = calc_chisquare(ydata, np.sqrt(ydata), gauss(xdata , *parameters))\n",
    "NDF = len(ydata) - 3\n",
    "print(\"chisquare/NDF = {0:.2f} / {1:d} = {2:.2f}\".format(chis, NDF, chis / float(NDF)))"
   ]
  },
  {
   "cell_type": "code",
   "execution_count": null,
   "metadata": {},
   "outputs": [
    {
     "name": "stdout",
     "output_type": "stream",
     "text": [
      "[1.00000000e+11 1.58489319e+11 2.51188643e+11 3.98107171e+11\n",
      " 6.30957344e+11 1.00000000e+12 1.58489319e+12 2.51188643e+12\n",
      " 3.98107171e+12 6.30957344e+12 1.00000000e+13 1.58489319e+13\n",
      " 2.51188643e+13 3.98107171e+13 6.30957344e+13 1.00000000e+14\n",
      " 1.58489319e+14 2.51188643e+14 3.98107171e+14 6.30957344e+14\n",
      " 1.00000000e+15 1.58489319e+15 2.51188643e+15 3.98107171e+15\n",
      " 6.30957344e+15 1.00000000e+16 1.58489319e+16 2.51188643e+16\n",
      " 3.98107171e+16 6.30957344e+16 1.00000000e+17 1.58489319e+17\n",
      " 2.51188643e+17 3.98107171e+17 6.30957344e+17 1.00000000e+18\n",
      " 1.58489319e+18 2.51188643e+18 3.98107171e+18 6.30957344e+18\n",
      " 1.00000000e+19]\n",
      "1000000\n"
     ]
    }
   ],
   "source": [
    "# UNCOMMENT FOR LINEAR BINS\n",
    "# all_enu = np.linspace(10**11.001, 10**18.999, 1000)\n",
    "all_enu = e_nu_wall\n",
    "\n",
    "# enus = 0.5*(all_enu[1:]+all_enu[:-1])\n",
    "# UNCOMMENT FOR DENSER LOGARITHMIC BINS, optimal nbins is 1e6\n",
    "enus = np.logspace(11.001, 18.999, int(1e6))\n",
    "print(all_enu)\n",
    "print (len(enus))\n"
   ]
  },
  {
   "cell_type": "markdown",
   "metadata": {},
   "source": [
    "# below are discarded"
   ]
  },
  {
   "cell_type": "code",
   "execution_count": null,
   "metadata": {},
   "outputs": [
    {
     "name": "stdout",
     "output_type": "stream",
     "text": [
      "\n",
      "Number of energy bins:  1000000\n",
      "\n",
      "Number of phi bins:  1000\n",
      "\n",
      "Calculating weights...\n",
      "\n"
     ]
    }
   ],
   "source": [
    "gamma_arr = [-2, -2.2, -2.53, -3]\n",
    "phio = np.logspace(-38, -26, 1000) #CHANGING TO LINEAR BINS RESULTS IN STRAIGHT LINES\n",
    "\n",
    "# print(\"\\nNumber of threads: \", num_threads)\n",
    "print(\"\\nNumber of energy bins: \", len(enus))\n",
    "print(\"\\nNumber of phi bins: \", len(phio))\n",
    "print(\"\\nCalculating weights...\\n\\n\")"
   ]
  },
  {
   "cell_type": "code",
   "execution_count": null,
   "metadata": {},
   "outputs": [
    {
     "data": {
      "text/plain": [
       "array([1.00230524e+11, 1.00232370e+11, 1.00234216e+11, ...,\n",
       "       9.97663317e+18, 9.97681690e+18, 9.97700064e+18])"
      ]
     },
     "execution_count": 105,
     "metadata": {},
     "output_type": "execute_result"
    }
   ],
   "source": [
    "enus"
   ]
  },
  {
   "cell_type": "code",
   "execution_count": null,
   "metadata": {},
   "outputs": [],
   "source": [
    "eareaa = [i.astype(np.float64) for i in earea]\n",
    "eareaa = np.asfarray(eareaa, dtype=np.float64)\n",
    "eareaa[0][0]\n",
    "earea2 = np.asfortranarray(earea)\n",
    "earea2 = earea2[0].astype(np.float64)"
   ]
  },
  {
   "cell_type": "code",
   "execution_count": null,
   "metadata": {},
   "outputs": [
    {
     "name": "stdout",
     "output_type": "stream",
     "text": [
      "[47 32 48 ... 25 31 34]\n"
     ]
    }
   ],
   "source": [
    "print(msdec_bin_indices)"
   ]
  },
  {
   "cell_type": "code",
   "execution_count": null,
   "metadata": {},
   "outputs": [],
   "source": [
    "@vectorize(['float64(int64, float64, int64)'], nopython=True, target='parallel')\n",
    "def psr_wt_sing_gamma(psrno,gamma, season):\n",
    "\n",
    "    tt_upt = t_upt[season]\n",
    "    l = msdec_bin_indices[psrno]\n",
    "    wt_ac_temp = np.zeros(len(enus), dtype=np.float64)\n",
    "    for i in prange(len(enus)):\n",
    "        wt_ac_temp[i] = np.float64(tt_upt * earea[ea_season(season)][l*40 + enus_bin_indices[i]] * enus[i]**gamma)   \n",
    "\n",
    "\n",
    "    return np.trapz(wt_ac_temp, enus)\n"
   ]
  },
  {
   "cell_type": "code",
   "execution_count": null,
   "metadata": {},
   "outputs": [
    {
     "name": "stdout",
     "output_type": "stream",
     "text": [
      "[2.83650278e+13 5.86577806e+14 2.04760708e+13 ... 1.90869204e+16\n",
      " 8.12870622e+14 3.75424443e+14]\n"
     ]
    }
   ],
   "source": [
    "wt_vec = psr_wt_sing_gamma(range(p), -1, 0)\n",
    "print(wt_vec)"
   ]
  },
  {
   "cell_type": "code",
   "execution_count": null,
   "metadata": {},
   "outputs": [
    {
     "name": "stdout",
     "output_type": "stream",
     "text": [
      "(3, 3389)\n",
      "[1, inf, 5058.129999999999]\n"
     ]
    },
    {
     "name": "stderr",
     "output_type": "stream",
     "text": [
      "/tmp/ipykernel_2155/851389087.py:1: RuntimeWarning: divide by zero encountered in divide\n",
      "  w_models = np.column_stack([np.ones(p), 1/(msdist**2), mss1400]).T.astype(np.float64)\n",
      "/tmp/ipykernel_2155/851389087.py:2: RuntimeWarning: divide by zero encountered in divide\n",
      "  sum_wt_model = [1, np.sum(1/(msdist**2)), np.sum(mss1400)]\n"
     ]
    }
   ],
   "source": [
    "w_models = np.column_stack([np.ones(p), 1/(msdist**2), mss1400]).T.astype(np.float64)\n",
    "sum_wt_model = [1, np.sum(1/(msdist**2)), np.sum(mss1400)]\n",
    "print(w_models.shape)\n",
    "print(sum_wt_model)"
   ]
  },
  {
   "cell_type": "code",
   "execution_count": null,
   "metadata": {},
   "outputs": [
    {
     "name": "stdout",
     "output_type": "stream",
     "text": [
      "(3, 3389)\n",
      "['all_TSS_100000_bins_C_wt_all_psr_wmod1.pkl1', 'ns_hat_wt_wt_gamma_-1.txt', 'ns_hat_wt_wt_gamma_-2.2.txt', 'ns_all_ws_100000_bins_C_wt_all_psr_wmod1.pkl1', 'all_Si_ws_g_s_100000_bins_C_wt_all_psr_wmod1.pkl1', 'ns_hat_wt_wt_gamma_-2.5.txt', 'wt_acc_100000_bins_C_wt_all_psr_wmod1.pkl1', 'ns_hat_wt_wt_gamma_-3.txt', 'all_Bi.pkl']\n"
     ]
    }
   ],
   "source": [
    "\n",
    "\n",
    "print(w_models.shape)\n",
    "altier_path = [os.getcwd() + '/pickle/', os.getcwd() + '/../pickle/']\n",
    "print(os.listdir(altier_path[0]))"
   ]
  },
  {
   "cell_type": "code",
   "execution_count": null,
   "metadata": {},
   "outputs": [
    {
     "name": "stdout",
     "output_type": "stream",
     "text": [
      "Loading wt_acc from pickle\n",
      "Loaded wt_acc from pickle with nbins=  1000000\n"
     ]
    }
   ],
   "source": [
    "altier_path = [os.getcwd() + '/pickle/', os.getcwd() + '/../pickle/']\n",
    "if f'wt_acc_{len(enus)}_bins.pkl' in os.listdir(altier_path[0]):# or f'wt_acc.pkl_{len(enus)}' in os.listdir(altier_path[1]):\n",
    "    print(\"Loading wt_acc from pickle\")\n",
    "    # try:\n",
    "    #     wt_acc = pickle.load(altier_path[1] + f'wt_acc.pkl_{len(enus)//2}_bins')\n",
    "    # except:\n",
    "    with open(altier_path[0] + f'wt_acc_{len(enus)}_bins.pkl', 'rb') as f:\n",
    "        wt_acc = pickle.load(f)\n",
    "    \n",
    "    \n",
    "    print(\"Loaded wt_acc from pickle with nbins= \", len(enus))\n",
    "\n",
    "else:\n",
    "    print(\"Calculating wt_acc for all pulsars and seasons and gamma\")\n",
    "    wt_acc = []\n",
    "    for gamma in prange(len(gamma_arr)):\n",
    "        wt_allpsr = []\n",
    "        for season in tqdm(prange(10)):\n",
    "            # tmp = []\n",
    "            # for psrno in prange(p):\n",
    "                # w_model = w_models[psrno]\n",
    "                # tmp.append(psr_wt_sing_gamma(psrno, gamma_arr[gamma], season))\n",
    "                # tmp.append(trapz_numba(psr_wt_sing_e_gamma(psrno, enus, gamma_arr[gamma], season), enus))\n",
    "\n",
    "            wt_allpsr.append(np.array(psr_wt_sing_gamma(prange(p), gamma_arr[gamma], season), dtype=np.float64))\n",
    "            # tmp = []\n",
    "        wt_acc.append(wt_allpsr)\n",
    "        wt_allpsr = []\n",
    "        \n",
    "    wt_acc = np.asfarray(wt_acc, dtype=np.float64)\n",
    "    with open(altier_path[0] + f'wt_acc_{len(enus)}_bins.pkl', 'wb') as f:\n",
    "        pickle.dump(wt_acc, f)\n",
    "    print(\"Calculated wt_acc for all gamma-ray sources and seasons and gamma\")"
   ]
  },
  {
   "cell_type": "code",
   "execution_count": null,
   "metadata": {},
   "outputs": [
    {
     "name": "stdout",
     "output_type": "stream",
     "text": [
      "(4, 10, 3389)\n"
     ]
    }
   ],
   "source": [
    "print(wt_acc.shape)"
   ]
  },
  {
   "cell_type": "code",
   "execution_count": null,
   "metadata": {},
   "outputs": [
    {
     "name": "stdout",
     "output_type": "stream",
     "text": [
      "[ 36900 107011  93133 136244 112858 122541 127045 129311 123657 145750]\n"
     ]
    }
   ],
   "source": [
    "season_walls = np.asarray([0, 36900, 143911, 237044, 373288, 486146, 608687, 735732, 865043, 988700, 1134450])\n",
    "season_widts= np.diff(season_walls)\n",
    "print (season_widts)"
   ]
  },
  {
   "cell_type": "code",
   "execution_count": null,
   "metadata": {},
   "outputs": [],
   "source": [
    "#Compute the signal PDF for all neutrinos as per eqns 6, 7 and weights as per eqn 8 of 2205.15963\n",
    "\n",
    "@njit(nogil=True)\n",
    "def S_ijk(nu): \n",
    "\n",
    "    '''\n",
    "    Calculates S_ij as in EQN 7 of 2205.15963\n",
    "    ----------\n",
    "\n",
    "    Parameters\n",
    "    ----------\n",
    "    nu : int\n",
    "        Index of the neutrino in the sample\n",
    "        \n",
    "    \n",
    "    Returns\n",
    "    -------\n",
    "        Returns the signal PDF for the {psrno}th pulsar and nuind_inp neutrino\n",
    "    '''\n",
    "    ang2 = hvovec(msra, msdec, icra[nu], icdec[nu], rad=True) ** 2      #rad**2\n",
    "    sg = np.deg2rad(icang[nu]) ** 2                                     #rad**2\n",
    "    return np.divide(np.exp(-1 * np.divide(ang2, 2*sg)), (2 * np.pi * sg))      #1/rad**2\n",
    "\n",
    "\n",
    "@njit(nogil=True)\n",
    "def S_ik(nu, weight, w_models, gamma_index, ws):\n",
    "\n",
    "    '''\n",
    "    \n",
    "    Calculates S_i as in EQN 8 of 2205.15963\n",
    "    ----------\n",
    "\n",
    "    Parameters\n",
    "    ----------\n",
    "    nu : int\n",
    "        Index of the neutrino in the sample\n",
    "\n",
    "    normalized_wt : array\n",
    "        Normalized weights of the pulsars\n",
    "\n",
    "\n",
    "    gamma_index : int\n",
    "        Index of the gamma value in the gamma array\n",
    "\n",
    "    ws : int\n",
    "        Index of the weight model\n",
    "\n",
    "    Returns\n",
    "    -------\n",
    "        Returns the signal PDF for the {psrno}th pulsar and nuind_inp neutrino\n",
    "\n",
    "    '''\n",
    "\n",
    "    # si_sing_season_g =\n",
    "    # for i in prange(p):\n",
    "        # sij = S_ijk(nu)\n",
    "        # np.sum(np.multiply(sij, normalized_wt[i][gamma_index][season]))      #1/rad**2\n",
    "\n",
    "\n",
    "\n",
    "    sij = S_ijk(nu)\n",
    "    season = 0\n",
    "    for i in range(10):\n",
    "        if season_walls[i] <= nu and nu < season_walls[i+1]:\n",
    "            season = i\n",
    "            break\n",
    "\n",
    "    return np.sum(np.multiply(sij, np.multiply(w_models[ws], weight[gamma_index][season])/np.sum(np.multiply(w_models[ws], weight[gamma_index][season]))))      #1/rad**2\n"
   ]
  },
  {
   "cell_type": "code",
   "execution_count": null,
   "metadata": {},
   "outputs": [],
   "source": [
    "@njit(parallel=True, nogil=True)\n",
    "def Sik_sing_s_g(gamma_index, ws):#, wt_acc=wt_acc, w_models=w_models):\n",
    "    '''\n",
    "    Calculates S_i as in EQN 8 of 2205.15963\n",
    "    ----------\n",
    "\n",
    "    Parameters\n",
    "    ----------\n",
    "    weight : array\n",
    "         weights of the pulsars\n",
    "\n",
    "    season : int\n",
    "        Season of the neutrino\n",
    "\n",
    "    gamma_index : int\n",
    "        Index of the gamma value in the gamma array\n",
    "\n",
    "    ws : int\n",
    "        Index of the weight model\n",
    "\n",
    "    Returns\n",
    "    -------\n",
    "        Returns the signal PDF for the {psrno}th pulsar and nuind_inp neutrino\n",
    "    '''\n",
    "\n",
    "\n",
    "\n",
    "    tmp = []\n",
    "    if ws == -1: #No weights\n",
    "        for nu in prange(len(icra)):\n",
    "            tmp.append(np.sum(S_ijk(nu)))\n",
    "        return np.array(tmp, dtype=np.float64)\n",
    "\n",
    "    for nu in prange(len(icra)):\n",
    "        tmp.append(S_ik(nu, wt_acc, w_models, gamma_index, ws))\n",
    "    return np.array(tmp, dtype=np.float64)"
   ]
  },
  {
   "cell_type": "code",
   "execution_count": null,
   "metadata": {},
   "outputs": [
    {
     "name": "stdout",
     "output_type": "stream",
     "text": [
      "\n",
      "Calculating S_i for all neutrinos and gammas and weighting schemes...\n"
     ]
    },
    {
     "name": "stderr",
     "output_type": "stream",
     "text": [
      "100%|██████████| 4/4 [05:33<00:00, 83.37s/it]"
     ]
    },
    {
     "name": "stdout",
     "output_type": "stream",
     "text": [
      "Calculated S_i for all neutrinos and gammas and weighting schemes\n"
     ]
    },
    {
     "name": "stderr",
     "output_type": "stream",
     "text": [
      "\n"
     ]
    }
   ],
   "source": [
    "#Pickle\n",
    "if os.path.isfile(altier_path[0] + f'all_Si_ws_g_s_{len(enus)}_bins.pkl'):\n",
    "    print(\"Loading all_Si_ws_g_s from pickle\")\n",
    "    with open(altier_path[0] + f'all_Si_ws_g_s_{len(enus)}_bins.pkl', 'rb') as f:\n",
    "        all_Si_ws_g_s = pickle.load(f)\n",
    "    print(\"Loaded all_Si_ws_g_s from pickle with nbins =\", len(enus))\n",
    "else:\n",
    "\n",
    "\n",
    "    print(\"\\nCalculating S_i for all neutrinos and gammas and weighting schemes...\\n\")\n",
    "\n",
    "    all_Si_ws_g_s = []\n",
    "    tmp = []\n",
    "    tmp_wt_acc = []\n",
    "    tmp_wt_acc_w_dist = []\n",
    "    tmp_wt_acc_w_s1400 = []\n",
    "\n",
    "    for gamma_index in tqdm(prange(4)):\n",
    "        # for season in tqdm(prange(10)):\n",
    "        tmp.append(Sik_sing_s_g(gamma_index, -1))\n",
    "        tmp_wt_acc.append(Sik_sing_s_g(gamma_index, 0))\n",
    "        tmp_wt_acc_w_dist.append(Sik_sing_s_g(gamma_index, 1))\n",
    "        tmp_wt_acc_w_s1400.append(Sik_sing_s_g(gamma_index, 2))\n",
    "\n",
    "\n",
    "    all_Si_ws_g_s.append([tmp, tmp_wt_acc, tmp_wt_acc_w_dist, tmp_wt_acc_w_s1400])\n",
    "    tmp = []\n",
    "    tmp_wt_acc = []\n",
    "    tmp_wt_acc_w_dist = []\n",
    "    tmp_wt_acc_w_s1400 = []\n",
    "    all_Si_ws_g_s = np.asfarray(all_Si_ws_g_s[0])\n",
    "\n",
    "    print(\"Calculated S_i for all neutrinos and gammas and weighting schemes\")\n",
    "    #Save to pickle\n",
    "    with open(altier_path[0] + f'all_Si_ws_g_s_{len(enus)}_bins.pkl', 'wb') as f:\n",
    "        pickle.dump(all_Si_ws_g_s, f)\n",
    "\n"
   ]
  },
  {
   "cell_type": "code",
   "execution_count": null,
   "metadata": {},
   "outputs": [],
   "source": [
    "# @jit(nopython=True)\n",
    "@vectorize(['float64(int64, int64)'], nopython=True,target='parallel')\n",
    "def Bi_single_compute(nu,i,cone=5):\n",
    "\n",
    "    '''\n",
    "    Calculates B_i as in EQN 9 of 2205.15963\n",
    "    ----------\n",
    "\n",
    "    Parameters\n",
    "    ----------\n",
    "    nu : int\n",
    "        Index of the neutrino from IceCube sample\n",
    "    cone : float\n",
    "        Cone angle in degrees.\n",
    "    \n",
    "\n",
    "    Returns\n",
    "    -------\n",
    "    float\n",
    "        Returns the background PDF for the {nu}th neutrino\n",
    "    '''\n",
    "\n",
    "    # count = np.sum(np.abs(np.subtract(icdec, icdec[nu])) <= cone)\n",
    "    count=0\n",
    "    for i in prange(len(icdec)):\n",
    "        if abs(icdec[i] - icdec[nu]) <= cone:\n",
    "            count+=1\n",
    "    binwidth = (np.sin(np.deg2rad(icdec[nu] + cone)) - np.sin(np.deg2rad(icdec[nu] - cone)))*2*np.pi\n",
    "    return count/(binwidth * N_ic)           #No units or sr**-1"
   ]
  },
  {
   "cell_type": "code",
   "execution_count": null,
   "metadata": {},
   "outputs": [
    {
     "name": "stdout",
     "output_type": "stream",
     "text": [
      "Loading all_Bi from pickle...\n",
      "Loaded all_Bi from pickle\n"
     ]
    }
   ],
   "source": [
    "#Pickle\n",
    "if os.path.isfile(altier_path[0] + f'all_Bi.pkl'):\n",
    "    print(\"Loading all_Bi from pickle...\")\n",
    "    with open(altier_path[0] + f'all_Bi.pkl', 'rb') as f:\n",
    "        all_Bi = pickle.load(f)\n",
    "    print(\"Loaded all_Bi from pickle\")\n",
    "else:\n",
    "    print(\"\\nCalculating Bi for all neutrinos\\n\")\n",
    "    all_Bi = Bi_stacked_compute(np.arange(lnu), 5)\n",
    "    # all_Bi+=1e-90\n",
    "    print(\"\\nCalculated Bi for all neutrinos\")\n",
    "    #Save to pickle\n",
    "    with open(altier_path[0] + f'all_Bi.pkl', 'wb') as f:\n",
    "        pickle.dump(all_Bi, f)"
   ]
  },
  {
   "attachments": {},
   "cell_type": "markdown",
   "metadata": {},
   "source": [
    " '''\n",
    "    This function returns the number of signal events for a single pulsar as in EQN3 of 2205.15963\n",
    "    -------------------\n",
    "\n",
    "    Parameters\n",
    "    ----------\n",
    "    dec : float\n",
    "        The declination of the pulsar in radians\n",
    "    \n",
    "    enu : float\n",
    "        The neutrino energy in eV\n",
    "\n",
    "    gamma : float\n",
    "        The spectral index of the neutrino flux\n",
    "\n",
    "    phi0 : float (optional)\n",
    "        The normalization constant of the neutrino flux\n",
    "\n",
    "    season : int (optional)\n",
    "        The IceCube season number\n",
    "    \n",
    "    Returns\n",
    "    -------\n",
    "    float\n",
    "        The number of signal events for the given parameters\n",
    "    '''\n"
   ]
  },
  {
   "cell_type": "code",
   "execution_count": null,
   "metadata": {},
   "outputs": [
    {
     "data": {
      "text/plain": [
       "numpy.int64"
      ]
     },
     "execution_count": 31,
     "metadata": {},
     "output_type": "execute_result"
    }
   ],
   "source": [
    "type(msdec_bin_indices[0])"
   ]
  },
  {
   "cell_type": "code",
   "execution_count": null,
   "metadata": {},
   "outputs": [],
   "source": [
    "arr = np.zeros(10, dtype=np.float64)"
   ]
  },
  {
   "cell_type": "code",
   "execution_count": null,
   "metadata": {},
   "outputs": [
    {
     "data": {
      "text/plain": [
       "array([35318439.34329611, 32497618.3151043 , 29902901.99932829,\n",
       "       31745765.00015999, 32053797.00057632, 33098838.99984006,\n",
       "       34788962.99980783, 33936928.00012794, 31302372.99945645,\n",
       "       36107635.00003202])"
      ]
     },
     "execution_count": 71,
     "metadata": {},
     "output_type": "execute_result"
    }
   ],
   "source": [
    "t_upt"
   ]
  },
  {
   "cell_type": "code",
   "execution_count": null,
   "metadata": {},
   "outputs": [],
   "source": [
    "#generates ns^ for a single pulsar a single season and a single energy\n",
    "\n",
    "\n",
    "# @vectorize(['float64(int64, float64, int64)'], nopython=True, target='parallel')\n",
    "# def psr_wt_sing_gamma(psrno,gamma, season):\n",
    "\n",
    "#     tt_upt = t_upt[season]\n",
    "#     l = msdec_bin_indices[psrno]\n",
    "#     wt_ac_temp = np.zeros(len(enus), dtype=np.float64)\n",
    "#     for i in prange(len(enus)):\n",
    "#         wt_ac_temp[i] = np.float64(tt_upt * earea[ea_season(season)][l*40 + enus_bin_indices[i]] * enus[i]**gamma)\n",
    "\n",
    "\n",
    "#     return np.trapz(wt_ac_temp, enus)\n",
    "# @njit\n",
    "# @vectorize(['float64(float64, float64, float64, int64)'], target='parallel')\n",
    "@vectorize(['float64(int64, float64, float64, int64)'], nopython=True, target='parallel')\n",
    "def ns_singleseason_sing_psr_HAT(psrno,gamma, phi0, season):\n",
    "   \n",
    "\n",
    "    tt_upt = t_upt[season]\n",
    "    # if enu <= 1e11 or enu >= 1e19:\n",
    "    #     return 0.0\n",
    "    # else:\n",
    "        # k=0\n",
    "    l = msdec_bin_indices[psrno]\n",
    "        # for i in range(0, len(e_nu_wall)):\n",
    "        #     if e_nu_wall[i] <= enu and e_nu_wall[i+1] > enu:\n",
    "        #         k=i\n",
    "        #         break\n",
    "\n",
    "        # for j in range(0, len(dec_nu)):\n",
    "        #     if dec_nu[j] <= dec and dec_nu[j+1] > dec:\n",
    "        #         l=j\n",
    "        #         break\n",
    "    ns_temp = np.zeros(len(enus), dtype=np.float64)\n",
    "    for i in prange(len(enus)):\n",
    "        ns_temp[i] += np.float64(tt_upt * earea[ea_season(season)][l*40 + enus_bin_indices[i]] * phi0 * (enus[i]/(10**14))**gamma)\n",
    "    # temp_ea = np.asarray(earea[ea_season(season)])[l*40 + k]\n",
    "    # return tt_upt * temp_ea * phi0 * ((enu/(10**14))**gamma)     #in s cm2 eV\n",
    "\n",
    "    return np.trapz(ns_temp, enus)     #in s cm2 eV\n"
   ]
  },
  {
   "cell_type": "code",
   "execution_count": null,
   "metadata": {},
   "outputs": [
    {
     "data": {
      "text/plain": [
       "array([62.26927778, 47.77594444, -9.16630556, ..., -6.16663861,\n",
       "       61.92967917,  0.85265833])"
      ]
     },
     "execution_count": 34,
     "metadata": {},
     "output_type": "execute_result"
    }
   ],
   "source": [
    "msdec"
   ]
  },
  {
   "cell_type": "code",
   "execution_count": null,
   "metadata": {},
   "outputs": [],
   "source": [
    "def ns_HAT_all_season_all_psr_sing_gamma_wt_wtht_weights(gamma, e_nus=enus, phi0=1):\n",
    "    ns_hat = 0\n",
    "    ns_hat_wt = 0\n",
    "    ns_hat_wt_dist = 0\n",
    "    ns_hat_wt_s1400 = 0\n",
    "    for season in tqdm(prange(10)):\n",
    "        # for psr in prange(p):\n",
    "            # wt = all_weights[0][gamma_arr.index(gamma)][psr][ea_season(season)]\n",
    "        wt_sum = np.sum(wt_acc[gamma_arr.index(gamma)][season])\n",
    "\n",
    "        wt = wt_acc[gamma_arr.index(gamma)][season]\n",
    "        ns_hat = ns_singleseason_sing_psr_HAT(prange(p), gamma, phi0, season)\n",
    "        # ns_hat_wt += np.dot(wt, nsop)\n",
    "        # ns_hat_wt_dist += np.dot(wt/msdist[prange(p)]**2, nsop)\n",
    "            # nsop = ns_singleseason_sing_psr_HAT(msdec[psr], e_nus, gamma, phi0, season)\n",
    "            \n",
    "            # ns_hat += np.trapz(nsop, x=e_nus)\n",
    "        \n",
    "    #         ns_hat_wt += wt * np.trapz(nsop, x=e_nus)\n",
    "    #         ns_hat_wt_dist += wt * np.trapz(nsop, x=e_nus) / (msdist[psr]**2)\n",
    "    #         ns_hat_wt_s1400 += wt * np.trapz(nsop, x=e_nus) * mss1400[psr]\n",
    "    # return np.array([ns_hat, ns_hat_wt, ns_hat_wt_dist, ns_hat_wt_s1400], dtype=np.float64)\n",
    "\n",
    "        ns_hat_wt += np.dot((wt/wt_sum),  ns_hat)\n",
    "        ns_hat_wt_dist += np.dot(wt * w_models[1]/ np.sum(np.multiply(wt_acc[gamma_arr.index(gamma)][season], w_models[1])) , ns_hat)\n",
    "        ns_hat_wt_s1400 += np.dot(wt * w_models[2]/ np.sum(np.multiply(wt_acc[gamma_arr.index(gamma)][season], w_models[2])), ns_hat)\n",
    "    return np.array([np.sum(ns_hat), ns_hat_wt, ns_hat_wt_dist, ns_hat_wt_s1400], dtype=np.float64)"
   ]
  },
  {
   "cell_type": "code",
   "execution_count": null,
   "metadata": {},
   "outputs": [
    {
     "name": "stdout",
     "output_type": "stream",
     "text": [
      "\n",
      "Calculating ns_HAT for all gamma and weighting schemes...\n"
     ]
    },
    {
     "name": "stderr",
     "output_type": "stream",
     "text": [
      "  0%|          | 0/10 [00:00<?, ?it/s]/tmp/ipykernel_2155/2468739112.py:25: RuntimeWarning: invalid value encountered in divide\n",
      "  ns_hat_wt_dist += np.dot(wt * w_models[1]/ np.sum(np.multiply(wt_acc[gamma_arr.index(gamma)][season], w_models[1])) , ns_hat)\n",
      "100%|██████████| 10/10 [03:43<00:00, 22.31s/it]\n",
      "100%|██████████| 10/10 [03:42<00:00, 22.22s/it]\n",
      "100%|██████████| 10/10 [03:42<00:00, 22.24s/it]\n",
      "100%|██████████| 10/10 [03:43<00:00, 22.34s/it]"
     ]
    },
    {
     "name": "stdout",
     "output_type": "stream",
     "text": [
      "\n",
      "Calculationed ns_HAT for all gamma and weighting schemes\n"
     ]
    },
    {
     "name": "stderr",
     "output_type": "stream",
     "text": [
      "\n"
     ]
    }
   ],
   "source": [
    "#Pickle\n",
    "arr = []\n",
    "if os.path.isfile(altier_path[0] + f'ns_all_ws_{len(enus)}_bins.pkl'):\n",
    "    print(\"Loading ns_hat from pickle...\")\n",
    "    with open(altier_path[0] + f'ns_all_ws_{len(enus)}_bins.pkl', 'rb') as f:\n",
    "        arr = pickle.load(f)\n",
    "    print(\"Loaded ns_hat from pickle with nbins =\", len(enus))\n",
    "else:\n",
    "    print(\"\\nCalculating ns_HAT for all gamma and weighting schemes...\\n\")\n",
    "\n",
    "    arr=[]\n",
    "    for gamma in prange(len(gamma_arr)):\n",
    "        tmp = ns_HAT_all_season_all_psr_sing_gamma_wt_wtht_weights(gamma_arr[gamma])\n",
    "        np.savetxt('outputs/ns_hat_wt_wt_gamma_{}.txt'.format(gamma_arr[gamma]), tmp)\n",
    "        arr.append(tmp)\n",
    "        tmp = []\n",
    "\n",
    "    arr = np.array(arr, dtype=np.float64)\n",
    "    with open(altier_path[0] + f'ns_all_ws_{len(enus)}_bins.pkl', 'wb') as f:\n",
    "        pickle.dump(arr, f)\n",
    "    print(\"\\nCalculationed ns_HAT for all gamma and weighting schemes\")"
   ]
  },
  {
   "cell_type": "code",
   "execution_count": null,
   "metadata": {},
   "outputs": [
    {
     "data": {
      "text/plain": [
       "array([[3.52864701e+31, 1.64348155e+29,            nan, 1.43286227e+29],\n",
       "       [4.29254469e+31, 2.12101932e+29,            nan, 1.97836837e+29],\n",
       "       [9.09734829e+31, 4.71885376e+29,            nan, 4.68667418e+29],\n",
       "       [4.99686265e+32, 2.64971787e+30,            nan, 2.73604535e+30]])"
      ]
     },
     "execution_count": 35,
     "metadata": {},
     "output_type": "execute_result"
    }
   ],
   "source": [
    "arr"
   ]
  },
  {
   "cell_type": "code",
   "execution_count": null,
   "metadata": {},
   "outputs": [],
   "source": [
    "@njit(parallel=True, nogil=True)\n",
    "def season_nu(nu):\n",
    "    for i in prange(10):\n",
    "        if nu >= season_walls[i] and nu < season_walls[i+1]:\n",
    "            return i"
   ]
  },
  {
   "attachments": {},
   "cell_type": "markdown",
   "metadata": {},
   "source": [
    "t2mp = all_Si_ws_g_s[0][0]\n",
    "nsa = 50\n",
    "@njit(nogil=True)\n",
    "def TS_for_all_psrs2(nsa):  \n",
    "    return Ts_arr2(nsa, t2mp, all_Bi, Ns) "
   ]
  },
  {
   "attachments": {},
   "cell_type": "markdown",
   "metadata": {},
   "source": [
    "TS_for_all_psrs2(nsa)"
   ]
  },
  {
   "cell_type": "code",
   "execution_count": null,
   "metadata": {},
   "outputs": [],
   "source": [
    "@jit(nopython=True)\n",
    "def Pr(x, Ns, S, B):\n",
    "    nsN = x/Ns\n",
    "    return np.add(np.multiply(nsN , S), np.multiply(np.subtract(1, nsN), B))\n",
    "\n",
    "\n",
    "\n",
    "@njit(nogil=True)\n",
    "def TS_st_vec(x, S, B, Ns):\n",
    "    nsN = x/Ns\n",
    "    pr = np.add(np.multiply(nsN , S), np.multiply(np.subtract(1, nsN), B))\n",
    "    return np.sum(np.asfarray(2*np.log(pr/B)))\n",
    "\n",
    "lnu = 1134450\n",
    "Ns = lnu#np.count_nonzero(nuind+1)\n"
   ]
  },
  {
   "attachments": {},
   "cell_type": "markdown",
   "metadata": {},
   "source": [
    "TS_st_vec(0.5e6, all_Si_ws_g_s[0][0], all_Bi, Ns)"
   ]
  }
 ],
 "metadata": {
  "kernelspec": {
   "display_name": "Python 3 (ipykernel)",
   "language": "python",
   "name": "python3"
  },
  "language_info": {
   "codemirror_mode": {
    "name": "ipython",
    "version": 3
   },
   "file_extension": ".py",
   "mimetype": "text/x-python",
   "name": "python",
   "nbconvert_exporter": "python",
   "pygments_lexer": "ipython3",
   "version": "3.8.2"
  }
 },
 "nbformat": 4,
 "nbformat_minor": 4
}

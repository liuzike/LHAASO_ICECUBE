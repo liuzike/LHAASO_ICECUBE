{
 "cells": [
  {
   "cell_type": "code",
   "execution_count": 1,
   "metadata": {},
   "outputs": [
    {
     "name": "stdout",
     "output_type": "stream",
     "text": [
      "read icdata\n",
      "read uptdata\n",
      "read eadata\n",
      "read mspdata\n"
     ]
    }
   ],
   "source": [
    "# from core import readfiles\n",
    "import numpy as np\n",
    "import os\n",
    "import multiprocessing as mul\n",
    "import matplotlib.pyplot as plt\n",
    "from numba import jit, njit, prange, set_num_threads, vectorize, guvectorize, cuda\n",
    "from tqdm import tqdm\n",
    "from core.signal_bag import *\n",
    "from core.stacking_analysis import *\n",
    "from core.req_vectors import *\n",
    "import pickle\n",
    "import scipy.stats as st\n",
    "import scipy.interpolate as interp\n",
    "# import torch\n",
    "# from core import weights"
   ]
  },
  {
   "cell_type": "code",
   "execution_count": 5,
   "metadata": {},
   "outputs": [],
   "source": [
    "gammaraysrc1ra=np.concatenate([lhsaao1ra, hess_ra], 0)\n",
    "gammaraysrc1dec=np.concatenate([lhsaao1dec, hess_dec], 0)\n",
    "gammaraysrc2ra=np.concatenate([lhsaao2ra, hess_ra], 0)\n",
    "gammaraysrc2dec=np.concatenate([lhsaao2dec, hess_dec], 0)"
   ]
  },
  {
   "cell_type": "code",
   "execution_count": 6,
   "metadata": {},
   "outputs": [],
   "source": [
    "lhsaao1fnu_nor=lhsaao1fnu/np.sum(lhsaao1fnu)\n",
    "lhsaao2fnu_nor=lhsaao2fnu/np.sum(lhsaao2fnu)\n",
    "hessfnu=np.asfarray([float(i) for i in hessdata['Flux \\xa0(max)\\xa0[C.U.]'].values], dtype=str)\n",
    "\n"
   ]
  },
  {
   "cell_type": "code",
   "execution_count": 8,
   "metadata": {},
   "outputs": [
    {
     "name": "stdout",
     "output_type": "stream",
     "text": [
      "[0.25       0.19       0.09       0.66       0.05       0.02\n",
      " 0.25       0.06       0.17       0.08       0.132      0.12\n",
      " 0.06       0.24       0.07       0.018      0.05       0.15\n",
      " 0.025      0.2        0.17       0.07       1.1        0.02\n",
      " 0.02       0.03       0.75       0.02       3.         1.\n",
      " 0.07       0.06       0.035      0.13       0.16       0.16\n",
      " 0.016      0.14       0.12       0.11       0.1        0.013\n",
      " 0.17       0.08       0.013      0.02       0.015      0.03\n",
      " 0.03       0.03       0.03       0.018      0.13914024 0.13914024\n",
      " 0.013      0.02       0.13       0.047      0.07       0.01\n",
      " 0.003      0.17       0.13914024 0.02       0.008      0.009\n",
      " 0.004      0.13914024 0.13914024 0.025      0.04       0.014\n",
      " 0.02       0.04       0.0065     0.015      0.006      0.01\n",
      " 0.018      0.13914024 0.015      0.01       0.13914024 0.007\n",
      " 0.04       0.13914024 0.005      0.006      0.13914024 0.007\n",
      " 0.006      0.13914024 0.13914024 0.13914024 0.13914024]\n"
     ]
    }
   ],
   "source": [
    "\n",
    "nan_col = np.count_nonzero(hessfnu!= hessfnu)\n",
    "if nan_col != 0: \n",
    "    not_nan = hessfnu[hessfnu == hessfnu]  \n",
    "    hessfnu[np.isnan(hessfnu)] = np.mean(not_nan) \n",
    "print(hessfnu)"
   ]
  },
  {
   "cell_type": "code",
   "execution_count": 9,
   "metadata": {},
   "outputs": [
    {
     "name": "stdout",
     "output_type": "stream",
     "text": [
      "[0.01891314 0.01437399 0.00680873 0.04993069 0.00378263 0.00151305\n",
      " 0.01891314 0.00453915 0.01286094 0.0060522  0.00998614 0.00907831\n",
      " 0.00453915 0.01815661 0.00529568 0.00136175 0.00378263 0.01134788\n",
      " 0.00189131 0.01513051 0.01286094 0.00529568 0.08321782 0.00151305\n",
      " 0.00151305 0.00226958 0.05673942 0.00151305 0.22695768 0.07565256\n",
      " 0.00529568 0.00453915 0.00264784 0.00983483 0.01210441 0.01210441\n",
      " 0.00121044 0.01059136 0.00907831 0.00832178 0.00756526 0.00098348\n",
      " 0.01286094 0.0060522  0.00098348 0.00151305 0.00113479 0.00226958\n",
      " 0.00226958 0.00226958 0.00226958 0.00136175 0.01052632 0.01052632\n",
      " 0.00098348 0.00151305 0.00983483 0.00355567 0.00529568 0.00075653\n",
      " 0.00022696 0.01286094 0.01052632 0.00151305 0.00060522 0.00068087\n",
      " 0.00030261 0.01052632 0.01052632 0.00189131 0.0030261  0.00105914\n",
      " 0.00151305 0.0030261  0.00049174 0.00113479 0.00045392 0.00075653\n",
      " 0.00136175 0.01052632 0.00113479 0.00075653 0.01052632 0.00052957\n",
      " 0.0030261  0.01052632 0.00037826 0.00045392 0.01052632 0.00052957\n",
      " 0.00045392 0.01052632 0.01052632 0.01052632 0.01052632]\n"
     ]
    }
   ],
   "source": [
    "hessnu_nor=hessfnu/np.sum(hessfnu)\n",
    "print(hessnu_nor)"
   ]
  },
  {
   "cell_type": "code",
   "execution_count": 10,
   "metadata": {},
   "outputs": [
    {
     "name": "stdout",
     "output_type": "stream",
     "text": [
      "(164,)\n"
     ]
    }
   ],
   "source": [
    "gammaraysrc1funor=np.concatenate([lhsaao1fnu_nor, hessnu_nor], 0)\n",
    "gammaraysrc2funor=np.concatenate([lhsaao2fnu_nor, hessnu_nor], 0)\n",
    "print(gammaraysrc2funor.shape)"
   ]
  },
  {
   "cell_type": "code",
   "execution_count": 11,
   "metadata": {},
   "outputs": [],
   "source": [
    "from matplotlib.ticker import PercentFormatter\n",
    "from matplotlib.ticker import MaxNLocator, NullLocator\n",
    "import matplotlib.pyplot as plt\n",
    "from matplotlib.ticker import (MultipleLocator, AutoMinorLocator,LogitLocator,NullFormatter,FixedLocator)\n",
    "import matplotlib"
   ]
  },
  {
   "cell_type": "code",
   "execution_count": 12,
   "metadata": {},
   "outputs": [],
   "source": [
    "num_threads = int(mul.cpu_count()*0.9)\n",
    "set_num_threads(num_threads)"
   ]
  },
  {
   "cell_type": "code",
   "execution_count": 13,
   "metadata": {},
   "outputs": [
    {
     "data": {
      "text/plain": [
       "170"
      ]
     },
     "execution_count": 13,
     "metadata": {},
     "output_type": "execute_result"
    }
   ],
   "source": [
    "len(gammaraysrc1ra)"
   ]
  },
  {
   "cell_type": "code",
   "execution_count": 14,
   "metadata": {},
   "outputs": [],
   "source": [
    "# UNCOMMENT FOR LINEAR BINS\n",
    "# all_enu = np.linspace(10**11.001, 10**18.999, 1000)\n",
    "all_enu = e_nu_wall\n",
    "\n",
    "# enus = 0.5*(all_enu[1:]+all_enu[:-1])\n",
    "# UNCOMMENT FOR DENSER LOGARITHMIC BINS, optimal nbins is 1e6\n",
    "enus = np.logspace(11.001, 18.999, int(1e6))\n",
    "#print(e_nu_wall)\n",
    "#print (np.where(enus>1.58489319e+11))\n"
   ]
  },
  {
   "cell_type": "code",
   "execution_count": 15,
   "metadata": {},
   "outputs": [
    {
     "name": "stdout",
     "output_type": "stream",
     "text": [
      "[32517530.86263724 30549103.12022511 27306301.28745167 28768007.01455351\n",
      " 28682826.74322606 31358092.38190586 32027175.11202246 31566502.10216402\n",
      " 30873121.15708538 35478964.62749199] [35318439.34329611 32497618.3151043  29902901.99932829 31745765.00015999\n",
      " 32053797.00057632 33098838.99984006 34788962.99980783 33936928.00012794\n",
      " 31302372.99945645 36107635.00003202]\n"
     ]
    }
   ],
   "source": [
    "print(t_upt1,t_upt)"
   ]
  },
  {
   "cell_type": "code",
   "execution_count": 17,
   "metadata": {},
   "outputs": [
    {
     "name": "stdout",
     "output_type": "stream",
     "text": [
      "[ 0  0  0 ... 39 39 39]\n"
     ]
    }
   ],
   "source": [
    "enus_bin_indices = np.zeros(len(enus), dtype=np.int64)\n",
    "\n",
    "for i in prange(len(enus)):\n",
    "    enus_bin_indices[i] = np.digitize(enus[i], e_nu_wall) -1\n",
    "print (enus_bin_indices)"
   ]
  },
  {
   "cell_type": "code",
   "execution_count": 75,
   "metadata": {},
   "outputs": [
    {
     "data": {
      "text/plain": [
       "69"
      ]
     },
     "execution_count": 75,
     "metadata": {},
     "output_type": "execute_result"
    }
   ],
   "source": [
    "p2"
   ]
  },
  {
   "cell_type": "code",
   "execution_count": 19,
   "metadata": {},
   "outputs": [
    {
     "name": "stdout",
     "output_type": "stream",
     "text": [
      "[-90.   -73.74 -66.93 -61.64 -57.14 -53.13 -49.46 -46.05 -42.84 -39.79\n",
      " -36.87 -34.06 -31.33 -28.69 -26.1  -23.58 -21.1  -18.66 -16.26 -13.89\n",
      " -11.54  -9.21  -6.89  -4.59  -2.29   0.     2.29   4.59   6.89   9.21\n",
      "  11.54  13.89  16.26  18.66  21.1   23.58  26.1   28.69  31.33  34.06\n",
      "  36.87  39.79  42.84  46.05  49.46  53.13  57.14  61.64  66.93  73.74\n",
      "  90.  ]\n"
     ]
    }
   ],
   "source": [
    "msdec\n",
    "print(dec_nu)"
   ]
  },
  {
   "cell_type": "code",
   "execution_count": 20,
   "metadata": {},
   "outputs": [
    {
     "name": "stdout",
     "output_type": "stream",
     "text": [
      "[45 48 47 42 42 41 46 45 44 45 45 39 34 34 40 29 32 27 31 16 29 19 17 17\n",
      " 18 19 19 20 20 21 22 22 22 23 24 24 24 25 25 26 27 27 29 27 30 31 31 31\n",
      " 32 32 33 32 34 35 36 36 37 37 29 38 38 37 39 41 39 40 38 41 41 42 44 45\n",
      " 46 46 46  5  5  6  9 12 13 15 17 19 21 21  6  6  8  8  9 12  3  6 12  2\n",
      "  2  6 12 15 18  7 29 40 34  3  3  3  6 10 26 25 16  3  2  2 18 27 29 33\n",
      " 30  9 27 15 14 14 14 33 19 11  9 22  1  2  3 14  7  7 25  8  8  8  7 21\n",
      " 12  3 34 14 10 28 14 25 16  6  7 16 20 14  9 10 25  1  1  7 12  1  3 40\n",
      " 23  3]\n"
     ]
    }
   ],
   "source": [
    "ladec_bin_indices = np.zeros(len(gammaraysrc1ra), dtype=np.int64)\n",
    "for i in prange(len(gammaraysrc1ra)):\n",
    "    ladec_bin_indices[i] = np.digitize(gammaraysrc1dec[i], dec_nu) - 1\n",
    "print(ladec_bin_indices)"
   ]
  },
  {
   "cell_type": "code",
   "execution_count": 21,
   "metadata": {},
   "outputs": [
    {
     "name": "stdout",
     "output_type": "stream",
     "text": [
      "\n",
      "Number of energy bins:  1000000\n",
      "\n",
      "Number of phi bins:  1000\n",
      "\n",
      "Calculating weights...\n",
      "\n",
      "\n"
     ]
    }
   ],
   "source": [
    "gamma_arr = [-2.0, -2.4, -2.53,-3, -3.5]\n",
    "phio = np.logspace(-38, -20, 1000) #CHANGING TO LINEAR BINS RESULTS IN STRAIGHT LINES\n",
    "\n",
    "# print(\"\\nNumber of threads: \", num_threads)\n",
    "print(\"\\nNumber of energy bins: \",len(enus))\n",
    "print(\"\\nNumber of phi bins: \", len(phio))\n",
    "print(\"\\nCalculating weights...\\n\\n\")"
   ]
  },
  {
   "cell_type": "code",
   "execution_count": 22,
   "metadata": {},
   "outputs": [
    {
     "name": "stdout",
     "output_type": "stream",
     "text": [
      "(5, 2000)\n"
     ]
    }
   ],
   "source": [
    "eareaa = [i.astype(np.float64) for i in earea]\n",
    "eareaa = np.asfarray(eareaa, dtype=np.float64)\n",
    "print(earea.shape)\n",
    "eareaa[0][0]\n",
    "earea2 = np.asfortranarray(earea)\n",
    "earea2 = earea2[0].astype(np.float64)"
   ]
  },
  {
   "cell_type": "code",
   "execution_count": 23,
   "metadata": {},
   "outputs": [],
   "source": [
    "@vectorize(['float64(int64, float64, int64)'], nopython=True, target='parallel')\n",
    "def psr_wt_sing_gamma(psrno,gamma, season):\n",
    "\n",
    "    tt_upt = t_upt1[season]\n",
    "    l = ladec_bin_indices[psrno]\n",
    "    wt_ac_temp = np.zeros(len(enus), dtype=np.float64)\n",
    "    for i in prange(len(enus)):\n",
    "        wt_ac_temp[i] = np.float64(tt_upt * earea[ea_season(season)][l*40 + enus_bin_indices[i]] * enus[i]**gamma)   \n",
    "\n",
    "\n",
    "    return np.trapz(wt_ac_temp, enus)\n"
   ]
  },
  {
   "cell_type": "code",
   "execution_count": 37,
   "metadata": {},
   "outputs": [
    {
     "data": {
      "text/plain": [
       "4"
      ]
     },
     "execution_count": 37,
     "metadata": {},
     "output_type": "execute_result"
    }
   ],
   "source": [
    "ea_season(5)"
   ]
  },
  {
   "cell_type": "code",
   "execution_count": 24,
   "metadata": {},
   "outputs": [
    {
     "name": "stdout",
     "output_type": "stream",
     "text": [
      "2\n",
      "(2, 170)\n"
     ]
    },
    {
     "name": "stderr",
     "output_type": "stream",
     "text": [
      "/var/folders/2c/m969qfc90tv80w3gmnb7x8r80000gn/T/ipykernel_663/95634517.py:2: RuntimeWarning: divide by zero encountered in divide\n",
      "  sum_wt_model = [1, np.sum(1/(msdist**2)), np.sum(mss1400)]\n"
     ]
    }
   ],
   "source": [
    "w_models = np.column_stack([np.ones(len(gammaraysrc1ra)),gammaraysrc1funor]).T.astype(np.float64)\n",
    "sum_wt_model = [1, np.sum(1/(msdist**2)), np.sum(mss1400)]\n",
    "print(len(w_models))\n",
    "print(w_models.shape)"
   ]
  },
  {
   "cell_type": "code",
   "execution_count": 25,
   "metadata": {},
   "outputs": [
    {
     "name": "stdout",
     "output_type": "stream",
     "text": [
      "[0.00194301 0.02007772 0.0086552  0.00141309 0.00070655 0.00105982\n",
      " 0.00547574 0.00341498 0.00630005 0.00500471 0.00317946 0.0011187\n",
      " 0.03668158 0.01725153 0.00836081 0.00317946 0.02602449 0.00553462\n",
      " 0.03709374 0.05569948 0.00241404 0.00836081 0.02472916 0.07006594\n",
      " 0.04274611 0.0299105  0.05946773 0.01507301 0.03173575 0.00912624\n",
      " 0.01801696 0.01784032 0.01236458 0.03644607 0.01937117 0.00965615\n",
      " 0.01095148 0.01895902 0.01048045 0.00918512 0.04039096 0.0033561\n",
      " 0.0089496  0.00264955 0.00465144 0.00141309 0.00264955 0.00794866\n",
      " 0.01460198 0.00423928 0.00376825 0.00129534 0.01101036 0.00235516\n",
      " 0.00665332 0.00247292 0.00953839 0.00494583 0.00158973 0.00088318\n",
      " 0.00329722 0.00270843 0.02313943 0.00206076 0.01348328 0.00294395\n",
      " 0.00947951 0.00047103 0.01507301 0.00270843 0.00812529 0.01000942\n",
      " 0.02802638 0.02608337 0.01195243 0.01891314 0.01437399 0.00680873\n",
      " 0.04993069 0.00378263 0.00151305 0.01891314 0.00453915 0.01286094\n",
      " 0.0060522  0.00998614 0.00907831 0.00453915 0.01815661 0.00529568\n",
      " 0.00136175 0.00378263 0.01134788 0.00189131 0.01513051 0.01286094\n",
      " 0.00529568 0.08321782 0.00151305 0.00151305 0.00226958 0.05673942\n",
      " 0.00151305 0.22695768 0.07565256 0.00529568 0.00453915 0.00264784\n",
      " 0.00983483 0.01210441 0.01210441 0.00121044 0.01059136 0.00907831\n",
      " 0.00832178 0.00756526 0.00098348 0.01286094 0.0060522  0.00098348\n",
      " 0.00151305 0.00113479 0.00226958 0.00226958 0.00226958 0.00226958\n",
      " 0.00136175 0.01052632 0.01052632 0.00098348 0.00151305 0.00983483\n",
      " 0.00355567 0.00529568 0.00075653 0.00022696 0.01286094 0.01052632\n",
      " 0.00151305 0.00060522 0.00068087 0.00030261 0.01052632 0.01052632\n",
      " 0.00189131 0.0030261  0.00105914 0.00151305 0.0030261  0.00049174\n",
      " 0.00113479 0.00045392 0.00075653 0.00136175 0.01052632 0.00113479\n",
      " 0.00075653 0.01052632 0.00052957 0.0030261  0.01052632 0.00037826\n",
      " 0.00045392 0.01052632 0.00052957 0.00045392 0.01052632 0.01052632\n",
      " 0.01052632 0.01052632]\n",
      "['all_Bi.pkl', '.DS_Store', 'ns_all_ws_1000000_bins.pkl', 'all_TSS_1000000_bins.pkl', 'wt_acc_1000000_bins.pkl', 'all_Si_ws_g_s_1000000_bins.pkl']\n"
     ]
    }
   ],
   "source": [
    "\n",
    "\n",
    "print(w_models[-1])\n",
    "altier_path = [os.getcwd() + '/pickle1/', os.getcwd() + '/../pickle1/']\n",
    "print(os.listdir(altier_path[0]))"
   ]
  },
  {
   "cell_type": "code",
   "execution_count": 26,
   "metadata": {},
   "outputs": [
    {
     "name": "stdout",
     "output_type": "stream",
     "text": [
      "Loading wt_acc from pickle\n",
      "Loaded wt_acc from pickle with nbins=  1000000\n"
     ]
    }
   ],
   "source": [
    "altier_path = [os.getcwd() + '/pickle1/', os.getcwd() + '/../pickle1/']\n",
    "if f'wt_acc_{len(enus)}_bins.pkl' in os.listdir(altier_path[0]):# or f'wt_acc.pkl_{len(enus)}' in os.listdir(altier_path[1]):\n",
    "    print(\"Loading wt_acc from pickle\")\n",
    "    # try:\n",
    "    #     wt_acc = pickle.load(altier_path[1] + f'wt_acc.pkl_{len(enus)//2}_bins')\n",
    "    # except:\n",
    "    with open(altier_path[0] + f'wt_acc_{len(enus)}_bins.pkl', 'rb') as f:\n",
    "        wt_acc = pickle.load(f)\n",
    "    \n",
    "    \n",
    "    print(\"Loaded wt_acc from pickle with nbins= \", len(enus))\n",
    "\n",
    "else:\n",
    "    print(\"Calculating wt_acc for all pulsars and seasons and gamma\")\n",
    "    wt_acc = []\n",
    "    for gamma in prange(len(gamma_arr)):\n",
    "        wt_allpsr = []\n",
    "        for season in tqdm(prange(10)):\n",
    "            # tmp = []\n",
    "            # for psrno in prange(p):\n",
    "                # w_model = w_models[psrno]\n",
    "                # tmp.append(psr_wt_sing_gamma(psrno, gamma_arr[gamma], season))\n",
    "                # tmp.append(trapz_numba(psr_wt_sing_e_gamma(psrno, enus, gamma_arr[gamma], season), enus))\n",
    "\n",
    "            wt_allpsr.append(np.array(psr_wt_sing_gamma(prange(len(gammaraysrc1ra)), gamma_arr[gamma], season), dtype=np.float64))\n",
    "            # tmp = []\n",
    "        wt_acc.append(wt_allpsr)\n",
    "        wt_allpsr = []\n",
    "        \n",
    "    wt_acc = np.asfarray(wt_acc, dtype=np.float64)\n",
    "    print\n",
    "    with open(altier_path[0] + f'wt_acc_{len(enus)}_bins.pkl', 'wb') as f:\n",
    "        pickle.dump(wt_acc, f)\n",
    "    print(\"Calculated wt_acc for all gamma-ray sources and seasons and gamma\")"
   ]
  },
  {
   "cell_type": "code",
   "execution_count": 28,
   "metadata": {},
   "outputs": [
    {
     "name": "stdout",
     "output_type": "stream",
     "text": [
      "(5, 10, 170)\n"
     ]
    }
   ],
   "source": [
    "print(wt_acc.shape)"
   ]
  },
  {
   "cell_type": "code",
   "execution_count": 29,
   "metadata": {},
   "outputs": [
    {
     "name": "stdout",
     "output_type": "stream",
     "text": [
      "[ 36900 107011  93133 136244 112858 122541 127045 129311 123657 145750]\n"
     ]
    }
   ],
   "source": [
    "season_walls = np.asarray([0, 36900, 143911, 237044, 373288, 486146, 608687, 735732, 865043, 988700, 1134450])\n",
    "season_widts= np.diff(season_walls)\n",
    "print (season_widts)"
   ]
  },
  {
   "cell_type": "code",
   "execution_count": 30,
   "metadata": {},
   "outputs": [],
   "source": [
    "#Compute the signal PDF for all neutrinos as per eqns 6, 7 and weights as per eqn 8 of 2205.15963\n",
    "\n",
    "@njit(nogil=True)\n",
    "def S_ijk(nu): \n",
    "\n",
    "    '''\n",
    "    Calculates S_ij as in EQN 7 of 2205.15963\n",
    "    ----------\n",
    "\n",
    "    Parameters\n",
    "    ----------\n",
    "    nu : int\n",
    "        Index of the neutrino in the sample\n",
    "        \n",
    "    \n",
    "    Returns\n",
    "    -------\n",
    "        Returns the signal PDF for the {psrno}th pulsar and nuind_inp neutrino\n",
    "    '''\n",
    "    ang2 = hvovec(gammaraysrc1ra, gammaraysrc1dec, icra[nu], icdec[nu], rad=True) ** 2      #rad**2\n",
    "    sg = np.deg2rad(icang[nu]) ** 2                                     #rad**2\n",
    "    return np.divide(np.exp(-1 * np.divide(ang2, 2*sg)), (2 * np.pi * sg))      #1/rad**2\n",
    "\n",
    "\n",
    "@njit(nogil=True)\n",
    "def S_ik(nu, weight, w_models, gamma_index, ws):\n",
    "\n",
    "    '''\n",
    "    \n",
    "    Calculates S_i as in EQN 8 of 2205.15963\n",
    "    ----------\n",
    "\n",
    "    Parameters\n",
    "    ----------\n",
    "    nu : int\n",
    "        Index of the neutrino in the sample\n",
    "\n",
    "    normalized_wt : array\n",
    "        Normalized weights of the pulsars\n",
    "\n",
    "\n",
    "    gamma_index : int\n",
    "        Index of the gamma value in the gamma array\n",
    "\n",
    "    ws : int\n",
    "        Index of the weight model\n",
    "\n",
    "    Returns\n",
    "    -------\n",
    "        Returns the signal PDF for the {psrno}th pulsar and nuind_inp neutrino\n",
    "\n",
    "    '''\n",
    "\n",
    "    # si_sing_season_g =\n",
    "    # for i in prange(p):\n",
    "        # sij = S_ijk(nu)\n",
    "        # np.sum(np.multiply(sij, normalized_wt[i][gamma_index][season]))      #1/rad**2\n",
    "\n",
    "\n",
    "\n",
    "    sij = S_ijk(nu)\n",
    "    season = 0\n",
    "    for i in range(10):\n",
    "        if season_walls[i] <= nu and nu < season_walls[i+1]:\n",
    "            season = i\n",
    "            break\n",
    "\n",
    "    return np.sum(np.multiply(sij, np.multiply(w_models[ws], weight[gamma_index][season])/np.sum(np.multiply(w_models[ws], weight[gamma_index][season]))))  #1/rad**2\n",
    "    print(weight[gamma_index][season])"
   ]
  },
  {
   "cell_type": "code",
   "execution_count": 26,
   "metadata": {},
   "outputs": [
    {
     "data": {
      "text/plain": [
       "1.0351886644377344e-114"
      ]
     },
     "execution_count": 26,
     "metadata": {},
     "output_type": "execute_result"
    }
   ],
   "source": [
    "S_ik(10000, wt_acc, w_models, 4, 0)"
   ]
  },
  {
   "cell_type": "code",
   "execution_count": 31,
   "metadata": {},
   "outputs": [],
   "source": [
    "@njit(parallel=True, nogil=True)\n",
    "def Sik_sing_s_g(gamma_index, ws):#, wt_acc=wt_acc, w_models=w_models):\n",
    "    '''\n",
    "    Calculates S_i as in EQN 8 of 2205.15963\n",
    "    ----------\n",
    "\n",
    "    Parameters\n",
    "    ----------\n",
    "    weight : array\n",
    "         weights of the pulsars\n",
    "\n",
    "    season : int\n",
    "        Season of the neutrino\n",
    "\n",
    "    gamma_index : int\n",
    "        Index of the gamma value in the gamma array\n",
    "\n",
    "    ws : int\n",
    "        Index of the weight model\n",
    "\n",
    "    Returns\n",
    "    -------\n",
    "        Returns the signal PDF for the {psrno}th pulsar and nuind_inp neutrino\n",
    "    '''\n",
    "\n",
    "\n",
    "\n",
    "    tmp = []\n",
    "    if ws == -1: #No weights\n",
    "        for nu in prange(len(icra)):\n",
    "            tmp.append(np.sum(S_ijk(nu)))\n",
    "        return np.array(tmp, dtype=np.float64)\n",
    "\n",
    "    for nu in prange(len(icra)):\n",
    "        tmp.append(S_ik(nu, wt_acc, w_models, gamma_index, ws))\n",
    "    return np.array(tmp, dtype=np.float64)"
   ]
  },
  {
   "cell_type": "code",
   "execution_count": 101,
   "metadata": {},
   "outputs": [
    {
     "name": "stderr",
     "output_type": "stream",
     "text": [
      " 20%|███████▊                               | 1/5 [00:03<00:13,  3.49s/it]"
     ]
    },
    {
     "name": "stdout",
     "output_type": "stream",
     "text": [
      "[2.48290754e-224 2.46707761e-169 1.22828308e+001 ... 7.12334119e-002\n",
      " 0.00000000e+000 0.00000000e+000]\n"
     ]
    },
    {
     "name": "stderr",
     "output_type": "stream",
     "text": [
      " 40%|███████████████▌                       | 2/5 [00:04<00:06,  2.19s/it]"
     ]
    },
    {
     "name": "stdout",
     "output_type": "stream",
     "text": [
      "[2.33190125e-224 3.67615260e-170 1.06719110e+001 ... 9.58234882e-002\n",
      " 0.00000000e+000 0.00000000e+000]\n"
     ]
    },
    {
     "name": "stderr",
     "output_type": "stream",
     "text": [
      " 60%|███████████████████████▍               | 3/5 [00:06<00:03,  1.77s/it]"
     ]
    },
    {
     "name": "stdout",
     "output_type": "stream",
     "text": [
      "[2.03534006e-224 5.49160212e-171 9.09041106e+000 ... 1.03703785e-001\n",
      " 0.00000000e+000 0.00000000e+000]\n"
     ]
    },
    {
     "name": "stderr",
     "output_type": "stream",
     "text": [
      " 80%|███████████████████████████████▏       | 4/5 [00:07<00:01,  1.56s/it]"
     ]
    },
    {
     "name": "stdout",
     "output_type": "stream",
     "text": [
      "[8.58594417e-228 8.95507830e-169 1.42680351e-002 ... 3.52187474e-006\n",
      " 0.00000000e+000 0.00000000e+000]\n"
     ]
    },
    {
     "name": "stderr",
     "output_type": "stream",
     "text": [
      "100%|███████████████████████████████████████| 5/5 [00:08<00:00,  1.71s/it]"
     ]
    },
    {
     "name": "stdout",
     "output_type": "stream",
     "text": [
      "[1.00558481e-224 7.64391739e-169 4.75096553e+000 ...             nan\n",
      "             nan             nan]\n"
     ]
    },
    {
     "name": "stderr",
     "output_type": "stream",
     "text": [
      "\n"
     ]
    }
   ],
   "source": [
    "for gamma_index in tqdm(prange(5)):\n",
    "    print(Sik_sing_s_g(gamma_index, 0))"
   ]
  },
  {
   "cell_type": "code",
   "execution_count": 32,
   "metadata": {},
   "outputs": [
    {
     "name": "stdout",
     "output_type": "stream",
     "text": [
      "Loading all_Si_ws_g_s from pickle\n",
      "Loaded all_Si_ws_g_s from pickle with nbins = 1000000\n"
     ]
    }
   ],
   "source": [
    "#Pickle\n",
    "if os.path.isfile(altier_path[0] + f'all_Si_ws_g_s_{len(enus)}_bins.pkl'):\n",
    "    print(\"Loading all_Si_ws_g_s from pickle\")\n",
    "    with open(altier_path[0] + f'all_Si_ws_g_s_{len(enus)}_bins.pkl', 'rb') as f:\n",
    "        all_Si_ws_g_s = pickle.load(f)\n",
    "    print(\"Loaded all_Si_ws_g_s from pickle with nbins =\", len(enus))\n",
    "else:\n",
    "\n",
    "\n",
    "    print(\"\\nCalculating S_i for all neutrinos and gammas and weighting schemes...\\n\")\n",
    "\n",
    "    all_Si_ws_g_s = []\n",
    "    #tmp = []\n",
    "    tmp_wt_acc_uniform = []\n",
    "    tmp_wt_acc_w_flux = []\n",
    "    #tmp_wt_acc_w_s1400 = []\n",
    "\n",
    "    for gamma_index in tqdm(prange(len(gamma_arr))):\n",
    "        # for season in tqdm(prange(10)):\n",
    "        #tmp.append(Sik_sing_s_g(gamma_index, -1))\n",
    "        tmp_wt_acc_uniform.append(Sik_sing_s_g(gamma_index, 0))\n",
    "        tmp_wt_acc_w_flux.append(Sik_sing_s_g(gamma_index, 1))\n",
    "        #tmp_wt_acc_w_s1400.append(Sik_sing_s_g(gamma_index, 2))\n",
    "\n",
    "\n",
    "    all_Si_ws_g_s.append([tmp_wt_acc_uniform, tmp_wt_acc_w_flux])\n",
    "    #tmp = []\n",
    "    tmp_wt_acc_uniform = []\n",
    "    tmp_wt_acc_w_flux = []\n",
    "    #tmp_wt_acc_w_s1400 = []\n",
    "    all_Si_ws_g_s = np.asfarray(all_Si_ws_g_s[0])\n",
    "\n",
    "    print(\"Calculated S_i for all neutrinos and gammas and weighting schemes\")\n",
    "    #Save to pickle\n",
    "    with open(altier_path[0] + f'all_Si_ws_g_s_{len(enus)}_bins.pkl', 'wb') as f:\n",
    "        pickle.dump(all_Si_ws_g_s, f)\n",
    "\n",
    "\n"
   ]
  },
  {
   "cell_type": "code",
   "execution_count": 33,
   "metadata": {},
   "outputs": [
    {
     "data": {
      "text/plain": [
       "array([[[2.48291269e-224, 2.46707793e-169, 1.22828308e+001, ...,\n",
       "         7.12334119e-002, 0.00000000e+000, 0.00000000e+000],\n",
       "        [2.41028695e-224, 6.05453639e-170, 1.11957594e+001, ...,\n",
       "         9.20742889e-002, 0.00000000e+000, 0.00000000e+000],\n",
       "        [2.33190609e-224, 3.67615307e-170, 1.06719110e+001, ...,\n",
       "         9.58234882e-002, 0.00000000e+000, 0.00000000e+000],\n",
       "        [2.03534429e-224, 5.49160283e-171, 9.09041106e+000, ...,\n",
       "         1.03703785e-001, 0.00000000e+000, 0.00000000e+000],\n",
       "        [1.83394086e-224, 6.72792858e-172, 8.26729593e+000, ...,\n",
       "         1.07755848e-001, 0.00000000e+000, 0.00000000e+000]],\n",
       "\n",
       "       [[3.15004089e-225, 2.17751110e-169, 3.27456308e+000, ...,\n",
       "         8.87413536e-002, 0.00000000e+000, 0.00000000e+000],\n",
       "        [2.98409307e-225, 5.21491547e-170, 2.91271049e+000, ...,\n",
       "         1.13162781e-001, 0.00000000e+000, 0.00000000e+000],\n",
       "        [2.86860138e-225, 3.14612155e-170, 2.75868104e+000, ...,\n",
       "         1.17398697e-001, 0.00000000e+000, 0.00000000e+000],\n",
       "        [2.47220699e-225, 4.64054333e-171, 2.32022776e+000, ...,\n",
       "         1.26034044e-001, 0.00000000e+000, 0.00000000e+000],\n",
       "        [2.23368544e-225, 5.70086586e-172, 2.11592523e+000, ...,\n",
       "         1.30316825e-001, 0.00000000e+000, 0.00000000e+000]]])"
      ]
     },
     "execution_count": 33,
     "metadata": {},
     "output_type": "execute_result"
    }
   ],
   "source": [
    "all_Si_ws_g_s"
   ]
  },
  {
   "cell_type": "code",
   "execution_count": 34,
   "metadata": {},
   "outputs": [],
   "source": [
    "# @jit(nopython=True)\n",
    "@vectorize(['float64(int64, int64)'], nopython=True,target='parallel')\n",
    "def Bi_stacked_compute(nu, cone=5):\n",
    "\n",
    "    '''\n",
    "    Calculates B_i as in EQN 9 of 2205.15963\n",
    "    ----------\n",
    "\n",
    "    Parameters\n",
    "    ----------\n",
    "    nu : int\n",
    "        Index of the neutrino from IceCube sample\n",
    "    cone : float\n",
    "        Cone angle in degrees.\n",
    "    \n",
    "\n",
    "    Returns\n",
    "    -------\n",
    "    float\n",
    "        Returns the background PDF for the {nu}th neutrino\n",
    "    '''\n",
    "\n",
    "    # count = np.sum(np.abs(np.subtract(icdec, icdec[nu])) <= cone)\n",
    "    count=0\n",
    "    for i in prange(len(icdec)):\n",
    "        if abs(icdec[i] - icdec[nu]) <= cone:\n",
    "            count+=1\n",
    "    binwidth = (np.sin(np.deg2rad(icdec[nu] + cone)) - np.sin(np.deg2rad(icdec[nu] - cone)))*2*np.pi\n",
    "    return count/(binwidth * N_ic)           #No units or sr**-1"
   ]
  },
  {
   "cell_type": "code",
   "execution_count": 35,
   "metadata": {},
   "outputs": [
    {
     "name": "stdout",
     "output_type": "stream",
     "text": [
      "Loading all_Bi from pickle...\n",
      "Loaded all_Bi from pickle\n"
     ]
    }
   ],
   "source": [
    "#Pickle\n",
    "if os.path.isfile(altier_path[0] + f'all_Bi.pkl'):\n",
    "    print(\"Loading all_Bi from pickle...\")\n",
    "    with open(altier_path[0] + f'all_Bi.pkl', 'rb') as f:\n",
    "        all_Bi = pickle.load(f)\n",
    "    print(\"Loaded all_Bi from pickle\")\n",
    "else:\n",
    "    print(\"\\nCalculating Bi for all neutrinos\\n\")\n",
    "    all_Bi = Bi_stacked_compute(np.arange(lnu), 5)\n",
    "    # all_Bi+=1e-90\n",
    "    print(\"\\nCalculated Bi for all neutrinos\")\n",
    "    #Save to pickle\n",
    "    with open(altier_path[0] + f'all_Bi.pkl', 'wb') as f:\n",
    "        pickle.dump(all_Bi, f)"
   ]
  },
  {
   "attachments": {},
   "cell_type": "markdown",
   "metadata": {},
   "source": [
    " '''\n",
    "    This function returns the number of signal events for a single pulsar as in EQN3 of 2205.15963\n",
    "    -------------------\n",
    "\n",
    "    Parameters\n",
    "    ----------\n",
    "    dec : float\n",
    "        The declination of the pulsar in radians\n",
    "    \n",
    "    enu : float\n",
    "        The neutrino energy in eV\n",
    "\n",
    "    gamma : float\n",
    "        The spectral index of the neutrino flux\n",
    "\n",
    "    phi0 : float (optional)\n",
    "        The normalization constant of the neutrino flux\n",
    "\n",
    "    season : int (optional)\n",
    "        The IceCube season number\n",
    "    \n",
    "    Returns\n",
    "    -------\n",
    "    float\n",
    "        The number of signal events for the given parameters\n",
    "    '''\n"
   ]
  },
  {
   "cell_type": "code",
   "execution_count": 36,
   "metadata": {},
   "outputs": [
    {
     "name": "stdout",
     "output_type": "stream",
     "text": [
      "1134450\n"
     ]
    }
   ],
   "source": [
    "# type(msdec_bin_indices[0])\n",
    "print (len(all_Bi))"
   ]
  },
  {
   "cell_type": "code",
   "execution_count": 37,
   "metadata": {},
   "outputs": [],
   "source": [
    "arr = np.zeros(10, dtype=np.float64)"
   ]
  },
  {
   "cell_type": "code",
   "execution_count": 38,
   "metadata": {},
   "outputs": [
    {
     "data": {
      "text/plain": [
       "array([35318439.34329611, 32497618.3151043 , 29902901.99932829,\n",
       "       31745765.00015999, 32053797.00057632, 33098838.99984006,\n",
       "       34788962.99980783, 33936928.00012794, 31302372.99945645,\n",
       "       36107635.00003202])"
      ]
     },
     "execution_count": 38,
     "metadata": {},
     "output_type": "execute_result"
    }
   ],
   "source": [
    "t_upt"
   ]
  },
  {
   "cell_type": "code",
   "execution_count": 39,
   "metadata": {},
   "outputs": [],
   "source": [
    "#generates ns^ for a single pulsar a single season and a single energy\n",
    "\n",
    "\n",
    "# @vectorize(['float64(int64, float64, int64)'], nopython=True, target='parallel')\n",
    "# def psr_wt_sing_gamma(psrno,gamma, season):\n",
    "\n",
    "#     tt_upt = t_upt[season]\n",
    "#     l = msdec_bin_indices[psrno]\n",
    "#     wt_ac_temp = np.zeros(len(enus), dtype=np.float64)\n",
    "#     for i in prange(len(enus)):\n",
    "#         wt_ac_temp[i] = np.float64(tt_upt * earea[ea_season(season)][l*40 + enus_bin_indices[i]] * enus[i]**gamma)\n",
    "\n",
    "\n",
    "#     return np.trapz(wt_ac_temp, enus)\n",
    "# @njit\n",
    "# @vectorize(['float64(float64, float64, float64, int64)'], target='parallel')\n",
    "@vectorize(['float64(int64, float64, float64, int64)'], nopython=True, target='parallel')\n",
    "def ns_singleseason_sing_psr_HAT(psrno,gamma, phi0, season):\n",
    "   \n",
    "\n",
    "    tt_upt = t_upt[season]\n",
    "    # if enu <= 1e11 or enu >= 1e19:\n",
    "    #     return 0.0\n",
    "    # else:\n",
    "        # k=0\n",
    "    l = ladec_bin_indices[psrno]\n",
    "        # for i in range(0, len(e_nu_wall)):\n",
    "        #     if e_nu_wall[i] <= enu and e_nu_wall[i+1] > enu:\n",
    "        #         k=i\n",
    "        #         break\n",
    "\n",
    "        # for j in range(0, len(dec_nu)):\n",
    "        #     if dec_nu[j] <= dec and dec_nu[j+1] > dec:\n",
    "        #         l=j\n",
    "        #         break\n",
    "    ns_temp = np.zeros(len(enus), dtype=np.float64)\n",
    "    for i in prange(len(enus)):\n",
    "        ns_temp[i] += np.float64(tt_upt * earea[ea_season(season)][l*40 + enus_bin_indices[i]] * phi0 * (enus[i]/(10**14))**gamma)\n",
    "    # temp_ea = np.asarray(earea[ea_season(season)])[l*40 + k]\n",
    "    # return tt_upt * temp_ea * phi0 * ((enu/(10**14))**gamma)     #in s cm2 eV\n",
    "\n",
    "    return np.trapz(ns_temp, enus)     #in s cm2 eV\n"
   ]
  },
  {
   "cell_type": "code",
   "execution_count": 218,
   "metadata": {},
   "outputs": [],
   "source": [
    "# def ns_HAT_all_season_all_psr_sing_gamma_wt_wtht_weights(gamma, e_nus=enus, phi0=1):\n",
    "#     # ns_hat = 0\n",
    "#     ns_hat_wt = 0\n",
    "#     # ns_hat_wt_dist = 0\n",
    "#     # ns_hat_wt_s1400 = 0\n",
    "#     for season in tqdm(prange(10)):\n",
    "#         # for psr in prange(p):\n",
    "#             # wt = all_weights[0][gamma_arr.index(gamma)][psr][ea_season(season)]\n",
    "#         wt_sum = np.sum(wt_acc[gamma_arr.index(gamma)][season])\n",
    "\n",
    "#         wt = wt_acc[gamma_arr.index(gamma)][season]\n",
    "#         ns_hat = ns_singleseason_sing_psr_HAT(prange(len(gammaraysrc1ra\n",
    "#                                                         )), gamma, phi0, season)\n",
    "#         # ns_hat_wt += np.dot(wt, nsop)\n",
    "#         # ns_hat_wt_dist += np.dot(wt/msdist[prange(p)]**2, nsop)\n",
    "#             # nsop = ns_singleseason_sing_psr_HAT(msdec[psr], e_nus, gamma, phi0, season)\n",
    "            \n",
    "#             # ns_hat += np.trapz(nsop, x=e_nus)\n",
    "        \n",
    "#     #         ns_hat_wt += wt * np.trapz(nsop, x=e_nus)\n",
    "#     #         ns_hat_wt_dist += wt * np.trapz(nsop, x=e_nus) / (msdist[psr]**2)\n",
    "#     #         ns_hat_wt_s1400 += wt * np.trapz(nsop, x=e_nus) * mss1400[psr]\n",
    "#     # return np.array([ns_hat, ns_hat_wt, ns_hat_wt_dist, ns_hat_wt_s1400], dtype=np.float64)\n",
    "\n",
    "#         ns_hat_wt += np.dot((wt/wt_sum),  ns_hat)\n",
    "#         # ns_hat_wt_dist += np.dot(wt * w_models[1]/ np.sum(np.multiply(wt_acc[gamma_arr.index(gamma)][season], w_models[1])) , ns_hat)\n",
    "#         # ns_hat_wt_s1400 += np.dot(wt * w_models[2]/ np.sum(np.multiply(wt_acc[gamma_arr.index(gamma)][season], w_models[2])), ns_hat)\n",
    "#     return np.array([ns_hat_wt], dtype=np.float64)"
   ]
  },
  {
   "cell_type": "code",
   "execution_count": 40,
   "metadata": {},
   "outputs": [],
   "source": [
    "def ns_HAT_all_season_all_psr_sing_gamma_wt_wtht_weights(gamma, e_nus=enus, phi0=1):\n",
    "    # ns_hat = 0\n",
    "    ns_hat_wt_uniform = 0\n",
    "    ns_hat_wt_fnu = 0\n",
    "    # ns_hat_wt_s1400 = 0\n",
    "    for season in tqdm(prange(10)):\n",
    "        wt_sum = np.sum(wt_acc[gamma_arr.index(gamma)][season])\n",
    "        wt = wt_acc[gamma_arr.index(gamma)][season]\n",
    "        ns_hat = ns_singleseason_sing_psr_HAT(prange(len(gammaraysrc1ra\n",
    "                                                        )), gamma, phi0, season)\n",
    "        # ns_hat_wt += np.dot((wt/wt_sum),  ns_hat)\n",
    "        # ns_hat_wt_fnu=np.dot(wt * w_models[1]/ np.sum(np.multiply(wt_acc[gamma_arr.index(gamma)][season], w_models[1])) , ns_hat)\n",
    "        # ns_hat_wt_uniform += np.dot(w_models[0]/ np.sum(w_models[0]) , ns_hat)\n",
    "        # ns_hat_wt_fnu += np.dot(wt*w_models[1]/ np.sum(w_models[1]), ns_hat)\n",
    "        ns_hat_wt_uniform += np.dot(wt * w_models[0]/ np.sum(np.multiply(wt_acc[gamma_arr.index(gamma)][season], w_models[0])) , ns_hat)\n",
    "        ns_hat_wt_fnu += np.dot(wt * w_models[1]/ np.sum(np.multiply(wt_acc[gamma_arr.index(gamma)][season], w_models[1])), ns_hat)\n",
    "\n",
    "    return np.array([ns_hat_wt_uniform, ns_hat_wt_fnu], dtype=np.float64)"
   ]
  },
  {
   "cell_type": "code",
   "execution_count": 41,
   "metadata": {},
   "outputs": [
    {
     "name": "stdout",
     "output_type": "stream",
     "text": [
      "Loading ns_hat from pickle...\n",
      "Loaded ns_hat from pickle with nbins = 1000000\n"
     ]
    }
   ],
   "source": [
    "#Pickle\n",
    "arr = []\n",
    "if os.path.isfile(altier_path[0] + f'ns_all_ws_{len(enus)}_bins.pkl'):\n",
    "    print(\"Loading ns_hat from pickle...\")\n",
    "    with open(altier_path[0] + f'ns_all_ws_{len(enus)}_bins.pkl', 'rb') as f:\n",
    "        arr = pickle.load(f)\n",
    "    print(\"Loaded ns_hat from pickle with nbins =\", len(enus))\n",
    "else:\n",
    "    print(\"\\nCalculating ns_HAT for all gamma and weighting schemes...\\n\")\n",
    "\n",
    "    arr=[]\n",
    "    for gamma in prange(len(gamma_arr)):\n",
    "        tmp = ns_HAT_all_season_all_psr_sing_gamma_wt_wtht_weights(gamma_arr[gamma])\n",
    "        np.savetxt('outputs2/ns_hat_wt_wt_gamma_{}.txt'.format(gamma_arr[gamma]), tmp)\n",
    "        arr.append(tmp)\n",
    "        tmp = []\n",
    "\n",
    "    arr = np.array(arr, dtype=np.float64)\n",
    "    with open(altier_path[0] + f'ns_all_ws_{len(enus)}_bins.pkl', 'wb') as f:\n",
    "        pickle.dump(arr, f)\n",
    "    print(\"\\nCalculationed ns_HAT for all gamma and weighting schemes\")"
   ]
  },
  {
   "cell_type": "code",
   "execution_count": 61,
   "metadata": {},
   "outputs": [
    {
     "data": {
      "text/plain": [
       "array([[1.57883957e+29, 1.51310831e+29],\n",
       "       [3.29102511e+29, 3.24576346e+29],\n",
       "       [4.77130065e+29, 4.73595375e+29],\n",
       "       [2.72854276e+30, 2.74702356e+30],\n",
       "       [2.89298020e+31, 2.93352987e+31]])"
      ]
     },
     "execution_count": 61,
     "metadata": {},
     "output_type": "execute_result"
    }
   ],
   "source": [
    "arr"
   ]
  },
  {
   "cell_type": "code",
   "execution_count": 42,
   "metadata": {},
   "outputs": [],
   "source": [
    "@njit(parallel=True, nogil=True)\n",
    "def season_nu(nu):\n",
    "    for i in prange(10):\n",
    "        if nu >= season_walls[i] and nu < season_walls[i+1]:\n",
    "            return i"
   ]
  },
  {
   "attachments": {},
   "cell_type": "markdown",
   "metadata": {},
   "source": [
    "t2mp = all_Si_ws_g_s[0][0]\n",
    "nsa = 50\n",
    "@njit(nogil=True)\n",
    "def TS_for_all_psrs2(nsa):  \n",
    "    return Ts_arr2(nsa, t2mp, all_Bi, Ns) "
   ]
  },
  {
   "attachments": {},
   "cell_type": "markdown",
   "metadata": {},
   "source": [
    "TS_for_all_psrs2(nsa)"
   ]
  },
  {
   "cell_type": "code",
   "execution_count": 43,
   "metadata": {},
   "outputs": [],
   "source": [
    "@jit(nopython=True)\n",
    "def Pr(x, Ns, S, B):\n",
    "    nsN = x/Ns\n",
    "    return np.add(np.multiply(nsN , S), np.multiply(np.subtract(1, nsN), B))\n",
    "\n",
    "\n",
    "\n",
    "@njit(nogil=True)\n",
    "def TS_st_vec(x, S, B, Ns):\n",
    "    nsN = x/Ns\n",
    "    pr = np.add(np.multiply(nsN , S), np.multiply(np.subtract(1, nsN), B))\n",
    "    return np.sum(np.asfarray(2*np.log(pr/B)))\n",
    "\n",
    "lnu = 1134450\n",
    "Ns = lnu#np.count_nonzero(nuind+1)\n"
   ]
  },
  {
   "attachments": {},
   "cell_type": "markdown",
   "metadata": {},
   "source": [
    "TS_st_vec(0.5e6, all_Si_ws_g_s[0][0], all_Bi, Ns)"
   ]
  },
  {
   "cell_type": "code",
   "execution_count": 44,
   "metadata": {},
   "outputs": [
    {
     "name": "stdout",
     "output_type": "stream",
     "text": [
      "[1.00000000e-38 1.04236067e-38 1.08651577e-38 1.13254132e-38\n",
      " 1.18051653e-38 1.23052400e-38 1.28264983e-38 1.33698374e-38\n",
      " 1.39361927e-38 1.45265393e-38 1.51418933e-38 1.57833141e-38\n",
      " 1.64519059e-38 1.71488197e-38 1.78752553e-38 1.86324631e-38\n",
      " 1.94217468e-38 2.02444651e-38 2.11020343e-38 2.19959307e-38\n",
      " 2.29276931e-38 2.38989257e-38 2.49113003e-38 2.59665597e-38\n",
      " 2.70665207e-38 2.82130768e-38 2.94082017e-38 3.06539530e-38\n",
      " 3.19524751e-38 3.33060034e-38 3.47168682e-38 3.61874981e-38\n",
      " 3.77204249e-38 3.93182876e-38 4.09838367e-38 4.27199397e-38\n",
      " 4.45295851e-38 4.64158883e-38 4.83820966e-38 5.04315949e-38\n",
      " 5.25679112e-38 5.47947234e-38 5.71158648e-38 5.95353313e-38\n",
      " 6.20572881e-38 6.46860766e-38 6.74262224e-38 7.02824426e-38\n",
      " 7.32596543e-38 7.63629826e-38 7.95977700e-38 8.29695852e-38\n",
      " 8.64842328e-38 9.01477631e-38 9.39664831e-38 9.79469667e-38\n",
      " 1.02096066e-37 1.06420924e-37 1.10928986e-37 1.15628013e-37\n",
      " 1.20526094e-37 1.25631660e-37 1.30953502e-37 1.36500781e-37\n",
      " 1.42283046e-37 1.48310251e-37 1.54592774e-37 1.61141428e-37\n",
      " 1.67967487e-37 1.75082703e-37 1.82499324e-37 1.90230119e-37\n",
      " 1.98288395e-37 2.06688025e-37 2.15443469e-37 2.24569800e-37\n",
      " 2.34082728e-37 2.43998630e-37 2.54334576e-37 2.65108360e-37\n",
      " 2.76338529e-37 2.88044415e-37 3.00246171e-37 3.12964801e-37\n",
      " 3.26222201e-37 3.40041193e-37 3.54445567e-37 3.69460121e-37\n",
      " 3.85110700e-37 4.01424249e-37 4.18428851e-37 4.36153779e-37\n",
      " 4.54629547e-37 4.73887961e-37 4.93962174e-37 5.14886745e-37\n",
      " 5.36697695e-37 5.59432571e-37 5.83130511e-37 6.07832313e-37\n",
      " 6.33580499e-37 6.60419396e-37 6.88395207e-37 7.17556092e-37\n",
      " 7.47952252e-37 7.79636013e-37 8.12661920e-37 8.47086827e-37\n",
      " 8.82969996e-37 9.20373200e-37 9.59360829e-37 1.00000000e-36\n",
      " 1.04236067e-36 1.08651577e-36 1.13254132e-36 1.18051653e-36\n",
      " 1.23052400e-36 1.28264983e-36 1.33698374e-36 1.39361927e-36\n",
      " 1.45265393e-36 1.51418933e-36 1.57833141e-36 1.64519059e-36\n",
      " 1.71488197e-36 1.78752553e-36 1.86324631e-36 1.94217468e-36\n",
      " 2.02444651e-36 2.11020343e-36 2.19959307e-36 2.29276931e-36\n",
      " 2.38989257e-36 2.49113003e-36 2.59665597e-36 2.70665207e-36\n",
      " 2.82130768e-36 2.94082017e-36 3.06539530e-36 3.19524751e-36\n",
      " 3.33060034e-36 3.47168682e-36 3.61874981e-36 3.77204249e-36\n",
      " 3.93182876e-36 4.09838367e-36 4.27199397e-36 4.45295851e-36\n",
      " 4.64158883e-36 4.83820966e-36 5.04315949e-36 5.25679112e-36\n",
      " 5.47947234e-36 5.71158648e-36 5.95353313e-36 6.20572881e-36\n",
      " 6.46860766e-36 6.74262224e-36 7.02824426e-36 7.32596543e-36\n",
      " 7.63629826e-36 7.95977700e-36 8.29695852e-36 8.64842328e-36\n",
      " 9.01477631e-36 9.39664831e-36 9.79469667e-36 1.02096066e-35\n",
      " 1.06420924e-35 1.10928986e-35 1.15628013e-35 1.20526094e-35\n",
      " 1.25631660e-35 1.30953502e-35 1.36500781e-35 1.42283046e-35\n",
      " 1.48310251e-35 1.54592774e-35 1.61141428e-35 1.67967487e-35\n",
      " 1.75082703e-35 1.82499324e-35 1.90230119e-35 1.98288395e-35\n",
      " 2.06688025e-35 2.15443469e-35 2.24569800e-35 2.34082728e-35\n",
      " 2.43998630e-35 2.54334576e-35 2.65108360e-35 2.76338529e-35\n",
      " 2.88044415e-35 3.00246171e-35 3.12964801e-35 3.26222201e-35\n",
      " 3.40041193e-35 3.54445567e-35 3.69460121e-35 3.85110700e-35\n",
      " 4.01424249e-35 4.18428851e-35 4.36153779e-35 4.54629547e-35\n",
      " 4.73887961e-35 4.93962174e-35 5.14886745e-35 5.36697695e-35\n",
      " 5.59432571e-35 5.83130511e-35 6.07832313e-35 6.33580499e-35\n",
      " 6.60419396e-35 6.88395207e-35 7.17556092e-35 7.47952252e-35\n",
      " 7.79636013e-35 8.12661920e-35 8.47086827e-35 8.82969996e-35\n",
      " 9.20373200e-35 9.59360829e-35 1.00000000e-34 1.04236067e-34\n",
      " 1.08651577e-34 1.13254132e-34 1.18051653e-34 1.23052400e-34\n",
      " 1.28264983e-34 1.33698374e-34 1.39361927e-34 1.45265393e-34\n",
      " 1.51418933e-34 1.57833141e-34 1.64519059e-34 1.71488197e-34\n",
      " 1.78752553e-34 1.86324631e-34 1.94217468e-34 2.02444651e-34\n",
      " 2.11020343e-34 2.19959307e-34 2.29276931e-34 2.38989257e-34\n",
      " 2.49113003e-34 2.59665597e-34 2.70665207e-34 2.82130768e-34\n",
      " 2.94082017e-34 3.06539530e-34 3.19524751e-34 3.33060034e-34\n",
      " 3.47168682e-34 3.61874981e-34 3.77204249e-34 3.93182876e-34\n",
      " 4.09838367e-34 4.27199397e-34 4.45295851e-34 4.64158883e-34\n",
      " 4.83820966e-34 5.04315949e-34 5.25679112e-34 5.47947234e-34\n",
      " 5.71158648e-34 5.95353313e-34 6.20572881e-34 6.46860766e-34\n",
      " 6.74262224e-34 7.02824426e-34 7.32596543e-34 7.63629826e-34\n",
      " 7.95977700e-34 8.29695852e-34 8.64842328e-34 9.01477631e-34\n",
      " 9.39664831e-34 9.79469667e-34 1.02096066e-33 1.06420924e-33\n",
      " 1.10928986e-33 1.15628013e-33 1.20526094e-33 1.25631660e-33\n",
      " 1.30953502e-33 1.36500781e-33 1.42283046e-33 1.48310251e-33\n",
      " 1.54592774e-33 1.61141428e-33 1.67967487e-33 1.75082703e-33\n",
      " 1.82499324e-33 1.90230119e-33 1.98288395e-33 2.06688025e-33\n",
      " 2.15443469e-33 2.24569800e-33 2.34082728e-33 2.43998630e-33\n",
      " 2.54334576e-33 2.65108360e-33 2.76338529e-33 2.88044415e-33\n",
      " 3.00246171e-33 3.12964801e-33 3.26222201e-33 3.40041193e-33\n",
      " 3.54445567e-33 3.69460121e-33 3.85110700e-33 4.01424249e-33\n",
      " 4.18428851e-33 4.36153779e-33 4.54629547e-33 4.73887961e-33\n",
      " 4.93962174e-33 5.14886745e-33 5.36697695e-33 5.59432571e-33\n",
      " 5.83130511e-33 6.07832313e-33 6.33580499e-33 6.60419396e-33\n",
      " 6.88395207e-33 7.17556092e-33 7.47952252e-33 7.79636013e-33\n",
      " 8.12661920e-33 8.47086827e-33 8.82969996e-33 9.20373200e-33\n",
      " 9.59360829e-33 1.00000000e-32 1.04236067e-32 1.08651577e-32\n",
      " 1.13254132e-32 1.18051653e-32 1.23052400e-32 1.28264983e-32\n",
      " 1.33698374e-32 1.39361927e-32 1.45265393e-32 1.51418933e-32\n",
      " 1.57833141e-32 1.64519059e-32 1.71488197e-32 1.78752553e-32\n",
      " 1.86324631e-32 1.94217468e-32 2.02444651e-32 2.11020343e-32\n",
      " 2.19959307e-32 2.29276931e-32 2.38989257e-32 2.49113003e-32\n",
      " 2.59665597e-32 2.70665207e-32 2.82130768e-32 2.94082017e-32\n",
      " 3.06539530e-32 3.19524751e-32 3.33060034e-32 3.47168682e-32\n",
      " 3.61874981e-32 3.77204249e-32 3.93182876e-32 4.09838367e-32\n",
      " 4.27199397e-32 4.45295851e-32 4.64158883e-32 4.83820966e-32\n",
      " 5.04315949e-32 5.25679112e-32 5.47947234e-32 5.71158648e-32\n",
      " 5.95353313e-32 6.20572881e-32 6.46860766e-32 6.74262224e-32\n",
      " 7.02824426e-32 7.32596543e-32 7.63629826e-32 7.95977700e-32\n",
      " 8.29695852e-32 8.64842328e-32 9.01477631e-32 9.39664831e-32\n",
      " 9.79469667e-32 1.02096066e-31 1.06420924e-31 1.10928986e-31\n",
      " 1.15628013e-31 1.20526094e-31 1.25631660e-31 1.30953502e-31\n",
      " 1.36500781e-31 1.42283046e-31 1.48310251e-31 1.54592774e-31\n",
      " 1.61141428e-31 1.67967487e-31 1.75082703e-31 1.82499324e-31\n",
      " 1.90230119e-31 1.98288395e-31 2.06688025e-31 2.15443469e-31\n",
      " 2.24569800e-31 2.34082728e-31 2.43998630e-31 2.54334576e-31\n",
      " 2.65108360e-31 2.76338529e-31 2.88044415e-31 3.00246171e-31\n",
      " 3.12964801e-31 3.26222201e-31 3.40041193e-31 3.54445567e-31\n",
      " 3.69460121e-31 3.85110700e-31 4.01424249e-31 4.18428851e-31\n",
      " 4.36153779e-31 4.54629547e-31 4.73887961e-31 4.93962174e-31\n",
      " 5.14886745e-31 5.36697695e-31 5.59432571e-31 5.83130511e-31\n",
      " 6.07832313e-31 6.33580499e-31 6.60419396e-31 6.88395207e-31\n",
      " 7.17556092e-31 7.47952252e-31 7.79636013e-31 8.12661920e-31\n",
      " 8.47086827e-31 8.82969996e-31 9.20373200e-31 9.59360829e-31\n",
      " 1.00000000e-30 1.04236067e-30 1.08651577e-30 1.13254132e-30\n",
      " 1.18051653e-30 1.23052400e-30 1.28264983e-30 1.33698374e-30\n",
      " 1.39361927e-30 1.45265393e-30 1.51418933e-30 1.57833141e-30\n",
      " 1.64519059e-30 1.71488197e-30 1.78752553e-30 1.86324631e-30\n",
      " 1.94217468e-30 2.02444651e-30 2.11020343e-30 2.19959307e-30\n",
      " 2.29276931e-30 2.38989257e-30 2.49113003e-30 2.59665597e-30\n",
      " 2.70665207e-30 2.82130768e-30 2.94082017e-30 3.06539530e-30\n",
      " 3.19524751e-30 3.33060034e-30 3.47168682e-30 3.61874981e-30\n",
      " 3.77204249e-30 3.93182876e-30 4.09838367e-30 4.27199397e-30\n",
      " 4.45295851e-30 4.64158883e-30 4.83820966e-30 5.04315949e-30\n",
      " 5.25679112e-30 5.47947234e-30 5.71158648e-30 5.95353313e-30\n",
      " 6.20572881e-30 6.46860766e-30 6.74262224e-30 7.02824426e-30\n",
      " 7.32596543e-30 7.63629826e-30 7.95977700e-30 8.29695852e-30\n",
      " 8.64842328e-30 9.01477631e-30 9.39664831e-30 9.79469667e-30\n",
      " 1.02096066e-29 1.06420924e-29 1.10928986e-29 1.15628013e-29\n",
      " 1.20526094e-29 1.25631660e-29 1.30953502e-29 1.36500781e-29\n",
      " 1.42283046e-29 1.48310251e-29 1.54592774e-29 1.61141428e-29\n",
      " 1.67967487e-29 1.75082703e-29 1.82499324e-29 1.90230119e-29\n",
      " 1.98288395e-29 2.06688025e-29 2.15443469e-29 2.24569800e-29\n",
      " 2.34082728e-29 2.43998630e-29 2.54334576e-29 2.65108360e-29\n",
      " 2.76338529e-29 2.88044415e-29 3.00246171e-29 3.12964801e-29\n",
      " 3.26222201e-29 3.40041193e-29 3.54445567e-29 3.69460121e-29\n",
      " 3.85110700e-29 4.01424249e-29 4.18428851e-29 4.36153779e-29\n",
      " 4.54629547e-29 4.73887961e-29 4.93962174e-29 5.14886745e-29\n",
      " 5.36697695e-29 5.59432571e-29 5.83130511e-29 6.07832313e-29\n",
      " 6.33580499e-29 6.60419396e-29 6.88395207e-29 7.17556092e-29\n",
      " 7.47952252e-29 7.79636013e-29 8.12661920e-29 8.47086827e-29\n",
      " 8.82969996e-29 9.20373200e-29 9.59360829e-29 1.00000000e-28\n",
      " 1.04236067e-28 1.08651577e-28 1.13254132e-28 1.18051653e-28\n",
      " 1.23052400e-28 1.28264983e-28 1.33698374e-28 1.39361927e-28\n",
      " 1.45265393e-28 1.51418933e-28 1.57833141e-28 1.64519059e-28\n",
      " 1.71488197e-28 1.78752553e-28 1.86324631e-28 1.94217468e-28\n",
      " 2.02444651e-28 2.11020343e-28 2.19959307e-28 2.29276931e-28\n",
      " 2.38989257e-28 2.49113003e-28 2.59665597e-28 2.70665207e-28\n",
      " 2.82130768e-28 2.94082017e-28 3.06539530e-28 3.19524751e-28\n",
      " 3.33060034e-28 3.47168682e-28 3.61874981e-28 3.77204249e-28\n",
      " 3.93182876e-28 4.09838367e-28 4.27199397e-28 4.45295851e-28\n",
      " 4.64158883e-28 4.83820966e-28 5.04315949e-28 5.25679112e-28\n",
      " 5.47947234e-28 5.71158648e-28 5.95353313e-28 6.20572881e-28\n",
      " 6.46860766e-28 6.74262224e-28 7.02824426e-28 7.32596543e-28\n",
      " 7.63629826e-28 7.95977700e-28 8.29695852e-28 8.64842328e-28\n",
      " 9.01477631e-28 9.39664831e-28 9.79469667e-28 1.02096066e-27\n",
      " 1.06420924e-27 1.10928986e-27 1.15628013e-27 1.20526094e-27\n",
      " 1.25631660e-27 1.30953502e-27 1.36500781e-27 1.42283046e-27\n",
      " 1.48310251e-27 1.54592774e-27 1.61141428e-27 1.67967487e-27\n",
      " 1.75082703e-27 1.82499324e-27 1.90230119e-27 1.98288395e-27\n",
      " 2.06688025e-27 2.15443469e-27 2.24569800e-27 2.34082728e-27\n",
      " 2.43998630e-27 2.54334576e-27 2.65108360e-27 2.76338529e-27\n",
      " 2.88044415e-27 3.00246171e-27 3.12964801e-27 3.26222201e-27\n",
      " 3.40041193e-27 3.54445567e-27 3.69460121e-27 3.85110700e-27\n",
      " 4.01424249e-27 4.18428851e-27 4.36153779e-27 4.54629547e-27\n",
      " 4.73887961e-27 4.93962174e-27 5.14886745e-27 5.36697695e-27\n",
      " 5.59432571e-27 5.83130511e-27 6.07832313e-27 6.33580499e-27\n",
      " 6.60419396e-27 6.88395207e-27 7.17556092e-27 7.47952252e-27\n",
      " 7.79636013e-27 8.12661920e-27 8.47086827e-27 8.82969996e-27\n",
      " 9.20373200e-27 9.59360829e-27 1.00000000e-26 1.04236067e-26\n",
      " 1.08651577e-26 1.13254132e-26 1.18051653e-26 1.23052400e-26\n",
      " 1.28264983e-26 1.33698374e-26 1.39361927e-26 1.45265393e-26\n",
      " 1.51418933e-26 1.57833141e-26 1.64519059e-26 1.71488197e-26\n",
      " 1.78752553e-26 1.86324631e-26 1.94217468e-26 2.02444651e-26\n",
      " 2.11020343e-26 2.19959307e-26 2.29276931e-26 2.38989257e-26\n",
      " 2.49113003e-26 2.59665597e-26 2.70665207e-26 2.82130768e-26\n",
      " 2.94082017e-26 3.06539530e-26 3.19524751e-26 3.33060034e-26\n",
      " 3.47168682e-26 3.61874981e-26 3.77204249e-26 3.93182876e-26\n",
      " 4.09838367e-26 4.27199397e-26 4.45295851e-26 4.64158883e-26\n",
      " 4.83820966e-26 5.04315949e-26 5.25679112e-26 5.47947234e-26\n",
      " 5.71158648e-26 5.95353313e-26 6.20572881e-26 6.46860766e-26\n",
      " 6.74262224e-26 7.02824426e-26 7.32596543e-26 7.63629826e-26\n",
      " 7.95977700e-26 8.29695852e-26 8.64842328e-26 9.01477631e-26\n",
      " 9.39664831e-26 9.79469667e-26 1.02096066e-25 1.06420924e-25\n",
      " 1.10928986e-25 1.15628013e-25 1.20526094e-25 1.25631660e-25\n",
      " 1.30953502e-25 1.36500781e-25 1.42283046e-25 1.48310251e-25\n",
      " 1.54592774e-25 1.61141428e-25 1.67967487e-25 1.75082703e-25\n",
      " 1.82499324e-25 1.90230119e-25 1.98288395e-25 2.06688025e-25\n",
      " 2.15443469e-25 2.24569800e-25 2.34082728e-25 2.43998630e-25\n",
      " 2.54334576e-25 2.65108360e-25 2.76338529e-25 2.88044415e-25\n",
      " 3.00246171e-25 3.12964801e-25 3.26222201e-25 3.40041193e-25\n",
      " 3.54445567e-25 3.69460121e-25 3.85110700e-25 4.01424249e-25\n",
      " 4.18428851e-25 4.36153779e-25 4.54629547e-25 4.73887961e-25\n",
      " 4.93962174e-25 5.14886745e-25 5.36697695e-25 5.59432571e-25\n",
      " 5.83130511e-25 6.07832313e-25 6.33580499e-25 6.60419396e-25\n",
      " 6.88395207e-25 7.17556092e-25 7.47952252e-25 7.79636013e-25\n",
      " 8.12661920e-25 8.47086827e-25 8.82969996e-25 9.20373200e-25\n",
      " 9.59360829e-25 1.00000000e-24 1.04236067e-24 1.08651577e-24\n",
      " 1.13254132e-24 1.18051653e-24 1.23052400e-24 1.28264983e-24\n",
      " 1.33698374e-24 1.39361927e-24 1.45265393e-24 1.51418933e-24\n",
      " 1.57833141e-24 1.64519059e-24 1.71488197e-24 1.78752553e-24\n",
      " 1.86324631e-24 1.94217468e-24 2.02444651e-24 2.11020343e-24\n",
      " 2.19959307e-24 2.29276931e-24 2.38989257e-24 2.49113003e-24\n",
      " 2.59665597e-24 2.70665207e-24 2.82130768e-24 2.94082017e-24\n",
      " 3.06539530e-24 3.19524751e-24 3.33060034e-24 3.47168682e-24\n",
      " 3.61874981e-24 3.77204249e-24 3.93182876e-24 4.09838367e-24\n",
      " 4.27199397e-24 4.45295851e-24 4.64158883e-24 4.83820966e-24\n",
      " 5.04315949e-24 5.25679112e-24 5.47947234e-24 5.71158648e-24\n",
      " 5.95353313e-24 6.20572881e-24 6.46860766e-24 6.74262224e-24\n",
      " 7.02824426e-24 7.32596543e-24 7.63629826e-24 7.95977700e-24\n",
      " 8.29695852e-24 8.64842328e-24 9.01477631e-24 9.39664831e-24\n",
      " 9.79469667e-24 1.02096066e-23 1.06420924e-23 1.10928986e-23\n",
      " 1.15628013e-23 1.20526094e-23 1.25631660e-23 1.30953502e-23\n",
      " 1.36500781e-23 1.42283046e-23 1.48310251e-23 1.54592774e-23\n",
      " 1.61141428e-23 1.67967487e-23 1.75082703e-23 1.82499324e-23\n",
      " 1.90230119e-23 1.98288395e-23 2.06688025e-23 2.15443469e-23\n",
      " 2.24569800e-23 2.34082728e-23 2.43998630e-23 2.54334576e-23\n",
      " 2.65108360e-23 2.76338529e-23 2.88044415e-23 3.00246171e-23\n",
      " 3.12964801e-23 3.26222201e-23 3.40041193e-23 3.54445567e-23\n",
      " 3.69460121e-23 3.85110700e-23 4.01424249e-23 4.18428851e-23\n",
      " 4.36153779e-23 4.54629547e-23 4.73887961e-23 4.93962174e-23\n",
      " 5.14886745e-23 5.36697695e-23 5.59432571e-23 5.83130511e-23\n",
      " 6.07832313e-23 6.33580499e-23 6.60419396e-23 6.88395207e-23\n",
      " 7.17556092e-23 7.47952252e-23 7.79636013e-23 8.12661920e-23\n",
      " 8.47086827e-23 8.82969996e-23 9.20373200e-23 9.59360829e-23\n",
      " 1.00000000e-22 1.04236067e-22 1.08651577e-22 1.13254132e-22\n",
      " 1.18051653e-22 1.23052400e-22 1.28264983e-22 1.33698374e-22\n",
      " 1.39361927e-22 1.45265393e-22 1.51418933e-22 1.57833141e-22\n",
      " 1.64519059e-22 1.71488197e-22 1.78752553e-22 1.86324631e-22\n",
      " 1.94217468e-22 2.02444651e-22 2.11020343e-22 2.19959307e-22\n",
      " 2.29276931e-22 2.38989257e-22 2.49113003e-22 2.59665597e-22\n",
      " 2.70665207e-22 2.82130768e-22 2.94082017e-22 3.06539530e-22\n",
      " 3.19524751e-22 3.33060034e-22 3.47168682e-22 3.61874981e-22\n",
      " 3.77204249e-22 3.93182876e-22 4.09838367e-22 4.27199397e-22\n",
      " 4.45295851e-22 4.64158883e-22 4.83820966e-22 5.04315949e-22\n",
      " 5.25679112e-22 5.47947234e-22 5.71158648e-22 5.95353313e-22\n",
      " 6.20572881e-22 6.46860766e-22 6.74262224e-22 7.02824426e-22\n",
      " 7.32596543e-22 7.63629826e-22 7.95977700e-22 8.29695852e-22\n",
      " 8.64842328e-22 9.01477631e-22 9.39664831e-22 9.79469667e-22\n",
      " 1.02096066e-21 1.06420924e-21 1.10928986e-21 1.15628013e-21\n",
      " 1.20526094e-21 1.25631660e-21 1.30953502e-21 1.36500781e-21\n",
      " 1.42283046e-21 1.48310251e-21 1.54592774e-21 1.61141428e-21\n",
      " 1.67967487e-21 1.75082703e-21 1.82499324e-21 1.90230119e-21\n",
      " 1.98288395e-21 2.06688025e-21 2.15443469e-21 2.24569800e-21\n",
      " 2.34082728e-21 2.43998630e-21 2.54334576e-21 2.65108360e-21\n",
      " 2.76338529e-21 2.88044415e-21 3.00246171e-21 3.12964801e-21\n",
      " 3.26222201e-21 3.40041193e-21 3.54445567e-21 3.69460121e-21\n",
      " 3.85110700e-21 4.01424249e-21 4.18428851e-21 4.36153779e-21\n",
      " 4.54629547e-21 4.73887961e-21 4.93962174e-21 5.14886745e-21\n",
      " 5.36697695e-21 5.59432571e-21 5.83130511e-21 6.07832313e-21\n",
      " 6.33580499e-21 6.60419396e-21 6.88395207e-21 7.17556092e-21\n",
      " 7.47952252e-21 7.79636013e-21 8.12661920e-21 8.47086827e-21\n",
      " 8.82969996e-21 9.20373200e-21 9.59360829e-21 1.00000000e-20]\n"
     ]
    }
   ],
   "source": [
    "phio = np.logspace(-38, -20, 1000)\n",
    "print(phio)"
   ]
  },
  {
   "cell_type": "code",
   "execution_count": 45,
   "metadata": {},
   "outputs": [
    {
     "name": "stdout",
     "output_type": "stream",
     "text": [
      "\n",
      "CALCULATING TS FOR ALL PSRS FOR ALL GAMMAS FOR ALL WEIGHTS\n",
      "\n",
      "ws = 0\n",
      "gamma = 0\n"
     ]
    },
    {
     "name": "stderr",
     "output_type": "stream",
     "text": [
      "  0%|          | 0/1000 [00:00<?, ?it/s]"
     ]
    },
    {
     "name": "stderr",
     "output_type": "stream",
     "text": [
      "100%|██████████| 1000/1000 [00:11<00:00, 87.77it/s]\n"
     ]
    },
    {
     "name": "stdout",
     "output_type": "stream",
     "text": [
      "gamma = 1\n"
     ]
    },
    {
     "name": "stderr",
     "output_type": "stream",
     "text": [
      "100%|██████████| 1000/1000 [00:10<00:00, 93.24it/s]\n"
     ]
    },
    {
     "name": "stdout",
     "output_type": "stream",
     "text": [
      "gamma = 2\n"
     ]
    },
    {
     "name": "stderr",
     "output_type": "stream",
     "text": [
      "100%|██████████| 1000/1000 [00:10<00:00, 93.75it/s]\n"
     ]
    },
    {
     "name": "stdout",
     "output_type": "stream",
     "text": [
      "gamma = 3\n"
     ]
    },
    {
     "name": "stderr",
     "output_type": "stream",
     "text": [
      "100%|██████████| 1000/1000 [00:10<00:00, 95.44it/s]\n"
     ]
    },
    {
     "name": "stdout",
     "output_type": "stream",
     "text": [
      "gamma = 4\n"
     ]
    },
    {
     "name": "stderr",
     "output_type": "stream",
     "text": [
      "100%|██████████| 1000/1000 [00:10<00:00, 94.70it/s] \n"
     ]
    },
    {
     "name": "stdout",
     "output_type": "stream",
     "text": [
      "ws = 1\n",
      "gamma = 0\n"
     ]
    },
    {
     "name": "stderr",
     "output_type": "stream",
     "text": [
      "100%|██████████| 1000/1000 [00:10<00:00, 93.72it/s]\n"
     ]
    },
    {
     "name": "stdout",
     "output_type": "stream",
     "text": [
      "gamma = 1\n"
     ]
    },
    {
     "name": "stderr",
     "output_type": "stream",
     "text": [
      "100%|██████████| 1000/1000 [00:10<00:00, 94.35it/s]\n"
     ]
    },
    {
     "name": "stdout",
     "output_type": "stream",
     "text": [
      "gamma = 2\n"
     ]
    },
    {
     "name": "stderr",
     "output_type": "stream",
     "text": [
      "100%|██████████| 1000/1000 [00:10<00:00, 93.99it/s]\n"
     ]
    },
    {
     "name": "stdout",
     "output_type": "stream",
     "text": [
      "gamma = 3\n"
     ]
    },
    {
     "name": "stderr",
     "output_type": "stream",
     "text": [
      "100%|██████████| 1000/1000 [00:10<00:00, 94.71it/s] \n"
     ]
    },
    {
     "name": "stdout",
     "output_type": "stream",
     "text": [
      "gamma = 4\n"
     ]
    },
    {
     "name": "stderr",
     "output_type": "stream",
     "text": [
      "100%|██████████| 1000/1000 [00:10<00:00, 95.51it/s]"
     ]
    },
    {
     "name": "stdout",
     "output_type": "stream",
     "text": [
      "\n",
      "CALCULATED TS FOR ALL PSRS FOR ALL GAMMAS FOR ALL WEIGHTS\n"
     ]
    },
    {
     "name": "stderr",
     "output_type": "stream",
     "text": [
      "\n"
     ]
    }
   ],
   "source": [
    "print('\\nCALCULATING TS FOR ALL PSRS FOR ALL GAMMAS FOR ALL WEIGHTS\\n')\n",
    "\n",
    "all_TSS = []\n",
    "for ws in prange(2):\n",
    "    tmpp = []\n",
    "    print(\"ws = {}\".format(ws))\n",
    "    for gamma in prange(len(gamma_arr)):\n",
    "        print(\"gamma = {}\".format(gamma))\n",
    "        # tmp = np.zeros(len(phio))\n",
    "        # for season in tqdm(range(10)):\n",
    "        t2mp = np.asfarray(all_Si_ws_g_s[ws][gamma])\n",
    "        @njit(nogil=True)\n",
    "        def TS_for_all_psrs2(nsa):  \n",
    "            return TS_st_vec(nsa, t2mp, all_Bi, Ns)      #No units\n",
    "        temp = []\n",
    "        for phi in tqdm(prange(len(phio))):\n",
    "            temp.append(TS_for_all_psrs2(arr[gamma][ws]*phio[phi]))\n",
    "        tmpp.append(temp)\n",
    "        temp = []\n",
    "    all_TSS.append(tmpp)\n",
    "    tmpp = []\n",
    "\n",
    "print('\\nCALCULATED TS FOR ALL PSRS FOR ALL GAMMAS FOR ALL WEIGHTS')"
   ]
  },
  {
   "cell_type": "code",
   "execution_count": 46,
   "metadata": {},
   "outputs": [
    {
     "name": "stdout",
     "output_type": "stream",
     "text": [
      "(2, 5, 1000)\n"
     ]
    },
    {
     "data": {
      "text/plain": [
       "array([ 1.90410354e-10,  3.46447093e-10,  2.76723533e-10,  2.10522710e-10,\n",
       "        1.69136261e-10,  1.55954361e-10,  1.61152425e-10,  1.95307104e-10,\n",
       "        2.37678321e-10,  3.07992076e-10,  3.99202893e-10,  2.87722512e-10,\n",
       "        4.40298686e-10,  3.46953799e-10,  3.17783355e-10,  2.82494694e-10,\n",
       "        3.08925108e-10,  3.53178153e-10,  4.34865255e-10,  5.50664625e-10,\n",
       "        4.44305925e-10,  3.87546439e-10,  6.32528474e-10,  6.52619514e-10,\n",
       "        4.67034855e-10,  5.68648462e-10,  7.26428251e-10,  6.98163527e-10,\n",
       "        6.95507429e-10,  7.61234409e-10,  6.28613384e-10,  7.96869459e-10,\n",
       "        7.84639242e-10,  8.27261815e-10,  9.39942124e-10,  8.82751205e-10,\n",
       "        8.74117667e-10,  9.56824619e-10,  1.11300014e-09,  1.09549747e-09,\n",
       "        1.16170251e-09,  1.07397868e-09,  1.32642008e-09,  1.16622156e-09,\n",
       "        1.35484646e-09,  1.40215173e-09,  1.55684954e-09,  1.57908042e-09,\n",
       "        1.45982537e-09,  1.71708425e-09,  1.59941194e-09,  1.86687044e-09,\n",
       "        1.77070136e-09,  1.81891124e-09,  2.02170858e-09,  2.11956919e-09,\n",
       "        2.14322426e-09,  2.32773956e-09,  2.45065057e-09,  2.50018606e-09,\n",
       "        2.49224641e-09,  2.69145550e-09,  2.84607782e-09,  2.96474845e-09,\n",
       "        3.06462744e-09,  3.15700954e-09,  3.23937121e-09,  3.58383434e-09,\n",
       "        3.69954378e-09,  3.83750298e-09,  4.02343070e-09,  4.01038136e-09,\n",
       "        4.31519664e-09,  4.45224457e-09,  4.68378514e-09,  4.77160689e-09,\n",
       "        4.98761543e-09,  5.34352473e-09,  5.60467050e-09,  5.78940295e-09,\n",
       "        5.91564397e-09,  6.25545881e-09,  6.57340226e-09,  6.64634281e-09,\n",
       "        6.98937707e-09,  7.37399719e-09,  7.57181095e-09,  7.86797604e-09,\n",
       "        8.27790902e-09,  8.57939896e-09,  9.05132546e-09,  9.47197831e-09,\n",
       "        9.86786563e-09,  1.02716007e-08,  1.07158244e-08,  1.09814764e-08,\n",
       "        1.16090759e-08,  1.21318557e-08,  1.25837269e-08,  1.30115620e-08,\n",
       "        1.37048770e-08,  1.42008001e-08,  1.47982038e-08,  1.55463227e-08,\n",
       "        1.62379447e-08,  1.69266920e-08,  1.74162555e-08,  1.82617139e-08,\n",
       "        1.90187053e-08,  1.97484833e-08,  2.07644217e-08,  2.16290185e-08,\n",
       "        2.24097014e-08,  2.34303108e-08,  2.45122189e-08,  2.54812653e-08,\n",
       "        2.64199968e-08,  2.76608595e-08,  2.87893977e-08,  3.01496920e-08,\n",
       "        3.13320833e-08,  3.26873277e-08,  3.40662544e-08,  3.55793907e-08,\n",
       "        3.70841943e-08,  3.84476514e-08,  4.02941119e-08,  4.19959046e-08,\n",
       "        4.36861284e-08,  4.55036429e-08,  4.73378262e-08,  4.93399537e-08,\n",
       "        5.14161709e-08,  5.37304097e-08,  5.59447819e-08,  5.82394186e-08,\n",
       "        6.07991905e-08,  6.33111167e-08,  6.59787912e-08,  6.90088705e-08,\n",
       "        7.18644316e-08,  7.47742581e-08,  7.79744644e-08,  8.12074592e-08,\n",
       "        8.47311484e-08,  8.83111169e-08,  9.22271548e-08,  9.60127218e-08,\n",
       "        9.99753137e-08,  1.04428948e-07,  1.08697885e-07,  1.13378951e-07,\n",
       "        1.18073128e-07,  1.23156500e-07,  1.28262534e-07,  1.33796915e-07,\n",
       "        1.39427961e-07,  1.45347267e-07,  1.51508735e-07,  1.57889692e-07,\n",
       "        1.64739278e-07,  1.71568115e-07,  1.78922425e-07,  1.86360061e-07,\n",
       "        1.94471623e-07,  2.02614180e-07,  2.11173901e-07,  2.20067797e-07,\n",
       "        2.29486166e-07,  2.39149926e-07,  2.49311544e-07,  2.59752681e-07,\n",
       "        2.70792632e-07,  2.82281909e-07,  2.94358370e-07,  3.06693123e-07,\n",
       "        3.19756453e-07,  3.33300063e-07,  3.47370574e-07,  3.62062671e-07,\n",
       "        3.77513441e-07,  3.93407707e-07,  4.10236585e-07,  4.27534090e-07,\n",
       "        4.45645890e-07,  4.64473657e-07,  4.84226802e-07,  5.04676541e-07,\n",
       "        5.26158600e-07,  5.48327841e-07,  5.71658111e-07,  5.95693825e-07,\n",
       "        6.21060383e-07,  6.47457804e-07,  6.74670203e-07,  7.03319606e-07,\n",
       "        7.33117807e-07,  7.64115865e-07,  7.96468243e-07,  8.30430244e-07,\n",
       "        8.65607212e-07,  9.02222509e-07,  9.40359270e-07,  9.80224637e-07,\n",
       "        1.02164976e-06,  1.06509742e-06,  1.11016080e-06,  1.15708135e-06,\n",
       "        1.20624832e-06,  1.25719757e-06,  1.31063596e-06,  1.36592780e-06,\n",
       "        1.42387183e-06,  1.48418953e-06,  1.54704617e-06,  1.61255542e-06,\n",
       "        1.68103705e-06,  1.75227213e-06,  1.82626529e-06,  1.90376438e-06,\n",
       "        1.98449549e-06,  2.06844941e-06,  2.15612684e-06,  2.24730214e-06,\n",
       "        2.34254276e-06,  2.44196023e-06,  2.54522597e-06,  2.65309436e-06,\n",
       "        2.76540085e-06,  2.88259040e-06,  3.00472044e-06,  3.13198704e-06,\n",
       "        3.26473330e-06,  3.40296949e-06,  3.54714215e-06,  3.69739946e-06,\n",
       "        3.85411387e-06,  4.01739790e-06,  4.18737488e-06,  4.36496284e-06,\n",
       "        4.54962297e-06,  4.74241082e-06,  4.94347953e-06,  5.15286826e-06,\n",
       "        5.37101868e-06,  5.59856571e-06,  5.83560253e-06,  6.08297580e-06,\n",
       "        6.34054868e-06,  6.60925455e-06,  6.88911157e-06,  7.18102736e-06,\n",
       "        7.48506823e-06,  7.80226372e-06,  8.13288379e-06,  8.47723925e-06,\n",
       "        8.83647872e-06,  9.21061866e-06,  9.60086560e-06,  1.00076412e-05,\n",
       "        1.04313990e-05,  1.08734294e-05,  1.13339013e-05,  1.18141958e-05,\n",
       "        1.23144364e-05,  1.28363367e-05,  1.33799829e-05,  1.39466840e-05,\n",
       "        1.45375227e-05,  1.51534437e-05,  1.57953203e-05,  1.64642994e-05,\n",
       "        1.71618798e-05,  1.78887499e-05,  1.86466346e-05,  1.94363914e-05,\n",
       "        2.02598606e-05,  2.11179668e-05,  2.20125856e-05,  2.29451538e-05,\n",
       "        2.39170361e-05,  2.49301560e-05,  2.59861185e-05,  2.70871031e-05,\n",
       "        2.82344887e-05,  2.94305206e-05,  3.06771966e-05,  3.19766897e-05,\n",
       "        3.33312518e-05,  3.47431416e-05,  3.62148094e-05,  3.77488290e-05,\n",
       "        3.93480989e-05,  4.10147869e-05,  4.27523071e-05,  4.45632780e-05,\n",
       "        4.64510163e-05,  4.84185133e-05,  5.04697081e-05,  5.26074705e-05,\n",
       "        5.48361558e-05,  5.71588570e-05,  5.95802322e-05,  6.21040419e-05,\n",
       "        6.47347319e-05,  6.74770162e-05,  7.03354783e-05,  7.33146792e-05,\n",
       "        7.64205583e-05,  7.96575502e-05,  8.30320280e-05,  8.65492098e-05,\n",
       "        9.02156284e-05,  9.40370777e-05,  9.80206259e-05,  1.02172601e-04,\n",
       "        1.06500893e-04,  1.11012229e-04,  1.15714782e-04,  1.20616496e-04,\n",
       "        1.25725724e-04,  1.31051628e-04,  1.36602858e-04,  1.42389516e-04,\n",
       "        1.48421136e-04,  1.54708214e-04,  1.61261758e-04,  1.68092617e-04,\n",
       "        1.75213121e-04,  1.82635223e-04,  1.90371706e-04,  1.98435918e-04,\n",
       "        2.06841553e-04,  2.15603484e-04,  2.24736357e-04,  2.34256037e-04,\n",
       "        2.44179311e-04,  2.54522644e-04,  2.65304021e-04,  2.76542315e-04,\n",
       "        2.88256718e-04,  3.00466990e-04,  3.13194777e-04,  3.26461472e-04,\n",
       "        3.40290427e-04,  3.54704951e-04,  3.69730165e-04,  3.85391662e-04,\n",
       "        4.01716517e-04,  4.18733119e-04,  4.36470333e-04,  4.54958785e-04,\n",
       "        4.74230458e-04,  4.94318416e-04,  5.15257359e-04,  5.37083050e-04,\n",
       "        5.59833362e-04,  5.83547174e-04,  6.08265403e-04,  6.34030913e-04,\n",
       "        6.60887555e-04,  6.88881594e-04,  7.18061548e-04,  7.48477397e-04,\n",
       "        7.80181482e-04,  8.13228548e-04,  8.47675218e-04,  8.83581147e-04,\n",
       "        9.21007597e-04,  9.60019232e-04,  1.00068334e-03,  1.04306954e-03,\n",
       "        1.08725118e-03,  1.13330374e-03,  1.18130723e-03,  1.23134354e-03,\n",
       "        1.28349910e-03,  1.33786354e-03,  1.39453040e-03,  1.45359710e-03,\n",
       "        1.51516549e-03,  1.57934120e-03,  1.64623488e-03,  1.71596171e-03,\n",
       "        1.78864132e-03,  1.86439856e-03,  1.94336445e-03,  2.02567402e-03,\n",
       "        2.11146931e-03,  2.20089782e-03,  2.29411346e-03,  2.39127621e-03,\n",
       "        2.49255327e-03,  2.59811898e-03,  2.70815461e-03,  2.82284962e-03,\n",
       "        2.94240110e-03,  3.06701449e-03,  3.19690409e-03,  3.33229331e-03,\n",
       "        3.47341479e-03,  3.62051114e-03,  3.77383500e-03,  3.93364989e-03,\n",
       "        4.10023087e-03,  4.27386358e-03,  4.45484691e-03,  4.64349140e-03,\n",
       "        4.84012160e-03,  5.04507467e-03,  5.25870335e-03,  5.48137397e-03,\n",
       "        5.71346897e-03,  5.95538726e-03,  6.20754416e-03,  6.47037234e-03,\n",
       "        6.74432299e-03,  7.02986626e-03,  7.32749255e-03,  7.63771226e-03,\n",
       "        7.96105751e-03,  8.29808340e-03,  8.64936765e-03,  9.01551272e-03,\n",
       "        9.39714665e-03,  9.79492355e-03,  1.02095253e-02,  1.06416621e-02,\n",
       "        1.10920749e-02,  1.15615349e-02,  1.20508461e-02,  1.25608468e-02,\n",
       "        1.30924096e-02,  1.36464446e-02,  1.42238999e-02,  1.48257631e-02,\n",
       "        1.54530635e-02,  1.61068739e-02,  1.67883113e-02,  1.74985407e-02,\n",
       "        1.82387750e-02,  1.90102781e-02,  1.98143672e-02,  2.06524144e-02,\n",
       "        2.15258491e-02,  2.24361609e-02,  2.33849009e-02,  2.43736854e-02,\n",
       "        2.54041988e-02,  2.64781945e-02,  2.75975002e-02,  2.87640189e-02,\n",
       "        2.99797335e-02,  3.12467086e-02,  3.25670953e-02,  3.39431340e-02,\n",
       "        3.53771576e-02,  3.68715960e-02,  3.84289798e-02,  4.00519445e-02,\n",
       "        4.17432341e-02,  4.35057062e-02,  4.53423364e-02,  4.72562223e-02,\n",
       "        4.92505896e-02,  5.13287966e-02,  5.34943387e-02,  5.57508556e-02,\n",
       "        5.81021346e-02,  6.05521195e-02,  6.31049134e-02,  6.57647872e-02,\n",
       "        6.85361858e-02,  7.14237338e-02,  7.44322434e-02,  7.75667214e-02,\n",
       "        8.08323763e-02,  8.42346268e-02,  8.77791084e-02,  9.14716827e-02,\n",
       "        9.53184456e-02,  9.93257361e-02,  1.03500144e-01,  1.07848522e-01,\n",
       "        1.12377991e-01,  1.17095955e-01,  1.22010105e-01,  1.27128437e-01,\n",
       "        1.32459254e-01,  1.38011183e-01,  1.43793185e-01,  1.49814564e-01,\n",
       "        1.56084980e-01,  1.62614463e-01,  1.69413420e-01,  1.76492651e-01,\n",
       "        1.83863361e-01,  1.91537173e-01,  1.99526137e-01,  2.07842748e-01,\n",
       "        2.16499955e-01,  2.25511176e-01,  2.34890311e-01,  2.44651752e-01,\n",
       "        2.54810400e-01,  2.65381675e-01,  2.76381529e-01,  2.87826459e-01,\n",
       "        2.99733516e-01,  3.12120321e-01,  3.25005071e-01,  3.38406550e-01,\n",
       "        3.52344142e-01,  3.66837835e-01,  3.81908228e-01,  3.97576541e-01,\n",
       "        4.13864616e-01,  4.30794919e-01,  4.48390543e-01,  4.66675209e-01,\n",
       "        4.85673254e-01,  5.05409635e-01,  5.25909910e-01,  5.47200231e-01,\n",
       "        5.69307327e-01,  5.92258478e-01,  6.16081496e-01,  6.40804688e-01,\n",
       "        6.66456821e-01,  6.93067082e-01,  7.20665022e-01,  7.49280500e-01,\n",
       "        7.78943618e-01,  8.09684639e-01,  8.41533905e-01,  8.74521734e-01,\n",
       "        9.08678312e-01,  9.44033562e-01,  9.80617009e-01,  1.01845762e+00,\n",
       "        1.05758361e+00,  1.09802229e+00,  1.13979980e+00,  1.18294089e+00,\n",
       "        1.22746864e+00,  1.27340419e+00,  1.32076635e+00,  1.36957131e+00,\n",
       "        1.41983218e+00,  1.47155857e+00,  1.52475612e+00,  1.57942594e+00,\n",
       "        1.63556400e+00,  1.69316057e+00,  1.75219941e+00,  1.81265705e+00,\n",
       "        1.87450196e+00,  1.93769356e+00,  2.00218126e+00,  2.06790334e+00,\n",
       "        2.13478572e+00,  2.20274064e+00,  2.27166525e+00,  2.34144001e+00,\n",
       "        2.41192702e+00,  2.48296809e+00,  2.55438279e+00,  2.62596619e+00,\n",
       "        2.69748651e+00,  2.76868251e+00,  2.83926062e+00,  2.90889194e+00,\n",
       "        2.97720888e+00,  3.04380157e+00,  3.10821392e+00,  3.16993942e+00,\n",
       "        3.22841653e+00,  3.28302375e+00,  3.33307419e+00,  3.37780982e+00,\n",
       "        3.41639514e+00,  3.44791044e+00,  3.47134442e+00,  3.48558632e+00,\n",
       "        3.48941732e+00,  3.48150139e+00,  3.46037529e+00,  3.42443789e+00,\n",
       "        3.37193862e+00,  3.30096504e+00,  3.20942942e+00,  3.09505440e+00,\n",
       "        2.95535744e+00,  2.78763417e+00,  2.58894051e+00,  2.35607343e+00,\n",
       "        2.08555023e+00,  1.77358648e+00,  1.41607211e+00,  1.00854598e+00,\n",
       "        5.46168467e-01,  2.36921880e-02, -5.64569427e-01, -1.22477575e+00,\n",
       "       -1.96359492e+00, -2.78824238e+00, -3.70652201e+00, -4.72687012e+00,\n",
       "       -5.85840250e+00, -7.11096460e+00, -8.49518512e+00, -1.00225332e+01,\n",
       "       -1.17053796e+01, -1.35570612e+01, -1.55919512e+01, -1.78255320e+01,\n",
       "       -2.02744745e+01, -2.29567215e+01, -2.58915768e+01, -2.90997997e+01,\n",
       "       -3.26037059e+01, -3.64272744e+01, -4.05962608e+01, -4.51383182e+01,\n",
       "       -5.00831250e+01, -5.54625207e+01, -6.13106498e+01, -6.76641143e+01,\n",
       "       -7.45621357e+01, -8.20467255e+01, -9.01628670e+01, -9.89587071e+01,\n",
       "       -1.08485758e+02, -1.18799115e+02, -1.29957677e+02, -1.42024394e+02,\n",
       "       -1.55066514e+02, -1.69155851e+02, -1.84369069e+02, -2.00787981e+02,\n",
       "       -2.18499855e+02, -2.37597755e+02, -2.58180880e+02, -2.80354937e+02,\n",
       "       -3.04232528e+02, -3.29933551e+02, -3.57585636e+02, -3.87324590e+02,\n",
       "       -4.19294875e+02, -4.53650103e+02, -4.90553562e+02, -5.30178767e+02,\n",
       "       -5.72710037e+02, -6.18343103e+02, -6.67285745e+02, -7.19758464e+02,\n",
       "       -7.75995179e+02, -8.36243971e+02, -9.00767849e+02, -9.69845565e+02,\n",
       "       -1.04377246e+03, -1.12286136e+03, -1.20744351e+03, -1.29786953e+03,\n",
       "       -1.39451048e+03, -1.49775889e+03, -1.60802990e+03, -1.72576245e+03,\n",
       "       -1.85142050e+03, -1.98549431e+03, -2.12850178e+03, -2.28098990e+03,\n",
       "       -2.44353618e+03, -2.61675024e+03, -2.80127537e+03, -2.99779027e+03,\n",
       "       -3.20701080e+03, -3.42969182e+03, -3.66662913e+03, -3.91866151e+03,\n",
       "       -4.18667281e+03, -4.47159419e+03, -4.77440640e+03, -5.09614225e+03,\n",
       "       -5.43788913e+03, -5.80079163e+03, -6.18605437e+03, -6.59494489e+03,\n",
       "       -7.02879665e+03, -7.48901231e+03, -7.97706696e+03, -8.49451173e+03,\n",
       "       -9.04297734e+03, -9.62417804e+03, -1.02399156e+04, -1.08920834e+04,\n",
       "       -1.15826713e+04, -1.23137696e+04, -1.30875744e+04, -1.39063929e+04,\n",
       "       -1.47726482e+04, -1.56888853e+04, -1.66577770e+04, -1.76821302e+04,\n",
       "       -1.87648926e+04, -1.99091591e+04, -2.11181797e+04, -2.23953669e+04,\n",
       "       -2.37443040e+04, -2.51687532e+04, -2.66726652e+04, -2.82601883e+04,\n",
       "       -2.99356788e+04, -3.17037114e+04, -3.35690906e+04, -3.55368625e+04,\n",
       "       -3.76123276e+04, -3.98010541e+04, -4.21088922e+04, -4.45419889e+04,\n",
       "       -4.71068046e+04, -4.98101295e+04, -5.26591022e+04, -5.56612286e+04,\n",
       "       -5.88244031e+04, -6.21569297e+04, -6.56675463e+04, -6.93654492e+04,\n",
       "       -7.32603199e+04, -7.73623541e+04, -8.16822923e+04, -8.62314525e+04,\n",
       "       -9.10217660e+04, -9.60658154e+04, -1.01376875e+05, -1.06968957e+05,\n",
       "       -1.12856855e+05, -1.19056201e+05, -1.25583516e+05, -1.32456272e+05,\n",
       "       -1.39692961e+05, -1.47313159e+05, -1.55337609e+05, -1.63788303e+05,\n",
       "       -1.72688572e+05, -1.82063191e+05, -1.91938484e+05, -2.02342445e+05,\n",
       "       -2.13304873e+05, -2.24857514e+05, -2.37034223e+05, -2.49871142e+05,\n",
       "       -2.63406893e+05, -2.77682798e+05, -2.92743120e+05, -3.08635332e+05,\n",
       "       -3.25410419e+05, -3.43123214e+05, -3.61832779e+05, -3.81602831e+05,\n",
       "       -4.02502222e+05, -4.24605489e+05, -4.47993473e+05, -4.72754028e+05,\n",
       "       -4.98982834e+05, -5.26784329e+05, -5.56272787e+05, -5.87573562e+05,\n",
       "       -6.20824547e+05, -6.56177868e+05, -6.93801886e+05, -7.33883558e+05,\n",
       "       -7.76631248e+05, -8.22278090e+05, -8.71086043e+05, -9.23350801e+05,\n",
       "       -9.79407817e+05, -1.03963972e+06, -1.10448555e+06, -1.17445239e+06,\n",
       "       -1.25013014e+06, -1.33221057e+06, -1.42151213e+06, -1.51901290e+06,\n",
       "       -1.62589496e+06, -1.74360535e+06, -1.87394166e+06, -2.01917536e+06,\n",
       "       -2.18223454e+06, -2.36698445e+06, -2.57867597e+06, -2.82469967e+06,\n",
       "       -3.11593508e+06, -3.46936752e+06, -3.91374036e+06, -4.50378961e+06,\n",
       "       -5.36587620e+06, -6.93102721e+06,             nan,             nan,\n",
       "                   nan,             nan,             nan,             nan,\n",
       "                   nan,             nan,             nan,             nan,\n",
       "                   nan,             nan,             nan,             nan,\n",
       "                   nan,             nan,             nan,             nan,\n",
       "                   nan,             nan,             nan,             nan,\n",
       "                   nan,             nan,             nan,             nan,\n",
       "                   nan,             nan,             nan,             nan,\n",
       "                   nan,             nan,             nan,             nan,\n",
       "                   nan,             nan,             nan,             nan,\n",
       "                   nan,             nan,             nan,             nan,\n",
       "                   nan,             nan,             nan,             nan,\n",
       "                   nan,             nan,             nan,             nan,\n",
       "                   nan,             nan,             nan,             nan,\n",
       "                   nan,             nan,             nan,             nan,\n",
       "                   nan,             nan,             nan,             nan,\n",
       "                   nan,             nan,             nan,             nan,\n",
       "                   nan,             nan,             nan,             nan,\n",
       "                   nan,             nan,             nan,             nan,\n",
       "                   nan,             nan,             nan,             nan,\n",
       "                   nan,             nan,             nan,             nan,\n",
       "                   nan,             nan,             nan,             nan,\n",
       "                   nan,             nan,             nan,             nan,\n",
       "                   nan,             nan,             nan,             nan,\n",
       "                   nan,             nan,             nan,             nan,\n",
       "                   nan,             nan,             nan,             nan,\n",
       "                   nan,             nan,             nan,             nan,\n",
       "                   nan,             nan,             nan,             nan,\n",
       "                   nan,             nan,             nan,             nan,\n",
       "                   nan,             nan,             nan,             nan,\n",
       "                   nan,             nan,             nan,             nan,\n",
       "                   nan,             nan,             nan,             nan,\n",
       "                   nan,             nan,             nan,             nan,\n",
       "                   nan,             nan,             nan,             nan,\n",
       "                   nan,             nan,             nan,             nan,\n",
       "                   nan,             nan,             nan,             nan,\n",
       "                   nan,             nan,             nan,             nan,\n",
       "                   nan,             nan,             nan,             nan,\n",
       "                   nan,             nan,             nan,             nan,\n",
       "                   nan,             nan,             nan,             nan,\n",
       "                   nan,             nan,             nan,             nan,\n",
       "                   nan,             nan,             nan,             nan,\n",
       "                   nan,             nan,             nan,             nan,\n",
       "                   nan,             nan,             nan,             nan,\n",
       "                   nan,             nan,             nan,             nan,\n",
       "                   nan,             nan,             nan,             nan,\n",
       "                   nan,             nan,             nan,             nan,\n",
       "                   nan,             nan,             nan,             nan,\n",
       "                   nan,             nan,             nan,             nan,\n",
       "                   nan,             nan,             nan,             nan,\n",
       "                   nan,             nan,             nan,             nan])"
      ]
     },
     "execution_count": 46,
     "metadata": {},
     "output_type": "execute_result"
    }
   ],
   "source": [
    "all_TSS = np.array(all_TSS, dtype=np.float64)\n",
    "print(all_TSS.shape)\n",
    "all_TSS[0][2]"
   ]
  },
  {
   "cell_type": "code",
   "execution_count": 83,
   "metadata": {},
   "outputs": [
    {
     "data": {
      "image/png": "[encoded data removed]",
      "text/plain": [
       "<Figure size 640x480 with 1 Axes>"
      ]
     },
     "metadata": {},
     "output_type": "display_data"
    }
   ],
   "source": [
    "# for i in range(1, len(all_TSS)):\n",
    "plt.figure()\n",
    "histdetails = plt.hist(np.ravel(all_TSS[:]), bins=10, density=False, histtype='step')\n",
    "# plt.ylim(0, 1000)\n",
    "plt.yscale('log')\n",
    "plt.xlabel('TS')\n",
    "plt.ylabel('Counts')\n",
    "plt.title('TS distribution')\n",
    "plt.show()"
   ]
  },
  {
   "attachments": {},
   "cell_type": "markdown",
   "metadata": {},
   "source": [
    "histdetails = np.histogram(np.ravel(all_TSS[1:]), bins=10)"
   ]
  },
  {
   "cell_type": "code",
   "execution_count": 84,
   "metadata": {},
   "outputs": [
    {
     "data": {
      "text/plain": [
       "(array([1.000e+00, 1.000e+00, 0.000e+00, 3.000e+00, 7.000e+00, 1.000e+01,\n",
       "        2.000e+01, 4.000e+01, 9.300e+01, 7.598e+03]),\n",
       " array([-1.27760839e+07, -1.14984751e+07, -1.02208664e+07, -8.94325761e+06,\n",
       "        -7.66564886e+06, -6.38804012e+06, -5.11043137e+06, -3.83282262e+06,\n",
       "        -2.55521387e+06, -1.27760512e+06,  3.62294331e+00]),\n",
       " [<matplotlib.patches.Polygon at 0x1345c1e20>])"
      ]
     },
     "execution_count": 84,
     "metadata": {},
     "output_type": "execute_result"
    }
   ],
   "source": [
    "histdetails"
   ]
  },
  {
   "cell_type": "code",
   "execution_count": 85,
   "metadata": {},
   "outputs": [
    {
     "data": {
      "text/plain": [
       "6.36681818348595e-11"
      ]
     },
     "execution_count": 85,
     "metadata": {},
     "output_type": "execute_result"
    }
   ],
   "source": [
    "max(np.ravel(all_TSS[1][:]))"
   ]
  },
  {
   "attachments": {},
   "cell_type": "markdown",
   "metadata": {},
   "source": [
    "np.count_nonzero(np.ravel(all_TSS[1:])> )"
   ]
  },
  {
   "cell_type": "code",
   "execution_count": 86,
   "metadata": {},
   "outputs": [],
   "source": [
    "all_TSS = np.array(all_TSS, dtype=np.float64)"
   ]
  },
  {
   "cell_type": "code",
   "execution_count": 45,
   "metadata": {},
   "outputs": [
    {
     "data": {
      "text/plain": [
       "(2, 5, 1000)"
      ]
     },
     "execution_count": 45,
     "metadata": {},
     "output_type": "execute_result"
    }
   ],
   "source": [
    "all_TSS.shape"
   ]
  },
  {
   "cell_type": "code",
   "execution_count": 87,
   "metadata": {},
   "outputs": [
    {
     "name": "stdout",
     "output_type": "stream",
     "text": [
      "-7938459.112936995 3.308401413256082\n",
      "-7039081.372264593 3.622943311814534\n",
      "-6931027.207299854 3.489417320886514\n",
      "-7025409.178530411 3.061551798413294\n",
      "-6827171.306457343 2.7886222183405565\n",
      "wt\n",
      "\n",
      "-7940011.586684313 6.36681818348595e-11\n",
      "-10529382.983902585 5.5392135315897995e-11\n",
      "-12776083.853687536 -5.859091012188953e-12\n",
      "-7551701.681173635 -4.593709861468381e-10\n",
      "-7833779.663094846 -5.720986400820554e-09\n",
      "wt\n",
      "\n"
     ]
    }
   ],
   "source": [
    "for w in range(2):\n",
    "    for g in range(len(gamma_arr)):\n",
    "        print(min(all_TSS[w][g]), max(all_TSS[w][g]))\n",
    "        # np.savetxt(f'TS_w{w}_g{g}.txt', all_TSS[w][g])\n",
    "        \n",
    "    print('wt\\n')\n",
    "\n",
    "with open(altier_path[0] + f'all_TSS_{len(enus)}_bins.pkl', 'wb') as f:\n",
    "    pickle.dump(all_TSS, f)"
   ]
  },
  {
   "cell_type": "code",
   "execution_count": 88,
   "metadata": {},
   "outputs": [],
   "source": [
    "#Plotting\n",
    "\n",
    "all_TSS = np.asarray(all_TSS)\n",
    "gamma_arr = np.asarray(gamma_arr)\n",
    "\n",
    "all_e_UL = []\n",
    "e_decade = [1e13, 1e14, 1e15, 1e16, 1e17]\n",
    "for e_UL in e_decade:\n",
    "    e2dfde = []\n",
    "\n",
    "    for gamma in prange(len(gamma_arr)):\n",
    "        temp = []\n",
    "        for phi in range(len(phio)):\n",
    "            temp.append( e_UL**2 * dfde(e_UL, gamma_arr[gamma], phio[phi]))        #in eV\n",
    "        e2dfde.append(temp)\n",
    "    e2dfde = np.asarray(e2dfde)\n",
    "\n",
    "    all_e_UL.append(e2dfde)\n",
    "mark = ['^', 'o', 's', 'd']"
   ]
  },
  {
   "cell_type": "code",
   "execution_count": 89,
   "metadata": {},
   "outputs": [
    {
     "name": "stdout",
     "output_type": "stream",
     "text": [
      "5\n"
     ]
    }
   ],
   "source": [
    "print(len(all_e_UL))"
   ]
  },
  {
   "cell_type": "code",
   "execution_count": 93,
   "metadata": {},
   "outputs": [
    {
     "name": "stdout",
     "output_type": "stream",
     "text": [
      "(5, 1000)\n",
      "next energy bin\n",
      "(5, 1000)\n",
      "next energy bin\n",
      "(5, 1000)\n",
      "next energy bin\n",
      "(5, 1000)\n",
      "next energy bin\n",
      "(5, 1000)\n",
      "next energy bin\n"
     ]
    }
   ],
   "source": [
    "for i in all_e_UL:\n",
    "    print(i.shape)\n",
    "    print('next energy bin')"
   ]
  },
  {
   "cell_type": "code",
   "execution_count": 92,
   "metadata": {},
   "outputs": [],
   "source": [
    "\n",
    "all_e_UL=np.asarray(all_e_UL)"
   ]
  },
  {
   "cell_type": "code",
   "execution_count": 94,
   "metadata": {},
   "outputs": [
    {
     "name": "stdout",
     "output_type": "stream",
     "text": [
      "[[[1.00000000e-10 1.04236067e-10 1.08651577e-10 ... 9.20373200e+07\n",
      "   9.59360829e+07 1.00000000e+08]\n",
      "  [2.51188643e-10 2.61829163e-10 2.72920423e-10 ... 2.31187295e+08\n",
      "   2.40980545e+08 2.51188643e+08]\n",
      "  [3.38844156e-10 3.53197823e-10 3.68159521e-10 ... 3.11863080e+08\n",
      "   3.25073810e+08 3.38844156e+08]\n",
      "  [1.00000000e-09 1.04236067e-09 1.08651577e-09 ... 9.20373200e+08\n",
      "   9.59360829e+08 1.00000000e+09]\n",
      "  [3.16227766e-09 3.29623387e-09 3.43586456e-09 ... 2.91047561e+09\n",
      "   3.03376532e+09 3.16227766e+09]]\n",
      "\n",
      " [[1.00000000e-10 1.04236067e-10 1.08651577e-10 ... 9.20373200e+07\n",
      "   9.59360829e+07 1.00000000e+08]\n",
      "  [1.00000000e-10 1.04236067e-10 1.08651577e-10 ... 9.20373200e+07\n",
      "   9.59360829e+07 1.00000000e+08]\n",
      "  [1.00000000e-10 1.04236067e-10 1.08651577e-10 ... 9.20373200e+07\n",
      "   9.59360829e+07 1.00000000e+08]\n",
      "  [1.00000000e-10 1.04236067e-10 1.08651577e-10 ... 9.20373200e+07\n",
      "   9.59360829e+07 1.00000000e+08]\n",
      "  [1.00000000e-10 1.04236067e-10 1.08651577e-10 ... 9.20373200e+07\n",
      "   9.59360829e+07 1.00000000e+08]]\n",
      "\n",
      " [[1.00000000e-10 1.04236067e-10 1.08651577e-10 ... 9.20373200e+07\n",
      "   9.59360829e+07 1.00000000e+08]\n",
      "  [3.98107171e-11 4.14971259e-11 4.32549721e-11 ... 3.66407170e+07\n",
      "   3.81928425e+07 3.98107171e+07]\n",
      "  [2.95120923e-11 3.07622444e-11 3.20653538e-11 ... 2.71621388e+07\n",
      "   2.83127453e+07 2.95120923e+07]\n",
      "  [1.00000000e-11 1.04236067e-11 1.08651577e-11 ... 9.20373200e+06\n",
      "   9.59360829e+06 1.00000000e+07]\n",
      "  [3.16227766e-12 3.29623387e-12 3.43586456e-12 ... 2.91047561e+06\n",
      "   3.03376532e+06 3.16227766e+06]]\n",
      "\n",
      " [[1.00000000e-10 1.04236067e-10 1.08651577e-10 ... 9.20373200e+07\n",
      "   9.59360829e+07 1.00000000e+08]\n",
      "  [1.58489319e-11 1.65203034e-11 1.72201145e-11 ... 1.45869322e+07\n",
      "   1.52048445e+07 1.58489319e+07]\n",
      "  [8.70963590e-12 9.07858195e-12 9.46315680e-12 ... 8.01611546e+06\n",
      "   8.35568351e+06 8.70963590e+06]\n",
      "  [1.00000000e-12 1.04236067e-12 1.08651577e-12 ... 9.20373200e+05\n",
      "   9.59360829e+05 1.00000000e+06]\n",
      "  [1.00000000e-13 1.04236067e-13 1.08651577e-13 ... 9.20373200e+04\n",
      "   9.59360829e+04 1.00000000e+05]]\n",
      "\n",
      " [[1.00000000e-10 1.04236067e-10 1.08651577e-10 ... 9.20373200e+07\n",
      "   9.59360829e+07 1.00000000e+08]\n",
      "  [6.30957344e-12 6.57685123e-12 6.85545108e-12 ... 5.80716230e+06\n",
      "   6.05315761e+06 6.30957344e+06]\n",
      "  [2.57039578e-12 2.67927948e-12 2.79277557e-12 ... 2.36572339e+06\n",
      "   2.46593703e+06 2.57039578e+06]\n",
      "  [1.00000000e-13 1.04236067e-13 1.08651577e-13 ... 9.20373200e+04\n",
      "   9.59360829e+04 1.00000000e+05]\n",
      "  [3.16227766e-15 3.29623387e-15 3.43586456e-15 ... 2.91047561e+03\n",
      "   3.03376532e+03 3.16227766e+03]]]\n"
     ]
    }
   ],
   "source": [
    "print(all_e_UL)"
   ]
  },
  {
   "cell_type": "code",
   "execution_count": 95,
   "metadata": {},
   "outputs": [
    {
     "data": {
      "text/plain": [
       "(5, 1000)"
      ]
     },
     "execution_count": 95,
     "metadata": {},
     "output_type": "execute_result"
    }
   ],
   "source": [
    "all_TSS[0].shape"
   ]
  },
  {
   "cell_type": "code",
   "execution_count": 96,
   "metadata": {},
   "outputs": [
    {
     "name": "stdout",
     "output_type": "stream",
     "text": [
      "7.3259654282152e-24\n",
      "3.47168681892656e-24\n",
      "2.3898925662310525e-24\n",
      "4.184288507901576e-25\n"
     ]
    }
   ],
   "source": [
    "for w in range(1):\n",
    "    for g in range(0,4):\n",
    "        print(phio[np.argmax(all_TSS[w][g])])"
   ]
  },
  {
   "cell_type": "code",
   "execution_count": 97,
   "metadata": {},
   "outputs": [
    {
     "data": {
      "text/plain": [
       "5.5392135315897995e-11"
      ]
     },
     "execution_count": 97,
     "metadata": {},
     "output_type": "execute_result"
    }
   ],
   "source": [
    "max(all_TSS[1][1])"
   ]
  },
  {
   "attachments": {},
   "cell_type": "markdown",
   "metadata": {},
   "source": []
  },
  {
   "cell_type": "code",
   "execution_count": 64,
   "metadata": {},
   "outputs": [],
   "source": [
    "tete = np.float64('2.543345761304638e-23 9.396648314954749e-24 1.4526539259467783e-24 2.3408272761782943e-23 8.296958520834915e-24 1.2305240043592616e-24 1.61141427725301e-23 5.711586478126447e-24 8.470868266557419e-25'.split(' '))"
   ]
  },
  {
   "cell_type": "code",
   "execution_count": 65,
   "metadata": {},
   "outputs": [
    {
     "data": {
      "text/plain": [
       "1.1767549189872607e-24"
      ]
     },
     "execution_count": 65,
     "metadata": {},
     "output_type": "execute_result"
    }
   ],
   "source": [
    "tete[2::3].mean()"
   ]
  },
  {
   "cell_type": "code",
   "execution_count": 98,
   "metadata": {},
   "outputs": [
    {
     "name": "stdout",
     "output_type": "stream",
     "text": [
      "1000\n",
      "\n",
      "1000\n",
      "\n",
      "1000\n",
      "\n",
      "1000\n",
      "\n",
      "1000\n",
      "\n",
      "1000\n",
      "\n",
      "1000\n",
      "\n",
      "1000\n",
      "\n",
      "1000\n",
      "\n",
      "1000\n",
      "\n",
      "1000\n",
      "\n",
      "1000\n",
      "\n",
      "1000\n",
      "\n",
      "1000\n",
      "\n",
      "1000\n",
      "\n",
      "1000\n",
      "\n",
      "1000\n",
      "\n",
      "1000\n",
      "\n",
      "1000\n",
      "\n",
      "1000\n",
      "\n",
      "1000\n",
      "\n",
      "1000\n",
      "\n",
      "1000\n",
      "\n",
      "1000\n",
      "\n",
      "1000\n",
      "\n",
      "1000\n",
      "\n",
      "1000\n",
      "\n",
      "1000\n",
      "\n",
      "1000\n",
      "\n",
      "1000\n",
      "\n",
      "1000\n",
      "\n",
      "1000\n",
      "\n",
      "1000\n",
      "\n",
      "1000\n",
      "\n",
      "1000\n",
      "\n",
      "1000\n",
      "\n",
      "1000\n",
      "\n",
      "1000\n",
      "\n",
      "1000\n",
      "\n",
      "1000\n",
      "\n",
      "1000\n",
      "\n",
      "1000\n",
      "\n",
      "1000\n",
      "\n",
      "1000\n",
      "\n",
      "1000\n",
      "\n",
      "1000\n",
      "\n",
      "1000\n",
      "\n",
      "1000\n",
      "\n",
      "1000\n",
      "\n",
      "1000\n",
      "\n"
     ]
    },
    {
     "data": {
      "text/plain": [
       "5"
      ]
     },
     "execution_count": 98,
     "metadata": {},
     "output_type": "execute_result"
    }
   ],
   "source": [
    "# e2dfde = all_e_UL[1][2]\n",
    "# dist_g25 = interp.interp1d(all_TSS[1][2], e2dfde/1e9)\n",
    "\n",
    "# print(dist_g25(-3.84))\n",
    "\n",
    "all_UL = []\n",
    "for ws in range(2):\n",
    "    ul_all_gamma = []\n",
    "    for gamma in prange(len(gamma_arr)):\n",
    "        temp = []\n",
    "        for i in all_e_UL:\n",
    "            #print(len(all_TSS[ws][gamma]))\n",
    "            print(len(i[gamma]/1e9))\n",
    "            dist_g = interp.interp1d(all_TSS[ws][gamma], i[gamma]/1e9)\n",
    "            print()\n",
    "            temp.append(dist_g(-3.84))\n",
    "\n",
    "        ul_all_gamma.append(temp)\n",
    "    all_UL.append(ul_all_gamma)\n",
    "len(all_UL[1])"
   ]
  },
  {
   "cell_type": "code",
   "execution_count": 99,
   "metadata": {},
   "outputs": [
    {
     "name": "stdout",
     "output_type": "stream",
     "text": [
      "[1.50000000e+13 1.68880140e+13 1.90136678e+13 2.14068725e+13\n",
      " 2.41013042e+13 2.71348775e+13 3.05502794e+13 3.43955698e+13\n",
      " 3.87248576e+13 4.35990625e+13 4.90867719e+13 5.52652061e+13\n",
      " 6.22213049e+13 7.00529513e+13 7.88703481e+13 8.87975696e+13\n",
      " 9.99743065e+13 1.12557833e+14 1.26725217e+14 1.42675816e+14\n",
      " 1.60634078e+14 1.80852704e+14 2.03616200e+14 2.29244883e+14\n",
      " 2.58099386e+14 2.90585736e+14 3.27161065e+14 3.68340043e+14\n",
      " 4.14702121e+14 4.66899682e+14 5.25667224e+14 5.91831696e+14\n",
      " 6.66324131e+14 7.50192750e+14 8.44617712e+14 9.50927716e+14\n",
      " 1.07061871e+15 1.20537491e+15 1.35709256e+15 1.52790654e+15\n",
      " 1.72022047e+15 1.93674050e+15 2.18051338e+15 2.45496936e+15\n",
      " 2.76397046e+15 3.11186479e+15 3.50354775e+15 3.94453089e+15\n",
      " 4.44101953e+15 5.00000000e+15]\n",
      "5.039999999999999e-18\n",
      "5.0399999999999995e-08\n"
     ]
    }
   ],
   "source": [
    "phio_paper = 1.68*3e-18\n",
    "phio_paper_low=1.46*3e-18\n",
    "phio_paper_high=1.87*3e-18 \n",
    "spectral_index= -2.58\n",
    "spectral_index_high=-2.49\n",
    "spectral_index_low=-2.68\n",
    "\n",
    "ic_e_paper = np.logspace(np.log10(15e12), np.log10(5e15))\n",
    "print(ic_e_paper)\n",
    "e2dfde_ic = 1e10 * dfde(1e14, spectral_index, phio_paper)\n",
    "e2dfde_ic_low =1e10 * dfde(1e14, spectral_index, phio_paper_low)\n",
    "e2dfde_ic_high=1e10 * dfde(1e14, spectral_index, phio_paper_high)\n",
    "########e2dfde_ic @ 100TeV   in GeV unit###########\n",
    "print(phio_paper * ((1e14/(10**14))**spectral_index))\n",
    "print(e2dfde_ic)"
   ]
  },
  {
   "cell_type": "code",
   "execution_count": 100,
   "metadata": {},
   "outputs": [],
   "source": [
    "import matplotlib.patches as mpatches\n",
    "import matplotlib.lines as mlines\n",
    "yellow_patch = mpatches.Patch(color='grey',alpha=0.5,edgecolor=None,linewidth=0)\n",
    "blue_dotted_line = mlines.Line2D([], [], linewidth=2, linestyle='solid', color='grey')\n",
    "orange_line = mlines.Line2D([], [], linewidth=2, color='orange')\n",
    "firebrick_line=mlines.Line2D([], [], linewidth=2, color='firebrick')\n",
    "olivedrab_line=mlines.Line2D([], [], linewidth=2, color='olivedrab')\n",
    "dodgerblue_line=mlines.Line2D([], [], linewidth=2, color='dodgerblue')\n",
    "magenta_line=mlines.Line2D([], [], linewidth=2, color='purple')\n",
    "dashed_line=mlines.Line2D([0], [2],linestyle='--', color='k', lw=2)"
   ]
  },
  {
   "cell_type": "code",
   "execution_count": 101,
   "metadata": {},
   "outputs": [
    {
     "name": "stdout",
     "output_type": "stream",
     "text": [
      "[-4.94845720e-10 -4.59370986e-10 -5.76507065e-10 -5.88580296e-10\n",
      " -4.98332931e-10 -5.41499290e-10 -7.30900452e-10 -7.89851296e-10\n",
      " -7.34667661e-10 -7.97516054e-10 -7.22453209e-10 -7.58458186e-10\n",
      " -9.01348997e-10 -8.81874575e-10 -9.59365255e-10 -8.68084051e-10\n",
      " -1.11063225e-09 -1.16488508e-09 -1.03147580e-09 -1.20363275e-09\n",
      " -1.17274568e-09 -1.18022858e-09 -1.21423383e-09 -1.26189459e-09\n",
      " -1.32115874e-09 -1.37979228e-09 -1.42865165e-09 -1.69743064e-09\n",
      " -1.68651760e-09 -1.61895298e-09 -1.75433002e-09 -1.81476723e-09\n",
      " -2.03171169e-09 -2.15476482e-09 -2.15987473e-09 -2.28158004e-09\n",
      " -2.25794007e-09 -2.31923037e-09 -2.45021804e-09 -2.63364775e-09\n",
      " -2.84674152e-09 -2.81862002e-09 -3.03185767e-09 -2.96346593e-09\n",
      " -3.34457375e-09 -3.39851748e-09 -3.60027499e-09 -3.67516264e-09\n",
      " -3.84226342e-09 -4.08456360e-09 -4.11082726e-09 -4.40279949e-09\n",
      " -4.41995155e-09 -4.63413156e-09 -4.75969867e-09 -5.01082468e-09\n",
      " -5.35557736e-09 -5.49740658e-09 -5.65043262e-09 -6.02194633e-09\n",
      " -6.31953407e-09 -6.49354133e-09 -6.75265251e-09 -7.04263189e-09\n",
      " -7.31332736e-09 -7.76396934e-09 -8.08270838e-09 -8.46646986e-09\n",
      " -8.59811367e-09 -9.17182365e-09 -9.36481107e-09 -9.86496855e-09\n",
      " -1.03434598e-08 -1.07284485e-08 -1.11928320e-08 -1.16532732e-08\n",
      " -1.20258734e-08 -1.27236975e-08 -1.31511156e-08 -1.37140877e-08\n",
      " -1.43129027e-08 -1.48411664e-08 -1.56944335e-08 -1.62534024e-08\n",
      " -1.69036518e-08 -1.75199018e-08 -1.84766883e-08 -1.91356634e-08\n",
      " -1.98600036e-08 -2.07550646e-08 -2.16667984e-08 -2.26906397e-08\n",
      " -2.36563446e-08 -2.46464660e-08 -2.57307221e-08 -2.67214379e-08\n",
      " -2.79259734e-08 -2.91416357e-08 -3.01530008e-08 -3.14948343e-08\n",
      " -3.29351887e-08 -3.42344455e-08 -3.56439609e-08 -3.71516368e-08\n",
      " -3.87401525e-08 -4.03742565e-08 -4.22601315e-08 -4.38378797e-08\n",
      " -4.57929480e-08 -4.77872666e-08 -4.97235880e-08 -5.19926579e-08\n",
      " -5.39612664e-08 -5.64920329e-08 -5.86665996e-08 -6.13166662e-08\n",
      " -6.37367258e-08 -6.64680206e-08 -6.92727088e-08 -7.23996533e-08\n",
      " -7.53164445e-08 -7.84792489e-08 -8.18125507e-08 -8.54732287e-08\n",
      " -8.90874894e-08 -9.27562398e-08 -9.65559288e-08 -1.00783968e-07\n",
      " -1.04952285e-07 -1.09550515e-07 -1.14028207e-07 -1.19056774e-07\n",
      " -1.24017093e-07 -1.29258133e-07 -1.34837525e-07 -1.40526461e-07\n",
      " -1.46296257e-07 -1.52591129e-07 -1.59039527e-07 -1.65739081e-07\n",
      " -1.72730803e-07 -1.80005563e-07 -1.87755434e-07 -1.95608291e-07\n",
      " -2.03890405e-07 -2.12618293e-07 -2.21742054e-07 -2.31146842e-07\n",
      " -2.40898899e-07 -2.50996202e-07 -2.61611989e-07 -2.72839444e-07\n",
      " -2.84190523e-07 -2.96348647e-07 -3.08903371e-07 -3.21854991e-07\n",
      " -3.35609872e-07 -3.49722136e-07 -3.64648581e-07 -3.79977041e-07\n",
      " -3.96194686e-07 -4.12912992e-07 -4.30377039e-07 -4.48701110e-07\n",
      " -4.67615943e-07 -4.87467958e-07 -5.08205322e-07 -5.29625854e-07\n",
      " -5.52124599e-07 -5.75428600e-07 -5.99848488e-07 -6.25261612e-07\n",
      " -6.51870598e-07 -6.79421951e-07 -7.08219986e-07 -7.38107342e-07\n",
      " -7.69459611e-07 -8.01919643e-07 -8.35899950e-07 -8.71309318e-07\n",
      " -9.08302694e-07 -9.46764766e-07 -9.87051128e-07 -1.02871967e-06\n",
      " -1.07228117e-06 -1.11767681e-06 -1.16501547e-06 -1.21456486e-06\n",
      " -1.26597522e-06 -1.31952935e-06 -1.37536702e-06 -1.43372508e-06\n",
      " -1.49440796e-06 -1.55778473e-06 -1.62375915e-06 -1.69250726e-06\n",
      " -1.76420302e-06 -1.83899867e-06 -1.91674939e-06 -1.99799936e-06\n",
      " -2.08269585e-06 -2.17092091e-06 -2.26286502e-06 -2.35854777e-06\n",
      " -2.45854300e-06 -2.56269414e-06 -2.67134014e-06 -2.78452421e-06\n",
      " -2.90246744e-06 -3.02527982e-06 -3.15343316e-06 -3.28695907e-06\n",
      " -3.42642065e-06 -3.57136007e-06 -3.72277188e-06 -3.88054083e-06\n",
      " -4.04490669e-06 -4.21616164e-06 -4.39485202e-06 -4.58096976e-06\n",
      " -4.77490280e-06 -4.97737828e-06 -5.18814433e-06 -5.40791861e-06\n",
      " -5.63706722e-06 -5.87578620e-06 -6.12478510e-06 -6.38420764e-06\n",
      " -6.65455975e-06 -6.93637925e-06 -7.23040122e-06 -7.53646314e-06\n",
      " -7.85593748e-06 -8.18860311e-06 -8.53557998e-06 -8.89695238e-06\n",
      " -9.27393034e-06 -9.66671865e-06 -1.00764233e-05 -1.05031535e-05\n",
      " -1.09481745e-05 -1.14117493e-05 -1.18952732e-05 -1.23991137e-05\n",
      " -1.29244735e-05 -1.34719758e-05 -1.40425071e-05 -1.46375553e-05\n",
      " -1.52575154e-05 -1.59037740e-05 -1.65775085e-05 -1.72797397e-05\n",
      " -1.80118759e-05 -1.87749915e-05 -1.95701035e-05 -2.03991974e-05\n",
      " -2.12634586e-05 -2.21642830e-05 -2.31030090e-05 -2.40818909e-05\n",
      " -2.51020463e-05 -2.61654212e-05 -2.72737152e-05 -2.84290563e-05\n",
      " -2.96334116e-05 -3.08889761e-05 -3.21972961e-05 -3.35614019e-05\n",
      " -3.49831320e-05 -3.64652271e-05 -3.80098793e-05 -3.96200378e-05\n",
      " -4.12986788e-05 -4.30480443e-05 -4.48719001e-05 -4.67727229e-05\n",
      " -4.87541530e-05 -5.08196481e-05 -5.29726296e-05 -5.52165880e-05\n",
      " -5.75559294e-05 -5.99942698e-05 -6.25359771e-05 -6.51851560e-05\n",
      " -6.79468775e-05 -7.08253469e-05 -7.38258195e-05 -7.69536963e-05\n",
      " -8.02138571e-05 -8.36121959e-05 -8.71546127e-05 -9.08469642e-05\n",
      " -9.46959796e-05 -9.87078579e-05 -1.02889846e-04 -1.07248989e-04\n",
      " -1.11793102e-04 -1.16529408e-04 -1.21466662e-04 -1.26613165e-04\n",
      " -1.31977760e-04 -1.37569481e-04 -1.43398417e-04 -1.49474214e-04\n",
      " -1.55807548e-04 -1.62409238e-04 -1.69290806e-04 -1.76464179e-04\n",
      " -1.83941321e-04 -1.91735526e-04 -1.99860111e-04 -2.08329009e-04\n",
      " -2.17157017e-04 -2.26359186e-04 -2.35951346e-04 -2.45950279e-04\n",
      " -2.56372997e-04 -2.67237673e-04 -2.78562920e-04 -2.90368201e-04\n",
      " -3.02674330e-04 -3.15502086e-04 -3.28873673e-04 -3.42812266e-04\n",
      " -3.57342141e-04 -3.72488126e-04 -3.88276377e-04 -4.04734467e-04\n",
      " -4.21890510e-04 -4.39774097e-04 -4.58416517e-04 -4.77849739e-04\n",
      " -4.98107423e-04 -5.19224432e-04 -5.41237605e-04 -5.64184737e-04\n",
      " -5.88105815e-04 -6.13041939e-04 -6.39036476e-04 -6.66134363e-04\n",
      " -6.94382621e-04 -7.23830005e-04 -7.54527564e-04 -7.86528834e-04\n",
      " -8.19888880e-04 -8.54665716e-04 -8.90919780e-04 -9.28713992e-04\n",
      " -9.68113607e-04 -1.00918759e-03 -1.05200675e-03 -1.09664611e-03\n",
      " -1.14318276e-03 -1.19169763e-03 -1.24227568e-03 -1.29500451e-03\n",
      " -1.34997581e-03 -1.40728594e-03 -1.46703427e-03 -1.52932536e-03\n",
      " -1.59426785e-03 -1.66197511e-03 -1.73256558e-03 -1.80616247e-03\n",
      " -1.88289438e-03 -1.96289624e-03 -2.04630778e-03 -2.13327528e-03\n",
      " -2.22395129e-03 -2.31849543e-03 -2.41707345e-03 -2.51985877e-03\n",
      " -2.62703233e-03 -2.73878340e-03 -2.85530880e-03 -2.97681403e-03\n",
      " -3.10351418e-03 -3.23563354e-03 -3.37340572e-03 -3.51707558e-03\n",
      " -3.66689771e-03 -3.82313893e-03 -3.98607709e-03 -4.15600283e-03\n",
      " -4.33321969e-03 -4.51804446e-03 -4.71080781e-03 -4.91185566e-03\n",
      " -5.12154970e-03 -5.34026660e-03 -5.56840122e-03 -5.80636567e-03\n",
      " -6.05459042e-03 -6.31352568e-03 -6.58364259e-03 -6.86543258e-03\n",
      " -7.15941038e-03 -7.46611363e-03 -7.78610562e-03 -8.11997408e-03\n",
      " -8.46833527e-03 -8.83183284e-03 -9.21114114e-03 -9.60696542e-03\n",
      " -1.00200439e-02 -1.04511500e-02 -1.09010925e-02 -1.13707193e-02\n",
      " -1.18609180e-02 -1.23726186e-02 -1.29067958e-02 -1.34644707e-02\n",
      " -1.40467138e-02 -1.46546475e-02 -1.52894482e-02 -1.59523505e-02\n",
      " -1.66446497e-02 -1.73677039e-02 -1.81229399e-02 -1.89118543e-02\n",
      " -1.97360195e-02 -2.05970869e-02 -2.14967911e-02 -2.24369553e-02\n",
      " -2.34194958e-02 -2.44464275e-02 -2.55198698e-02 -2.66420521e-02\n",
      " -2.78153211e-02 -2.90421460e-02 -3.03251283e-02 -3.16670072e-02\n",
      " -3.30706694e-02 -3.45391576e-02 -3.60756795e-02 -3.76836188e-02\n",
      " -3.93665452e-02 -4.11282267e-02 -4.29726412e-02 -4.49039905e-02\n",
      " -4.69267140e-02 -4.90455041e-02 -5.12653219e-02 -5.35914157e-02\n",
      " -5.60293383e-02 -5.85849681e-02 -6.12645296e-02 -6.40746173e-02\n",
      " -6.70222194e-02 -7.01147448e-02 -7.33600516e-02 -7.67664768e-02\n",
      " -8.03428697e-02 -8.40986270e-02 -8.80437298e-02 -9.21887852e-02\n",
      " -9.65450693e-02 -1.01124573e-01 -1.05940056e-01 -1.11005095e-01\n",
      " -1.16334148e-01 -1.21942612e-01 -1.27846894e-01 -1.34064483e-01\n",
      " -1.40614024e-01 -1.47515407e-01 -1.54789856e-01 -1.62460023e-01\n",
      " -1.70550099e-01 -1.79085919e-01 -1.88095088e-01 -1.97607114e-01\n",
      " -2.07653540e-01 -2.18268105e-01 -2.29486900e-01 -2.41348548e-01\n",
      " -2.53894389e-01 -2.67168685e-01 -2.81218843e-01 -2.96095641e-01\n",
      " -3.11853492e-01 -3.28550711e-01 -3.46249811e-01 -3.65017817e-01\n",
      " -3.84926610e-01 -4.06053290e-01 -4.28480574e-01 -4.52297214e-01\n",
      " -4.77598458e-01 -5.04486539e-01 -5.33071200e-01 -5.63470263e-01\n",
      " -5.95810238e-01 -6.30226978e-01 -6.66866381e-01 -7.05885146e-01\n",
      " -7.47451586e-01 -7.91746500e-01 -8.38964106e-01 -8.89313046e-01\n",
      " -9.43017467e-01 -1.00031817e+00 -1.06147387e+00 -1.12676248e+00\n",
      " -1.19648259e+00 -1.27095496e+00 -1.35052418e+00 -1.43556039e+00\n",
      " -1.52646118e+00 -1.62365359e+00 -1.72759627e+00 -1.83878177e+00\n",
      " -1.95773898e+00 -2.08503579e+00 -2.22128189e+00 -2.36713176e+00\n",
      " -2.52328787e+00 -2.69050414e+00 -2.86958954e+00 -3.06141203e+00\n",
      " -3.26690270e+00 -3.48706022e+00 -3.72295553e+00 -3.97573694e+00\n",
      " -4.24663543e+00 -4.53697045e+00 -4.84815591e+00 -5.18170675e+00\n",
      " -5.53924580e+00 -5.92251112e+00 -6.33336381e+00 -6.77379631e+00\n",
      " -7.24594124e+00 -7.75208074e+00 -8.29465649e+00 -8.87628023e+00\n",
      " -9.49974508e+00 -1.01680374e+01 -1.08843495e+01 -1.16520930e+01\n",
      " -1.24749134e+01 -1.33567047e+01 -1.43016259e+01 -1.53141178e+01\n",
      " -1.63989211e+01 -1.75610957e+01 -1.88060404e+01 -2.01395150e+01\n",
      " -2.15676628e+01 -2.30970348e+01 -2.47346148e+01 -2.64878470e+01\n",
      " -2.83646641e+01 -3.03735181e+01 -3.25234118e+01 -3.48239330e+01\n",
      " -3.72852902e+01 -3.99183508e+01 -4.27346808e+01 -4.57465879e+01\n",
      " -4.89671654e+01 -5.24103406e+01 -5.60909242e+01 -6.00246638e+01\n",
      " -6.42282994e+01 -6.87196230e+01 -7.35175407e+01 -7.86421390e+01\n",
      " -8.41147543e+01 -8.99580463e+01 -9.61960761e+01 -1.02854388e+02\n",
      " -1.09960096e+02 -1.17541974e+02 -1.25630556e+02 -1.34258232e+02\n",
      " -1.43459359e+02 -1.53270374e+02 -1.63729910e+02 -1.74878926e+02\n",
      " -1.86760836e+02 -1.99421649e+02 -2.12910116e+02 -2.27277886e+02\n",
      " -2.42579666e+02 -2.58873396e+02 -2.76220427e+02 -2.94685711e+02\n",
      " -3.14338000e+02 -3.35250062e+02 -3.57498892e+02 -3.81165954e+02\n",
      " -4.06337419e+02 -4.33104426e+02 -4.61563348e+02 -4.91816079e+02\n",
      " -5.23970329e+02 -5.58139939e+02 -5.94445209e+02 -6.33013239e+02\n",
      " -6.73978297e+02 -7.17482194e+02 -7.63674682e+02 -8.12713876e+02\n",
      " -8.64766689e+02 -9.20009289e+02 -9.78627587e+02 -1.04081774e+03\n",
      " -1.10678667e+03 -1.17675263e+03 -1.25094580e+03 -1.32960884e+03\n",
      " -1.41299761e+03 -1.50138176e+03 -1.59504549e+03 -1.69428822e+03\n",
      " -1.79942544e+03 -1.91078942e+03 -2.02873012e+03 -2.15361606e+03\n",
      " -2.28583521e+03 -2.42579597e+03 -2.57392820e+03 -2.73068425e+03\n",
      " -2.89654009e+03 -3.07199643e+03 -3.25757997e+03 -3.45384466e+03\n",
      " -3.66137301e+03 -3.88077749e+03 -4.11270200e+03 -4.35782335e+03\n",
      " -4.61685291e+03 -4.89053820e+03 -5.17966473e+03 -5.48505775e+03\n",
      " -5.80758418e+03 -6.14815464e+03 -6.50772553e+03 -6.88730121e+03\n",
      " -7.28793632e+03 -7.71073817e+03 -8.15686929e+03 -8.62755004e+03\n",
      " -9.12406141e+03 -9.64774789e+03 -1.02000206e+04 -1.07823602e+04\n",
      " -1.13963207e+04 -1.20435326e+04 -1.27257066e+04 -1.34446377e+04\n",
      " -1.42022089e+04 -1.50003958e+04 -1.58412709e+04 -1.67270081e+04\n",
      " -1.76598880e+04 -1.86423029e+04 -1.96767622e+04 -2.07658981e+04\n",
      " -2.19124720e+04 -2.31193801e+04 -2.43896608e+04 -2.57265015e+04\n",
      " -2.71332459e+04 -2.86134017e+04 -3.01706493e+04 -3.18088502e+04\n",
      " -3.35320560e+04 -3.53445186e+04 -3.72507001e+04 -3.92552838e+04\n",
      " -4.13631854e+04 -4.35795656e+04 -4.59098429e+04 -4.83597070e+04\n",
      " -5.09351334e+04 -5.36423989e+04 -5.64880981e+04 -5.94791604e+04\n",
      " -6.26228689e+04 -6.59268796e+04 -6.93992433e+04 -7.30484272e+04\n",
      " -7.68833390e+04 -8.09133530e+04 -8.51483368e+04 -8.95986812e+04\n",
      " -9.42753312e+04 -9.91898199e+04 -1.04354305e+05 -1.09781606e+05\n",
      " -1.15485251e+05 -1.21479514e+05 -1.27779471e+05 -1.34401050e+05\n",
      " -1.41361086e+05 -1.48677386e+05 -1.56368794e+05 -1.64455263e+05\n",
      " -1.72957939e+05 -1.81899239e+05 -1.91302953e+05 -2.01194343e+05\n",
      " -2.11600255e+05 -2.22549245e+05 -2.34071711e+05 -2.46200048e+05\n",
      " -2.58968807e+05 -2.72414880e+05 -2.86577702e+05 -3.01499472e+05\n",
      " -3.17225406e+05 -3.33804010e+05 -3.51287396e+05 -3.69731624e+05\n",
      " -3.89197097e+05 -4.09749001e+05 -4.31457801e+05 -4.54399809e+05\n",
      " -4.78657824e+05 -5.04321868e+05 -5.31490026e+05 -5.60269411e+05\n",
      " -5.90777286e+05 -6.23142355e+05 -6.57506277e+05 -6.94025430e+05\n",
      " -7.32872997e+05 -7.74241429e+05 -8.18345376e+05 -8.65425206e+05\n",
      " -9.15751241e+05 -9.69628922e+05 -1.02740511e+06 -1.08947592e+06\n",
      " -1.15629641e+06 -1.22839290e+06 -1.30637861e+06 -1.39097385e+06\n",
      " -1.48303246e+06 -1.58357695e+06 -1.69384606e+06 -1.81536031e+06\n",
      " -1.95001454e+06 -2.10021184e+06 -2.26906336e+06 -2.46069724e+06\n",
      " -2.68075699e+06 -2.93724860e+06 -3.24207775e+06 -3.61408599e+06\n",
      " -4.08577686e+06 -4.72090503e+06 -5.67461114e+06 -7.55170168e+06\n",
      "  0.00000000e+00  0.00000000e+00  0.00000000e+00  0.00000000e+00\n",
      "  0.00000000e+00  0.00000000e+00  0.00000000e+00  0.00000000e+00\n",
      "  0.00000000e+00  0.00000000e+00  0.00000000e+00  0.00000000e+00\n",
      "  0.00000000e+00  0.00000000e+00  0.00000000e+00  0.00000000e+00\n",
      "  0.00000000e+00  0.00000000e+00  0.00000000e+00  0.00000000e+00\n",
      "  0.00000000e+00  0.00000000e+00  0.00000000e+00  0.00000000e+00\n",
      "  0.00000000e+00  0.00000000e+00  0.00000000e+00  0.00000000e+00\n",
      "  0.00000000e+00  0.00000000e+00  0.00000000e+00  0.00000000e+00\n",
      "  0.00000000e+00  0.00000000e+00  0.00000000e+00  0.00000000e+00\n",
      "  0.00000000e+00  0.00000000e+00  0.00000000e+00  0.00000000e+00\n",
      "  0.00000000e+00  0.00000000e+00  0.00000000e+00  0.00000000e+00\n",
      "  0.00000000e+00  0.00000000e+00  0.00000000e+00  0.00000000e+00\n",
      "  0.00000000e+00  0.00000000e+00  0.00000000e+00  0.00000000e+00\n",
      "  0.00000000e+00  0.00000000e+00  0.00000000e+00  0.00000000e+00\n",
      "  0.00000000e+00  0.00000000e+00  0.00000000e+00  0.00000000e+00\n",
      "  0.00000000e+00  0.00000000e+00  0.00000000e+00  0.00000000e+00\n",
      "  0.00000000e+00  0.00000000e+00  0.00000000e+00  0.00000000e+00\n",
      "  0.00000000e+00  0.00000000e+00  0.00000000e+00  0.00000000e+00\n",
      "  0.00000000e+00  0.00000000e+00  0.00000000e+00  0.00000000e+00\n",
      "  0.00000000e+00  0.00000000e+00  0.00000000e+00  0.00000000e+00\n",
      "  0.00000000e+00  0.00000000e+00  0.00000000e+00  0.00000000e+00\n",
      "  0.00000000e+00  0.00000000e+00  0.00000000e+00  0.00000000e+00\n",
      "  0.00000000e+00  0.00000000e+00  0.00000000e+00  0.00000000e+00\n",
      "  0.00000000e+00  0.00000000e+00  0.00000000e+00  0.00000000e+00\n",
      "  0.00000000e+00  0.00000000e+00  0.00000000e+00  0.00000000e+00\n",
      "  0.00000000e+00  0.00000000e+00  0.00000000e+00  0.00000000e+00\n",
      "  0.00000000e+00  0.00000000e+00  0.00000000e+00  0.00000000e+00\n",
      "  0.00000000e+00  0.00000000e+00  0.00000000e+00  0.00000000e+00\n",
      "  0.00000000e+00  0.00000000e+00  0.00000000e+00  0.00000000e+00\n",
      "  0.00000000e+00  0.00000000e+00  0.00000000e+00  0.00000000e+00\n",
      "  0.00000000e+00  0.00000000e+00  0.00000000e+00  0.00000000e+00\n",
      "  0.00000000e+00  0.00000000e+00  0.00000000e+00  0.00000000e+00\n",
      "  0.00000000e+00  0.00000000e+00  0.00000000e+00  0.00000000e+00\n",
      "  0.00000000e+00  0.00000000e+00  0.00000000e+00  0.00000000e+00\n",
      "  0.00000000e+00  0.00000000e+00  0.00000000e+00  0.00000000e+00\n",
      "  0.00000000e+00  0.00000000e+00  0.00000000e+00  0.00000000e+00\n",
      "  0.00000000e+00  0.00000000e+00  0.00000000e+00  0.00000000e+00\n",
      "  0.00000000e+00  0.00000000e+00  0.00000000e+00  0.00000000e+00\n",
      "  0.00000000e+00  0.00000000e+00  0.00000000e+00  0.00000000e+00\n",
      "  0.00000000e+00  0.00000000e+00  0.00000000e+00  0.00000000e+00\n",
      "  0.00000000e+00  0.00000000e+00  0.00000000e+00  0.00000000e+00\n",
      "  0.00000000e+00  0.00000000e+00  0.00000000e+00  0.00000000e+00\n",
      "  0.00000000e+00  0.00000000e+00  0.00000000e+00  0.00000000e+00\n",
      "  0.00000000e+00  0.00000000e+00  0.00000000e+00  0.00000000e+00\n",
      "  0.00000000e+00  0.00000000e+00  0.00000000e+00  0.00000000e+00\n",
      "  0.00000000e+00  0.00000000e+00  0.00000000e+00  0.00000000e+00\n",
      "  0.00000000e+00  0.00000000e+00  0.00000000e+00  0.00000000e+00\n",
      "  0.00000000e+00  0.00000000e+00  0.00000000e+00  0.00000000e+00\n",
      "  0.00000000e+00  0.00000000e+00  0.00000000e+00  0.00000000e+00\n",
      "  0.00000000e+00  0.00000000e+00  0.00000000e+00  0.00000000e+00\n",
      "  0.00000000e+00  0.00000000e+00  0.00000000e+00  0.00000000e+00\n",
      "  0.00000000e+00  0.00000000e+00  0.00000000e+00  0.00000000e+00\n",
      "  0.00000000e+00  0.00000000e+00  0.00000000e+00  0.00000000e+00\n",
      "  0.00000000e+00  0.00000000e+00  0.00000000e+00  0.00000000e+00\n",
      "  0.00000000e+00  0.00000000e+00  0.00000000e+00  0.00000000e+00\n",
      "  0.00000000e+00  0.00000000e+00  0.00000000e+00  0.00000000e+00\n",
      "  0.00000000e+00  0.00000000e+00  0.00000000e+00  0.00000000e+00\n",
      "  0.00000000e+00  0.00000000e+00  0.00000000e+00  0.00000000e+00\n",
      "  0.00000000e+00  0.00000000e+00  0.00000000e+00  0.00000000e+00\n",
      "  0.00000000e+00  0.00000000e+00  0.00000000e+00  0.00000000e+00\n",
      "  0.00000000e+00  0.00000000e+00  0.00000000e+00  0.00000000e+00]\n",
      "\n",
      "TS_vs_E2dfde_all_w_model_bins=1000000.png\n",
      "DONE\n"
     ]
    },
    {
     "data": {
      "image/png": "[encoded data removed]",
      "text/plain": [
       "<Figure size 700x600 with 1 Axes>"
      ]
     },
     "metadata": {},
     "output_type": "display_data"
    }
   ],
   "source": [
    "e2dfde = all_e_UL[1]\n",
    "# plt.style.use('default')\n",
    "font = {'family': 'serif',\n",
    "        'weight': 'bold',\n",
    "        'size': 22,\n",
    "        'color':  'black',\n",
    "        }\n",
    "smallerfont = {'family': 'serif',\n",
    "        'color':  'black',\n",
    "        'weight': 'bold',\n",
    "        'size': 15,\n",
    "        }\n",
    "\n",
    "axesfont = {'family': 'serif',\n",
    "        'color':  'black',\n",
    "        'weight': 'normal',\n",
    "        'size': 17,\n",
    "        }\n",
    "minor_x_array=np.logspace(-12,-6,50)\n",
    "fig, axs = plt.subplots(1,1, figsize=(7, 6))\n",
    "c_arr=['orange','firebrick','olivedrab','dodgerblue','purple']\n",
    "# c_arr=['orange','firebrick','olivedrab','dodgerblue','magenta']\n",
    "if os.path.exists(os.getcwd() + \"/outputs3/stacking_TS_max2_1.txt\"):\n",
    "        os.remove(os.getcwd()+\"/outputs3/stacking_TS_max2_1.txt\")\n",
    "with open(os.getcwd()+\"/outputs3/stacking_TS_max2_1.txt\",\"a+\") as f:\n",
    "        \n",
    "        for gamma in [0, 1, 2, 3, 4]:#range(4):\n",
    "        \n",
    "        #     for i in range(1):\n",
    "                # axs.plot(e2dfde[gamma]/1e9, all_TSS[0][gamma], label='$\\Gamma$ = ' + str(gamma_arr[gamma]), lw=2.2,c=c_arr[gamma])# + ' with wt')    #in GeV\n",
    "                axs.plot(e2dfde[gamma]/1e9, all_TSS[1][gamma],  lw=2.2,c=c_arr[gamma])# + ' with wt')    #in GeV\n",
    "                all_TSS[1][gamma]=np.nan_to_num(all_TSS[1][gamma], nan=0.0)\n",
    "                # print(e2dfde[gamma][3]/1e9)\n",
    "                if gamma ==3:\n",
    "                        print(all_TSS[1][gamma] )\n",
    "                f.write(str(e2dfde[gamma][np.where(all_TSS[1][gamma]==np.max(all_TSS[1][gamma]))[0][0]]/1e9)+ \"    \"+str(np.max(all_TSS[1][gamma])) + '\\n')\n",
    "f.close()               \n",
    "        # axs.set_title('Weighting scheme: $\\mathsf{\\mathbf{w_{acc}}}$; $\\mathsf{\\mathbf{w_{model} = 1}}$', fontdict=smallerfont)\n",
    "# axs[1].set_title('Weighting scheme: $\\mathsf{\\mathbf{w_{acc}}}$; $\\mathsf{\\mathbf{w_{model} = \\dfrac{1}{d_{DM}^2}}}$' , fontdict=smallerfont)\n",
    "# axs[2].set_title('Weighting scheme: $\\mathsf{\\mathbf{w_{acc}}}$; $\\mathsf{\\mathbf{w_{model} = s_{1400}}}$', fontdict=smallerfont)\n",
    "# axs.axvspan(e2dfde_ic_low, e2dfde_ic_high, facecolor ='grey', alpha = 0.5,linewidth=3,label='$\\mu$ flux at 100 TeV(IceCube)') \n",
    "# axs.vlines(e2dfde_ic,  -55, 20, lw=2, color='grey')\n",
    "axs.axvspan(e2dfde_ic_low, e2dfde_ic_high, facecolor ='grey', alpha = 0.5,linewidth=3) \n",
    "axs.vlines(e2dfde_ic,  -55, 20, lw=2, color='grey')\n",
    "# for i in range(3):\n",
    "    \n",
    "# axs.text(1e-8,0.6,'95 % UPPER LIMIT $TS = -3.84$')    \n",
    "# axs.annotate('95 % UPPER LIMIT $TS = -3.84$',xy=(0.6,0.6),xytext=(0.8,0.8), arrowprops=dict(facecolor='black',shrink=0.6,width=2))\n",
    "axs.set_xlabel('$\\mathsf{{E^2_{\\u03BD} \\dfrac{dF}{dE_{\\u03BD}}}}$ ($\\mathsf{{GeV}}$ $\\mathsf{{s^{-1}}}$ $\\mathsf{{cm^{-2}}}$ $\\mathsf{{sr^{-1}}}$) at 100 TeV', fontdict=axesfont)\n",
    "axs.set_ylabel('TS', fontdict=axesfont)\n",
    "axs.xaxis.set_tick_params(labelsize=15)\n",
    "axs.yaxis.set_tick_params(labelsize=15)\n",
    "axs.tick_params(which='major', width=1.5, length=6,direction='in')\n",
    "axs.tick_params(which='minor', width=1.5, length=3,direction='in')\n",
    "axs.set_ylim(-55, 20)\n",
    "axs.set_xlim(0.95e-11, 3e-7)\n",
    "#axs.xaxis.set_minor_locator(AutoMinorLocator())\n",
    "axs.yaxis.set_minor_locator(AutoMinorLocator())\n",
    "axs.tick_params(which='minor', length=3, color='k')\n",
    "axs.tick_params(axis='x', which='minor', bottom=True,top=True)\n",
    "axs.tick_params(axis='x', which='major', bottom=True,top=True)\n",
    "axs.tick_params(axis='y', which='minor', right=True)\n",
    "axs.tick_params(axis='y', which='major', right=True)\n",
    "# axs.hlines(-3.84,  0.95e-11, 3e-7,linestyles='dashed', lw=1.7, ls='--', label='95 % Limit $TS = -3.84$', color='k')\n",
    "axs.hlines(-3.84,  0.95e-11, 3e-7,linestyles='dashed', lw=1.7, ls='--', color='k')\n",
    "axs.xaxis.set_minor_locator(FixedLocator(minor_x_array))\n",
    "axs.xaxis.set_minor_formatter(NullFormatter())\n",
    "#plt.suptitle('TS vs Total Neutrino Flux at 100 TeV', fontweight='bold', fontsize=16, fontfamily='serif')\n",
    "# axs.legend(prop={'size':12}, framealpha=0)\n",
    "axs.set_xscale('log')\n",
    "\n",
    "plt.tight_layout()\n",
    "plt.legend([orange_line, firebrick_line, olivedrab_line,dodgerblue_line,magenta_line,(yellow_patch, blue_dotted_line),\\\n",
    "dashed_line], ['$\\Gamma$ = -2.0', '$\\Gamma$ = -2.4','$\\Gamma$ = -2.53','$\\Gamma$ = -3.0','$\\Gamma$ = -3.5',\\\n",
    "'$\\mu$ flux at 100 TeV','95 % Limit $TS = -3.84$'],fancybox=False,edgecolor=None,frameon=False,fontsize='small',loc=3)\n",
    "plt.savefig(f'outputs3/fig4_1.pdf')\n",
    "# plt.show()\n",
    "print(f'\\nTS_vs_E2dfde_all_w_model_bins={len(enus)}.png\\nDONE')"
   ]
  },
  {
   "cell_type": "code",
   "execution_count": 75,
   "metadata": {},
   "outputs": [],
   "source": [
    "gama=list(np.random.normal(2.58,0.1,100))\n",
    "Phi=list(np.random.normal(1.68,0.2,100))\n",
    "all_e_UL = []\n",
    "e_decade = [1e13, 1e14, 1e15, 1e16, 1e17]\n",
    "x = np.logspace(13.2041, 15.41497, 50)\n",
    "x=list(x)\n",
    "# print(x)\n",
    "e2dfde = []\n",
    "e_UL_GeV=[]\n",
    "def model(xm,gm,ph):\n",
    "    '''\n",
    "    Parameters\n",
    "    ----------\n",
    "    e_nu : float\n",
    "        The neutrino energy in eV\n",
    "    \n",
    "    gamma : float\n",
    "        The spectral index of the neutrino flux\n",
    "    \n",
    "    phi0 : float (optional)\n",
    "        The normalization constant of the neutrino flux in eV^-1. The default is 1e-40.\n",
    "    \n",
    "    Returns\n",
    "    -------\n",
    "    float\n",
    "        The differential flux of neutrinos\n",
    "    '''\n",
    "    e2dfde = []\n",
    "    for e_UL in xm:\n",
    "    \n",
    "    # e_UL_GeV.append(e_UL*1e-9)\n",
    "    # for gamma in prange(len(gamma_arr)):\n",
    "    # temp = []\n",
    "    # for phi in range(len(phio)):\n",
    "    \n",
    "\n",
    "        e2dfde.append(3e-18*(e_UL*1e-9)**2 * ph * ((e_UL/(10**14))**(-1*gm)))        #in eV\n",
    "    # e2dfde.append(temp)\n",
    "    e2dfde = np.asarray(e2dfde)\n",
    "    return e2dfde      #eV^-1\n",
    "\n",
    "    # all_e_UL.append(e2dfde)"
   ]
  },
  {
   "cell_type": "code",
   "execution_count": 77,
   "metadata": {},
   "outputs": [],
   "source": [
    "ysample=np.asarray([model(x,gama[i],Phi[i]) for i in range(len(gama))])"
   ]
  },
  {
   "cell_type": "code",
   "execution_count": 78,
   "metadata": {},
   "outputs": [],
   "source": [
    "lower=np.percentile(ysample,(100-68.26)/2,axis=0)\n",
    "upper=np.percentile(ysample,(100-68.26)/2+68.26,axis=0)"
   ]
  },
  {
   "cell_type": "code",
   "execution_count": 82,
   "metadata": {},
   "outputs": [
    {
     "data": {
      "text/plain": [
       "50"
      ]
     },
     "execution_count": 82,
     "metadata": {},
     "output_type": "execute_result"
    }
   ],
   "source": [
    "len(lower)"
   ]
  },
  {
   "cell_type": "code",
   "execution_count": 79,
   "metadata": {},
   "outputs": [
    {
     "data": {
      "image/png": "[encoded data removed]",
      "text/plain": [
       "<Figure size 700x600 with 1 Axes>"
      ]
     },
     "metadata": {},
     "output_type": "display_data"
    }
   ],
   "source": [
    "fig, axs = plt.subplots(1,1, figsize=(7, 6))\n",
    "minor_y_array=np.logspace(-12,-6,50)\n",
    "for gamma in range(0, len(gamma_arr)):\n",
    "\n",
    "    axs.plot(np.divide(e_decade, 1e9), np.multiply(all_UL[1][gamma], 3), label='$\\Gamma$ = ' + str(gamma_arr[gamma]), lw=2.2, ls='-',c=c_arr[gamma])# + ' with wt')    #in GeV\n",
    "    \n",
    "\n",
    "axs.set_xlabel('E$_{\\u03BD}$ (GeV)', fontdict=axesfont)\n",
    "axs.set_ylabel('$\\mathsf{{E^2_{\\u03BD} \\dfrac{dF}{dE_{\\u03BD}}}}$ ($\\mathsf{{GeV}}$ $\\mathsf{{s^{-1}}}$ $\\mathsf{{cm^{-2}}}$ $\\mathsf{{sr^{-1}}}$) at 100 TeV', fontdict=axesfont)\n",
    "axs.xaxis.set_tick_params(labelsize=15)\n",
    "axs.yaxis.set_tick_params(labelsize=15)\n",
    "axs.tick_params(which='major', width=1.5, length=6,direction='in')\n",
    "axs.tick_params(which='minor', width=1.5, length=3,direction='in')\n",
    "\n",
    "#axs.xaxis.set_minor_locator(AutoMinorLocator())\n",
    "axs.yaxis.set_minor_locator(AutoMinorLocator(20))\n",
    "axs.tick_params(which='minor', length=3, color='k')\n",
    "# axs.set_xscale('log')\n",
    "axs.tick_params(axis='x', which='minor', bottom=True,top=True)\n",
    "axs.tick_params(axis='x', which='major', bottom=True,top=True)\n",
    "axs.tick_params(axis='y', which='minor', right=True)\n",
    "axs.tick_params(axis='y', which='major', right=True)\n",
    "# axs.yaxis.set_minor_locator(FixedLocator(minor_y_array))\n",
    "# axs.yaxis.set_minor_formatter(NullFormatter())\n",
    "axs.legend(prop={'size':14}, framealpha=0, loc='lower left')\n",
    "\n",
    "#x = np.linspace(e_decade[:-2][0], e_decade[1:-1][-1], 11)\n",
    "# x=x*1e-9\n",
    "# y = [3.9, 4.4, 10.8, 10.3, 11.2, 13.1, 14.1,  9.9, 13.9, 15.1, 12.5]\n",
    "\n",
    "# fit a linear curve and estimate its y-values and their error.\n",
    "# a, b = np.polyfit(x, y, deg=1)\n",
    "# y_est = 3e-18*x*x*1.66* np.divide(x,1e5)**(-2.53)\n",
    "# y_est_up =3e-18*x*x*1.91* np.divide(x,1e5)**(-2.60)\n",
    "# y_est_low =3e-18*x*x*1.39* np.divide(x,1e5)**(-2.46)\n",
    "# y_err = np.divide(x, 1e9).std() * np.sqrt(1/len(x) +\n",
    "#                           (np.divide(x, 1e9) - np.divide(x, 1e9).mean())**2 / np.sum((np.divide(x, 1e9) - np.divide(x, 1e9).mean())**2))\n",
    "\n",
    "\n",
    "axs.plot(np.divide(x,1e9), model(x,2.53,1.66), '-',c='grey',linewidth=2)\n",
    "\n",
    "# axs.plot(x, y_est_low, '-',c='grey',linewidth=1)\n",
    "# axs.plot(x, y_est_up, '-',c='grey',linewidth=1)\n",
    "axs.fill_between(np.divide(x,1e9),lower, upper, color='grey',alpha=0.7,label='$\\\\nu$ flux(IceCube)')\n",
    "# axs.fill_between(x, y_est - y_err, y_est + y_err, alpha=0.2)\n",
    "\n",
    "# axs.plot(x, y, 'o', color='tab:brown')\n",
    "# axs[0].set_title('Weighting scheme: $\\mathsf{\\mathbf{w_{acc}}}$; $\\mathsf{\\mathbf{w_{model} = 1}}$', fontdict=smallerfont)\n",
    "# axs[1].set_title('Weighting scheme: $\\mathsf{\\mathbf{w_{acc}}}$; $\\mathsf{\\mathbf{w_{model} = \\dfrac{1}{d_{DM}^2}}}$' , fontdict=smallerfont)\n",
    "# axs[2].set_title('Weighting scheme: $\\mathsf{\\mathbf{w_{acc}}}$; $\\mathsf{\\mathbf{w_{model} = s_{1400}}}$', fontdict=smallerfont)\n",
    "# axs.legend(prop={'size':12}, framealpha=0)\n",
    "# axs.set_ylim(4e-9, 3e-7)\n",
    "# axs.set_xlim(1e4, 1e8)\n",
    "axs.set_xscale('log')\n",
    "# plt.minorticks_on()\n",
    "axs.set_yscale('log')\n",
    "# plt.suptitle('95% UL of Total Energy Flux vs Neutrino Energy', fontweight='bold', fontsize=20, fontfamily='serif')\n",
    "plt.tight_layout()\n",
    "plt.legend([orange_line, firebrick_line, olivedrab_line,dodgerblue_line,magenta_line,(yellow_patch, blue_dotted_line)],\\\n",
    "    ['$\\Gamma$ = -2.0', '$\\Gamma$ = -2.4','$\\Gamma$ = -2.53','$\\Gamma$ = -3.0','$\\Gamma$ = -3.5','$\\mu$ flux at 100 TeV'],  fancybox=False,edgecolor=None,frameon=False,fontsize='large')\n",
    "plt.savefig(f'outputs3/fig4_2.pdf')\n",
    "plt.show()\n"
   ]
  },
  {
   "cell_type": "code",
   "execution_count": 96,
   "metadata": {},
   "outputs": [
    {
     "data": {
      "image/png": "[encoded data removed]",
      "text/plain": [
       "<Figure size 700x600 with 1 Axes>"
      ]
     },
     "metadata": {},
     "output_type": "display_data"
    }
   ],
   "source": [
    "# fig, axs = plt.subplots(1,1, figsize=(7, 6))\n",
    "# minor_y_array=np.logspace(-12,-6,50)\n",
    "# for gamma in range(0, len(gamma_arr)):\n",
    "\n",
    "#     axs.plot(np.divide(e_decade, 1e9), np.multiply(all_UL[0][gamma], 3), label='$\\Gamma$ = ' + str(gamma_arr[gamma]), lw=2.2, ls='-',c=c_arr[gamma])# + ' with wt')    #in GeV\n",
    "    \n",
    "\n",
    "# axs.set_xlabel('E$_{\\u03BD}$ (GeV)', fontdict=axesfont)\n",
    "# axs.set_ylabel('$\\mathsf{{E^2_{\\u03BD} \\dfrac{dF}{dE_{\\u03BD}}}}$ ($\\mathsf{{GeV}}$ $\\mathsf{{s^{-1}}}$ $\\mathsf{{cm^{-2}}}$ $\\mathsf{{sr^{-1}}}$) at 100 TeV', fontdict=axesfont)\n",
    "# axs.xaxis.set_tick_params(labelsize=15)\n",
    "# axs.yaxis.set_tick_params(labelsize=15)\n",
    "# axs.tick_params(which='major', width=1.5, length=6,direction='in')\n",
    "# axs.tick_params(which='minor', width=1.5, length=3,direction='in')\n",
    "\n",
    "# #axs.xaxis.set_minor_locator(AutoMinorLocator())\n",
    "# axs.yaxis.set_minor_locator(AutoMinorLocator())\n",
    "# axs.tick_params(which='minor', length=3, color='k')\n",
    "# # axs.set_xscale('log')\n",
    "# axs.tick_params(axis='x', which='minor', bottom=True,top=True)\n",
    "# axs.tick_params(axis='x', which='major', bottom=True,top=True)\n",
    "# axs.tick_params(axis='y', which='minor', right=True)\n",
    "# axs.tick_params(axis='y', which='major', right=True)\n",
    "# # axs.yaxis.set_minor_locator(FixedLocator(minor_y_array))\n",
    "# # axs.yaxis.set_minor_formatter(NullFormatter())\n",
    "# axs.legend(prop={'size':14}, framealpha=0, loc='lower left')\n",
    "\n",
    "# #x = np.linspace(e_decade[:-2][0], e_decade[1:-1][-1], 11)\n",
    "# # x=x*1e-9\n",
    "# # y = [3.9, 4.4, 10.8, 10.3, 11.2, 13.1, 14.1,  9.9, 13.9, 15.1, 12.5]\n",
    "\n",
    "# # fit a linear curve and estimate its y-values and their error.\n",
    "# # a, b = np.polyfit(x, y, deg=1)\n",
    "# # y_est = 3e-18*x*x*1.66* np.divide(x,1e5)**(-2.53)\n",
    "# # y_est_up =3e-18*x*x*1.91* np.divide(x,1e5)**(-2.60)\n",
    "# # y_est_low =3e-18*x*x*1.39* np.divide(x,1e5)**(-2.46)\n",
    "# # y_err = np.divide(x, 1e9).std() * np.sqrt(1/len(x) +\n",
    "# #                           (np.divide(x, 1e9) - np.divide(x, 1e9).mean())**2 / np.sum((np.divide(x, 1e9) - np.divide(x, 1e9).mean())**2))\n",
    "\n",
    "\n",
    "# axs.plot(np.divide(x,1e9), model(x,2.53,1.66), '-',c='grey',linewidth=2)\n",
    "\n",
    "# # axs.plot(x, y_est_low, '-',c='grey',linewidth=1)\n",
    "# # axs.plot(x, y_est_up, '-',c='grey',linewidth=1)\n",
    "# axs.fill_between(np.divide(x,1e9),lower, upper, color='grey',alpha=0.7,label='$\\\\nu$ flux(IceCube)')\n",
    "# # axs.fill_between(x, y_est - y_err, y_est + y_err, alpha=0.2)\n",
    "\n",
    "# # axs.plot(x, y, 'o', color='tab:brown')\n",
    "# # axs[0].set_title('Weighting scheme: $\\mathsf{\\mathbf{w_{acc}}}$; $\\mathsf{\\mathbf{w_{model} = 1}}$', fontdict=smallerfont)\n",
    "# # axs[1].set_title('Weighting scheme: $\\mathsf{\\mathbf{w_{acc}}}$; $\\mathsf{\\mathbf{w_{model} = \\dfrac{1}{d_{DM}^2}}}$' , fontdict=smallerfont)\n",
    "# # axs[2].set_title('Weighting scheme: $\\mathsf{\\mathbf{w_{acc}}}$; $\\mathsf{\\mathbf{w_{model} = s_{1400}}}$', fontdict=smallerfont)\n",
    "# axs.legend(prop={'size':12}, framealpha=0)\n",
    "\n",
    "# # axs.set_ylim(4e-9, 3e-7)\n",
    "# # axs.set_xlim(1e4, 1e8)\n",
    "# axs.set_xscale('log')\n",
    "# axs.set_yscale('log')\n",
    "# # plt.suptitle('95% UL of Total Energy Flux vs Neutrino Energy', fontweight='bold', fontsize=20, fontfamily='serif')\n",
    "# plt.tight_layout()\n",
    "# plt.savefig(f'outputs1/UL_all_w_model_binskm2a={len(enus)}.pdf')\n",
    "# plt.show()\n"
   ]
  },
  {
   "cell_type": "code",
   "execution_count": 81,
   "metadata": {},
   "outputs": [
    {
     "name": "stdout",
     "output_type": "stream",
     "text": [
      "[array(5.1327766e-09), array(5.1327766e-09), array(5.1327766e-09), array(5.1327766e-09), array(5.1327766e-09)]\n",
      "[array(5.89259996e-09), array(2.3458863e-09), array(9.33914156e-10), array(3.71797922e-10), array(1.48015419e-10)]\n",
      "[array(5.34488049e-09), array(1.57738606e-09), array(4.6551963e-10), array(1.37384583e-10), array(4.05450648e-11)]\n",
      "[array(2.59323123e-09), array(2.59323123e-10), array(2.59323123e-11), array(2.59323123e-12), array(2.59323123e-13)]\n",
      "[array(7.49937247e-10), array(2.3715098e-11), array(7.49937247e-13), array(2.3715098e-14), array(7.49937247e-16)]\n"
     ]
    },
    {
     "data": {
      "image/png": "[encoded data removed]",
      "text/plain": [
       "<Figure size 700x600 with 1 Axes>"
      ]
     },
     "metadata": {},
     "output_type": "display_data"
    }
   ],
   "source": [
    "fig, axs = plt.subplots(1,1, figsize=(7, 6))\n",
    "minor_y_array=np.logspace(-12,-6,50)\n",
    "for gamma in range(0, len(gamma_arr)):\n",
    "\n",
    "    axs.plot(np.divide(e_decade, 1e9), np.multiply(all_UL[1][gamma], 3), label='$\\Gamma$ = ' + str(gamma_arr[gamma]), lw=2.2, ls='-',c=c_arr[gamma])# + ' with wt')    #in GeV\n",
    "    \n",
    "    print(all_UL[1][gamma])\n",
    "axs.set_xlabel('E$_{\\u03BD}$ (GeV)', fontdict=axesfont)\n",
    "axs.set_ylabel('$\\mathsf{{E^2_{\\u03BD} \\dfrac{dF}{dE_{\\u03BD}}}}$ ($\\mathsf{{GeV}}$ $\\mathsf{{s^{-1}}}$ $\\mathsf{{cm^{-2}}}$ $\\mathsf{{sr^{-1}}}$) at 100 TeV', fontdict=axesfont)\n",
    "axs.xaxis.set_tick_params(labelsize=15)\n",
    "axs.yaxis.set_tick_params(labelsize=15)\n",
    "axs.tick_params(which='major', width=1.5, length=6,direction='in')\n",
    "axs.tick_params(which='minor', width=1.5, length=3,direction='in')\n",
    "\n",
    "#axs.xaxis.set_minor_locator(AutoMinorLocator())\n",
    "axs.yaxis.set_minor_locator(AutoMinorLocator())\n",
    "axs.tick_params(which='minor', length=3, color='k')\n",
    "# axs.set_xscale('log')\n",
    "axs.tick_params(axis='x', which='minor', bottom=True,top=True)\n",
    "axs.tick_params(axis='x', which='major', bottom=True,top=True)\n",
    "axs.tick_params(axis='y', which='minor', right=True)\n",
    "axs.tick_params(axis='y', which='major', right=True)\n",
    "# axs.yaxis.set_minor_locator(FixedLocator(minor_y_array))\n",
    "# axs.yaxis.set_minor_formatter(NullFormatter())\n",
    "axs.legend(prop={'size':14}, framealpha=0, loc='lower left')\n",
    "\n",
    "#x = np.linspace(e_decade[:-2][0], e_decade[1:-1][-1], 11)\n",
    "# x=x*1e-9\n",
    "# y = [3.9, 4.4, 10.8, 10.3, 11.2, 13.1, 14.1,  9.9, 13.9, 15.1, 12.5]\n",
    "\n",
    "# fit a linear curve and estimate its y-values and their error.\n",
    "# a, b = np.polyfit(x, y, deg=1)\n",
    "# y_est = 3e-18*x*x*1.66* np.divide(x,1e5)**(-2.53)\n",
    "# y_est_up =3e-18*x*x*1.91* np.divide(x,1e5)**(-2.60)\n",
    "# y_est_low =3e-18*x*x*1.39* np.divide(x,1e5)**(-2.46)\n",
    "# y_err = np.divide(x, 1e9).std() * np.sqrt(1/len(x) +\n",
    "#                           (np.divide(x, 1e9) - np.divide(x, 1e9).mean())**2 / np.sum((np.divide(x, 1e9) - np.divide(x, 1e9).mean())**2))\n",
    "\n",
    "\n",
    "axs.plot(np.divide(x,1e9), model(x,2.53,1.66), '-',c='grey',linewidth=2)\n",
    "\n",
    "# axs.plot(x, y_est_low, '-',c='grey',linewidth=1)\n",
    "# axs.plot(x, y_est_up, '-',c='grey',linewidth=1)\n",
    "axs.fill_between(np.divide(x,1e9),lower, upper, color='grey',alpha=0.7,label='$\\\\nu$ flux(IceCube)')\n",
    "# axs.fill_between(x, y_est - y_err, y_est + y_err, alpha=0.2)\n",
    "\n",
    "# axs.plot(x, y, 'o', color='tab:brown')\n",
    "# axs[0].set_title('Weighting scheme: $\\mathsf{\\mathbf{w_{acc}}}$; $\\mathsf{\\mathbf{w_{model} = 1}}$', fontdict=smallerfont)\n",
    "# axs[1].set_title('Weighting scheme: $\\mathsf{\\mathbf{w_{acc}}}$; $\\mathsf{\\mathbf{w_{model} = \\dfrac{1}{d_{DM}^2}}}$' , fontdict=smallerfont)\n",
    "# axs[2].set_title('Weighting scheme: $\\mathsf{\\mathbf{w_{acc}}}$; $\\mathsf{\\mathbf{w_{model} = s_{1400}}}$', fontdict=smallerfont)\n",
    "axs.legend(prop={'size':12}, framealpha=0)\n",
    "axs.set_ylim(1e-12, 3e-7)\n",
    "# axs.set_xlim(1e4, 1e8)\n",
    "axs.set_xscale('log')\n",
    "axs.set_yscale('log')\n",
    "# plt.suptitle('95% UL of Total Energy Flux vs Neutrino Energy', fontweight='bold', fontsize=20, fontfamily='serif')\n",
    "plt.tight_layout()\n",
    "plt.legend([orange_line, firebrick_line, olivedrab_line,dodgerblue_line,magenta_line,(yellow_patch, blue_dotted_line)],\\\n",
    "    ['$\\Gamma$ = -2.0', '$\\Gamma$ = -2.4','$\\Gamma$ = -2.53','$\\Gamma$ = -3.0','$\\Gamma$ = -3.5','$\\mu$ flux at 100 TeV'],  fancybox=False,edgecolor=None,frameon=False,fontsize='large')\n",
    "# plt.savefig(f'outputs3/fig4_2.pdf')\n",
    "plt.savefig(f'outputs3/fig4_2.pdf')\n",
    "plt.show()\n"
   ]
  },
  {
   "cell_type": "code",
   "execution_count": 291,
   "metadata": {},
   "outputs": [
    {
     "data": {
      "text/plain": [
       "array([5.62481299e+10, 1.66000000e+10, 4.89900732e+09, 1.44579956e+09,\n",
       "       4.26685700e+08])"
      ]
     },
     "execution_count": 291,
     "metadata": {},
     "output_type": "execute_result"
    }
   ],
   "source": [
    "np.divide(e_decade, 1e9)*np.divide(e_decade, 1e9)*1.66*np.divide(e_decade,1e14)**-2.53"
   ]
  },
  {
   "cell_type": "code",
   "execution_count": 294,
   "metadata": {},
   "outputs": [],
   "source": [
    "# e2dfde = all_e_UL[1]\n",
    "# plttitles = ['$w_{acc}$ and $w_{model} = 1$', '$w_{acc}$ and $w_{model} = \\dfrac{1}{d_{DM}^2}$', '$w_{acc}$ and $w_{model} =  w_{s1400}$']\n",
    "\n",
    "#         # print(st.t.interval(0.95, len(all_TSS[i][j])-1, loc=np.mean(all_TSS[i][j]), scale=st.sem(all_TSS[i][j])))\n",
    "# for i in range(1, 4):\n",
    "#     plt.figure(figsize=(8, 6))\n",
    "#     for j in range(1, len(gamma_arr)):\n",
    "#         plt.plot(e2dfde[j]/1e9, all_TSS[i][j], label='$\\Gamma$ = ' + str(gamma_arr[j]), lw=0.8)\n",
    "#         # ci = st.t.interval(0.95, len(all_TSS[i][j])-1, loc=np.mean(all_TSS[i][j]), scale=st.sem(all_TSS[i][j]))\n",
    "#         # plt.hlines(ci, 1e-19, 1e-6, colors='k', linestyles='dashed', lw=0.5, ls='-.', label=\"95% CI \"+ '$\\Gamma$ = ' + str(gamma_arr[j]))\n",
    "\n",
    "#     plt.hlines(-3.84, 1e-19, 1e-6, linestyles='dashed', lw=0.7, ls='-.', label='95 % UPPER LIMIT $TS = -3.84$')\n",
    "#     # plt.vlines(dist_g25(-3.84), -120, 50, linestyles='dashed', lw=0.5, ls='-.')\n",
    "#     plt.legend()\n",
    "#     plt.xscale('log')\n",
    "#     # plt.yscale('log')\n",
    "#     plt.xlabel(\"$E^2_{\\u03BD} \\dfrac{dF}{dE_{\\u03BD}}$ (GeV)\")\n",
    "#     plt.ylabel(r'$TS$')\n",
    "#     plt.ylim(-200, 50)\n",
    "#     plt.title(\"TS vs Total Neutrino Flux at 100 TeV\\nWeighting scheme: \" + plttitles[i-1])\n",
    "#     plt.savefig(os.getcwd() + f'/outputs/TSvsE2dFdE_ws_{i}.png', facecolor='w')\n",
    "#     plt.show()"
   ]
  },
  {
   "cell_type": "code",
   "execution_count": 80,
   "metadata": {},
   "outputs": [],
   "source": [
    "with open (os.getcwd()+'/outputs3/UL_values2_1.txt', 'a+') as f:\n",
    "    for i in range(len(gamma_arr)):\n",
    "        f.write(str(gamma_arr[i])+' '+str(all_UL[1][i][1])+'\\n')\n",
    "f.close()  "
   ]
  },
  {
   "cell_type": "code",
   "execution_count": 102,
   "metadata": {},
   "outputs": [
    {
     "data": {
      "text/plain": [
       "2.2887356917360773e-06"
      ]
     },
     "execution_count": 102,
     "metadata": {},
     "output_type": "execute_result"
    }
   ],
   "source": [
    "np.average(np.array([4.184288507901576e-06,3.931828755705786e-07]))"
   ]
  },
  {
   "cell_type": "code",
   "execution_count": 104,
   "metadata": {},
   "outputs": [
    {
     "data": {
      "text/plain": [
       "1.8678174362e-19"
      ]
     },
     "execution_count": 104,
     "metadata": {},
     "output_type": "execute_result"
    }
   ],
   "source": [
    "np.average(np.array([5.1327766e-19,2.3458863e-19,1.57738606e-19,2.59323123e-20,2.3715098e-21]))"
   ]
  },
  {
   "cell_type": "code",
   "execution_count": null,
   "metadata": {},
   "outputs": [],
   "source": []
  }
 ],
 "metadata": {
  "kernelspec": {
   "display_name": "Python 3 (ipykernel)",
   "language": "python",
   "name": "python3"
  },
  "language_info": {
   "codemirror_mode": {
    "name": "ipython",
    "version": 3
   },
   "file_extension": ".py",
   "mimetype": "text/x-python",
   "name": "python",
   "nbconvert_exporter": "python",
   "pygments_lexer": "ipython3",
   "version": "2.7.16"
  }
 },
 "nbformat": 4,
 "nbformat_minor": 4
}

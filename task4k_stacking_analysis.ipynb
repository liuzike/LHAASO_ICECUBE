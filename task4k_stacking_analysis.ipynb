{
 "cells": [
  {
   "cell_type": "code",
   "execution_count": 1,
   "metadata": {},
   "outputs": [
    {
     "name": "stdout",
     "output_type": "stream",
     "text": [
      "read icdata\n",
      "read uptdata\n",
      "read eadata\n",
      "read mspdata\n"
     ]
    }
   ],
   "source": [
    "# from core import readfiles\n",
    "import numpy as np\n",
    "import os\n",
    "import multiprocessing as mul\n",
    "import matplotlib.pyplot as plt\n",
    "from numba import jit, njit, prange, set_num_threads, vectorize, guvectorize, cuda\n",
    "from tqdm import tqdm\n",
    "from core.signal_bag import *\n",
    "from core.stacking_analysis import *\n",
    "from core.req_vectors import *\n",
    "import pickle\n",
    "import scipy.stats as st\n",
    "import scipy.interpolate as interp\n",
    "# import torch\n",
    "# from core import weights"
   ]
  },
  {
   "cell_type": "code",
   "execution_count": 2,
   "metadata": {},
   "outputs": [],
   "source": [
    "num_threads = int(mul.cpu_count()*0.9)\n",
    "set_num_threads(num_threads)"
   ]
  },
  {
   "cell_type": "code",
   "execution_count": 3,
   "metadata": {},
   "outputs": [
    {
     "data": {
      "text/plain": [
       "3389"
      ]
     },
     "execution_count": 3,
     "metadata": {},
     "output_type": "execute_result"
    }
   ],
   "source": [
    "len(msdec)"
   ]
  },
  {
   "cell_type": "code",
   "execution_count": 4,
   "metadata": {},
   "outputs": [],
   "source": [
    "# UNCOMMENT FOR LINEAR BINS\n",
    "# all_enu = np.linspace(10**11.001, 10**18.999, 1000)\n",
    "all_enu = e_nu_wall\n",
    "\n",
    "# enus = 0.5*(all_enu[1:]+all_enu[:-1])\n",
    "# UNCOMMENT FOR DENSER LOGARITHMIC BINS, optimal nbins is 1e6\n",
    "enus = np.logspace(11.001, 18.999, int(1e6))\n",
    "#print(e_nu_wall)\n",
    "#print (np.where(enus>1.58489319e+11))\n"
   ]
  },
  {
   "cell_type": "code",
   "execution_count": 5,
   "metadata": {},
   "outputs": [
    {
     "name": "stdout",
     "output_type": "stream",
     "text": [
      "[ 0  0  0 ... 39 39 39]\n"
     ]
    }
   ],
   "source": [
    "enus_bin_indices = np.zeros(len(enus), dtype=np.int64)\n",
    "\n",
    "for i in prange(len(enus)):\n",
    "    enus_bin_indices[i] = np.digitize(enus[i], e_nu_wall) -1\n",
    "print (enus_bin_indices)"
   ]
  },
  {
   "cell_type": "code",
   "execution_count": 6,
   "metadata": {},
   "outputs": [
    {
     "name": "stdout",
     "output_type": "stream",
     "text": [
      "[-90.   -73.74 -66.93 -61.64 -57.14 -53.13 -49.46 -46.05 -42.84 -39.79\n",
      " -36.87 -34.06 -31.33 -28.69 -26.1  -23.58 -21.1  -18.66 -16.26 -13.89\n",
      " -11.54  -9.21  -6.89  -4.59  -2.29   0.     2.29   4.59   6.89   9.21\n",
      "  11.54  13.89  16.26  18.66  21.1   23.58  26.1   28.69  31.33  34.06\n",
      "  36.87  39.79  42.84  46.05  49.46  53.13  57.14  61.64  66.93  73.74\n",
      "  90.  ]\n"
     ]
    }
   ],
   "source": [
    "msdec\n",
    "print(dec_nu)"
   ]
  },
  {
   "cell_type": "code",
   "execution_count": 7,
   "metadata": {},
   "outputs": [
    {
     "name": "stdout",
     "output_type": "stream",
     "text": [
      "3389\n"
     ]
    }
   ],
   "source": [
    "msdec_bin_indices = np.zeros(p, dtype=np.int64)\n",
    "for i in prange(p):\n",
    "    msdec_bin_indices[i] = np.digitize(msdec[i], dec_nu) - 1\n",
    "print(len(msdec_bin_indices))"
   ]
  },
  {
   "cell_type": "code",
   "execution_count": 10,
   "metadata": {},
   "outputs": [
    {
     "name": "stdout",
     "output_type": "stream",
     "text": [
      "\n",
      "Number of energy bins:  1000000\n",
      "\n",
      "Number of phi bins:  1000\n",
      "\n",
      "Calculating weights...\n",
      "\n",
      "\n"
     ]
    }
   ],
   "source": [
    "gamma_arr = [-2, -2.2, -2.53, -3]\n",
    "phio = np.logspace(-38, -26, 1000) #CHANGING TO LINEAR BINS RESULTS IN STRAIGHT LINES\n",
    "\n",
    "# print(\"\\nNumber of threads: \", num_threads)\n",
    "print(\"\\nNumber of energy bins: \",len(enus))\n",
    "print(\"\\nNumber of phi bins: \", len(phio))\n",
    "print(\"\\nCalculating weights...\\n\\n\")"
   ]
  },
  {
   "cell_type": "code",
   "execution_count": 11,
   "metadata": {},
   "outputs": [
    {
     "name": "stdout",
     "output_type": "stream",
     "text": [
      "(5, 2000)\n"
     ]
    }
   ],
   "source": [
    "eareaa = [i.astype(np.float64) for i in earea]\n",
    "eareaa = np.asfarray(eareaa, dtype=np.float64)\n",
    "print(eareaa.shape)\n",
    "eareaa[0][0]\n",
    "earea2 = np.asfortranarray(earea)\n",
    "earea2 = earea2[0].astype(np.float64)"
   ]
  },
  {
   "cell_type": "code",
   "execution_count": 12,
   "metadata": {},
   "outputs": [],
   "source": [
    "@vectorize(['float64(int64, float64, int64)'], nopython=True, target='parallel')\n",
    "def psr_wt_sing_gamma(psrno,gamma, season):\n",
    "\n",
    "    tt_upt = t_upt[season]\n",
    "    l = msdec_bin_indices[psrno]\n",
    "    wt_ac_temp = np.zeros(len(enus), dtype=np.float64)\n",
    "    for i in prange(len(enus)):\n",
    "        wt_ac_temp[i] = np.float64(tt_upt * earea[ea_season(season)][l*40 + enus_bin_indices[i]] * enus[i]**gamma)   \n",
    "\n",
    "\n",
    "    return np.trapz(wt_ac_temp, enus)\n"
   ]
  },
  {
   "cell_type": "code",
   "execution_count": 13,
   "metadata": {},
   "outputs": [
    {
     "data": {
      "text/plain": [
       "4"
      ]
     },
     "execution_count": 13,
     "metadata": {},
     "output_type": "execute_result"
    }
   ],
   "source": [
    "ea_season(5)"
   ]
  },
  {
   "cell_type": "code",
   "execution_count": 39,
   "metadata": {},
   "outputs": [
    {
     "name": "stdout",
     "output_type": "stream",
     "text": [
      "(3, 3389)\n",
      "[0.02 0.   0.   ... 0.16 0.   0.  ]\n"
     ]
    },
    {
     "name": "stderr",
     "output_type": "stream",
     "text": [
      "/tmp/ipykernel_6716/3260270392.py:1: RuntimeWarning: divide by zero encountered in divide\n",
      "  w_models = np.column_stack([np.ones(p), 1/(msdist**2), mss1400]).T.astype(np.float64)\n",
      "/tmp/ipykernel_6716/3260270392.py:2: RuntimeWarning: divide by zero encountered in divide\n",
      "  sum_wt_model = [1, np.sum(1/(msdist**2)), np.sum(mss1400)]\n"
     ]
    }
   ],
   "source": [
    "w_models = np.column_stack([np.ones(p), 1/(msdist**2), mss1400]).T.astype(np.float64)\n",
    "sum_wt_model = [1, np.sum(1/(msdist**2)), np.sum(mss1400)]\n",
    "print(w_models.shape)\n",
    "print(w_models[-1])"
   ]
  },
  {
   "cell_type": "code",
   "execution_count": 35,
   "metadata": {},
   "outputs": [
    {
     "name": "stdout",
     "output_type": "stream",
     "text": [
      "[0.02 0.   0.   ... 0.16 0.   0.  ]\n",
      "['wt_acc_1000000_bins.pkl', 'all_Si_ws_g_s_1000000_bins.pkl']\n"
     ]
    }
   ],
   "source": [
    "\n",
    "\n",
    "print(w_models[2])\n",
    "altier_path = [os.getcwd() + '/pickle/', os.getcwd() + '/../pickle/']\n",
    "print(os.listdir(altier_path[0]))"
   ]
  },
  {
   "cell_type": "code",
   "execution_count": 16,
   "metadata": {},
   "outputs": [
    {
     "name": "stdout",
     "output_type": "stream",
     "text": [
      "<class 'range'>\n"
     ]
    }
   ],
   "source": [
    "print(type(prange(p)))"
   ]
  },
  {
   "cell_type": "code",
   "execution_count": 18,
   "metadata": {},
   "outputs": [
    {
     "name": "stdout",
     "output_type": "stream",
     "text": [
      "Calculating wt_acc for all pulsars and seasons and gamma\n"
     ]
    },
    {
     "name": "stderr",
     "output_type": "stream",
     "text": [
      "100%|██████████| 10/10 [03:41<00:00, 22.11s/it]\n",
      "100%|██████████| 10/10 [03:40<00:00, 22.04s/it]\n",
      "100%|██████████| 10/10 [03:39<00:00, 21.91s/it]\n",
      "100%|██████████| 10/10 [03:40<00:00, 22.05s/it]"
     ]
    },
    {
     "name": "stdout",
     "output_type": "stream",
     "text": [
      "Calculated wt_acc for all gamma-ray sources and seasons and gamma\n"
     ]
    },
    {
     "name": "stderr",
     "output_type": "stream",
     "text": [
      "\n"
     ]
    }
   ],
   "source": [
    "altier_path = [os.getcwd() + '/pickle/', os.getcwd() + '/../pickle/']\n",
    "if f'wt_acc_{len(enus)}_bins.pkl' in os.listdir(altier_path[0]):# or f'wt_acc.pkl_{len(enus)}' in os.listdir(altier_path[1]):\n",
    "    print(\"Loading wt_acc from pickle\")\n",
    "    # try:\n",
    "    #     wt_acc = pickle.load(altier_path[1] + f'wt_acc.pkl_{len(enus)//2}_bins')\n",
    "    # except:\n",
    "    with open(altier_path[0] + f'wt_acc_{len(enus)}_bins.pkl', 'rb') as f:\n",
    "        wt_acc = pickle.load(f)\n",
    "    \n",
    "    \n",
    "    print(\"Loaded wt_acc from pickle with nbins= \", len(enus))\n",
    "\n",
    "else:\n",
    "    print(\"Calculating wt_acc for all pulsars and seasons and gamma\")\n",
    "    wt_acc = []\n",
    "    for gamma in prange(len(gamma_arr)):\n",
    "        wt_allpsr = []\n",
    "        for season in tqdm(prange(10)):\n",
    "            # tmp = []\n",
    "            # for psrno in prange(p):\n",
    "                # w_model = w_models[psrno]\n",
    "                # tmp.append(psr_wt_sing_gamma(psrno, gamma_arr[gamma], season))\n",
    "                # tmp.append(trapz_numba(psr_wt_sing_e_gamma(psrno, enus, gamma_arr[gamma], season), enus))\n",
    "\n",
    "            wt_allpsr.append(np.array(psr_wt_sing_gamma(prange(p), gamma_arr[gamma], season), dtype=np.float64))\n",
    "            # tmp = []\n",
    "        wt_acc.append(wt_allpsr)\n",
    "        wt_allpsr = []\n",
    "        \n",
    "    wt_acc = np.asfarray(wt_acc, dtype=np.float64)\n",
    "    print\n",
    "    with open(altier_path[0] + f'wt_acc_{len(enus)}_bins.pkl', 'wb') as f:\n",
    "        pickle.dump(wt_acc, f)\n",
    "    print(\"Calculated wt_acc for all gamma-ray sources and seasons and gamma\")"
   ]
  },
  {
   "cell_type": "code",
   "execution_count": 19,
   "metadata": {},
   "outputs": [
    {
     "name": "stdout",
     "output_type": "stream",
     "text": [
      "(4, 10, 3389)\n"
     ]
    }
   ],
   "source": [
    "print(wt_acc.shape)"
   ]
  },
  {
   "cell_type": "code",
   "execution_count": 20,
   "metadata": {},
   "outputs": [
    {
     "name": "stdout",
     "output_type": "stream",
     "text": [
      "[ 36900 107011  93133 136244 112858 122541 127045 129311 123657 145750]\n"
     ]
    }
   ],
   "source": [
    "season_walls = np.asarray([0, 36900, 143911, 237044, 373288, 486146, 608687, 735732, 865043, 988700, 1134450])\n",
    "season_widts= np.diff(season_walls)\n",
    "print (season_widts)"
   ]
  },
  {
   "cell_type": "code",
   "execution_count": 21,
   "metadata": {},
   "outputs": [],
   "source": [
    "#Compute the signal PDF for all neutrinos as per eqns 6, 7 and weights as per eqn 8 of 2205.15963\n",
    "\n",
    "@njit(nogil=True)\n",
    "def S_ijk(nu): \n",
    "\n",
    "    '''\n",
    "    Calculates S_ij as in EQN 7 of 2205.15963\n",
    "    ----------\n",
    "\n",
    "    Parameters\n",
    "    ----------\n",
    "    nu : int\n",
    "        Index of the neutrino in the sample\n",
    "        \n",
    "    \n",
    "    Returns\n",
    "    -------\n",
    "        Returns the signal PDF for the {psrno}th pulsar and nuind_inp neutrino\n",
    "    '''\n",
    "    ang2 = hvovec(msra, msdec, icra[nu], icdec[nu], rad=True) ** 2      #rad**2\n",
    "    sg = np.deg2rad(icang[nu]) ** 2                                     #rad**2\n",
    "    return np.divide(np.exp(-1 * np.divide(ang2, 2*sg)), (2 * np.pi * sg))      #1/rad**2\n",
    "\n",
    "\n",
    "@njit(nogil=True)\n",
    "def S_ik(nu, weight, w_models, gamma_index, ws):\n",
    "\n",
    "    '''\n",
    "    \n",
    "    Calculates S_i as in EQN 8 of 2205.15963\n",
    "    ----------\n",
    "\n",
    "    Parameters\n",
    "    ----------\n",
    "    nu : int\n",
    "        Index of the neutrino in the sample\n",
    "\n",
    "    normalized_wt : array\n",
    "        Normalized weights of the pulsars\n",
    "\n",
    "\n",
    "    gamma_index : int\n",
    "        Index of the gamma value in the gamma array\n",
    "\n",
    "    ws : int\n",
    "        Index of the weight model\n",
    "\n",
    "    Returns\n",
    "    -------\n",
    "        Returns the signal PDF for the {psrno}th pulsar and nuind_inp neutrino\n",
    "\n",
    "    '''\n",
    "\n",
    "    # si_sing_season_g =\n",
    "    # for i in prange(p):\n",
    "        # sij = S_ijk(nu)\n",
    "        # np.sum(np.multiply(sij, normalized_wt[i][gamma_index][season]))      #1/rad**2\n",
    "\n",
    "\n",
    "\n",
    "    sij = S_ijk(nu)\n",
    "    season = 0\n",
    "    for i in range(10):\n",
    "        if season_walls[i] <= nu and nu < season_walls[i+1]:\n",
    "            season = i\n",
    "            break\n",
    "\n",
    "    return np.sum(np.multiply(sij, np.multiply(w_models[ws], weight[gamma_index][season])/np.sum(np.multiply(w_models[ws], weight[gamma_index][season]))))      #1/rad**2"
   ]
  },
  {
   "cell_type": "code",
   "execution_count": 22,
   "metadata": {},
   "outputs": [],
   "source": [
    "@njit(parallel=True, nogil=True)\n",
    "def Sik_sing_s_g(gamma_index, ws):#, wt_acc=wt_acc, w_models=w_models):\n",
    "    '''\n",
    "    Calculates S_i as in EQN 8 of 2205.15963\n",
    "    ----------\n",
    "\n",
    "    Parameters\n",
    "    ----------\n",
    "    weight : array\n",
    "         weights of the pulsars\n",
    "\n",
    "    season : int\n",
    "        Season of the neutrino\n",
    "\n",
    "    gamma_index : int\n",
    "        Index of the gamma value in the gamma array\n",
    "\n",
    "    ws : int\n",
    "        Index of the weight model\n",
    "\n",
    "    Returns\n",
    "    -------\n",
    "        Returns the signal PDF for the {psrno}th pulsar and nuind_inp neutrino\n",
    "    '''\n",
    "\n",
    "\n",
    "\n",
    "    tmp = []\n",
    "    if ws == -1: #No weights\n",
    "        for nu in prange(len(icra)):\n",
    "            tmp.append(np.sum(S_ijk(nu)))\n",
    "        return np.array(tmp, dtype=np.float64)\n",
    "\n",
    "    for nu in prange(len(icra)):\n",
    "        tmp.append(S_ik(nu, wt_acc, w_models, gamma_index, ws))\n",
    "    return np.array(tmp, dtype=np.float64)"
   ]
  },
  {
   "cell_type": "code",
   "execution_count": 23,
   "metadata": {},
   "outputs": [
    {
     "name": "stdout",
     "output_type": "stream",
     "text": [
      "\n",
      "Calculating S_i for all neutrinos and gammas and weighting schemes...\n",
      "\n"
     ]
    },
    {
     "name": "stderr",
     "output_type": "stream",
     "text": [
      "100%|██████████| 4/4 [05:47<00:00, 86.82s/it]"
     ]
    },
    {
     "name": "stdout",
     "output_type": "stream",
     "text": [
      "Calculated S_i for all neutrinos and gammas and weighting schemes\n"
     ]
    },
    {
     "name": "stderr",
     "output_type": "stream",
     "text": [
      "\n"
     ]
    }
   ],
   "source": [
    "#Pickle\n",
    "if os.path.isfile(altier_path[0] + f'all_Si_ws_g_s_{len(enus)}_bins.pkl'):\n",
    "    print(\"Loading all_Si_ws_g_s from pickle\")\n",
    "    with open(altier_path[0] + f'all_Si_ws_g_s_{len(enus)}_bins.pkl', 'rb') as f:\n",
    "        all_Si_ws_g_s = pickle.load(f)\n",
    "    print(\"Loaded all_Si_ws_g_s from pickle with nbins =\", len(enus))\n",
    "else:\n",
    "\n",
    "\n",
    "    print(\"\\nCalculating S_i for all neutrinos and gammas and weighting schemes...\\n\")\n",
    "\n",
    "    all_Si_ws_g_s = []\n",
    "    tmp = []\n",
    "    tmp_wt_acc = []\n",
    "    tmp_wt_acc_w_dist = []\n",
    "    tmp_wt_acc_w_s1400 = []\n",
    "\n",
    "    for gamma_index in tqdm(prange(4)):\n",
    "        # for season in tqdm(prange(10)):\n",
    "        tmp.append(Sik_sing_s_g(gamma_index, -1))\n",
    "        tmp_wt_acc.append(Sik_sing_s_g(gamma_index, 0))\n",
    "        tmp_wt_acc_w_dist.append(Sik_sing_s_g(gamma_index, 1))\n",
    "        tmp_wt_acc_w_s1400.append(Sik_sing_s_g(gamma_index, 2))\n",
    "\n",
    "\n",
    "    all_Si_ws_g_s.append([tmp, tmp_wt_acc, tmp_wt_acc_w_dist, tmp_wt_acc_w_s1400])\n",
    "    tmp = []\n",
    "    tmp_wt_acc = []\n",
    "    tmp_wt_acc_w_dist = []\n",
    "    tmp_wt_acc_w_s1400 = []\n",
    "    # all_Si_ws_g_s = np.asfarray(all_Si_ws_g_s[0])\n",
    "\n",
    "    print(\"Calculated S_i for all neutrinos and gammas and weighting schemes\")\n",
    "    #Save to pickle\n",
    "    with open(altier_path[0] + f'all_Si_ws_g_s_{len(enus)}_bins.pkl', 'wb') as f:\n",
    "        pickle.dump(all_Si_ws_g_s, f)\n",
    "\n"
   ]
  },
  {
   "cell_type": "code",
   "execution_count": 44,
   "metadata": {},
   "outputs": [
    {
     "ename": "AttributeError",
     "evalue": "'list' object has no attribute 'shape'",
     "output_type": "error",
     "traceback": [
      "\u001b[0;31m---------------------------------------------------------------------------\u001b[0m",
      "\u001b[0;31mAttributeError\u001b[0m                            Traceback (most recent call last)",
      "Cell \u001b[0;32mIn[44], line 1\u001b[0m\n\u001b[0;32m----> 1\u001b[0m all_Si_ws_g_s[\u001b[39m0\u001b[39;49m]\u001b[39m.\u001b[39;49mshape\n",
      "\u001b[0;31mAttributeError\u001b[0m: 'list' object has no attribute 'shape'"
     ]
    }
   ],
   "source": [
    "all_Si_ws_g_s[0].shape"
   ]
  },
  {
   "cell_type": "code",
   "execution_count": 42,
   "metadata": {},
   "outputs": [
    {
     "data": {
      "text/plain": [
       "[array([5.52438037e-070, 5.71125061e-005, 6.53513781e-001, ...,\n",
       "        2.45719120e-020, 1.64207970e-067, 2.03108737e-200]),\n",
       " array([5.46155818e-070, 2.96799108e-005, 6.46060745e-001, ...,\n",
       "        2.97664017e-020, 2.04431659e-067, 2.19135247e-200]),\n",
       " array([4.90081753e-070, 8.68865055e-006, 5.79704771e-001, ...,\n",
       "        3.42905738e-020, 2.43488379e-067, 2.23986784e-200]),\n",
       " array([4.08563438e-070, 1.27027381e-006, 4.83267694e-001, ...,\n",
       "        3.66355416e-020, 2.68530833e-067, 2.18106666e-200])]"
      ]
     },
     "execution_count": 42,
     "metadata": {},
     "output_type": "execute_result"
    }
   ],
   "source": [
    "all_Si_ws_g_s[0][3]"
   ]
  },
  {
   "cell_type": "code",
   "execution_count": 51,
   "metadata": {},
   "outputs": [],
   "source": [
    "# @jit(nopython=True)\n",
    "@vectorize(['float64(int64, int64)'], nopython=True,target='parallel')\n",
    "def Bi_stacked_compute(nu, cone=5):\n",
    "\n",
    "    '''\n",
    "    Calculates B_i as in EQN 9 of 2205.15963\n",
    "    ----------\n",
    "\n",
    "    Parameters\n",
    "    ----------\n",
    "    nu : int\n",
    "        Index of the neutrino from IceCube sample\n",
    "    cone : float\n",
    "        Cone angle in degrees.\n",
    "    \n",
    "\n",
    "    Returns\n",
    "    -------\n",
    "    float\n",
    "        Returns the background PDF for the {nu}th neutrino\n",
    "    '''\n",
    "\n",
    "    # count = np.sum(np.abs(np.subtract(icdec, icdec[nu])) <= cone)\n",
    "    count=0\n",
    "    for i in prange(len(icdec)):\n",
    "        if abs(icdec[i] - icdec[nu]) <= cone:\n",
    "            count+=1\n",
    "    binwidth = (np.sin(np.deg2rad(icdec[nu] + cone)) - np.sin(np.deg2rad(icdec[nu] - cone)))*2*np.pi\n",
    "    return count/(binwidth * N_ic)           #No units or sr**-1"
   ]
  },
  {
   "cell_type": "code",
   "execution_count": 52,
   "metadata": {},
   "outputs": [
    {
     "ename": "NameError",
     "evalue": "name 'altier_path' is not defined",
     "output_type": "error",
     "traceback": [
      "\u001b[0;31m---------------------------------------------------------------------------\u001b[0m",
      "\u001b[0;31mNameError\u001b[0m                                 Traceback (most recent call last)",
      "Cell \u001b[0;32mIn[52], line 2\u001b[0m\n\u001b[1;32m      1\u001b[0m \u001b[39m#Pickle\u001b[39;00m\n\u001b[0;32m----> 2\u001b[0m \u001b[39mif\u001b[39;00m os\u001b[39m.\u001b[39mpath\u001b[39m.\u001b[39misfile(altier_path[\u001b[39m0\u001b[39m] \u001b[39m+\u001b[39m \u001b[39mf\u001b[39m\u001b[39m'\u001b[39m\u001b[39mall_Bi.pkl\u001b[39m\u001b[39m'\u001b[39m):\n\u001b[1;32m      3\u001b[0m     \u001b[39mprint\u001b[39m(\u001b[39m\"\u001b[39m\u001b[39mLoading all_Bi from pickle...\u001b[39m\u001b[39m\"\u001b[39m)\n\u001b[1;32m      4\u001b[0m     \u001b[39mwith\u001b[39;00m \u001b[39mopen\u001b[39m(altier_path[\u001b[39m0\u001b[39m] \u001b[39m+\u001b[39m \u001b[39mf\u001b[39m\u001b[39m'\u001b[39m\u001b[39mall_Bi.pkl\u001b[39m\u001b[39m'\u001b[39m, \u001b[39m'\u001b[39m\u001b[39mrb\u001b[39m\u001b[39m'\u001b[39m) \u001b[39mas\u001b[39;00m f:\n",
      "\u001b[0;31mNameError\u001b[0m: name 'altier_path' is not defined"
     ]
    }
   ],
   "source": [
    "#Pickle\n",
    "if os.path.isfile(altier_path[0] + f'all_Bi.pkl'):\n",
    "    print(\"Loading all_Bi from pickle...\")\n",
    "    with open(altier_path[0] + f'all_Bi.pkl', 'rb') as f:\n",
    "        all_Bi = pickle.load(f)\n",
    "    print(\"Loaded all_Bi from pickle\")\n",
    "else:\n",
    "    print(\"\\nCalculating Bi for all neutrinos\\n\")\n",
    "    all_Bi = Bi_stacked_compute(np.arange(lnu), 5)\n",
    "    # all_Bi+=1e-90\n",
    "    print(\"\\nCalculated Bi for all neutrinos\")\n",
    "    #Save to pickle\n",
    "    with open(altier_path[0] + f'all_Bi.pkl', 'wb') as f:\n",
    "        pickle.dump(all_Bi, f)"
   ]
  },
  {
   "attachments": {},
   "cell_type": "markdown",
   "metadata": {},
   "source": [
    " '''\n",
    "    This function returns the number of signal events for a single pulsar as in EQN3 of 2205.15963\n",
    "    -------------------\n",
    "\n",
    "    Parameters\n",
    "    ----------\n",
    "    dec : float\n",
    "        The declination of the pulsar in radians\n",
    "    \n",
    "    enu : float\n",
    "        The neutrino energy in eV\n",
    "\n",
    "    gamma : float\n",
    "        The spectral index of the neutrino flux\n",
    "\n",
    "    phi0 : float (optional)\n",
    "        The normalization constant of the neutrino flux\n",
    "\n",
    "    season : int (optional)\n",
    "        The IceCube season number\n",
    "    \n",
    "    Returns\n",
    "    -------\n",
    "    float\n",
    "        The number of signal events for the given parameters\n",
    "    '''\n"
   ]
  },
  {
   "cell_type": "code",
   "execution_count": 31,
   "metadata": {},
   "outputs": [
    {
     "data": {
      "text/plain": [
       "numpy.int64"
      ]
     },
     "execution_count": 31,
     "metadata": {},
     "output_type": "execute_result"
    }
   ],
   "source": [
    "type(msdec_bin_indices[0])"
   ]
  },
  {
   "cell_type": "code",
   "execution_count": 32,
   "metadata": {},
   "outputs": [],
   "source": [
    "arr = np.zeros(10, dtype=np.float64)"
   ]
  },
  {
   "cell_type": "code",
   "execution_count": 71,
   "metadata": {},
   "outputs": [
    {
     "data": {
      "text/plain": [
       "array([35318439.34329611, 32497618.3151043 , 29902901.99932829,\n",
       "       31745765.00015999, 32053797.00057632, 33098838.99984006,\n",
       "       34788962.99980783, 33936928.00012794, 31302372.99945645,\n",
       "       36107635.00003202])"
      ]
     },
     "execution_count": 71,
     "metadata": {},
     "output_type": "execute_result"
    }
   ],
   "source": [
    "t_upt"
   ]
  },
  {
   "cell_type": "code",
   "execution_count": 26,
   "metadata": {},
   "outputs": [],
   "source": [
    "#generates ns^ for a single pulsar a single season and a single energy\n",
    "\n",
    "\n",
    "# @vectorize(['float64(int64, float64, int64)'], nopython=True, target='parallel')\n",
    "# def psr_wt_sing_gamma(psrno,gamma, season):\n",
    "\n",
    "#     tt_upt = t_upt[season]\n",
    "#     l = msdec_bin_indices[psrno]\n",
    "#     wt_ac_temp = np.zeros(len(enus), dtype=np.float64)\n",
    "#     for i in prange(len(enus)):\n",
    "#         wt_ac_temp[i] = np.float64(tt_upt * earea[ea_season(season)][l*40 + enus_bin_indices[i]] * enus[i]**gamma)\n",
    "\n",
    "\n",
    "#     return np.trapz(wt_ac_temp, enus)\n",
    "# @njit\n",
    "# @vectorize(['float64(float64, float64, float64, int64)'], target='parallel')\n",
    "@vectorize(['float64(int64, float64, float64, int64)'], nopython=True, target='parallel')\n",
    "def ns_singleseason_sing_psr_HAT(psrno,gamma, phi0, season):\n",
    "   \n",
    "\n",
    "    tt_upt = t_upt[season]\n",
    "    # if enu <= 1e11 or enu >= 1e19:\n",
    "    #     return 0.0\n",
    "    # else:\n",
    "        # k=0\n",
    "    l = msdec_bin_indices[psrno]\n",
    "        # for i in range(0, len(e_nu_wall)):\n",
    "        #     if e_nu_wall[i] <= enu and e_nu_wall[i+1] > enu:\n",
    "        #         k=i\n",
    "        #         break\n",
    "\n",
    "        # for j in range(0, len(dec_nu)):\n",
    "        #     if dec_nu[j] <= dec and dec_nu[j+1] > dec:\n",
    "        #         l=j\n",
    "        #         break\n",
    "    ns_temp = np.zeros(len(enus), dtype=np.float64)\n",
    "    for i in prange(len(enus)):\n",
    "        ns_temp[i] += np.float64(tt_upt * earea[ea_season(season)][l*40 + enus_bin_indices[i]] * phi0 * (enus[i]/(10**14))**gamma)\n",
    "    # temp_ea = np.asarray(earea[ea_season(season)])[l*40 + k]\n",
    "    # return tt_upt * temp_ea * phi0 * ((enu/(10**14))**gamma)     #in s cm2 eV\n",
    "\n",
    "    return np.trapz(ns_temp, enus)     #in s cm2 eV\n"
   ]
  },
  {
   "cell_type": "code",
   "execution_count": 34,
   "metadata": {},
   "outputs": [
    {
     "data": {
      "text/plain": [
       "array([62.26927778, 47.77594444, -9.16630556, ..., -6.16663861,\n",
       "       61.92967917,  0.85265833])"
      ]
     },
     "execution_count": 34,
     "metadata": {},
     "output_type": "execute_result"
    }
   ],
   "source": [
    "msdec"
   ]
  },
  {
   "cell_type": "code",
   "execution_count": 27,
   "metadata": {},
   "outputs": [],
   "source": [
    "def ns_HAT_all_season_all_psr_sing_gamma_wt_wtht_weights(gamma, e_nus=enus, phi0=1):\n",
    "    ns_hat = 0\n",
    "    ns_hat_wt = 0\n",
    "    ns_hat_wt_dist = 0\n",
    "    ns_hat_wt_s1400 = 0\n",
    "    for season in tqdm(prange(10)):\n",
    "        # for psr in prange(p):\n",
    "            # wt = all_weights[0][gamma_arr.index(gamma)][psr][ea_season(season)]\n",
    "        wt_sum = np.sum(wt_acc[gamma_arr.index(gamma)][season])\n",
    "\n",
    "        wt = wt_acc[gamma_arr.index(gamma)][season]\n",
    "        ns_hat = ns_singleseason_sing_psr_HAT(prange(p), gamma, phi0, season)\n",
    "        # ns_hat_wt += np.dot(wt, nsop)\n",
    "        # ns_hat_wt_dist += np.dot(wt/msdist[prange(p)]**2, nsop)\n",
    "            # nsop = ns_singleseason_sing_psr_HAT(msdec[psr], e_nus, gamma, phi0, season)\n",
    "            \n",
    "            # ns_hat += np.trapz(nsop, x=e_nus)\n",
    "        \n",
    "    #         ns_hat_wt += wt * np.trapz(nsop, x=e_nus)\n",
    "    #         ns_hat_wt_dist += wt * np.trapz(nsop, x=e_nus) / (msdist[psr]**2)\n",
    "    #         ns_hat_wt_s1400 += wt * np.trapz(nsop, x=e_nus) * mss1400[psr]\n",
    "    # return np.array([ns_hat, ns_hat_wt, ns_hat_wt_dist, ns_hat_wt_s1400], dtype=np.float64)\n",
    "\n",
    "        ns_hat_wt += np.dot((wt/wt_sum),  ns_hat)\n",
    "        ns_hat_wt_dist += np.dot(wt * w_models[1]/ np.sum(np.multiply(wt_acc[gamma_arr.index(gamma)][season], w_models[1])) , ns_hat)\n",
    "        ns_hat_wt_s1400 += np.dot(wt * w_models[2]/ np.sum(np.multiply(wt_acc[gamma_arr.index(gamma)][season], w_models[2])), ns_hat)\n",
    "    return np.array([np.sum(ns_hat), ns_hat_wt, ns_hat_wt_dist, ns_hat_wt_s1400], dtype=np.float64)"
   ]
  },
  {
   "cell_type": "code",
   "execution_count": 28,
   "metadata": {},
   "outputs": [
    {
     "name": "stdout",
     "output_type": "stream",
     "text": [
      "\n",
      "Calculating ns_HAT for all gamma and weighting schemes...\n",
      "\n"
     ]
    },
    {
     "name": "stderr",
     "output_type": "stream",
     "text": [
      "  0%|          | 0/10 [00:00<?, ?it/s]/tmp/ipykernel_2155/2468739112.py:25: RuntimeWarning: invalid value encountered in divide\n",
      "  ns_hat_wt_dist += np.dot(wt * w_models[1]/ np.sum(np.multiply(wt_acc[gamma_arr.index(gamma)][season], w_models[1])) , ns_hat)\n",
      "100%|██████████| 10/10 [03:43<00:00, 22.31s/it]\n",
      "100%|██████████| 10/10 [03:42<00:00, 22.22s/it]\n",
      "100%|██████████| 10/10 [03:42<00:00, 22.24s/it]\n",
      "100%|██████████| 10/10 [03:43<00:00, 22.34s/it]"
     ]
    },
    {
     "name": "stdout",
     "output_type": "stream",
     "text": [
      "\n",
      "Calculationed ns_HAT for all gamma and weighting schemes\n"
     ]
    },
    {
     "name": "stderr",
     "output_type": "stream",
     "text": [
      "\n"
     ]
    }
   ],
   "source": [
    "#Pickle\n",
    "arr = []\n",
    "if os.path.isfile(altier_path[0] + f'ns_all_ws_{len(enus)}_bins.pkl'):\n",
    "    print(\"Loading ns_hat from pickle...\")\n",
    "    with open(altier_path[0] + f'ns_all_ws_{len(enus)}_bins.pkl', 'rb') as f:\n",
    "        arr = pickle.load(f)\n",
    "    print(\"Loaded ns_hat from pickle with nbins =\", len(enus))\n",
    "else:\n",
    "    print(\"\\nCalculating ns_HAT for all gamma and weighting schemes...\\n\")\n",
    "\n",
    "    arr=[]\n",
    "    for gamma in prange(len(gamma_arr)):\n",
    "        tmp = ns_HAT_all_season_all_psr_sing_gamma_wt_wtht_weights(gamma_arr[gamma])\n",
    "        np.savetxt('outputs/ns_hat_wt_wt_gamma_{}.txt'.format(gamma_arr[gamma]), tmp)\n",
    "        arr.append(tmp)\n",
    "        tmp = []\n",
    "\n",
    "    arr = np.array(arr, dtype=np.float64)\n",
    "    with open(altier_path[0] + f'ns_all_ws_{len(enus)}_bins.pkl', 'wb') as f:\n",
    "        pickle.dump(arr, f)\n",
    "    print(\"\\nCalculationed ns_HAT for all gamma and weighting schemes\")"
   ]
  },
  {
   "cell_type": "code",
   "execution_count": 35,
   "metadata": {},
   "outputs": [
    {
     "data": {
      "text/plain": [
       "array([[3.52864701e+31, 1.64348155e+29,            nan, 1.43286227e+29],\n",
       "       [4.29254469e+31, 2.12101932e+29,            nan, 1.97836837e+29],\n",
       "       [9.09734829e+31, 4.71885376e+29,            nan, 4.68667418e+29],\n",
       "       [4.99686265e+32, 2.64971787e+30,            nan, 2.73604535e+30]])"
      ]
     },
     "execution_count": 35,
     "metadata": {},
     "output_type": "execute_result"
    }
   ],
   "source": [
    "arr"
   ]
  },
  {
   "cell_type": "code",
   "execution_count": 37,
   "metadata": {},
   "outputs": [],
   "source": [
    "@njit(parallel=True, nogil=True)\n",
    "def season_nu(nu):\n",
    "    for i in prange(10):\n",
    "        if nu >= season_walls[i] and nu < season_walls[i+1]:\n",
    "            return i"
   ]
  },
  {
   "attachments": {},
   "cell_type": "markdown",
   "metadata": {},
   "source": [
    "t2mp = all_Si_ws_g_s[0][0]\n",
    "nsa = 50\n",
    "@njit(nogil=True)\n",
    "def TS_for_all_psrs2(nsa):  \n",
    "    return Ts_arr2(nsa, t2mp, all_Bi, Ns) "
   ]
  },
  {
   "attachments": {},
   "cell_type": "markdown",
   "metadata": {},
   "source": [
    "TS_for_all_psrs2(nsa)"
   ]
  },
  {
   "cell_type": "code",
   "execution_count": 38,
   "metadata": {},
   "outputs": [],
   "source": [
    "@jit(nopython=True)\n",
    "def Pr(x, Ns, S, B):\n",
    "    nsN = x/Ns\n",
    "    return np.add(np.multiply(nsN , S), np.multiply(np.subtract(1, nsN), B))\n",
    "\n",
    "\n",
    "\n",
    "@njit(nogil=True)\n",
    "def TS_st_vec(x, S, B, Ns):\n",
    "    nsN = x/Ns\n",
    "    pr = np.add(np.multiply(nsN , S), np.multiply(np.subtract(1, nsN), B))\n",
    "    return np.sum(np.asfarray(2*np.log(pr/B)))\n",
    "\n",
    "lnu = 1134450\n",
    "Ns = lnu#np.count_nonzero(nuind+1)\n"
   ]
  },
  {
   "attachments": {},
   "cell_type": "markdown",
   "metadata": {},
   "source": [
    "TS_st_vec(0.5e6, all_Si_ws_g_s[0][0], all_Bi, Ns)"
   ]
  },
  {
   "cell_type": "code",
   "execution_count": 39,
   "metadata": {},
   "outputs": [
    {
     "name": "stdout",
     "output_type": "stream",
     "text": [
      "[1.00000000e-38 1.04236067e-38 1.08651577e-38 1.13254132e-38\n",
      " 1.18051653e-38 1.23052400e-38 1.28264983e-38 1.33698374e-38\n",
      " 1.39361927e-38 1.45265393e-38 1.51418933e-38 1.57833141e-38\n",
      " 1.64519059e-38 1.71488197e-38 1.78752553e-38 1.86324631e-38\n",
      " 1.94217468e-38 2.02444651e-38 2.11020343e-38 2.19959307e-38\n",
      " 2.29276931e-38 2.38989257e-38 2.49113003e-38 2.59665597e-38\n",
      " 2.70665207e-38 2.82130768e-38 2.94082017e-38 3.06539530e-38\n",
      " 3.19524751e-38 3.33060034e-38 3.47168682e-38 3.61874981e-38\n",
      " 3.77204249e-38 3.93182876e-38 4.09838367e-38 4.27199397e-38\n",
      " 4.45295851e-38 4.64158883e-38 4.83820966e-38 5.04315949e-38\n",
      " 5.25679112e-38 5.47947234e-38 5.71158648e-38 5.95353313e-38\n",
      " 6.20572881e-38 6.46860766e-38 6.74262224e-38 7.02824426e-38\n",
      " 7.32596543e-38 7.63629826e-38 7.95977700e-38 8.29695852e-38\n",
      " 8.64842328e-38 9.01477631e-38 9.39664831e-38 9.79469667e-38\n",
      " 1.02096066e-37 1.06420924e-37 1.10928986e-37 1.15628013e-37\n",
      " 1.20526094e-37 1.25631660e-37 1.30953502e-37 1.36500781e-37\n",
      " 1.42283046e-37 1.48310251e-37 1.54592774e-37 1.61141428e-37\n",
      " 1.67967487e-37 1.75082703e-37 1.82499324e-37 1.90230119e-37\n",
      " 1.98288395e-37 2.06688025e-37 2.15443469e-37 2.24569800e-37\n",
      " 2.34082728e-37 2.43998630e-37 2.54334576e-37 2.65108360e-37\n",
      " 2.76338529e-37 2.88044415e-37 3.00246171e-37 3.12964801e-37\n",
      " 3.26222201e-37 3.40041193e-37 3.54445567e-37 3.69460121e-37\n",
      " 3.85110700e-37 4.01424249e-37 4.18428851e-37 4.36153779e-37\n",
      " 4.54629547e-37 4.73887961e-37 4.93962174e-37 5.14886745e-37\n",
      " 5.36697695e-37 5.59432571e-37 5.83130511e-37 6.07832313e-37\n",
      " 6.33580499e-37 6.60419396e-37 6.88395207e-37 7.17556092e-37\n",
      " 7.47952252e-37 7.79636013e-37 8.12661920e-37 8.47086827e-37\n",
      " 8.82969996e-37 9.20373200e-37 9.59360829e-37 1.00000000e-36\n",
      " 1.04236067e-36 1.08651577e-36 1.13254132e-36 1.18051653e-36\n",
      " 1.23052400e-36 1.28264983e-36 1.33698374e-36 1.39361927e-36\n",
      " 1.45265393e-36 1.51418933e-36 1.57833141e-36 1.64519059e-36\n",
      " 1.71488197e-36 1.78752553e-36 1.86324631e-36 1.94217468e-36\n",
      " 2.02444651e-36 2.11020343e-36 2.19959307e-36 2.29276931e-36\n",
      " 2.38989257e-36 2.49113003e-36 2.59665597e-36 2.70665207e-36\n",
      " 2.82130768e-36 2.94082017e-36 3.06539530e-36 3.19524751e-36\n",
      " 3.33060034e-36 3.47168682e-36 3.61874981e-36 3.77204249e-36\n",
      " 3.93182876e-36 4.09838367e-36 4.27199397e-36 4.45295851e-36\n",
      " 4.64158883e-36 4.83820966e-36 5.04315949e-36 5.25679112e-36\n",
      " 5.47947234e-36 5.71158648e-36 5.95353313e-36 6.20572881e-36\n",
      " 6.46860766e-36 6.74262224e-36 7.02824426e-36 7.32596543e-36\n",
      " 7.63629826e-36 7.95977700e-36 8.29695852e-36 8.64842328e-36\n",
      " 9.01477631e-36 9.39664831e-36 9.79469667e-36 1.02096066e-35\n",
      " 1.06420924e-35 1.10928986e-35 1.15628013e-35 1.20526094e-35\n",
      " 1.25631660e-35 1.30953502e-35 1.36500781e-35 1.42283046e-35\n",
      " 1.48310251e-35 1.54592774e-35 1.61141428e-35 1.67967487e-35\n",
      " 1.75082703e-35 1.82499324e-35 1.90230119e-35 1.98288395e-35\n",
      " 2.06688025e-35 2.15443469e-35 2.24569800e-35 2.34082728e-35\n",
      " 2.43998630e-35 2.54334576e-35 2.65108360e-35 2.76338529e-35\n",
      " 2.88044415e-35 3.00246171e-35 3.12964801e-35 3.26222201e-35\n",
      " 3.40041193e-35 3.54445567e-35 3.69460121e-35 3.85110700e-35\n",
      " 4.01424249e-35 4.18428851e-35 4.36153779e-35 4.54629547e-35\n",
      " 4.73887961e-35 4.93962174e-35 5.14886745e-35 5.36697695e-35\n",
      " 5.59432571e-35 5.83130511e-35 6.07832313e-35 6.33580499e-35\n",
      " 6.60419396e-35 6.88395207e-35 7.17556092e-35 7.47952252e-35\n",
      " 7.79636013e-35 8.12661920e-35 8.47086827e-35 8.82969996e-35\n",
      " 9.20373200e-35 9.59360829e-35 1.00000000e-34 1.04236067e-34\n",
      " 1.08651577e-34 1.13254132e-34 1.18051653e-34 1.23052400e-34\n",
      " 1.28264983e-34 1.33698374e-34 1.39361927e-34 1.45265393e-34\n",
      " 1.51418933e-34 1.57833141e-34 1.64519059e-34 1.71488197e-34\n",
      " 1.78752553e-34 1.86324631e-34 1.94217468e-34 2.02444651e-34\n",
      " 2.11020343e-34 2.19959307e-34 2.29276931e-34 2.38989257e-34\n",
      " 2.49113003e-34 2.59665597e-34 2.70665207e-34 2.82130768e-34\n",
      " 2.94082017e-34 3.06539530e-34 3.19524751e-34 3.33060034e-34\n",
      " 3.47168682e-34 3.61874981e-34 3.77204249e-34 3.93182876e-34\n",
      " 4.09838367e-34 4.27199397e-34 4.45295851e-34 4.64158883e-34\n",
      " 4.83820966e-34 5.04315949e-34 5.25679112e-34 5.47947234e-34\n",
      " 5.71158648e-34 5.95353313e-34 6.20572881e-34 6.46860766e-34\n",
      " 6.74262224e-34 7.02824426e-34 7.32596543e-34 7.63629826e-34\n",
      " 7.95977700e-34 8.29695852e-34 8.64842328e-34 9.01477631e-34\n",
      " 9.39664831e-34 9.79469667e-34 1.02096066e-33 1.06420924e-33\n",
      " 1.10928986e-33 1.15628013e-33 1.20526094e-33 1.25631660e-33\n",
      " 1.30953502e-33 1.36500781e-33 1.42283046e-33 1.48310251e-33\n",
      " 1.54592774e-33 1.61141428e-33 1.67967487e-33 1.75082703e-33\n",
      " 1.82499324e-33 1.90230119e-33 1.98288395e-33 2.06688025e-33\n",
      " 2.15443469e-33 2.24569800e-33 2.34082728e-33 2.43998630e-33\n",
      " 2.54334576e-33 2.65108360e-33 2.76338529e-33 2.88044415e-33\n",
      " 3.00246171e-33 3.12964801e-33 3.26222201e-33 3.40041193e-33\n",
      " 3.54445567e-33 3.69460121e-33 3.85110700e-33 4.01424249e-33\n",
      " 4.18428851e-33 4.36153779e-33 4.54629547e-33 4.73887961e-33\n",
      " 4.93962174e-33 5.14886745e-33 5.36697695e-33 5.59432571e-33\n",
      " 5.83130511e-33 6.07832313e-33 6.33580499e-33 6.60419396e-33\n",
      " 6.88395207e-33 7.17556092e-33 7.47952252e-33 7.79636013e-33\n",
      " 8.12661920e-33 8.47086827e-33 8.82969996e-33 9.20373200e-33\n",
      " 9.59360829e-33 1.00000000e-32 1.04236067e-32 1.08651577e-32\n",
      " 1.13254132e-32 1.18051653e-32 1.23052400e-32 1.28264983e-32\n",
      " 1.33698374e-32 1.39361927e-32 1.45265393e-32 1.51418933e-32\n",
      " 1.57833141e-32 1.64519059e-32 1.71488197e-32 1.78752553e-32\n",
      " 1.86324631e-32 1.94217468e-32 2.02444651e-32 2.11020343e-32\n",
      " 2.19959307e-32 2.29276931e-32 2.38989257e-32 2.49113003e-32\n",
      " 2.59665597e-32 2.70665207e-32 2.82130768e-32 2.94082017e-32\n",
      " 3.06539530e-32 3.19524751e-32 3.33060034e-32 3.47168682e-32\n",
      " 3.61874981e-32 3.77204249e-32 3.93182876e-32 4.09838367e-32\n",
      " 4.27199397e-32 4.45295851e-32 4.64158883e-32 4.83820966e-32\n",
      " 5.04315949e-32 5.25679112e-32 5.47947234e-32 5.71158648e-32\n",
      " 5.95353313e-32 6.20572881e-32 6.46860766e-32 6.74262224e-32\n",
      " 7.02824426e-32 7.32596543e-32 7.63629826e-32 7.95977700e-32\n",
      " 8.29695852e-32 8.64842328e-32 9.01477631e-32 9.39664831e-32\n",
      " 9.79469667e-32 1.02096066e-31 1.06420924e-31 1.10928986e-31\n",
      " 1.15628013e-31 1.20526094e-31 1.25631660e-31 1.30953502e-31\n",
      " 1.36500781e-31 1.42283046e-31 1.48310251e-31 1.54592774e-31\n",
      " 1.61141428e-31 1.67967487e-31 1.75082703e-31 1.82499324e-31\n",
      " 1.90230119e-31 1.98288395e-31 2.06688025e-31 2.15443469e-31\n",
      " 2.24569800e-31 2.34082728e-31 2.43998630e-31 2.54334576e-31\n",
      " 2.65108360e-31 2.76338529e-31 2.88044415e-31 3.00246171e-31\n",
      " 3.12964801e-31 3.26222201e-31 3.40041193e-31 3.54445567e-31\n",
      " 3.69460121e-31 3.85110700e-31 4.01424249e-31 4.18428851e-31\n",
      " 4.36153779e-31 4.54629547e-31 4.73887961e-31 4.93962174e-31\n",
      " 5.14886745e-31 5.36697695e-31 5.59432571e-31 5.83130511e-31\n",
      " 6.07832313e-31 6.33580499e-31 6.60419396e-31 6.88395207e-31\n",
      " 7.17556092e-31 7.47952252e-31 7.79636013e-31 8.12661920e-31\n",
      " 8.47086827e-31 8.82969996e-31 9.20373200e-31 9.59360829e-31\n",
      " 1.00000000e-30 1.04236067e-30 1.08651577e-30 1.13254132e-30\n",
      " 1.18051653e-30 1.23052400e-30 1.28264983e-30 1.33698374e-30\n",
      " 1.39361927e-30 1.45265393e-30 1.51418933e-30 1.57833141e-30\n",
      " 1.64519059e-30 1.71488197e-30 1.78752553e-30 1.86324631e-30\n",
      " 1.94217468e-30 2.02444651e-30 2.11020343e-30 2.19959307e-30\n",
      " 2.29276931e-30 2.38989257e-30 2.49113003e-30 2.59665597e-30\n",
      " 2.70665207e-30 2.82130768e-30 2.94082017e-30 3.06539530e-30\n",
      " 3.19524751e-30 3.33060034e-30 3.47168682e-30 3.61874981e-30\n",
      " 3.77204249e-30 3.93182876e-30 4.09838367e-30 4.27199397e-30\n",
      " 4.45295851e-30 4.64158883e-30 4.83820966e-30 5.04315949e-30\n",
      " 5.25679112e-30 5.47947234e-30 5.71158648e-30 5.95353313e-30\n",
      " 6.20572881e-30 6.46860766e-30 6.74262224e-30 7.02824426e-30\n",
      " 7.32596543e-30 7.63629826e-30 7.95977700e-30 8.29695852e-30\n",
      " 8.64842328e-30 9.01477631e-30 9.39664831e-30 9.79469667e-30\n",
      " 1.02096066e-29 1.06420924e-29 1.10928986e-29 1.15628013e-29\n",
      " 1.20526094e-29 1.25631660e-29 1.30953502e-29 1.36500781e-29\n",
      " 1.42283046e-29 1.48310251e-29 1.54592774e-29 1.61141428e-29\n",
      " 1.67967487e-29 1.75082703e-29 1.82499324e-29 1.90230119e-29\n",
      " 1.98288395e-29 2.06688025e-29 2.15443469e-29 2.24569800e-29\n",
      " 2.34082728e-29 2.43998630e-29 2.54334576e-29 2.65108360e-29\n",
      " 2.76338529e-29 2.88044415e-29 3.00246171e-29 3.12964801e-29\n",
      " 3.26222201e-29 3.40041193e-29 3.54445567e-29 3.69460121e-29\n",
      " 3.85110700e-29 4.01424249e-29 4.18428851e-29 4.36153779e-29\n",
      " 4.54629547e-29 4.73887961e-29 4.93962174e-29 5.14886745e-29\n",
      " 5.36697695e-29 5.59432571e-29 5.83130511e-29 6.07832313e-29\n",
      " 6.33580499e-29 6.60419396e-29 6.88395207e-29 7.17556092e-29\n",
      " 7.47952252e-29 7.79636013e-29 8.12661920e-29 8.47086827e-29\n",
      " 8.82969996e-29 9.20373200e-29 9.59360829e-29 1.00000000e-28\n",
      " 1.04236067e-28 1.08651577e-28 1.13254132e-28 1.18051653e-28\n",
      " 1.23052400e-28 1.28264983e-28 1.33698374e-28 1.39361927e-28\n",
      " 1.45265393e-28 1.51418933e-28 1.57833141e-28 1.64519059e-28\n",
      " 1.71488197e-28 1.78752553e-28 1.86324631e-28 1.94217468e-28\n",
      " 2.02444651e-28 2.11020343e-28 2.19959307e-28 2.29276931e-28\n",
      " 2.38989257e-28 2.49113003e-28 2.59665597e-28 2.70665207e-28\n",
      " 2.82130768e-28 2.94082017e-28 3.06539530e-28 3.19524751e-28\n",
      " 3.33060034e-28 3.47168682e-28 3.61874981e-28 3.77204249e-28\n",
      " 3.93182876e-28 4.09838367e-28 4.27199397e-28 4.45295851e-28\n",
      " 4.64158883e-28 4.83820966e-28 5.04315949e-28 5.25679112e-28\n",
      " 5.47947234e-28 5.71158648e-28 5.95353313e-28 6.20572881e-28\n",
      " 6.46860766e-28 6.74262224e-28 7.02824426e-28 7.32596543e-28\n",
      " 7.63629826e-28 7.95977700e-28 8.29695852e-28 8.64842328e-28\n",
      " 9.01477631e-28 9.39664831e-28 9.79469667e-28 1.02096066e-27\n",
      " 1.06420924e-27 1.10928986e-27 1.15628013e-27 1.20526094e-27\n",
      " 1.25631660e-27 1.30953502e-27 1.36500781e-27 1.42283046e-27\n",
      " 1.48310251e-27 1.54592774e-27 1.61141428e-27 1.67967487e-27\n",
      " 1.75082703e-27 1.82499324e-27 1.90230119e-27 1.98288395e-27\n",
      " 2.06688025e-27 2.15443469e-27 2.24569800e-27 2.34082728e-27\n",
      " 2.43998630e-27 2.54334576e-27 2.65108360e-27 2.76338529e-27\n",
      " 2.88044415e-27 3.00246171e-27 3.12964801e-27 3.26222201e-27\n",
      " 3.40041193e-27 3.54445567e-27 3.69460121e-27 3.85110700e-27\n",
      " 4.01424249e-27 4.18428851e-27 4.36153779e-27 4.54629547e-27\n",
      " 4.73887961e-27 4.93962174e-27 5.14886745e-27 5.36697695e-27\n",
      " 5.59432571e-27 5.83130511e-27 6.07832313e-27 6.33580499e-27\n",
      " 6.60419396e-27 6.88395207e-27 7.17556092e-27 7.47952252e-27\n",
      " 7.79636013e-27 8.12661920e-27 8.47086827e-27 8.82969996e-27\n",
      " 9.20373200e-27 9.59360829e-27 1.00000000e-26 1.04236067e-26\n",
      " 1.08651577e-26 1.13254132e-26 1.18051653e-26 1.23052400e-26\n",
      " 1.28264983e-26 1.33698374e-26 1.39361927e-26 1.45265393e-26\n",
      " 1.51418933e-26 1.57833141e-26 1.64519059e-26 1.71488197e-26\n",
      " 1.78752553e-26 1.86324631e-26 1.94217468e-26 2.02444651e-26\n",
      " 2.11020343e-26 2.19959307e-26 2.29276931e-26 2.38989257e-26\n",
      " 2.49113003e-26 2.59665597e-26 2.70665207e-26 2.82130768e-26\n",
      " 2.94082017e-26 3.06539530e-26 3.19524751e-26 3.33060034e-26\n",
      " 3.47168682e-26 3.61874981e-26 3.77204249e-26 3.93182876e-26\n",
      " 4.09838367e-26 4.27199397e-26 4.45295851e-26 4.64158883e-26\n",
      " 4.83820966e-26 5.04315949e-26 5.25679112e-26 5.47947234e-26\n",
      " 5.71158648e-26 5.95353313e-26 6.20572881e-26 6.46860766e-26\n",
      " 6.74262224e-26 7.02824426e-26 7.32596543e-26 7.63629826e-26\n",
      " 7.95977700e-26 8.29695852e-26 8.64842328e-26 9.01477631e-26\n",
      " 9.39664831e-26 9.79469667e-26 1.02096066e-25 1.06420924e-25\n",
      " 1.10928986e-25 1.15628013e-25 1.20526094e-25 1.25631660e-25\n",
      " 1.30953502e-25 1.36500781e-25 1.42283046e-25 1.48310251e-25\n",
      " 1.54592774e-25 1.61141428e-25 1.67967487e-25 1.75082703e-25\n",
      " 1.82499324e-25 1.90230119e-25 1.98288395e-25 2.06688025e-25\n",
      " 2.15443469e-25 2.24569800e-25 2.34082728e-25 2.43998630e-25\n",
      " 2.54334576e-25 2.65108360e-25 2.76338529e-25 2.88044415e-25\n",
      " 3.00246171e-25 3.12964801e-25 3.26222201e-25 3.40041193e-25\n",
      " 3.54445567e-25 3.69460121e-25 3.85110700e-25 4.01424249e-25\n",
      " 4.18428851e-25 4.36153779e-25 4.54629547e-25 4.73887961e-25\n",
      " 4.93962174e-25 5.14886745e-25 5.36697695e-25 5.59432571e-25\n",
      " 5.83130511e-25 6.07832313e-25 6.33580499e-25 6.60419396e-25\n",
      " 6.88395207e-25 7.17556092e-25 7.47952252e-25 7.79636013e-25\n",
      " 8.12661920e-25 8.47086827e-25 8.82969996e-25 9.20373200e-25\n",
      " 9.59360829e-25 1.00000000e-24 1.04236067e-24 1.08651577e-24\n",
      " 1.13254132e-24 1.18051653e-24 1.23052400e-24 1.28264983e-24\n",
      " 1.33698374e-24 1.39361927e-24 1.45265393e-24 1.51418933e-24\n",
      " 1.57833141e-24 1.64519059e-24 1.71488197e-24 1.78752553e-24\n",
      " 1.86324631e-24 1.94217468e-24 2.02444651e-24 2.11020343e-24\n",
      " 2.19959307e-24 2.29276931e-24 2.38989257e-24 2.49113003e-24\n",
      " 2.59665597e-24 2.70665207e-24 2.82130768e-24 2.94082017e-24\n",
      " 3.06539530e-24 3.19524751e-24 3.33060034e-24 3.47168682e-24\n",
      " 3.61874981e-24 3.77204249e-24 3.93182876e-24 4.09838367e-24\n",
      " 4.27199397e-24 4.45295851e-24 4.64158883e-24 4.83820966e-24\n",
      " 5.04315949e-24 5.25679112e-24 5.47947234e-24 5.71158648e-24\n",
      " 5.95353313e-24 6.20572881e-24 6.46860766e-24 6.74262224e-24\n",
      " 7.02824426e-24 7.32596543e-24 7.63629826e-24 7.95977700e-24\n",
      " 8.29695852e-24 8.64842328e-24 9.01477631e-24 9.39664831e-24\n",
      " 9.79469667e-24 1.02096066e-23 1.06420924e-23 1.10928986e-23\n",
      " 1.15628013e-23 1.20526094e-23 1.25631660e-23 1.30953502e-23\n",
      " 1.36500781e-23 1.42283046e-23 1.48310251e-23 1.54592774e-23\n",
      " 1.61141428e-23 1.67967487e-23 1.75082703e-23 1.82499324e-23\n",
      " 1.90230119e-23 1.98288395e-23 2.06688025e-23 2.15443469e-23\n",
      " 2.24569800e-23 2.34082728e-23 2.43998630e-23 2.54334576e-23\n",
      " 2.65108360e-23 2.76338529e-23 2.88044415e-23 3.00246171e-23\n",
      " 3.12964801e-23 3.26222201e-23 3.40041193e-23 3.54445567e-23\n",
      " 3.69460121e-23 3.85110700e-23 4.01424249e-23 4.18428851e-23\n",
      " 4.36153779e-23 4.54629547e-23 4.73887961e-23 4.93962174e-23\n",
      " 5.14886745e-23 5.36697695e-23 5.59432571e-23 5.83130511e-23\n",
      " 6.07832313e-23 6.33580499e-23 6.60419396e-23 6.88395207e-23\n",
      " 7.17556092e-23 7.47952252e-23 7.79636013e-23 8.12661920e-23\n",
      " 8.47086827e-23 8.82969996e-23 9.20373200e-23 9.59360829e-23\n",
      " 1.00000000e-22 1.04236067e-22 1.08651577e-22 1.13254132e-22\n",
      " 1.18051653e-22 1.23052400e-22 1.28264983e-22 1.33698374e-22\n",
      " 1.39361927e-22 1.45265393e-22 1.51418933e-22 1.57833141e-22\n",
      " 1.64519059e-22 1.71488197e-22 1.78752553e-22 1.86324631e-22\n",
      " 1.94217468e-22 2.02444651e-22 2.11020343e-22 2.19959307e-22\n",
      " 2.29276931e-22 2.38989257e-22 2.49113003e-22 2.59665597e-22\n",
      " 2.70665207e-22 2.82130768e-22 2.94082017e-22 3.06539530e-22\n",
      " 3.19524751e-22 3.33060034e-22 3.47168682e-22 3.61874981e-22\n",
      " 3.77204249e-22 3.93182876e-22 4.09838367e-22 4.27199397e-22\n",
      " 4.45295851e-22 4.64158883e-22 4.83820966e-22 5.04315949e-22\n",
      " 5.25679112e-22 5.47947234e-22 5.71158648e-22 5.95353313e-22\n",
      " 6.20572881e-22 6.46860766e-22 6.74262224e-22 7.02824426e-22\n",
      " 7.32596543e-22 7.63629826e-22 7.95977700e-22 8.29695852e-22\n",
      " 8.64842328e-22 9.01477631e-22 9.39664831e-22 9.79469667e-22\n",
      " 1.02096066e-21 1.06420924e-21 1.10928986e-21 1.15628013e-21\n",
      " 1.20526094e-21 1.25631660e-21 1.30953502e-21 1.36500781e-21\n",
      " 1.42283046e-21 1.48310251e-21 1.54592774e-21 1.61141428e-21\n",
      " 1.67967487e-21 1.75082703e-21 1.82499324e-21 1.90230119e-21\n",
      " 1.98288395e-21 2.06688025e-21 2.15443469e-21 2.24569800e-21\n",
      " 2.34082728e-21 2.43998630e-21 2.54334576e-21 2.65108360e-21\n",
      " 2.76338529e-21 2.88044415e-21 3.00246171e-21 3.12964801e-21\n",
      " 3.26222201e-21 3.40041193e-21 3.54445567e-21 3.69460121e-21\n",
      " 3.85110700e-21 4.01424249e-21 4.18428851e-21 4.36153779e-21\n",
      " 4.54629547e-21 4.73887961e-21 4.93962174e-21 5.14886745e-21\n",
      " 5.36697695e-21 5.59432571e-21 5.83130511e-21 6.07832313e-21\n",
      " 6.33580499e-21 6.60419396e-21 6.88395207e-21 7.17556092e-21\n",
      " 7.47952252e-21 7.79636013e-21 8.12661920e-21 8.47086827e-21\n",
      " 8.82969996e-21 9.20373200e-21 9.59360829e-21 1.00000000e-20]\n"
     ]
    }
   ],
   "source": [
    "phio = np.logspace(-38, -20, 1000)\n",
    "print(phio)"
   ]
  },
  {
   "cell_type": "code",
   "execution_count": 40,
   "metadata": {},
   "outputs": [
    {
     "name": "stdout",
     "output_type": "stream",
     "text": [
      "\n",
      "CALCULATING TS FOR ALL PSRS FOR ALL GAMMAS FOR ALL WEIGHTS\n",
      "\n",
      "ws = 0\n",
      "gamma = 0\n"
     ]
    },
    {
     "name": "stderr",
     "output_type": "stream",
     "text": [
      "100%|██████████| 1000/1000 [00:10<00:00, 96.73it/s]\n"
     ]
    },
    {
     "name": "stdout",
     "output_type": "stream",
     "text": [
      "gamma = 1\n"
     ]
    },
    {
     "name": "stderr",
     "output_type": "stream",
     "text": [
      "100%|██████████| 1000/1000 [00:10<00:00, 99.60it/s]\n"
     ]
    },
    {
     "name": "stdout",
     "output_type": "stream",
     "text": [
      "gamma = 2\n"
     ]
    },
    {
     "name": "stderr",
     "output_type": "stream",
     "text": [
      "100%|██████████| 1000/1000 [00:10<00:00, 98.68it/s]\n"
     ]
    },
    {
     "name": "stdout",
     "output_type": "stream",
     "text": [
      "gamma = 3\n"
     ]
    },
    {
     "name": "stderr",
     "output_type": "stream",
     "text": [
      "100%|██████████| 1000/1000 [00:10<00:00, 96.38it/s]\n"
     ]
    },
    {
     "name": "stdout",
     "output_type": "stream",
     "text": [
      "ws = 1\n",
      "gamma = 0\n"
     ]
    },
    {
     "name": "stderr",
     "output_type": "stream",
     "text": [
      "100%|██████████| 1000/1000 [00:08<00:00, 122.85it/s]\n"
     ]
    },
    {
     "name": "stdout",
     "output_type": "stream",
     "text": [
      "gamma = 1\n"
     ]
    },
    {
     "name": "stderr",
     "output_type": "stream",
     "text": [
      "100%|██████████| 1000/1000 [00:08<00:00, 121.74it/s]\n"
     ]
    },
    {
     "name": "stdout",
     "output_type": "stream",
     "text": [
      "gamma = 2\n"
     ]
    },
    {
     "name": "stderr",
     "output_type": "stream",
     "text": [
      "100%|██████████| 1000/1000 [00:08<00:00, 117.96it/s]\n"
     ]
    },
    {
     "name": "stdout",
     "output_type": "stream",
     "text": [
      "gamma = 3\n"
     ]
    },
    {
     "name": "stderr",
     "output_type": "stream",
     "text": [
      "100%|██████████| 1000/1000 [00:08<00:00, 122.59it/s]\n"
     ]
    },
    {
     "name": "stdout",
     "output_type": "stream",
     "text": [
      "ws = 2\n",
      "gamma = 0\n"
     ]
    },
    {
     "name": "stderr",
     "output_type": "stream",
     "text": [
      "100%|██████████| 1000/1000 [00:07<00:00, 141.61it/s]\n"
     ]
    },
    {
     "name": "stdout",
     "output_type": "stream",
     "text": [
      "gamma = 1\n"
     ]
    },
    {
     "name": "stderr",
     "output_type": "stream",
     "text": [
      "100%|██████████| 1000/1000 [00:07<00:00, 140.27it/s]\n"
     ]
    },
    {
     "name": "stdout",
     "output_type": "stream",
     "text": [
      "gamma = 2\n"
     ]
    },
    {
     "name": "stderr",
     "output_type": "stream",
     "text": [
      "100%|██████████| 1000/1000 [00:07<00:00, 140.22it/s]\n"
     ]
    },
    {
     "name": "stdout",
     "output_type": "stream",
     "text": [
      "gamma = 3\n"
     ]
    },
    {
     "name": "stderr",
     "output_type": "stream",
     "text": [
      "100%|██████████| 1000/1000 [00:07<00:00, 141.59it/s]\n"
     ]
    },
    {
     "name": "stdout",
     "output_type": "stream",
     "text": [
      "ws = 3\n",
      "gamma = 0\n"
     ]
    },
    {
     "name": "stderr",
     "output_type": "stream",
     "text": [
      "100%|██████████| 1000/1000 [00:07<00:00, 126.48it/s]\n"
     ]
    },
    {
     "name": "stdout",
     "output_type": "stream",
     "text": [
      "gamma = 1\n"
     ]
    },
    {
     "name": "stderr",
     "output_type": "stream",
     "text": [
      "100%|██████████| 1000/1000 [00:07<00:00, 125.19it/s]\n"
     ]
    },
    {
     "name": "stdout",
     "output_type": "stream",
     "text": [
      "gamma = 2\n"
     ]
    },
    {
     "name": "stderr",
     "output_type": "stream",
     "text": [
      "100%|██████████| 1000/1000 [00:08<00:00, 124.97it/s]\n"
     ]
    },
    {
     "name": "stdout",
     "output_type": "stream",
     "text": [
      "gamma = 3\n"
     ]
    },
    {
     "name": "stderr",
     "output_type": "stream",
     "text": [
      "100%|██████████| 1000/1000 [00:07<00:00, 125.55it/s]"
     ]
    },
    {
     "name": "stdout",
     "output_type": "stream",
     "text": [
      "\n",
      "CALCULATED TS FOR ALL PSRS FOR ALL GAMMAS FOR ALL WEIGHTS\n"
     ]
    },
    {
     "name": "stderr",
     "output_type": "stream",
     "text": [
      "\n"
     ]
    }
   ],
   "source": [
    "print('\\nCALCULATING TS FOR ALL PSRS FOR ALL GAMMAS FOR ALL WEIGHTS\\n')\n",
    "\n",
    "all_TSS = []\n",
    "for ws in prange(4):\n",
    "    tmpp = []\n",
    "    print(\"ws = {}\".format(ws))\n",
    "    for gamma in prange(len(gamma_arr)):\n",
    "        print(\"gamma = {}\".format(gamma))\n",
    "        # tmp = np.zeros(len(phio))\n",
    "        # for season in tqdm(range(10)):\n",
    "        t2mp = np.asfarray(all_Si_ws_g_s[ws][gamma])\n",
    "        @njit(nogil=True)\n",
    "        def TS_for_all_psrs2(nsa):  \n",
    "            return TS_st_vec(nsa, t2mp, all_Bi, Ns)      #No units\n",
    "        temp = []\n",
    "        for phi in tqdm(prange(len(phio))):\n",
    "            temp.append(TS_for_all_psrs2(arr[gamma][ws]*phio[phi]))\n",
    "        tmpp.append(temp)\n",
    "        temp = []\n",
    "    all_TSS.append(tmpp)\n",
    "    tmpp = []\n",
    "\n",
    "print('\\nCALCULATED TS FOR ALL PSRS FOR ALL GAMMAS FOR ALL WEIGHTS')"
   ]
  },
  {
   "attachments": {},
   "cell_type": "markdown",
   "metadata": {},
   "source": [
    "### $N \\approx 10^6$"
   ]
  },
  {
   "cell_type": "code",
   "execution_count": 42,
   "metadata": {},
   "outputs": [
    {
     "data": {
      "text/plain": [
       "(4, 4, 1000)"
      ]
     },
     "execution_count": 42,
     "metadata": {},
     "output_type": "execute_result"
    }
   ],
   "source": [
    "all_TSS = np.array(all_TSS, dtype=np.float64)\n",
    "all_TSS.shape"
   ]
  },
  {
   "cell_type": "code",
   "execution_count": 48,
   "metadata": {},
   "outputs": [
    {
     "data": {
      "image/png": "[encoded data removed]",
      "text/plain": [
       "<Figure size 640x480 with 1 Axes>"
      ]
     },
     "metadata": {},
     "output_type": "display_data"
    }
   ],
   "source": [
    "# for i in range(1, len(all_TSS)):\n",
    "plt.figure()\n",
    "histdetails = plt.hist(np.ravel(all_TSS[1:]), bins=10, density=False, histtype='step')\n",
    "# plt.ylim(0, 1000)\n",
    "plt.yscale('log')\n",
    "plt.xlabel('TS')\n",
    "plt.ylabel('Counts')\n",
    "plt.title('TS distribution')\n",
    "plt.show()"
   ]
  },
  {
   "attachments": {},
   "cell_type": "markdown",
   "metadata": {},
   "source": [
    "histdetails = np.histogram(np.ravel(all_TSS[1:]), bins=10)"
   ]
  },
  {
   "cell_type": "code",
   "execution_count": 49,
   "metadata": {},
   "outputs": [
    {
     "data": {
      "text/plain": [
       "(array([1.000e+00, 1.000e+00, 1.000e+00, 3.000e+00, 5.000e+00, 9.000e+00,\n",
       "        1.800e+01, 3.000e+01, 7.500e+01, 6.257e+03]),\n",
       " array([-9.98903755e+06, -8.99013251e+06, -7.99122746e+06, -6.99232241e+06,\n",
       "        -5.99341737e+06, -4.99451232e+06, -3.99560728e+06, -2.99670223e+06,\n",
       "        -1.99779719e+06, -9.98892142e+05,  1.29038750e+01]),\n",
       " [<matplotlib.patches.Polygon at 0x7f88cbc02af0>])"
      ]
     },
     "execution_count": 49,
     "metadata": {},
     "output_type": "execute_result"
    }
   ],
   "source": [
    "histdetails"
   ]
  },
  {
   "cell_type": "code",
   "execution_count": 45,
   "metadata": {},
   "outputs": [
    {
     "data": {
      "text/plain": [
       "12000"
      ]
     },
     "execution_count": 45,
     "metadata": {},
     "output_type": "execute_result"
    }
   ],
   "source": [
    "len(np.ravel(all_TSS[1:]))"
   ]
  },
  {
   "attachments": {},
   "cell_type": "markdown",
   "metadata": {},
   "source": [
    "np.count_nonzero(np.ravel(all_TSS[1:])> )"
   ]
  },
  {
   "cell_type": "code",
   "execution_count": 46,
   "metadata": {},
   "outputs": [],
   "source": [
    "all_TSS = np.array(all_TSS, dtype=np.float64)"
   ]
  },
  {
   "cell_type": "code",
   "execution_count": 47,
   "metadata": {},
   "outputs": [
    {
     "data": {
      "text/plain": [
       "(4, 4, 1000)"
      ]
     },
     "execution_count": 47,
     "metadata": {},
     "output_type": "execute_result"
    }
   ],
   "source": [
    "all_TSS.shape"
   ]
  },
  {
   "cell_type": "code",
   "execution_count": 54,
   "metadata": {},
   "outputs": [
    {
     "ename": "NameError",
     "evalue": "name 'all_TSS' is not defined",
     "output_type": "error",
     "traceback": [
      "\u001b[0;31m---------------------------------------------------------------------------\u001b[0m",
      "\u001b[0;31mNameError\u001b[0m                                 Traceback (most recent call last)",
      "Cell \u001b[0;32mIn[54], line 3\u001b[0m\n\u001b[1;32m      1\u001b[0m \u001b[39mfor\u001b[39;00m w \u001b[39min\u001b[39;00m \u001b[39mrange\u001b[39m(\u001b[39m1\u001b[39m,\u001b[39m4\u001b[39m):\n\u001b[1;32m      2\u001b[0m     \u001b[39mfor\u001b[39;00m g \u001b[39min\u001b[39;00m \u001b[39mrange\u001b[39m(\u001b[39mlen\u001b[39m(gamma_arr)):\n\u001b[0;32m----> 3\u001b[0m         \u001b[39mprint\u001b[39m(\u001b[39mmin\u001b[39m(all_TSS[w][g]), \u001b[39mmax\u001b[39m(all_TSS[w][g]))\n\u001b[1;32m      4\u001b[0m         \u001b[39m# np.savetxt(f'TS_w{w}_g{g}.txt', all_TSS[w][g])\u001b[39;00m\n\u001b[1;32m      6\u001b[0m     \u001b[39mprint\u001b[39m(\u001b[39m'\u001b[39m\u001b[39mwt\u001b[39m\u001b[39m\\n\u001b[39;00m\u001b[39m'\u001b[39m)\n",
      "\u001b[0;31mNameError\u001b[0m: name 'all_TSS' is not defined"
     ]
    }
   ],
   "source": [
    "for w in range(1,4):\n",
    "    for g in range(len(gamma_arr)):\n",
    "        print(min(all_TSS[w][g]), max(all_TSS[w][g]))\n",
    "        # np.savetxt(f'TS_w{w}_g{g}.txt', all_TSS[w][g])\n",
    "        \n",
    "    print('wt\\n')\n",
    "\n",
    "with open(altier_path[0] + f'all_TSS_{len(enus)}_bins.pkl', 'wb') as f:\n",
    "    pickle.dump(all_TSS, f)"
   ]
  },
  {
   "cell_type": "code",
   "execution_count": 50,
   "metadata": {},
   "outputs": [],
   "source": [
    "#Plotting\n",
    "\n",
    "all_TSS = np.asarray(all_TSS)\n",
    "gamma_arr = np.asarray(gamma_arr)\n",
    "\n",
    "all_e_UL = []\n",
    "e_decade = [1e13, 1e14, 1e15, 1e16, 1e17]\n",
    "for e_UL in e_decade:\n",
    "    e2dfde = []\n",
    "\n",
    "    for gamma in prange(len(gamma_arr)):\n",
    "        temp = []\n",
    "        for phi in range(len(phio)):\n",
    "            temp.append( e_UL**2 * dfde(e_UL, gamma_arr[gamma], phio[phi]))        #in eV\n",
    "        e2dfde.append(temp)\n",
    "    e2dfde = np.asarray(e2dfde)\n",
    "\n",
    "    all_e_UL.append(e2dfde)\n",
    "mark = ['^', 'o', 's', 'd']"
   ]
  },
  {
   "cell_type": "code",
   "execution_count": 69,
   "metadata": {},
   "outputs": [
    {
     "name": "stdout",
     "output_type": "stream",
     "text": [
      "[[1.00000000e-10 1.04236067e-10 1.08651577e-10 ... 9.20373200e+07\n",
      "  9.59360829e+07 1.00000000e+08]\n",
      " [1.58489319e-10 1.65203034e-10 1.72201145e-10 ... 1.45869322e+08\n",
      "  1.52048445e+08 1.58489319e+08]\n",
      " [3.38844156e-10 3.53197823e-10 3.68159521e-10 ... 3.11863080e+08\n",
      "  3.25073810e+08 3.38844156e+08]\n",
      " [1.00000000e-09 1.04236067e-09 1.08651577e-09 ... 9.20373200e+08\n",
      "  9.59360829e+08 1.00000000e+09]]\n",
      "next energy bin\n",
      "[[1.00000000e-10 1.04236067e-10 1.08651577e-10 ... 9.20373200e+07\n",
      "  9.59360829e+07 1.00000000e+08]\n",
      " [1.00000000e-10 1.04236067e-10 1.08651577e-10 ... 9.20373200e+07\n",
      "  9.59360829e+07 1.00000000e+08]\n",
      " [1.00000000e-10 1.04236067e-10 1.08651577e-10 ... 9.20373200e+07\n",
      "  9.59360829e+07 1.00000000e+08]\n",
      " [1.00000000e-10 1.04236067e-10 1.08651577e-10 ... 9.20373200e+07\n",
      "  9.59360829e+07 1.00000000e+08]]\n",
      "next energy bin\n",
      "[[1.00000000e-10 1.04236067e-10 1.08651577e-10 ... 9.20373200e+07\n",
      "  9.59360829e+07 1.00000000e+08]\n",
      " [6.30957344e-11 6.57685123e-11 6.85545108e-11 ... 5.80716230e+07\n",
      "  6.05315761e+07 6.30957344e+07]\n",
      " [2.95120923e-11 3.07622444e-11 3.20653538e-11 ... 2.71621388e+07\n",
      "  2.83127453e+07 2.95120923e+07]\n",
      " [1.00000000e-11 1.04236067e-11 1.08651577e-11 ... 9.20373200e+06\n",
      "  9.59360829e+06 1.00000000e+07]]\n",
      "next energy bin\n",
      "[[1.00000000e-10 1.04236067e-10 1.08651577e-10 ... 9.20373200e+07\n",
      "  9.59360829e+07 1.00000000e+08]\n",
      " [3.98107171e-11 4.14971259e-11 4.32549721e-11 ... 3.66407170e+07\n",
      "  3.81928425e+07 3.98107171e+07]\n",
      " [8.70963590e-12 9.07858195e-12 9.46315680e-12 ... 8.01611546e+06\n",
      "  8.35568351e+06 8.70963590e+06]\n",
      " [1.00000000e-12 1.04236067e-12 1.08651577e-12 ... 9.20373200e+05\n",
      "  9.59360829e+05 1.00000000e+06]]\n",
      "next energy bin\n",
      "[[1.00000000e-10 1.04236067e-10 1.08651577e-10 ... 9.20373200e+07\n",
      "  9.59360829e+07 1.00000000e+08]\n",
      " [2.51188643e-11 2.61829163e-11 2.72920423e-11 ... 2.31187295e+07\n",
      "  2.40980545e+07 2.51188643e+07]\n",
      " [2.57039578e-12 2.67927948e-12 2.79277557e-12 ... 2.36572339e+06\n",
      "  2.46593703e+06 2.57039578e+06]\n",
      " [1.00000000e-13 1.04236067e-13 1.08651577e-13 ... 9.20373200e+04\n",
      "  9.59360829e+04 1.00000000e+05]]\n",
      "next energy bin\n"
     ]
    }
   ],
   "source": [
    "for i in all_e_UL:\n",
    "    print(i)\n",
    "    print('next energy bin')"
   ]
  },
  {
   "cell_type": "code",
   "execution_count": 73,
   "metadata": {},
   "outputs": [],
   "source": [
    "\n",
    "all_e_UL=np.asarray(all_e_UL)"
   ]
  },
  {
   "cell_type": "code",
   "execution_count": 75,
   "metadata": {},
   "outputs": [
    {
     "name": "stdout",
     "output_type": "stream",
     "text": [
      "(5, 4, 1000)\n"
     ]
    }
   ],
   "source": [
    "print(all_e_UL.shape)"
   ]
  },
  {
   "cell_type": "code",
   "execution_count": 51,
   "metadata": {},
   "outputs": [
    {
     "data": {
      "text/plain": [
       "(4, 4, 1000)"
      ]
     },
     "execution_count": 51,
     "metadata": {},
     "output_type": "execute_result"
    }
   ],
   "source": [
    "all_TSS.shape"
   ]
  },
  {
   "cell_type": "code",
   "execution_count": 52,
   "metadata": {},
   "outputs": [
    {
     "name": "stdout",
     "output_type": "stream",
     "text": [
      "2.543345761304638e-23\n",
      "9.396648314954749e-24\n",
      "1.4526539259467783e-24\n",
      "2.3408272761782943e-23\n",
      "8.296958520834915e-24\n",
      "1.2305240043592616e-24\n",
      "1.61141427725301e-23\n",
      "5.711586478126447e-24\n",
      "8.470868266557419e-25\n"
     ]
    }
   ],
   "source": [
    "for w in range(1, 4):\n",
    "    for g in range(1, 4):\n",
    "        print(phio[np.argmax(all_TSS[w][g])])"
   ]
  },
  {
   "cell_type": "code",
   "execution_count": 53,
   "metadata": {},
   "outputs": [
    {
     "data": {
      "text/plain": [
       "16.10839920845393"
      ]
     },
     "execution_count": 53,
     "metadata": {},
     "output_type": "execute_result"
    }
   ],
   "source": [
    "max(all_TSS[1][2])"
   ]
  },
  {
   "attachments": {},
   "cell_type": "markdown",
   "metadata": {},
   "source": []
  },
  {
   "cell_type": "code",
   "execution_count": 54,
   "metadata": {},
   "outputs": [],
   "source": [
    "tete = np.float64('2.543345761304638e-23 9.396648314954749e-24 1.4526539259467783e-24 2.3408272761782943e-23 8.296958520834915e-24 1.2305240043592616e-24 1.61141427725301e-23 5.711586478126447e-24 8.470868266557419e-25'.split(' '))"
   ]
  },
  {
   "cell_type": "code",
   "execution_count": 55,
   "metadata": {},
   "outputs": [
    {
     "data": {
      "text/plain": [
       "1.1767549189872607e-24"
      ]
     },
     "execution_count": 55,
     "metadata": {},
     "output_type": "execute_result"
    }
   ],
   "source": [
    "tete[2::3].mean()"
   ]
  },
  {
   "cell_type": "code",
   "execution_count": 65,
   "metadata": {},
   "outputs": [
    {
     "name": "stdout",
     "output_type": "stream",
     "text": [
      "1000\n",
      "1000\n",
      "1000\n",
      "1000\n",
      "1000\n",
      "1000\n",
      "1000\n",
      "1000\n",
      "1000\n",
      "1000\n",
      "1000\n",
      "1000\n",
      "1000\n",
      "1000\n",
      "1000\n",
      "1000\n",
      "1000\n",
      "1000\n",
      "1000\n",
      "1000\n",
      "1000\n",
      "1000\n",
      "1000\n",
      "1000\n",
      "1000\n",
      "1000\n",
      "1000\n",
      "1000\n",
      "1000\n",
      "1000\n",
      "1000\n",
      "1000\n",
      "1000\n",
      "1000\n",
      "1000\n",
      "1000\n",
      "1000\n",
      "1000\n",
      "1000\n",
      "1000\n",
      "1000\n",
      "1000\n",
      "1000\n",
      "1000\n",
      "1000\n",
      "1000\n",
      "1000\n",
      "1000\n",
      "1000\n",
      "1000\n",
      "1000\n",
      "1000\n",
      "1000\n",
      "1000\n",
      "1000\n",
      "1000\n",
      "1000\n",
      "1000\n",
      "1000\n",
      "1000\n"
     ]
    }
   ],
   "source": [
    "# e2dfde = all_e_UL[1][2]\n",
    "# dist_g25 = interp.interp1d(all_TSS[1][2], e2dfde/1e9)\n",
    "\n",
    "# print(dist_g25(-3.84))\n",
    "\n",
    "all_UL = []\n",
    "for ws in range(1,4):\n",
    "    ul_all_gamma = []\n",
    "    for gamma in prange(len(gamma_arr)):\n",
    "        temp = []\n",
    "        for i in all_e_UL:\n",
    "            #print(len(all_TSS[ws][gamma]))\n",
    "            print(len(i[gamma]/1e9))\n",
    "            dist_g = interp.interp1d(all_TSS[ws][gamma], i[gamma]/1e9)\n",
    "            temp.append(dist_g(-3.84))\n",
    "\n",
    "        ul_all_gamma.append(temp)\n",
    "    all_UL.append(ul_all_gamma)"
   ]
  },
  {
   "cell_type": "code",
   "execution_count": 45,
   "metadata": {},
   "outputs": [
    {
     "ename": "NameError",
     "evalue": "name 'all_e_UL' is not defined",
     "output_type": "error",
     "traceback": [
      "\u001b[0;31m---------------------------------------------------------------------------\u001b[0m",
      "\u001b[0;31mNameError\u001b[0m                                 Traceback (most recent call last)",
      "Cell \u001b[0;32mIn[45], line 1\u001b[0m\n\u001b[0;32m----> 1\u001b[0m e2dfde \u001b[39m=\u001b[39m all_e_UL[\u001b[39m1\u001b[39m]\n\u001b[1;32m      2\u001b[0m \u001b[39m# plt.style.use('default')\u001b[39;00m\n\u001b[1;32m      3\u001b[0m font \u001b[39m=\u001b[39m {\u001b[39m'\u001b[39m\u001b[39mfamily\u001b[39m\u001b[39m'\u001b[39m: \u001b[39m'\u001b[39m\u001b[39mserif\u001b[39m\u001b[39m'\u001b[39m,\n\u001b[1;32m      4\u001b[0m         \u001b[39m'\u001b[39m\u001b[39mweight\u001b[39m\u001b[39m'\u001b[39m: \u001b[39m'\u001b[39m\u001b[39mbold\u001b[39m\u001b[39m'\u001b[39m,\n\u001b[1;32m      5\u001b[0m         \u001b[39m'\u001b[39m\u001b[39msize\u001b[39m\u001b[39m'\u001b[39m: \u001b[39m22\u001b[39m,\n\u001b[1;32m      6\u001b[0m         \u001b[39m'\u001b[39m\u001b[39mcolor\u001b[39m\u001b[39m'\u001b[39m:  \u001b[39m'\u001b[39m\u001b[39mblack\u001b[39m\u001b[39m'\u001b[39m,\n\u001b[1;32m      7\u001b[0m         }\n",
      "\u001b[0;31mNameError\u001b[0m: name 'all_e_UL' is not defined"
     ]
    }
   ],
   "source": [
    "e2dfde = all_e_UL[1]\n",
    "# plt.style.use('default')\n",
    "font = {'family': 'serif',\n",
    "        'weight': 'bold',\n",
    "        'size': 22,\n",
    "        'color':  'black',\n",
    "        }\n",
    "smallerfont = {'family': 'serif',\n",
    "        'color':  'black',\n",
    "        'weight': 'bold',\n",
    "        'size': 15,\n",
    "        }\n",
    "\n",
    "axesfont = {'family': 'serif',\n",
    "        'color':  'black',\n",
    "        'weight': 'bold',\n",
    "        'size': 17,\n",
    "        }\n",
    "\n",
    "fig, axs = plt.subplots(1,3, figsize=(18, 6))\n",
    "\n",
    "for gamma in [ 1, 2, 3]:#range(4):\n",
    "    \n",
    "    for i in range(3):\n",
    "        axs[i].plot(e2dfde[gamma]/1e9, all_TSS[i+1][gamma], label='$\\Gamma$ = ' + str(gamma_arr[gamma]), lw=2.2)# + ' with wt')    #in GeV\n",
    "\n",
    "    \n",
    "\n",
    "axs[0].set_title('Weighting scheme: $\\mathsf{\\mathbf{w_{acc}}}$; $\\mathsf{\\mathbf{w_{model} = 1}}$', fontdict=smallerfont)\n",
    "axs[1].set_title('Weighting scheme: $\\mathsf{\\mathbf{w_{acc}}}$; $\\mathsf{\\mathbf{w_{model} = \\dfrac{1}{d_{DM}^2}}}$' , fontdict=smallerfont)\n",
    "axs[2].set_title('Weighting scheme: $\\mathsf{\\mathbf{w_{acc}}}$; $\\mathsf{\\mathbf{w_{model} = s_{1400}}}$', fontdict=smallerfont)\n",
    "\n",
    "\n",
    "for i in range(3):\n",
    "    \n",
    "    axs[i].legend(prop={'size':14}, framealpha=0, loc='lower left')\n",
    "    axs[i].hlines(-3.84, 1e-20, 1e-5, linestyles='dashed', lw=2.2, ls='-.', label='95 % UPPER LIMIT $TS = -3.84$', color='lightcoral')\n",
    "    axs[i].set_xscale('log')\n",
    "    axs[i].set_xlabel('$\\mathsf{\\mathbf{E^2_{\\u03BD} \\dfrac{dF}{dE_{\\u03BD}}}}$ at 100 TeV ($\\mathsf{\\mathbf{GeV}}$ $\\mathsf{\\mathbf{s^{-1}}}$ $\\mathsf{\\mathbf{cm^{-2}}}$ $\\mathsf{\\mathbf{sr^{-1}}}$)', fontdict=axesfont)\n",
    "    axs[i].set_ylabel('TS', fontdict=axesfont, fontsize=20)\n",
    "    axs[i].xaxis.set_tick_params(labelsize=15)\n",
    "    axs[i].yaxis.set_tick_params(labelsize=15)\n",
    "    \n",
    "    axs[i].set_ylim(-220, 90)\n",
    "    axs[i].set_xlim(0.95e-19, 1e-6)\n",
    "\n",
    "plt.suptitle('TS vs Total Neutrino Flux at 100 TeV', fontweight='bold', fontsize=20, fontfamily='serif')\n",
    "\n",
    "plt.tight_layout()\n",
    "plt.savefig(f'outputs/TS_vs_E2dfde_all_w_model_bins={len(enus)}.png')\n",
    "# plt.show()\n",
    "print(f'\\nTS_vs_E2dfde_all_w_model_bins={len(enus)}.png\\nDONE')"
   ]
  },
  {
   "cell_type": "code",
   "execution_count": 58,
   "metadata": {},
   "outputs": [
    {
     "data": {
      "image/png": "[encoded data removed]",
      "text/plain": [
       "<Figure size 1800x600 with 3 Axes>"
      ]
     },
     "metadata": {},
     "output_type": "display_data"
    }
   ],
   "source": [
    "#SIMILAR PLOTS FOR 95% UPPER LIMIT \n",
    "fig, axs = plt.subplots(1,3, figsize=(18, 6))\n",
    "\n",
    "\n",
    "\n",
    "for i in range(3):\n",
    "    for gamma in range(1, len(gamma_arr)):\n",
    "\n",
    "        axs[i].plot(np.divide(e_decade, 1e9), np.multiply(all_UL[i][gamma], 3), label='$\\Gamma$ = ' + str(gamma_arr[gamma]), lw=2.2, ls='-')# + ' with wt')    #in GeV\n",
    "\n",
    "    \n",
    "    axs[i].set_xscale('log')\n",
    "    axs[i].set_yscale('log')\n",
    "    axs[i].set_xlabel('E$_{\\u03BD}$ (GeV)', fontdict=axesfont)\n",
    "    axs[i].set_ylabel('$\\mathsf{\\mathbf{E^2_{\\u03BD} \\dfrac{dF}{dE_{\\u03BD}}}}$ at 100 TeV ($\\mathsf{\\mathbf{GeV}}$ $\\mathsf{\\mathbf{s^{-1}}}$ $\\mathsf{\\mathbf{cm^{-2}}}$ $\\mathsf{\\mathbf{sr^{-1}}}$)', fontdict=axesfont)\n",
    "    axs[i].xaxis.set_tick_params(labelsize=15)\n",
    "    axs[i].yaxis.set_tick_params(labelsize=15)\n",
    "    \n",
    "    axs[i].legend(prop={'size':14}, framealpha=0, loc='lower left')\n",
    "\n",
    "\n",
    "axs[0].set_title('Weighting scheme: $\\mathsf{\\mathbf{w_{acc}}}$; $\\mathsf{\\mathbf{w_{model} = 1}}$', fontdict=smallerfont)\n",
    "axs[1].set_title('Weighting scheme: $\\mathsf{\\mathbf{w_{acc}}}$; $\\mathsf{\\mathbf{w_{model} = \\dfrac{1}{d_{DM}^2}}}$' , fontdict=smallerfont)\n",
    "axs[2].set_title('Weighting scheme: $\\mathsf{\\mathbf{w_{acc}}}$; $\\mathsf{\\mathbf{w_{model} = s_{1400}}}$', fontdict=smallerfont)\n",
    "\n",
    "\n",
    "plt.suptitle('95% UL of Total Energy Flux vs Neutrino Energy', fontweight='bold', fontsize=20, fontfamily='serif')\n",
    "plt.tight_layout()\n",
    "plt.savefig(f'outputs/UL_all_w_model_bins={len(enus)}.png')\n",
    "plt.show()\n"
   ]
  },
  {
   "cell_type": "code",
   "execution_count": 59,
   "metadata": {},
   "outputs": [],
   "source": [
    "# e2dfde = all_e_UL[1]\n",
    "# plttitles = ['$w_{acc}$ and $w_{model} = 1$', '$w_{acc}$ and $w_{model} = \\dfrac{1}{d_{DM}^2}$', '$w_{acc}$ and $w_{model} =  w_{s1400}$']\n",
    "\n",
    "#         # print(st.t.interval(0.95, len(all_TSS[i][j])-1, loc=np.mean(all_TSS[i][j]), scale=st.sem(all_TSS[i][j])))\n",
    "# for i in range(1, 4):\n",
    "#     plt.figure(figsize=(8, 6))\n",
    "#     for j in range(1, len(gamma_arr)):\n",
    "#         plt.plot(e2dfde[j]/1e9, all_TSS[i][j], label='$\\Gamma$ = ' + str(gamma_arr[j]), lw=0.8)\n",
    "#         # ci = st.t.interval(0.95, len(all_TSS[i][j])-1, loc=np.mean(all_TSS[i][j]), scale=st.sem(all_TSS[i][j]))\n",
    "#         # plt.hlines(ci, 1e-19, 1e-6, colors='k', linestyles='dashed', lw=0.5, ls='-.', label=\"95% CI \"+ '$\\Gamma$ = ' + str(gamma_arr[j]))\n",
    "\n",
    "#     plt.hlines(-3.84, 1e-19, 1e-6, linestyles='dashed', lw=0.7, ls='-.', label='95 % UPPER LIMIT $TS = -3.84$')\n",
    "#     # plt.vlines(dist_g25(-3.84), -120, 50, linestyles='dashed', lw=0.5, ls='-.')\n",
    "#     plt.legend()\n",
    "#     plt.xscale('log')\n",
    "#     # plt.yscale('log')\n",
    "#     plt.xlabel(\"$E^2_{\\u03BD} \\dfrac{dF}{dE_{\\u03BD}}$ (GeV)\")\n",
    "#     plt.ylabel(r'$TS$')\n",
    "#     plt.ylim(-200, 50)\n",
    "#     plt.title(\"TS vs Total Neutrino Flux at 100 TeV\\nWeighting scheme: \" + plttitles[i-1])\n",
    "#     plt.savefig(os.getcwd() + f'/outputs/TSvsE2dFdE_ws_{i}.png', facecolor='w')\n",
    "#     plt.show()"
   ]
  },
  {
   "cell_type": "code",
   "execution_count": 60,
   "metadata": {},
   "outputs": [],
   "source": [
    "# def dfde_ul(enu, gamma, phi, flux=1e14):\n",
    "#     return phi * (enu/flux)**gamma"
   ]
  }
 ],
 "metadata": {
  "kernelspec": {
   "display_name": "Python 3",
   "language": "python",
   "name": "python3"
  },
  "language_info": {
   "codemirror_mode": {
    "name": "ipython",
    "version": 3
   },
   "file_extension": ".py",
   "mimetype": "text/x-python",
   "name": "python",
   "nbconvert_exporter": "python",
   "pygments_lexer": "ipython3",
   "version": "3.8.10"
  }
 },
 "nbformat": 4,
 "nbformat_minor": 2
}

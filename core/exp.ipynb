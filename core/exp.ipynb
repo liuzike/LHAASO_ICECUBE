{
 "cells": [
  {
   "cell_type": "code",
   "execution_count": 2,
   "metadata": {},
   "outputs": [],
   "source": [
    "import pandas as pd\n",
    "import os\n",
    "import numpy as np\n",
    "# from astropy.coordinates import SkyCoord\n",
    "# from astropy import units as u\n",
    "import read_files                   \n"
   ]
  },
  {
   "cell_type": "code",
   "execution_count": 14,
   "metadata": {},
   "outputs": [],
   "source": [
    "#lhassodata=pd.read_csv(os.path.abspath(os.path.join(os.getcwd(),'..'))+'/data/'+ \"lhsaaocatalogue.csv\")\n",
    "icbtrackdata=pd.read_csv(os.path.abspath(os.path.join(os.getcwd(),'..'))+'/data/'+ \"hess_source.csv\")\n",
    "lhassodata1=pd.read_csv(os.path.abspath(os.path.join(os.getcwd(),'..'))+'/data/'+ \"lhsaaocataloguekm2a.csv\")\n",
    "lhassodata2=pd.read_csv(os.path.abspath(os.path.join(os.getcwd(),'..'))+'/data/'+ \"lhsaaocataloguewcda.csv\")"
   ]
  },
  {
   "cell_type": "code",
   "execution_count": 19,
   "metadata": {},
   "outputs": [],
   "source": [
    "lhsaao1fnu=np.asfarray([float(i) for i in lhassodata2['N0 '].values], dtype=str)\n"
   ]
  },
  {
   "cell_type": "code",
   "execution_count": 3,
   "metadata": {},
   "outputs": [
    {
     "name": "stdout",
     "output_type": "stream",
     "text": [
      "10000000\n"
     ]
    }
   ],
   "source": [
    "enus = np.logspace(11.001, 18.999, int(1e7))\n",
    "print(len(enus))"
   ]
  },
  {
   "cell_type": "code",
   "execution_count": 41,
   "metadata": {},
   "outputs": [
    {
     "name": "stdout",
     "output_type": "stream",
     "text": [
      "<class 'numpy.float64'>\n"
     ]
    }
   ],
   "source": [
    "print(type(c.ra.deg[0]))"
   ]
  },
  {
   "cell_type": "code",
   "execution_count": 54,
   "metadata": {},
   "outputs": [],
   "source": [
    "icbtrackdata['RA']=c.ra.deg\n",
    "icbtrackdata['Decl']=c.dec.deg"
   ]
  },
  {
   "cell_type": "code",
   "execution_count": 55,
   "metadata": {},
   "outputs": [
    {
     "data": {
      "text/html": [
       "<div>\n",
       "<style scoped>\n",
       "    .dataframe tbody tr th:only-of-type {\n",
       "        vertical-align: middle;\n",
       "    }\n",
       "\n",
       "    .dataframe tbody tr th {\n",
       "        vertical-align: top;\n",
       "    }\n",
       "\n",
       "    .dataframe thead th {\n",
       "        text-align: right;\n",
       "    }\n",
       "</style>\n",
       "<table border=\"1\" class=\"dataframe\">\n",
       "  <thead>\n",
       "    <tr style=\"text-align: right;\">\n",
       "      <th></th>\n",
       "      <th>Name</th>\n",
       "      <th>RA</th>\n",
       "      <th>Decl</th>\n",
       "      <th>Gal.  long. [deg]</th>\n",
       "      <th>Gal.  lat. [deg]</th>\n",
       "      <th>Flux  (max) [C.U.]</th>\n",
       "      <th>Radius [arc min]</th>\n",
       "      <th>Counterpart or  other name(s)</th>\n",
       "      <th>Publication(s)</th>\n",
       "      <th>SOM</th>\n",
       "    </tr>\n",
       "  </thead>\n",
       "  <tbody>\n",
       "    <tr>\n",
       "      <th>0</th>\n",
       "      <td>HESS J1614-518</td>\n",
       "      <td>243.580000</td>\n",
       "      <td>-51.820000</td>\n",
       "      <td>331.52</td>\n",
       "      <td>-0.58</td>\n",
       "      <td>0.25</td>\n",
       "      <td>12</td>\n",
       "      <td>NaN</td>\n",
       "      <td>Science 307 (2005) 1938;  ApJ 636 (2006) 777</td>\n",
       "      <td>2008-09; 2018-03</td>\n",
       "    </tr>\n",
       "    <tr>\n",
       "      <th>1</th>\n",
       "      <td>HESS J1616-508</td>\n",
       "      <td>244.100000</td>\n",
       "      <td>-50.900000</td>\n",
       "      <td>332.39</td>\n",
       "      <td>-0.14</td>\n",
       "      <td>0.19</td>\n",
       "      <td>8.2</td>\n",
       "      <td>PSR J1617-5055 ?</td>\n",
       "      <td>Science 307 (2005) 1938;  ApJ 636 (2006) 777</td>\n",
       "      <td>2007-01</td>\n",
       "    </tr>\n",
       "    <tr>\n",
       "      <th>2</th>\n",
       "      <td>HESS J1640-465</td>\n",
       "      <td>250.180000</td>\n",
       "      <td>-46.530000</td>\n",
       "      <td>338.32</td>\n",
       "      <td>-0.02</td>\n",
       "      <td>0.09</td>\n",
       "      <td>2.7</td>\n",
       "      <td>G338.3-0.0 ?;  3EG J1639-4702 ?</td>\n",
       "      <td>Science 307 (2005) 1938;  ApJ 636 (2006) 777;...</td>\n",
       "      <td>2007-03</td>\n",
       "    </tr>\n",
       "    <tr>\n",
       "      <th>3</th>\n",
       "      <td>HESS J1713-397</td>\n",
       "      <td>258.250000</td>\n",
       "      <td>-39.750000</td>\n",
       "      <td>347.28</td>\n",
       "      <td>-0.38</td>\n",
       "      <td>0.66</td>\n",
       "      <td>15</td>\n",
       "      <td>RX J1713.7-3946,  G347.3-0.5</td>\n",
       "      <td>Nature 432 (2004) 75;  A&amp;A 449 (2006) 223;  A...</td>\n",
       "      <td>2005-01; 2016-09</td>\n",
       "    </tr>\n",
       "    <tr>\n",
       "      <th>4</th>\n",
       "      <td>HESS J1745-290</td>\n",
       "      <td>266.415000</td>\n",
       "      <td>-29.006111</td>\n",
       "      <td>359.94</td>\n",
       "      <td>-0.04</td>\n",
       "      <td>0.05</td>\n",
       "      <td>0</td>\n",
       "      <td>Sgr A* /  Sgr A East ?</td>\n",
       "      <td>A&amp;A 425 (2004) L13, PRL 97 (2006) 221102;  A&amp;...</td>\n",
       "      <td>2004-12; 2009-12; 2016-04</td>\n",
       "    </tr>\n",
       "    <tr>\n",
       "      <th>...</th>\n",
       "      <td>...</td>\n",
       "      <td>...</td>\n",
       "      <td>...</td>\n",
       "      <td>...</td>\n",
       "      <td>...</td>\n",
       "      <td>...</td>\n",
       "      <td>...</td>\n",
       "      <td>...</td>\n",
       "      <td>...</td>\n",
       "      <td>...</td>\n",
       "    </tr>\n",
       "    <tr>\n",
       "      <th>90</th>\n",
       "      <td>HESS J0536-675</td>\n",
       "      <td>84.000000</td>\n",
       "      <td>-67.585278</td>\n",
       "      <td>277.72</td>\n",
       "      <td>-32.09</td>\n",
       "      <td>0.006</td>\n",
       "      <td>NaN</td>\n",
       "      <td>LMC P3;  CAL 60;  CXOU 053600.0-673507</td>\n",
       "      <td>ICRC2017 [arXiv:1708:03171];  A&amp;A 610 (2018) L17</td>\n",
       "      <td>2017-12</td>\n",
       "    </tr>\n",
       "    <tr>\n",
       "      <th>91</th>\n",
       "      <td>HESS J1045-596</td>\n",
       "      <td>161.265000</td>\n",
       "      <td>-59.684444</td>\n",
       "      <td>287.60</td>\n",
       "      <td>-0.63</td>\n",
       "      <td>NaN</td>\n",
       "      <td>NaN</td>\n",
       "      <td>Eta Carinae</td>\n",
       "      <td>ICRC2017 [arXiv:1708.01033];  A&amp;A 635 (2020) ...</td>\n",
       "      <td>2017-08</td>\n",
       "    </tr>\n",
       "    <tr>\n",
       "      <th>92</th>\n",
       "      <td>HESS J1653+397</td>\n",
       "      <td>253.467500</td>\n",
       "      <td>39.760278</td>\n",
       "      <td>63.60</td>\n",
       "      <td>38.86</td>\n",
       "      <td>NaN</td>\n",
       "      <td>NaN</td>\n",
       "      <td>Mkn 501</td>\n",
       "      <td>ApJ 870 (2019) 93</td>\n",
       "      <td>2019-04</td>\n",
       "    </tr>\n",
       "    <tr>\n",
       "      <th>93</th>\n",
       "      <td>HESS J0002-029</td>\n",
       "      <td>0.531667</td>\n",
       "      <td>-2.935000</td>\n",
       "      <td>94.83</td>\n",
       "      <td>-63.08</td>\n",
       "      <td>NaN</td>\n",
       "      <td>NaN</td>\n",
       "      <td>GRB 180720B</td>\n",
       "      <td>Nature 575 (2019) 464</td>\n",
       "      <td>2019-12</td>\n",
       "    </tr>\n",
       "    <tr>\n",
       "      <th>94</th>\n",
       "      <td>HESS J0904-575</td>\n",
       "      <td>136.219167</td>\n",
       "      <td>-57.586111</td>\n",
       "      <td>276.12</td>\n",
       "      <td>-7.04</td>\n",
       "      <td>NaN</td>\n",
       "      <td>0</td>\n",
       "      <td>PKS 0903-57</td>\n",
       "      <td>ATel 13632</td>\n",
       "      <td>2020-10</td>\n",
       "    </tr>\n",
       "  </tbody>\n",
       "</table>\n",
       "<p>95 rows × 10 columns</p>\n",
       "</div>"
      ],
      "text/plain": [
       "               Name          RA       Decl Gal.  long. [deg] Gal.  lat. [deg]  \\\n",
       "0    HESS J1614-518  243.580000 -51.820000            331.52            -0.58   \n",
       "1    HESS J1616-508  244.100000 -50.900000            332.39            -0.14   \n",
       "2    HESS J1640-465  250.180000 -46.530000            338.32            -0.02   \n",
       "3    HESS J1713-397  258.250000 -39.750000            347.28            -0.38   \n",
       "4    HESS J1745-290  266.415000 -29.006111            359.94            -0.04   \n",
       "..              ...         ...        ...               ...              ...   \n",
       "90   HESS J0536-675   84.000000 -67.585278            277.72           -32.09   \n",
       "91   HESS J1045-596  161.265000 -59.684444            287.60            -0.63   \n",
       "92   HESS J1653+397  253.467500  39.760278             63.60            38.86   \n",
       "93   HESS J0002-029    0.531667  -2.935000             94.83           -63.08   \n",
       "94   HESS J0904-575  136.219167 -57.586111            276.12            -7.04   \n",
       "\n",
       "   Flux  (max) [C.U.] Radius [arc min]  \\\n",
       "0                0.25               12   \n",
       "1                0.19              8.2   \n",
       "2                0.09              2.7   \n",
       "3                0.66               15   \n",
       "4                0.05                0   \n",
       "..                ...              ...   \n",
       "90              0.006              NaN   \n",
       "91                NaN              NaN   \n",
       "92                NaN              NaN   \n",
       "93                NaN              NaN   \n",
       "94                NaN                0   \n",
       "\n",
       "              Counterpart or  other name(s)  \\\n",
       "0                                       NaN   \n",
       "1                          PSR J1617-5055 ?   \n",
       "2           G338.3-0.0 ?;  3EG J1639-4702 ?   \n",
       "3              RX J1713.7-3946,  G347.3-0.5   \n",
       "4                    Sgr A* /  Sgr A East ?   \n",
       "..                                      ...   \n",
       "90   LMC P3;  CAL 60;  CXOU 053600.0-673507   \n",
       "91                              Eta Carinae   \n",
       "92                                  Mkn 501   \n",
       "93                              GRB 180720B   \n",
       "94                              PKS 0903-57   \n",
       "\n",
       "                                       Publication(s)  \\\n",
       "0        Science 307 (2005) 1938;  ApJ 636 (2006) 777   \n",
       "1        Science 307 (2005) 1938;  ApJ 636 (2006) 777   \n",
       "2    Science 307 (2005) 1938;  ApJ 636 (2006) 777;...   \n",
       "3    Nature 432 (2004) 75;  A&A 449 (2006) 223;  A...   \n",
       "4    A&A 425 (2004) L13, PRL 97 (2006) 221102;  A&...   \n",
       "..                                                ...   \n",
       "90   ICRC2017 [arXiv:1708:03171];  A&A 610 (2018) L17   \n",
       "91   ICRC2017 [arXiv:1708.01033];  A&A 635 (2020) ...   \n",
       "92                                  ApJ 870 (2019) 93   \n",
       "93                              Nature 575 (2019) 464   \n",
       "94                                         ATel 13632   \n",
       "\n",
       "                           SOM  \n",
       "0             2008-09; 2018-03  \n",
       "1                      2007-01  \n",
       "2                      2007-03  \n",
       "3             2005-01; 2016-09  \n",
       "4    2004-12; 2009-12; 2016-04  \n",
       "..                         ...  \n",
       "90                     2017-12  \n",
       "91                     2017-08  \n",
       "92                     2019-04  \n",
       "93                     2019-12  \n",
       "94                     2020-10  \n",
       "\n",
       "[95 rows x 10 columns]"
      ]
     },
     "execution_count": 55,
     "metadata": {},
     "output_type": "execute_result"
    }
   ],
   "source": [
    "icbtrackdata"
   ]
  },
  {
   "cell_type": "code",
   "execution_count": 60,
   "metadata": {},
   "outputs": [
    {
     "name": "stdout",
     "output_type": "stream",
     "text": [
      "[12.0, 8.2, 2.7, 15.0, 0.0, 0.0, 12.0, 2.2, 9.6, 5.4, 7.2, 12.6, 6.6, 18.0, 4.8, 3.6, 12.6, 6.0, 0.0, 0.0, 9.6, 0.0, 60.0, 0.0, 0.0, 0.0, 26.0, 0.0, 0.0, 0.0, 3.6, 4.2, 4.8, 6.0, 10.8, 6.6, 4.8, 32.0, 11.0, 12.0, 24.0, nan, 20.4, 16.0, 1.2, 0.0, 9.0, 0.0, 10.0, 9.0, 9.0, 1.0, 0.0, 0.0, 0.0, 4.0, 25.0, nan, 9.0, nan, 0.0, 17.0, nan, 0.0, 8.0, 7.0, 0.0, 0.0, nan, 0.0, 8.4, 1.8, 0.0, 7.0, 6.0, 9.6, 0.0, 0.0, nan, nan, 9.0, nan, nan, 0.0, nan, nan, nan, nan, nan, nan, nan, nan, nan, nan, 0.0]\n"
     ]
    }
   ],
   "source": [
    "error= [float(i) for i in icbtrackdata['Radius [arc min]'].values] "
   ]
  },
  {
   "cell_type": "code",
   "execution_count": 63,
   "metadata": {},
   "outputs": [],
   "source": [
    "icbtrackdata['Radius [arc min]'].fillna(float(0),inplace=True)"
   ]
  },
  {
   "cell_type": "code",
   "execution_count": 64,
   "metadata": {},
   "outputs": [
    {
     "name": "stdout",
     "output_type": "stream",
     "text": [
      "0       12\n",
      "1      8.2\n",
      "2      2.7\n",
      "3       15\n",
      "4        0\n",
      "      ... \n",
      "90     0.0\n",
      "91     0.0\n",
      "92     0.0\n",
      "93     0.0\n",
      "94       0\n",
      "Name: Radius [arc min], Length: 95, dtype: object\n"
     ]
    }
   ],
   "source": [
    "print(icbtrackdata['Radius [arc min]'])"
   ]
  },
  {
   "cell_type": "code",
   "execution_count": 56,
   "metadata": {},
   "outputs": [],
   "source": [
    "icbtrackdata.to_csv('/home/sjtu/Downloads/IceCube-Package/data/hess_source1.csv',index = False)"
   ]
  },
  {
   "cell_type": "markdown",
   "metadata": {},
   "source": []
  },
  {
   "cell_type": "code",
   "execution_count": 69,
   "metadata": {},
   "outputs": [
    {
     "ename": "ValueError",
     "evalue": "could not convert string to float: '\\xa016:14:19.2'",
     "output_type": "error",
     "traceback": [
      "\u001b[0;31m---------------------------------------------------------------------------\u001b[0m",
      "\u001b[0;31mValueError\u001b[0m                                Traceback (most recent call last)",
      "\u001b[1;32m/home/sjtu/Downloads/IceCube-Package/core/exp.ipynb Cell 4\u001b[0m line \u001b[0;36m1\n\u001b[0;32m----> <a href='vscode-notebook-cell:/home/sjtu/Downloads/IceCube-Package/core/exp.ipynb#W2sZmlsZQ%3D%3D?line=0'>1</a>\u001b[0m icetrackra\u001b[39m=\u001b[39mnp\u001b[39m.\u001b[39masfarray([\u001b[39mfloat\u001b[39m(i) \u001b[39mfor\u001b[39;00m i \u001b[39min\u001b[39;00m icbtrackdata[\u001b[39m'\u001b[39m\u001b[39mRA\u001b[39m\u001b[39m'\u001b[39m]\u001b[39m.\u001b[39mvalues], dtype\u001b[39m=\u001b[39m\u001b[39mstr\u001b[39m)\n\u001b[1;32m      <a href='vscode-notebook-cell:/home/sjtu/Downloads/IceCube-Package/core/exp.ipynb#W2sZmlsZQ%3D%3D?line=1'>2</a>\u001b[0m icetrackdec\u001b[39m=\u001b[39mnp\u001b[39m.\u001b[39masfarray([\u001b[39mfloat\u001b[39m(i) \u001b[39mfor\u001b[39;00m i \u001b[39min\u001b[39;00m icbtrackdata[\u001b[39m'\u001b[39m\u001b[39mDEC\u001b[39m\u001b[39m'\u001b[39m]\u001b[39m.\u001b[39mvalues], dtype\u001b[39m=\u001b[39m\u001b[39mstr\u001b[39m)\n\u001b[1;32m      <a href='vscode-notebook-cell:/home/sjtu/Downloads/IceCube-Package/core/exp.ipynb#W2sZmlsZQ%3D%3D?line=2'>3</a>\u001b[0m icetrackerr\u001b[39m=\u001b[39mnp\u001b[39m.\u001b[39masfarray([\u001b[39mfloat\u001b[39m(i) \u001b[39mfor\u001b[39;00m i \u001b[39min\u001b[39;00m icbtrackdata[\u001b[39m'\u001b[39m\u001b[39mENERGY\u001b[39m\u001b[39m'\u001b[39m]\u001b[39m.\u001b[39mvalues], dtype\u001b[39m=\u001b[39m\u001b[39mstr\u001b[39m)\n",
      "\u001b[1;32m/home/sjtu/Downloads/IceCube-Package/core/exp.ipynb Cell 4\u001b[0m line \u001b[0;36m1\n\u001b[0;32m----> <a href='vscode-notebook-cell:/home/sjtu/Downloads/IceCube-Package/core/exp.ipynb#W2sZmlsZQ%3D%3D?line=0'>1</a>\u001b[0m icetrackra\u001b[39m=\u001b[39mnp\u001b[39m.\u001b[39masfarray([\u001b[39mfloat\u001b[39;49m(i) \u001b[39mfor\u001b[39;00m i \u001b[39min\u001b[39;00m icbtrackdata[\u001b[39m'\u001b[39m\u001b[39mRA\u001b[39m\u001b[39m'\u001b[39m]\u001b[39m.\u001b[39mvalues], dtype\u001b[39m=\u001b[39m\u001b[39mstr\u001b[39m)\n\u001b[1;32m      <a href='vscode-notebook-cell:/home/sjtu/Downloads/IceCube-Package/core/exp.ipynb#W2sZmlsZQ%3D%3D?line=1'>2</a>\u001b[0m icetrackdec\u001b[39m=\u001b[39mnp\u001b[39m.\u001b[39masfarray([\u001b[39mfloat\u001b[39m(i) \u001b[39mfor\u001b[39;00m i \u001b[39min\u001b[39;00m icbtrackdata[\u001b[39m'\u001b[39m\u001b[39mDEC\u001b[39m\u001b[39m'\u001b[39m]\u001b[39m.\u001b[39mvalues], dtype\u001b[39m=\u001b[39m\u001b[39mstr\u001b[39m)\n\u001b[1;32m      <a href='vscode-notebook-cell:/home/sjtu/Downloads/IceCube-Package/core/exp.ipynb#W2sZmlsZQ%3D%3D?line=2'>3</a>\u001b[0m icetrackerr\u001b[39m=\u001b[39mnp\u001b[39m.\u001b[39masfarray([\u001b[39mfloat\u001b[39m(i) \u001b[39mfor\u001b[39;00m i \u001b[39min\u001b[39;00m icbtrackdata[\u001b[39m'\u001b[39m\u001b[39mENERGY\u001b[39m\u001b[39m'\u001b[39m]\u001b[39m.\u001b[39mvalues], dtype\u001b[39m=\u001b[39m\u001b[39mstr\u001b[39m)\n",
      "\u001b[0;31mValueError\u001b[0m: could not convert string to float: '\\xa016:14:19.2'"
     ]
    }
   ],
   "source": [
    "icetrackra=np.asfarray([float(i) for i in icbtrackdata['RA'].values], dtype=str)\n",
    "icetrackdec=np.asfarray([float(i) for i in icbtrackdata['DEC'].values], dtype=str)\n",
    "icetrackerr=np.asfarray([float(i) for i in icbtrackdata['ENERGY'].values], dtype=str)"
   ]
  },
  {
   "cell_type": "code",
   "execution_count": null,
   "metadata": {},
   "outputs": [],
   "source": [
    "import read_files "
   ]
  },
  {
   "cell_type": "code",
   "execution_count": null,
   "metadata": {},
   "outputs": [
    {
     "ename": "NameError",
     "evalue": "name 'read_files' is not defined",
     "output_type": "error",
     "traceback": [
      "\u001b[0;31m---------------------------------------------------------------------------\u001b[0m",
      "\u001b[0;31mNameError\u001b[0m                                 Traceback (most recent call last)",
      "\u001b[1;32m/home/sjtu/Downloads/IceCube-Package/core/exp.ipynb Cell 5\u001b[0m line \u001b[0;36m1\n\u001b[0;32m----> <a href='vscode-notebook-cell:/home/sjtu/Downloads/IceCube-Package/core/exp.ipynb#W4sZmlsZQ%3D%3D?line=0'>1</a>\u001b[0m all_data \u001b[39m=\u001b[39m read_files\u001b[39m.\u001b[39mData(os\u001b[39m.\u001b[39mpath\u001b[39m.\u001b[39mabspath(os\u001b[39m.\u001b[39mpath\u001b[39m.\u001b[39mjoin(os\u001b[39m.\u001b[39mgetcwd(),\u001b[39m'\u001b[39m\u001b[39m..\u001b[39m\u001b[39m'\u001b[39m))\u001b[39m+\u001b[39m\u001b[39m'\u001b[39m\u001b[39m/data/\u001b[39m\u001b[39m'\u001b[39m)\n",
      "\u001b[0;31mNameError\u001b[0m: name 'read_files' is not defined"
     ]
    }
   ],
   "source": [
    "all_data = read_files.Data(os.path.abspath(os.path.join(os.getcwd(),'..'))+'/data/')\n"
   ]
  },
  {
   "cell_type": "code",
   "execution_count": null,
   "metadata": {},
   "outputs": [],
   "source": [
    "uptdata = all_data.uptdata\n"
   ]
  },
  {
   "cell_type": "code",
   "execution_count": null,
   "metadata": {},
   "outputs": [
    {
     "data": {
      "text/html": [
       "<div>\n",
       "<style scoped>\n",
       "    .dataframe tbody tr th:only-of-type {\n",
       "        vertical-align: middle;\n",
       "    }\n",
       "\n",
       "    .dataframe tbody tr th {\n",
       "        vertical-align: top;\n",
       "    }\n",
       "\n",
       "    .dataframe thead th {\n",
       "        text-align: right;\n",
       "    }\n",
       "</style>\n",
       "<table border=\"1\" class=\"dataframe\">\n",
       "  <thead>\n",
       "    <tr style=\"text-align: right;\">\n",
       "      <th></th>\n",
       "      <th>MJD_start[days]</th>\n",
       "      <th>MJD_stop[days]</th>\n",
       "    </tr>\n",
       "  </thead>\n",
       "  <tbody>\n",
       "    <tr>\n",
       "      <th>0</th>\n",
       "      <td>54562.372031</td>\n",
       "      <td>54562.706262</td>\n",
       "    </tr>\n",
       "    <tr>\n",
       "      <th>1</th>\n",
       "      <td>54562.708122</td>\n",
       "      <td>54563.041981</td>\n",
       "    </tr>\n",
       "    <tr>\n",
       "      <th>2</th>\n",
       "      <td>54563.045082</td>\n",
       "      <td>54563.378948</td>\n",
       "    </tr>\n",
       "    <tr>\n",
       "      <th>3</th>\n",
       "      <td>54563.382765</td>\n",
       "      <td>54563.716857</td>\n",
       "    </tr>\n",
       "    <tr>\n",
       "      <th>4</th>\n",
       "      <td>54563.718740</td>\n",
       "      <td>54564.052580</td>\n",
       "    </tr>\n",
       "    <tr>\n",
       "      <th>...</th>\n",
       "      <td>...</td>\n",
       "      <td>...</td>\n",
       "    </tr>\n",
       "    <tr>\n",
       "      <th>1415</th>\n",
       "      <td>54970.680226</td>\n",
       "      <td>54970.751153</td>\n",
       "    </tr>\n",
       "    <tr>\n",
       "      <th>1416</th>\n",
       "      <td>54970.754808</td>\n",
       "      <td>54970.797658</td>\n",
       "    </tr>\n",
       "    <tr>\n",
       "      <th>1417</th>\n",
       "      <td>54970.798965</td>\n",
       "      <td>54970.973206</td>\n",
       "    </tr>\n",
       "    <tr>\n",
       "      <th>1418</th>\n",
       "      <td>54971.027611</td>\n",
       "      <td>54971.097413</td>\n",
       "    </tr>\n",
       "    <tr>\n",
       "      <th>1419</th>\n",
       "      <td>54971.100918</td>\n",
       "      <td>54971.150264</td>\n",
       "    </tr>\n",
       "  </tbody>\n",
       "</table>\n",
       "<p>1420 rows × 2 columns</p>\n",
       "</div>"
      ],
      "text/plain": [
       "      MJD_start[days]  MJD_stop[days]\n",
       "0        54562.372031    54562.706262\n",
       "1        54562.708122    54563.041981\n",
       "2        54563.045082    54563.378948\n",
       "3        54563.382765    54563.716857\n",
       "4        54563.718740    54564.052580\n",
       "...               ...             ...\n",
       "1415     54970.680226    54970.751153\n",
       "1416     54970.754808    54970.797658\n",
       "1417     54970.798965    54970.973206\n",
       "1418     54971.027611    54971.097413\n",
       "1419     54971.100918    54971.150264\n",
       "\n",
       "[1420 rows x 2 columns]"
      ]
     },
     "execution_count": 15,
     "metadata": {},
     "output_type": "execute_result"
    }
   ],
   "source": [
    "uptdata[0]"
   ]
  },
  {
   "cell_type": "code",
   "execution_count": null,
   "metadata": {},
   "outputs": [],
   "source": [
    "upstop_ttt = np.asfarray([uptdata[i]['MJD_stop[days]'].values[-1] for i in range(len(uptdata))], dtype=np.float64)"
   ]
  },
  {
   "cell_type": "code",
   "execution_count": null,
   "metadata": {},
   "outputs": [
    {
     "name": "stdout",
     "output_type": "stream",
     "text": [
      "[54971.15026394 55347.28439144 55694.41019675 56062.41831018\n",
      " 56414.41614583 56783.57893518 57160.04101851 57528.85952546\n",
      " 57891.16406249 58309.08234953]\n"
     ]
    }
   ],
   "source": [
    "upstop_ttt = np.asfarray([uptdata[i]['MJD_stop[days]'].values[-1] for i in range(len(uptdata))], dtype=np.float64)\n",
    "print (upstop_ttt)"
   ]
  },
  {
   "cell_type": "code",
   "execution_count": null,
   "metadata": {},
   "outputs": [
    {
     "data": {
      "text/plain": [
       "54971.15026394"
      ]
     },
     "execution_count": 12,
     "metadata": {},
     "output_type": "execute_result"
    }
   ],
   "source": [
    "uptdata[0]['MJD_stop[days]'].values[-1] "
   ]
  },
  {
   "cell_type": "code",
   "execution_count": null,
   "metadata": {},
   "outputs": [
    {
     "data": {
      "text/plain": [
       "<matplotlib.legend.Legend at 0x7f8b3d8bb700>"
      ]
     },
     "execution_count": 11,
     "metadata": {},
     "output_type": "execute_result"
    },
    {
     "data": {
      "image/png": "[encoded data removed]",
      "text/plain": [
       "<Figure size 640x480 with 1 Axes>"
      ]
     },
     "metadata": {},
     "output_type": "display_data"
    }
   ],
   "source": [
    "from __future__ import print_function\n",
    "import numpy as np\n",
    "import matplotlib.pyplot as plt\n",
    "from scipy.optimize import curve_fit\n",
    "xdata = [ 495.19624702,976.55502348,1457.91379994,1939.27257639,2420.63135285,2901.99012931,3383.34890576,3864.70768222,4346.06645867,4827.42523513]\n",
    "ydata = [14. ,10. ,17., 15.,  6.,  0.,  8.,  3.,  1.,  1.]\n",
    "\n",
    "# Recast xdata and ydata into numpy arrays so we can use their handy features\n",
    "xdata = np.asarray(xdata)\n",
    "ydata = np.asarray(ydata)\n",
    "plt.plot(xdata, ydata, 'o')\n",
    "\n",
    "# Define the Gaussian function\n",
    "def gauss(x, H,A, x0, sigma):\n",
    "    return  H +A * np.exp(-(x - x0) ** 2 / (2 * sigma ** 2))\n",
    "def gauss1(x, A, x0, sigma):\n",
    "    return  A * np.exp(-(x - x0) ** 2 / (2 * sigma ** 2))\n",
    "parameters, covariance = curve_fit(gauss, xdata, ydata)\n",
    "parameters1,covariance1=curve_fit(gauss1,xdata, ydata)\n",
    "# fit_A = parameters[0]\n",
    "# fit_B = parameters[1]\n",
    "\n",
    "fit_y = gauss(xdata, *parameters)\n",
    "fit_y1=gauss1(xdata, *parameters1)\n",
    "plt.plot(xdata, np.log(xdata), 'o', label='data')\n",
    "plt.plot(xdata, np.log10(xdata), '--', label='fit',c='green')\n",
    "# plt.plot(xdata, fit_y1, '--', label='fit',c='blue')\n",
    "plt.legend()\n"
   ]
  },
  {
   "cell_type": "code",
   "execution_count": null,
   "metadata": {},
   "outputs": [
    {
     "name": "stdout",
     "output_type": "stream",
     "text": [
      "[1]\n",
      "14\n",
      "()\n"
     ]
    }
   ],
   "source": [
    "a=[1,2,3,4,4]\n",
    "c=[]\n",
    "c.append(a[np.argmin(a)])\n",
    "print(c)\n",
    "a=np.sum(a)\n",
    "print(a)\n",
    "a=np.array(a)\n",
    "print(a.shape)\n",
    "b=1\n",
    "b=np.array(b)\n",
    "b=b.reshape(a.shape)"
   ]
  },
  {
   "cell_type": "code",
   "execution_count": null,
   "metadata": {},
   "outputs": [],
   "source": [
    "from numba import jit, njit, prange, set_num_threads, vectorize, guvectorize, cuda\n",
    "\n",
    "@jit(nopython=True)\n",
    "def Pr(x, Ns, S, B):\n",
    "    nsN = x/Ns\n",
    "    return np.add(np.multiply(nsN , S), np.multiply(np.subtract(1, nsN), B))\n",
    "\n",
    "\n",
    "\n",
    "@njit(nogil=True)\n",
    "# d@njit(nogil=True)\n",
    "def TS_st_vec(x, S, B, Ns):\n",
    "    nsN = x/Ns\n",
    "    pr = np.add(np.multiply(nsN , S), np.multiply(np.subtract(1, nsN), B))\n",
    "    return np.sum(np.asfarray(2*np.log10(pr/B)))\n",
    "\n",
    "lnu = 1134450\n",
    "Ns = lnu#np.count_nonzero(nuind+1)"
   ]
  },
  {
   "cell_type": "code",
   "execution_count": null,
   "metadata": {},
   "outputs": [],
   "source": [
    "Si=np.array([0,1])\n",
    "Bi=2\n",
    "Ns=9\n",
    "x=1\n",
    "Ts=TS_st_vec(x,Si,Bi,Ns)"
   ]
  },
  {
   "cell_type": "code",
   "execution_count": null,
   "metadata": {},
   "outputs": [
    {
     "name": "stdout",
     "output_type": "stream",
     "text": [
      "-0.15195221234482692\n"
     ]
    }
   ],
   "source": [
    "print(Ts)"
   ]
  },
  {
   "cell_type": "code",
   "execution_count": null,
   "metadata": {},
   "outputs": [],
   "source": [
    "import matplotlib.pyplot as pl\n",
    "from scipy import interpolate\n",
    "import numpy as np\n",
    "x = np.arange(0, 10)\n",
    "y = np.exp(-x/3.0)\n",
    "f = interpolate.interp1d(x, y)"
   ]
  },
  {
   "cell_type": "code",
   "execution_count": null,
   "metadata": {},
   "outputs": [
    {
     "ename": "ValueError",
     "evalue": "A value (-3.84) in x_new is below the interpolation range's minimum value (0).",
     "output_type": "error",
     "traceback": [
      "\u001b[0;31m---------------------------------------------------------------------------\u001b[0m",
      "\u001b[0;31mValueError\u001b[0m                                Traceback (most recent call last)",
      "Cell \u001b[0;32mIn[4], line 1\u001b[0m\n\u001b[0;32m----> 1\u001b[0m f(\u001b[39m-\u001b[39;49m\u001b[39m3.84\u001b[39;49m)\n",
      "File \u001b[0;32m~/.local/lib/python3.8/site-packages/scipy/interpolate/_polyint.py:80\u001b[0m, in \u001b[0;36m_Interpolator1D.__call__\u001b[0;34m(self, x)\u001b[0m\n\u001b[1;32m     59\u001b[0m \u001b[39m\u001b[39m\u001b[39m\"\"\"\u001b[39;00m\n\u001b[1;32m     60\u001b[0m \u001b[39mEvaluate the interpolant\u001b[39;00m\n\u001b[1;32m     61\u001b[0m \n\u001b[0;32m   (...)\u001b[0m\n\u001b[1;32m     77\u001b[0m \n\u001b[1;32m     78\u001b[0m \u001b[39m\"\"\"\u001b[39;00m\n\u001b[1;32m     79\u001b[0m x, x_shape \u001b[39m=\u001b[39m \u001b[39mself\u001b[39m\u001b[39m.\u001b[39m_prepare_x(x)\n\u001b[0;32m---> 80\u001b[0m y \u001b[39m=\u001b[39m \u001b[39mself\u001b[39;49m\u001b[39m.\u001b[39;49m_evaluate(x)\n\u001b[1;32m     81\u001b[0m \u001b[39mreturn\u001b[39;00m \u001b[39mself\u001b[39m\u001b[39m.\u001b[39m_finish_y(y, x_shape)\n",
      "File \u001b[0;32m~/.local/lib/python3.8/site-packages/scipy/interpolate/_interpolate.py:752\u001b[0m, in \u001b[0;36minterp1d._evaluate\u001b[0;34m(self, x_new)\u001b[0m\n\u001b[1;32m    750\u001b[0m y_new \u001b[39m=\u001b[39m \u001b[39mself\u001b[39m\u001b[39m.\u001b[39m_call(\u001b[39mself\u001b[39m, x_new)\n\u001b[1;32m    751\u001b[0m \u001b[39mif\u001b[39;00m \u001b[39mnot\u001b[39;00m \u001b[39mself\u001b[39m\u001b[39m.\u001b[39m_extrapolate:\n\u001b[0;32m--> 752\u001b[0m     below_bounds, above_bounds \u001b[39m=\u001b[39m \u001b[39mself\u001b[39;49m\u001b[39m.\u001b[39;49m_check_bounds(x_new)\n\u001b[1;32m    753\u001b[0m     \u001b[39mif\u001b[39;00m \u001b[39mlen\u001b[39m(y_new) \u001b[39m>\u001b[39m \u001b[39m0\u001b[39m:\n\u001b[1;32m    754\u001b[0m         \u001b[39m# Note fill_value must be broadcast up to the proper size\u001b[39;00m\n\u001b[1;32m    755\u001b[0m         \u001b[39m# and flattened to work here\u001b[39;00m\n\u001b[1;32m    756\u001b[0m         y_new[below_bounds] \u001b[39m=\u001b[39m \u001b[39mself\u001b[39m\u001b[39m.\u001b[39m_fill_value_below\n",
      "File \u001b[0;32m~/.local/lib/python3.8/site-packages/scipy/interpolate/_interpolate.py:781\u001b[0m, in \u001b[0;36minterp1d._check_bounds\u001b[0;34m(self, x_new)\u001b[0m\n\u001b[1;32m    779\u001b[0m \u001b[39mif\u001b[39;00m \u001b[39mself\u001b[39m\u001b[39m.\u001b[39mbounds_error \u001b[39mand\u001b[39;00m below_bounds\u001b[39m.\u001b[39many():\n\u001b[1;32m    780\u001b[0m     below_bounds_value \u001b[39m=\u001b[39m x_new[np\u001b[39m.\u001b[39margmax(below_bounds)]\n\u001b[0;32m--> 781\u001b[0m     \u001b[39mraise\u001b[39;00m \u001b[39mValueError\u001b[39;00m(\u001b[39m\"\u001b[39m\u001b[39mA value (\u001b[39m\u001b[39m{}\u001b[39;00m\u001b[39m) in x_new is below \u001b[39m\u001b[39m\"\u001b[39m\n\u001b[1;32m    782\u001b[0m                      \u001b[39m\"\u001b[39m\u001b[39mthe interpolation range\u001b[39m\u001b[39m'\u001b[39m\u001b[39ms minimum value (\u001b[39m\u001b[39m{}\u001b[39;00m\u001b[39m).\u001b[39m\u001b[39m\"\u001b[39m\n\u001b[1;32m    783\u001b[0m                      \u001b[39m.\u001b[39mformat(below_bounds_value, \u001b[39mself\u001b[39m\u001b[39m.\u001b[39mx[\u001b[39m0\u001b[39m]))\n\u001b[1;32m    784\u001b[0m \u001b[39mif\u001b[39;00m \u001b[39mself\u001b[39m\u001b[39m.\u001b[39mbounds_error \u001b[39mand\u001b[39;00m above_bounds\u001b[39m.\u001b[39many():\n\u001b[1;32m    785\u001b[0m     above_bounds_value \u001b[39m=\u001b[39m x_new[np\u001b[39m.\u001b[39margmax(above_bounds)]\n",
      "\u001b[0;31mValueError\u001b[0m: A value (-3.84) in x_new is below the interpolation range's minimum value (0)."
     ]
    }
   ],
   "source": [
    "f(-3.84)"
   ]
  },
  {
   "cell_type": "code",
   "execution_count": 1,
   "metadata": {},
   "outputs": [],
   "source": [
    "count_arr=[i for i in range(6)]"
   ]
  },
  {
   "cell_type": "code",
   "execution_count": 2,
   "metadata": {},
   "outputs": [
    {
     "data": {
      "text/plain": [
       "[0, 1, 2, 3, 4, 5]"
      ]
     },
     "execution_count": 2,
     "metadata": {},
     "output_type": "execute_result"
    }
   ],
   "source": [
    "count_arr"
   ]
  },
  {
   "cell_type": "code",
   "execution_count": 5,
   "metadata": {},
   "outputs": [
    {
     "name": "stdout",
     "output_type": "stream",
     "text": [
      "1\n",
      "2\n",
      "3\n",
      "4\n",
      "5\n",
      "6\n"
     ]
    }
   ],
   "source": [
    "from numba import jit, njit, prange, set_num_threads, vectorize, guvectorize, cuda\n",
    "for c in prange(len(count_arr)):\n",
    "    print(c+1)"
   ]
  },
  {
   "cell_type": "code",
   "execution_count": 1,
   "metadata": {},
   "outputs": [
    {
     "name": "stdout",
     "output_type": "stream",
     "text": [
      "0\n",
      "1\n",
      "2\n",
      "3\n",
      "4\n",
      "5\n"
     ]
    }
   ],
   "source": [
    "count_arr=[i for i in range(6)]\n",
    "for i in range(len(count_arr)):\n",
    "    print(i)"
   ]
  },
  {
   "cell_type": "code",
   "execution_count": null,
   "metadata": {},
   "outputs": [],
   "source": []
  }
 ],
 "metadata": {
  "kernelspec": {
   "display_name": "Python 3",
   "language": "python",
   "name": "python3"
  },
  "language_info": {
   "codemirror_mode": {
    "name": "ipython",
    "version": 3
   },
   "file_extension": ".py",
   "mimetype": "text/x-python",
   "name": "python",
   "nbconvert_exporter": "python",
   "pygments_lexer": "ipython3",
   "version": "3.8.2"
  },
  "orig_nbformat": 4
 },
 "nbformat": 4,
 "nbformat_minor": 2
}

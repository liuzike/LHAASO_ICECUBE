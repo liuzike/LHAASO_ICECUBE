{
 "cells": [
  {
   "cell_type": "markdown",
   "metadata": {},
   "source": [
    "## Import the neeeded  modules and vectors"
   ]
  },
  {
   "cell_type": "code",
   "execution_count": 4,
   "metadata": {},
   "outputs": [
    {
     "name": "stdout",
     "output_type": "stream",
     "text": [
      "read icdata\n",
      "read uptdata\n",
      "read eadata\n",
      "read mspdata\n"
     ]
    }
   ],
   "source": [
    "# from core import readfiles\n",
    "import numpy as np\n",
    "import os\n",
    "import multiprocessing as mul\n",
    "import matplotlib.pyplot as plt\n",
    "from numba import jit, njit, prange, set_num_threads, vectorize, guvectorize, cuda\n",
    "from tqdm import tqdm\n",
    "from core.signal_bag import *\n",
    "from core.stacking_analysis import *\n",
    "from core.req_vectors import *\n",
    "import pickle\n",
    "import scipy.stats as st\n",
    "import scipy.interpolate as interp\n",
    "# import torch\n",
    "# from core import weights"
   ]
  },
  {
   "cell_type": "markdown",
   "metadata": {},
   "source": [
    "## concatenate the HESS and LHAASO vecrtors"
   ]
  },
  {
   "cell_type": "code",
   "execution_count": 5,
   "metadata": {},
   "outputs": [],
   "source": [
    "gammaraysrc1ra=np.concatenate([lhsaao1ra, hess_ra], 0)\n",
    "gammaraysrc1dec=np.concatenate([lhsaao1dec, hess_dec], 0)\n",
    "gammaraysrc2ra=np.concatenate([lhsaao2ra, hess_ra], 0)\n",
    "gammaraysrc2dec=np.concatenate([lhsaao2dec, hess_dec], 0)"
   ]
  },
  {
   "cell_type": "markdown",
   "metadata": {},
   "source": [
    "## normalize the  flux"
   ]
  },
  {
   "cell_type": "code",
   "execution_count": 6,
   "metadata": {},
   "outputs": [],
   "source": [
    "lhsaao1fnu_nor=lhsaao1fnu/np.sum(lhsaao1fnu)\n",
    "lhsaao2fnu_nor=lhsaao2fnu/np.sum(lhsaao2fnu)\n",
    "hessfnu=np.asfarray([float(i) for i in hessdata['Flux \\xa0(max)\\xa0[C.U.]'].values], dtype=str)\n",
    "\n"
   ]
  },
  {
   "cell_type": "markdown",
   "metadata": {},
   "source": [
    "## remove the nan values in HESS flux "
   ]
  },
  {
   "cell_type": "code",
   "execution_count": 7,
   "metadata": {},
   "outputs": [
    {
     "name": "stdout",
     "output_type": "stream",
     "text": [
      "[0.25       0.19       0.09       0.66       0.05       0.02\n",
      " 0.25       0.06       0.17       0.08       0.132      0.12\n",
      " 0.06       0.24       0.07       0.018      0.05       0.15\n",
      " 0.025      0.2        0.17       0.07       1.1        0.02\n",
      " 0.02       0.03       0.75       0.02       3.         1.\n",
      " 0.07       0.06       0.035      0.13       0.16       0.16\n",
      " 0.016      0.14       0.12       0.11       0.1        0.013\n",
      " 0.17       0.08       0.013      0.02       0.015      0.03\n",
      " 0.03       0.03       0.03       0.018      0.13914024 0.13914024\n",
      " 0.013      0.02       0.13       0.047      0.07       0.01\n",
      " 0.003      0.17       0.13914024 0.02       0.008      0.009\n",
      " 0.004      0.13914024 0.13914024 0.025      0.04       0.014\n",
      " 0.02       0.04       0.0065     0.015      0.006      0.01\n",
      " 0.018      0.13914024 0.015      0.01       0.13914024 0.007\n",
      " 0.04       0.13914024 0.005      0.006      0.13914024 0.007\n",
      " 0.006      0.13914024 0.13914024 0.13914024 0.13914024]\n"
     ]
    }
   ],
   "source": [
    "\n",
    "nan_col = np.count_nonzero(hessfnu!= hessfnu)\n",
    "if nan_col != 0: \n",
    "    not_nan = hessfnu[hessfnu == hessfnu]  \n",
    "    hessfnu[np.isnan(hessfnu)] = np.mean(not_nan) \n",
    "print(hessfnu)\n"
   ]
  },
  {
   "cell_type": "code",
   "execution_count": 8,
   "metadata": {},
   "outputs": [
    {
     "name": "stdout",
     "output_type": "stream",
     "text": [
      "[0.01891314 0.01437399 0.00680873 0.04993069 0.00378263 0.00151305\n",
      " 0.01891314 0.00453915 0.01286094 0.0060522  0.00998614 0.00907831\n",
      " 0.00453915 0.01815661 0.00529568 0.00136175 0.00378263 0.01134788\n",
      " 0.00189131 0.01513051 0.01286094 0.00529568 0.08321782 0.00151305\n",
      " 0.00151305 0.00226958 0.05673942 0.00151305 0.22695768 0.07565256\n",
      " 0.00529568 0.00453915 0.00264784 0.00983483 0.01210441 0.01210441\n",
      " 0.00121044 0.01059136 0.00907831 0.00832178 0.00756526 0.00098348\n",
      " 0.01286094 0.0060522  0.00098348 0.00151305 0.00113479 0.00226958\n",
      " 0.00226958 0.00226958 0.00226958 0.00136175 0.01052632 0.01052632\n",
      " 0.00098348 0.00151305 0.00983483 0.00355567 0.00529568 0.00075653\n",
      " 0.00022696 0.01286094 0.01052632 0.00151305 0.00060522 0.00068087\n",
      " 0.00030261 0.01052632 0.01052632 0.00189131 0.0030261  0.00105914\n",
      " 0.00151305 0.0030261  0.00049174 0.00113479 0.00045392 0.00075653\n",
      " 0.00136175 0.01052632 0.00113479 0.00075653 0.01052632 0.00052957\n",
      " 0.0030261  0.01052632 0.00037826 0.00045392 0.01052632 0.00052957\n",
      " 0.00045392 0.01052632 0.01052632 0.01052632 0.01052632]\n"
     ]
    }
   ],
   "source": [
    "hessnu_nor=hessfnu/np.sum(hessfnu)\n",
    "print(hessnu_nor)"
   ]
  },
  {
   "cell_type": "markdown",
   "metadata": {},
   "source": [
    "#### concentrate the HESS and LHAASP flux values"
   ]
  },
  {
   "cell_type": "code",
   "execution_count": 23,
   "metadata": {},
   "outputs": [
    {
     "name": "stdout",
     "output_type": "stream",
     "text": [
      "(164,)\n"
     ]
    }
   ],
   "source": [
    "gammaraysrc1funor=np.concatenate([lhsaao1fnu_nor, hessnu_nor], 0)\n",
    "gammaraysrc2funor=np.concatenate([lhsaao2fnu_nor, hessnu_nor], 0)\n",
    "print(gammaraysrc2funor.shape)"
   ]
  },
  {
   "cell_type": "markdown",
   "metadata": {},
   "source": [
    "### some matplot configuration packages"
   ]
  },
  {
   "cell_type": "code",
   "execution_count": 9,
   "metadata": {},
   "outputs": [],
   "source": [
    "from matplotlib.ticker import PercentFormatter\n",
    "from matplotlib.ticker import MaxNLocator, NullLocator\n",
    "import matplotlib.pyplot as plt\n",
    "from matplotlib.ticker import (MultipleLocator, AutoMinorLocator,LogitLocator,NullFormatter,FixedLocator)\n",
    "import matplotlib"
   ]
  },
  {
   "cell_type": "markdown",
   "metadata": {},
   "source": [
    "### read the machine configuration "
   ]
  },
  {
   "cell_type": "code",
   "execution_count": 10,
   "metadata": {},
   "outputs": [],
   "source": [
    "num_threads = int(mul.cpu_count()*0.9)\n",
    "set_num_threads(num_threads)"
   ]
  },
  {
   "cell_type": "markdown",
   "metadata": {},
   "source": [
    "## Energy bins for energy"
   ]
  },
  {
   "cell_type": "code",
   "execution_count": 12,
   "metadata": {},
   "outputs": [],
   "source": [
    "# UNCOMMENT FOR LINEAR BINS\n",
    "# all_enu = np.linspace(10**11.001, 10**18.999, 1000)\n",
    "all_enu = e_nu_wall\n",
    "\n",
    "# enus = 0.5*(all_enu[1:]+all_enu[:-1])\n",
    "# UNCOMMENT FOR DENSER LOGARITHMIC BINS, optimal nbins is 1e6\n",
    "enus = np.logspace(11.001, 18.999, int(1e7))\n",
    "#print(e_nu_wall)\n",
    "#print (np.where(enus>1.58489319e+11))\n"
   ]
  },
  {
   "cell_type": "code",
   "execution_count": 14,
   "metadata": {},
   "outputs": [
    {
     "name": "stdout",
     "output_type": "stream",
     "text": [
      "[ 0  0  0 ... 39 39 39]\n"
     ]
    }
   ],
   "source": [
    "enus_bin_indices = np.zeros(len(enus), dtype=np.int64)\n",
    "\n",
    "for i in prange(len(enus)):\n",
    "    enus_bin_indices[i] = np.digitize(enus[i], e_nu_wall) -1\n",
    "print (enus_bin_indices)"
   ]
  },
  {
   "cell_type": "code",
   "execution_count": 16,
   "metadata": {},
   "outputs": [
    {
     "name": "stdout",
     "output_type": "stream",
     "text": [
      "[-90.   -73.74 -66.93 -61.64 -57.14 -53.13 -49.46 -46.05 -42.84 -39.79\n",
      " -36.87 -34.06 -31.33 -28.69 -26.1  -23.58 -21.1  -18.66 -16.26 -13.89\n",
      " -11.54  -9.21  -6.89  -4.59  -2.29   0.     2.29   4.59   6.89   9.21\n",
      "  11.54  13.89  16.26  18.66  21.1   23.58  26.1   28.69  31.33  34.06\n",
      "  36.87  39.79  42.84  46.05  49.46  53.13  57.14  61.64  66.93  73.74\n",
      "  90.  ]\n"
     ]
    }
   ],
   "source": [
    "msdec\n",
    "print(dec_nu)"
   ]
  },
  {
   "cell_type": "code",
   "execution_count": 17,
   "metadata": {},
   "outputs": [
    {
     "name": "stdout",
     "output_type": "stream",
     "text": [
      "[48 47 46 44 45 45 42 39 34 34 34 40 32 31 40 37 40 44 16 19 17 18 19 19\n",
      " 20 21 21 22 22 23 24 24 25 26 25 26 27 28 28 27 27 29 30 31 31 32 33 33\n",
      " 35 37 36 38 37 38 39 37 39 41 39 40 41 41 44 45 46 46 46 46 44  5  5  6\n",
      "  9 12 13 15 17 19 21 21  6  6  8  8  9 12  3  6 12  2  2  6 12 15 18  7\n",
      " 29 40 34  3  3  3  6 10 26 25 16  3  2  2 18 27 29 33 30  9 27 15 14 14\n",
      " 14 33 19 11  9 22  1  2  3 14  7  7 25  8  8  8  7 21 12  3 34 14 10 28\n",
      " 14 25 16  6  7 16 20 14  9 10 25  1  1  7 12  1  3 40 23  3]\n"
     ]
    }
   ],
   "source": [
    "ladec_bin_indices = np.zeros(len(gammaraysrc2ra), dtype=np.int64)\n",
    "for i in prange(len(gammaraysrc2ra)):\n",
    "    ladec_bin_indices[i] = np.digitize(gammaraysrc2dec[i], dec_nu) - 1\n",
    "print(ladec_bin_indices)"
   ]
  },
  {
   "cell_type": "markdown",
   "metadata": {},
   "source": [
    "## spetral indices set"
   ]
  },
  {
   "cell_type": "code",
   "execution_count": 19,
   "metadata": {},
   "outputs": [
    {
     "name": "stdout",
     "output_type": "stream",
     "text": [
      "\n",
      "Number of energy bins:  10000000\n",
      "\n",
      "Number of phi bins:  1.0 1.0\n",
      "\n",
      "Calculating weights...\n",
      "\n",
      "\n"
     ]
    }
   ],
   "source": [
    "gamma_arr = [-2.0,-2.4, -2.53, -3]\n",
    "phio = np.logspace(-38, -20, 1000) #CHANGING TO LINEAR BINS RESULTS IN STRAIGHT LINES\n",
    "\n",
    "# print(\"\\nNumber of threads: \", num_threads)\n",
    "print(\"\\nNumber of energy bins: \",len(enus))\n",
    "print(\"\\nNumber of phi bins: \", min(10**phio),max(10**phio))\n",
    "print(\"\\nCalculating weights...\\n\\n\")"
   ]
  },
  {
   "cell_type": "markdown",
   "metadata": {},
   "source": [
    "## set for the energy range for different observation seasons"
   ]
  },
  {
   "cell_type": "code",
   "execution_count": 20,
   "metadata": {},
   "outputs": [
    {
     "name": "stdout",
     "output_type": "stream",
     "text": [
      "(5, 2000)\n"
     ]
    }
   ],
   "source": [
    "eareaa = [i.astype(np.float64) for i in earea]\n",
    "eareaa = np.asfarray(eareaa, dtype=np.float64)\n",
    "print(earea.shape)\n",
    "eareaa[0][0]\n",
    "earea2 = np.asfortranarray(earea)\n",
    "earea2 = earea2[0].astype(np.float64)"
   ]
  },
  {
   "cell_type": "markdown",
   "metadata": {},
   "source": [
    "#### define the W_acc_weighted_parameters $R_j\\left(\\Gamma, \\delta_j\\right)=T \\times \\int A_\\mathrm{Eff}\\left(E_\\nu, \\delta_j\\right) E_\\nu^{\\Gamma} d E_\\nu$"
   ]
  },
  {
   "cell_type": "code",
   "execution_count": 21,
   "metadata": {},
   "outputs": [],
   "source": [
    "@vectorize(['float64(int64, float64, int64)'], nopython=True, target='parallel')\n",
    "def psr_wt_sing_gamma(psrno,gamma, season):\n",
    "\n",
    "    tt_upt = t_upt1[season]\n",
    "    l = ladec_bin_indices[psrno]\n",
    "    wt_ac_temp = np.zeros(len(enus), dtype=np.float64)\n",
    "    for i in prange(len(enus)):\n",
    "        wt_ac_temp[i] = np.float64(tt_upt * earea[ea_season(season)][l*40 + enus_bin_indices[i]] * enus[i]**gamma)   \n",
    "\n",
    "\n",
    "    return np.trapz(wt_ac_temp, enus)\n"
   ]
  },
  {
   "cell_type": "markdown",
   "metadata": {},
   "source": [
    "## define the model weighted parameters"
   ]
  },
  {
   "cell_type": "code",
   "execution_count": 26,
   "metadata": {},
   "outputs": [
    {
     "name": "stdout",
     "output_type": "stream",
     "text": [
      "2\n",
      "(2, 164)\n"
     ]
    },
    {
     "name": "stderr",
     "output_type": "stream",
     "text": [
      "/var/folders/2c/m969qfc90tv80w3gmnb7x8r80000gn/T/ipykernel_662/297380556.py:2: RuntimeWarning: divide by zero encountered in divide\n",
      "  sum_wt_model = [1, np.sum(1/(msdist**2)), np.sum(mss1400)]\n"
     ]
    }
   ],
   "source": [
    "w_models = np.column_stack([np.ones(len(gammaraysrc2ra)),gammaraysrc2funor]).T.astype(np.float64)\n",
    "sum_wt_model = [1, np.sum(1/(msdist**2)), np.sum(mss1400)]\n",
    "print(len(w_models))\n",
    "print(w_models.shape)"
   ]
  },
  {
   "cell_type": "markdown",
   "metadata": {},
   "source": [
    "\n",
    "##  calculate all  W_acc_weighted_parameters for all gamma-ray sources"
   ]
  },
  {
   "cell_type": "code",
   "execution_count": 28,
   "metadata": {},
   "outputs": [
    {
     "name": "stdout",
     "output_type": "stream",
     "text": [
      "Loading wt_acc from pickle\n",
      "Loaded wt_acc from pickle with nbins=  10000000\n"
     ]
    }
   ],
   "source": [
    "altier_path = [os.getcwd() + '/pickle/', os.getcwd() + '/../pickle/']\n",
    "if f'wt_acc_{len(enus)}_bins.pkl' in os.listdir(altier_path[0]):# or f'wt_acc.pkl_{len(enus)}' in os.listdir(altier_path[1]):\n",
    "    print(\"Loading wt_acc from pickle\")\n",
    "    # try:\n",
    "    #     wt_acc = pickle.load(altier_path[1] + f'wt_acc.pkl_{len(enus)//2}_bins')\n",
    "    # except:\n",
    "    with open(altier_path[0] + f'wt_acc_{len(enus)}_bins.pkl', 'rb') as f:\n",
    "        wt_acc = pickle.load(f)\n",
    "    \n",
    "    \n",
    "    print(\"Loaded wt_acc from pickle with nbins= \", len(enus))\n",
    "\n",
    "else:\n",
    "    print(\"Calculating wt_acc for all pulsars and seasons and gamma\")\n",
    "    wt_acc = []\n",
    "    for gamma in prange(len(gamma_arr)):\n",
    "        wt_allpsr = []\n",
    "        for season in tqdm(prange(10)):\n",
    "            # tmp = []\n",
    "            # for psrno in prange(p):\n",
    "                # w_model = w_models[psrno]\n",
    "                # tmp.append(psr_wt_sing_gamma(psrno, gamma_arr[gamma], season))\n",
    "                # tmp.append(trapz_numba(psr_wt_sing_e_gamma(psrno, enus, gamma_arr[gamma], season), enus))\n",
    "\n",
    "            wt_allpsr.append(np.array(psr_wt_sing_gamma(prange(len(gammaraysrc2ra)), gamma_arr[gamma], season), dtype=np.float64))\n",
    "            # tmp = []\n",
    "        wt_acc.append(wt_allpsr)\n",
    "        wt_allpsr = []\n",
    "        \n",
    "    wt_acc = np.asfarray(wt_acc, dtype=np.float64)\n",
    "    print\n",
    "    with open(altier_path[0] + f'wt_acc_{len(enus)}_bins.pkl', 'wb') as f:\n",
    "        pickle.dump(wt_acc, f)\n",
    "    print(\"Calculated wt_acc for all gamma-ray sources and seasons and gamma\")"
   ]
  },
  {
   "cell_type": "code",
   "execution_count": 29,
   "metadata": {},
   "outputs": [
    {
     "name": "stdout",
     "output_type": "stream",
     "text": [
      "(4, 10, 164)\n"
     ]
    }
   ],
   "source": [
    "print(wt_acc.shape)"
   ]
  },
  {
   "cell_type": "markdown",
   "metadata": {},
   "source": [
    "### Season walls for  Icecube track events"
   ]
  },
  {
   "cell_type": "code",
   "execution_count": 30,
   "metadata": {},
   "outputs": [
    {
     "name": "stdout",
     "output_type": "stream",
     "text": [
      "[ 36900 107011  93133 136244 112858 122541 127045 129311 123657 145750]\n"
     ]
    }
   ],
   "source": [
    "season_walls = np.asarray([0, 36900, 143911, 237044, 373288, 486146, 608687, 735732, 865043, 988700, 1134450])\n",
    "season_widts= np.diff(season_walls)\n",
    "print (season_widts)"
   ]
  },
  {
   "cell_type": "markdown",
   "metadata": {},
   "source": [
    "### Compute the signal PDF for all neutrinos\n"
   ]
  },
  {
   "cell_type": "code",
   "execution_count": 31,
   "metadata": {},
   "outputs": [],
   "source": [
    "\n",
    "@njit(nogil=True)\n",
    "def S_ijk(nu): \n",
    "\n",
    "    '''\n",
    "    Calculates S_ij as in EQN 7 of 2205.15963\n",
    "    ----------\n",
    "\n",
    "    Parameters\n",
    "    ----------\n",
    "    nu : int\n",
    "        Index of the neutrino in the sample\n",
    "        \n",
    "    \n",
    "    Returns\n",
    "    -------\n",
    "        Returns the signal PDF for the {psrno}th pulsar and nuind_inp neutrino\n",
    "    '''\n",
    "    ang2 = hvovec(gammaraysrc2ra, gammaraysrc2dec, icra[nu], icdec[nu], rad=True) ** 2      #rad**2\n",
    "    sg = np.deg2rad(icang[nu]) ** 2                                     #rad**2\n",
    "    return np.divide(np.exp(-1 * np.divide(ang2, 2*sg)), (2 * np.pi * sg))      #1/rad**2\n",
    "\n",
    "\n",
    "@njit(nogil=True)\n",
    "def S_ik(nu, weight, w_models, gamma_index, ws):\n",
    "\n",
    "    '''\n",
    "    \n",
    "    Calculates S_i as in EQN 8 of 2205.15963\n",
    "    ----------\n",
    "\n",
    "    Parameters\n",
    "    ----------\n",
    "    nu : int\n",
    "        Index of the neutrino in the sample\n",
    "\n",
    "    normalized_wt : array\n",
    "        Normalized weights of the pulsars\n",
    "\n",
    "\n",
    "    gamma_index : int\n",
    "        Index of the gamma value in the gamma array\n",
    "\n",
    "    ws : int\n",
    "        Index of the weight model\n",
    "\n",
    "    Returns\n",
    "    -------\n",
    "        Returns the signal PDF for the {psrno}th pulsar and nuind_inp neutrino\n",
    "\n",
    "    '''\n",
    "\n",
    "    # si_sing_season_g =\n",
    "    # for i in prange(p):\n",
    "        # sij = S_ijk(nu)\n",
    "        # np.sum(np.multiply(sij, normalized_wt[i][gamma_index][season]))      #1/rad**2\n",
    "\n",
    "\n",
    "\n",
    "    sij = S_ijk(nu)\n",
    "    season = 0\n",
    "    for i in range(10):\n",
    "        if season_walls[i] <= nu and nu < season_walls[i+1]:\n",
    "            season = i\n",
    "            break\n",
    "    # print(w_models[ws])\n",
    "    # print(\"next is results\")\n",
    "    # print(len(w_models[ws]))\n",
    "    return np.sum(np.multiply(sij, np.multiply(w_models[ws], weight[gamma_index][season])/np.sum(np.multiply(w_models[ws], weight[gamma_index][season]))))  #1/rad**2\n",
    "    # print(weight[gamma_index][season])"
   ]
  },
  {
   "cell_type": "code",
   "execution_count": 32,
   "metadata": {},
   "outputs": [],
   "source": [
    "@njit(parallel=True, nogil=True)\n",
    "def Sik_sing_s_g(gamma_index, ws):#, wt_acc=wt_acc, w_models=w_models):\n",
    "    '''\n",
    "    Calculates S_i as in EQN 8 of 2205.15963\n",
    "    ----------\n",
    "\n",
    "    Parameters\n",
    "    ----------\n",
    "    weight : array\n",
    "         weights of the pulsars\n",
    "\n",
    "    season : int\n",
    "        Season of the neutrino\n",
    "\n",
    "    gamma_index : int\n",
    "        Index of the gamma value in the gamma array\n",
    "\n",
    "    ws : int\n",
    "        Index of the weight model\n",
    "\n",
    "    Returns\n",
    "    -------\n",
    "        Returns the signal PDF for the {psrno}th pulsar and nuind_inp neutrino\n",
    "    '''\n",
    "\n",
    "\n",
    "\n",
    "    tmp = []\n",
    "    if ws == -1: #No weights\n",
    "        for nu in prange(len(icra)):\n",
    "            tmp.append(np.sum(S_ijk(nu)))\n",
    "        return np.array(tmp, dtype=np.float64)\n",
    "\n",
    "    for nu in prange(len(icra)):\n",
    "        tmp.append(S_ik(nu, wt_acc, w_models, gamma_index, ws))\n",
    "    return np.array(tmp, dtype=np.float64)"
   ]
  },
  {
   "cell_type": "code",
   "execution_count": 33,
   "metadata": {},
   "outputs": [
    {
     "name": "stdout",
     "output_type": "stream",
     "text": [
      "Loading all_Si_ws_g_s from pickle\n",
      "Loaded all_Si_ws_g_s from pickle with nbins = 10000000\n"
     ]
    }
   ],
   "source": [
    "#Pickle\n",
    "if os.path.isfile(altier_path[0] + f'all_Si_ws_g_s_{len(enus)}_bins.pkl'):\n",
    "    print(\"Loading all_Si_ws_g_s from pickle\")\n",
    "    with open(altier_path[0] + f'all_Si_ws_g_s_{len(enus)}_bins.pkl', 'rb') as f:\n",
    "        all_Si_ws_g_s = pickle.load(f)\n",
    "    print(\"Loaded all_Si_ws_g_s from pickle with nbins =\", len(enus))\n",
    "else:\n",
    "\n",
    "\n",
    "    print(\"\\nCalculating S_i for all neutrinos and gammas and weighting schemes...\\n\")\n",
    "\n",
    "    all_Si_ws_g_s = []\n",
    "    #tmp = []\n",
    "    tmp_wt_acc_uniform = []\n",
    "    tmp_wt_acc_w_flux = []\n",
    "    #tmp_wt_acc_w_s1400 = []\n",
    "\n",
    "    for gamma_index in tqdm(prange(len(gamma_arr))):\n",
    "        # for season in tqdm(prange(10)):\n",
    "        #tmp.append(Sik_sing_s_g(gamma_index, -1))\n",
    "        tmp_wt_acc_uniform.append(Sik_sing_s_g(gamma_index, 0))\n",
    "        tmp_wt_acc_w_flux.append(Sik_sing_s_g(gamma_index, 1))\n",
    "        #tmp_wt_acc_w_s1400.append(Sik_sing_s_g(gamma_index, 2))\n",
    "\n",
    "\n",
    "    all_Si_ws_g_s.append([tmp_wt_acc_uniform, tmp_wt_acc_w_flux])\n",
    "    #tmp = []\n",
    "    tmp_wt_acc_uniform = []\n",
    "    tmp_wt_acc_w_flux = []\n",
    "    #tmp_wt_acc_w_s1400 = []\n",
    "    all_Si_ws_g_s = np.asfarray(all_Si_ws_g_s[0])\n",
    "\n",
    "    print(\"Calculated S_i for all neutrinos and gammas and weighting schemes\")\n",
    "    #Save to pickle\n",
    "    with open(altier_path[0] + f'all_Si_ws_g_s_{len(enus)}_bins.pkl', 'wb') as f:\n",
    "        pickle.dump(all_Si_ws_g_s, f)\n",
    "\n"
   ]
  },
  {
   "cell_type": "code",
   "execution_count": 26,
   "metadata": {},
   "outputs": [
    {
     "data": {
      "text/plain": [
       "array([[[2.65189433e-224, 2.63498233e-169, 1.74271415e-020, ...,\n",
       "         3.17700104e-001, 0.00000000e+000, 0.00000000e+000],\n",
       "        [2.55770852e-224, 6.42485254e-170, 1.38668896e-020, ...,\n",
       "         4.09028380e-001, 0.00000000e+000, 0.00000000e+000],\n",
       "        [2.46805120e-224, 3.89077938e-170, 1.29422884e-020, ...,\n",
       "         4.25170371e-001, 0.00000000e+000, 0.00000000e+000],\n",
       "        [2.13503289e-224, 5.76057169e-171, 1.08393496e-020, ...,\n",
       "         4.58653899e-001, 0.00000000e+000, 0.00000000e+000]],\n",
       "\n",
       "       [[3.35168085e-225, 2.31689800e-169, 3.30387694e-021, ...,\n",
       "         2.61884726e-001, 0.00000000e+000, 0.00000000e+000],\n",
       "        [3.24434242e-225, 5.66971937e-170, 2.63843232e-021, ...,\n",
       "         3.42534250e-001, 0.00000000e+000, 0.00000000e+000],\n",
       "        [3.12692070e-225, 3.42943103e-170, 2.45960314e-021, ...,\n",
       "         3.56607144e-001, 0.00000000e+000, 0.00000000e+000],\n",
       "        [2.70390884e-225, 5.07546486e-171, 2.05912145e-021, ...,\n",
       "         3.84782290e-001, 0.00000000e+000, 0.00000000e+000]]])"
      ]
     },
     "execution_count": 26,
     "metadata": {},
     "output_type": "execute_result"
    }
   ],
   "source": [
    "all_Si_ws_g_s"
   ]
  },
  {
   "cell_type": "markdown",
   "metadata": {},
   "source": [
    "## define the function of $B_i$ "
   ]
  },
  {
   "cell_type": "code",
   "execution_count": 34,
   "metadata": {},
   "outputs": [],
   "source": [
    "# @jit(nopython=True)\n",
    "@vectorize(['float64(int64, int64)'], nopython=True,target='parallel')\n",
    "def Bi_stacked_compute(nu, cone=5):\n",
    "\n",
    "    '''\n",
    "    Calculates B_i as in EQN 9 of 2205.15963\n",
    "    ----------\n",
    "\n",
    "    Parameters\n",
    "    ----------\n",
    "    nu : int\n",
    "        Index of the neutrino from IceCube sample\n",
    "    cone : float\n",
    "        Cone angle in degrees.\n",
    "    \n",
    "\n",
    "    Returns\n",
    "    -------\n",
    "    float\n",
    "        Returns the background PDF for the {nu}th neutrino\n",
    "    '''\n",
    "\n",
    "    # count = np.sum(np.abs(np.subtract(icdec, icdec[nu])) <= cone)\n",
    "    count=0\n",
    "    for i in prange(len(icdec)):\n",
    "        if abs(icdec[i] - icdec[nu]) <= cone:\n",
    "            count+=1\n",
    "    binwidth = (np.sin(np.deg2rad(icdec[nu] + cone)) - np.sin(np.deg2rad(icdec[nu] - cone)))*2*np.pi\n",
    "    return count/(binwidth * N_ic)           #No units or sr**-1"
   ]
  },
  {
   "cell_type": "markdown",
   "metadata": {},
   "source": [
    "### calculate the background for all  neutrinos"
   ]
  },
  {
   "cell_type": "code",
   "execution_count": 35,
   "metadata": {},
   "outputs": [
    {
     "name": "stdout",
     "output_type": "stream",
     "text": [
      "Loading all_Bi from pickle...\n",
      "Loaded all_Bi from pickle\n"
     ]
    }
   ],
   "source": [
    "#Pickle\n",
    "if os.path.isfile(altier_path[0] + f'all_Bi.pkl'):\n",
    "    print(\"Loading all_Bi from pickle...\")\n",
    "    with open(altier_path[0] + f'all_Bi.pkl', 'rb') as f:\n",
    "        all_Bi = pickle.load(f)\n",
    "    print(\"Loaded all_Bi from pickle\")\n",
    "else:\n",
    "    print(\"\\nCalculating Bi for all neutrinos\\n\")\n",
    "    all_Bi = Bi_stacked_compute(np.arange(lnu), 5)\n",
    "    # all_Bi+=1e-90\n",
    "    print(\"\\nCalculated Bi for all neutrinos\")\n",
    "    #Save to pickle\n",
    "    with open(altier_path[0] + f'all_Bi.pkl', 'wb') as f:\n",
    "        pickle.dump(all_Bi, f)"
   ]
  },
  {
   "attachments": {},
   "cell_type": "markdown",
   "metadata": {},
   "source": [
    " '''\n",
    "    This function returns the number of signal events for a single pulsar as in EQN3 of 2205.15963\n",
    "    -------------------\n",
    "\n",
    "    Parameters\n",
    "    ----------\n",
    "    dec : float\n",
    "        The declination of the pulsar in radians\n",
    "    \n",
    "    enu : float\n",
    "        The neutrino energy in eV\n",
    "\n",
    "    gamma : float\n",
    "        The spectral index of the neutrino flux\n",
    "\n",
    "    phi0 : float (optional)\n",
    "        The normalization constant of the neutrino flux\n",
    "\n",
    "    season : int (optional)\n",
    "        The IceCube season number\n",
    "    \n",
    "    Returns\n",
    "    -------\n",
    "    float\n",
    "        The number of signal events for the given parameters\n",
    "    '''\n"
   ]
  },
  {
   "cell_type": "code",
   "execution_count": 36,
   "metadata": {},
   "outputs": [
    {
     "name": "stdout",
     "output_type": "stream",
     "text": [
      "1134450\n"
     ]
    }
   ],
   "source": [
    "# type(msdec_bin_indices[0])\n",
    "print (len(all_Bi))"
   ]
  },
  {
   "cell_type": "code",
   "execution_count": 29,
   "metadata": {},
   "outputs": [],
   "source": [
    "arr = np.zeros(10, dtype=np.float64)"
   ]
  },
  {
   "cell_type": "code",
   "execution_count": 42,
   "metadata": {},
   "outputs": [
    {
     "data": {
      "text/plain": [
       "array([35318439.34329611, 32497618.3151043 , 29902901.99932829,\n",
       "       31745765.00015999, 32053797.00057632, 33098838.99984006,\n",
       "       34788962.99980783, 33936928.00012794, 31302372.99945645,\n",
       "       36107635.00003202])"
      ]
     },
     "execution_count": 42,
     "metadata": {},
     "output_type": "execute_result"
    }
   ],
   "source": [
    "t_upt"
   ]
  },
  {
   "cell_type": "markdown",
   "metadata": {},
   "source": [
    "### define the function of $d \\overline{n_s}=T \\cdot A_{\\mathrm{Eff}}\\left(E_\\nu, \\delta_j\\right) \\Phi_\\nu d E_\\nu$"
   ]
  },
  {
   "cell_type": "code",
   "execution_count": 37,
   "metadata": {},
   "outputs": [],
   "source": [
    "\n",
    "# @vectorize(['float64(int64, float64, int64)'], nopython=True, target='parallel')\n",
    "# def psr_wt_sing_gamma(psrno,gamma, season):\n",
    "\n",
    "#     tt_upt = t_upt[season]\n",
    "#     l = msdec_bin_indices[psrno]\n",
    "#     wt_ac_temp = np.zeros(len(enus), dtype=np.float64)\n",
    "#     for i in prange(len(enus)):\n",
    "#         wt_ac_temp[i] = np.float64(tt_upt * earea[ea_season(season)][l*40 + enus_bin_indices[i]] * enus[i]**gamma)\n",
    "\n",
    "\n",
    "#     return np.trapz(wt_ac_temp, enus)\n",
    "# @njit\n",
    "# @vectorize(['float64(float64, float64, float64, int64)'], target='parallel')\n",
    "@vectorize(['float64(int64, float64, float64, int64)'], nopython=True, target='parallel')\n",
    "def ns_singleseason_sing_psr_HAT(psrno,gamma, phi0, season):\n",
    "   \n",
    "\n",
    "    tt_upt = t_upt[season]\n",
    "    # if enu <= 1e11 or enu >= 1e19:\n",
    "    #     return 0.0\n",
    "    # else:\n",
    "        # k=0\n",
    "    l = ladec_bin_indices[psrno]\n",
    "        # for i in range(0, len(e_nu_wall)):\n",
    "        #     if e_nu_wall[i] <= enu and e_nu_wall[i+1] > enu:\n",
    "        #         k=i\n",
    "        #         break\n",
    "\n",
    "        # for j in range(0, len(dec_nu)):\n",
    "        #     if dec_nu[j] <= dec and dec_nu[j+1] > dec:\n",
    "        #         l=j\n",
    "        #         break\n",
    "    ns_temp = np.zeros(len(enus), dtype=np.float64)\n",
    "    for i in prange(len(enus)):\n",
    "        ns_temp[i] += np.float64(tt_upt * earea[ea_season(season)][l*40 + enus_bin_indices[i]] * phi0 * (enus[i]/(10**14))**gamma)\n",
    "    # temp_ea = np.asarray(earea[ea_season(season)])[l*40 + k]\n",
    "    # return tt_upt * temp_ea * phi0 * ((enu/(10**14))**gamma)     #in s cm2 eV\n",
    "\n",
    "    return np.trapz(ns_temp, enus)     #in s cm2 eV\n"
   ]
  },
  {
   "cell_type": "code",
   "execution_count": 139,
   "metadata": {},
   "outputs": [],
   "source": [
    "# def ns_HAT_all_season_all_psr_sing_gamma_wt_wtht_weights(gamma, e_nus=enus, phi0=1):\n",
    "#     # ns_hat = 0\n",
    "#     ns_hat_wt = 0\n",
    "#     # ns_hat_wt_dist = 0\n",
    "#     # ns_hat_wt_s1400 = 0\n",
    "#     for season in tqdm(prange(10)):\n",
    "#         # for psr in prange(p):\n",
    "#             # wt = all_weights[0][gamma_arr.index(gamma)][psr][ea_season(season)]\n",
    "#         wt_sum = np.sum(wt_acc[gamma_arr.index(gamma)][season])\n",
    "\n",
    "#         wt = wt_acc[gamma_arr.index(gamma)][season]\n",
    "#         ns_hat = ns_singleseason_sing_psr_HAT(prange(len(gammaraysrc2ra\n",
    "#                                                         )), gamma, phi0, season)\n",
    "#         # ns_hat_wt += np.dot(wt, nsop)\n",
    "#         # ns_hat_wt_dist += np.dot(wt/msdist[prange(p)]**2, nsop)\n",
    "#             # nsop = ns_singleseason_sing_psr_HAT(msdec[psr], e_nus, gamma, phi0, season)\n",
    "            \n",
    "#             # ns_hat += np.trapz(nsop, x=e_nus)\n",
    "        \n",
    "#     #         ns_hat_wt += wt * np.trapz(nsop, x=e_nus)\n",
    "#     #         ns_hat_wt_dist += wt * np.trapz(nsop, x=e_nus) / (msdist[psr]**2)\n",
    "#     #         ns_hat_wt_s1400 += wt * np.trapz(nsop, x=e_nus) * mss1400[psr]\n",
    "#     # return np.array([ns_hat, ns_hat_wt, ns_hat_wt_dist, ns_hat_wt_s1400], dtype=np.float64)\n",
    "\n",
    "#         ns_hat_wt += np.dot((wt/wt_sum),  ns_hat)\n",
    "#         # ns_hat_wt_dist += np.dot(wt * w_models[1]/ np.sum(np.multiply(wt_acc[gamma_arr.index(gamma)][season], w_models[1])) , ns_hat)\n",
    "#         # ns_hat_wt_s1400 += np.dot(wt * w_models[2]/ np.sum(np.multiply(wt_acc[gamma_arr.index(gamma)][season], w_models[2])), ns_hat)\n",
    "#     return np.array([ns_hat_wt], dtype=np.float64)"
   ]
  },
  {
   "cell_type": "markdown",
   "metadata": {},
   "source": [
    "#### calculate the  $\\overline{n_s}$  from  all gamma-ray sources "
   ]
  },
  {
   "cell_type": "code",
   "execution_count": 38,
   "metadata": {},
   "outputs": [],
   "source": [
    "def ns_HAT_all_season_all_psr_sing_gamma_wt_wtht_weights(gamma, e_nus=enus, phi0=1):\n",
    "    # ns_hat = 0\n",
    "    ns_hat_wt_uniform = 0\n",
    "    ns_hat_wt_fnu = 0\n",
    "    # ns_hat_wt_s1400 = 0\n",
    "    for season in tqdm(prange(10)):\n",
    "        wt_sum = np.sum(wt_acc[gamma_arr.index(gamma)][season])\n",
    "        wt = wt_acc[gamma_arr.index(gamma)][season]\n",
    "        ns_hat = ns_singleseason_sing_psr_HAT(prange(len(gammaraysrc2ra\n",
    "                                                        )), gamma, phi0, season)\n",
    "        # ns_hat_wt += np.dot((wt/wt_sum),  ns_hat)\n",
    "        # ns_hat_wt_fnu=np.dot(wt * w_models[1]/ np.sum(np.multiply(wt_acc[gamma_arr.index(gamma)][season], w_models[1])) , ns_hat)\n",
    "        # ns_hat_wt_uniform += np.dot(w_models[0]/ np.sum(w_models[0]) , ns_hat)\n",
    "        # ns_hat_wt_fnu += np.dot(wt*w_models[1]/ np.sum(w_models[1]), ns_hat)\n",
    "        ns_hat_wt_uniform += np.dot(wt * w_models[0]/ np.sum(np.multiply(wt_acc[gamma_arr.index(gamma)][season], w_models[0])) , ns_hat)\n",
    "        ns_hat_wt_fnu += np.dot(wt * w_models[1]/ np.sum(np.multiply(wt_acc[gamma_arr.index(gamma)][season], w_models[1])), ns_hat)\n",
    "\n",
    "    return np.array([ns_hat_wt_uniform, ns_hat_wt_fnu], dtype=np.float64)"
   ]
  },
  {
   "cell_type": "code",
   "execution_count": 39,
   "metadata": {},
   "outputs": [
    {
     "name": "stdout",
     "output_type": "stream",
     "text": [
      "Loading ns_hat from pickle...\n",
      "Loaded ns_hat from pickle with nbins = 10000000\n"
     ]
    }
   ],
   "source": [
    "#Pickle\n",
    "arr = []\n",
    "if os.path.isfile(altier_path[0] + f'ns_all_ws_{len(enus)}_bins.pkl'):\n",
    "    print(\"Loading ns_hat from pickle...\")\n",
    "    with open(altier_path[0] + f'ns_all_ws_{len(enus)}_bins.pkl', 'rb') as f:\n",
    "        arr = pickle.load(f)\n",
    "    print(\"Loaded ns_hat from pickle with nbins =\", len(enus))\n",
    "else:\n",
    "    print(\"\\nCalculating ns_HAT for all gamma and weighting schemes...\\n\")\n",
    "\n",
    "    arr=[]\n",
    "    for gamma in prange(len(gamma_arr)):\n",
    "        tmp = ns_HAT_all_season_all_psr_sing_gamma_wt_wtht_weights(gamma_arr[gamma])\n",
    "        np.savetxt('outputs3/ns_hat_wt_wt_gamma_{}.txt'.format(gamma_arr[gamma]), tmp)\n",
    "        arr.append(tmp)\n",
    "        tmp = []\n",
    "\n",
    "    arr = np.array(arr, dtype=np.float64)\n",
    "    with open(altier_path[0] + f'ns_all_ws_{len(enus)}_bins.pkl', 'wb') as f:\n",
    "        pickle.dump(arr, f)\n",
    "    print(\"\\nCalculationed ns_HAT for all gamma and weighting schemes\")"
   ]
  },
  {
   "cell_type": "code",
   "execution_count": 56,
   "metadata": {},
   "outputs": [
    {
     "data": {
      "text/plain": [
       "array([[1.56807891e+29, 1.46310827e+29],\n",
       "       [3.28726251e+29, 3.19932895e+29],\n",
       "       [4.77237932e+29, 4.68956019e+29],\n",
       "       [2.73818586e+30, 2.74363821e+30]])"
      ]
     },
     "execution_count": 56,
     "metadata": {},
     "output_type": "execute_result"
    }
   ],
   "source": [
    "arr"
   ]
  },
  {
   "cell_type": "code",
   "execution_count": 40,
   "metadata": {},
   "outputs": [],
   "source": [
    "@njit(parallel=True, nogil=True)\n",
    "def season_nu(nu):\n",
    "    for i in prange(10):\n",
    "        if nu >= season_walls[i] and nu < season_walls[i+1]:\n",
    "            return i"
   ]
  },
  {
   "attachments": {},
   "cell_type": "markdown",
   "metadata": {},
   "source": [
    "#### define the  function of likelihood and TS_vector"
   ]
  },
  {
   "cell_type": "code",
   "execution_count": 41,
   "metadata": {},
   "outputs": [],
   "source": [
    "@jit(nopython=True)\n",
    "def Pr(x, Ns, S, B):\n",
    "    nsN = x/Ns\n",
    "    return np.add(np.multiply(nsN , S), np.multiply(np.subtract(1, nsN), B))\n",
    "\n",
    "\n",
    "\n",
    "@njit(nogil=True)\n",
    "def TS_st_vec(x, S, B, Ns):\n",
    "    nsN = x/Ns\n",
    "    pr = np.add(np.multiply(nsN , S), np.multiply(np.subtract(1, nsN), B))\n",
    "    return np.sum(np.asfarray(2*np.log(pr/B)))\n",
    "\n",
    "lnu = 1134450\n",
    "Ns = lnu#np.count_nonzero(nuind+1)\n"
   ]
  },
  {
   "attachments": {},
   "cell_type": "markdown",
   "metadata": {},
   "source": [
    "TS_st_vec(0.5e6, all_Si_ws_g_s[0][0], all_Bi, Ns)"
   ]
  },
  {
   "cell_type": "markdown",
   "metadata": {},
   "source": [
    "### set the normalization factors"
   ]
  },
  {
   "cell_type": "code",
   "execution_count": 42,
   "metadata": {},
   "outputs": [
    {
     "name": "stdout",
     "output_type": "stream",
     "text": [
      "[1.00000000e-38 1.04236067e-38 1.08651577e-38 1.13254132e-38\n",
      " 1.18051653e-38 1.23052400e-38 1.28264983e-38 1.33698374e-38\n",
      " 1.39361927e-38 1.45265393e-38 1.51418933e-38 1.57833141e-38\n",
      " 1.64519059e-38 1.71488197e-38 1.78752553e-38 1.86324631e-38\n",
      " 1.94217468e-38 2.02444651e-38 2.11020343e-38 2.19959307e-38\n",
      " 2.29276931e-38 2.38989257e-38 2.49113003e-38 2.59665597e-38\n",
      " 2.70665207e-38 2.82130768e-38 2.94082017e-38 3.06539530e-38\n",
      " 3.19524751e-38 3.33060034e-38 3.47168682e-38 3.61874981e-38\n",
      " 3.77204249e-38 3.93182876e-38 4.09838367e-38 4.27199397e-38\n",
      " 4.45295851e-38 4.64158883e-38 4.83820966e-38 5.04315949e-38\n",
      " 5.25679112e-38 5.47947234e-38 5.71158648e-38 5.95353313e-38\n",
      " 6.20572881e-38 6.46860766e-38 6.74262224e-38 7.02824426e-38\n",
      " 7.32596543e-38 7.63629826e-38 7.95977700e-38 8.29695852e-38\n",
      " 8.64842328e-38 9.01477631e-38 9.39664831e-38 9.79469667e-38\n",
      " 1.02096066e-37 1.06420924e-37 1.10928986e-37 1.15628013e-37\n",
      " 1.20526094e-37 1.25631660e-37 1.30953502e-37 1.36500781e-37\n",
      " 1.42283046e-37 1.48310251e-37 1.54592774e-37 1.61141428e-37\n",
      " 1.67967487e-37 1.75082703e-37 1.82499324e-37 1.90230119e-37\n",
      " 1.98288395e-37 2.06688025e-37 2.15443469e-37 2.24569800e-37\n",
      " 2.34082728e-37 2.43998630e-37 2.54334576e-37 2.65108360e-37\n",
      " 2.76338529e-37 2.88044415e-37 3.00246171e-37 3.12964801e-37\n",
      " 3.26222201e-37 3.40041193e-37 3.54445567e-37 3.69460121e-37\n",
      " 3.85110700e-37 4.01424249e-37 4.18428851e-37 4.36153779e-37\n",
      " 4.54629547e-37 4.73887961e-37 4.93962174e-37 5.14886745e-37\n",
      " 5.36697695e-37 5.59432571e-37 5.83130511e-37 6.07832313e-37\n",
      " 6.33580499e-37 6.60419396e-37 6.88395207e-37 7.17556092e-37\n",
      " 7.47952252e-37 7.79636013e-37 8.12661920e-37 8.47086827e-37\n",
      " 8.82969996e-37 9.20373200e-37 9.59360829e-37 1.00000000e-36\n",
      " 1.04236067e-36 1.08651577e-36 1.13254132e-36 1.18051653e-36\n",
      " 1.23052400e-36 1.28264983e-36 1.33698374e-36 1.39361927e-36\n",
      " 1.45265393e-36 1.51418933e-36 1.57833141e-36 1.64519059e-36\n",
      " 1.71488197e-36 1.78752553e-36 1.86324631e-36 1.94217468e-36\n",
      " 2.02444651e-36 2.11020343e-36 2.19959307e-36 2.29276931e-36\n",
      " 2.38989257e-36 2.49113003e-36 2.59665597e-36 2.70665207e-36\n",
      " 2.82130768e-36 2.94082017e-36 3.06539530e-36 3.19524751e-36\n",
      " 3.33060034e-36 3.47168682e-36 3.61874981e-36 3.77204249e-36\n",
      " 3.93182876e-36 4.09838367e-36 4.27199397e-36 4.45295851e-36\n",
      " 4.64158883e-36 4.83820966e-36 5.04315949e-36 5.25679112e-36\n",
      " 5.47947234e-36 5.71158648e-36 5.95353313e-36 6.20572881e-36\n",
      " 6.46860766e-36 6.74262224e-36 7.02824426e-36 7.32596543e-36\n",
      " 7.63629826e-36 7.95977700e-36 8.29695852e-36 8.64842328e-36\n",
      " 9.01477631e-36 9.39664831e-36 9.79469667e-36 1.02096066e-35\n",
      " 1.06420924e-35 1.10928986e-35 1.15628013e-35 1.20526094e-35\n",
      " 1.25631660e-35 1.30953502e-35 1.36500781e-35 1.42283046e-35\n",
      " 1.48310251e-35 1.54592774e-35 1.61141428e-35 1.67967487e-35\n",
      " 1.75082703e-35 1.82499324e-35 1.90230119e-35 1.98288395e-35\n",
      " 2.06688025e-35 2.15443469e-35 2.24569800e-35 2.34082728e-35\n",
      " 2.43998630e-35 2.54334576e-35 2.65108360e-35 2.76338529e-35\n",
      " 2.88044415e-35 3.00246171e-35 3.12964801e-35 3.26222201e-35\n",
      " 3.40041193e-35 3.54445567e-35 3.69460121e-35 3.85110700e-35\n",
      " 4.01424249e-35 4.18428851e-35 4.36153779e-35 4.54629547e-35\n",
      " 4.73887961e-35 4.93962174e-35 5.14886745e-35 5.36697695e-35\n",
      " 5.59432571e-35 5.83130511e-35 6.07832313e-35 6.33580499e-35\n",
      " 6.60419396e-35 6.88395207e-35 7.17556092e-35 7.47952252e-35\n",
      " 7.79636013e-35 8.12661920e-35 8.47086827e-35 8.82969996e-35\n",
      " 9.20373200e-35 9.59360829e-35 1.00000000e-34 1.04236067e-34\n",
      " 1.08651577e-34 1.13254132e-34 1.18051653e-34 1.23052400e-34\n",
      " 1.28264983e-34 1.33698374e-34 1.39361927e-34 1.45265393e-34\n",
      " 1.51418933e-34 1.57833141e-34 1.64519059e-34 1.71488197e-34\n",
      " 1.78752553e-34 1.86324631e-34 1.94217468e-34 2.02444651e-34\n",
      " 2.11020343e-34 2.19959307e-34 2.29276931e-34 2.38989257e-34\n",
      " 2.49113003e-34 2.59665597e-34 2.70665207e-34 2.82130768e-34\n",
      " 2.94082017e-34 3.06539530e-34 3.19524751e-34 3.33060034e-34\n",
      " 3.47168682e-34 3.61874981e-34 3.77204249e-34 3.93182876e-34\n",
      " 4.09838367e-34 4.27199397e-34 4.45295851e-34 4.64158883e-34\n",
      " 4.83820966e-34 5.04315949e-34 5.25679112e-34 5.47947234e-34\n",
      " 5.71158648e-34 5.95353313e-34 6.20572881e-34 6.46860766e-34\n",
      " 6.74262224e-34 7.02824426e-34 7.32596543e-34 7.63629826e-34\n",
      " 7.95977700e-34 8.29695852e-34 8.64842328e-34 9.01477631e-34\n",
      " 9.39664831e-34 9.79469667e-34 1.02096066e-33 1.06420924e-33\n",
      " 1.10928986e-33 1.15628013e-33 1.20526094e-33 1.25631660e-33\n",
      " 1.30953502e-33 1.36500781e-33 1.42283046e-33 1.48310251e-33\n",
      " 1.54592774e-33 1.61141428e-33 1.67967487e-33 1.75082703e-33\n",
      " 1.82499324e-33 1.90230119e-33 1.98288395e-33 2.06688025e-33\n",
      " 2.15443469e-33 2.24569800e-33 2.34082728e-33 2.43998630e-33\n",
      " 2.54334576e-33 2.65108360e-33 2.76338529e-33 2.88044415e-33\n",
      " 3.00246171e-33 3.12964801e-33 3.26222201e-33 3.40041193e-33\n",
      " 3.54445567e-33 3.69460121e-33 3.85110700e-33 4.01424249e-33\n",
      " 4.18428851e-33 4.36153779e-33 4.54629547e-33 4.73887961e-33\n",
      " 4.93962174e-33 5.14886745e-33 5.36697695e-33 5.59432571e-33\n",
      " 5.83130511e-33 6.07832313e-33 6.33580499e-33 6.60419396e-33\n",
      " 6.88395207e-33 7.17556092e-33 7.47952252e-33 7.79636013e-33\n",
      " 8.12661920e-33 8.47086827e-33 8.82969996e-33 9.20373200e-33\n",
      " 9.59360829e-33 1.00000000e-32 1.04236067e-32 1.08651577e-32\n",
      " 1.13254132e-32 1.18051653e-32 1.23052400e-32 1.28264983e-32\n",
      " 1.33698374e-32 1.39361927e-32 1.45265393e-32 1.51418933e-32\n",
      " 1.57833141e-32 1.64519059e-32 1.71488197e-32 1.78752553e-32\n",
      " 1.86324631e-32 1.94217468e-32 2.02444651e-32 2.11020343e-32\n",
      " 2.19959307e-32 2.29276931e-32 2.38989257e-32 2.49113003e-32\n",
      " 2.59665597e-32 2.70665207e-32 2.82130768e-32 2.94082017e-32\n",
      " 3.06539530e-32 3.19524751e-32 3.33060034e-32 3.47168682e-32\n",
      " 3.61874981e-32 3.77204249e-32 3.93182876e-32 4.09838367e-32\n",
      " 4.27199397e-32 4.45295851e-32 4.64158883e-32 4.83820966e-32\n",
      " 5.04315949e-32 5.25679112e-32 5.47947234e-32 5.71158648e-32\n",
      " 5.95353313e-32 6.20572881e-32 6.46860766e-32 6.74262224e-32\n",
      " 7.02824426e-32 7.32596543e-32 7.63629826e-32 7.95977700e-32\n",
      " 8.29695852e-32 8.64842328e-32 9.01477631e-32 9.39664831e-32\n",
      " 9.79469667e-32 1.02096066e-31 1.06420924e-31 1.10928986e-31\n",
      " 1.15628013e-31 1.20526094e-31 1.25631660e-31 1.30953502e-31\n",
      " 1.36500781e-31 1.42283046e-31 1.48310251e-31 1.54592774e-31\n",
      " 1.61141428e-31 1.67967487e-31 1.75082703e-31 1.82499324e-31\n",
      " 1.90230119e-31 1.98288395e-31 2.06688025e-31 2.15443469e-31\n",
      " 2.24569800e-31 2.34082728e-31 2.43998630e-31 2.54334576e-31\n",
      " 2.65108360e-31 2.76338529e-31 2.88044415e-31 3.00246171e-31\n",
      " 3.12964801e-31 3.26222201e-31 3.40041193e-31 3.54445567e-31\n",
      " 3.69460121e-31 3.85110700e-31 4.01424249e-31 4.18428851e-31\n",
      " 4.36153779e-31 4.54629547e-31 4.73887961e-31 4.93962174e-31\n",
      " 5.14886745e-31 5.36697695e-31 5.59432571e-31 5.83130511e-31\n",
      " 6.07832313e-31 6.33580499e-31 6.60419396e-31 6.88395207e-31\n",
      " 7.17556092e-31 7.47952252e-31 7.79636013e-31 8.12661920e-31\n",
      " 8.47086827e-31 8.82969996e-31 9.20373200e-31 9.59360829e-31\n",
      " 1.00000000e-30 1.04236067e-30 1.08651577e-30 1.13254132e-30\n",
      " 1.18051653e-30 1.23052400e-30 1.28264983e-30 1.33698374e-30\n",
      " 1.39361927e-30 1.45265393e-30 1.51418933e-30 1.57833141e-30\n",
      " 1.64519059e-30 1.71488197e-30 1.78752553e-30 1.86324631e-30\n",
      " 1.94217468e-30 2.02444651e-30 2.11020343e-30 2.19959307e-30\n",
      " 2.29276931e-30 2.38989257e-30 2.49113003e-30 2.59665597e-30\n",
      " 2.70665207e-30 2.82130768e-30 2.94082017e-30 3.06539530e-30\n",
      " 3.19524751e-30 3.33060034e-30 3.47168682e-30 3.61874981e-30\n",
      " 3.77204249e-30 3.93182876e-30 4.09838367e-30 4.27199397e-30\n",
      " 4.45295851e-30 4.64158883e-30 4.83820966e-30 5.04315949e-30\n",
      " 5.25679112e-30 5.47947234e-30 5.71158648e-30 5.95353313e-30\n",
      " 6.20572881e-30 6.46860766e-30 6.74262224e-30 7.02824426e-30\n",
      " 7.32596543e-30 7.63629826e-30 7.95977700e-30 8.29695852e-30\n",
      " 8.64842328e-30 9.01477631e-30 9.39664831e-30 9.79469667e-30\n",
      " 1.02096066e-29 1.06420924e-29 1.10928986e-29 1.15628013e-29\n",
      " 1.20526094e-29 1.25631660e-29 1.30953502e-29 1.36500781e-29\n",
      " 1.42283046e-29 1.48310251e-29 1.54592774e-29 1.61141428e-29\n",
      " 1.67967487e-29 1.75082703e-29 1.82499324e-29 1.90230119e-29\n",
      " 1.98288395e-29 2.06688025e-29 2.15443469e-29 2.24569800e-29\n",
      " 2.34082728e-29 2.43998630e-29 2.54334576e-29 2.65108360e-29\n",
      " 2.76338529e-29 2.88044415e-29 3.00246171e-29 3.12964801e-29\n",
      " 3.26222201e-29 3.40041193e-29 3.54445567e-29 3.69460121e-29\n",
      " 3.85110700e-29 4.01424249e-29 4.18428851e-29 4.36153779e-29\n",
      " 4.54629547e-29 4.73887961e-29 4.93962174e-29 5.14886745e-29\n",
      " 5.36697695e-29 5.59432571e-29 5.83130511e-29 6.07832313e-29\n",
      " 6.33580499e-29 6.60419396e-29 6.88395207e-29 7.17556092e-29\n",
      " 7.47952252e-29 7.79636013e-29 8.12661920e-29 8.47086827e-29\n",
      " 8.82969996e-29 9.20373200e-29 9.59360829e-29 1.00000000e-28\n",
      " 1.04236067e-28 1.08651577e-28 1.13254132e-28 1.18051653e-28\n",
      " 1.23052400e-28 1.28264983e-28 1.33698374e-28 1.39361927e-28\n",
      " 1.45265393e-28 1.51418933e-28 1.57833141e-28 1.64519059e-28\n",
      " 1.71488197e-28 1.78752553e-28 1.86324631e-28 1.94217468e-28\n",
      " 2.02444651e-28 2.11020343e-28 2.19959307e-28 2.29276931e-28\n",
      " 2.38989257e-28 2.49113003e-28 2.59665597e-28 2.70665207e-28\n",
      " 2.82130768e-28 2.94082017e-28 3.06539530e-28 3.19524751e-28\n",
      " 3.33060034e-28 3.47168682e-28 3.61874981e-28 3.77204249e-28\n",
      " 3.93182876e-28 4.09838367e-28 4.27199397e-28 4.45295851e-28\n",
      " 4.64158883e-28 4.83820966e-28 5.04315949e-28 5.25679112e-28\n",
      " 5.47947234e-28 5.71158648e-28 5.95353313e-28 6.20572881e-28\n",
      " 6.46860766e-28 6.74262224e-28 7.02824426e-28 7.32596543e-28\n",
      " 7.63629826e-28 7.95977700e-28 8.29695852e-28 8.64842328e-28\n",
      " 9.01477631e-28 9.39664831e-28 9.79469667e-28 1.02096066e-27\n",
      " 1.06420924e-27 1.10928986e-27 1.15628013e-27 1.20526094e-27\n",
      " 1.25631660e-27 1.30953502e-27 1.36500781e-27 1.42283046e-27\n",
      " 1.48310251e-27 1.54592774e-27 1.61141428e-27 1.67967487e-27\n",
      " 1.75082703e-27 1.82499324e-27 1.90230119e-27 1.98288395e-27\n",
      " 2.06688025e-27 2.15443469e-27 2.24569800e-27 2.34082728e-27\n",
      " 2.43998630e-27 2.54334576e-27 2.65108360e-27 2.76338529e-27\n",
      " 2.88044415e-27 3.00246171e-27 3.12964801e-27 3.26222201e-27\n",
      " 3.40041193e-27 3.54445567e-27 3.69460121e-27 3.85110700e-27\n",
      " 4.01424249e-27 4.18428851e-27 4.36153779e-27 4.54629547e-27\n",
      " 4.73887961e-27 4.93962174e-27 5.14886745e-27 5.36697695e-27\n",
      " 5.59432571e-27 5.83130511e-27 6.07832313e-27 6.33580499e-27\n",
      " 6.60419396e-27 6.88395207e-27 7.17556092e-27 7.47952252e-27\n",
      " 7.79636013e-27 8.12661920e-27 8.47086827e-27 8.82969996e-27\n",
      " 9.20373200e-27 9.59360829e-27 1.00000000e-26 1.04236067e-26\n",
      " 1.08651577e-26 1.13254132e-26 1.18051653e-26 1.23052400e-26\n",
      " 1.28264983e-26 1.33698374e-26 1.39361927e-26 1.45265393e-26\n",
      " 1.51418933e-26 1.57833141e-26 1.64519059e-26 1.71488197e-26\n",
      " 1.78752553e-26 1.86324631e-26 1.94217468e-26 2.02444651e-26\n",
      " 2.11020343e-26 2.19959307e-26 2.29276931e-26 2.38989257e-26\n",
      " 2.49113003e-26 2.59665597e-26 2.70665207e-26 2.82130768e-26\n",
      " 2.94082017e-26 3.06539530e-26 3.19524751e-26 3.33060034e-26\n",
      " 3.47168682e-26 3.61874981e-26 3.77204249e-26 3.93182876e-26\n",
      " 4.09838367e-26 4.27199397e-26 4.45295851e-26 4.64158883e-26\n",
      " 4.83820966e-26 5.04315949e-26 5.25679112e-26 5.47947234e-26\n",
      " 5.71158648e-26 5.95353313e-26 6.20572881e-26 6.46860766e-26\n",
      " 6.74262224e-26 7.02824426e-26 7.32596543e-26 7.63629826e-26\n",
      " 7.95977700e-26 8.29695852e-26 8.64842328e-26 9.01477631e-26\n",
      " 9.39664831e-26 9.79469667e-26 1.02096066e-25 1.06420924e-25\n",
      " 1.10928986e-25 1.15628013e-25 1.20526094e-25 1.25631660e-25\n",
      " 1.30953502e-25 1.36500781e-25 1.42283046e-25 1.48310251e-25\n",
      " 1.54592774e-25 1.61141428e-25 1.67967487e-25 1.75082703e-25\n",
      " 1.82499324e-25 1.90230119e-25 1.98288395e-25 2.06688025e-25\n",
      " 2.15443469e-25 2.24569800e-25 2.34082728e-25 2.43998630e-25\n",
      " 2.54334576e-25 2.65108360e-25 2.76338529e-25 2.88044415e-25\n",
      " 3.00246171e-25 3.12964801e-25 3.26222201e-25 3.40041193e-25\n",
      " 3.54445567e-25 3.69460121e-25 3.85110700e-25 4.01424249e-25\n",
      " 4.18428851e-25 4.36153779e-25 4.54629547e-25 4.73887961e-25\n",
      " 4.93962174e-25 5.14886745e-25 5.36697695e-25 5.59432571e-25\n",
      " 5.83130511e-25 6.07832313e-25 6.33580499e-25 6.60419396e-25\n",
      " 6.88395207e-25 7.17556092e-25 7.47952252e-25 7.79636013e-25\n",
      " 8.12661920e-25 8.47086827e-25 8.82969996e-25 9.20373200e-25\n",
      " 9.59360829e-25 1.00000000e-24 1.04236067e-24 1.08651577e-24\n",
      " 1.13254132e-24 1.18051653e-24 1.23052400e-24 1.28264983e-24\n",
      " 1.33698374e-24 1.39361927e-24 1.45265393e-24 1.51418933e-24\n",
      " 1.57833141e-24 1.64519059e-24 1.71488197e-24 1.78752553e-24\n",
      " 1.86324631e-24 1.94217468e-24 2.02444651e-24 2.11020343e-24\n",
      " 2.19959307e-24 2.29276931e-24 2.38989257e-24 2.49113003e-24\n",
      " 2.59665597e-24 2.70665207e-24 2.82130768e-24 2.94082017e-24\n",
      " 3.06539530e-24 3.19524751e-24 3.33060034e-24 3.47168682e-24\n",
      " 3.61874981e-24 3.77204249e-24 3.93182876e-24 4.09838367e-24\n",
      " 4.27199397e-24 4.45295851e-24 4.64158883e-24 4.83820966e-24\n",
      " 5.04315949e-24 5.25679112e-24 5.47947234e-24 5.71158648e-24\n",
      " 5.95353313e-24 6.20572881e-24 6.46860766e-24 6.74262224e-24\n",
      " 7.02824426e-24 7.32596543e-24 7.63629826e-24 7.95977700e-24\n",
      " 8.29695852e-24 8.64842328e-24 9.01477631e-24 9.39664831e-24\n",
      " 9.79469667e-24 1.02096066e-23 1.06420924e-23 1.10928986e-23\n",
      " 1.15628013e-23 1.20526094e-23 1.25631660e-23 1.30953502e-23\n",
      " 1.36500781e-23 1.42283046e-23 1.48310251e-23 1.54592774e-23\n",
      " 1.61141428e-23 1.67967487e-23 1.75082703e-23 1.82499324e-23\n",
      " 1.90230119e-23 1.98288395e-23 2.06688025e-23 2.15443469e-23\n",
      " 2.24569800e-23 2.34082728e-23 2.43998630e-23 2.54334576e-23\n",
      " 2.65108360e-23 2.76338529e-23 2.88044415e-23 3.00246171e-23\n",
      " 3.12964801e-23 3.26222201e-23 3.40041193e-23 3.54445567e-23\n",
      " 3.69460121e-23 3.85110700e-23 4.01424249e-23 4.18428851e-23\n",
      " 4.36153779e-23 4.54629547e-23 4.73887961e-23 4.93962174e-23\n",
      " 5.14886745e-23 5.36697695e-23 5.59432571e-23 5.83130511e-23\n",
      " 6.07832313e-23 6.33580499e-23 6.60419396e-23 6.88395207e-23\n",
      " 7.17556092e-23 7.47952252e-23 7.79636013e-23 8.12661920e-23\n",
      " 8.47086827e-23 8.82969996e-23 9.20373200e-23 9.59360829e-23\n",
      " 1.00000000e-22 1.04236067e-22 1.08651577e-22 1.13254132e-22\n",
      " 1.18051653e-22 1.23052400e-22 1.28264983e-22 1.33698374e-22\n",
      " 1.39361927e-22 1.45265393e-22 1.51418933e-22 1.57833141e-22\n",
      " 1.64519059e-22 1.71488197e-22 1.78752553e-22 1.86324631e-22\n",
      " 1.94217468e-22 2.02444651e-22 2.11020343e-22 2.19959307e-22\n",
      " 2.29276931e-22 2.38989257e-22 2.49113003e-22 2.59665597e-22\n",
      " 2.70665207e-22 2.82130768e-22 2.94082017e-22 3.06539530e-22\n",
      " 3.19524751e-22 3.33060034e-22 3.47168682e-22 3.61874981e-22\n",
      " 3.77204249e-22 3.93182876e-22 4.09838367e-22 4.27199397e-22\n",
      " 4.45295851e-22 4.64158883e-22 4.83820966e-22 5.04315949e-22\n",
      " 5.25679112e-22 5.47947234e-22 5.71158648e-22 5.95353313e-22\n",
      " 6.20572881e-22 6.46860766e-22 6.74262224e-22 7.02824426e-22\n",
      " 7.32596543e-22 7.63629826e-22 7.95977700e-22 8.29695852e-22\n",
      " 8.64842328e-22 9.01477631e-22 9.39664831e-22 9.79469667e-22\n",
      " 1.02096066e-21 1.06420924e-21 1.10928986e-21 1.15628013e-21\n",
      " 1.20526094e-21 1.25631660e-21 1.30953502e-21 1.36500781e-21\n",
      " 1.42283046e-21 1.48310251e-21 1.54592774e-21 1.61141428e-21\n",
      " 1.67967487e-21 1.75082703e-21 1.82499324e-21 1.90230119e-21\n",
      " 1.98288395e-21 2.06688025e-21 2.15443469e-21 2.24569800e-21\n",
      " 2.34082728e-21 2.43998630e-21 2.54334576e-21 2.65108360e-21\n",
      " 2.76338529e-21 2.88044415e-21 3.00246171e-21 3.12964801e-21\n",
      " 3.26222201e-21 3.40041193e-21 3.54445567e-21 3.69460121e-21\n",
      " 3.85110700e-21 4.01424249e-21 4.18428851e-21 4.36153779e-21\n",
      " 4.54629547e-21 4.73887961e-21 4.93962174e-21 5.14886745e-21\n",
      " 5.36697695e-21 5.59432571e-21 5.83130511e-21 6.07832313e-21\n",
      " 6.33580499e-21 6.60419396e-21 6.88395207e-21 7.17556092e-21\n",
      " 7.47952252e-21 7.79636013e-21 8.12661920e-21 8.47086827e-21\n",
      " 8.82969996e-21 9.20373200e-21 9.59360829e-21 1.00000000e-20]\n"
     ]
    }
   ],
   "source": [
    "phio = np.logspace(-38, -20, 1000)\n",
    "print(phio)"
   ]
  },
  {
   "cell_type": "markdown",
   "metadata": {},
   "source": [
    "#### CALCULATING TS FOR ALL PSRS FOR ALL GAMMAS FOR ALL WEIGHTS\n"
   ]
  },
  {
   "cell_type": "code",
   "execution_count": 43,
   "metadata": {},
   "outputs": [
    {
     "name": "stdout",
     "output_type": "stream",
     "text": [
      "\n",
      "CALCULATING TS FOR ALL PSRS FOR ALL GAMMAS FOR ALL WEIGHTS\n",
      "\n",
      "ws = 0\n",
      "gamma = 0\n"
     ]
    },
    {
     "name": "stderr",
     "output_type": "stream",
     "text": [
      "  0%|          | 0/1000 [00:00<?, ?it/s]"
     ]
    },
    {
     "name": "stderr",
     "output_type": "stream",
     "text": [
      "100%|██████████| 1000/1000 [00:11<00:00, 84.61it/s]\n"
     ]
    },
    {
     "name": "stdout",
     "output_type": "stream",
     "text": [
      "gamma = 1\n"
     ]
    },
    {
     "name": "stderr",
     "output_type": "stream",
     "text": [
      "100%|██████████| 1000/1000 [00:10<00:00, 92.45it/s]\n"
     ]
    },
    {
     "name": "stdout",
     "output_type": "stream",
     "text": [
      "gamma = 2\n"
     ]
    },
    {
     "name": "stderr",
     "output_type": "stream",
     "text": [
      "100%|██████████| 1000/1000 [00:10<00:00, 93.64it/s] \n"
     ]
    },
    {
     "name": "stdout",
     "output_type": "stream",
     "text": [
      "gamma = 3\n"
     ]
    },
    {
     "name": "stderr",
     "output_type": "stream",
     "text": [
      "100%|██████████| 1000/1000 [00:10<00:00, 94.11it/s]\n"
     ]
    },
    {
     "name": "stdout",
     "output_type": "stream",
     "text": [
      "ws = 1\n",
      "gamma = 0\n"
     ]
    },
    {
     "name": "stderr",
     "output_type": "stream",
     "text": [
      "100%|██████████| 1000/1000 [00:10<00:00, 92.55it/s]\n"
     ]
    },
    {
     "name": "stdout",
     "output_type": "stream",
     "text": [
      "gamma = 1\n"
     ]
    },
    {
     "name": "stderr",
     "output_type": "stream",
     "text": [
      "100%|██████████| 1000/1000 [00:10<00:00, 93.03it/s]\n"
     ]
    },
    {
     "name": "stdout",
     "output_type": "stream",
     "text": [
      "gamma = 2\n"
     ]
    },
    {
     "name": "stderr",
     "output_type": "stream",
     "text": [
      "100%|██████████| 1000/1000 [00:10<00:00, 92.99it/s]\n"
     ]
    },
    {
     "name": "stdout",
     "output_type": "stream",
     "text": [
      "gamma = 3\n"
     ]
    },
    {
     "name": "stderr",
     "output_type": "stream",
     "text": [
      "100%|██████████| 1000/1000 [00:10<00:00, 93.59it/s]"
     ]
    },
    {
     "name": "stdout",
     "output_type": "stream",
     "text": [
      "\n",
      "CALCULATED TS FOR ALL PSRS FOR ALL GAMMAS FOR ALL WEIGHTS\n"
     ]
    },
    {
     "name": "stderr",
     "output_type": "stream",
     "text": [
      "\n"
     ]
    }
   ],
   "source": [
    "\n",
    "all_TSS = []\n",
    "for ws in prange(len(w_models)):\n",
    "    tmpp = []\n",
    "    print(\"ws = {}\".format(ws))\n",
    "    for gamma in prange(len(gamma_arr)):\n",
    "        print(\"gamma = {}\".format(gamma))\n",
    "        # tmp = np.zeros(len(phio))\n",
    "        # for season in tqdm(range(10)):\n",
    "        t2mp = np.asfarray(all_Si_ws_g_s[ws][gamma])\n",
    "        @njit(nogil=True)\n",
    "        def TS_for_all_psrs2(nsa):  \n",
    "            return TS_st_vec(nsa, t2mp, all_Bi, Ns)      #No units\n",
    "        temp = []\n",
    "        for phi in tqdm(prange(len(phio))):\n",
    "            temp.append(TS_for_all_psrs2(arr[gamma][ws]*phio[phi]))\n",
    "        tmpp.append(temp)\n",
    "        temp = []\n",
    "    all_TSS.append(tmpp)\n",
    "    tmpp = []\n",
    "\n",
    "print('\\nCALCULATED TS FOR ALL PSRS FOR ALL GAMMAS FOR ALL WEIGHTS')"
   ]
  },
  {
   "cell_type": "markdown",
   "metadata": {},
   "source": [
    "### show  TS shape"
   ]
  },
  {
   "cell_type": "code",
   "execution_count": 36,
   "metadata": {},
   "outputs": [
    {
     "name": "stdout",
     "output_type": "stream",
     "text": [
      "(2, 4, 1000)\n"
     ]
    },
    {
     "data": {
      "text/plain": [
       "array([ 1.89397387e-10,  2.02243999e-10,  2.78742140e-10,  9.03617181e-11,\n",
       "        1.23711485e-10,  2.38688846e-10,  3.10487858e-10,  1.77678094e-10,\n",
       "        3.23360227e-10,  2.21718865e-10,  1.26054278e-10,  3.11012993e-10,\n",
       "        2.46171528e-10,  2.06313855e-10,  1.94709360e-10,  2.01514583e-10,\n",
       "        2.37291742e-10,  2.81546786e-10,  3.53692853e-10,  4.46868320e-10,\n",
       "        3.37293971e-10,  4.92047736e-10,  4.00912636e-10,  3.74006603e-10,\n",
       "        3.41172202e-10,  3.70034448e-10,  4.16837009e-10,  5.01170438e-10,\n",
       "        6.19724716e-10,  5.16482412e-10,  4.62745398e-10,  7.10950632e-10,\n",
       "        7.34427852e-10,  5.52186297e-10,  6.57281562e-10,  8.18932477e-10,\n",
       "        7.94713850e-10,  7.96040345e-10,  8.66038130e-10,  7.37931716e-10,\n",
       "        9.10601594e-10,  9.03310093e-10,  9.50910683e-10,  1.06896691e-09,\n",
       "        1.01720010e-09,  1.01413300e-09,  1.10281961e-09,  1.26522592e-09,\n",
       "        1.25404642e-09,  1.32698963e-09,  1.24645583e-09,  1.24659438e-09,\n",
       "        1.35358569e-09,  1.55003033e-09,  1.60563340e-09,  1.52333124e-09,\n",
       "        1.80029369e-09,  1.69027992e-09,  1.70615433e-09,  1.84979476e-09,\n",
       "        1.87398430e-09,  2.04276551e-09,  2.10249285e-09,  2.31719222e-09,\n",
       "        2.42766474e-09,  2.46439336e-09,  2.66253131e-09,  2.54192778e-09,\n",
       "        2.86416890e-09,  2.87132651e-09,  3.08676595e-09,  3.25811378e-09,\n",
       "        3.14962900e-09,  3.51230267e-09,  3.62358232e-09,  3.72561959e-09,\n",
       "        3.84104659e-09,  3.97354438e-09,  4.13742218e-09,  4.34687575e-09,\n",
       "        4.60885974e-09,  4.69101158e-09,  4.85326001e-09,  5.10894349e-09,\n",
       "        5.47812950e-09,  5.47456147e-09,  5.85996895e-09,  6.15191764e-09,\n",
       "        6.37116715e-09,  6.53530563e-09,  6.91301305e-09,  7.26974924e-09,\n",
       "        7.37673988e-09,  7.75856490e-09,  8.18943202e-09,  8.44063885e-09,\n",
       "        8.77910966e-09,  9.23872267e-09,  9.59162771e-09,  1.01148063e-08,\n",
       "        1.03403801e-08,  1.07950180e-08,  1.12584064e-08,  1.17651480e-08,\n",
       "        1.23501997e-08,  1.27949971e-08,  1.33881839e-08,  1.39150988e-08,\n",
       "        1.44203027e-08,  1.51938044e-08,  1.57745319e-08,  1.64595433e-08,\n",
       "        1.70468526e-08,  1.78349384e-08,  1.86243274e-08,  1.94686167e-08,\n",
       "        2.01719299e-08,  2.10408921e-08,  2.18884521e-08,  2.30270540e-08,\n",
       "        2.40184285e-08,  2.49332021e-08,  2.60925259e-08,  2.70673088e-08,\n",
       "        2.81881196e-08,  2.95344728e-08,  3.06889502e-08,  3.19891790e-08,\n",
       "        3.32748697e-08,  3.46427652e-08,  3.61905935e-08,  3.77733506e-08,\n",
       "        3.92429543e-08,  4.09679802e-08,  4.28113608e-08,  4.46445319e-08,\n",
       "        4.63434143e-08,  4.82921352e-08,  5.03780123e-08,  5.24945747e-08,\n",
       "        5.47902086e-08,  5.71725740e-08,  5.95512099e-08,  6.20982452e-08,\n",
       "        6.47387969e-08,  6.74072022e-08,  7.02961304e-08,  7.33553998e-08,\n",
       "        7.65421458e-08,  7.95721234e-08,  8.29258053e-08,  8.65876232e-08,\n",
       "        9.03026533e-08,  9.40773946e-08,  9.79295216e-08,  1.02139534e-07,\n",
       "        1.06494965e-07,  1.11051017e-07,  1.15619700e-07,  1.20533420e-07,\n",
       "        1.25634023e-07,  1.31028717e-07,  1.36590542e-07,  1.42457694e-07,\n",
       "        1.48533043e-07,  1.54740056e-07,  1.61268902e-07,  1.68076920e-07,\n",
       "        1.75142649e-07,  1.82716027e-07,  1.90311242e-07,  1.98474823e-07,\n",
       "        2.06766077e-07,  2.15526852e-07,  2.24618445e-07,  2.34178526e-07,\n",
       "        2.44125678e-07,  2.54401568e-07,  2.65230676e-07,  2.76619061e-07,\n",
       "        2.88349086e-07,  3.00491527e-07,  3.13151011e-07,  3.26468516e-07,\n",
       "        3.40371309e-07,  3.54574199e-07,  3.69843316e-07,  3.85470054e-07,\n",
       "        4.01805310e-07,  4.18739594e-07,  4.36463675e-07,  4.54968005e-07,\n",
       "        4.74297076e-07,  4.94295540e-07,  5.15374141e-07,  5.36989982e-07,\n",
       "        5.59927695e-07,  5.83523948e-07,  6.08188598e-07,  6.34152352e-07,\n",
       "        6.60965192e-07,  6.88755287e-07,  7.17983721e-07,  7.48440345e-07,\n",
       "        7.80254572e-07,  8.13140207e-07,  8.47661381e-07,  8.83478416e-07,\n",
       "        9.21103802e-07,  9.60153231e-07,  1.00060756e-06,  1.04306046e-06,\n",
       "        1.08722793e-06,  1.13345108e-06,  1.18145091e-06,  1.23133415e-06,\n",
       "        1.28360429e-06,  1.33790858e-06,  1.39454965e-06,  1.45374480e-06,\n",
       "        1.51537400e-06,  1.57949256e-06,  1.64634444e-06,  1.71610773e-06,\n",
       "        1.78866039e-06,  1.86459089e-06,  1.94344517e-06,  2.02575004e-06,\n",
       "        2.11176512e-06,  2.20124124e-06,  2.29443724e-06,  2.39162416e-06,\n",
       "        2.49285275e-06,  2.59845679e-06,  2.70857459e-06,  2.82340751e-06,\n",
       "        2.94297736e-06,  3.06765207e-06,  3.19740068e-06,  3.33306661e-06,\n",
       "        3.47411851e-06,  3.62118455e-06,  3.77481395e-06,  3.93447780e-06,\n",
       "        4.10136965e-06,  4.27489254e-06,  4.45620427e-06,  4.64496574e-06,\n",
       "        4.84163398e-06,  5.04672412e-06,  5.26058049e-06,  5.48340635e-06,\n",
       "        5.71553884e-06,  5.95772912e-06,  6.21016144e-06,  6.47323825e-06,\n",
       "        6.74736124e-06,  7.03321208e-06,  7.33103288e-06,  7.64166500e-06,\n",
       "        7.96532934e-06,  8.30292255e-06,  8.65454506e-06,  9.02104686e-06,\n",
       "        9.40332733e-06,  9.80161323e-06,  1.02167681e-05,  1.06495862e-05,\n",
       "        1.11008426e-05,  1.15708382e-05,  1.20612223e-05,  1.25720254e-05,\n",
       "        1.31044883e-05,  1.36596150e-05,  1.42382326e-05,  1.48415714e-05,\n",
       "        1.54700641e-05,  1.61254435e-05,  1.68085485e-05,  1.75206591e-05,\n",
       "        1.82628338e-05,  1.90364844e-05,  1.98427283e-05,  2.06834733e-05,\n",
       "        2.15595137e-05,  2.24728904e-05,  2.34247316e-05,  2.44171320e-05,\n",
       "        2.54512477e-05,  2.65294329e-05,  2.76533522e-05,  2.88246129e-05,\n",
       "        3.00456587e-05,  3.13183991e-05,  3.26451148e-05,  3.40281046e-05,\n",
       "        3.54695999e-05,  3.69719287e-05,  3.85381963e-05,  4.01707022e-05,\n",
       "        4.18723880e-05,  4.36460363e-05,  4.54949687e-05,  4.74220144e-05,\n",
       "        4.94309846e-05,  5.15248889e-05,  5.37074527e-05,  5.59825982e-05,\n",
       "        5.83539687e-05,  6.08259467e-05,  6.34024414e-05,  6.60881903e-05,\n",
       "        6.88878117e-05,  7.18058825e-05,  7.48477773e-05,  7.80182643e-05,\n",
       "        8.13231284e-05,  8.47680478e-05,  8.83587409e-05,  9.21016395e-05,\n",
       "        9.60033125e-05,  1.00069915e-04,  1.04308920e-04,  1.08727598e-04,\n",
       "        1.13333280e-04,  1.18134140e-04,  1.23138248e-04,  1.28354403e-04,\n",
       "        1.33791480e-04,  1.39459061e-04,  1.45366586e-04,  1.51524295e-04,\n",
       "        1.57942928e-04,  1.64633471e-04,  1.71607433e-04,  1.78876645e-04,\n",
       "        1.86453854e-04,  1.94352098e-04,  2.02584867e-04,  2.11166302e-04,\n",
       "        2.20111447e-04,  2.29435263e-04,  2.39154228e-04,  2.49284690e-04,\n",
       "        2.59844554e-04,  2.70851486e-04,  2.82324696e-04,  2.94283758e-04,\n",
       "        3.06749750e-04,  3.19743428e-04,  3.33287746e-04,  3.47405652e-04,\n",
       "        3.62121739e-04,  3.77461178e-04,  3.93450245e-04,  4.10116425e-04,\n",
       "        4.27488832e-04,  4.45596965e-04,  4.64472301e-04,  4.84146976e-04,\n",
       "        5.04655061e-04,  5.26031673e-04,  5.48313957e-04,  5.71540150e-04,\n",
       "        5.95750014e-04,  6.20985391e-04,  6.47289613e-04,  6.74707793e-04,\n",
       "        7.03287743e-04,  7.33078018e-04,  7.64129868e-04,  7.96497330e-04,\n",
       "        8.30235695e-04,  8.65402929e-04,  9.02059723e-04,  9.40269238e-04,\n",
       "        9.80097007e-04,  1.02161180e-03,  1.06488490e-03,  1.10999064e-03,\n",
       "        1.15700707e-03,  1.20601466e-03,  1.25709798e-03,  1.31034480e-03,\n",
       "        1.36584682e-03,  1.42369950e-03,  1.48400256e-03,  1.54685939e-03,\n",
       "        1.61237837e-03,  1.68067190e-03,  1.75185806e-03,  1.82605881e-03,\n",
       "        1.90340211e-03,  1.98402079e-03,  2.06805369e-03,  2.15564506e-03,\n",
       "        2.24694596e-03,  2.34211330e-03,  2.44131059e-03,  2.54470865e-03,\n",
       "        2.65248506e-03,  2.76482536e-03,  2.88192253e-03,  3.00397829e-03,\n",
       "        3.13120215e-03,  3.26381294e-03,  3.40203883e-03,  3.54611729e-03,\n",
       "        3.69629606e-03,  3.85283342e-03,  4.01599809e-03,  4.18607082e-03,\n",
       "        4.36334376e-03,  4.54812176e-03,  4.74072217e-03,  4.94147614e-03,\n",
       "        5.15072826e-03,  5.36883809e-03,  5.59618051e-03,  5.83314608e-03,\n",
       "        6.08014140e-03,  6.33759112e-03,  6.60593703e-03,  6.88564025e-03,\n",
       "        7.17718034e-03,  7.48105851e-03,  7.79779574e-03,  8.12793587e-03,\n",
       "        8.47204557e-03,  8.83071506e-03,  9.20455962e-03,  9.59422051e-03,\n",
       "        1.00003661e-02,  1.04236928e-02,  1.08649263e-02,  1.13248231e-02,\n",
       "        1.18041711e-02,  1.23037916e-02,  1.28245409e-02,  1.33673111e-02,\n",
       "        1.39330309e-02,  1.45226694e-02,  1.51372359e-02,  1.57777815e-02,\n",
       "        1.64454028e-02,  1.71412411e-02,  1.78664864e-02,  1.86223786e-02,\n",
       "        1.94102090e-02,  2.02313237e-02,  2.10871249e-02,  2.19790737e-02,\n",
       "        2.29086923e-02,  2.38775662e-02,  2.48873480e-02,  2.59397591e-02,\n",
       "        2.70365922e-02,  2.81797155e-02,  2.93710750e-02,  3.06126979e-02,\n",
       "        3.19066956e-02,  3.32552678e-02,  3.46607056e-02,  3.61253951e-02,\n",
       "        3.76518217e-02,  3.92425743e-02,  4.09003484e-02,  4.26279523e-02,\n",
       "        4.44283091e-02,  4.63044640e-02,  4.82595874e-02,  5.02969805e-02,\n",
       "        5.24200812e-02,  5.46324679e-02,  5.69378668e-02,  5.93401572e-02,\n",
       "        6.18433768e-02,  6.44517290e-02,  6.71695892e-02,  7.00015113e-02,\n",
       "        7.29522341e-02,  7.60266904e-02,  7.92300123e-02,  8.25675400e-02,\n",
       "        8.60448301e-02,  8.96676632e-02,  9.34420523e-02,  9.73742530e-02,\n",
       "        1.01470771e-01,  1.05738371e-01,  1.10184090e-01,  1.14815243e-01,\n",
       "        1.19639436e-01,  1.24664573e-01,  1.29898873e-01,  1.35350876e-01,\n",
       "        1.41029457e-01,  1.46943835e-01,  1.53103588e-01,  1.59518666e-01,\n",
       "        1.66199399e-01,  1.73156514e-01,  1.80401150e-01,  1.87944862e-01,\n",
       "        1.95799648e-01,  2.03977952e-01,  2.12492682e-01,  2.21357225e-01,\n",
       "        2.30585462e-01,  2.40191779e-01,  2.50191085e-01,  2.60598823e-01,\n",
       "        2.71430989e-01,  2.82704143e-01,  2.94435425e-01,  3.06642566e-01,\n",
       "        3.19343907e-01,  3.32558409e-01,  3.46305663e-01,  3.60605910e-01,\n",
       "        3.75480046e-01,  3.90949634e-01,  4.07036915e-01,  4.23764816e-01,\n",
       "        4.41156957e-01,  4.59237657e-01,  4.78031935e-01,  4.97565516e-01,\n",
       "        5.17864827e-01,  5.38956997e-01,  5.60869847e-01,  5.83631881e-01,\n",
       "        6.07272279e-01,  6.31820870e-01,  6.57308117e-01,  6.83765089e-01,\n",
       "        7.11223427e-01,  7.39715303e-01,  7.69273381e-01,  7.99930753e-01,\n",
       "        8.31720887e-01,  8.64677549e-01,  8.98834723e-01,  9.34226519e-01,\n",
       "        9.70887061e-01,  1.00885038e+00,  1.04815026e+00,  1.08882010e+00,\n",
       "        1.13089276e+00,  1.17440032e+00,  1.21937394e+00,  1.26584355e+00,\n",
       "        1.31383766e+00,  1.36338300e+00,  1.41450427e+00,  1.46722374e+00,\n",
       "        1.52156085e+00,  1.57753181e+00,  1.63514914e+00,  1.69442107e+00,\n",
       "        1.75535106e+00,  1.81793708e+00,  1.88217100e+00,  1.94803776e+00,\n",
       "        2.01551459e+00,  2.08457006e+00,  2.15516313e+00,  2.22724199e+00,\n",
       "        2.30074297e+00,  2.37558916e+00,  2.45168903e+00,  2.52893490e+00,\n",
       "        2.60720122e+00,  2.68634281e+00,  2.76619279e+00,  2.84656050e+00,\n",
       "        2.92722908e+00,  3.00795297e+00,  3.08845509e+00,  3.16842389e+00,\n",
       "        3.24751005e+00,  3.32532293e+00,  3.40142678e+00,  3.47533656e+00,\n",
       "        3.54651347e+00,  3.61436006e+00,  3.67821499e+00,  3.73734735e+00,\n",
       "        3.79095051e+00,  3.83813548e+00,  3.87792375e+00,  3.90923956e+00,\n",
       "        3.93090159e+00,  3.94161391e+00,  3.93995634e+00,  3.92437399e+00,\n",
       "        3.89316603e+00,  3.84447356e+00,  3.77626666e+00,  3.68633031e+00,\n",
       "        3.57224937e+00,  3.43139245e+00,  3.26089445e+00,  3.05763802e+00,\n",
       "        2.81823343e+00,  2.53899720e+00,  2.21592900e+00,  1.84468703e+00,\n",
       "        1.42056153e+00,  9.38446512e-01,  3.92809413e-01, -2.22341323e-01,\n",
       "       -9.13490950e-01, -1.68765550e+00, -2.55242146e+00, -3.51598808e+00,\n",
       "       -4.58721263e+00, -5.77565867e+00, -7.09164755e+00, -8.54631339e+00,\n",
       "       -1.01516616e+01, -1.19206313e+01, -1.38671619e+01, -1.60062638e+01,\n",
       "       -1.83540937e+01, -2.09280350e+01, -2.37467830e+01, -2.68304353e+01,\n",
       "       -3.02005885e+01, -3.38804403e+01, -3.78948983e+01, -4.22706952e+01,\n",
       "       -4.70365114e+01, -5.22231044e+01, -5.78634466e+01, -6.39928714e+01,\n",
       "       -7.06492269e+01, -7.78730401e+01, -8.57076897e+01, -9.41995892e+01,\n",
       "       -1.03398381e+02, -1.13357140e+02, -1.24132591e+02, -1.35785339e+02,\n",
       "       -1.48380106e+02, -1.61985991e+02, -1.76676735e+02, -1.92531008e+02,\n",
       "       -2.09632704e+02, -2.28071262e+02, -2.47941993e+02, -2.69346433e+02,\n",
       "       -2.92392709e+02, -3.17195932e+02, -3.43878600e+02, -3.72571028e+02,\n",
       "       -4.03411805e+02, -4.36548262e+02, -4.72136974e+02, -5.10344285e+02,\n",
       "       -5.51346859e+02, -5.95332255e+02, -6.42499538e+02, -6.93059913e+02,\n",
       "       -7.47237395e+02, -8.05269509e+02, -8.67408027e+02, -9.33919737e+02,\n",
       "       -1.00508725e+03, -1.08120985e+03, -1.16260439e+03, -1.24960618e+03,\n",
       "       -1.34257003e+03, -1.44187119e+03, -1.54790650e+03, -1.66109543e+03,\n",
       "       -1.78188131e+03, -1.91073250e+03, -2.04814372e+03, -2.19463737e+03,\n",
       "       -2.35076491e+03, -2.51710838e+03, -2.69428186e+03, -2.88293316e+03,\n",
       "       -3.08374543e+03, -3.29743895e+03, -3.52477297e+03, -3.76654761e+03,\n",
       "       -4.02360589e+03, -4.29683584e+03, -4.58717266e+03, -4.89560108e+03,\n",
       "       -5.22315772e+03, -5.57093364e+03, -5.94007698e+03, -6.33179570e+03,\n",
       "       -6.74736050e+03, -7.18810782e+03, -7.65544304e+03, -8.15084379e+03,\n",
       "       -8.67586343e+03, -9.23213469e+03, -9.82137354e+03, -1.04453831e+04,\n",
       "       -1.11060581e+04, -1.18053888e+04, -1.25454662e+04, -1.33284867e+04,\n",
       "       -1.41567568e+04, -1.50326991e+04, -1.59588576e+04, -1.69379039e+04,\n",
       "       -1.79726428e+04, -1.90660197e+04, -2.02211270e+04, -2.14412117e+04,\n",
       "       -2.27296825e+04, -2.40901188e+04, -2.55262785e+04, -2.70421074e+04,\n",
       "       -2.86417484e+04, -3.03295521e+04, -3.21100870e+04, -3.39881509e+04,\n",
       "       -3.59687828e+04, -3.80572758e+04, -4.02591901e+04, -4.25803675e+04,\n",
       "       -4.50269464e+04, -4.76053778e+04, -5.03224426e+04, -5.31852694e+04,\n",
       "       -5.62013539e+04, -5.93785798e+04, -6.27252404e+04, -6.62500623e+04,\n",
       "       -6.99622303e+04, -7.38714144e+04, -7.79877984e+04, -8.23221105e+04,\n",
       "       -8.68856566e+04, -9.16903558e+04, -9.67487781e+04, -1.02074186e+05,\n",
       "       -1.07680577e+05, -1.13582735e+05, -1.19796278e+05, -1.26337716e+05,\n",
       "       -1.33224509e+05, -1.40475135e+05, -1.48109161e+05, -1.56147319e+05,\n",
       "       -1.64611589e+05, -1.73525295e+05, -1.82913200e+05, -1.92801620e+05,\n",
       "       -2.03218543e+05, -2.14193761e+05, -2.25759016e+05, -2.37948158e+05,\n",
       "       -2.50797328e+05, -2.64345147e+05, -2.78632939e+05, -2.93704972e+05,\n",
       "       -3.09608727e+05, -3.26395198e+05, -3.44119234e+05, -3.62839914e+05,\n",
       "       -3.82620978e+05, -4.03531307e+05, -4.25645473e+05, -4.49044360e+05,\n",
       "       -4.73815874e+05, -5.00055756e+05, -5.27868517e+05, -5.57368519e+05,\n",
       "       -5.88681220e+05, -6.21944635e+05, -6.57311039e+05, -6.94948966e+05,\n",
       "       -7.35045582e+05, -7.77809501e+05, -8.23474158e+05, -8.72301868e+05,\n",
       "       -9.24588767e+05, -9.80670835e+05, -1.04093135e+06, -1.10581016e+06,\n",
       "       -1.17581535e+06, -1.25153806e+06, -1.33367163e+06, -1.42303657e+06,\n",
       "       -1.52061357e+06, -1.62758818e+06, -1.74541207e+06, -1.87588917e+06,\n",
       "       -2.02129978e+06, -2.18458467e+06, -2.36962781e+06, -2.58170894e+06,\n",
       "       -2.82826508e+06, -3.12025541e+06, -3.47481301e+06, -3.92098725e+06,\n",
       "       -4.51426005e+06, -5.38337704e+06, -6.97298145e+06,             nan,\n",
       "                   nan,             nan,             nan,             nan,\n",
       "                   nan,             nan,             nan,             nan,\n",
       "                   nan,             nan,             nan,             nan,\n",
       "                   nan,             nan,             nan,             nan,\n",
       "                   nan,             nan,             nan,             nan,\n",
       "                   nan,             nan,             nan,             nan,\n",
       "                   nan,             nan,             nan,             nan,\n",
       "                   nan,             nan,             nan,             nan,\n",
       "                   nan,             nan,             nan,             nan,\n",
       "                   nan,             nan,             nan,             nan,\n",
       "                   nan,             nan,             nan,             nan,\n",
       "                   nan,             nan,             nan,             nan,\n",
       "                   nan,             nan,             nan,             nan,\n",
       "                   nan,             nan,             nan,             nan,\n",
       "                   nan,             nan,             nan,             nan,\n",
       "                   nan,             nan,             nan,             nan,\n",
       "                   nan,             nan,             nan,             nan,\n",
       "                   nan,             nan,             nan,             nan,\n",
       "                   nan,             nan,             nan,             nan,\n",
       "                   nan,             nan,             nan,             nan,\n",
       "                   nan,             nan,             nan,             nan,\n",
       "                   nan,             nan,             nan,             nan,\n",
       "                   nan,             nan,             nan,             nan,\n",
       "                   nan,             nan,             nan,             nan,\n",
       "                   nan,             nan,             nan,             nan,\n",
       "                   nan,             nan,             nan,             nan,\n",
       "                   nan,             nan,             nan,             nan,\n",
       "                   nan,             nan,             nan,             nan,\n",
       "                   nan,             nan,             nan,             nan,\n",
       "                   nan,             nan,             nan,             nan,\n",
       "                   nan,             nan,             nan,             nan,\n",
       "                   nan,             nan,             nan,             nan,\n",
       "                   nan,             nan,             nan,             nan,\n",
       "                   nan,             nan,             nan,             nan,\n",
       "                   nan,             nan,             nan,             nan,\n",
       "                   nan,             nan,             nan,             nan,\n",
       "                   nan,             nan,             nan,             nan,\n",
       "                   nan,             nan,             nan,             nan,\n",
       "                   nan,             nan,             nan,             nan,\n",
       "                   nan,             nan,             nan,             nan,\n",
       "                   nan,             nan,             nan,             nan,\n",
       "                   nan,             nan,             nan,             nan,\n",
       "                   nan,             nan,             nan,             nan,\n",
       "                   nan,             nan,             nan,             nan,\n",
       "                   nan,             nan,             nan,             nan,\n",
       "                   nan,             nan,             nan,             nan,\n",
       "                   nan,             nan,             nan,             nan,\n",
       "                   nan,             nan,             nan,             nan])"
      ]
     },
     "execution_count": 36,
     "metadata": {},
     "output_type": "execute_result"
    }
   ],
   "source": [
    "all_TSS = np.array(all_TSS, dtype=np.float64)\n",
    "print(all_TSS.shape)\n",
    "all_TSS[0][1]"
   ]
  },
  {
   "cell_type": "markdown",
   "metadata": {},
   "source": [
    "#### show the TS distribution "
   ]
  },
  {
   "cell_type": "code",
   "execution_count": 90,
   "metadata": {},
   "outputs": [
    {
     "data": {
      "image/png": "[encoded data removed]",
      "text/plain": [
       "<Figure size 640x480 with 1 Axes>"
      ]
     },
     "metadata": {},
     "output_type": "display_data"
    }
   ],
   "source": [
    "# for i in range(1, len(all_TSS)):\n",
    "plt.figure()\n",
    "histdetails = plt.hist(np.ravel(all_TSS[:]), bins=10, density=False, histtype='step')\n",
    "# plt.ylim(0, 1000)\n",
    "plt.yscale('log')\n",
    "plt.xlabel('TS')\n",
    "plt.ylabel('Counts')\n",
    "plt.title('TS distribution')\n",
    "plt.show()"
   ]
  },
  {
   "attachments": {},
   "cell_type": "markdown",
   "metadata": {},
   "source": [
    "histdetails = np.histogram(np.ravel(all_TSS[1:]), bins=10)"
   ]
  },
  {
   "cell_type": "code",
   "execution_count": 92,
   "metadata": {},
   "outputs": [
    {
     "data": {
      "text/plain": [
       "7.912781540409465e-11"
      ]
     },
     "execution_count": 92,
     "metadata": {},
     "output_type": "execute_result"
    }
   ],
   "source": [
    "max(np.ravel(all_TSS[1][:]))"
   ]
  },
  {
   "attachments": {},
   "cell_type": "markdown",
   "metadata": {},
   "source": [
    "np.count_nonzero(np.ravel(all_TSS[1:])> )"
   ]
  },
  {
   "cell_type": "code",
   "execution_count": 93,
   "metadata": {},
   "outputs": [],
   "source": [
    "all_TSS = np.array(all_TSS, dtype=np.float64)"
   ]
  },
  {
   "cell_type": "code",
   "execution_count": 47,
   "metadata": {},
   "outputs": [
    {
     "data": {
      "text/plain": [
       "(2, 4, 1000)"
      ]
     },
     "execution_count": 47,
     "metadata": {},
     "output_type": "execute_result"
    }
   ],
   "source": [
    "all_TSS.shape"
   ]
  },
  {
   "cell_type": "code",
   "execution_count": 94,
   "metadata": {},
   "outputs": [
    {
     "name": "stdout",
     "output_type": "stream",
     "text": [
      "-7383439.082965885 3.5984879637077434\n",
      "-6972981.446159292 3.9416139096602976\n",
      "-6945377.193489018 3.8074965059298433\n",
      "-7246744.76872919 3.3811842325695376\n",
      "wt\n",
      "\n",
      "-8847942.669349238 3.132227810180224e-11\n",
      "-8172874.033478536 7.912781540409465e-11\n",
      "-9342128.809873119 5.121525424262675e-11\n",
      "-7492608.908635357 -3.441191785037558e-10\n",
      "wt\n",
      "\n"
     ]
    }
   ],
   "source": [
    "for w in range(2):\n",
    "    for g in range(len(gamma_arr)):\n",
    "        print(min(all_TSS[w][g]), max(all_TSS[w][g]))\n",
    "        # np.savetxt(f'TS_w{w}_g{g}.txt', all_TSS[w][g])\n",
    "        \n",
    "    print('wt\\n')\n",
    "\n",
    "with open(altier_path[0] + f'all_TSS_{len(enus)}_bins.pkl', 'wb') as f:\n",
    "    pickle.dump(all_TSS, f)"
   ]
  },
  {
   "cell_type": "markdown",
   "metadata": {},
   "source": [
    "### set ploting parameters $\\mathrm{E}_v^2 \\frac{\\mathrm{dF}}{\\mathrm{dE}_v}$"
   ]
  },
  {
   "cell_type": "code",
   "execution_count": 113,
   "metadata": {},
   "outputs": [],
   "source": [
    "\n",
    "all_TSS = np.asarray(all_TSS)\n",
    "gamma_arr = np.asarray(gamma_arr)\n",
    "\n",
    "all_e_UL = []\n",
    "e_decade = [1e13, 1e14, 1e15, 1e16, 1e17]\n",
    "for e_UL in e_decade:\n",
    "    e2dfde = []\n",
    "\n",
    "    for gamma in prange(len(gamma_arr)):\n",
    "        temp = []\n",
    "        for phi in range(len(phio)):\n",
    "            temp.append( e_UL**2 * dfde(e_UL, gamma_arr[gamma], phio[phi]))        #in eV\n",
    "        e2dfde.append(temp)\n",
    "    e2dfde = np.asarray(e2dfde)\n",
    "\n",
    "    all_e_UL.append(e2dfde)\n",
    "mark = ['^', 'o', 's', 'd']"
   ]
  },
  {
   "cell_type": "code",
   "execution_count": 109,
   "metadata": {},
   "outputs": [
    {
     "name": "stdout",
     "output_type": "stream",
     "text": [
      "(4, 1000)\n",
      "next energy bin\n",
      "(4, 1000)\n",
      "next energy bin\n",
      "(4, 1000)\n",
      "next energy bin\n",
      "(4, 1000)\n",
      "next energy bin\n",
      "(4, 1000)\n",
      "next energy bin\n"
     ]
    }
   ],
   "source": [
    "for i in all_e_UL:\n",
    "    print(i.shape)\n",
    "    print('next energy bin')"
   ]
  },
  {
   "cell_type": "code",
   "execution_count": 115,
   "metadata": {},
   "outputs": [],
   "source": [
    "\n",
    "all_e_UL=np.asarray(all_e_UL)"
   ]
  },
  {
   "cell_type": "code",
   "execution_count": 116,
   "metadata": {},
   "outputs": [
    {
     "name": "stdout",
     "output_type": "stream",
     "text": [
      "[[[1.00000000e-10 1.04236067e-10 1.08651577e-10 ... 9.20373200e+07\n",
      "   9.59360829e+07 1.00000000e+08]\n",
      "  [2.51188643e-10 2.61829163e-10 2.72920423e-10 ... 2.31187295e+08\n",
      "   2.40980545e+08 2.51188643e+08]\n",
      "  [3.38844156e-10 3.53197823e-10 3.68159521e-10 ... 3.11863080e+08\n",
      "   3.25073810e+08 3.38844156e+08]\n",
      "  [1.00000000e-09 1.04236067e-09 1.08651577e-09 ... 9.20373200e+08\n",
      "   9.59360829e+08 1.00000000e+09]]\n",
      "\n",
      " [[1.00000000e-10 1.04236067e-10 1.08651577e-10 ... 9.20373200e+07\n",
      "   9.59360829e+07 1.00000000e+08]\n",
      "  [1.00000000e-10 1.04236067e-10 1.08651577e-10 ... 9.20373200e+07\n",
      "   9.59360829e+07 1.00000000e+08]\n",
      "  [1.00000000e-10 1.04236067e-10 1.08651577e-10 ... 9.20373200e+07\n",
      "   9.59360829e+07 1.00000000e+08]\n",
      "  [1.00000000e-10 1.04236067e-10 1.08651577e-10 ... 9.20373200e+07\n",
      "   9.59360829e+07 1.00000000e+08]]\n",
      "\n",
      " [[1.00000000e-10 1.04236067e-10 1.08651577e-10 ... 9.20373200e+07\n",
      "   9.59360829e+07 1.00000000e+08]\n",
      "  [3.98107171e-11 4.14971259e-11 4.32549721e-11 ... 3.66407170e+07\n",
      "   3.81928425e+07 3.98107171e+07]\n",
      "  [2.95120923e-11 3.07622444e-11 3.20653538e-11 ... 2.71621388e+07\n",
      "   2.83127453e+07 2.95120923e+07]\n",
      "  [1.00000000e-11 1.04236067e-11 1.08651577e-11 ... 9.20373200e+06\n",
      "   9.59360829e+06 1.00000000e+07]]\n",
      "\n",
      " [[1.00000000e-10 1.04236067e-10 1.08651577e-10 ... 9.20373200e+07\n",
      "   9.59360829e+07 1.00000000e+08]\n",
      "  [1.58489319e-11 1.65203034e-11 1.72201145e-11 ... 1.45869322e+07\n",
      "   1.52048445e+07 1.58489319e+07]\n",
      "  [8.70963590e-12 9.07858195e-12 9.46315680e-12 ... 8.01611546e+06\n",
      "   8.35568351e+06 8.70963590e+06]\n",
      "  [1.00000000e-12 1.04236067e-12 1.08651577e-12 ... 9.20373200e+05\n",
      "   9.59360829e+05 1.00000000e+06]]\n",
      "\n",
      " [[1.00000000e-10 1.04236067e-10 1.08651577e-10 ... 9.20373200e+07\n",
      "   9.59360829e+07 1.00000000e+08]\n",
      "  [6.30957344e-12 6.57685123e-12 6.85545108e-12 ... 5.80716230e+06\n",
      "   6.05315761e+06 6.30957344e+06]\n",
      "  [2.57039578e-12 2.67927948e-12 2.79277557e-12 ... 2.36572339e+06\n",
      "   2.46593703e+06 2.57039578e+06]\n",
      "  [1.00000000e-13 1.04236067e-13 1.08651577e-13 ... 9.20373200e+04\n",
      "   9.59360829e+04 1.00000000e+05]]]\n"
     ]
    }
   ],
   "source": [
    "print(all_e_UL)"
   ]
  },
  {
   "cell_type": "code",
   "execution_count": 101,
   "metadata": {},
   "outputs": [
    {
     "name": "stdout",
     "output_type": "stream",
     "text": [
      "7.3259654282152e-24\n",
      "3.47168681892656e-24\n",
      "2.3898925662310525e-24\n",
      "7.959777002314978e-24\n",
      "3.618749812411284e-24\n",
      "2.491130026067796e-24\n"
     ]
    }
   ],
   "source": [
    "for w in range(2):\n",
    "    for g in range(0,3):\n",
    "        print(phio[np.argmax(all_TSS[w][g])])"
   ]
  },
  {
   "cell_type": "code",
   "execution_count": 102,
   "metadata": {},
   "outputs": [
    {
     "data": {
      "text/plain": [
       "4"
      ]
     },
     "execution_count": 102,
     "metadata": {},
     "output_type": "execute_result"
    }
   ],
   "source": [
    "all_TSS[1]"
   ]
  },
  {
   "attachments": {},
   "cell_type": "markdown",
   "metadata": {},
   "source": []
  },
  {
   "cell_type": "code",
   "execution_count": 71,
   "metadata": {},
   "outputs": [],
   "source": [
    "tete = np.float64('2.543345761304638e-23 9.396648314954749e-24 1.4526539259467783e-24 2.3408272761782943e-23 8.296958520834915e-24 1.2305240043592616e-24 1.61141427725301e-23 5.711586478126447e-24 8.470868266557419e-25'.split(' '))"
   ]
  },
  {
   "cell_type": "markdown",
   "metadata": {},
   "source": [
    "### derived upper limits on our neutrino flux  at TS=-3.84 with interplation"
   ]
  },
  {
   "cell_type": "code",
   "execution_count": 117,
   "metadata": {},
   "outputs": [
    {
     "name": "stdout",
     "output_type": "stream",
     "text": [
      "1000\n",
      "\n",
      "1000\n",
      "\n",
      "1000\n",
      "\n",
      "1000\n",
      "\n",
      "1000\n",
      "\n",
      "1000\n",
      "\n",
      "1000\n",
      "\n",
      "1000\n",
      "\n",
      "1000\n",
      "\n",
      "1000\n",
      "\n",
      "1000\n",
      "\n",
      "1000\n",
      "\n",
      "1000\n",
      "\n",
      "1000\n",
      "\n",
      "1000\n",
      "\n",
      "1000\n",
      "\n",
      "1000\n",
      "\n",
      "1000\n",
      "\n",
      "1000\n",
      "\n",
      "1000\n",
      "\n",
      "1000\n",
      "\n",
      "1000\n",
      "\n",
      "1000\n",
      "\n",
      "1000\n",
      "\n",
      "1000\n",
      "\n",
      "1000\n",
      "\n",
      "1000\n",
      "\n",
      "1000\n",
      "\n",
      "1000\n",
      "\n",
      "1000\n",
      "\n",
      "1000\n",
      "\n",
      "1000\n",
      "\n",
      "1000\n",
      "\n",
      "1000\n",
      "\n",
      "1000\n",
      "\n",
      "1000\n",
      "\n",
      "1000\n",
      "\n",
      "1000\n",
      "\n",
      "1000\n",
      "\n",
      "1000\n",
      "\n",
      "5\n",
      "4\n"
     ]
    }
   ],
   "source": [
    "# e2dfde = all_e_UL[1][2]\n",
    "# dist_g25 = interp.interp1d(all_TSS[1][2], e2dfde/1e9)\n",
    "\n",
    "# print(dist_g25(-3.84))\n",
    "\n",
    "all_UL = []\n",
    "for ws in range(2):\n",
    "    ul_all_gamma = []\n",
    "    for gamma in prange(len(gamma_arr)):\n",
    "        temp = []\n",
    "        for i in all_e_UL:\n",
    "            #print(len(all_TSS[ws][gamma]))\n",
    "            print(len(i[gamma]/1e9))\n",
    "            dist_g = interp.interp1d(all_TSS[ws][gamma], i[gamma]/1e9)\n",
    "            print()\n",
    "            temp.append(dist_g(-3.84))\n",
    "\n",
    "        ul_all_gamma.append(temp)\n",
    "    all_UL.append(ul_all_gamma)\n",
    "print(len(all_UL[0][0]))\n",
    "print(len(all_UL[1]))"
   ]
  },
  {
   "cell_type": "markdown",
   "metadata": {},
   "source": [
    "#### IceCube measured diffused astrophysical neutrino flux"
   ]
  },
  {
   "cell_type": "code",
   "execution_count": 118,
   "metadata": {},
   "outputs": [
    {
     "name": "stdout",
     "output_type": "stream",
     "text": [
      "[1.50000000e+13 1.68880140e+13 1.90136678e+13 2.14068725e+13\n",
      " 2.41013042e+13 2.71348775e+13 3.05502794e+13 3.43955698e+13\n",
      " 3.87248576e+13 4.35990625e+13 4.90867719e+13 5.52652061e+13\n",
      " 6.22213049e+13 7.00529513e+13 7.88703481e+13 8.87975696e+13\n",
      " 9.99743065e+13 1.12557833e+14 1.26725217e+14 1.42675816e+14\n",
      " 1.60634078e+14 1.80852704e+14 2.03616200e+14 2.29244883e+14\n",
      " 2.58099386e+14 2.90585736e+14 3.27161065e+14 3.68340043e+14\n",
      " 4.14702121e+14 4.66899682e+14 5.25667224e+14 5.91831696e+14\n",
      " 6.66324131e+14 7.50192750e+14 8.44617712e+14 9.50927716e+14\n",
      " 1.07061871e+15 1.20537491e+15 1.35709256e+15 1.52790654e+15\n",
      " 1.72022047e+15 1.93674050e+15 2.18051338e+15 2.45496936e+15\n",
      " 2.76397046e+15 3.11186479e+15 3.50354775e+15 3.94453089e+15\n",
      " 4.44101953e+15 5.00000000e+15]\n",
      "5.039999999999999e-18\n",
      "5.0399999999999995e-08\n"
     ]
    }
   ],
   "source": [
    "phio_paper = 1.68*3e-18\n",
    "phio_paper_low=1.46*3e-18\n",
    "phio_paper_high=1.87*3e-18 \n",
    "spectral_index= -2.58\n",
    "spectral_index_high=-2.49\n",
    "spectral_index_low=-2.68\n",
    "\n",
    "ic_e_paper = np.logspace(np.log10(15e12), np.log10(5e15))\n",
    "print(ic_e_paper)\n",
    "e2dfde_ic = 1e10 * dfde(1e14, spectral_index, phio_paper)\n",
    "e2dfde_ic_low =1e10 * dfde(1e14, spectral_index, phio_paper_low)\n",
    "e2dfde_ic_high=1e10 * dfde(1e14, spectral_index, phio_paper_high)\n",
    "########e2dfde_ic @ 100TeV   in GeV unit###########\n",
    "print(phio_paper * ((1e14/(10**14))**spectral_index))\n",
    "print(e2dfde_ic)"
   ]
  },
  {
   "cell_type": "markdown",
   "metadata": {},
   "source": [
    "### set the  plot package"
   ]
  },
  {
   "cell_type": "code",
   "execution_count": 119,
   "metadata": {},
   "outputs": [],
   "source": [
    "import matplotlib.patches as mpatches\n",
    "import matplotlib.lines as mlines\n",
    "yellow_patch = mpatches.Patch(color='grey',alpha=0.5,edgecolor=None,linewidth=0)\n",
    "blue_dotted_line = mlines.Line2D([], [], linewidth=2, linestyle='solid', color='grey')\n",
    "orange_line = mlines.Line2D([], [], linewidth=2, color='orange')\n",
    "firebrick_line=mlines.Line2D([], [], linewidth=2, color='firebrick')\n",
    "olivedrab_line=mlines.Line2D([], [], linewidth=2, color='olivedrab')\n",
    "dodgerblue_line=mlines.Line2D([], [], linewidth=2, color='dodgerblue')\n",
    "# magenta_line=mlines.Line2D([], [], linewidth=2, color='magenta')\n",
    "dashed_line=mlines.Line2D([0], [2],linestyle='--', color='k', lw=2)"
   ]
  },
  {
   "cell_type": "markdown",
   "metadata": {},
   "source": [
    "### plot the  $\\mathrm{E}_v^2 \\frac{\\mathrm{dF}}{\\mathrm{dE}_v}$ vs TS"
   ]
  },
  {
   "cell_type": "code",
   "execution_count": 124,
   "metadata": {},
   "outputs": [
    {
     "name": "stdout",
     "output_type": "stream",
     "text": [
      "[-3.89625888e-10 -3.49843266e-10 -4.62345940e-10 -4.69614126e-10\n",
      " -3.74248855e-10 -4.12227808e-10 -3.44119179e-10 -4.04693169e-10\n",
      " -5.88288530e-10 -3.89549727e-10 -5.63343817e-10 -5.92595085e-10\n",
      " -4.68803886e-10 -7.01736226e-10 -5.25437251e-10 -6.72403912e-10\n",
      " -6.57239376e-10 -7.06604111e-10 -8.09734282e-10 -7.26106955e-10\n",
      " -6.84398541e-10 -9.29102354e-10 -9.52507188e-10 -9.88909625e-10\n",
      " -1.03681109e-09 -1.08333187e-09 -1.11963017e-09 -1.12099641e-09\n",
      " -1.09601218e-09 -1.26891298e-09 -1.13621269e-09 -1.17792221e-09\n",
      " -1.38317247e-09 -1.23778189e-09 -1.47755986e-09 -1.58407133e-09\n",
      " -1.53709468e-09 -1.57978010e-09 -1.69038829e-09 -1.85058903e-09\n",
      " -1.78851246e-09 -1.98810703e-09 -1.92834750e-09 -2.08592079e-09\n",
      " -2.19045473e-09 -2.21482346e-09 -2.38853850e-09 -2.43106960e-09\n",
      " -2.56783908e-09 -2.52607161e-09 -2.77173643e-09 -2.77541349e-09\n",
      " -3.00732088e-09 -3.18348175e-09 -3.26778920e-09 -3.47764223e-09\n",
      " -3.52526392e-09 -3.62272396e-09 -3.72755700e-09 -4.05247554e-09\n",
      " -4.29611243e-09 -4.41892776e-09 -4.62084624e-09 -4.60098347e-09\n",
      " -4.81176465e-09 -5.19858813e-09 -5.45090275e-09 -5.51131466e-09\n",
      " -5.82574049e-09 -6.07267542e-09 -6.43970073e-09 -6.60482555e-09\n",
      " -6.74917610e-09 -7.04479920e-09 -7.41864817e-09 -7.78202064e-09\n",
      " -8.05490593e-09 -8.39567271e-09 -8.71573360e-09 -9.16444959e-09\n",
      " -9.64594846e-09 -1.00526840e-08 -1.02722544e-08 -1.09496768e-08\n",
      " -1.12086404e-08 -1.16792189e-08 -1.22332844e-08 -1.27348930e-08\n",
      " -1.32951656e-08 -1.37657632e-08 -1.44996522e-08 -1.50843559e-08\n",
      " -1.58564981e-08 -1.63932011e-08 -1.70140415e-08 -1.77842042e-08\n",
      " -1.85089819e-08 -1.94851932e-08 -2.02462235e-08 -2.10766331e-08\n",
      " -2.19963276e-08 -2.27610828e-08 -2.38764397e-08 -2.48273244e-08\n",
      " -2.58449881e-08 -2.68926082e-08 -2.81790310e-08 -2.93967466e-08\n",
      " -3.04692063e-08 -3.18194098e-08 -3.30946967e-08 -3.46844353e-08\n",
      " -3.59556924e-08 -3.75191758e-08 -3.92107191e-08 -4.08510560e-08\n",
      " -4.24948964e-08 -4.44264403e-08 -4.61571988e-08 -4.81840930e-08\n",
      " -5.02296801e-08 -5.24930097e-08 -5.46496339e-08 -5.68523624e-08\n",
      " -5.92296388e-08 -6.18837511e-08 -6.43847471e-08 -6.72788937e-08\n",
      " -7.00791995e-08 -7.30207373e-08 -7.60557302e-08 -7.93500114e-08\n",
      " -8.27855271e-08 -8.62068397e-08 -8.99225977e-08 -9.36991324e-08\n",
      " -9.75102760e-08 -1.01790363e-07 -1.06176092e-07 -1.10503270e-07\n",
      " -1.15317808e-07 -1.20102661e-07 -1.25299210e-07 -1.30533423e-07\n",
      " -1.36129757e-07 -1.41847322e-07 -1.47887678e-07 -1.54131584e-07\n",
      " -1.60642873e-07 -1.67415091e-07 -1.74616422e-07 -1.81837364e-07\n",
      " -1.89589146e-07 -1.97545490e-07 -2.06045705e-07 -2.14835763e-07\n",
      " -2.23814323e-07 -2.33283931e-07 -2.43193497e-07 -2.53379571e-07\n",
      " -2.64320787e-07 -2.75375123e-07 -2.87027767e-07 -2.99140185e-07\n",
      " -3.11938796e-07 -3.25260073e-07 -3.39044443e-07 -3.53334240e-07\n",
      " -3.68266578e-07 -3.83809770e-07 -4.00017888e-07 -4.17012383e-07\n",
      " -4.34727806e-07 -4.53161283e-07 -4.72353124e-07 -4.92386825e-07\n",
      " -5.13123270e-07 -5.34952251e-07 -5.57517063e-07 -5.81221672e-07\n",
      " -6.05952482e-07 -6.31584013e-07 -6.58204831e-07 -6.86117189e-07\n",
      " -7.15311513e-07 -7.45463046e-07 -7.77167488e-07 -8.09918887e-07\n",
      " -8.44361575e-07 -8.80002040e-07 -9.17468883e-07 -9.56218401e-07\n",
      " -9.96792245e-07 -1.03903631e-06 -1.08308366e-06 -1.12883353e-06\n",
      " -1.17668917e-06 -1.22652675e-06 -1.27842586e-06 -1.33265224e-06\n",
      " -1.38912509e-06 -1.44789703e-06 -1.50912533e-06 -1.57305215e-06\n",
      " -1.63971575e-06 -1.70917335e-06 -1.78172729e-06 -1.85713268e-06\n",
      " -1.93582197e-06 -2.01786608e-06 -2.10318870e-06 -2.19228122e-06\n",
      " -2.28515548e-06 -2.38206010e-06 -2.48293210e-06 -2.58810938e-06\n",
      " -2.69777450e-06 -2.81216341e-06 -2.93125927e-06 -3.05549168e-06\n",
      " -3.18493589e-06 -3.31974789e-06 -3.46035823e-06 -3.60690857e-06\n",
      " -3.75968982e-06 -3.91906720e-06 -4.08491388e-06 -4.25804048e-06\n",
      " -4.43836080e-06 -4.62656882e-06 -4.82254537e-06 -5.02678270e-06\n",
      " -5.23978908e-06 -5.46173654e-06 -5.69312616e-06 -5.93417179e-06\n",
      " -6.18545452e-06 -6.44755254e-06 -6.72067637e-06 -7.00555127e-06\n",
      " -7.30228401e-06 -7.61148609e-06 -7.93388964e-06 -8.27019526e-06\n",
      " -8.62042323e-06 -8.98551834e-06 -9.36617510e-06 -9.76292721e-06\n",
      " -1.01767182e-05 -1.06077098e-05 -1.10571078e-05 -1.15254448e-05\n",
      " -1.20138855e-05 -1.25227461e-05 -1.30532793e-05 -1.36061841e-05\n",
      " -1.41826150e-05 -1.47834110e-05 -1.54095970e-05 -1.60625961e-05\n",
      " -1.67429336e-05 -1.74521997e-05 -1.81917235e-05 -1.89622404e-05\n",
      " -1.97655639e-05 -2.06029668e-05 -2.14758125e-05 -2.23856649e-05\n",
      " -2.33341405e-05 -2.43227278e-05 -2.53531043e-05 -2.64271777e-05\n",
      " -2.75468561e-05 -2.87138002e-05 -2.99304108e-05 -3.11982746e-05\n",
      " -3.25201184e-05 -3.38979580e-05 -3.53342394e-05 -3.68312021e-05\n",
      " -3.83917146e-05 -4.00183267e-05 -4.17137979e-05 -4.34811009e-05\n",
      " -4.53233765e-05 -4.72438669e-05 -4.92455650e-05 -5.13320751e-05\n",
      " -5.35069334e-05 -5.57741442e-05 -5.81374182e-05 -6.06008759e-05\n",
      " -6.31687005e-05 -6.58455027e-05 -6.86356198e-05 -7.15438891e-05\n",
      " -7.45755991e-05 -7.77358906e-05 -8.10301054e-05 -8.44638270e-05\n",
      " -8.80433471e-05 -9.17743276e-05 -9.56639020e-05 -9.97179306e-05\n",
      " -1.03944222e-04 -1.08349631e-04 -1.12941624e-04 -1.17728477e-04\n",
      " -1.22718404e-04 -1.27919838e-04 -1.33341875e-04 -1.38994119e-04\n",
      " -1.44885909e-04 -1.51027721e-04 -1.57429928e-04 -1.64103715e-04\n",
      " -1.71060866e-04 -1.78312918e-04 -1.85872957e-04 -1.93753494e-04\n",
      " -2.01968743e-04 -2.10532444e-04 -2.19459845e-04 -2.28765965e-04\n",
      " -2.38467487e-04 -2.48580687e-04 -2.59123212e-04 -2.70113398e-04\n",
      " -2.81570396e-04 -2.93514098e-04 -3.05964833e-04 -3.18944859e-04\n",
      " -3.32476095e-04 -3.46582394e-04 -3.61288277e-04 -3.76619171e-04\n",
      " -3.92601873e-04 -4.09263969e-04 -4.26634449e-04 -4.44744032e-04\n",
      " -4.63623628e-04 -4.83306504e-04 -5.03827058e-04 -5.25221000e-04\n",
      " -5.47525382e-04 -5.70779741e-04 -5.95024316e-04 -6.20301574e-04\n",
      " -6.46655803e-04 -6.74132959e-04 -7.02781539e-04 -7.32651666e-04\n",
      " -7.63795670e-04 -7.96268588e-04 -8.30127085e-04 -8.65430775e-04\n",
      " -9.02242167e-04 -9.40625926e-04 -9.80649975e-04 -1.02238462e-03\n",
      " -1.06590417e-03 -1.11128530e-03 -1.15860884e-03 -1.20795823e-03\n",
      " -1.25942181e-03 -1.31309049e-03 -1.36906045e-03 -1.42743107e-03\n",
      " -1.48830684e-03 -1.55179695e-03 -1.61801471e-03 -1.68707960e-03\n",
      " -1.75911504e-03 -1.83425168e-03 -1.91262429e-03 -1.99437538e-03\n",
      " -2.07965249e-03 -2.16861080e-03 -2.26141192e-03 -2.35822527e-03\n",
      " -2.45922774e-03 -2.56460435e-03 -2.67454883e-03 -2.78926369e-03\n",
      " -2.90896034e-03 -3.03386111e-03 -3.16419731e-03 -3.30021226e-03\n",
      " -3.44215971e-03 -3.59030582e-03 -3.74492948e-03 -3.90632224e-03\n",
      " -4.07478973e-03 -4.25065256e-03 -4.43424604e-03 -4.62592217e-03\n",
      " -4.82604982e-03 -5.03501524e-03 -5.25322429e-03 -5.48110228e-03\n",
      " -5.71909539e-03 -5.96767230e-03 -6.22732477e-03 -6.49856876e-03\n",
      " -6.78194667e-03 -7.07802786e-03 -7.38741119e-03 -7.71072582e-03\n",
      " -8.04863264e-03 -8.40182760e-03 -8.77104237e-03 -9.15704667e-03\n",
      " -9.56065120e-03 -9.98270926e-03 -1.04241192e-02 -1.08858284e-02\n",
      " -1.13688348e-02 -1.18741901e-02 -1.24030042e-02 -1.29564479e-02\n",
      " -1.35357564e-02 -1.41422342e-02 -1.47772589e-02 -1.54422859e-02\n",
      " -1.61388534e-02 -1.68685876e-02 -1.76332088e-02 -1.84345374e-02\n",
      " -1.92745002e-02 -2.01551371e-02 -2.10786098e-02 -2.20472087e-02\n",
      " -2.30633623e-02 -2.41296461e-02 -2.52487931e-02 -2.64237041e-02\n",
      " -2.76574599e-02 -2.89533327e-02 -3.03148000e-02 -3.17455601e-02\n",
      " -3.32495458e-02 -3.48309415e-02 -3.64942020e-02 -3.82440711e-02\n",
      " -4.00856026e-02 -4.20241819e-02 -4.40655516e-02 -4.62158360e-02\n",
      " -4.84815697e-02 -5.08697279e-02 -5.33877585e-02 -5.60436165e-02\n",
      " -5.88458036e-02 -6.18034065e-02 -6.49261426e-02 -6.82244059e-02\n",
      " -7.17093191e-02 -7.53927874e-02 -7.92875588e-02 -8.34072873e-02\n",
      " -8.77666020e-02 -9.23811817e-02 -9.72678346e-02 -1.02444586e-01\n",
      " -1.07930768e-01 -1.13747127e-01 -1.19915924e-01 -1.26461058e-01\n",
      " -1.33408188e-01 -1.40784873e-01 -1.48620717e-01 -1.56947525e-01\n",
      " -1.65799478e-01 -1.75213313e-01 -1.85228526e-01 -1.95887582e-01\n",
      " -2.07236146e-01 -2.19323334e-01 -2.32201980e-01 -2.45928921e-01\n",
      " -2.60565314e-01 -2.76176965e-01 -2.92834693e-01 -3.10614716e-01\n",
      " -3.29599073e-01 -3.49876068e-01 -3.71540758e-01 -3.94695474e-01\n",
      " -4.19450380e-01 -4.45924073e-01 -4.74244237e-01 -5.04548331e-01\n",
      " -5.36984348e-01 -5.71711605e-01 -6.08901620e-01 -6.48739029e-01\n",
      " -6.91422586e-01 -7.37166228e-01 -7.86200222e-01 -8.38772395e-01\n",
      " -8.95149447e-01 -9.55618364e-01 -1.02048793e+00 -1.09009035e+00\n",
      " -1.16478299e+00 -1.24495020e+00 -1.33100536e+00 -1.42339293e+00\n",
      " -1.52259081e+00 -1.62911266e+00 -1.74351061e+00 -1.86637795e+00\n",
      " -1.99835210e+00 -2.14011780e+00 -2.29241045e+00 -2.45601972e+00\n",
      " -2.63179336e+00 -2.82064132e+00 -3.02354005e+00 -3.24153717e+00\n",
      " -3.47575642e+00 -3.72740283e+00 -3.99776840e+00 -4.28823800e+00\n",
      " -4.60029565e+00 -4.93553132e+00 -5.29564797e+00 -5.68246920e+00\n",
      " -6.09794726e+00 -6.54417160e+00 -7.02337794e+00 -7.53795788e+00\n",
      " -8.09046911e+00 -8.68364621e+00 -9.32041214e+00 -1.00038904e+01\n",
      " -1.07374178e+01 -1.15245582e+01 -1.23691171e+01 -1.32751566e+01\n",
      " -1.42470117e+01 -1.52893077e+01 -1.64069779e+01 -1.76052831e+01\n",
      " -1.88898317e+01 -2.02666012e+01 -2.17419610e+01 -2.33226961e+01\n",
      " -2.50160325e+01 -2.68296642e+01 -2.87717814e+01 -3.08510999e+01\n",
      " -3.30768933e+01 -3.54590261e+01 -3.80079887e+01 -4.07349346e+01\n",
      " -4.36517197e+01 -4.67709438e+01 -5.01059940e+01 -5.36710907e+01\n",
      " -5.74813366e+01 -6.15527676e+01 -6.59024070e+01 -7.05483227e+01\n",
      " -7.55096871e+01 -8.08068402e+01 -8.64613574e+01 -9.24961187e+01\n",
      " -9.89353839e+01 -1.05804870e+02 -1.13131835e+02 -1.20945163e+02\n",
      " -1.29275455e+02 -1.38155130e+02 -1.47618519e+02 -1.57701979e+02\n",
      " -1.68443999e+02 -1.79885323e+02 -1.92069072e+02 -2.05040876e+02\n",
      " -2.18849010e+02 -2.33544542e+02 -2.49181481e+02 -2.65816940e+02\n",
      " -2.83511306e+02 -3.02328411e+02 -3.22335725e+02 -3.43604546e+02\n",
      " -3.66210208e+02 -3.90232296e+02 -4.15754871e+02 -4.42866711e+02\n",
      " -4.71661557e+02 -5.02238377e+02 -5.34701641e+02 -5.69161607e+02\n",
      " -6.05734629e+02 -6.44543469e+02 -6.85717631e+02 -7.29393715e+02\n",
      " -7.75715776e+02 -8.24835713e+02 -8.76913670e+02 -9.32118458e+02\n",
      " -9.90627996e+02 -1.05262977e+03 -1.11832134e+03 -1.18791081e+03\n",
      " -1.26161739e+03 -1.33967195e+03 -1.42231759e+03 -1.50981028e+03\n",
      " -1.60241945e+03 -1.70042871e+03 -1.80413655e+03 -1.91385702e+03\n",
      " -2.02992057e+03 -2.15267480e+03 -2.28248534e+03 -2.41973670e+03\n",
      " -2.56483323e+03 -2.71820004e+03 -2.88028405e+03 -3.05155503e+03\n",
      " -3.23250669e+03 -3.42365789e+03 -3.62555378e+03 -3.83876714e+03\n",
      " -4.06389963e+03 -4.30158326e+03 -4.55248177e+03 -4.81729219e+03\n",
      " -5.09674644e+03 -5.39161294e+03 -5.70269841e+03 -6.03084966e+03\n",
      " -6.37695554e+03 -6.74194886e+03 -7.12680856e+03 -7.53256186e+03\n",
      " -7.96028656e+03 -8.41111346e+03 -8.88622884e+03 -9.38687713e+03\n",
      " -9.91436364e+03 -1.04700575e+04 -1.10553946e+04 -1.16718809e+04\n",
      " -1.23210957e+04 -1.30046950e+04 -1.37244155e+04 -1.44820781e+04\n",
      " -1.52795921e+04 -1.61189594e+04 -1.70022791e+04 -1.79317519e+04\n",
      " -1.89096852e+04 -1.99384982e+04 -2.10207275e+04 -2.21590324e+04\n",
      " -2.33562013e+04 -2.46151580e+04 -2.59389680e+04 -2.73308460e+04\n",
      " -2.87941629e+04 -3.03324538e+04 -3.19494263e+04 -3.36489688e+04\n",
      " -3.54351601e+04 -3.73122791e+04 -3.92848143e+04 -4.13574759e+04\n",
      " -4.35352059e+04 -4.58231913e+04 -4.82268765e+04 -5.07519770e+04\n",
      " -5.34044937e+04 -5.61907286e+04 -5.91173013e+04 -6.21911656e+04\n",
      " -6.54196287e+04 -6.88103708e+04 -7.23714658e+04 -7.61114040e+04\n",
      " -8.00391159e+04 -8.41639979e+04 -8.84959392e+04 -9.30453520e+04\n",
      " -9.78232019e+04 -1.02841042e+05 -1.08111051e+05 -1.13646066e+05\n",
      " -1.19459634e+05 -1.25566048e+05 -1.31980402e+05 -1.38718638e+05\n",
      " -1.45797610e+05 -1.53235140e+05 -1.61050085e+05 -1.69262416e+05\n",
      " -1.77893289e+05 -1.86965136e+05 -1.96501758e+05 -2.06528427e+05\n",
      " -2.17072001e+05 -2.28161044e+05 -2.39825964e+05 -2.52099161e+05\n",
      " -2.65015192e+05 -2.78610955e+05 -2.92925885e+05 -3.08002184e+05\n",
      " -3.23885066e+05 -3.40623035e+05 -3.58268196e+05 -3.76876599e+05\n",
      " -3.96508637e+05 -4.17229476e+05 -4.39109562e+05 -4.62225178e+05\n",
      " -4.86659089e+05 -5.12501274e+05 -5.39849766e+05 -5.68811614e+05\n",
      " -5.99504002e+05 -6.32055539e+05 -6.66607767e+05 -7.03316922e+05\n",
      " -7.42356015e+05 -7.83917283e+05 -8.28215117e+05 -8.75489565e+05\n",
      " -9.26010557e+05 -9.80083043e+05 -1.03805328e+06 -1.10031661e+06\n",
      " -1.16732714e+06 -1.23960997e+06 -1.31777676e+06 -1.40254579e+06\n",
      " -1.49476826e+06 -1.59546319e+06 -1.70586462e+06 -1.82748669e+06\n",
      " -1.96221533e+06 -2.11244098e+06 -2.28125633e+06 -2.47276169e+06\n",
      " -2.69255697e+06 -2.94857644e+06 -3.25260019e+06 -3.62323092e+06\n",
      " -4.09246184e+06 -4.72274889e+06 -5.66477044e+06 -7.49260891e+06\n",
      "  0.00000000e+00  0.00000000e+00  0.00000000e+00  0.00000000e+00\n",
      "  0.00000000e+00  0.00000000e+00  0.00000000e+00  0.00000000e+00\n",
      "  0.00000000e+00  0.00000000e+00  0.00000000e+00  0.00000000e+00\n",
      "  0.00000000e+00  0.00000000e+00  0.00000000e+00  0.00000000e+00\n",
      "  0.00000000e+00  0.00000000e+00  0.00000000e+00  0.00000000e+00\n",
      "  0.00000000e+00  0.00000000e+00  0.00000000e+00  0.00000000e+00\n",
      "  0.00000000e+00  0.00000000e+00  0.00000000e+00  0.00000000e+00\n",
      "  0.00000000e+00  0.00000000e+00  0.00000000e+00  0.00000000e+00\n",
      "  0.00000000e+00  0.00000000e+00  0.00000000e+00  0.00000000e+00\n",
      "  0.00000000e+00  0.00000000e+00  0.00000000e+00  0.00000000e+00\n",
      "  0.00000000e+00  0.00000000e+00  0.00000000e+00  0.00000000e+00\n",
      "  0.00000000e+00  0.00000000e+00  0.00000000e+00  0.00000000e+00\n",
      "  0.00000000e+00  0.00000000e+00  0.00000000e+00  0.00000000e+00\n",
      "  0.00000000e+00  0.00000000e+00  0.00000000e+00  0.00000000e+00\n",
      "  0.00000000e+00  0.00000000e+00  0.00000000e+00  0.00000000e+00\n",
      "  0.00000000e+00  0.00000000e+00  0.00000000e+00  0.00000000e+00\n",
      "  0.00000000e+00  0.00000000e+00  0.00000000e+00  0.00000000e+00\n",
      "  0.00000000e+00  0.00000000e+00  0.00000000e+00  0.00000000e+00\n",
      "  0.00000000e+00  0.00000000e+00  0.00000000e+00  0.00000000e+00\n",
      "  0.00000000e+00  0.00000000e+00  0.00000000e+00  0.00000000e+00\n",
      "  0.00000000e+00  0.00000000e+00  0.00000000e+00  0.00000000e+00\n",
      "  0.00000000e+00  0.00000000e+00  0.00000000e+00  0.00000000e+00\n",
      "  0.00000000e+00  0.00000000e+00  0.00000000e+00  0.00000000e+00\n",
      "  0.00000000e+00  0.00000000e+00  0.00000000e+00  0.00000000e+00\n",
      "  0.00000000e+00  0.00000000e+00  0.00000000e+00  0.00000000e+00\n",
      "  0.00000000e+00  0.00000000e+00  0.00000000e+00  0.00000000e+00\n",
      "  0.00000000e+00  0.00000000e+00  0.00000000e+00  0.00000000e+00\n",
      "  0.00000000e+00  0.00000000e+00  0.00000000e+00  0.00000000e+00\n",
      "  0.00000000e+00  0.00000000e+00  0.00000000e+00  0.00000000e+00\n",
      "  0.00000000e+00  0.00000000e+00  0.00000000e+00  0.00000000e+00\n",
      "  0.00000000e+00  0.00000000e+00  0.00000000e+00  0.00000000e+00\n",
      "  0.00000000e+00  0.00000000e+00  0.00000000e+00  0.00000000e+00\n",
      "  0.00000000e+00  0.00000000e+00  0.00000000e+00  0.00000000e+00\n",
      "  0.00000000e+00  0.00000000e+00  0.00000000e+00  0.00000000e+00\n",
      "  0.00000000e+00  0.00000000e+00  0.00000000e+00  0.00000000e+00\n",
      "  0.00000000e+00  0.00000000e+00  0.00000000e+00  0.00000000e+00\n",
      "  0.00000000e+00  0.00000000e+00  0.00000000e+00  0.00000000e+00\n",
      "  0.00000000e+00  0.00000000e+00  0.00000000e+00  0.00000000e+00\n",
      "  0.00000000e+00  0.00000000e+00  0.00000000e+00  0.00000000e+00\n",
      "  0.00000000e+00  0.00000000e+00  0.00000000e+00  0.00000000e+00\n",
      "  0.00000000e+00  0.00000000e+00  0.00000000e+00  0.00000000e+00\n",
      "  0.00000000e+00  0.00000000e+00  0.00000000e+00  0.00000000e+00\n",
      "  0.00000000e+00  0.00000000e+00  0.00000000e+00  0.00000000e+00\n",
      "  0.00000000e+00  0.00000000e+00  0.00000000e+00  0.00000000e+00\n",
      "  0.00000000e+00  0.00000000e+00  0.00000000e+00  0.00000000e+00\n",
      "  0.00000000e+00  0.00000000e+00  0.00000000e+00  0.00000000e+00\n",
      "  0.00000000e+00  0.00000000e+00  0.00000000e+00  0.00000000e+00\n",
      "  0.00000000e+00  0.00000000e+00  0.00000000e+00  0.00000000e+00\n",
      "  0.00000000e+00  0.00000000e+00  0.00000000e+00  0.00000000e+00\n",
      "  0.00000000e+00  0.00000000e+00  0.00000000e+00  0.00000000e+00\n",
      "  0.00000000e+00  0.00000000e+00  0.00000000e+00  0.00000000e+00\n",
      "  0.00000000e+00  0.00000000e+00  0.00000000e+00  0.00000000e+00\n",
      "  0.00000000e+00  0.00000000e+00  0.00000000e+00  0.00000000e+00\n",
      "  0.00000000e+00  0.00000000e+00  0.00000000e+00  0.00000000e+00\n",
      "  0.00000000e+00  0.00000000e+00  0.00000000e+00  0.00000000e+00\n",
      "  0.00000000e+00  0.00000000e+00  0.00000000e+00  0.00000000e+00\n",
      "  0.00000000e+00  0.00000000e+00  0.00000000e+00  0.00000000e+00\n",
      "  0.00000000e+00  0.00000000e+00  0.00000000e+00  0.00000000e+00\n",
      "  0.00000000e+00  0.00000000e+00  0.00000000e+00  0.00000000e+00\n",
      "  0.00000000e+00  0.00000000e+00  0.00000000e+00  0.00000000e+00\n",
      "  0.00000000e+00  0.00000000e+00  0.00000000e+00  0.00000000e+00]\n",
      "\n",
      "TS_vs_E2dfde_all_w_model_bins=10000000.png\n",
      "DONE\n"
     ]
    },
    {
     "data": {
      "image/png": "[encoded data removed]",
      "text/plain": [
       "<Figure size 700x600 with 1 Axes>"
      ]
     },
     "metadata": {},
     "output_type": "display_data"
    }
   ],
   "source": [
    "e2dfde = all_e_UL[1]\n",
    "# plt.style.use('default')\n",
    "font = {'family': 'serif',\n",
    "        'weight': 'bold',\n",
    "        'size': 22,\n",
    "        'color':  'black',\n",
    "        }\n",
    "smallerfont = {'family': 'serif',\n",
    "        'color':  'black',\n",
    "        'weight': 'bold',\n",
    "        'size': 15,\n",
    "        }\n",
    "\n",
    "axesfont = {'family': 'serif',\n",
    "        'color':  'black',\n",
    "        'weight': 'normal',\n",
    "        'size': 17,\n",
    "        }\n",
    "minor_x_array=np.logspace(-12,-6,50)\n",
    "fig, axs = plt.subplots(1,1, figsize=(7, 6))\n",
    "c_arr=['orange','firebrick','olivedrab','dodgerblue']\n",
    "# c_arr=['orange','firebrick','olivedrab','dodgerblue','magenta']\n",
    "if os.path.exists(os.getcwd() + \"/outputs3/stacking_TS_max1_1.txt\"):\n",
    "        os.remove(os.getcwd()+\"/outputs3/stacking_TS_max1_1.txt\")\n",
    "with open(os.getcwd()+\"/outputs3/stacking_TS_max1_1.txt\",\"a+\") as f:\n",
    "        \n",
    "        for gamma in [0, 1, 2,3]:#range(4):\n",
    "        \n",
    "        #     for i in range(1):\n",
    "                # axs.plot(e2dfde[gamma]/1e9, all_TSS[0][gamma], label='$\\Gamma$ = ' + str(gamma_arr[gamma]), lw=2.2,c=c_arr[gamma])# + ' with wt')    #in GeV\n",
    "                axs.plot(e2dfde[gamma]/1e9, all_TSS[1][gamma],  lw=2.2,c=c_arr[gamma])# + ' with wt')    #in GeV\n",
    "                all_TSS[1][gamma]=np.nan_to_num(all_TSS[1][gamma], nan=0.0)\n",
    "                # print(e2dfde[gamma][3]/1e9)\n",
    "                if gamma ==3:\n",
    "                        print(all_TSS[1][gamma] )\n",
    "                f.write(str(e2dfde[gamma][np.where(all_TSS[1][gamma]==np.max(all_TSS[1][gamma]))[0][0]]/1e9)+ \"    \"+str(np.max(all_TSS[1][gamma])) + '\\n')\n",
    "f.close()                \n",
    "        # axs.set_title('Weighting scheme: $\\mathsf{\\mathbf{w_{acc}}}$; $\\mathsf{\\mathbf{w_{model} = 1}}$', fontdict=smallerfont)\n",
    "# axs[1].set_title('Weighting scheme: $\\mathsf{\\mathbf{w_{acc}}}$; $\\mathsf{\\mathbf{w_{model} = \\dfrac{1}{d_{DM}^2}}}$' , fontdict=smallerfont)\n",
    "# axs[2].set_title('Weighting scheme: $\\mathsf{\\mathbf{w_{acc}}}$; $\\mathsf{\\mathbf{w_{model} = s_{1400}}}$', fontdict=smallerfont)\n",
    "# axs.axvspan(e2dfde_ic_low, e2dfde_ic_high, facecolor ='grey', alpha = 0.5,linewidth=3,label='$\\mu$ flux at 100 TeV(IceCube)') \n",
    "# axs.vlines(e2dfde_ic,  -55, 20, lw=2, color='grey')\n",
    "axs.axvspan(e2dfde_ic_low, e2dfde_ic_high, facecolor ='grey', alpha = 0.5,linewidth=3) \n",
    "axs.vlines(e2dfde_ic,  -55, 20, lw=2, color='grey')\n",
    "# for i in range(3):\n",
    "    \n",
    "# axs.text(1e-8,0.6,'95 % UPPER LIMIT $TS = -3.84$')    \n",
    "# axs.annotate('95 % UPPER LIMIT $TS = -3.84$',xy=(0.6,0.6),xytext=(0.8,0.8), arrowprops=dict(facecolor='black',shrink=0.6,width=2))\n",
    "axs.set_xlabel('$\\mathsf{{E^2_{\\u03BD} \\dfrac{dF}{dE_{\\u03BD}}}}$ ($\\mathsf{{GeV}}$ $\\mathsf{{s^{-1}}}$ $\\mathsf{{cm^{-2}}}$ $\\mathsf{{sr^{-1}}}$) at 100 TeV', fontdict=axesfont)\n",
    "axs.set_ylabel('TS', fontdict=axesfont)\n",
    "axs.xaxis.set_tick_params(labelsize=15)\n",
    "axs.yaxis.set_tick_params(labelsize=15)\n",
    "axs.tick_params(which='major', width=1.5, length=6,direction='in')\n",
    "axs.tick_params(which='minor', width=1.5, length=3,direction='in')\n",
    "axs.set_ylim(-55, 20)\n",
    "axs.set_xlim(0.95e-11, 3e-7)\n",
    "#axs.xaxis.set_minor_locator(AutoMinorLocator())\n",
    "axs.yaxis.set_minor_locator(AutoMinorLocator())\n",
    "axs.tick_params(which='minor', length=3, color='k')\n",
    "axs.tick_params(axis='x', which='minor', bottom=True,top=True)\n",
    "axs.tick_params(axis='x', which='major', bottom=True,top=True)\n",
    "axs.tick_params(axis='y', which='minor', right=True)\n",
    "axs.tick_params(axis='y', which='major', right=True)\n",
    "# axs.hlines(-3.84,  0.95e-11, 3e-7,linestyles='dashed', lw=1.7, ls='--', label='95 % Limit $TS = -3.84$', color='k')\n",
    "axs.hlines(-3.84,  0.95e-11, 3e-7,linestyles='dashed', lw=1.7, ls='--', color='k')\n",
    "axs.xaxis.set_minor_locator(FixedLocator(minor_x_array))\n",
    "axs.xaxis.set_minor_formatter(NullFormatter())\n",
    "#plt.suptitle('TS vs Total Neutrino Flux at 100 TeV', fontweight='bold', fontsize=16, fontfamily='serif')\n",
    "# axs.legend(prop={'size':12}, framealpha=0)\n",
    "axs.set_xscale('log')\n",
    "\n",
    "plt.tight_layout()\n",
    "plt.legend([orange_line, firebrick_line, olivedrab_line,dodgerblue_line,(yellow_patch, blue_dotted_line),\\\n",
    "dashed_line], ['$\\Gamma$ = -2.0', '$\\Gamma$ = -2.4','$\\Gamma$ = -2.53','$\\Gamma$ = -3.0',\\\n",
    "'$\\mu$ flux at 100 TeV','95 % Limit $TS = -3.84$'],fancybox=False,edgecolor=None,frameon=False,fontsize='large')\n",
    "plt.savefig(f'outputs3/fig4_3.pdf')\n",
    "# plt.show()\n",
    "print(f'\\nTS_vs_E2dfde_all_w_model_bins={len(enus)}.png\\nDONE')"
   ]
  },
  {
   "cell_type": "markdown",
   "metadata": {},
   "source": [
    "#### define the differential flux of neutrinos"
   ]
  },
  {
   "cell_type": "code",
   "execution_count": 78,
   "metadata": {},
   "outputs": [],
   "source": [
    "gama=list(np.random.normal(2.58,0.1,100))\n",
    "Phi=list(np.random.normal(1.68,0.2,100))\n",
    "all_e_UL = []\n",
    "e_decade = [1e13, 1e14, 1e15, 1e16, 1e17]\n",
    "x = np.logspace(13.2041, 15.41497, 50)\n",
    "x=list(x)\n",
    "# print(x)\n",
    "e2dfde = []\n",
    "e_UL_GeV=[]\n",
    "def model(xm,gm,ph):\n",
    "    '''\n",
    "    Parameters\n",
    "    ----------\n",
    "    e_nu : float\n",
    "        The neutrino energy in eV\n",
    "    \n",
    "    gamma : float\n",
    "        The spectral index of the neutrino flux\n",
    "    \n",
    "    phi0 : float (optional)\n",
    "        The normalization constant of the neutrino flux in eV^-1. The default is 1e-40.\n",
    "    \n",
    "    Returns\n",
    "    -------\n",
    "    float\n",
    "        The differential flux of neutrinos\n",
    "    '''\n",
    "    e2dfde = []\n",
    "    for e_UL in xm:\n",
    "    \n",
    "    # e_UL_GeV.append(e_UL*1e-9)\n",
    "    # for gamma in prange(len(gamma_arr)):\n",
    "    # temp = []\n",
    "    # for phi in range(len(phio)):\n",
    "    \n",
    "\n",
    "        e2dfde.append(3e-18*(e_UL*1e-9)**2 * ph * ((e_UL/(10**14))**(-1*gm)))        #in eV\n",
    "    # e2dfde.append(temp)\n",
    "    e2dfde = np.asarray(e2dfde)\n",
    "    return e2dfde      #eV^-1\n",
    "\n",
    "    # all_e_UL.append(e2dfde)"
   ]
  },
  {
   "cell_type": "markdown",
   "metadata": {},
   "source": [
    "## plot for the IceCube measurement"
   ]
  },
  {
   "cell_type": "code",
   "execution_count": 79,
   "metadata": {},
   "outputs": [],
   "source": [
    "ysample=np.asarray([model(x,gama[i],Phi[i]) for i in range(len(gama))])"
   ]
  },
  {
   "cell_type": "code",
   "execution_count": 80,
   "metadata": {},
   "outputs": [],
   "source": [
    "lower=np.percentile(ysample,(100-68.26)/2,axis=0)\n",
    "upper=np.percentile(ysample,(100-68.26)/2+68.26,axis=0)"
   ]
  },
  {
   "cell_type": "markdown",
   "metadata": {},
   "source": [
    "### plot the upper limits in form of the neutrino spectra"
   ]
  },
  {
   "cell_type": "code",
   "execution_count": 82,
   "metadata": {},
   "outputs": [
    {
     "name": "stdout",
     "output_type": "stream",
     "text": [
      "[array(4.84076424e-09), array(4.84076424e-09), array(4.84076424e-09), array(4.84076424e-09), array(4.84076424e-09)]\n",
      "[array(5.71311509e-09), array(2.27443209e-09), array(9.05467722e-10), array(3.60473193e-10), array(1.43506963e-10)]\n",
      "[array(5.16666351e-09), array(1.5247905e-09), array(4.4999758e-10), array(1.32803701e-10), array(3.91931508e-11)]\n",
      "[array(2.48303166e-09), array(2.48303166e-10), array(2.48303166e-11), array(2.48303166e-12), array(2.48303166e-13)]\n"
     ]
    },
    {
     "data": {
      "image/png": "[encoded data removed]",
      "text/plain": [
       "<Figure size 700x600 with 1 Axes>"
      ]
     },
     "metadata": {},
     "output_type": "display_data"
    }
   ],
   "source": [
    "fig, axs = plt.subplots(1,1, figsize=(7, 6))\n",
    "minor_y_array=np.logspace(-12,-6,50)\n",
    "for gamma in range(0, len(gamma_arr)):\n",
    "\n",
    "    axs.plot(np.divide(e_decade, 1e9), np.multiply(all_UL[1][gamma], 3), label='$\\Gamma$ = ' + str(gamma_arr[gamma]), lw=2.2, ls='-',c=c_arr[gamma])# + ' with wt')    #in GeV\n",
    "    print(all_UL[1][gamma])\n",
    "\n",
    "axs.set_xlabel('E$_{\\u03BD}$ (GeV)', fontdict=axesfont)\n",
    "axs.set_ylabel('$\\mathsf{{E^2_{\\u03BD} \\dfrac{dF}{dE_{\\u03BD}}}}$ ($\\mathsf{{GeV}}$ $\\mathsf{{s^{-1}}}$ $\\mathsf{{cm^{-2}}}$ $\\mathsf{{sr^{-1}}}$) at 100 TeV', fontdict=axesfont)\n",
    "axs.xaxis.set_tick_params(labelsize=15)\n",
    "axs.yaxis.set_tick_params(labelsize=15)\n",
    "axs.tick_params(which='major', width=1.5, length=6,direction='in')\n",
    "axs.tick_params(which='minor', width=1.5, length=3,direction='in')\n",
    "\n",
    "#axs.xaxis.set_minor_locator(AutoMinorLocator())\n",
    "axs.yaxis.set_minor_locator(AutoMinorLocator())\n",
    "axs.tick_params(which='minor', length=3, color='k')\n",
    "# axs.set_xscale('log')\n",
    "axs.tick_params(axis='x', which='minor', bottom=True,top=True)\n",
    "axs.tick_params(axis='x', which='major', bottom=True,top=True)\n",
    "axs.tick_params(axis='y', which='minor', right=True)\n",
    "axs.tick_params(axis='y', which='major', right=True)\n",
    "# axs.yaxis.set_minor_locator(FixedLocator(minor_y_array))\n",
    "# axs.yaxis.set_minor_formatter(NullFormatter())\n",
    "axs.legend(prop={'size':14}, framealpha=0, loc='lower left')\n",
    "\n",
    "#x = np.linspace(e_decade[:-2][0], e_decade[1:-1][-1], 11)\n",
    "# x=x*1e-9\n",
    "# y = [3.9, 4.4, 10.8, 10.3, 11.2, 13.1, 14.1,  9.9, 13.9, 15.1, 12.5]\n",
    "\n",
    "# fit a linear curve and estimate its y-values and their error.\n",
    "# a, b = np.polyfit(x, y, deg=1)\n",
    "# y_est = 3e-18*x*x*1.66* np.divide(x,1e5)**(-2.53)\n",
    "# y_est_up =3e-18*x*x*1.91* np.divide(x,1e5)**(-2.60)\n",
    "# y_est_low =3e-18*x*x*1.39* np.divide(x,1e5)**(-2.46)\n",
    "# y_err = np.divide(x, 1e9).std() * np.sqrt(1/len(x) +\n",
    "#                           (np.divide(x, 1e9) - np.divide(x, 1e9).mean())**2 / np.sum((np.divide(x, 1e9) - np.divide(x, 1e9).mean())**2))\n",
    "\n",
    "\n",
    "axs.plot(np.divide(x,1e9), model(x,2.53,1.66), '-',c='grey',linewidth=2)\n",
    "\n",
    "# axs.plot(x, y_est_low, '-',c='grey',linewidth=1)\n",
    "# axs.plot(x, y_est_up, '-',c='grey',linewidth=1)\n",
    "axs.fill_between(np.divide(x,1e9),lower, upper, color='grey',alpha=0.7,label='$\\\\nu$ flux(IceCube)')\n",
    "# axs.fill_between(x, y_est - y_err, y_est + y_err, alpha=0.2)\n",
    "\n",
    "# axs.plot(x, y, 'o', color='tab:brown')\n",
    "# axs[0].set_title('Weighting scheme: $\\mathsf{\\mathbf{w_{acc}}}$; $\\mathsf{\\mathbf{w_{model} = 1}}$', fontdict=smallerfont)\n",
    "# axs[1].set_title('Weighting scheme: $\\mathsf{\\mathbf{w_{acc}}}$; $\\mathsf{\\mathbf{w_{model} = \\dfrac{1}{d_{DM}^2}}}$' , fontdict=smallerfont)\n",
    "# axs[2].set_title('Weighting scheme: $\\mathsf{\\mathbf{w_{acc}}}$; $\\mathsf{\\mathbf{w_{model} = s_{1400}}}$', fontdict=smallerfont)\n",
    "axs.legend(prop={'size':12}, framealpha=0)\n",
    "\n",
    "# axs.set_ylim(4e-9, 3e-7)\n",
    "# axs.set_xlim(1e4, 1e8)\n",
    "axs.set_xscale('log')\n",
    "axs.set_yscale('log')\n",
    "# plt.suptitle('95% UL of Total Energy Flux vs Neutrino Energy', fontweight='bold', fontsize=20, fontfamily='serif')\n",
    "plt.tight_layout()\n",
    "plt.legend([orange_line, firebrick_line, olivedrab_line,dodgerblue_line,(yellow_patch, blue_dotted_line)],\\\n",
    "    ['$\\Gamma$ = -2.0', '$\\Gamma$ = -2.4','$\\Gamma$ = -2.53','$\\Gamma$ = -3.0','$\\mu$ flux at 100 TeV'],  fancybox=False,edgecolor=None,frameon=False,fontsize='large')\n",
    "plt.savefig(f'outputs3/fig4_4.pdf')\n",
    "plt.show()\n"
   ]
  },
  {
   "cell_type": "code",
   "execution_count": 291,
   "metadata": {},
   "outputs": [
    {
     "data": {
      "text/plain": [
       "array([5.62481299e+10, 1.66000000e+10, 4.89900732e+09, 1.44579956e+09,\n",
       "       4.26685700e+08])"
      ]
     },
     "execution_count": 291,
     "metadata": {},
     "output_type": "execute_result"
    }
   ],
   "source": [
    "np.divide(e_decade, 1e9)*np.divide(e_decade, 1e9)*1.66*np.divide(e_decade,1e14)**-2.53"
   ]
  },
  {
   "cell_type": "code",
   "execution_count": 294,
   "metadata": {},
   "outputs": [],
   "source": [
    "# e2dfde = all_e_UL[1]\n",
    "# plttitles = ['$w_{acc}$ and $w_{model} = 1$', '$w_{acc}$ and $w_{model} = \\dfrac{1}{d_{DM}^2}$', '$w_{acc}$ and $w_{model} =  w_{s1400}$']\n",
    "\n",
    "#         # print(st.t.interval(0.95, len(all_TSS[i][j])-1, loc=np.mean(all_TSS[i][j]), scale=st.sem(all_TSS[i][j])))\n",
    "# for i in range(1, 4):\n",
    "#     plt.figure(figsize=(8, 6))\n",
    "#     for j in range(1, len(gamma_arr)):\n",
    "#         plt.plot(e2dfde[j]/1e9, all_TSS[i][j], label='$\\Gamma$ = ' + str(gamma_arr[j]), lw=0.8)\n",
    "#         # ci = st.t.interval(0.95, len(all_TSS[i][j])-1, loc=np.mean(all_TSS[i][j]), scale=st.sem(all_TSS[i][j]))\n",
    "#         # plt.hlines(ci, 1e-19, 1e-6, colors='k', linestyles='dashed', lw=0.5, ls='-.', label=\"95% CI \"+ '$\\Gamma$ = ' + str(gamma_arr[j]))\n",
    "\n",
    "#     plt.hlines(-3.84, 1e-19, 1e-6, linestyles='dashed', lw=0.7, ls='-.', label='95 % UPPER LIMIT $TS = -3.84$')\n",
    "#     # plt.vlines(dist_g25(-3.84), -120, 50, linestyles='dashed', lw=0.5, ls='-.')\n",
    "#     plt.legend()\n",
    "#     plt.xscale('log')\n",
    "#     # plt.yscale('log')\n",
    "#     plt.xlabel(\"$E^2_{\\u03BD} \\dfrac{dF}{dE_{\\u03BD}}$ (GeV)\")\n",
    "#     plt.ylabel(r'$TS$')\n",
    "#     plt.ylim(-200, 50)\n",
    "#     plt.title(\"TS vs Total Neutrino Flux at 100 TeV\\nWeighting scheme: \" + plttitles[i-1])\n",
    "#     plt.savefig(os.getcwd() + f'/outputs/TSvsE2dFdE_ws_{i}.png', facecolor='w')\n",
    "#     plt.show()"
   ]
  },
  {
   "cell_type": "markdown",
   "metadata": {},
   "source": [
    "#### save the  95\\% upper limits into text files."
   ]
  },
  {
   "cell_type": "code",
   "execution_count": 83,
   "metadata": {},
   "outputs": [],
   "source": [
    "with open (os.getcwd()+'/outputs3/UL_values1_1.txt', 'a+') as f:\n",
    "    for i in range(len(gamma_arr)):\n",
    "        f.write(str(gamma_arr[i])+' '+str(all_UL[1][i][1])+'\\n')\n",
    "f.close()  "
   ]
  },
  {
   "cell_type": "markdown",
   "metadata": {},
   "source": [
    "#### calculate the average of the  percentage"
   ]
  },
  {
   "cell_type": "code",
   "execution_count": 84,
   "metadata": {},
   "outputs": [],
   "source": [
    "aver=np.average(np.array([49.6,24.4,16.5,2.72,0.25]))"
   ]
  },
  {
   "cell_type": "code",
   "execution_count": 85,
   "metadata": {},
   "outputs": [
    {
     "name": "stdout",
     "output_type": "stream",
     "text": [
      "18.694\n"
     ]
    }
   ],
   "source": [
    "print(aver)"
   ]
  },
  {
   "cell_type": "code",
   "execution_count": 86,
   "metadata": {},
   "outputs": [
    {
     "name": "stdout",
     "output_type": "stream",
     "text": [
      "19.6775\n"
     ]
    }
   ],
   "source": [
    "aver1=np.average(np.array([49.4,24.2,4.84,0.27]))\n",
    "print(aver1)"
   ]
  },
  {
   "cell_type": "code",
   "execution_count": 125,
   "metadata": {},
   "outputs": [
    {
     "data": {
      "text/plain": [
       "2.2220724989999997e-19"
      ]
     },
     "execution_count": 125,
     "metadata": {},
     "output_type": "execute_result"
    }
   ],
   "source": [
    "np.average(np.array([4.84076424e-19,2.27443209e-19,1.5247905e-19,2.48303166e-20]))"
   ]
  },
  {
   "cell_type": "code",
   "execution_count": null,
   "metadata": {},
   "outputs": [],
   "source": []
  }
 ],
 "metadata": {
  "kernelspec": {
   "display_name": "Python 3 (ipykernel)",
   "language": "python",
   "name": "python3"
  },
  "language_info": {
   "codemirror_mode": {
    "name": "ipython",
    "version": 3
   },
   "file_extension": ".py",
   "mimetype": "text/x-python",
   "name": "python",
   "nbconvert_exporter": "python",
   "pygments_lexer": "ipython3",
   "version": "3.8.2"
  }
 },
 "nbformat": 4,
 "nbformat_minor": 4
}
